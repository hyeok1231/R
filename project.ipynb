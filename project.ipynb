{
 "cells": [
  {
   "cell_type": "markdown",
   "id": "b8435ae9-ad24-489d-ae83-eb4c8996b5e7",
   "metadata": {},
   "source": [
    "#폐업 수정 전 코드 \n",
    "#current_location()은 타 사이트트애서 현재 사용자의 위치정보를 받아오는 함수이다.\n",
    "#타 사이트에서 사용자의 현재 위치를 제대로 받아오지 못한경우 에러를 출력하고, 제대로 가져왔다면 lat와 lng를 실수타입으로 받아서 'lat':위도 'lng': 경도 라는 crd 딕셔너일로 받음.. \n",
    "#사용자의 경위도는 lat, lng로 , 다른 데이터 파일의 경우에는 lat1, lng1로 받을 것임.\n",
    "import requests, json \n",
    "def current_location():\n",
    "    here_req = requests.get(\"http://www.geoplugin.net/json.gp\")\n",
    "\n",
    "    if (here_req.status_code != 200):\n",
    "        print(\"현재좌표를 불러올 수 없음\")\n",
    "    else:\n",
    "        location = json.loads(here_req.text)\n",
    "        crd = {\"lat\": float(location[\"geoplugin_latitude\"]), \"lng\": float(location[\"geoplugin_longitude\"])}\n",
    "    return crd\n",
    "crd = current_location()\n",
    "#라이브러리 불러옴\n",
    "#current_location()에서 받아온 사용자의 위치정보를 지도 중심으로 설정하고, 줌을 설정하는 코드\n",
    "import folium\n",
    "import pandas as pd\n",
    "map_center = folium.Map(location= (crd['lat'], crd['lng']) , zoom_start=11)\n",
    "\n",
    "#이 코드는 확인 코드로, 어떤 데이터 파일이 아래 start_center코드에서 사용됐는지 확인 할 수 있는 코드.\n",
    "\n",
    "def config_thisdef(num):\n",
    "    if num == 1:\n",
    "        pd.set_option('display.max_rows', None)\n",
    "        df = pd.read_csv('C:/Users/김동혁/hyeok python/project file/emer.csv', encoding = 'cp949')\n",
    "        kd=df.drop(['업무구분명','소재지도로명주소','소재지지번주소','소재지우편번호','응급의료지원센터여부','전문응급의료센터여부','전문응급센터전문분야','권역외상센터여부','지역외상센터여부'],axis=1)\n",
    "        print(kd)\n",
    "    elif num == 2:\n",
    "        pd.set_option('display.max_rows', None)\n",
    "        df = pd.read_csv('C:/Users/김동혁/hyeok python/project file/care_center.csv', encoding = 'cp949')\n",
    "        kd=df.drop(['인허가일자','인허가취소일자',\t'영업상태구분코드',\t'영업상태명','폐업일자','소재지면적정보','도로명우편번호','소재지도로명주소','소재지지번주소','소재지우편번호','업태구분명정보',\t'X좌표값',\t'Y좌표값',\t'임산부정원수','영유아정원(명)','임산부실면적(㎡)','영유아실면적(㎡)','모유수유실면적(㎡)','급식시설면적(㎡)','세탁실면적(㎡)','목욕실면적','조리원화장실면적(㎡)','사무실면적(㎡)','간호사수(명)', '간호조무사수(명)','영양사수(명)',\t'취사부수(명)',\t'미화원수(명)',\t'기타인원수',\t'건물층수',\t'지상층수',\t'지하층수'],axis=1)\n",
    "        print(kd)  \n",
    "    elif num == 3:\n",
    "        pd.set_option('display.max_rows', None)\n",
    "        df = pd.read_csv('C:/Users/김동혁/hyeok python/project file/public_med.csv', encoding = 'cp949')\n",
    "        kd=df.drop(['소재지지번주소',\t'소재지도로명주소',\t'소재지우편번호','홈페이지URL','비고'],axis=1)\n",
    "        print(kd)\n",
    "    elif num == 4:\n",
    "        pd.set_option('display.max_rows', None)\n",
    "        df = pd.read_csv('C:/Users/김동혁/hyeok python/project file/medic.csv', encoding = 'cp949')\n",
    "        kd=df.drop(['소재지우편번호',\t'소재지도로명주소',\t'소재지지번주소',\t'인허가일자','영업상태명','폐업일자',\t'의료기관종별명',\t'병상수(개)',\t'의료인수(명)',\t'입원실수(개)', '진료과목내용','연면적(㎡)'],axis=1)\n",
    "        print(kd)\n",
    "    elif num ==5:\n",
    "        pd.set_option('display.max_rows', None)\n",
    "        df = pd.read_csv('C:/Users/김동혁/hyeok python/project file/mental.csv', encoding = 'cp949')\n",
    "        kd=df.drop(['소재지우편번호',\t'소재지지번주소',\t'소재지도로명주소'], axis=1)\n",
    "        print(kd)\n",
    "\n",
    "\n",
    "# 위 데이터 파일들은 본인이 직접 폐업처리된 기관들을 한번 걸러낸 후 그 파일을 불러와서 사용하고 있음.  \n",
    "#각 기관에 해당되는 단축키를 입력받고, 그 번호에 해당하는 기관들을 보여주는 지도를 생성하는 코드로, 입력받은 단축키를 조건문으로 각 기관에 맞게 보여주도록 코드를 구성함\n",
    "#생략되는 행이 없도록 파일을 불러온 뒤, df의 열 갯수만큼 경도, 위도, 기곤명, 번호를 읽어옴\n",
    "#folium을 이용하여 그 경위도에 마킹하며, 이름과 번호는 인덱스 처리함.\n",
    "#예외, 단 4번의 경우 전화번호가 데이터에 등록되어 있지 않아 변수 하나를 제거함.\n",
    "\n",
    "\n",
    "\n",
    "def start_center(num):\n",
    "    if num == 1:\n",
    "        pd.set_option('display.max_rows', None)\n",
    "        df = pd.read_csv('C:/Users/김동혁/hyeok python/project file/emer.csv', encoding = 'cp949')\n",
    "        \n",
    "        for item in range(len(df)):\n",
    "            latitude = df['lat1'][item]\n",
    "            longitude = df['lng1'][item]\n",
    "            name = str(df['Name'][item])\n",
    "            callNum = df['callNum'][item]\n",
    "            marker = folium.Marker([latitude, longitude], popup=(name,callNum) )\n",
    "            marker.add_to(map_center)\n",
    "        return map_center\n",
    "        \n",
    "    elif num == 2:\n",
    "        pd.set_option('display.max_rows', None)\n",
    "        df = pd.read_csv('C:/Users/김동혁/hyeok python/project file/care_center.csv', encoding = 'cp949')\n",
    "        for item in range(len(df)):\n",
    "            latitude = df['lat1'][item]\n",
    "            longitude = df['lng1'][item]\n",
    "            name = str(df['Name'][item])\n",
    "            callNum = df['callNum'][item]\n",
    "            marker = folium.Marker([latitude, longitude], popup=(name,callNum) )\n",
    "            marker.add_to(map_center)\n",
    "        return map_center\n",
    "    \n",
    "    elif num == 3:\n",
    "        pd.set_option('display.max_rows', None)\n",
    "        df = pd.read_csv('C:/Users/김동혁/hyeok python/project file/public_med.csv', encoding = 'cp949')\n",
    "        for item in range(len(df)):\n",
    "            latitude = df['lat1'][item]\n",
    "            longitude = df['lng1'][item]\n",
    "            name = str(df['Name'][item])\n",
    "            callNum = df['callNum'][item]\n",
    "            marker = folium.Marker([latitude, longitude], popup=(name,callNum) )\n",
    "            marker.add_to(map_center)\n",
    "        return map_center\n",
    "    \n",
    "    elif num == 4:\n",
    "        pd.set_option('display.max_rows', None)\n",
    "        df = pd.read_csv('C:/Users/김동혁/hyeok python/project file/medic.csv', encoding = 'cp949')\n",
    "        for item in range(len(df)):\n",
    "            latitude = df['lat1'][item]\n",
    "            longitude = df['lng1'][item]\n",
    "            name = str(df['Name'][item])\n",
    "            marker = folium.Marker([latitude, longitude], popup=(name) )\n",
    "            marker.add_to(map_center)\n",
    "        return map_center\n",
    "    elif num ==5:\n",
    "        pd.set_option('display.max_rows', None)\n",
    "        df = pd.read_csv('C:/Users/김동혁/hyeok python/project file/mental.csv', encoding = 'cp949')\n",
    "        for item in range(len(df)):\n",
    "            latitude = df['lat1'][item]\n",
    "            longitude = df['lng1'][item]\n",
    "            name = str(df['Name'][item])\n",
    "            callNum = df['callNum'][item]\n",
    "            marker = folium.Marker([latitude, longitude], popup=(name,callNum) )\n",
    "            marker.add_to(map_center)\n",
    "        return map_center\n",
    "\n",
    "        \n",
    "\n",
    "#입력받기\n",
    "num = int(input('응급의료시설 : 1\\n산후조리원 :2\\n보건소 :3\\n병원 :4\\n정신상담센터 :5 \\n원하시는 번호를 입력해주세요: '))\n",
    "\n",
    "start_center(num)\n",
    "#config_thisdef(num)\n"
   ]
  },
  {
   "cell_type": "code",
   "execution_count": 174,
   "id": "0f6e6af6-0e53-4b01-a85a-7f0116b7b66b",
   "metadata": {},
   "outputs": [
    {
     "name": "stdin",
     "output_type": "stream",
     "text": [
      "응급의료시설 : 1\n",
      "산후조리원 :2\n",
      "병원 :3\n",
      "산부인과 :4\n",
      "보건소 :5 \n",
      "정신건강센터 :6\n",
      "개발자모드:7\n",
      "단축키를 입력해주세요:  7\n",
      "insert num 1~6 3\n"
     ]
    },
    {
     "data": {
      "text/html": [
       "<div>\n",
       "<style scoped>\n",
       "    .dataframe tbody tr th:only-of-type {\n",
       "        vertical-align: middle;\n",
       "    }\n",
       "\n",
       "    .dataframe tbody tr th {\n",
       "        vertical-align: top;\n",
       "    }\n",
       "\n",
       "    .dataframe thead th {\n",
       "        text-align: right;\n",
       "    }\n",
       "</style>\n",
       "<table border=\"1\" class=\"dataframe\">\n",
       "  <thead>\n",
       "    <tr style=\"text-align: right;\">\n",
       "      <th></th>\n",
       "      <th>시군명</th>\n",
       "      <th>사업장명</th>\n",
       "      <th>영업상태명</th>\n",
       "      <th>소재지시설전화번호</th>\n",
       "      <th>위도</th>\n",
       "      <th>경도</th>\n",
       "    </tr>\n",
       "  </thead>\n",
       "  <tbody>\n",
       "    <tr>\n",
       "      <th>0</th>\n",
       "      <td>가평군</td>\n",
       "      <td>노체리안드리자애병원</td>\n",
       "      <td>영업중</td>\n",
       "      <td>031-589-0301</td>\n",
       "      <td>37.884883</td>\n",
       "      <td>127.351696</td>\n",
       "    </tr>\n",
       "    <tr>\n",
       "      <th>1</th>\n",
       "      <td>가평군</td>\n",
       "      <td>에이치제이매그놀리아국제병원</td>\n",
       "      <td>영업중</td>\n",
       "      <td>031-589-4300</td>\n",
       "      <td>37.691127</td>\n",
       "      <td>127.521381</td>\n",
       "    </tr>\n",
       "    <tr>\n",
       "      <th>2</th>\n",
       "      <td>가평군</td>\n",
       "      <td>청평우리병원</td>\n",
       "      <td>영업중</td>\n",
       "      <td>031-585-5115</td>\n",
       "      <td>37.737202</td>\n",
       "      <td>127.415310</td>\n",
       "    </tr>\n",
       "    <tr>\n",
       "      <th>3</th>\n",
       "      <td>가평군</td>\n",
       "      <td>청평활명요양병원</td>\n",
       "      <td>영업중</td>\n",
       "      <td>031-584-0545</td>\n",
       "      <td>37.663666</td>\n",
       "      <td>127.387660</td>\n",
       "    </tr>\n",
       "    <tr>\n",
       "      <th>4</th>\n",
       "      <td>고양시</td>\n",
       "      <td>고양정신병원</td>\n",
       "      <td>영업중</td>\n",
       "      <td>031 969 0885</td>\n",
       "      <td>37.711499</td>\n",
       "      <td>126.854566</td>\n",
       "    </tr>\n",
       "    <tr>\n",
       "      <th>5</th>\n",
       "      <td>고양시</td>\n",
       "      <td>그레이스병원</td>\n",
       "      <td>영업중</td>\n",
       "      <td>031-901-4000</td>\n",
       "      <td>37.644761</td>\n",
       "      <td>126.785092</td>\n",
       "    </tr>\n",
       "    <tr>\n",
       "      <th>6</th>\n",
       "      <td>고양시</td>\n",
       "      <td>늘푸른병원</td>\n",
       "      <td>영업중</td>\n",
       "      <td>031 967 9966</td>\n",
       "      <td>37.663622</td>\n",
       "      <td>126.840116</td>\n",
       "    </tr>\n",
       "    <tr>\n",
       "      <th>7</th>\n",
       "      <td>고양시</td>\n",
       "      <td>동원요양병원</td>\n",
       "      <td>영업중</td>\n",
       "      <td>031-850-7000</td>\n",
       "      <td>37.672956</td>\n",
       "      <td>126.778007</td>\n",
       "    </tr>\n",
       "    <tr>\n",
       "      <th>8</th>\n",
       "      <td>고양시</td>\n",
       "      <td>든든한병원</td>\n",
       "      <td>영업중</td>\n",
       "      <td>031-930-6800</td>\n",
       "      <td>37.699074</td>\n",
       "      <td>126.755895</td>\n",
       "    </tr>\n",
       "    <tr>\n",
       "      <th>9</th>\n",
       "      <td>고양시</td>\n",
       "      <td>라엘마음병원</td>\n",
       "      <td>영업중</td>\n",
       "      <td>031-978-5454</td>\n",
       "      <td>37.627532</td>\n",
       "      <td>126.828910</td>\n",
       "    </tr>\n",
       "    <tr>\n",
       "      <th>10</th>\n",
       "      <td>고양시</td>\n",
       "      <td>로하스일산요양병원</td>\n",
       "      <td>영업중</td>\n",
       "      <td>031-976-2200</td>\n",
       "      <td>37.684990</td>\n",
       "      <td>126.775191</td>\n",
       "    </tr>\n",
       "    <tr>\n",
       "      <th>11</th>\n",
       "      <td>고양시</td>\n",
       "      <td>로하스클로버요양병원</td>\n",
       "      <td>영업중</td>\n",
       "      <td>031-967-5050</td>\n",
       "      <td>37.657379</td>\n",
       "      <td>126.837485</td>\n",
       "    </tr>\n",
       "    <tr>\n",
       "      <th>12</th>\n",
       "      <td>고양시</td>\n",
       "      <td>리빙웰치과병원</td>\n",
       "      <td>영업중</td>\n",
       "      <td>031 916 8020</td>\n",
       "      <td>37.670640</td>\n",
       "      <td>126.759161</td>\n",
       "    </tr>\n",
       "    <tr>\n",
       "      <th>13</th>\n",
       "      <td>고양시</td>\n",
       "      <td>린치과병원</td>\n",
       "      <td>영업중</td>\n",
       "      <td>031-974-2828</td>\n",
       "      <td>37.633997</td>\n",
       "      <td>126.830873</td>\n",
       "    </tr>\n",
       "    <tr>\n",
       "      <th>14</th>\n",
       "      <td>고양시</td>\n",
       "      <td>메디누리요양병원</td>\n",
       "      <td>영업중</td>\n",
       "      <td>031-925-7575</td>\n",
       "      <td>37.691944</td>\n",
       "      <td>126.762987</td>\n",
       "    </tr>\n",
       "    <tr>\n",
       "      <th>15</th>\n",
       "      <td>고양시</td>\n",
       "      <td>무지개요양병원</td>\n",
       "      <td>영업중</td>\n",
       "      <td>031-916-1122</td>\n",
       "      <td>37.696688</td>\n",
       "      <td>126.739358</td>\n",
       "    </tr>\n",
       "    <tr>\n",
       "      <th>16</th>\n",
       "      <td>고양시</td>\n",
       "      <td>사과나무치과병원</td>\n",
       "      <td>영업중</td>\n",
       "      <td>031 913 9000</td>\n",
       "      <td>37.671256</td>\n",
       "      <td>126.759597</td>\n",
       "    </tr>\n",
       "    <tr>\n",
       "      <th>17</th>\n",
       "      <td>고양시</td>\n",
       "      <td>서울메이치과병원</td>\n",
       "      <td>영업중</td>\n",
       "      <td>031-973-6004</td>\n",
       "      <td>37.633630</td>\n",
       "      <td>126.833173</td>\n",
       "    </tr>\n",
       "    <tr>\n",
       "      <th>18</th>\n",
       "      <td>고양시</td>\n",
       "      <td>연세서울병원</td>\n",
       "      <td>영업중</td>\n",
       "      <td>0319079920</td>\n",
       "      <td>37.653798</td>\n",
       "      <td>126.777206</td>\n",
       "    </tr>\n",
       "    <tr>\n",
       "      <th>19</th>\n",
       "      <td>고양시</td>\n",
       "      <td>연세플라워치과병원</td>\n",
       "      <td>영업중</td>\n",
       "      <td>031-917-4009</td>\n",
       "      <td>37.657087</td>\n",
       "      <td>126.774136</td>\n",
       "    </tr>\n",
       "    <tr>\n",
       "      <th>20</th>\n",
       "      <td>고양시</td>\n",
       "      <td>연세항맥병원</td>\n",
       "      <td>영업중</td>\n",
       "      <td>031-925-0667</td>\n",
       "      <td>37.670578</td>\n",
       "      <td>126.762132</td>\n",
       "    </tr>\n",
       "    <tr>\n",
       "      <th>21</th>\n",
       "      <td>고양시</td>\n",
       "      <td>의료법인 세경의료재단 새빛안과병원</td>\n",
       "      <td>영업중</td>\n",
       "      <td>031-900-7700</td>\n",
       "      <td>37.644260</td>\n",
       "      <td>126.785743</td>\n",
       "    </tr>\n",
       "    <tr>\n",
       "      <th>22</th>\n",
       "      <td>고양시</td>\n",
       "      <td>의료법인사과나무의료재단 중산사과나무치과병원</td>\n",
       "      <td>영업중</td>\n",
       "      <td>0319770123</td>\n",
       "      <td>37.681790</td>\n",
       "      <td>126.780769</td>\n",
       "    </tr>\n",
       "    <tr>\n",
       "      <th>23</th>\n",
       "      <td>고양시</td>\n",
       "      <td>이푸른요양병원</td>\n",
       "      <td>영업중</td>\n",
       "      <td>031-932-3338</td>\n",
       "      <td>37.647596</td>\n",
       "      <td>126.782911</td>\n",
       "    </tr>\n",
       "    <tr>\n",
       "      <th>24</th>\n",
       "      <td>고양시</td>\n",
       "      <td>일산리더스요양병원</td>\n",
       "      <td>영업중</td>\n",
       "      <td>031-962-0050</td>\n",
       "      <td>37.674557</td>\n",
       "      <td>126.807520</td>\n",
       "    </tr>\n",
       "    <tr>\n",
       "      <th>25</th>\n",
       "      <td>고양시</td>\n",
       "      <td>일산메디안요양병원</td>\n",
       "      <td>영업중</td>\n",
       "      <td>913-3119</td>\n",
       "      <td>37.676213</td>\n",
       "      <td>126.748276</td>\n",
       "    </tr>\n",
       "    <tr>\n",
       "      <th>26</th>\n",
       "      <td>고양시</td>\n",
       "      <td>일산사랑요양병원</td>\n",
       "      <td>영업중</td>\n",
       "      <td>031-901-8119</td>\n",
       "      <td>37.644748</td>\n",
       "      <td>126.784457</td>\n",
       "    </tr>\n",
       "    <tr>\n",
       "      <th>27</th>\n",
       "      <td>고양시</td>\n",
       "      <td>일산아르고요양병원</td>\n",
       "      <td>영업중</td>\n",
       "      <td>031-976-1844</td>\n",
       "      <td>37.675003</td>\n",
       "      <td>126.787059</td>\n",
       "    </tr>\n",
       "    <tr>\n",
       "      <th>28</th>\n",
       "      <td>고양시</td>\n",
       "      <td>일산이십일세기병원</td>\n",
       "      <td>영업중</td>\n",
       "      <td>031-909-9600</td>\n",
       "      <td>37.643929</td>\n",
       "      <td>126.786165</td>\n",
       "    </tr>\n",
       "    <tr>\n",
       "      <th>29</th>\n",
       "      <td>고양시</td>\n",
       "      <td>일산자애병원</td>\n",
       "      <td>영업중</td>\n",
       "      <td>031-919-9942</td>\n",
       "      <td>37.663669</td>\n",
       "      <td>126.765715</td>\n",
       "    </tr>\n",
       "    <tr>\n",
       "      <th>30</th>\n",
       "      <td>고양시</td>\n",
       "      <td>일산하이병원</td>\n",
       "      <td>영업중</td>\n",
       "      <td>031-1522-1275</td>\n",
       "      <td>37.682553</td>\n",
       "      <td>126.780601</td>\n",
       "    </tr>\n",
       "    <tr>\n",
       "      <th>31</th>\n",
       "      <td>고양시</td>\n",
       "      <td>일산한울요양병원</td>\n",
       "      <td>영업중</td>\n",
       "      <td>031-975-3700</td>\n",
       "      <td>37.685299</td>\n",
       "      <td>126.777184</td>\n",
       "    </tr>\n",
       "    <tr>\n",
       "      <th>32</th>\n",
       "      <td>고양시</td>\n",
       "      <td>일산현대요양병원</td>\n",
       "      <td>영업중</td>\n",
       "      <td>031 922 7575</td>\n",
       "      <td>37.676547</td>\n",
       "      <td>126.798044</td>\n",
       "    </tr>\n",
       "    <tr>\n",
       "      <th>33</th>\n",
       "      <td>고양시</td>\n",
       "      <td>일산호수요양병원</td>\n",
       "      <td>영업중</td>\n",
       "      <td>031-903-8275</td>\n",
       "      <td>37.659707</td>\n",
       "      <td>126.767829</td>\n",
       "    </tr>\n",
       "    <tr>\n",
       "      <th>34</th>\n",
       "      <td>고양시</td>\n",
       "      <td>제이요양병원</td>\n",
       "      <td>영업중</td>\n",
       "      <td>977-8101~4</td>\n",
       "      <td>37.682457</td>\n",
       "      <td>126.780983</td>\n",
       "    </tr>\n",
       "    <tr>\n",
       "      <th>35</th>\n",
       "      <td>고양시</td>\n",
       "      <td>차연한방병원</td>\n",
       "      <td>영업중</td>\n",
       "      <td>031-816-1010</td>\n",
       "      <td>37.663071</td>\n",
       "      <td>126.771129</td>\n",
       "    </tr>\n",
       "    <tr>\n",
       "      <th>36</th>\n",
       "      <td>고양시</td>\n",
       "      <td>척사랑병원</td>\n",
       "      <td>영업중</td>\n",
       "      <td>1522-7585</td>\n",
       "      <td>37.671149</td>\n",
       "      <td>126.759870</td>\n",
       "    </tr>\n",
       "    <tr>\n",
       "      <th>37</th>\n",
       "      <td>고양시</td>\n",
       "      <td>카프성모병원</td>\n",
       "      <td>영업중</td>\n",
       "      <td>031-810-9200</td>\n",
       "      <td>37.645157</td>\n",
       "      <td>126.791062</td>\n",
       "    </tr>\n",
       "    <tr>\n",
       "      <th>38</th>\n",
       "      <td>고양시</td>\n",
       "      <td>허유재병원</td>\n",
       "      <td>영업중</td>\n",
       "      <td>031-817-1100</td>\n",
       "      <td>37.662929</td>\n",
       "      <td>126.769940</td>\n",
       "    </tr>\n",
       "    <tr>\n",
       "      <th>39</th>\n",
       "      <td>고양시</td>\n",
       "      <td>효림요양병원</td>\n",
       "      <td>영업중</td>\n",
       "      <td>0319190041</td>\n",
       "      <td>37.670555</td>\n",
       "      <td>126.758527</td>\n",
       "    </tr>\n",
       "    <tr>\n",
       "      <th>40</th>\n",
       "      <td>광주시</td>\n",
       "      <td>강남제일요양병원</td>\n",
       "      <td>영업중</td>\n",
       "      <td>031-711-0220</td>\n",
       "      <td>37.374365</td>\n",
       "      <td>127.163289</td>\n",
       "    </tr>\n",
       "    <tr>\n",
       "      <th>41</th>\n",
       "      <td>광주시</td>\n",
       "      <td>더플러스병원</td>\n",
       "      <td>영업중</td>\n",
       "      <td>031-763-7582</td>\n",
       "      <td>37.409518</td>\n",
       "      <td>127.256206</td>\n",
       "    </tr>\n",
       "    <tr>\n",
       "      <th>42</th>\n",
       "      <td>광주시</td>\n",
       "      <td>선한빛요양병원</td>\n",
       "      <td>영업중</td>\n",
       "      <td>031-765-0908</td>\n",
       "      <td>37.411658</td>\n",
       "      <td>127.224750</td>\n",
       "    </tr>\n",
       "    <tr>\n",
       "      <th>43</th>\n",
       "      <td>광주시</td>\n",
       "      <td>스마일디자인치과병원</td>\n",
       "      <td>영업중</td>\n",
       "      <td>031-768-2333</td>\n",
       "      <td>37.409667</td>\n",
       "      <td>127.260141</td>\n",
       "    </tr>\n",
       "    <tr>\n",
       "      <th>44</th>\n",
       "      <td>광주시</td>\n",
       "      <td>에스알씨(SRC)노인전문병원</td>\n",
       "      <td>영업중</td>\n",
       "      <td>031-760-3671,4</td>\n",
       "      <td>37.419511</td>\n",
       "      <td>127.287071</td>\n",
       "    </tr>\n",
       "    <tr>\n",
       "      <th>45</th>\n",
       "      <td>광주시</td>\n",
       "      <td>위더스요양병원</td>\n",
       "      <td>영업중</td>\n",
       "      <td>031-798-5554</td>\n",
       "      <td>37.367389</td>\n",
       "      <td>127.310946</td>\n",
       "    </tr>\n",
       "    <tr>\n",
       "      <th>46</th>\n",
       "      <td>광주시</td>\n",
       "      <td>한사랑요양병원</td>\n",
       "      <td>영업중</td>\n",
       "      <td>031-763-3352</td>\n",
       "      <td>37.325241</td>\n",
       "      <td>127.336076</td>\n",
       "    </tr>\n",
       "    <tr>\n",
       "      <th>47</th>\n",
       "      <td>광주시</td>\n",
       "      <td>효천요양병원</td>\n",
       "      <td>영업중</td>\n",
       "      <td>031-799-8600</td>\n",
       "      <td>37.317428</td>\n",
       "      <td>127.330890</td>\n",
       "    </tr>\n",
       "    <tr>\n",
       "      <th>48</th>\n",
       "      <td>구리시</td>\n",
       "      <td>구리한빛요양병원</td>\n",
       "      <td>영업중</td>\n",
       "      <td>031-524-9990</td>\n",
       "      <td>37.597500</td>\n",
       "      <td>127.143648</td>\n",
       "    </tr>\n",
       "    <tr>\n",
       "      <th>49</th>\n",
       "      <td>구리시</td>\n",
       "      <td>구리효요양병원</td>\n",
       "      <td>영업중</td>\n",
       "      <td>565-3114</td>\n",
       "      <td>37.605096</td>\n",
       "      <td>127.134096</td>\n",
       "    </tr>\n",
       "    <tr>\n",
       "      <th>50</th>\n",
       "      <td>구리시</td>\n",
       "      <td>굿병원</td>\n",
       "      <td>영업중</td>\n",
       "      <td>031-564-4114</td>\n",
       "      <td>37.597293</td>\n",
       "      <td>127.143933</td>\n",
       "    </tr>\n",
       "    <tr>\n",
       "      <th>51</th>\n",
       "      <td>구리시</td>\n",
       "      <td>서울라이즈요양병원</td>\n",
       "      <td>영업중</td>\n",
       "      <td>031-564-1991</td>\n",
       "      <td>37.598131</td>\n",
       "      <td>127.143713</td>\n",
       "    </tr>\n",
       "    <tr>\n",
       "      <th>52</th>\n",
       "      <td>구리시</td>\n",
       "      <td>연세마음병원</td>\n",
       "      <td>영업중</td>\n",
       "      <td>031-554-0070</td>\n",
       "      <td>37.599896</td>\n",
       "      <td>127.139154</td>\n",
       "    </tr>\n",
       "    <tr>\n",
       "      <th>53</th>\n",
       "      <td>구리시</td>\n",
       "      <td>윤서병원</td>\n",
       "      <td>영업중</td>\n",
       "      <td>031-553-6650</td>\n",
       "      <td>37.605212</td>\n",
       "      <td>127.139533</td>\n",
       "    </tr>\n",
       "    <tr>\n",
       "      <th>54</th>\n",
       "      <td>구리시</td>\n",
       "      <td>의료법인기상의료재단카이저병원</td>\n",
       "      <td>영업중</td>\n",
       "      <td>031-554-7723</td>\n",
       "      <td>37.605044</td>\n",
       "      <td>127.140474</td>\n",
       "    </tr>\n",
       "    <tr>\n",
       "      <th>55</th>\n",
       "      <td>구리시</td>\n",
       "      <td>투재암요양병원</td>\n",
       "      <td>영업중</td>\n",
       "      <td>031-528-8899</td>\n",
       "      <td>37.598990</td>\n",
       "      <td>127.130070</td>\n",
       "    </tr>\n",
       "    <tr>\n",
       "      <th>56</th>\n",
       "      <td>구리시</td>\n",
       "      <td>행복한외과병원</td>\n",
       "      <td>영업중</td>\n",
       "      <td>031-557-7582</td>\n",
       "      <td>37.595418</td>\n",
       "      <td>127.146751</td>\n",
       "    </tr>\n",
       "    <tr>\n",
       "      <th>57</th>\n",
       "      <td>군포시</td>\n",
       "      <td>윈치과병원</td>\n",
       "      <td>영업중</td>\n",
       "      <td>1544-7528</td>\n",
       "      <td>37.365497</td>\n",
       "      <td>126.929433</td>\n",
       "    </tr>\n",
       "    <tr>\n",
       "      <th>58</th>\n",
       "      <td>군포시</td>\n",
       "      <td>의료법인 희망나눔의료재단 휴성심요양병원</td>\n",
       "      <td>영업중</td>\n",
       "      <td>031-477-9797</td>\n",
       "      <td>37.343715</td>\n",
       "      <td>126.949536</td>\n",
       "    </tr>\n",
       "    <tr>\n",
       "      <th>59</th>\n",
       "      <td>김포시</td>\n",
       "      <td>김포다은병원</td>\n",
       "      <td>영업중</td>\n",
       "      <td>031-996-1338</td>\n",
       "      <td>37.622735</td>\n",
       "      <td>126.711952</td>\n",
       "    </tr>\n",
       "    <tr>\n",
       "      <th>60</th>\n",
       "      <td>김포시</td>\n",
       "      <td>김포한누리병원</td>\n",
       "      <td>영업중</td>\n",
       "      <td>031-981-3000</td>\n",
       "      <td>37.700529</td>\n",
       "      <td>126.568677</td>\n",
       "    </tr>\n",
       "    <tr>\n",
       "      <th>61</th>\n",
       "      <td>김포시</td>\n",
       "      <td>한강아이제일병원</td>\n",
       "      <td>영업중</td>\n",
       "      <td>031-8048-7575</td>\n",
       "      <td>37.645754</td>\n",
       "      <td>126.681365</td>\n",
       "    </tr>\n",
       "    <tr>\n",
       "      <th>62</th>\n",
       "      <td>김포시</td>\n",
       "      <td>한별정신건강병원</td>\n",
       "      <td>영업중</td>\n",
       "      <td>031-986-9900</td>\n",
       "      <td>37.639495</td>\n",
       "      <td>126.709109</td>\n",
       "    </tr>\n",
       "    <tr>\n",
       "      <th>63</th>\n",
       "      <td>남양주시</td>\n",
       "      <td>경기도립노인전문남양주병원</td>\n",
       "      <td>영업중</td>\n",
       "      <td>0315905000</td>\n",
       "      <td>37.738515</td>\n",
       "      <td>127.309378</td>\n",
       "    </tr>\n",
       "    <tr>\n",
       "      <th>64</th>\n",
       "      <td>남양주시</td>\n",
       "      <td>국민병원</td>\n",
       "      <td>영업중</td>\n",
       "      <td>031-1877-7089</td>\n",
       "      <td>37.650059</td>\n",
       "      <td>127.238249</td>\n",
       "    </tr>\n",
       "    <tr>\n",
       "      <th>65</th>\n",
       "      <td>남양주시</td>\n",
       "      <td>남양주21세기병원</td>\n",
       "      <td>영업중</td>\n",
       "      <td>0315731114</td>\n",
       "      <td>37.658762</td>\n",
       "      <td>127.177175</td>\n",
       "    </tr>\n",
       "    <tr>\n",
       "      <th>66</th>\n",
       "      <td>남양주시</td>\n",
       "      <td>남양주경희한방병원</td>\n",
       "      <td>영업중</td>\n",
       "      <td>1533-3999</td>\n",
       "      <td>37.624805</td>\n",
       "      <td>127.150714</td>\n",
       "    </tr>\n",
       "    <tr>\n",
       "      <th>67</th>\n",
       "      <td>남양주시</td>\n",
       "      <td>남양주나눔병원</td>\n",
       "      <td>영업중</td>\n",
       "      <td>031-570-1000</td>\n",
       "      <td>37.697915</td>\n",
       "      <td>127.201311</td>\n",
       "    </tr>\n",
       "    <tr>\n",
       "      <th>68</th>\n",
       "      <td>남양주시</td>\n",
       "      <td>남양주나무요양병원</td>\n",
       "      <td>영업중</td>\n",
       "      <td>511-5100</td>\n",
       "      <td>37.645336</td>\n",
       "      <td>127.234914</td>\n",
       "    </tr>\n",
       "    <tr>\n",
       "      <th>69</th>\n",
       "      <td>남양주시</td>\n",
       "      <td>남양주정드림노인전문병원</td>\n",
       "      <td>영업중</td>\n",
       "      <td>031-511-8324</td>\n",
       "      <td>37.634575</td>\n",
       "      <td>127.206986</td>\n",
       "    </tr>\n",
       "    <tr>\n",
       "      <th>70</th>\n",
       "      <td>남양주시</td>\n",
       "      <td>누네안과병원</td>\n",
       "      <td>영업중</td>\n",
       "      <td>031-522-5292</td>\n",
       "      <td>37.711262</td>\n",
       "      <td>127.186172</td>\n",
       "    </tr>\n",
       "    <tr>\n",
       "      <th>71</th>\n",
       "      <td>남양주시</td>\n",
       "      <td>다산의료소비자생활협동조합정석소아청소년과병원</td>\n",
       "      <td>영업중</td>\n",
       "      <td>031-573-6678</td>\n",
       "      <td>37.720642</td>\n",
       "      <td>127.202733</td>\n",
       "    </tr>\n",
       "    <tr>\n",
       "      <th>72</th>\n",
       "      <td>남양주시</td>\n",
       "      <td>비오람요양병원</td>\n",
       "      <td>영업중</td>\n",
       "      <td>574-1100</td>\n",
       "      <td>37.721071</td>\n",
       "      <td>127.210526</td>\n",
       "    </tr>\n",
       "    <tr>\n",
       "      <th>73</th>\n",
       "      <td>남양주시</td>\n",
       "      <td>새봄요양병원</td>\n",
       "      <td>영업중</td>\n",
       "      <td>573-0500</td>\n",
       "      <td>37.705351</td>\n",
       "      <td>127.199278</td>\n",
       "    </tr>\n",
       "    <tr>\n",
       "      <th>74</th>\n",
       "      <td>남양주시</td>\n",
       "      <td>서울특별시축령정신병원</td>\n",
       "      <td>영업중</td>\n",
       "      <td>031-592-6661</td>\n",
       "      <td>37.738745</td>\n",
       "      <td>127.309484</td>\n",
       "    </tr>\n",
       "    <tr>\n",
       "      <th>75</th>\n",
       "      <td>남양주시</td>\n",
       "      <td>수동연세요양병원</td>\n",
       "      <td>영업중</td>\n",
       "      <td>031-594-8007</td>\n",
       "      <td>37.710107</td>\n",
       "      <td>127.319796</td>\n",
       "    </tr>\n",
       "    <tr>\n",
       "      <th>76</th>\n",
       "      <td>남양주시</td>\n",
       "      <td>실버힐스병원</td>\n",
       "      <td>영업중</td>\n",
       "      <td>511-9494</td>\n",
       "      <td>37.646616</td>\n",
       "      <td>127.234748</td>\n",
       "    </tr>\n",
       "    <tr>\n",
       "      <th>77</th>\n",
       "      <td>남양주시</td>\n",
       "      <td>아이맘어린이병원</td>\n",
       "      <td>영업중</td>\n",
       "      <td>031-563-9999</td>\n",
       "      <td>37.622710</td>\n",
       "      <td>127.152901</td>\n",
       "    </tr>\n",
       "    <tr>\n",
       "      <th>78</th>\n",
       "      <td>남양주시</td>\n",
       "      <td>온세병원</td>\n",
       "      <td>영업중</td>\n",
       "      <td>594-7912</td>\n",
       "      <td>37.645874</td>\n",
       "      <td>127.235643</td>\n",
       "    </tr>\n",
       "    <tr>\n",
       "      <th>79</th>\n",
       "      <td>남양주시</td>\n",
       "      <td>원병원</td>\n",
       "      <td>영업중</td>\n",
       "      <td>031-590-3114</td>\n",
       "      <td>37.651945</td>\n",
       "      <td>127.304353</td>\n",
       "    </tr>\n",
       "    <tr>\n",
       "      <th>80</th>\n",
       "      <td>남양주시</td>\n",
       "      <td>의료법인다원의료재단 진접제일요양병원</td>\n",
       "      <td>영업중</td>\n",
       "      <td>573-3004</td>\n",
       "      <td>37.746182</td>\n",
       "      <td>127.204799</td>\n",
       "    </tr>\n",
       "    <tr>\n",
       "      <th>81</th>\n",
       "      <td>남양주시</td>\n",
       "      <td>진접 한양병원</td>\n",
       "      <td>영업중</td>\n",
       "      <td>031-510-0114</td>\n",
       "      <td>37.711262</td>\n",
       "      <td>127.186172</td>\n",
       "    </tr>\n",
       "    <tr>\n",
       "      <th>82</th>\n",
       "      <td>남양주시</td>\n",
       "      <td>축령복음병원</td>\n",
       "      <td>영업중</td>\n",
       "      <td>031-592-6661</td>\n",
       "      <td>37.738468</td>\n",
       "      <td>127.310126</td>\n",
       "    </tr>\n",
       "    <tr>\n",
       "      <th>83</th>\n",
       "      <td>남양주시</td>\n",
       "      <td>퇴계원 서울요양병원</td>\n",
       "      <td>영업중</td>\n",
       "      <td>031-529-8188</td>\n",
       "      <td>37.650858</td>\n",
       "      <td>127.144901</td>\n",
       "    </tr>\n",
       "    <tr>\n",
       "      <th>84</th>\n",
       "      <td>남양주시</td>\n",
       "      <td>필립요양병원</td>\n",
       "      <td>영업중</td>\n",
       "      <td>1877-7504</td>\n",
       "      <td>37.649997</td>\n",
       "      <td>127.237920</td>\n",
       "    </tr>\n",
       "    <tr>\n",
       "      <th>85</th>\n",
       "      <td>남양주시</td>\n",
       "      <td>하나소아청소년과병원</td>\n",
       "      <td>영업중</td>\n",
       "      <td>031-593-1140</td>\n",
       "      <td>37.654074</td>\n",
       "      <td>127.242892</td>\n",
       "    </tr>\n",
       "    <tr>\n",
       "      <th>86</th>\n",
       "      <td>남양주시</td>\n",
       "      <td>한가온한방병원</td>\n",
       "      <td>영업중</td>\n",
       "      <td>031-992-6100</td>\n",
       "      <td>37.654718</td>\n",
       "      <td>127.244625</td>\n",
       "    </tr>\n",
       "    <tr>\n",
       "      <th>87</th>\n",
       "      <td>남양주시</td>\n",
       "      <td>호평요양병원</td>\n",
       "      <td>영업중</td>\n",
       "      <td>559-8700</td>\n",
       "      <td>37.654029</td>\n",
       "      <td>127.244494</td>\n",
       "    </tr>\n",
       "    <tr>\n",
       "      <th>88</th>\n",
       "      <td>남양주시</td>\n",
       "      <td>휴메디병원</td>\n",
       "      <td>영업중</td>\n",
       "      <td>554-8899</td>\n",
       "      <td>37.726374</td>\n",
       "      <td>127.191907</td>\n",
       "    </tr>\n",
       "    <tr>\n",
       "      <th>89</th>\n",
       "      <td>동두천시</td>\n",
       "      <td>동원병원</td>\n",
       "      <td>영업중</td>\n",
       "      <td>031-870-0701</td>\n",
       "      <td>37.900051</td>\n",
       "      <td>127.136098</td>\n",
       "    </tr>\n",
       "    <tr>\n",
       "      <th>90</th>\n",
       "      <td>부천시</td>\n",
       "      <td>가은병원</td>\n",
       "      <td>영업중</td>\n",
       "      <td>032-667-0114</td>\n",
       "      <td>37.477454</td>\n",
       "      <td>126.768865</td>\n",
       "    </tr>\n",
       "    <tr>\n",
       "      <th>91</th>\n",
       "      <td>부천시</td>\n",
       "      <td>더블유진병원</td>\n",
       "      <td>영업중</td>\n",
       "      <td>032-321-1433</td>\n",
       "      <td>37.505449</td>\n",
       "      <td>126.775980</td>\n",
       "    </tr>\n",
       "    <tr>\n",
       "      <th>92</th>\n",
       "      <td>부천시</td>\n",
       "      <td>더편한소사요양병원</td>\n",
       "      <td>영업중</td>\n",
       "      <td>032-349-8090</td>\n",
       "      <td>37.479313</td>\n",
       "      <td>126.795946</td>\n",
       "    </tr>\n",
       "    <tr>\n",
       "      <th>93</th>\n",
       "      <td>부천시</td>\n",
       "      <td>루카스병원</td>\n",
       "      <td>영업중</td>\n",
       "      <td>032-310-0100</td>\n",
       "      <td>37.483595</td>\n",
       "      <td>126.764914</td>\n",
       "    </tr>\n",
       "    <tr>\n",
       "      <th>94</th>\n",
       "      <td>부천시</td>\n",
       "      <td>메르덴치과병원</td>\n",
       "      <td>영업중</td>\n",
       "      <td>032-328-2875</td>\n",
       "      <td>37.503769</td>\n",
       "      <td>126.752260</td>\n",
       "    </tr>\n",
       "    <tr>\n",
       "      <th>95</th>\n",
       "      <td>부천시</td>\n",
       "      <td>본새울병원</td>\n",
       "      <td>영업중</td>\n",
       "      <td>032-343-8275</td>\n",
       "      <td>37.466001</td>\n",
       "      <td>126.799078</td>\n",
       "    </tr>\n",
       "    <tr>\n",
       "      <th>96</th>\n",
       "      <td>부천시</td>\n",
       "      <td>부천21세기병원</td>\n",
       "      <td>영업중</td>\n",
       "      <td>032-1577-7521</td>\n",
       "      <td>37.483577</td>\n",
       "      <td>126.775150</td>\n",
       "    </tr>\n",
       "    <tr>\n",
       "      <th>97</th>\n",
       "      <td>부천시</td>\n",
       "      <td>부천사랑병원</td>\n",
       "      <td>영업중</td>\n",
       "      <td>032-678-0114</td>\n",
       "      <td>37.490271</td>\n",
       "      <td>126.783524</td>\n",
       "    </tr>\n",
       "    <tr>\n",
       "      <th>98</th>\n",
       "      <td>부천시</td>\n",
       "      <td>부천수림한방병원</td>\n",
       "      <td>영업중</td>\n",
       "      <td>032-341-3344</td>\n",
       "      <td>37.487070</td>\n",
       "      <td>126.813722</td>\n",
       "    </tr>\n",
       "    <tr>\n",
       "      <th>99</th>\n",
       "      <td>부천시</td>\n",
       "      <td>부천한방병원</td>\n",
       "      <td>영업중</td>\n",
       "      <td>032-345-7585</td>\n",
       "      <td>37.479313</td>\n",
       "      <td>126.795946</td>\n",
       "    </tr>\n",
       "    <tr>\n",
       "      <th>100</th>\n",
       "      <td>부천시</td>\n",
       "      <td>부천한병원</td>\n",
       "      <td>영업중</td>\n",
       "      <td>032-668-1119</td>\n",
       "      <td>37.499402</td>\n",
       "      <td>126.786514</td>\n",
       "    </tr>\n",
       "    <tr>\n",
       "      <th>101</th>\n",
       "      <td>부천시</td>\n",
       "      <td>생생병원</td>\n",
       "      <td>영업중</td>\n",
       "      <td>032-230-0700</td>\n",
       "      <td>37.481929</td>\n",
       "      <td>126.793184</td>\n",
       "    </tr>\n",
       "    <tr>\n",
       "      <th>102</th>\n",
       "      <td>부천시</td>\n",
       "      <td>엘드림병원</td>\n",
       "      <td>영업중</td>\n",
       "      <td>032-612-8575</td>\n",
       "      <td>37.483625</td>\n",
       "      <td>126.756838</td>\n",
       "    </tr>\n",
       "    <tr>\n",
       "      <th>103</th>\n",
       "      <td>부천시</td>\n",
       "      <td>연세제일병원</td>\n",
       "      <td>영업중</td>\n",
       "      <td>032-661-9119</td>\n",
       "      <td>37.519934</td>\n",
       "      <td>126.789499</td>\n",
       "    </tr>\n",
       "    <tr>\n",
       "      <th>104</th>\n",
       "      <td>부천시</td>\n",
       "      <td>이룸병원</td>\n",
       "      <td>영업중</td>\n",
       "      <td>032-674-5567~8</td>\n",
       "      <td>37.515787</td>\n",
       "      <td>126.775914</td>\n",
       "    </tr>\n",
       "    <tr>\n",
       "      <th>105</th>\n",
       "      <td>부천시</td>\n",
       "      <td>이안치과병원</td>\n",
       "      <td>영업중</td>\n",
       "      <td>032-677-8885</td>\n",
       "      <td>37.519654</td>\n",
       "      <td>126.804507</td>\n",
       "    </tr>\n",
       "    <tr>\n",
       "      <th>106</th>\n",
       "      <td>부천시</td>\n",
       "      <td>진병원</td>\n",
       "      <td>영업중</td>\n",
       "      <td>032-322-8275</td>\n",
       "      <td>37.503371</td>\n",
       "      <td>126.760658</td>\n",
       "    </tr>\n",
       "    <tr>\n",
       "      <th>107</th>\n",
       "      <td>부천시</td>\n",
       "      <td>평강치과병원</td>\n",
       "      <td>영업중</td>\n",
       "      <td>032-651-7528</td>\n",
       "      <td>37.483314</td>\n",
       "      <td>126.783704</td>\n",
       "    </tr>\n",
       "    <tr>\n",
       "      <th>108</th>\n",
       "      <td>성남시</td>\n",
       "      <td>분당예치과병원</td>\n",
       "      <td>영업중</td>\n",
       "      <td>708-2828</td>\n",
       "      <td>37.378689</td>\n",
       "      <td>127.116030</td>\n",
       "    </tr>\n",
       "    <tr>\n",
       "      <th>109</th>\n",
       "      <td>성남시</td>\n",
       "      <td>분당척병원</td>\n",
       "      <td>영업중</td>\n",
       "      <td>031-788-5050</td>\n",
       "      <td>37.412884</td>\n",
       "      <td>127.129269</td>\n",
       "    </tr>\n",
       "    <tr>\n",
       "      <th>110</th>\n",
       "      <td>성남시</td>\n",
       "      <td>성남사랑의병원</td>\n",
       "      <td>영업중</td>\n",
       "      <td>031-756-3024</td>\n",
       "      <td>37.443291</td>\n",
       "      <td>127.127514</td>\n",
       "    </tr>\n",
       "    <tr>\n",
       "      <th>111</th>\n",
       "      <td>성남시</td>\n",
       "      <td>성남예치과병원</td>\n",
       "      <td>영업중</td>\n",
       "      <td>031-757-9999</td>\n",
       "      <td>37.431666</td>\n",
       "      <td>127.128623</td>\n",
       "    </tr>\n",
       "    <tr>\n",
       "      <th>112</th>\n",
       "      <td>성남시</td>\n",
       "      <td>성남제일한방병원</td>\n",
       "      <td>영업중</td>\n",
       "      <td>031-758-1071</td>\n",
       "      <td>37.429459</td>\n",
       "      <td>127.129007</td>\n",
       "    </tr>\n",
       "    <tr>\n",
       "      <th>113</th>\n",
       "      <td>성남시</td>\n",
       "      <td>성모요양병원</td>\n",
       "      <td>영업중</td>\n",
       "      <td>031-707-9100</td>\n",
       "      <td>37.404711</td>\n",
       "      <td>127.157094</td>\n",
       "    </tr>\n",
       "    <tr>\n",
       "      <th>114</th>\n",
       "      <td>성남시</td>\n",
       "      <td>으뜸병원</td>\n",
       "      <td>영업중</td>\n",
       "      <td>031-759-1700</td>\n",
       "      <td>37.431045</td>\n",
       "      <td>127.128637</td>\n",
       "    </tr>\n",
       "    <tr>\n",
       "      <th>115</th>\n",
       "      <td>성남시</td>\n",
       "      <td>형치과병원</td>\n",
       "      <td>영업중</td>\n",
       "      <td>031-714-5000</td>\n",
       "      <td>37.337074</td>\n",
       "      <td>127.116637</td>\n",
       "    </tr>\n",
       "    <tr>\n",
       "      <th>116</th>\n",
       "      <td>수원시</td>\n",
       "      <td>강남여성병원</td>\n",
       "      <td>영업중</td>\n",
       "      <td>031-222-7575</td>\n",
       "      <td>37.276746</td>\n",
       "      <td>127.027505</td>\n",
       "    </tr>\n",
       "    <tr>\n",
       "      <th>117</th>\n",
       "      <td>수원시</td>\n",
       "      <td>김찬병원</td>\n",
       "      <td>영업중</td>\n",
       "      <td>1577-8858</td>\n",
       "      <td>37.262553</td>\n",
       "      <td>127.026387</td>\n",
       "    </tr>\n",
       "    <tr>\n",
       "      <th>118</th>\n",
       "      <td>수원시</td>\n",
       "      <td>나누리수원병원</td>\n",
       "      <td>영업중</td>\n",
       "      <td>1688-9797</td>\n",
       "      <td>37.273933</td>\n",
       "      <td>127.048209</td>\n",
       "    </tr>\n",
       "    <tr>\n",
       "      <th>119</th>\n",
       "      <td>수원시</td>\n",
       "      <td>다인병원</td>\n",
       "      <td>영업중</td>\n",
       "      <td>031-8014-1300</td>\n",
       "      <td>37.291925</td>\n",
       "      <td>127.027523</td>\n",
       "    </tr>\n",
       "    <tr>\n",
       "      <th>120</th>\n",
       "      <td>수원시</td>\n",
       "      <td>더웰병원</td>\n",
       "      <td>영업중</td>\n",
       "      <td>031-202-1144</td>\n",
       "      <td>37.255015</td>\n",
       "      <td>127.075634</td>\n",
       "    </tr>\n",
       "    <tr>\n",
       "      <th>121</th>\n",
       "      <td>수원시</td>\n",
       "      <td>동서요양병원</td>\n",
       "      <td>영업중</td>\n",
       "      <td>031-246-7250</td>\n",
       "      <td>37.291199</td>\n",
       "      <td>127.021672</td>\n",
       "    </tr>\n",
       "    <tr>\n",
       "      <th>122</th>\n",
       "      <td>수원시</td>\n",
       "      <td>메디움수원요양병원</td>\n",
       "      <td>영업중</td>\n",
       "      <td>031-251-3336</td>\n",
       "      <td>37.287738</td>\n",
       "      <td>127.010898</td>\n",
       "    </tr>\n",
       "    <tr>\n",
       "      <th>123</th>\n",
       "      <td>수원시</td>\n",
       "      <td>메이저요양병원</td>\n",
       "      <td>영업중</td>\n",
       "      <td>031-237-7700</td>\n",
       "      <td>37.275682</td>\n",
       "      <td>127.027354</td>\n",
       "    </tr>\n",
       "    <tr>\n",
       "      <th>124</th>\n",
       "      <td>수원시</td>\n",
       "      <td>모아치과병원</td>\n",
       "      <td>영업중</td>\n",
       "      <td>031-226-5678</td>\n",
       "      <td>37.266285</td>\n",
       "      <td>127.033244</td>\n",
       "    </tr>\n",
       "    <tr>\n",
       "      <th>125</th>\n",
       "      <td>수원시</td>\n",
       "      <td>미래한방병원</td>\n",
       "      <td>영업중</td>\n",
       "      <td>031-8067-8275</td>\n",
       "      <td>37.278079</td>\n",
       "      <td>127.003177</td>\n",
       "    </tr>\n",
       "    <tr>\n",
       "      <th>126</th>\n",
       "      <td>수원시</td>\n",
       "      <td>바로본병원</td>\n",
       "      <td>영업중</td>\n",
       "      <td>031-251-8575</td>\n",
       "      <td>37.302210</td>\n",
       "      <td>127.007509</td>\n",
       "    </tr>\n",
       "    <tr>\n",
       "      <th>127</th>\n",
       "      <td>수원시</td>\n",
       "      <td>백성병원</td>\n",
       "      <td>영업중</td>\n",
       "      <td>031-238-9121</td>\n",
       "      <td>37.267745</td>\n",
       "      <td>127.028599</td>\n",
       "    </tr>\n",
       "    <tr>\n",
       "      <th>128</th>\n",
       "      <td>수원시</td>\n",
       "      <td>버팀병원</td>\n",
       "      <td>영업중</td>\n",
       "      <td>1661-0032</td>\n",
       "      <td>37.245162</td>\n",
       "      <td>127.055800</td>\n",
       "    </tr>\n",
       "    <tr>\n",
       "      <th>129</th>\n",
       "      <td>수원시</td>\n",
       "      <td>서울성모안과병원</td>\n",
       "      <td>영업중</td>\n",
       "      <td>226-8321</td>\n",
       "      <td>37.274537</td>\n",
       "      <td>127.045871</td>\n",
       "    </tr>\n",
       "    <tr>\n",
       "      <th>130</th>\n",
       "      <td>수원시</td>\n",
       "      <td>성모척관병원</td>\n",
       "      <td>영업중</td>\n",
       "      <td>031-242-2266</td>\n",
       "      <td>37.291938</td>\n",
       "      <td>127.008434</td>\n",
       "    </tr>\n",
       "    <tr>\n",
       "      <th>131</th>\n",
       "      <td>수원시</td>\n",
       "      <td>세인트마리여성병원</td>\n",
       "      <td>영업중</td>\n",
       "      <td>031-289-3000</td>\n",
       "      <td>37.275438</td>\n",
       "      <td>126.953925</td>\n",
       "    </tr>\n",
       "    <tr>\n",
       "      <th>132</th>\n",
       "      <td>수원시</td>\n",
       "      <td>수여성병원</td>\n",
       "      <td>영업중</td>\n",
       "      <td>031-8012-7000</td>\n",
       "      <td>37.251247</td>\n",
       "      <td>126.976347</td>\n",
       "    </tr>\n",
       "    <tr>\n",
       "      <th>133</th>\n",
       "      <td>수원시</td>\n",
       "      <td>수원브이아이피요양병원</td>\n",
       "      <td>영업중</td>\n",
       "      <td>031-254-5071</td>\n",
       "      <td>37.270950</td>\n",
       "      <td>127.001081</td>\n",
       "    </tr>\n",
       "    <tr>\n",
       "      <th>134</th>\n",
       "      <td>수원시</td>\n",
       "      <td>수원삼성요양병원</td>\n",
       "      <td>영업중</td>\n",
       "      <td>031-252-1005</td>\n",
       "      <td>37.293593</td>\n",
       "      <td>127.001247</td>\n",
       "    </tr>\n",
       "    <tr>\n",
       "      <th>135</th>\n",
       "      <td>수원시</td>\n",
       "      <td>수원센트럴요양병원</td>\n",
       "      <td>영업중</td>\n",
       "      <td>031-278-2300</td>\n",
       "      <td>37.274676</td>\n",
       "      <td>126.952983</td>\n",
       "    </tr>\n",
       "    <tr>\n",
       "      <th>136</th>\n",
       "      <td>수원시</td>\n",
       "      <td>수원우노병원</td>\n",
       "      <td>영업중</td>\n",
       "      <td>031-233-7543</td>\n",
       "      <td>37.258541</td>\n",
       "      <td>127.021631</td>\n",
       "    </tr>\n",
       "    <tr>\n",
       "      <th>137</th>\n",
       "      <td>수원시</td>\n",
       "      <td>수원자생한방병원</td>\n",
       "      <td>영업중</td>\n",
       "      <td>031-695-8033</td>\n",
       "      <td>37.253327</td>\n",
       "      <td>127.072329</td>\n",
       "    </tr>\n",
       "    <tr>\n",
       "      <th>138</th>\n",
       "      <td>수원시</td>\n",
       "      <td>수원중앙병원</td>\n",
       "      <td>영업중</td>\n",
       "      <td>031-229-9777</td>\n",
       "      <td>37.259817</td>\n",
       "      <td>127.022886</td>\n",
       "    </tr>\n",
       "    <tr>\n",
       "      <th>139</th>\n",
       "      <td>수원시</td>\n",
       "      <td>수원행복한요양병원</td>\n",
       "      <td>영업중</td>\n",
       "      <td>031-285-2100</td>\n",
       "      <td>37.303887</td>\n",
       "      <td>126.992660</td>\n",
       "    </tr>\n",
       "    <tr>\n",
       "      <th>140</th>\n",
       "      <td>수원시</td>\n",
       "      <td>수원효요양병원</td>\n",
       "      <td>영업중</td>\n",
       "      <td>031-271-9555</td>\n",
       "      <td>37.300409</td>\n",
       "      <td>127.008017</td>\n",
       "    </tr>\n",
       "    <tr>\n",
       "      <th>141</th>\n",
       "      <td>수원시</td>\n",
       "      <td>쉬즈메디병원</td>\n",
       "      <td>영업중</td>\n",
       "      <td>031-231-7300</td>\n",
       "      <td>37.274336</td>\n",
       "      <td>127.029088</td>\n",
       "    </tr>\n",
       "    <tr>\n",
       "      <th>142</th>\n",
       "      <td>수원시</td>\n",
       "      <td>시온여성병원</td>\n",
       "      <td>영업중</td>\n",
       "      <td>031-201-0700</td>\n",
       "      <td>37.252675</td>\n",
       "      <td>127.076606</td>\n",
       "    </tr>\n",
       "    <tr>\n",
       "      <th>143</th>\n",
       "      <td>수원시</td>\n",
       "      <td>아주다남병원</td>\n",
       "      <td>영업중</td>\n",
       "      <td>031-269-7578</td>\n",
       "      <td>37.296561</td>\n",
       "      <td>126.995462</td>\n",
       "    </tr>\n",
       "    <tr>\n",
       "      <th>144</th>\n",
       "      <td>수원시</td>\n",
       "      <td>아주대학교병원</td>\n",
       "      <td>영업중</td>\n",
       "      <td>031-219-5114</td>\n",
       "      <td>37.279343</td>\n",
       "      <td>127.046305</td>\n",
       "    </tr>\n",
       "    <tr>\n",
       "      <th>145</th>\n",
       "      <td>수원시</td>\n",
       "      <td>아주편한병원</td>\n",
       "      <td>영업중</td>\n",
       "      <td>031-269-5665</td>\n",
       "      <td>37.310477</td>\n",
       "      <td>126.990855</td>\n",
       "    </tr>\n",
       "    <tr>\n",
       "      <th>146</th>\n",
       "      <td>수원시</td>\n",
       "      <td>에덴메디여성병원</td>\n",
       "      <td>영업중</td>\n",
       "      <td>031-236-2000</td>\n",
       "      <td>37.249333</td>\n",
       "      <td>127.034025</td>\n",
       "    </tr>\n",
       "    <tr>\n",
       "      <th>147</th>\n",
       "      <td>수원시</td>\n",
       "      <td>연세엘림요양병원</td>\n",
       "      <td>영업중</td>\n",
       "      <td>031-255-0006</td>\n",
       "      <td>37.292960</td>\n",
       "      <td>127.009318</td>\n",
       "    </tr>\n",
       "    <tr>\n",
       "      <th>148</th>\n",
       "      <td>수원시</td>\n",
       "      <td>영통효요양병원</td>\n",
       "      <td>영업중</td>\n",
       "      <td>031-205-0011</td>\n",
       "      <td>37.237781</td>\n",
       "      <td>127.060827</td>\n",
       "    </tr>\n",
       "    <tr>\n",
       "      <th>149</th>\n",
       "      <td>수원시</td>\n",
       "      <td>우리병원</td>\n",
       "      <td>영업중</td>\n",
       "      <td>031-211-1700</td>\n",
       "      <td>37.263710</td>\n",
       "      <td>127.024903</td>\n",
       "    </tr>\n",
       "    <tr>\n",
       "      <th>150</th>\n",
       "      <td>수원시</td>\n",
       "      <td>위더스요양병원</td>\n",
       "      <td>영업중</td>\n",
       "      <td>031-239-7227</td>\n",
       "      <td>37.271745</td>\n",
       "      <td>127.028033</td>\n",
       "    </tr>\n",
       "    <tr>\n",
       "      <th>151</th>\n",
       "      <td>수원시</td>\n",
       "      <td>윈산부인과병원</td>\n",
       "      <td>영업중</td>\n",
       "      <td>031-201-9800</td>\n",
       "      <td>37.266690</td>\n",
       "      <td>127.081039</td>\n",
       "    </tr>\n",
       "    <tr>\n",
       "      <th>152</th>\n",
       "      <td>수원시</td>\n",
       "      <td>의료법인 녹산의료재단동수원병원</td>\n",
       "      <td>영업중</td>\n",
       "      <td>031-210-0114</td>\n",
       "      <td>37.277944</td>\n",
       "      <td>127.034198</td>\n",
       "    </tr>\n",
       "    <tr>\n",
       "      <th>153</th>\n",
       "      <td>수원시</td>\n",
       "      <td>의료법인 사랑나무의료재단 서수원병원</td>\n",
       "      <td>영업중</td>\n",
       "      <td>031-278-7115</td>\n",
       "      <td>37.241546</td>\n",
       "      <td>126.977959</td>\n",
       "    </tr>\n",
       "    <tr>\n",
       "      <th>154</th>\n",
       "      <td>수원시</td>\n",
       "      <td>의료법인 사랑나무의료재단 서수원요양병원</td>\n",
       "      <td>영업중</td>\n",
       "      <td>031-221-2222</td>\n",
       "      <td>37.241546</td>\n",
       "      <td>126.977959</td>\n",
       "    </tr>\n",
       "    <tr>\n",
       "      <th>155</th>\n",
       "      <td>수원시</td>\n",
       "      <td>의료법인 송설의료재단 수원백병원</td>\n",
       "      <td>영업중</td>\n",
       "      <td>031-252-2150</td>\n",
       "      <td>37.279035</td>\n",
       "      <td>127.016222</td>\n",
       "    </tr>\n",
       "    <tr>\n",
       "      <th>156</th>\n",
       "      <td>수원시</td>\n",
       "      <td>의료법인 한성재단 S서울병원</td>\n",
       "      <td>영업중</td>\n",
       "      <td>031-225-7000</td>\n",
       "      <td>37.274612</td>\n",
       "      <td>127.041923</td>\n",
       "    </tr>\n",
       "    <tr>\n",
       "      <th>157</th>\n",
       "      <td>수원시</td>\n",
       "      <td>이안한방병원</td>\n",
       "      <td>영업중</td>\n",
       "      <td>031-213-1151</td>\n",
       "      <td>37.273159</td>\n",
       "      <td>127.048462</td>\n",
       "    </tr>\n",
       "    <tr>\n",
       "      <th>158</th>\n",
       "      <td>수원시</td>\n",
       "      <td>제이에스병원</td>\n",
       "      <td>영업중</td>\n",
       "      <td>1800-5446</td>\n",
       "      <td>37.273543</td>\n",
       "      <td>126.955495</td>\n",
       "    </tr>\n",
       "    <tr>\n",
       "      <th>159</th>\n",
       "      <td>수원시</td>\n",
       "      <td>참결한방병원</td>\n",
       "      <td>영업중</td>\n",
       "      <td>031-890-8080</td>\n",
       "      <td>37.276016</td>\n",
       "      <td>127.041418</td>\n",
       "    </tr>\n",
       "    <tr>\n",
       "      <th>160</th>\n",
       "      <td>수원시</td>\n",
       "      <td>초이스병원</td>\n",
       "      <td>영업중</td>\n",
       "      <td>031-216-8275</td>\n",
       "      <td>37.274029</td>\n",
       "      <td>127.045062</td>\n",
       "    </tr>\n",
       "    <tr>\n",
       "      <th>161</th>\n",
       "      <td>수원시</td>\n",
       "      <td>하나병원</td>\n",
       "      <td>영업중</td>\n",
       "      <td>031-8005-9111</td>\n",
       "      <td>37.273471</td>\n",
       "      <td>127.015637</td>\n",
       "    </tr>\n",
       "    <tr>\n",
       "      <th>162</th>\n",
       "      <td>수원시</td>\n",
       "      <td>학교법인 대우학원 아주대학교요양병원</td>\n",
       "      <td>영업중</td>\n",
       "      <td>031-5174-5000</td>\n",
       "      <td>37.279129</td>\n",
       "      <td>127.049115</td>\n",
       "    </tr>\n",
       "    <tr>\n",
       "      <th>163</th>\n",
       "      <td>수원시</td>\n",
       "      <td>한독병원</td>\n",
       "      <td>영업중</td>\n",
       "      <td>031-232-4511</td>\n",
       "      <td>37.269642</td>\n",
       "      <td>127.027223</td>\n",
       "    </tr>\n",
       "    <tr>\n",
       "      <th>164</th>\n",
       "      <td>수원시</td>\n",
       "      <td>한빛현요양병원</td>\n",
       "      <td>영업중</td>\n",
       "      <td>031-248-7575</td>\n",
       "      <td>37.306425</td>\n",
       "      <td>127.000237</td>\n",
       "    </tr>\n",
       "    <tr>\n",
       "      <th>165</th>\n",
       "      <td>수원시</td>\n",
       "      <td>해성병원</td>\n",
       "      <td>영업중</td>\n",
       "      <td>031-222-7511</td>\n",
       "      <td>37.274124</td>\n",
       "      <td>127.029981</td>\n",
       "    </tr>\n",
       "    <tr>\n",
       "      <th>166</th>\n",
       "      <td>수원시</td>\n",
       "      <td>효정요양병원</td>\n",
       "      <td>영업중</td>\n",
       "      <td>031-253-7500</td>\n",
       "      <td>37.277726</td>\n",
       "      <td>127.007060</td>\n",
       "    </tr>\n",
       "    <tr>\n",
       "      <th>167</th>\n",
       "      <td>시흥시</td>\n",
       "      <td>예치과병원</td>\n",
       "      <td>영업중</td>\n",
       "      <td>031-432-0600</td>\n",
       "      <td>37.345420</td>\n",
       "      <td>126.735358</td>\n",
       "    </tr>\n",
       "    <tr>\n",
       "      <th>168</th>\n",
       "      <td>안산시</td>\n",
       "      <td>(의)대선의료재단으뜸요양병원</td>\n",
       "      <td>영업중</td>\n",
       "      <td>031-363-5200</td>\n",
       "      <td>37.301537</td>\n",
       "      <td>126.861155</td>\n",
       "    </tr>\n",
       "    <tr>\n",
       "      <th>169</th>\n",
       "      <td>안산시</td>\n",
       "      <td>궁치과병원</td>\n",
       "      <td>영업중</td>\n",
       "      <td>031-504-2875</td>\n",
       "      <td>37.317673</td>\n",
       "      <td>126.835939</td>\n",
       "    </tr>\n",
       "    <tr>\n",
       "      <th>170</th>\n",
       "      <td>안산시</td>\n",
       "      <td>기둥병원</td>\n",
       "      <td>영업중</td>\n",
       "      <td>031-418-8275</td>\n",
       "      <td>37.302101</td>\n",
       "      <td>126.863768</td>\n",
       "    </tr>\n",
       "    <tr>\n",
       "      <th>171</th>\n",
       "      <td>안산시</td>\n",
       "      <td>동산한방병원</td>\n",
       "      <td>영업중</td>\n",
       "      <td>031-502-5975</td>\n",
       "      <td>37.307631</td>\n",
       "      <td>126.847923</td>\n",
       "    </tr>\n",
       "    <tr>\n",
       "      <th>172</th>\n",
       "      <td>안산시</td>\n",
       "      <td>동안산병원</td>\n",
       "      <td>영업중</td>\n",
       "      <td>031-410-1116</td>\n",
       "      <td>37.335629</td>\n",
       "      <td>126.853145</td>\n",
       "    </tr>\n",
       "    <tr>\n",
       "      <th>173</th>\n",
       "      <td>안산시</td>\n",
       "      <td>바른한방병원</td>\n",
       "      <td>영업중</td>\n",
       "      <td>031-437-6700</td>\n",
       "      <td>37.284639</td>\n",
       "      <td>126.853424</td>\n",
       "    </tr>\n",
       "    <tr>\n",
       "      <th>174</th>\n",
       "      <td>안산시</td>\n",
       "      <td>백비한방병원</td>\n",
       "      <td>영업중</td>\n",
       "      <td>031-893-4999</td>\n",
       "      <td>37.295343</td>\n",
       "      <td>126.852621</td>\n",
       "    </tr>\n",
       "    <tr>\n",
       "      <th>175</th>\n",
       "      <td>안산시</td>\n",
       "      <td>베스트힐스요양병원</td>\n",
       "      <td>영업중</td>\n",
       "      <td>031-415-2300</td>\n",
       "      <td>37.281289</td>\n",
       "      <td>126.844112</td>\n",
       "    </tr>\n",
       "    <tr>\n",
       "      <th>176</th>\n",
       "      <td>안산시</td>\n",
       "      <td>서연의료소비자생활협동조합본원한방병원</td>\n",
       "      <td>영업중</td>\n",
       "      <td>031-501-1199</td>\n",
       "      <td>37.290667</td>\n",
       "      <td>126.862995</td>\n",
       "    </tr>\n",
       "    <tr>\n",
       "      <th>177</th>\n",
       "      <td>안산시</td>\n",
       "      <td>성은병원</td>\n",
       "      <td>영업중</td>\n",
       "      <td>031-484-6500</td>\n",
       "      <td>37.300390</td>\n",
       "      <td>126.812409</td>\n",
       "    </tr>\n",
       "    <tr>\n",
       "      <th>178</th>\n",
       "      <td>안산시</td>\n",
       "      <td>안산시립노인전문병원</td>\n",
       "      <td>영업중</td>\n",
       "      <td>031-8040-5114</td>\n",
       "      <td>37.299679</td>\n",
       "      <td>126.846119</td>\n",
       "    </tr>\n",
       "    <tr>\n",
       "      <th>179</th>\n",
       "      <td>안산시</td>\n",
       "      <td>안산연세병원</td>\n",
       "      <td>영업중</td>\n",
       "      <td>031-415-7515</td>\n",
       "      <td>37.308448</td>\n",
       "      <td>126.852396</td>\n",
       "    </tr>\n",
       "    <tr>\n",
       "      <th>180</th>\n",
       "      <td>안산시</td>\n",
       "      <td>안산튼튼병원</td>\n",
       "      <td>영업중</td>\n",
       "      <td>031-8040-8100</td>\n",
       "      <td>37.307851</td>\n",
       "      <td>126.856949</td>\n",
       "    </tr>\n",
       "    <tr>\n",
       "      <th>181</th>\n",
       "      <td>안산시</td>\n",
       "      <td>안성훈한방병원</td>\n",
       "      <td>영업중</td>\n",
       "      <td>031-365-3625</td>\n",
       "      <td>37.335065</td>\n",
       "      <td>126.845665</td>\n",
       "    </tr>\n",
       "    <tr>\n",
       "      <th>182</th>\n",
       "      <td>안산시</td>\n",
       "      <td>연세서울병원</td>\n",
       "      <td>영업중</td>\n",
       "      <td>031-415-1010</td>\n",
       "      <td>37.288487</td>\n",
       "      <td>126.863138</td>\n",
       "    </tr>\n",
       "    <tr>\n",
       "      <th>183</th>\n",
       "      <td>안산시</td>\n",
       "      <td>의료법인해인의료재단 해인요양병원</td>\n",
       "      <td>영업중</td>\n",
       "      <td>031-416-1251</td>\n",
       "      <td>37.287732</td>\n",
       "      <td>126.863641</td>\n",
       "    </tr>\n",
       "    <tr>\n",
       "      <th>184</th>\n",
       "      <td>안산시</td>\n",
       "      <td>한국치과병원</td>\n",
       "      <td>영업중</td>\n",
       "      <td>031-506-3651</td>\n",
       "      <td>37.312228</td>\n",
       "      <td>126.827660</td>\n",
       "    </tr>\n",
       "    <tr>\n",
       "      <th>185</th>\n",
       "      <td>안성시</td>\n",
       "      <td>경기도의료원 안성병원</td>\n",
       "      <td>영업중</td>\n",
       "      <td>031-8046-5000</td>\n",
       "      <td>37.017306</td>\n",
       "      <td>127.260297</td>\n",
       "    </tr>\n",
       "    <tr>\n",
       "      <th>186</th>\n",
       "      <td>안성시</td>\n",
       "      <td>동안성병원</td>\n",
       "      <td>영업중</td>\n",
       "      <td>031-673-3800</td>\n",
       "      <td>37.056576</td>\n",
       "      <td>127.473049</td>\n",
       "    </tr>\n",
       "    <tr>\n",
       "      <th>187</th>\n",
       "      <td>안성시</td>\n",
       "      <td>미소플란트치과병원</td>\n",
       "      <td>영업중</td>\n",
       "      <td>691-2882</td>\n",
       "      <td>37.000026</td>\n",
       "      <td>127.171082</td>\n",
       "    </tr>\n",
       "    <tr>\n",
       "      <th>188</th>\n",
       "      <td>안성시</td>\n",
       "      <td>안성강남한방병원</td>\n",
       "      <td>영업중</td>\n",
       "      <td>031-8057-3075~6</td>\n",
       "      <td>37.007837</td>\n",
       "      <td>127.258405</td>\n",
       "    </tr>\n",
       "    <tr>\n",
       "      <th>189</th>\n",
       "      <td>안성시</td>\n",
       "      <td>안성동인병원</td>\n",
       "      <td>영업중</td>\n",
       "      <td>677-0300</td>\n",
       "      <td>37.005222</td>\n",
       "      <td>127.266906</td>\n",
       "    </tr>\n",
       "    <tr>\n",
       "      <th>190</th>\n",
       "      <td>안성시</td>\n",
       "      <td>안성동인요양병원</td>\n",
       "      <td>영업중</td>\n",
       "      <td>671-9100</td>\n",
       "      <td>37.004854</td>\n",
       "      <td>127.266489</td>\n",
       "    </tr>\n",
       "    <tr>\n",
       "      <th>191</th>\n",
       "      <td>안성시</td>\n",
       "      <td>안성성모병원</td>\n",
       "      <td>영업중</td>\n",
       "      <td>031-675-6007</td>\n",
       "      <td>37.005806</td>\n",
       "      <td>127.270708</td>\n",
       "    </tr>\n",
       "    <tr>\n",
       "      <th>192</th>\n",
       "      <td>안성시</td>\n",
       "      <td>안성요양병원</td>\n",
       "      <td>영업중</td>\n",
       "      <td>675-2316</td>\n",
       "      <td>37.009856</td>\n",
       "      <td>127.269956</td>\n",
       "    </tr>\n",
       "    <tr>\n",
       "      <th>193</th>\n",
       "      <td>안성시</td>\n",
       "      <td>안성현대요양병원</td>\n",
       "      <td>영업중</td>\n",
       "      <td>673-6116</td>\n",
       "      <td>37.018710</td>\n",
       "      <td>127.360749</td>\n",
       "    </tr>\n",
       "    <tr>\n",
       "      <th>194</th>\n",
       "      <td>안성시</td>\n",
       "      <td>인선요양병원</td>\n",
       "      <td>영업중</td>\n",
       "      <td>673-0836</td>\n",
       "      <td>37.129162</td>\n",
       "      <td>127.263514</td>\n",
       "    </tr>\n",
       "    <tr>\n",
       "      <th>195</th>\n",
       "      <td>안성시</td>\n",
       "      <td>파라밀요양병원</td>\n",
       "      <td>영업중</td>\n",
       "      <td>031-677-2613</td>\n",
       "      <td>37.064623</td>\n",
       "      <td>127.388527</td>\n",
       "    </tr>\n",
       "    <tr>\n",
       "      <th>196</th>\n",
       "      <td>안성시</td>\n",
       "      <td>허리편한 병원</td>\n",
       "      <td>영업중</td>\n",
       "      <td>031-656-2110</td>\n",
       "      <td>36.994387</td>\n",
       "      <td>127.142335</td>\n",
       "    </tr>\n",
       "    <tr>\n",
       "      <th>197</th>\n",
       "      <td>안양시</td>\n",
       "      <td>평촌예치과병원</td>\n",
       "      <td>영업중</td>\n",
       "      <td>031-440-8275</td>\n",
       "      <td>37.390725</td>\n",
       "      <td>126.949503</td>\n",
       "    </tr>\n",
       "    <tr>\n",
       "      <th>198</th>\n",
       "      <td>안양시</td>\n",
       "      <td>평촌중앙병원</td>\n",
       "      <td>영업중</td>\n",
       "      <td>031-387-0114</td>\n",
       "      <td>37.390351</td>\n",
       "      <td>126.953070</td>\n",
       "    </tr>\n",
       "    <tr>\n",
       "      <th>199</th>\n",
       "      <td>안양시</td>\n",
       "      <td>효산의료재단 샘여성병원</td>\n",
       "      <td>영업중</td>\n",
       "      <td>031-467-1000</td>\n",
       "      <td>37.392361</td>\n",
       "      <td>126.926149</td>\n",
       "    </tr>\n",
       "    <tr>\n",
       "      <th>200</th>\n",
       "      <td>양주시</td>\n",
       "      <td>송추정신병원(성람재단)</td>\n",
       "      <td>영업중</td>\n",
       "      <td>031-826-1300</td>\n",
       "      <td>37.741128</td>\n",
       "      <td>126.983799</td>\n",
       "    </tr>\n",
       "    <tr>\n",
       "      <th>201</th>\n",
       "      <td>양주시</td>\n",
       "      <td>양주소망병원</td>\n",
       "      <td>영업중</td>\n",
       "      <td>031-859-7997</td>\n",
       "      <td>37.844448</td>\n",
       "      <td>127.054064</td>\n",
       "    </tr>\n",
       "    <tr>\n",
       "      <th>202</th>\n",
       "      <td>여주시</td>\n",
       "      <td>경기도립노인전문여주병원</td>\n",
       "      <td>영업중</td>\n",
       "      <td>886-4100</td>\n",
       "      <td>37.324981</td>\n",
       "      <td>127.669195</td>\n",
       "    </tr>\n",
       "    <tr>\n",
       "      <th>203</th>\n",
       "      <td>여주시</td>\n",
       "      <td>대진요양병원</td>\n",
       "      <td>영업중</td>\n",
       "      <td>031-887-0905</td>\n",
       "      <td>37.262753</td>\n",
       "      <td>127.691740</td>\n",
       "    </tr>\n",
       "    <tr>\n",
       "      <th>204</th>\n",
       "      <td>여주시</td>\n",
       "      <td>베스트요양병원</td>\n",
       "      <td>영업중</td>\n",
       "      <td>031-884-8100</td>\n",
       "      <td>37.181817</td>\n",
       "      <td>127.561119</td>\n",
       "    </tr>\n",
       "    <tr>\n",
       "      <th>205</th>\n",
       "      <td>여주시</td>\n",
       "      <td>상경원인터메드요양병원</td>\n",
       "      <td>영업중</td>\n",
       "      <td>1600-5075</td>\n",
       "      <td>37.289036</td>\n",
       "      <td>127.702148</td>\n",
       "    </tr>\n",
       "    <tr>\n",
       "      <th>206</th>\n",
       "      <td>여주시</td>\n",
       "      <td>여주나무요양병원</td>\n",
       "      <td>영업중</td>\n",
       "      <td>031-885-1203</td>\n",
       "      <td>37.244333</td>\n",
       "      <td>127.534960</td>\n",
       "    </tr>\n",
       "    <tr>\n",
       "      <th>207</th>\n",
       "      <td>여주시</td>\n",
       "      <td>여주세민병원</td>\n",
       "      <td>영업중</td>\n",
       "      <td>031-883-7585</td>\n",
       "      <td>37.178461</td>\n",
       "      <td>127.566139</td>\n",
       "    </tr>\n",
       "    <tr>\n",
       "      <th>208</th>\n",
       "      <td>여주시</td>\n",
       "      <td>여주순영병원</td>\n",
       "      <td>영업중</td>\n",
       "      <td>031-883-7585</td>\n",
       "      <td>37.178461</td>\n",
       "      <td>127.566139</td>\n",
       "    </tr>\n",
       "    <tr>\n",
       "      <th>209</th>\n",
       "      <td>오산시</td>\n",
       "      <td>버팀병원</td>\n",
       "      <td>영업중</td>\n",
       "      <td>031-1661-0032</td>\n",
       "      <td>37.149292</td>\n",
       "      <td>127.073974</td>\n",
       "    </tr>\n",
       "    <tr>\n",
       "      <th>210</th>\n",
       "      <td>오산시</td>\n",
       "      <td>삼성본병원</td>\n",
       "      <td>영업중</td>\n",
       "      <td>031-1522-7525</td>\n",
       "      <td>37.190937</td>\n",
       "      <td>127.061470</td>\n",
       "    </tr>\n",
       "    <tr>\n",
       "      <th>211</th>\n",
       "      <td>오산시</td>\n",
       "      <td>서울어린이병원</td>\n",
       "      <td>영업중</td>\n",
       "      <td>031-375-4197</td>\n",
       "      <td>37.143421</td>\n",
       "      <td>127.073106</td>\n",
       "    </tr>\n",
       "    <tr>\n",
       "      <th>212</th>\n",
       "      <td>오산시</td>\n",
       "      <td>세교요양병원</td>\n",
       "      <td>영업중</td>\n",
       "      <td>031-373-3500</td>\n",
       "      <td>37.174968</td>\n",
       "      <td>127.050175</td>\n",
       "    </tr>\n",
       "    <tr>\n",
       "      <th>213</th>\n",
       "      <td>오산시</td>\n",
       "      <td>세마그린요양병원</td>\n",
       "      <td>영업중</td>\n",
       "      <td>031-376-8830</td>\n",
       "      <td>37.185897</td>\n",
       "      <td>127.042211</td>\n",
       "    </tr>\n",
       "    <tr>\n",
       "      <th>214</th>\n",
       "      <td>오산시</td>\n",
       "      <td>송호욱병원</td>\n",
       "      <td>영업중</td>\n",
       "      <td>1800-6655</td>\n",
       "      <td>37.169467</td>\n",
       "      <td>127.064376</td>\n",
       "    </tr>\n",
       "    <tr>\n",
       "      <th>215</th>\n",
       "      <td>오산시</td>\n",
       "      <td>스타트요양병원</td>\n",
       "      <td>영업중</td>\n",
       "      <td>031-373-1773</td>\n",
       "      <td>37.171897</td>\n",
       "      <td>127.060724</td>\n",
       "    </tr>\n",
       "    <tr>\n",
       "      <th>216</th>\n",
       "      <td>오산시</td>\n",
       "      <td>오산메디컬재활요양병원</td>\n",
       "      <td>영업중</td>\n",
       "      <td>031-375-0071</td>\n",
       "      <td>37.154064</td>\n",
       "      <td>127.064814</td>\n",
       "    </tr>\n",
       "    <tr>\n",
       "      <th>217</th>\n",
       "      <td>오산시</td>\n",
       "      <td>오산세종병원</td>\n",
       "      <td>영업중</td>\n",
       "      <td>031-1670-8971</td>\n",
       "      <td>37.127607</td>\n",
       "      <td>127.067228</td>\n",
       "    </tr>\n",
       "    <tr>\n",
       "      <th>218</th>\n",
       "      <td>오산시</td>\n",
       "      <td>오산신경정신병원</td>\n",
       "      <td>영업중</td>\n",
       "      <td>031-373-1254</td>\n",
       "      <td>37.165392</td>\n",
       "      <td>127.043807</td>\n",
       "    </tr>\n",
       "    <tr>\n",
       "      <th>219</th>\n",
       "      <td>오산시</td>\n",
       "      <td>우현병원</td>\n",
       "      <td>영업중</td>\n",
       "      <td>031-378-0866</td>\n",
       "      <td>37.146969</td>\n",
       "      <td>127.069516</td>\n",
       "    </tr>\n",
       "    <tr>\n",
       "      <th>220</th>\n",
       "      <td>오산시</td>\n",
       "      <td>조은오산병원</td>\n",
       "      <td>영업중</td>\n",
       "      <td>1544-5355</td>\n",
       "      <td>37.154202</td>\n",
       "      <td>127.068191</td>\n",
       "    </tr>\n",
       "    <tr>\n",
       "      <th>221</th>\n",
       "      <td>오산시</td>\n",
       "      <td>평안한사랑병원</td>\n",
       "      <td>영업중</td>\n",
       "      <td>031-372-8600</td>\n",
       "      <td>37.185946</td>\n",
       "      <td>127.042062</td>\n",
       "    </tr>\n",
       "    <tr>\n",
       "      <th>222</th>\n",
       "      <td>용인시</td>\n",
       "      <td>감인의료재단 신갈백세요양병원</td>\n",
       "      <td>영업중</td>\n",
       "      <td>031-693-6900</td>\n",
       "      <td>37.286829</td>\n",
       "      <td>127.097206</td>\n",
       "    </tr>\n",
       "    <tr>\n",
       "      <th>223</th>\n",
       "      <td>용인시</td>\n",
       "      <td>새로운경기도립정신병원</td>\n",
       "      <td>영업중</td>\n",
       "      <td>031-300-6200</td>\n",
       "      <td>37.250729</td>\n",
       "      <td>127.154647</td>\n",
       "    </tr>\n",
       "    <tr>\n",
       "      <th>224</th>\n",
       "      <td>용인시</td>\n",
       "      <td>서울시립 백암정신병원</td>\n",
       "      <td>영업중</td>\n",
       "      <td>031-332-3194</td>\n",
       "      <td>37.122127</td>\n",
       "      <td>127.364815</td>\n",
       "    </tr>\n",
       "    <tr>\n",
       "      <th>225</th>\n",
       "      <td>용인시</td>\n",
       "      <td>용인정신병원</td>\n",
       "      <td>영업중</td>\n",
       "      <td>031-288-0114</td>\n",
       "      <td>37.250729</td>\n",
       "      <td>127.154647</td>\n",
       "    </tr>\n",
       "    <tr>\n",
       "      <th>226</th>\n",
       "      <td>용인시</td>\n",
       "      <td>이음병원</td>\n",
       "      <td>영업중</td>\n",
       "      <td>031-212-1500</td>\n",
       "      <td>37.274829</td>\n",
       "      <td>127.073335</td>\n",
       "    </tr>\n",
       "    <tr>\n",
       "      <th>227</th>\n",
       "      <td>용인시</td>\n",
       "      <td>컬럼비아치과병원</td>\n",
       "      <td>영업중</td>\n",
       "      <td>031-693-7528</td>\n",
       "      <td>37.281575</td>\n",
       "      <td>127.160880</td>\n",
       "    </tr>\n",
       "    <tr>\n",
       "      <th>228</th>\n",
       "      <td>의왕시</td>\n",
       "      <td>다사랑중앙병원</td>\n",
       "      <td>영업중</td>\n",
       "      <td>340-5000</td>\n",
       "      <td>37.353128</td>\n",
       "      <td>126.973845</td>\n",
       "    </tr>\n",
       "    <tr>\n",
       "      <th>229</th>\n",
       "      <td>의왕시</td>\n",
       "      <td>부곡치과병원</td>\n",
       "      <td>영업중</td>\n",
       "      <td>031-462-3280</td>\n",
       "      <td>37.321458</td>\n",
       "      <td>126.949055</td>\n",
       "    </tr>\n",
       "    <tr>\n",
       "      <th>230</th>\n",
       "      <td>의왕시</td>\n",
       "      <td>의료법인 계요의료재단 계요병원</td>\n",
       "      <td>영업중</td>\n",
       "      <td>031-455-3333</td>\n",
       "      <td>37.347969</td>\n",
       "      <td>126.981321</td>\n",
       "    </tr>\n",
       "    <tr>\n",
       "      <th>231</th>\n",
       "      <td>의정부시</td>\n",
       "      <td>새하늘병원</td>\n",
       "      <td>영업중</td>\n",
       "      <td>031-836-7341</td>\n",
       "      <td>37.754700</td>\n",
       "      <td>127.043735</td>\n",
       "    </tr>\n",
       "    <tr>\n",
       "      <th>232</th>\n",
       "      <td>의정부시</td>\n",
       "      <td>신여성병원</td>\n",
       "      <td>영업중</td>\n",
       "      <td>879-3800</td>\n",
       "      <td>37.737959</td>\n",
       "      <td>127.040558</td>\n",
       "    </tr>\n",
       "    <tr>\n",
       "      <th>233</th>\n",
       "      <td>의정부시</td>\n",
       "      <td>의정부힐링스병원</td>\n",
       "      <td>영업중</td>\n",
       "      <td>031-853-9222</td>\n",
       "      <td>37.753081</td>\n",
       "      <td>127.070933</td>\n",
       "    </tr>\n",
       "    <tr>\n",
       "      <th>234</th>\n",
       "      <td>의정부시</td>\n",
       "      <td>청우병원</td>\n",
       "      <td>영업중</td>\n",
       "      <td>031-840-6500</td>\n",
       "      <td>37.749719</td>\n",
       "      <td>127.044629</td>\n",
       "    </tr>\n",
       "    <tr>\n",
       "      <th>235</th>\n",
       "      <td>의정부시</td>\n",
       "      <td>탑연세치과병원</td>\n",
       "      <td>영업중</td>\n",
       "      <td>031-853-2870</td>\n",
       "      <td>37.753081</td>\n",
       "      <td>127.070933</td>\n",
       "    </tr>\n",
       "    <tr>\n",
       "      <th>236</th>\n",
       "      <td>의정부시</td>\n",
       "      <td>한서중앙병원</td>\n",
       "      <td>영업중</td>\n",
       "      <td>031-875-7878</td>\n",
       "      <td>37.731912</td>\n",
       "      <td>127.047779</td>\n",
       "    </tr>\n",
       "    <tr>\n",
       "      <th>237</th>\n",
       "      <td>이천시</td>\n",
       "      <td>성안드레아병원</td>\n",
       "      <td>영업중</td>\n",
       "      <td>031-639-3700</td>\n",
       "      <td>37.246114</td>\n",
       "      <td>127.388148</td>\n",
       "    </tr>\n",
       "    <tr>\n",
       "      <th>238</th>\n",
       "      <td>이천시</td>\n",
       "      <td>이천소망병원</td>\n",
       "      <td>영업중</td>\n",
       "      <td>637-7400</td>\n",
       "      <td>37.245176</td>\n",
       "      <td>127.421671</td>\n",
       "    </tr>\n",
       "    <tr>\n",
       "      <th>239</th>\n",
       "      <td>이천시</td>\n",
       "      <td>추새로병원</td>\n",
       "      <td>영업중</td>\n",
       "      <td>1644-0810</td>\n",
       "      <td>37.281515</td>\n",
       "      <td>127.443675</td>\n",
       "    </tr>\n",
       "    <tr>\n",
       "      <th>240</th>\n",
       "      <td>파주시</td>\n",
       "      <td>동서한방병원</td>\n",
       "      <td>영업중</td>\n",
       "      <td>944-1100(5)</td>\n",
       "      <td>37.754523</td>\n",
       "      <td>126.781994</td>\n",
       "    </tr>\n",
       "    <tr>\n",
       "      <th>241</th>\n",
       "      <td>파주시</td>\n",
       "      <td>민들레병원</td>\n",
       "      <td>영업중</td>\n",
       "      <td>031-947-6400</td>\n",
       "      <td>37.789004</td>\n",
       "      <td>126.709769</td>\n",
       "    </tr>\n",
       "    <tr>\n",
       "      <th>242</th>\n",
       "      <td>평택시</td>\n",
       "      <td>서울제일병원</td>\n",
       "      <td>영업중</td>\n",
       "      <td>031-686-7271~3</td>\n",
       "      <td>36.988050</td>\n",
       "      <td>126.931544</td>\n",
       "    </tr>\n",
       "    <tr>\n",
       "      <th>243</th>\n",
       "      <td>평택시</td>\n",
       "      <td>성심중앙병원</td>\n",
       "      <td>영업중</td>\n",
       "      <td>031-681-1119</td>\n",
       "      <td>36.984050</td>\n",
       "      <td>126.927642</td>\n",
       "    </tr>\n",
       "    <tr>\n",
       "      <th>244</th>\n",
       "      <td>평택시</td>\n",
       "      <td>의료법인 양진의료재단 한빛성세노인전문병원</td>\n",
       "      <td>영업중</td>\n",
       "      <td>031-651-0707</td>\n",
       "      <td>36.991968</td>\n",
       "      <td>127.111241</td>\n",
       "    </tr>\n",
       "    <tr>\n",
       "      <th>245</th>\n",
       "      <td>평택시</td>\n",
       "      <td>의료법인 혜담의료재단 평택이편안요양병원</td>\n",
       "      <td>영업중</td>\n",
       "      <td>031-683-2277</td>\n",
       "      <td>36.997454</td>\n",
       "      <td>126.950581</td>\n",
       "    </tr>\n",
       "    <tr>\n",
       "      <th>246</th>\n",
       "      <td>평택시</td>\n",
       "      <td>의료법인양진의료재단 성세아이들병원</td>\n",
       "      <td>영업중</td>\n",
       "      <td>031-657-1451</td>\n",
       "      <td>36.990356</td>\n",
       "      <td>127.106203</td>\n",
       "    </tr>\n",
       "    <tr>\n",
       "      <th>247</th>\n",
       "      <td>평택시</td>\n",
       "      <td>평택삼성요양병원</td>\n",
       "      <td>영업중</td>\n",
       "      <td>031-658-7800</td>\n",
       "      <td>37.000760</td>\n",
       "      <td>127.112117</td>\n",
       "    </tr>\n",
       "    <tr>\n",
       "      <th>248</th>\n",
       "      <td>평택시</td>\n",
       "      <td>평택우리병원</td>\n",
       "      <td>영업중</td>\n",
       "      <td>031-653-6530</td>\n",
       "      <td>36.998881</td>\n",
       "      <td>127.113577</td>\n",
       "    </tr>\n",
       "    <tr>\n",
       "      <th>249</th>\n",
       "      <td>평택시</td>\n",
       "      <td>평택제니스요양병원</td>\n",
       "      <td>영업중</td>\n",
       "      <td>031-657-2200</td>\n",
       "      <td>36.994287</td>\n",
       "      <td>127.111937</td>\n",
       "    </tr>\n",
       "    <tr>\n",
       "      <th>250</th>\n",
       "      <td>평택시</td>\n",
       "      <td>평택준한방병원</td>\n",
       "      <td>영업중</td>\n",
       "      <td>1522-5900</td>\n",
       "      <td>37.019662</td>\n",
       "      <td>126.915931</td>\n",
       "    </tr>\n",
       "    <tr>\n",
       "      <th>251</th>\n",
       "      <td>평택시</td>\n",
       "      <td>평택한방병원</td>\n",
       "      <td>영업중</td>\n",
       "      <td>031-8094-2080</td>\n",
       "      <td>36.992670</td>\n",
       "      <td>127.097134</td>\n",
       "    </tr>\n",
       "    <tr>\n",
       "      <th>252</th>\n",
       "      <td>포천시</td>\n",
       "      <td>강병원</td>\n",
       "      <td>영업중</td>\n",
       "      <td>031-535-2119</td>\n",
       "      <td>37.898143</td>\n",
       "      <td>127.204693</td>\n",
       "    </tr>\n",
       "    <tr>\n",
       "      <th>253</th>\n",
       "      <td>포천시</td>\n",
       "      <td>경기도의료원포천병원</td>\n",
       "      <td>영업중</td>\n",
       "      <td>031-539-9114</td>\n",
       "      <td>37.903093</td>\n",
       "      <td>127.198349</td>\n",
       "    </tr>\n",
       "    <tr>\n",
       "      <th>254</th>\n",
       "      <td>포천시</td>\n",
       "      <td>국군포천병원</td>\n",
       "      <td>영업중</td>\n",
       "      <td>031-531-0803</td>\n",
       "      <td>37.915973</td>\n",
       "      <td>127.310359</td>\n",
       "    </tr>\n",
       "    <tr>\n",
       "      <th>255</th>\n",
       "      <td>포천시</td>\n",
       "      <td>의료법인일심의료재단우리병원</td>\n",
       "      <td>영업중</td>\n",
       "      <td>031-542-0222</td>\n",
       "      <td>37.827488</td>\n",
       "      <td>127.148136</td>\n",
       "    </tr>\n",
       "    <tr>\n",
       "      <th>256</th>\n",
       "      <td>포천시</td>\n",
       "      <td>인화병원</td>\n",
       "      <td>영업중</td>\n",
       "      <td>031-514-9988</td>\n",
       "      <td>37.771532</td>\n",
       "      <td>127.156531</td>\n",
       "    </tr>\n",
       "    <tr>\n",
       "      <th>257</th>\n",
       "      <td>포천시</td>\n",
       "      <td>포천힐링요양병원</td>\n",
       "      <td>영업중</td>\n",
       "      <td>031-536-7666</td>\n",
       "      <td>37.919811</td>\n",
       "      <td>127.187336</td>\n",
       "    </tr>\n",
       "    <tr>\n",
       "      <th>258</th>\n",
       "      <td>포천시</td>\n",
       "      <td>화현요양병원</td>\n",
       "      <td>영업중</td>\n",
       "      <td>031-532-0027</td>\n",
       "      <td>37.912544</td>\n",
       "      <td>127.308217</td>\n",
       "    </tr>\n",
       "    <tr>\n",
       "      <th>259</th>\n",
       "      <td>하남시</td>\n",
       "      <td>더 바른병원</td>\n",
       "      <td>영업중</td>\n",
       "      <td>031-796-9500</td>\n",
       "      <td>37.536771</td>\n",
       "      <td>127.207369</td>\n",
       "    </tr>\n",
       "    <tr>\n",
       "      <th>260</th>\n",
       "      <td>화성시</td>\n",
       "      <td>나이스병원</td>\n",
       "      <td>영업중</td>\n",
       "      <td>031-297-8875</td>\n",
       "      <td>37.220439</td>\n",
       "      <td>126.949035</td>\n",
       "    </tr>\n",
       "    <tr>\n",
       "      <th>261</th>\n",
       "      <td>화성시</td>\n",
       "      <td>동탄센트럴치과병원</td>\n",
       "      <td>영업중</td>\n",
       "      <td>031-374-7512</td>\n",
       "      <td>37.198142</td>\n",
       "      <td>127.097768</td>\n",
       "    </tr>\n",
       "    <tr>\n",
       "      <th>262</th>\n",
       "      <td>화성시</td>\n",
       "      <td>메타메디병원</td>\n",
       "      <td>영업중</td>\n",
       "      <td>031-8003-1834</td>\n",
       "      <td>37.217266</td>\n",
       "      <td>127.058849</td>\n",
       "    </tr>\n",
       "    <tr>\n",
       "      <th>263</th>\n",
       "      <td>화성시</td>\n",
       "      <td>바르다임병원</td>\n",
       "      <td>영업중</td>\n",
       "      <td>031-8058-0123</td>\n",
       "      <td>37.182127</td>\n",
       "      <td>127.123472</td>\n",
       "    </tr>\n",
       "    <tr>\n",
       "      <th>264</th>\n",
       "      <td>화성시</td>\n",
       "      <td>베스트아이들병원</td>\n",
       "      <td>영업중</td>\n",
       "      <td>031-652-8000</td>\n",
       "      <td>37.205309</td>\n",
       "      <td>127.072408</td>\n",
       "    </tr>\n",
       "    <tr>\n",
       "      <th>265</th>\n",
       "      <td>화성시</td>\n",
       "      <td>사회복지법인 상록원 상록요양병원</td>\n",
       "      <td>영업중</td>\n",
       "      <td>031-355-1872</td>\n",
       "      <td>37.201541</td>\n",
       "      <td>126.783152</td>\n",
       "    </tr>\n",
       "    <tr>\n",
       "      <th>266</th>\n",
       "      <td>화성시</td>\n",
       "      <td>삼성우리요양병원</td>\n",
       "      <td>영업중</td>\n",
       "      <td>031-891-7575</td>\n",
       "      <td>37.214633</td>\n",
       "      <td>127.041970</td>\n",
       "    </tr>\n",
       "    <tr>\n",
       "      <th>267</th>\n",
       "      <td>화성시</td>\n",
       "      <td>새봄병원</td>\n",
       "      <td>영업중</td>\n",
       "      <td>031-357-8100</td>\n",
       "      <td>37.284993</td>\n",
       "      <td>126.816836</td>\n",
       "    </tr>\n",
       "    <tr>\n",
       "      <th>268</th>\n",
       "      <td>화성시</td>\n",
       "      <td>새샘병원</td>\n",
       "      <td>영업중</td>\n",
       "      <td>031-307-7997</td>\n",
       "      <td>37.208750</td>\n",
       "      <td>127.033463</td>\n",
       "    </tr>\n",
       "    <tr>\n",
       "      <th>269</th>\n",
       "      <td>화성시</td>\n",
       "      <td>센트럴아동병원</td>\n",
       "      <td>영업중</td>\n",
       "      <td>031-8060-5000</td>\n",
       "      <td>37.204614</td>\n",
       "      <td>127.072040</td>\n",
       "    </tr>\n",
       "    <tr>\n",
       "      <th>270</th>\n",
       "      <td>화성시</td>\n",
       "      <td>수앤수병원</td>\n",
       "      <td>영업중</td>\n",
       "      <td>031-319-0119</td>\n",
       "      <td>37.114638</td>\n",
       "      <td>126.912726</td>\n",
       "    </tr>\n",
       "    <tr>\n",
       "      <th>271</th>\n",
       "      <td>화성시</td>\n",
       "      <td>연세나은요양병원</td>\n",
       "      <td>영업중</td>\n",
       "      <td>031-350-0001</td>\n",
       "      <td>37.114935</td>\n",
       "      <td>126.873835</td>\n",
       "    </tr>\n",
       "    <tr>\n",
       "      <th>272</th>\n",
       "      <td>화성시</td>\n",
       "      <td>의료법인 승민의료재단 화성초록병원</td>\n",
       "      <td>영업중</td>\n",
       "      <td>031-352-0885</td>\n",
       "      <td>37.089744</td>\n",
       "      <td>126.956892</td>\n",
       "    </tr>\n",
       "    <tr>\n",
       "      <th>273</th>\n",
       "      <td>화성시</td>\n",
       "      <td>의료법인 시몬의료재단 우리가병원</td>\n",
       "      <td>영업중</td>\n",
       "      <td>031-355-0081</td>\n",
       "      <td>37.173051</td>\n",
       "      <td>126.661362</td>\n",
       "    </tr>\n",
       "    <tr>\n",
       "      <th>274</th>\n",
       "      <td>화성시</td>\n",
       "      <td>의료법인 아주효성의료재단 효성요양병원</td>\n",
       "      <td>영업중</td>\n",
       "      <td>031-232-8636</td>\n",
       "      <td>37.214971</td>\n",
       "      <td>127.043117</td>\n",
       "    </tr>\n",
       "    <tr>\n",
       "      <th>275</th>\n",
       "      <td>화성시</td>\n",
       "      <td>의료법인 원광의료재단 원광종합병원</td>\n",
       "      <td>영업중</td>\n",
       "      <td>031-8077-7200</td>\n",
       "      <td>37.210062</td>\n",
       "      <td>127.008030</td>\n",
       "    </tr>\n",
       "    <tr>\n",
       "      <th>276</th>\n",
       "      <td>화성시</td>\n",
       "      <td>의료법인 은혜와감사의료재단 향남스마트병원</td>\n",
       "      <td>영업중</td>\n",
       "      <td>031-233-9114</td>\n",
       "      <td>37.114774</td>\n",
       "      <td>126.911059</td>\n",
       "    </tr>\n",
       "    <tr>\n",
       "      <th>277</th>\n",
       "      <td>화성시</td>\n",
       "      <td>의료법인 은혜와감사의료재단 화성중앙종합병원</td>\n",
       "      <td>영업중</td>\n",
       "      <td>031-352-8114</td>\n",
       "      <td>37.131350</td>\n",
       "      <td>126.910773</td>\n",
       "    </tr>\n",
       "    <tr>\n",
       "      <th>278</th>\n",
       "      <td>화성시</td>\n",
       "      <td>의료법인 일선의료재단 화성현대요양병원</td>\n",
       "      <td>영업중</td>\n",
       "      <td>031-379-6000</td>\n",
       "      <td>37.042361</td>\n",
       "      <td>126.798045</td>\n",
       "    </tr>\n",
       "    <tr>\n",
       "      <th>279</th>\n",
       "      <td>화성시</td>\n",
       "      <td>의료법인상운의료재단 동탄제일병원</td>\n",
       "      <td>영업중</td>\n",
       "      <td>031-8015-9999</td>\n",
       "      <td>37.216545</td>\n",
       "      <td>127.078499</td>\n",
       "    </tr>\n",
       "    <tr>\n",
       "      <th>280</th>\n",
       "      <td>화성시</td>\n",
       "      <td>의료법인정도의료재단 화성미소요양병원</td>\n",
       "      <td>영업중</td>\n",
       "      <td>031-366-7585</td>\n",
       "      <td>37.204484</td>\n",
       "      <td>126.782246</td>\n",
       "    </tr>\n",
       "    <tr>\n",
       "      <th>281</th>\n",
       "      <td>화성시</td>\n",
       "      <td>제일요양병원</td>\n",
       "      <td>영업중</td>\n",
       "      <td>031-526-0030</td>\n",
       "      <td>37.211213</td>\n",
       "      <td>127.036367</td>\n",
       "    </tr>\n",
       "    <tr>\n",
       "      <th>282</th>\n",
       "      <td>화성시</td>\n",
       "      <td>한송한방병원</td>\n",
       "      <td>영업중</td>\n",
       "      <td>031-366-7070</td>\n",
       "      <td>37.198816</td>\n",
       "      <td>126.825648</td>\n",
       "    </tr>\n",
       "    <tr>\n",
       "      <th>283</th>\n",
       "      <td>화성시</td>\n",
       "      <td>화성유일병원</td>\n",
       "      <td>영업중</td>\n",
       "      <td>031-355-0119</td>\n",
       "      <td>37.217785</td>\n",
       "      <td>126.832659</td>\n",
       "    </tr>\n",
       "    <tr>\n",
       "      <th>284</th>\n",
       "      <td>화성시</td>\n",
       "      <td>화성한방병원</td>\n",
       "      <td>영업중</td>\n",
       "      <td>031-356-8275</td>\n",
       "      <td>37.116396</td>\n",
       "      <td>126.910867</td>\n",
       "    </tr>\n",
       "    <tr>\n",
       "      <th>285</th>\n",
       "      <td>화성시</td>\n",
       "      <td>희망찬병원</td>\n",
       "      <td>영업중</td>\n",
       "      <td>031-221-6999</td>\n",
       "      <td>37.213417</td>\n",
       "      <td>127.037559</td>\n",
       "    </tr>\n",
       "  </tbody>\n",
       "</table>\n",
       "</div>"
      ],
      "text/plain": [
       "      시군명                     사업장명 영업상태명        소재지시설전화번호         위도  \\\n",
       "0     가평군               노체리안드리자애병원   영업중     031-589-0301  37.884883   \n",
       "1     가평군           에이치제이매그놀리아국제병원   영업중     031-589-4300  37.691127   \n",
       "2     가평군                   청평우리병원   영업중     031-585-5115  37.737202   \n",
       "3     가평군                 청평활명요양병원   영업중     031-584-0545  37.663666   \n",
       "4     고양시                   고양정신병원   영업중     031 969 0885  37.711499   \n",
       "5     고양시                   그레이스병원   영업중     031-901-4000  37.644761   \n",
       "6     고양시                    늘푸른병원   영업중     031 967 9966  37.663622   \n",
       "7     고양시                   동원요양병원   영업중     031-850-7000  37.672956   \n",
       "8     고양시                    든든한병원   영업중     031-930-6800  37.699074   \n",
       "9     고양시                   라엘마음병원   영업중     031-978-5454  37.627532   \n",
       "10    고양시                로하스일산요양병원   영업중     031-976-2200  37.684990   \n",
       "11    고양시               로하스클로버요양병원   영업중     031-967-5050  37.657379   \n",
       "12    고양시                  리빙웰치과병원   영업중     031 916 8020  37.670640   \n",
       "13    고양시                    린치과병원   영업중     031-974-2828  37.633997   \n",
       "14    고양시                 메디누리요양병원   영업중     031-925-7575  37.691944   \n",
       "15    고양시                  무지개요양병원   영업중     031-916-1122  37.696688   \n",
       "16    고양시                 사과나무치과병원   영업중     031 913 9000  37.671256   \n",
       "17    고양시                 서울메이치과병원   영업중     031-973-6004  37.633630   \n",
       "18    고양시                   연세서울병원   영업중       0319079920  37.653798   \n",
       "19    고양시                연세플라워치과병원   영업중     031-917-4009  37.657087   \n",
       "20    고양시                   연세항맥병원   영업중     031-925-0667  37.670578   \n",
       "21    고양시       의료법인 세경의료재단 새빛안과병원   영업중     031-900-7700  37.644260   \n",
       "22    고양시  의료법인사과나무의료재단 중산사과나무치과병원   영업중       0319770123  37.681790   \n",
       "23    고양시                  이푸른요양병원   영업중     031-932-3338  37.647596   \n",
       "24    고양시                일산리더스요양병원   영업중     031-962-0050  37.674557   \n",
       "25    고양시                일산메디안요양병원   영업중         913-3119  37.676213   \n",
       "26    고양시                 일산사랑요양병원   영업중     031-901-8119  37.644748   \n",
       "27    고양시                일산아르고요양병원   영업중     031-976-1844  37.675003   \n",
       "28    고양시                일산이십일세기병원   영업중     031-909-9600  37.643929   \n",
       "29    고양시                   일산자애병원   영업중     031-919-9942  37.663669   \n",
       "30    고양시                   일산하이병원   영업중    031-1522-1275  37.682553   \n",
       "31    고양시                 일산한울요양병원   영업중     031-975-3700  37.685299   \n",
       "32    고양시                 일산현대요양병원   영업중     031 922 7575  37.676547   \n",
       "33    고양시                 일산호수요양병원   영업중     031-903-8275  37.659707   \n",
       "34    고양시                   제이요양병원   영업중       977-8101~4  37.682457   \n",
       "35    고양시                   차연한방병원   영업중     031-816-1010  37.663071   \n",
       "36    고양시                    척사랑병원   영업중        1522-7585  37.671149   \n",
       "37    고양시                   카프성모병원   영업중     031-810-9200  37.645157   \n",
       "38    고양시                    허유재병원   영업중     031-817-1100  37.662929   \n",
       "39    고양시                   효림요양병원   영업중       0319190041  37.670555   \n",
       "40    광주시                 강남제일요양병원   영업중     031-711-0220  37.374365   \n",
       "41    광주시                   더플러스병원   영업중     031-763-7582  37.409518   \n",
       "42    광주시                  선한빛요양병원   영업중     031-765-0908  37.411658   \n",
       "43    광주시               스마일디자인치과병원   영업중     031-768-2333  37.409667   \n",
       "44    광주시          에스알씨(SRC)노인전문병원   영업중   031-760-3671,4  37.419511   \n",
       "45    광주시                  위더스요양병원   영업중     031-798-5554  37.367389   \n",
       "46    광주시                  한사랑요양병원   영업중     031-763-3352  37.325241   \n",
       "47    광주시                   효천요양병원   영업중     031-799-8600  37.317428   \n",
       "48    구리시                 구리한빛요양병원   영업중     031-524-9990  37.597500   \n",
       "49    구리시                  구리효요양병원   영업중         565-3114  37.605096   \n",
       "50    구리시                      굿병원   영업중     031-564-4114  37.597293   \n",
       "51    구리시                서울라이즈요양병원   영업중     031-564-1991  37.598131   \n",
       "52    구리시                   연세마음병원   영업중     031-554-0070  37.599896   \n",
       "53    구리시                     윤서병원   영업중     031-553-6650  37.605212   \n",
       "54    구리시          의료법인기상의료재단카이저병원   영업중     031-554-7723  37.605044   \n",
       "55    구리시                  투재암요양병원   영업중     031-528-8899  37.598990   \n",
       "56    구리시                  행복한외과병원   영업중     031-557-7582  37.595418   \n",
       "57    군포시                    윈치과병원   영업중        1544-7528  37.365497   \n",
       "58    군포시    의료법인 희망나눔의료재단 휴성심요양병원   영업중     031-477-9797  37.343715   \n",
       "59    김포시                   김포다은병원   영업중     031-996-1338  37.622735   \n",
       "60    김포시                  김포한누리병원   영업중     031-981-3000  37.700529   \n",
       "61    김포시                 한강아이제일병원   영업중    031-8048-7575  37.645754   \n",
       "62    김포시                 한별정신건강병원   영업중     031-986-9900  37.639495   \n",
       "63   남양주시            경기도립노인전문남양주병원   영업중       0315905000  37.738515   \n",
       "64   남양주시                     국민병원   영업중    031-1877-7089  37.650059   \n",
       "65   남양주시                남양주21세기병원   영업중       0315731114  37.658762   \n",
       "66   남양주시                남양주경희한방병원   영업중        1533-3999  37.624805   \n",
       "67   남양주시                  남양주나눔병원   영업중     031-570-1000  37.697915   \n",
       "68   남양주시                남양주나무요양병원   영업중         511-5100  37.645336   \n",
       "69   남양주시             남양주정드림노인전문병원   영업중     031-511-8324  37.634575   \n",
       "70   남양주시                   누네안과병원   영업중     031-522-5292  37.711262   \n",
       "71   남양주시  다산의료소비자생활협동조합정석소아청소년과병원   영업중     031-573-6678  37.720642   \n",
       "72   남양주시                  비오람요양병원   영업중         574-1100  37.721071   \n",
       "73   남양주시                   새봄요양병원   영업중         573-0500  37.705351   \n",
       "74   남양주시              서울특별시축령정신병원   영업중     031-592-6661  37.738745   \n",
       "75   남양주시                 수동연세요양병원   영업중     031-594-8007  37.710107   \n",
       "76   남양주시                   실버힐스병원   영업중         511-9494  37.646616   \n",
       "77   남양주시                 아이맘어린이병원   영업중     031-563-9999  37.622710   \n",
       "78   남양주시                     온세병원   영업중         594-7912  37.645874   \n",
       "79   남양주시                      원병원   영업중     031-590-3114  37.651945   \n",
       "80   남양주시      의료법인다원의료재단 진접제일요양병원   영업중         573-3004  37.746182   \n",
       "81   남양주시                  진접 한양병원   영업중     031-510-0114  37.711262   \n",
       "82   남양주시                   축령복음병원   영업중     031-592-6661  37.738468   \n",
       "83   남양주시               퇴계원 서울요양병원   영업중     031-529-8188  37.650858   \n",
       "84   남양주시                   필립요양병원   영업중        1877-7504  37.649997   \n",
       "85   남양주시               하나소아청소년과병원   영업중     031-593-1140  37.654074   \n",
       "86   남양주시                  한가온한방병원   영업중     031-992-6100  37.654718   \n",
       "87   남양주시                   호평요양병원   영업중         559-8700  37.654029   \n",
       "88   남양주시                    휴메디병원   영업중         554-8899  37.726374   \n",
       "89   동두천시                     동원병원   영업중     031-870-0701  37.900051   \n",
       "90    부천시                     가은병원   영업중     032-667-0114  37.477454   \n",
       "91    부천시                   더블유진병원   영업중     032-321-1433  37.505449   \n",
       "92    부천시                더편한소사요양병원   영업중     032-349-8090  37.479313   \n",
       "93    부천시                    루카스병원   영업중     032-310-0100  37.483595   \n",
       "94    부천시                  메르덴치과병원   영업중     032-328-2875  37.503769   \n",
       "95    부천시                    본새울병원   영업중     032-343-8275  37.466001   \n",
       "96    부천시                 부천21세기병원   영업중    032-1577-7521  37.483577   \n",
       "97    부천시                   부천사랑병원   영업중     032-678-0114  37.490271   \n",
       "98    부천시                 부천수림한방병원   영업중     032-341-3344  37.487070   \n",
       "99    부천시                   부천한방병원   영업중     032-345-7585  37.479313   \n",
       "100   부천시                    부천한병원   영업중     032-668-1119  37.499402   \n",
       "101   부천시                     생생병원   영업중     032-230-0700  37.481929   \n",
       "102   부천시                    엘드림병원   영업중     032-612-8575  37.483625   \n",
       "103   부천시                   연세제일병원   영업중     032-661-9119  37.519934   \n",
       "104   부천시                     이룸병원   영업중   032-674-5567~8  37.515787   \n",
       "105   부천시                   이안치과병원   영업중     032-677-8885  37.519654   \n",
       "106   부천시                      진병원   영업중     032-322-8275  37.503371   \n",
       "107   부천시                   평강치과병원   영업중     032-651-7528  37.483314   \n",
       "108   성남시                  분당예치과병원   영업중         708-2828  37.378689   \n",
       "109   성남시                    분당척병원   영업중     031-788-5050  37.412884   \n",
       "110   성남시                  성남사랑의병원   영업중     031-756-3024  37.443291   \n",
       "111   성남시                  성남예치과병원   영업중     031-757-9999  37.431666   \n",
       "112   성남시                 성남제일한방병원   영업중     031-758-1071  37.429459   \n",
       "113   성남시                   성모요양병원   영업중     031-707-9100  37.404711   \n",
       "114   성남시                     으뜸병원   영업중     031-759-1700  37.431045   \n",
       "115   성남시                    형치과병원   영업중     031-714-5000  37.337074   \n",
       "116   수원시                   강남여성병원   영업중     031-222-7575  37.276746   \n",
       "117   수원시                     김찬병원   영업중        1577-8858  37.262553   \n",
       "118   수원시                  나누리수원병원   영업중        1688-9797  37.273933   \n",
       "119   수원시                     다인병원   영업중    031-8014-1300  37.291925   \n",
       "120   수원시                     더웰병원   영업중     031-202-1144  37.255015   \n",
       "121   수원시                   동서요양병원   영업중     031-246-7250  37.291199   \n",
       "122   수원시                메디움수원요양병원   영업중     031-251-3336  37.287738   \n",
       "123   수원시                  메이저요양병원   영업중     031-237-7700  37.275682   \n",
       "124   수원시                   모아치과병원   영업중     031-226-5678  37.266285   \n",
       "125   수원시                   미래한방병원   영업중    031-8067-8275  37.278079   \n",
       "126   수원시                    바로본병원   영업중     031-251-8575  37.302210   \n",
       "127   수원시                     백성병원   영업중     031-238-9121  37.267745   \n",
       "128   수원시                     버팀병원   영업중        1661-0032  37.245162   \n",
       "129   수원시                 서울성모안과병원   영업중         226-8321  37.274537   \n",
       "130   수원시                   성모척관병원   영업중     031-242-2266  37.291938   \n",
       "131   수원시                세인트마리여성병원   영업중     031-289-3000  37.275438   \n",
       "132   수원시                    수여성병원   영업중    031-8012-7000  37.251247   \n",
       "133   수원시              수원브이아이피요양병원   영업중     031-254-5071  37.270950   \n",
       "134   수원시                 수원삼성요양병원   영업중     031-252-1005  37.293593   \n",
       "135   수원시                수원센트럴요양병원   영업중     031-278-2300  37.274676   \n",
       "136   수원시                   수원우노병원   영업중     031-233-7543  37.258541   \n",
       "137   수원시                 수원자생한방병원   영업중     031-695-8033  37.253327   \n",
       "138   수원시                   수원중앙병원   영업중     031-229-9777  37.259817   \n",
       "139   수원시                수원행복한요양병원   영업중     031-285-2100  37.303887   \n",
       "140   수원시                  수원효요양병원   영업중     031-271-9555  37.300409   \n",
       "141   수원시                   쉬즈메디병원   영업중     031-231-7300  37.274336   \n",
       "142   수원시                   시온여성병원   영업중     031-201-0700  37.252675   \n",
       "143   수원시                   아주다남병원   영업중     031-269-7578  37.296561   \n",
       "144   수원시                  아주대학교병원   영업중     031-219-5114  37.279343   \n",
       "145   수원시                   아주편한병원   영업중     031-269-5665  37.310477   \n",
       "146   수원시                 에덴메디여성병원   영업중     031-236-2000  37.249333   \n",
       "147   수원시                 연세엘림요양병원   영업중     031-255-0006  37.292960   \n",
       "148   수원시                  영통효요양병원   영업중     031-205-0011  37.237781   \n",
       "149   수원시                     우리병원   영업중     031-211-1700  37.263710   \n",
       "150   수원시                  위더스요양병원   영업중     031-239-7227  37.271745   \n",
       "151   수원시                  윈산부인과병원   영업중     031-201-9800  37.266690   \n",
       "152   수원시         의료법인 녹산의료재단동수원병원   영업중     031-210-0114  37.277944   \n",
       "153   수원시      의료법인 사랑나무의료재단 서수원병원   영업중     031-278-7115  37.241546   \n",
       "154   수원시    의료법인 사랑나무의료재단 서수원요양병원   영업중     031-221-2222  37.241546   \n",
       "155   수원시        의료법인 송설의료재단 수원백병원   영업중     031-252-2150  37.279035   \n",
       "156   수원시          의료법인 한성재단 S서울병원   영업중     031-225-7000  37.274612   \n",
       "157   수원시                   이안한방병원   영업중     031-213-1151  37.273159   \n",
       "158   수원시                   제이에스병원   영업중        1800-5446  37.273543   \n",
       "159   수원시                   참결한방병원   영업중     031-890-8080  37.276016   \n",
       "160   수원시                    초이스병원   영업중     031-216-8275  37.274029   \n",
       "161   수원시                     하나병원   영업중    031-8005-9111  37.273471   \n",
       "162   수원시      학교법인 대우학원 아주대학교요양병원   영업중    031-5174-5000  37.279129   \n",
       "163   수원시                     한독병원   영업중     031-232-4511  37.269642   \n",
       "164   수원시                  한빛현요양병원   영업중     031-248-7575  37.306425   \n",
       "165   수원시                     해성병원   영업중     031-222-7511  37.274124   \n",
       "166   수원시                   효정요양병원   영업중     031-253-7500  37.277726   \n",
       "167   시흥시                    예치과병원   영업중     031-432-0600  37.345420   \n",
       "168   안산시          (의)대선의료재단으뜸요양병원   영업중     031-363-5200  37.301537   \n",
       "169   안산시                    궁치과병원   영업중     031-504-2875  37.317673   \n",
       "170   안산시                     기둥병원   영업중     031-418-8275  37.302101   \n",
       "171   안산시                   동산한방병원   영업중     031-502-5975  37.307631   \n",
       "172   안산시                    동안산병원   영업중     031-410-1116  37.335629   \n",
       "173   안산시                   바른한방병원   영업중     031-437-6700  37.284639   \n",
       "174   안산시                   백비한방병원   영업중     031-893-4999  37.295343   \n",
       "175   안산시                베스트힐스요양병원   영업중     031-415-2300  37.281289   \n",
       "176   안산시      서연의료소비자생활협동조합본원한방병원   영업중     031-501-1199  37.290667   \n",
       "177   안산시                     성은병원   영업중     031-484-6500  37.300390   \n",
       "178   안산시               안산시립노인전문병원   영업중    031-8040-5114  37.299679   \n",
       "179   안산시                   안산연세병원   영업중     031-415-7515  37.308448   \n",
       "180   안산시                   안산튼튼병원   영업중    031-8040-8100  37.307851   \n",
       "181   안산시                  안성훈한방병원   영업중     031-365-3625  37.335065   \n",
       "182   안산시                   연세서울병원   영업중     031-415-1010  37.288487   \n",
       "183   안산시        의료법인해인의료재단 해인요양병원   영업중     031-416-1251  37.287732   \n",
       "184   안산시                   한국치과병원   영업중     031-506-3651  37.312228   \n",
       "185   안성시              경기도의료원 안성병원   영업중    031-8046-5000  37.017306   \n",
       "186   안성시                    동안성병원   영업중     031-673-3800  37.056576   \n",
       "187   안성시                미소플란트치과병원   영업중         691-2882  37.000026   \n",
       "188   안성시                 안성강남한방병원   영업중  031-8057-3075~6  37.007837   \n",
       "189   안성시                   안성동인병원   영업중         677-0300  37.005222   \n",
       "190   안성시                 안성동인요양병원   영업중         671-9100  37.004854   \n",
       "191   안성시                   안성성모병원   영업중     031-675-6007  37.005806   \n",
       "192   안성시                   안성요양병원   영업중         675-2316  37.009856   \n",
       "193   안성시                 안성현대요양병원   영업중         673-6116  37.018710   \n",
       "194   안성시                   인선요양병원   영업중         673-0836  37.129162   \n",
       "195   안성시                  파라밀요양병원   영업중     031-677-2613  37.064623   \n",
       "196   안성시                  허리편한 병원   영업중     031-656-2110  36.994387   \n",
       "197   안양시                  평촌예치과병원   영업중     031-440-8275  37.390725   \n",
       "198   안양시                   평촌중앙병원   영업중     031-387-0114  37.390351   \n",
       "199   안양시             효산의료재단 샘여성병원   영업중     031-467-1000  37.392361   \n",
       "200   양주시             송추정신병원(성람재단)   영업중     031-826-1300  37.741128   \n",
       "201   양주시                   양주소망병원   영업중     031-859-7997  37.844448   \n",
       "202   여주시             경기도립노인전문여주병원   영업중         886-4100  37.324981   \n",
       "203   여주시                   대진요양병원   영업중     031-887-0905  37.262753   \n",
       "204   여주시                  베스트요양병원   영업중     031-884-8100  37.181817   \n",
       "205   여주시              상경원인터메드요양병원   영업중        1600-5075  37.289036   \n",
       "206   여주시                 여주나무요양병원   영업중     031-885-1203  37.244333   \n",
       "207   여주시                   여주세민병원   영업중     031-883-7585  37.178461   \n",
       "208   여주시                   여주순영병원   영업중     031-883-7585  37.178461   \n",
       "209   오산시                     버팀병원   영업중    031-1661-0032  37.149292   \n",
       "210   오산시                    삼성본병원   영업중    031-1522-7525  37.190937   \n",
       "211   오산시                  서울어린이병원   영업중     031-375-4197  37.143421   \n",
       "212   오산시                   세교요양병원   영업중     031-373-3500  37.174968   \n",
       "213   오산시                 세마그린요양병원   영업중     031-376-8830  37.185897   \n",
       "214   오산시                    송호욱병원   영업중        1800-6655  37.169467   \n",
       "215   오산시                  스타트요양병원   영업중     031-373-1773  37.171897   \n",
       "216   오산시              오산메디컬재활요양병원   영업중     031-375-0071  37.154064   \n",
       "217   오산시                   오산세종병원   영업중    031-1670-8971  37.127607   \n",
       "218   오산시                 오산신경정신병원   영업중     031-373-1254  37.165392   \n",
       "219   오산시                     우현병원   영업중     031-378-0866  37.146969   \n",
       "220   오산시                   조은오산병원   영업중        1544-5355  37.154202   \n",
       "221   오산시                  평안한사랑병원   영업중     031-372-8600  37.185946   \n",
       "222   용인시          감인의료재단 신갈백세요양병원   영업중     031-693-6900  37.286829   \n",
       "223   용인시              새로운경기도립정신병원   영업중     031-300-6200  37.250729   \n",
       "224   용인시              서울시립 백암정신병원   영업중     031-332-3194  37.122127   \n",
       "225   용인시                   용인정신병원   영업중     031-288-0114  37.250729   \n",
       "226   용인시                     이음병원   영업중     031-212-1500  37.274829   \n",
       "227   용인시                 컬럼비아치과병원   영업중     031-693-7528  37.281575   \n",
       "228   의왕시                  다사랑중앙병원   영업중         340-5000  37.353128   \n",
       "229   의왕시                   부곡치과병원   영업중     031-462-3280  37.321458   \n",
       "230   의왕시         의료법인 계요의료재단 계요병원   영업중     031-455-3333  37.347969   \n",
       "231  의정부시                    새하늘병원   영업중     031-836-7341  37.754700   \n",
       "232  의정부시                    신여성병원   영업중         879-3800  37.737959   \n",
       "233  의정부시                 의정부힐링스병원   영업중     031-853-9222  37.753081   \n",
       "234  의정부시                     청우병원   영업중     031-840-6500  37.749719   \n",
       "235  의정부시                  탑연세치과병원   영업중     031-853-2870  37.753081   \n",
       "236  의정부시                   한서중앙병원   영업중     031-875-7878  37.731912   \n",
       "237   이천시                  성안드레아병원   영업중     031-639-3700  37.246114   \n",
       "238   이천시                   이천소망병원   영업중         637-7400  37.245176   \n",
       "239   이천시                    추새로병원   영업중        1644-0810  37.281515   \n",
       "240   파주시                   동서한방병원   영업중      944-1100(5)  37.754523   \n",
       "241   파주시                    민들레병원   영업중     031-947-6400  37.789004   \n",
       "242   평택시                   서울제일병원   영업중   031-686-7271~3  36.988050   \n",
       "243   평택시                   성심중앙병원   영업중     031-681-1119  36.984050   \n",
       "244   평택시   의료법인 양진의료재단 한빛성세노인전문병원   영업중     031-651-0707  36.991968   \n",
       "245   평택시    의료법인 혜담의료재단 평택이편안요양병원   영업중     031-683-2277  36.997454   \n",
       "246   평택시       의료법인양진의료재단 성세아이들병원   영업중     031-657-1451  36.990356   \n",
       "247   평택시                 평택삼성요양병원   영업중     031-658-7800  37.000760   \n",
       "248   평택시                   평택우리병원   영업중     031-653-6530  36.998881   \n",
       "249   평택시                평택제니스요양병원   영업중     031-657-2200  36.994287   \n",
       "250   평택시                  평택준한방병원   영업중        1522-5900  37.019662   \n",
       "251   평택시                   평택한방병원   영업중    031-8094-2080  36.992670   \n",
       "252   포천시                      강병원   영업중     031-535-2119  37.898143   \n",
       "253   포천시               경기도의료원포천병원   영업중     031-539-9114  37.903093   \n",
       "254   포천시                   국군포천병원   영업중     031-531-0803  37.915973   \n",
       "255   포천시           의료법인일심의료재단우리병원   영업중     031-542-0222  37.827488   \n",
       "256   포천시                     인화병원   영업중     031-514-9988  37.771532   \n",
       "257   포천시                 포천힐링요양병원   영업중     031-536-7666  37.919811   \n",
       "258   포천시                   화현요양병원   영업중     031-532-0027  37.912544   \n",
       "259   하남시                   더 바른병원   영업중     031-796-9500  37.536771   \n",
       "260   화성시                    나이스병원   영업중     031-297-8875  37.220439   \n",
       "261   화성시                동탄센트럴치과병원   영업중     031-374-7512  37.198142   \n",
       "262   화성시                   메타메디병원   영업중    031-8003-1834  37.217266   \n",
       "263   화성시                   바르다임병원   영업중    031-8058-0123  37.182127   \n",
       "264   화성시                 베스트아이들병원   영업중     031-652-8000  37.205309   \n",
       "265   화성시        사회복지법인 상록원 상록요양병원   영업중     031-355-1872  37.201541   \n",
       "266   화성시                 삼성우리요양병원   영업중     031-891-7575  37.214633   \n",
       "267   화성시                     새봄병원   영업중     031-357-8100  37.284993   \n",
       "268   화성시                     새샘병원   영업중     031-307-7997  37.208750   \n",
       "269   화성시                  센트럴아동병원   영업중    031-8060-5000  37.204614   \n",
       "270   화성시                    수앤수병원   영업중     031-319-0119  37.114638   \n",
       "271   화성시                 연세나은요양병원   영업중     031-350-0001  37.114935   \n",
       "272   화성시       의료법인 승민의료재단 화성초록병원   영업중     031-352-0885  37.089744   \n",
       "273   화성시        의료법인 시몬의료재단 우리가병원   영업중     031-355-0081  37.173051   \n",
       "274   화성시     의료법인 아주효성의료재단 효성요양병원   영업중     031-232-8636  37.214971   \n",
       "275   화성시       의료법인 원광의료재단 원광종합병원   영업중    031-8077-7200  37.210062   \n",
       "276   화성시   의료법인 은혜와감사의료재단 향남스마트병원   영업중     031-233-9114  37.114774   \n",
       "277   화성시  의료법인 은혜와감사의료재단 화성중앙종합병원   영업중     031-352-8114  37.131350   \n",
       "278   화성시     의료법인 일선의료재단 화성현대요양병원   영업중     031-379-6000  37.042361   \n",
       "279   화성시        의료법인상운의료재단 동탄제일병원   영업중    031-8015-9999  37.216545   \n",
       "280   화성시      의료법인정도의료재단 화성미소요양병원   영업중     031-366-7585  37.204484   \n",
       "281   화성시                   제일요양병원   영업중     031-526-0030  37.211213   \n",
       "282   화성시                   한송한방병원   영업중     031-366-7070  37.198816   \n",
       "283   화성시                   화성유일병원   영업중     031-355-0119  37.217785   \n",
       "284   화성시                   화성한방병원   영업중     031-356-8275  37.116396   \n",
       "285   화성시                    희망찬병원   영업중     031-221-6999  37.213417   \n",
       "\n",
       "             경도  \n",
       "0    127.351696  \n",
       "1    127.521381  \n",
       "2    127.415310  \n",
       "3    127.387660  \n",
       "4    126.854566  \n",
       "5    126.785092  \n",
       "6    126.840116  \n",
       "7    126.778007  \n",
       "8    126.755895  \n",
       "9    126.828910  \n",
       "10   126.775191  \n",
       "11   126.837485  \n",
       "12   126.759161  \n",
       "13   126.830873  \n",
       "14   126.762987  \n",
       "15   126.739358  \n",
       "16   126.759597  \n",
       "17   126.833173  \n",
       "18   126.777206  \n",
       "19   126.774136  \n",
       "20   126.762132  \n",
       "21   126.785743  \n",
       "22   126.780769  \n",
       "23   126.782911  \n",
       "24   126.807520  \n",
       "25   126.748276  \n",
       "26   126.784457  \n",
       "27   126.787059  \n",
       "28   126.786165  \n",
       "29   126.765715  \n",
       "30   126.780601  \n",
       "31   126.777184  \n",
       "32   126.798044  \n",
       "33   126.767829  \n",
       "34   126.780983  \n",
       "35   126.771129  \n",
       "36   126.759870  \n",
       "37   126.791062  \n",
       "38   126.769940  \n",
       "39   126.758527  \n",
       "40   127.163289  \n",
       "41   127.256206  \n",
       "42   127.224750  \n",
       "43   127.260141  \n",
       "44   127.287071  \n",
       "45   127.310946  \n",
       "46   127.336076  \n",
       "47   127.330890  \n",
       "48   127.143648  \n",
       "49   127.134096  \n",
       "50   127.143933  \n",
       "51   127.143713  \n",
       "52   127.139154  \n",
       "53   127.139533  \n",
       "54   127.140474  \n",
       "55   127.130070  \n",
       "56   127.146751  \n",
       "57   126.929433  \n",
       "58   126.949536  \n",
       "59   126.711952  \n",
       "60   126.568677  \n",
       "61   126.681365  \n",
       "62   126.709109  \n",
       "63   127.309378  \n",
       "64   127.238249  \n",
       "65   127.177175  \n",
       "66   127.150714  \n",
       "67   127.201311  \n",
       "68   127.234914  \n",
       "69   127.206986  \n",
       "70   127.186172  \n",
       "71   127.202733  \n",
       "72   127.210526  \n",
       "73   127.199278  \n",
       "74   127.309484  \n",
       "75   127.319796  \n",
       "76   127.234748  \n",
       "77   127.152901  \n",
       "78   127.235643  \n",
       "79   127.304353  \n",
       "80   127.204799  \n",
       "81   127.186172  \n",
       "82   127.310126  \n",
       "83   127.144901  \n",
       "84   127.237920  \n",
       "85   127.242892  \n",
       "86   127.244625  \n",
       "87   127.244494  \n",
       "88   127.191907  \n",
       "89   127.136098  \n",
       "90   126.768865  \n",
       "91   126.775980  \n",
       "92   126.795946  \n",
       "93   126.764914  \n",
       "94   126.752260  \n",
       "95   126.799078  \n",
       "96   126.775150  \n",
       "97   126.783524  \n",
       "98   126.813722  \n",
       "99   126.795946  \n",
       "100  126.786514  \n",
       "101  126.793184  \n",
       "102  126.756838  \n",
       "103  126.789499  \n",
       "104  126.775914  \n",
       "105  126.804507  \n",
       "106  126.760658  \n",
       "107  126.783704  \n",
       "108  127.116030  \n",
       "109  127.129269  \n",
       "110  127.127514  \n",
       "111  127.128623  \n",
       "112  127.129007  \n",
       "113  127.157094  \n",
       "114  127.128637  \n",
       "115  127.116637  \n",
       "116  127.027505  \n",
       "117  127.026387  \n",
       "118  127.048209  \n",
       "119  127.027523  \n",
       "120  127.075634  \n",
       "121  127.021672  \n",
       "122  127.010898  \n",
       "123  127.027354  \n",
       "124  127.033244  \n",
       "125  127.003177  \n",
       "126  127.007509  \n",
       "127  127.028599  \n",
       "128  127.055800  \n",
       "129  127.045871  \n",
       "130  127.008434  \n",
       "131  126.953925  \n",
       "132  126.976347  \n",
       "133  127.001081  \n",
       "134  127.001247  \n",
       "135  126.952983  \n",
       "136  127.021631  \n",
       "137  127.072329  \n",
       "138  127.022886  \n",
       "139  126.992660  \n",
       "140  127.008017  \n",
       "141  127.029088  \n",
       "142  127.076606  \n",
       "143  126.995462  \n",
       "144  127.046305  \n",
       "145  126.990855  \n",
       "146  127.034025  \n",
       "147  127.009318  \n",
       "148  127.060827  \n",
       "149  127.024903  \n",
       "150  127.028033  \n",
       "151  127.081039  \n",
       "152  127.034198  \n",
       "153  126.977959  \n",
       "154  126.977959  \n",
       "155  127.016222  \n",
       "156  127.041923  \n",
       "157  127.048462  \n",
       "158  126.955495  \n",
       "159  127.041418  \n",
       "160  127.045062  \n",
       "161  127.015637  \n",
       "162  127.049115  \n",
       "163  127.027223  \n",
       "164  127.000237  \n",
       "165  127.029981  \n",
       "166  127.007060  \n",
       "167  126.735358  \n",
       "168  126.861155  \n",
       "169  126.835939  \n",
       "170  126.863768  \n",
       "171  126.847923  \n",
       "172  126.853145  \n",
       "173  126.853424  \n",
       "174  126.852621  \n",
       "175  126.844112  \n",
       "176  126.862995  \n",
       "177  126.812409  \n",
       "178  126.846119  \n",
       "179  126.852396  \n",
       "180  126.856949  \n",
       "181  126.845665  \n",
       "182  126.863138  \n",
       "183  126.863641  \n",
       "184  126.827660  \n",
       "185  127.260297  \n",
       "186  127.473049  \n",
       "187  127.171082  \n",
       "188  127.258405  \n",
       "189  127.266906  \n",
       "190  127.266489  \n",
       "191  127.270708  \n",
       "192  127.269956  \n",
       "193  127.360749  \n",
       "194  127.263514  \n",
       "195  127.388527  \n",
       "196  127.142335  \n",
       "197  126.949503  \n",
       "198  126.953070  \n",
       "199  126.926149  \n",
       "200  126.983799  \n",
       "201  127.054064  \n",
       "202  127.669195  \n",
       "203  127.691740  \n",
       "204  127.561119  \n",
       "205  127.702148  \n",
       "206  127.534960  \n",
       "207  127.566139  \n",
       "208  127.566139  \n",
       "209  127.073974  \n",
       "210  127.061470  \n",
       "211  127.073106  \n",
       "212  127.050175  \n",
       "213  127.042211  \n",
       "214  127.064376  \n",
       "215  127.060724  \n",
       "216  127.064814  \n",
       "217  127.067228  \n",
       "218  127.043807  \n",
       "219  127.069516  \n",
       "220  127.068191  \n",
       "221  127.042062  \n",
       "222  127.097206  \n",
       "223  127.154647  \n",
       "224  127.364815  \n",
       "225  127.154647  \n",
       "226  127.073335  \n",
       "227  127.160880  \n",
       "228  126.973845  \n",
       "229  126.949055  \n",
       "230  126.981321  \n",
       "231  127.043735  \n",
       "232  127.040558  \n",
       "233  127.070933  \n",
       "234  127.044629  \n",
       "235  127.070933  \n",
       "236  127.047779  \n",
       "237  127.388148  \n",
       "238  127.421671  \n",
       "239  127.443675  \n",
       "240  126.781994  \n",
       "241  126.709769  \n",
       "242  126.931544  \n",
       "243  126.927642  \n",
       "244  127.111241  \n",
       "245  126.950581  \n",
       "246  127.106203  \n",
       "247  127.112117  \n",
       "248  127.113577  \n",
       "249  127.111937  \n",
       "250  126.915931  \n",
       "251  127.097134  \n",
       "252  127.204693  \n",
       "253  127.198349  \n",
       "254  127.310359  \n",
       "255  127.148136  \n",
       "256  127.156531  \n",
       "257  127.187336  \n",
       "258  127.308217  \n",
       "259  127.207369  \n",
       "260  126.949035  \n",
       "261  127.097768  \n",
       "262  127.058849  \n",
       "263  127.123472  \n",
       "264  127.072408  \n",
       "265  126.783152  \n",
       "266  127.041970  \n",
       "267  126.816836  \n",
       "268  127.033463  \n",
       "269  127.072040  \n",
       "270  126.912726  \n",
       "271  126.873835  \n",
       "272  126.956892  \n",
       "273  126.661362  \n",
       "274  127.043117  \n",
       "275  127.008030  \n",
       "276  126.911059  \n",
       "277  126.910773  \n",
       "278  126.798045  \n",
       "279  127.078499  \n",
       "280  126.782246  \n",
       "281  127.036367  \n",
       "282  126.825648  \n",
       "283  126.832659  \n",
       "284  126.910867  \n",
       "285  127.037559  "
      ]
     },
     "metadata": {},
     "output_type": "display_data"
    }
   ],
   "source": [
    "#ver.1\n",
    "#전처리 완료 \n",
    "#산부인과 추가 \n",
    "#경위도 채워야 함 \n",
    "import folium\n",
    "import pandas as pd\n",
    "import requests, json \n",
    "#current_location()은 타 사이트애서 현재 사용자의 위치정보를 받아오는 함수이다.\n",
    "#타 사이트에서 사용자의 현재 위치를 제대로 받아오지 못한경우 에러를 출력하고, 제대로 가져왔다면 lat와 lng를 실수타입으로 받아서 'lat':위도 'lng': 경도 라는 crd 딕셔너일로 받음.. \n",
    "def current_location():\n",
    "    here_req = requests.get(\"http://www.geoplugin.net/json.gp\")\n",
    "\n",
    "    if (here_req.status_code != 200):\n",
    "        print(\"현재좌표를 불러올 수 없음\")\n",
    "    else:\n",
    "        location = json.loads(here_req.text)\n",
    "        crd = {\"lat\": float(location[\"geoplugin_latitude\"]), \"lng\": float(location[\"geoplugin_longitude\"])}\n",
    "    return crd\n",
    "crd = current_location()\n",
    "#변수의 초기화를 위해 함수 밖에 둠\n",
    "map_center = folium.Map(location= (crd['lat'], crd['lng']) , zoom_start=15)\n",
    "\n",
    "\n",
    "\n",
    "        \n",
    "# 위 데이터 파일들은 공통적으로 폐업여부 및 경위도 누락된 기관들을 코드 내 전처리 후 인덱스번호를 재정렬하고, 포리움으로 지도를 생성하는 코드임. \n",
    "#전처리 과정: 첫째로 인덱스를 필요한 정보만으로 가져와 샘플에 넣는다.\n",
    "#영업상태코드나 영업상태명이 영업인 인덱스를 드랍에 넣는다. (폐업의 경우에만 사용)\n",
    "#샘플에서 위도가 nan이라면 날린 후 드(드))랍에 넣는다.\n",
    "#드(드)랍을 재정렬 한 후 fn에 넣는다. \n",
    "\n",
    "#코드 작동 과정\n",
    "#for문을 통해 fn의 열 갯수에 해당하는 만큼 item을 돌림.\n",
    "#fn의 [item]번째'위도,경도,이름,번호'를 각 변수로 생성한다. \n",
    "#경위도에 해당하는 변수는 그 위치에 마커를, 이름과 센터명은 인덱스를 생성해 지도상에서 마커를 클릭 시 정보사항이 나타난다. \n",
    "#코드가 돌아가면, 각 기관에 해당되는 단축키를 안내후 입력받는다 .그 후 번호에 해당하는 지도를 사용자 위치를 중심으로 생성한다. \n",
    "#사용자가 코드를 재 작동 하면 기존 맵센터값은 초기화 된다.     \n",
    "\n",
    "def start_center(num):\n",
    "#응급\n",
    "    if num == 1:\n",
    "        pd.set_option('display.max_rows', None)\n",
    "        pd.set_option('display.max_columns', None)\n",
    "        df = pd.read_csv('C:/Users/김동혁/hyeok python/project file/emerback.csv', encoding = 'cp949')\n",
    "        df_sample = df[['시군명','병원명/센터명','대표전화번호','위도','경도']]\n",
    "        df_drop = df_sample.dropna(subset=['위도'])\n",
    "        df_fn = df_drop.reset_index(drop=True)\n",
    "        \n",
    "        for item in range(len(df_fn)):\n",
    "            latitude = df_fn['위도'][item]\n",
    "            longitude = df_fn['경도'][item]\n",
    "            name = str(df_fn['병원명/센터명'][item])\n",
    "            callNum = df_fn['대표전화번호'][item]\n",
    "            marker = folium.Marker([latitude, longitude], popup=(name,callNum) )\n",
    "            marker.add_to(map_center)\n",
    "        return map_center  \n",
    "#산후조리원\n",
    "    elif num == 2:\n",
    "        pd.set_option('display.max_rows', None)\n",
    "        pd.set_option('display.max_columns', None)\n",
    "        df = pd.read_csv('C:/Users/김동혁/hyeok python/project file/care_centerback.csv', encoding = 'cp949')\n",
    "        df_sample = df[['시군명','사업장명','영업상태구분코드','소재지시설전화번호','WGS84위도','WGS84경도']]\n",
    "        df_drop_sample = df_sample.drop(index= df_sample[df_sample['영업상태구분코드']!=13].index) \n",
    "        df_ddrop = df_drop_sample.dropna(subset=['WGS84위도'])\n",
    "        df_fn = df_ddrop.reset_index(drop=True)\n",
    "        \n",
    "        for item in range(len(df_fn)):\n",
    "            latitude = df_fn['WGS84위도'][item]\n",
    "            longitude = df_fn['WGS84경도'][item]\n",
    "            name = str(df_fn['사업장명'][item])\n",
    "            callNum = df_fn['소재지시설전화번호'][item]\n",
    "            marker = folium.Marker([latitude, longitude], popup=(name,callNum) )\n",
    "            marker.add_to(map_center)\n",
    "        return map_center  \n",
    "#병원            \n",
    "    elif num == 3:\n",
    "        pd.set_option('display.max_rows', None)\n",
    "        pd.set_option('display.max_columns', None)\n",
    "        df = pd.read_csv('C:/Users/김동혁/hyeok python/project file/medicback.csv', encoding = 'cp949')\n",
    "        df_sample = df[['시군명','사업장명','영업상태명','소재지시설전화번호','위도','경도']] \n",
    "        df_drop_sample = df_sample[df_sample['영업상태명'].str.contains('영업')]\n",
    "        df_ddrop = df_drop_sample.dropna(subset=['위도'])\n",
    "        df_fn = df_ddrop.reset_index(drop=True)\n",
    "        \n",
    "        for item in range(len(df_fn)):\n",
    "            latitude = df_fn['위도'][item]\n",
    "            longitude = df_fn['경도'][item]\n",
    "            name = str(df_fn['사업장명'][item])\n",
    "            callNum = df_fn['소재지시설전화번호'][item]\n",
    "            marker = folium.Marker([latitude, longitude], popup=(name,callNum) )\n",
    "            marker.add_to(map_center)\n",
    "        return map_center  \n",
    "    \n",
    "#산부인과          \n",
    "    elif num == 4:\n",
    "        pd.set_option('display.max_rows', None)\n",
    "        pd.set_option('display.max_columns', None)\n",
    "        df = pd.read_csv('C:/Users/김동혁/hyeok python/project file/medicback.csv', encoding = 'cp949')\n",
    "        df_sample = df[['시군명','사업장명','영업상태명','소재지시설전화번호','위도','경도','진료과목내용정보']] \n",
    "        df_drop_sample = df_sample[df_sample['영업상태명'].str.contains('영업')]\n",
    "        df_ddrop = df_drop_sample.dropna(subset=['위도'])\n",
    "        df_seg = df_ddrop[df_ddrop['진료과목내용정보'].str.contains('산부인과')]\n",
    "        df_fn = df_seg.reset_index(drop=True)\n",
    "        \n",
    "        \n",
    "        for item in range(len(df_fn)):\n",
    "            latitude = df_fn['위도'][item]\n",
    "            longitude = df_fn['경도'][item]\n",
    "            name = str(df_fn['사업장명'][item])\n",
    "            callNum = df_fn['소재지시설전화번호'][item]\n",
    "            marker = folium.Marker([latitude, longitude], popup=(name,callNum) )\n",
    "            marker.add_to(map_center)\n",
    "        return map_center  \n",
    "    \n",
    "#보건소\n",
    "    elif num == 5:\n",
    "        pd.set_option('display.max_rows', None)\n",
    "        pd.set_option('display.max_columns', None)\n",
    "        df = pd.read_csv('C:/Users/김동혁/hyeok python/project file/public_medicback.csv', encoding = 'cp949')\n",
    "        df_fn = df[['시군명','기관명','전화번호','WGS84위도','WGS84경도']] \n",
    "        for item in range(len(df_fn)):\n",
    "            latitude = df_fn['WGS84위도'][item]\n",
    "            longitude = df_fn['WGS84경도'][item]\n",
    "            name = str(df_fn['기관명'][item])\n",
    "            callNum = df_fn['전화번호'][item]\n",
    "            marker = folium.Marker([latitude, longitude], popup=(name,callNum) )\n",
    "            marker.add_to(map_center)\n",
    "        return map_center\n",
    "#정신건강센터  \n",
    "    elif num == 6:\n",
    "        pd.set_option('display.max_rows', None)\n",
    "        pd.set_option('display.max_columns', None)\n",
    "        df = pd.read_csv('C:/Users/김동혁/hyeok python/project file/mentalback.csv', encoding = 'cp949')\n",
    "        df_fn = df[['시군명','센터명','전화번호','WGS84위도','WGS84경도']] \n",
    "        for item in range(len(df_fn)):\n",
    "            latitude = df_fn['WGS84위도'][item]\n",
    "            longitude = df_fn['WGS84경도'][item]\n",
    "            name = str(df_fn['센터명'][item])\n",
    "            callNum = df_fn['전화번호'][item]\n",
    "            marker = folium.Marker([latitude, longitude], popup=(name,callNum) )\n",
    "            marker.add_to(map_center)\n",
    "        return map_center\n",
    "    \n",
    "    \n",
    "\n",
    "#입력받기\n",
    "\n",
    "num = int(input('응급의료시설 : 1\\n산후조리원 :2\\n병원 :3\\n산부인과 :4\\n보건소 :5 \\n정신건강센터 :6\\n단축키를 입력해주세요: '))\n",
    "start_center(num)\n",
    "            \n",
    "        \n",
    "\n"
   ]
  },
  {
   "cell_type": "markdown",
   "id": "91da546e-bea1-4615-a2c2-b8ca5046ead2",
   "metadata": {
    "tags": []
   },
   "source": [
    "#경위도 안날리게 하는 코드   \n",
    "\n",
    "\n",
    "\n"
   ]
  },
  {
   "cell_type": "code",
   "execution_count": 169,
   "id": "1a800b17-2612-45d3-a13a-c4c941d14f30",
   "metadata": {},
   "outputs": [
    {
     "name": "stdin",
     "output_type": "stream",
     "text": [
      "회원가입을 하시겠습니까? ,\n",
      "네\n",
      "아니오\n",
      "입력: 네\n",
      "ID를 입력하세요 a\n",
      "Password를 입력하세요 b\n",
      "이름을 입력하세요 c\n",
      "아이디를 입력하세요 a\n",
      "비밀번호를 입력하세요 b\n",
      "이름을 입력하세요 c\n"
     ]
    },
    {
     "ename": "AttributeError",
     "evalue": "module 'pandas' has no attribute 'contact'",
     "output_type": "error",
     "traceback": [
      "\u001b[1;31m---------------------------------------------------------------------------\u001b[0m",
      "\u001b[1;31mAttributeError\u001b[0m                            Traceback (most recent call last)",
      "Input \u001b[1;32mIn [169]\u001b[0m, in \u001b[0;36m<cell line: 51>\u001b[1;34m()\u001b[0m\n\u001b[0;32m     48\u001b[0m     USER_C\u001b[38;5;241m.\u001b[39mloc[idx,:]\n\u001b[0;32m     50\u001b[0m assign_user()\n\u001b[1;32m---> 51\u001b[0m \u001b[43mlogin_user\u001b[49m\u001b[43m(\u001b[49m\u001b[43m)\u001b[49m\n",
      "Input \u001b[1;32mIn [169]\u001b[0m, in \u001b[0;36mlogin_user\u001b[1;34m()\u001b[0m\n\u001b[0;32m     41\u001b[0m Name_user \u001b[38;5;241m=\u001b[39m \u001b[38;5;28minput\u001b[39m(\u001b[38;5;124m'\u001b[39m\u001b[38;5;124m이름을 입력하세요\u001b[39m\u001b[38;5;124m'\u001b[39m)\n\u001b[0;32m     42\u001b[0m USER_log \u001b[38;5;241m=\u001b[39m pd\u001b[38;5;241m.\u001b[39mDataFrame({\u001b[38;5;124m'\u001b[39m\u001b[38;5;124mID\u001b[39m\u001b[38;5;124m'\u001b[39m : Id_user, \u001b[38;5;124m'\u001b[39m\u001b[38;5;124mPASSWORD\u001b[39m\u001b[38;5;124m'\u001b[39m : Password_user}, index \u001b[38;5;241m=\u001b[39m [Name_user])\n\u001b[1;32m---> 43\u001b[0m USER_C \u001b[38;5;241m=\u001b[39m \u001b[43mpd\u001b[49m\u001b[38;5;241;43m.\u001b[39;49m\u001b[43mcontact\u001b[49m([USER_log][USER_C])\n\u001b[0;32m     44\u001b[0m col \u001b[38;5;241m=\u001b[39m \u001b[38;5;28mlist\u001b[39m(USER_C)[\u001b[38;5;241m0\u001b[39m:\u001b[38;5;241m1\u001b[39m]\n\u001b[0;32m     45\u001b[0m USER_grp \u001b[38;5;241m=\u001b[39m USER_C\u001b[38;5;241m.\u001b[39mgroupby(col)\n",
      "File \u001b[1;32mC:\\python\\lib\\site-packages\\pandas\\__init__.py:261\u001b[0m, in \u001b[0;36m__getattr__\u001b[1;34m(name)\u001b[0m\n\u001b[0;32m    257\u001b[0m     \u001b[38;5;28;01mfrom\u001b[39;00m \u001b[38;5;21;01mpandas\u001b[39;00m\u001b[38;5;21;01m.\u001b[39;00m\u001b[38;5;21;01mcore\u001b[39;00m\u001b[38;5;21;01m.\u001b[39;00m\u001b[38;5;21;01marrays\u001b[39;00m\u001b[38;5;21;01m.\u001b[39;00m\u001b[38;5;21;01msparse\u001b[39;00m \u001b[38;5;28;01mimport\u001b[39;00m SparseArray \u001b[38;5;28;01mas\u001b[39;00m _SparseArray\n\u001b[0;32m    259\u001b[0m     \u001b[38;5;28;01mreturn\u001b[39;00m _SparseArray\n\u001b[1;32m--> 261\u001b[0m \u001b[38;5;28;01mraise\u001b[39;00m \u001b[38;5;167;01mAttributeError\u001b[39;00m(\u001b[38;5;124mf\u001b[39m\u001b[38;5;124m\"\u001b[39m\u001b[38;5;124mmodule \u001b[39m\u001b[38;5;124m'\u001b[39m\u001b[38;5;124mpandas\u001b[39m\u001b[38;5;124m'\u001b[39m\u001b[38;5;124m has no attribute \u001b[39m\u001b[38;5;124m'\u001b[39m\u001b[38;5;132;01m{\u001b[39;00mname\u001b[38;5;132;01m}\u001b[39;00m\u001b[38;5;124m'\u001b[39m\u001b[38;5;124m\"\u001b[39m)\n",
      "\u001b[1;31mAttributeError\u001b[0m: module 'pandas' has no attribute 'contact'"
     ]
    }
   ],
   "source": [
    "# 로그인 코든데 개 어렵네 \n",
    "\n",
    "global USER_dict\n",
    "global USER\n",
    "global Id\n",
    "global Password\n",
    "global username\n",
    "global Id_user\n",
    "global  Password_user\n",
    "\n",
    "\n",
    "def assign_user():\n",
    "    global USER\n",
    "    global Id\n",
    "    global Password\n",
    "    global username\n",
    "    assign =input('회원가입을 하시겠습니까? ,\\n네\\n아니오\\n입력:')\n",
    "    if assign == '네':\n",
    "        Id=  input('ID를 입력하세요')\n",
    "        Password=  input('Password를 입력하세요')\n",
    "        username = input('이름을 입력하세요')\n",
    "        save_infor()\n",
    "    else : \n",
    "        print('회원가입을 중단합니다')\n",
    "\n",
    "def save_infor():\n",
    "    global USER_dict\n",
    "    global USER\n",
    "    global Id\n",
    "    global Password\n",
    "    global username\n",
    "    \n",
    "    USER = pd.DataFrame({'ID' : Id, 'PASSWORD' : Password}, index = [username])\n",
    "    \n",
    "def login_user():\n",
    "    global USER\n",
    "    global Id\n",
    "    global Password\n",
    "    global Id_user\n",
    "    global  Password_user\n",
    "    Id_user = input('아이디를 입력하세요')\n",
    "    Password_user = input('비밀번호를 입력하세요')\n",
    "    Name_user = input('이름을 입력하세요')\n",
    "    USER_log = pd.DataFrame({'ID' : Id_user, 'PASSWORD' : Password_user}, index = [Name_user])\n",
    "    USER_C = pd.contact([USER_log][USER_C])\n",
    "    col = list(USER_C)[0:1]\n",
    "    USER_grp = USER_C.groupby(col)\n",
    "    USER_dic = USER_C.groups\n",
    "    idx = [x[0] for x in USER_dic.values() if len(x)==1]\n",
    "    USER_C.loc[idx,:]\n",
    "\n",
    "assign_user()\n",
    "login_user()"
   ]
  },
  {
   "cell_type": "markdown",
   "id": "e8dbdcb1-05af-403e-8544-6131eb9382de",
   "metadata": {},
   "source": [
    "for i in range(len(df_fn)):\n",
    "    if nan_datax[i] ==True:\n",
    "        get_location(df_fn[위도][i])\n",
    "        nan_datax.fill(crdx)\n",
    "    elif nan_datay[i] == True:\n",
    "        get_location(df_fn[경도][i])\n",
    "        nan_datay.fill(crdy)\n",
    "    else:\n",
    "        pass \n",
    "        \n",
    "        \n",
    " #\n",
    "get_location(address)\n",
    "\n",
    "nan_datax = crdx\n",
    "fill_datax= nan_datax == True:\n",
    "fill_datay= nan_datay == True:\n",
    "    get_location(address)\n",
    "    nan_datax = crdx\n",
    "    nan_datay == crdy \n",
    "display(nan_datax)"
   ]
  },
  {
   "cell_type": "code",
   "execution_count": 187,
   "id": "787a15cf-b3b1-478a-b5d1-a67b6853a805",
   "metadata": {},
   "outputs": [
    {
     "data": {
      "text/html": [
       "<div>\n",
       "<style scoped>\n",
       "    .dataframe tbody tr th:only-of-type {\n",
       "        vertical-align: middle;\n",
       "    }\n",
       "\n",
       "    .dataframe tbody tr th {\n",
       "        vertical-align: top;\n",
       "    }\n",
       "\n",
       "    .dataframe thead th {\n",
       "        text-align: right;\n",
       "    }\n",
       "</style>\n",
       "<table border=\"1\" class=\"dataframe\">\n",
       "  <thead>\n",
       "    <tr style=\"text-align: right;\">\n",
       "      <th></th>\n",
       "      <th>X좌표값</th>\n",
       "      <th>Y좌표값</th>\n",
       "    </tr>\n",
       "  </thead>\n",
       "  <tbody>\n",
       "    <tr>\n",
       "      <th>0</th>\n",
       "      <td>235567.393608</td>\n",
       "      <td>476288.241369</td>\n",
       "    </tr>\n",
       "    <tr>\n",
       "      <th>1</th>\n",
       "      <td>226637.772425</td>\n",
       "      <td>482136.636251</td>\n",
       "    </tr>\n",
       "    <tr>\n",
       "      <th>2</th>\n",
       "      <td>246280.626039</td>\n",
       "      <td>471760.135363</td>\n",
       "    </tr>\n",
       "    <tr>\n",
       "      <th>3</th>\n",
       "      <td>230939.074151</td>\n",
       "      <td>487282.184524</td>\n",
       "    </tr>\n",
       "    <tr>\n",
       "      <th>4</th>\n",
       "      <td>245936.683546</td>\n",
       "      <td>465597.775884</td>\n",
       "    </tr>\n",
       "    <tr>\n",
       "      <th>5</th>\n",
       "      <td>245936.683546</td>\n",
       "      <td>465597.775884</td>\n",
       "    </tr>\n",
       "    <tr>\n",
       "      <th>6</th>\n",
       "      <td>236548.369056</td>\n",
       "      <td>470609.126516</td>\n",
       "    </tr>\n",
       "    <tr>\n",
       "      <th>7</th>\n",
       "      <td>234131.986405</td>\n",
       "      <td>462435.481120</td>\n",
       "    </tr>\n",
       "    <tr>\n",
       "      <th>8</th>\n",
       "      <td>185401.820034</td>\n",
       "      <td>457828.523341</td>\n",
       "    </tr>\n",
       "    <tr>\n",
       "      <th>9</th>\n",
       "      <td>177584.406373</td>\n",
       "      <td>463908.611753</td>\n",
       "    </tr>\n",
       "    <tr>\n",
       "      <th>10</th>\n",
       "      <td>184918.581571</td>\n",
       "      <td>458331.270776</td>\n",
       "    </tr>\n",
       "    <tr>\n",
       "      <th>11</th>\n",
       "      <td>187099.498978</td>\n",
       "      <td>467673.962890</td>\n",
       "    </tr>\n",
       "    <tr>\n",
       "      <th>12</th>\n",
       "      <td>188978.929412</td>\n",
       "      <td>460603.564479</td>\n",
       "    </tr>\n",
       "    <tr>\n",
       "      <th>13</th>\n",
       "      <td>190848.733197</td>\n",
       "      <td>468501.181070</td>\n",
       "    </tr>\n",
       "    <tr>\n",
       "      <th>14</th>\n",
       "      <td>180831.553615</td>\n",
       "      <td>462376.333512</td>\n",
       "    </tr>\n",
       "    <tr>\n",
       "      <th>15</th>\n",
       "      <td>181645.332559</td>\n",
       "      <td>460377.762336</td>\n",
       "    </tr>\n",
       "    <tr>\n",
       "      <th>16</th>\n",
       "      <td>180964.807342</td>\n",
       "      <td>460286.950892</td>\n",
       "    </tr>\n",
       "    <tr>\n",
       "      <th>17</th>\n",
       "      <td>185821.105136</td>\n",
       "      <td>462373.729435</td>\n",
       "    </tr>\n",
       "    <tr>\n",
       "      <th>18</th>\n",
       "      <td>181571.824672</td>\n",
       "      <td>467736.668806</td>\n",
       "    </tr>\n",
       "    <tr>\n",
       "      <th>19</th>\n",
       "      <td>185097.000000</td>\n",
       "      <td>458696.000000</td>\n",
       "    </tr>\n",
       "    <tr>\n",
       "      <th>20</th>\n",
       "      <td>182925.000000</td>\n",
       "      <td>463830.000000</td>\n",
       "    </tr>\n",
       "    <tr>\n",
       "      <th>21</th>\n",
       "      <td>182925.000000</td>\n",
       "      <td>463830.000000</td>\n",
       "    </tr>\n",
       "    <tr>\n",
       "      <th>22</th>\n",
       "      <td>182399.731012</td>\n",
       "      <td>462783.592736</td>\n",
       "    </tr>\n",
       "    <tr>\n",
       "      <th>23</th>\n",
       "      <td>180337.931432</td>\n",
       "      <td>463424.391194</td>\n",
       "    </tr>\n",
       "    <tr>\n",
       "      <th>24</th>\n",
       "      <td>178407.000000</td>\n",
       "      <td>466341.000000</td>\n",
       "    </tr>\n",
       "    <tr>\n",
       "      <th>25</th>\n",
       "      <td>184828.924720</td>\n",
       "      <td>458367.087618</td>\n",
       "    </tr>\n",
       "    <tr>\n",
       "      <th>26</th>\n",
       "      <td>180106.648434</td>\n",
       "      <td>464751.777914</td>\n",
       "    </tr>\n",
       "    <tr>\n",
       "      <th>27</th>\n",
       "      <td>185598.119755</td>\n",
       "      <td>461675.606251</td>\n",
       "    </tr>\n",
       "    <tr>\n",
       "      <th>28</th>\n",
       "      <td>NaN</td>\n",
       "      <td>NaN</td>\n",
       "    </tr>\n",
       "    <tr>\n",
       "      <th>29</th>\n",
       "      <td>NaN</td>\n",
       "      <td>NaN</td>\n",
       "    </tr>\n",
       "    <tr>\n",
       "      <th>30</th>\n",
       "      <td>179034.127143</td>\n",
       "      <td>465539.511744</td>\n",
       "    </tr>\n",
       "    <tr>\n",
       "      <th>31</th>\n",
       "      <td>176934.000000</td>\n",
       "      <td>466062.000000</td>\n",
       "    </tr>\n",
       "    <tr>\n",
       "      <th>32</th>\n",
       "      <td>178721.933568</td>\n",
       "      <td>463235.331647</td>\n",
       "    </tr>\n",
       "    <tr>\n",
       "      <th>33</th>\n",
       "      <td>183904.411564</td>\n",
       "      <td>457711.459282</td>\n",
       "    </tr>\n",
       "    <tr>\n",
       "      <th>34</th>\n",
       "      <td>185212.000000</td>\n",
       "      <td>459057.000000</td>\n",
       "    </tr>\n",
       "    <tr>\n",
       "      <th>35</th>\n",
       "      <td>188816.104729</td>\n",
       "      <td>460987.264412</td>\n",
       "    </tr>\n",
       "    <tr>\n",
       "      <th>36</th>\n",
       "      <td>180411.090858</td>\n",
       "      <td>461078.730007</td>\n",
       "    </tr>\n",
       "    <tr>\n",
       "      <th>37</th>\n",
       "      <td>180263.797565</td>\n",
       "      <td>461302.073464</td>\n",
       "    </tr>\n",
       "    <tr>\n",
       "      <th>38</th>\n",
       "      <td>181436.837912</td>\n",
       "      <td>462478.431600</td>\n",
       "    </tr>\n",
       "    <tr>\n",
       "      <th>39</th>\n",
       "      <td>178947.014184</td>\n",
       "      <td>463157.053722</td>\n",
       "    </tr>\n",
       "    <tr>\n",
       "      <th>40</th>\n",
       "      <td>180315.938752</td>\n",
       "      <td>466522.389901</td>\n",
       "    </tr>\n",
       "    <tr>\n",
       "      <th>41</th>\n",
       "      <td>185406.060146</td>\n",
       "      <td>461552.437998</td>\n",
       "    </tr>\n",
       "    <tr>\n",
       "      <th>42</th>\n",
       "      <td>188816.104729</td>\n",
       "      <td>460987.264412</td>\n",
       "    </tr>\n",
       "    <tr>\n",
       "      <th>43</th>\n",
       "      <td>181020.876492</td>\n",
       "      <td>460231.202088</td>\n",
       "    </tr>\n",
       "    <tr>\n",
       "      <th>44</th>\n",
       "      <td>185227.474593</td>\n",
       "      <td>466463.866220</td>\n",
       "    </tr>\n",
       "    <tr>\n",
       "      <th>45</th>\n",
       "      <td>185021.779886</td>\n",
       "      <td>459990.458660</td>\n",
       "    </tr>\n",
       "    <tr>\n",
       "      <th>46</th>\n",
       "      <td>180597.587644</td>\n",
       "      <td>464407.466890</td>\n",
       "    </tr>\n",
       "    <tr>\n",
       "      <th>47</th>\n",
       "      <td>180456.380545</td>\n",
       "      <td>464648.311062</td>\n",
       "    </tr>\n",
       "    <tr>\n",
       "      <th>48</th>\n",
       "      <td>180159.813475</td>\n",
       "      <td>461339.112684</td>\n",
       "    </tr>\n",
       "    <tr>\n",
       "      <th>49</th>\n",
       "      <td>187995.059840</td>\n",
       "      <td>468970.988775</td>\n",
       "    </tr>\n",
       "    <tr>\n",
       "      <th>50</th>\n",
       "      <td>180527.147001</td>\n",
       "      <td>464407.842061</td>\n",
       "    </tr>\n",
       "    <tr>\n",
       "      <th>51</th>\n",
       "      <td>185400.000000</td>\n",
       "      <td>457901.000000</td>\n",
       "    </tr>\n",
       "    <tr>\n",
       "      <th>52</th>\n",
       "      <td>184404.779947</td>\n",
       "      <td>458209.199522</td>\n",
       "    </tr>\n",
       "    <tr>\n",
       "      <th>53</th>\n",
       "      <td>180731.148172</td>\n",
       "      <td>460645.088503</td>\n",
       "    </tr>\n",
       "    <tr>\n",
       "      <th>54</th>\n",
       "      <td>177925.649989</td>\n",
       "      <td>463563.560316</td>\n",
       "    </tr>\n",
       "    <tr>\n",
       "      <th>55</th>\n",
       "      <td>177541.856714</td>\n",
       "      <td>463796.649469</td>\n",
       "    </tr>\n",
       "    <tr>\n",
       "      <th>56</th>\n",
       "      <td>183019.134341</td>\n",
       "      <td>463895.951926</td>\n",
       "    </tr>\n",
       "    <tr>\n",
       "      <th>57</th>\n",
       "      <td>177714.776920</td>\n",
       "      <td>463793.080977</td>\n",
       "    </tr>\n",
       "    <tr>\n",
       "      <th>58</th>\n",
       "      <td>NaN</td>\n",
       "      <td>NaN</td>\n",
       "    </tr>\n",
       "    <tr>\n",
       "      <th>59</th>\n",
       "      <td>180908.362506</td>\n",
       "      <td>460286.346938</td>\n",
       "    </tr>\n",
       "    <tr>\n",
       "      <th>60</th>\n",
       "      <td>181144.841327</td>\n",
       "      <td>463644.897004</td>\n",
       "    </tr>\n",
       "    <tr>\n",
       "      <th>61</th>\n",
       "      <td>181058.839660</td>\n",
       "      <td>460195.973514</td>\n",
       "    </tr>\n",
       "    <tr>\n",
       "      <th>62</th>\n",
       "      <td>180539.609006</td>\n",
       "      <td>460835.850681</td>\n",
       "    </tr>\n",
       "    <tr>\n",
       "      <th>63</th>\n",
       "      <td>179253.059460</td>\n",
       "      <td>462400.381636</td>\n",
       "    </tr>\n",
       "    <tr>\n",
       "      <th>64</th>\n",
       "      <td>177518.296042</td>\n",
       "      <td>466429.646273</td>\n",
       "    </tr>\n",
       "    <tr>\n",
       "      <th>65</th>\n",
       "      <td>179415.194723</td>\n",
       "      <td>462371.641552</td>\n",
       "    </tr>\n",
       "    <tr>\n",
       "      <th>66</th>\n",
       "      <td>180578.974779</td>\n",
       "      <td>464483.751988</td>\n",
       "    </tr>\n",
       "    <tr>\n",
       "      <th>67</th>\n",
       "      <td>NaN</td>\n",
       "      <td>NaN</td>\n",
       "    </tr>\n",
       "    <tr>\n",
       "      <th>68</th>\n",
       "      <td>182125.526786</td>\n",
       "      <td>463814.613244</td>\n",
       "    </tr>\n",
       "    <tr>\n",
       "      <th>69</th>\n",
       "      <td>179443.811344</td>\n",
       "      <td>461950.576063</td>\n",
       "    </tr>\n",
       "    <tr>\n",
       "      <th>70</th>\n",
       "      <td>182525.537334</td>\n",
       "      <td>462213.288154</td>\n",
       "    </tr>\n",
       "    <tr>\n",
       "      <th>71</th>\n",
       "      <td>180616.776917</td>\n",
       "      <td>464481.764844</td>\n",
       "    </tr>\n",
       "    <tr>\n",
       "      <th>72</th>\n",
       "      <td>179750.585513</td>\n",
       "      <td>462332.123077</td>\n",
       "    </tr>\n",
       "    <tr>\n",
       "      <th>73</th>\n",
       "      <td>178747.080217</td>\n",
       "      <td>463221.556765</td>\n",
       "    </tr>\n",
       "    <tr>\n",
       "      <th>74</th>\n",
       "      <td>181518.294815</td>\n",
       "      <td>460347.420520</td>\n",
       "    </tr>\n",
       "    <tr>\n",
       "      <th>75</th>\n",
       "      <td>180616.776917</td>\n",
       "      <td>464481.764844</td>\n",
       "    </tr>\n",
       "    <tr>\n",
       "      <th>76</th>\n",
       "      <td>179633.315549</td>\n",
       "      <td>462306.038543</td>\n",
       "    </tr>\n",
       "    <tr>\n",
       "      <th>77</th>\n",
       "      <td>184983.790262</td>\n",
       "      <td>458829.949981</td>\n",
       "    </tr>\n",
       "    <tr>\n",
       "      <th>78</th>\n",
       "      <td>186045.736284</td>\n",
       "      <td>457462.909086</td>\n",
       "    </tr>\n",
       "    <tr>\n",
       "      <th>79</th>\n",
       "      <td>178627.168030</td>\n",
       "      <td>463154.187308</td>\n",
       "    </tr>\n",
       "    <tr>\n",
       "      <th>80</th>\n",
       "      <td>199182.982380</td>\n",
       "      <td>436115.366546</td>\n",
       "    </tr>\n",
       "    <tr>\n",
       "      <th>81</th>\n",
       "      <td>NaN</td>\n",
       "      <td>NaN</td>\n",
       "    </tr>\n",
       "    <tr>\n",
       "      <th>82</th>\n",
       "      <td>188049.392014</td>\n",
       "      <td>441552.685246</td>\n",
       "    </tr>\n",
       "    <tr>\n",
       "      <th>83</th>\n",
       "      <td>188257.298588</td>\n",
       "      <td>441509.566838</td>\n",
       "    </tr>\n",
       "    <tr>\n",
       "      <th>84</th>\n",
       "      <td>189489.952346</td>\n",
       "      <td>438456.260629</td>\n",
       "    </tr>\n",
       "    <tr>\n",
       "      <th>85</th>\n",
       "      <td>188582.482844</td>\n",
       "      <td>441255.961126</td>\n",
       "    </tr>\n",
       "    <tr>\n",
       "      <th>86</th>\n",
       "      <td>189281.585643</td>\n",
       "      <td>436877.821297</td>\n",
       "    </tr>\n",
       "    <tr>\n",
       "      <th>87</th>\n",
       "      <td>188447.475794</td>\n",
       "      <td>441332.678665</td>\n",
       "    </tr>\n",
       "    <tr>\n",
       "      <th>88</th>\n",
       "      <td>189489.952346</td>\n",
       "      <td>438456.260629</td>\n",
       "    </tr>\n",
       "    <tr>\n",
       "      <th>89</th>\n",
       "      <td>189743.000000</td>\n",
       "      <td>438442.000000</td>\n",
       "    </tr>\n",
       "    <tr>\n",
       "      <th>90</th>\n",
       "      <td>186868.216435</td>\n",
       "      <td>441373.497311</td>\n",
       "    </tr>\n",
       "    <tr>\n",
       "      <th>91</th>\n",
       "      <td>NaN</td>\n",
       "      <td>NaN</td>\n",
       "    </tr>\n",
       "    <tr>\n",
       "      <th>92</th>\n",
       "      <td>187190.992630</td>\n",
       "      <td>442554.972984</td>\n",
       "    </tr>\n",
       "    <tr>\n",
       "      <th>93</th>\n",
       "      <td>214407.685521</td>\n",
       "      <td>430298.572228</td>\n",
       "    </tr>\n",
       "    <tr>\n",
       "      <th>94</th>\n",
       "      <td>222615.000000</td>\n",
       "      <td>434174.000000</td>\n",
       "    </tr>\n",
       "    <tr>\n",
       "      <th>95</th>\n",
       "      <td>219832.481817</td>\n",
       "      <td>434399.323565</td>\n",
       "    </tr>\n",
       "    <tr>\n",
       "      <th>96</th>\n",
       "      <td>222966.376547</td>\n",
       "      <td>434212.615122</td>\n",
       "    </tr>\n",
       "    <tr>\n",
       "      <th>97</th>\n",
       "      <td>225436.751900</td>\n",
       "      <td>435211.373814</td>\n",
       "    </tr>\n",
       "    <tr>\n",
       "      <th>98</th>\n",
       "      <td>225436.751900</td>\n",
       "      <td>435211.373814</td>\n",
       "    </tr>\n",
       "    <tr>\n",
       "      <th>99</th>\n",
       "      <td>227470.225280</td>\n",
       "      <td>429523.219087</td>\n",
       "    </tr>\n",
       "    <tr>\n",
       "      <th>100</th>\n",
       "      <td>222966.098121</td>\n",
       "      <td>434349.257902</td>\n",
       "    </tr>\n",
       "    <tr>\n",
       "      <th>101</th>\n",
       "      <td>229720.068750</td>\n",
       "      <td>424848.515015</td>\n",
       "    </tr>\n",
       "    <tr>\n",
       "      <th>102</th>\n",
       "      <td>229266.736259</td>\n",
       "      <td>423998.780027</td>\n",
       "    </tr>\n",
       "    <tr>\n",
       "      <th>103</th>\n",
       "      <td>212615.126711</td>\n",
       "      <td>455027.605602</td>\n",
       "    </tr>\n",
       "    <tr>\n",
       "      <th>104</th>\n",
       "      <td>211773.189810</td>\n",
       "      <td>455866.013570</td>\n",
       "    </tr>\n",
       "    <tr>\n",
       "      <th>105</th>\n",
       "      <td>210408.000000</td>\n",
       "      <td>456465.000000</td>\n",
       "    </tr>\n",
       "    <tr>\n",
       "      <th>106</th>\n",
       "      <td>212640.806782</td>\n",
       "      <td>455006.350387</td>\n",
       "    </tr>\n",
       "    <tr>\n",
       "      <th>107</th>\n",
       "      <td>211665.749877</td>\n",
       "      <td>455226.134646</td>\n",
       "    </tr>\n",
       "    <tr>\n",
       "      <th>108</th>\n",
       "      <td>212620.537277</td>\n",
       "      <td>455100.723389</td>\n",
       "    </tr>\n",
       "    <tr>\n",
       "      <th>109</th>\n",
       "      <td>212223.900950</td>\n",
       "      <td>455305.290946</td>\n",
       "    </tr>\n",
       "    <tr>\n",
       "      <th>110</th>\n",
       "      <td>212117.612552</td>\n",
       "      <td>456344.486298</td>\n",
       "    </tr>\n",
       "    <tr>\n",
       "      <th>111</th>\n",
       "      <td>212247.473639</td>\n",
       "      <td>455884.948018</td>\n",
       "    </tr>\n",
       "    <tr>\n",
       "      <th>112</th>\n",
       "      <td>211942.087991</td>\n",
       "      <td>455214.178161</td>\n",
       "    </tr>\n",
       "    <tr>\n",
       "      <th>113</th>\n",
       "      <td>212315.958272</td>\n",
       "      <td>455871.852755</td>\n",
       "    </tr>\n",
       "    <tr>\n",
       "      <th>114</th>\n",
       "      <td>211737.544819</td>\n",
       "      <td>455974.704801</td>\n",
       "    </tr>\n",
       "    <tr>\n",
       "      <th>115</th>\n",
       "      <td>211514.534294</td>\n",
       "      <td>455348.360135</td>\n",
       "    </tr>\n",
       "    <tr>\n",
       "      <th>116</th>\n",
       "      <td>211413.864689</td>\n",
       "      <td>455194.299439</td>\n",
       "    </tr>\n",
       "    <tr>\n",
       "      <th>117</th>\n",
       "      <td>211626.577524</td>\n",
       "      <td>455439.113117</td>\n",
       "    </tr>\n",
       "    <tr>\n",
       "      <th>118</th>\n",
       "      <td>212870.429257</td>\n",
       "      <td>454794.726364</td>\n",
       "    </tr>\n",
       "    <tr>\n",
       "      <th>119</th>\n",
       "      <td>194722.081426</td>\n",
       "      <td>427175.880144</td>\n",
       "    </tr>\n",
       "    <tr>\n",
       "      <th>120</th>\n",
       "      <td>194972.233046</td>\n",
       "      <td>427624.022337</td>\n",
       "    </tr>\n",
       "    <tr>\n",
       "      <th>121</th>\n",
       "      <td>193366.480747</td>\n",
       "      <td>429183.572277</td>\n",
       "    </tr>\n",
       "    <tr>\n",
       "      <th>122</th>\n",
       "      <td>194179.862184</td>\n",
       "      <td>426044.235290</td>\n",
       "    </tr>\n",
       "    <tr>\n",
       "      <th>123</th>\n",
       "      <td>195225.889347</td>\n",
       "      <td>428342.265719</td>\n",
       "    </tr>\n",
       "    <tr>\n",
       "      <th>124</th>\n",
       "      <td>193830.584165</td>\n",
       "      <td>429069.220918</td>\n",
       "    </tr>\n",
       "    <tr>\n",
       "      <th>125</th>\n",
       "      <td>194132.153840</td>\n",
       "      <td>428466.708579</td>\n",
       "    </tr>\n",
       "    <tr>\n",
       "      <th>126</th>\n",
       "      <td>194048.876802</td>\n",
       "      <td>428598.071689</td>\n",
       "    </tr>\n",
       "    <tr>\n",
       "      <th>127</th>\n",
       "      <td>194048.876802</td>\n",
       "      <td>428598.071689</td>\n",
       "    </tr>\n",
       "    <tr>\n",
       "      <th>128</th>\n",
       "      <td>193678.702974</td>\n",
       "      <td>429272.847721</td>\n",
       "    </tr>\n",
       "    <tr>\n",
       "      <th>129</th>\n",
       "      <td>195183.703613</td>\n",
       "      <td>428772.639773</td>\n",
       "    </tr>\n",
       "    <tr>\n",
       "      <th>130</th>\n",
       "      <td>195453.352938</td>\n",
       "      <td>426854.675922</td>\n",
       "    </tr>\n",
       "    <tr>\n",
       "      <th>131</th>\n",
       "      <td>195265.287882</td>\n",
       "      <td>428515.923530</td>\n",
       "    </tr>\n",
       "    <tr>\n",
       "      <th>132</th>\n",
       "      <td>175023.331034</td>\n",
       "      <td>457434.644580</td>\n",
       "    </tr>\n",
       "    <tr>\n",
       "      <th>133</th>\n",
       "      <td>166979.003898</td>\n",
       "      <td>460200.559820</td>\n",
       "    </tr>\n",
       "    <tr>\n",
       "      <th>134</th>\n",
       "      <td>NaN</td>\n",
       "      <td>NaN</td>\n",
       "    </tr>\n",
       "    <tr>\n",
       "      <th>135</th>\n",
       "      <td>174379.633265</td>\n",
       "      <td>458168.309392</td>\n",
       "    </tr>\n",
       "    <tr>\n",
       "      <th>136</th>\n",
       "      <td>164662.259354</td>\n",
       "      <td>465307.240637</td>\n",
       "    </tr>\n",
       "    <tr>\n",
       "      <th>137</th>\n",
       "      <td>175651.041933</td>\n",
       "      <td>456499.273679</td>\n",
       "    </tr>\n",
       "    <tr>\n",
       "      <th>138</th>\n",
       "      <td>NaN</td>\n",
       "      <td>NaN</td>\n",
       "    </tr>\n",
       "    <tr>\n",
       "      <th>139</th>\n",
       "      <td>166979.003898</td>\n",
       "      <td>460200.559820</td>\n",
       "    </tr>\n",
       "    <tr>\n",
       "      <th>140</th>\n",
       "      <td>166677.313332</td>\n",
       "      <td>460125.311668</td>\n",
       "    </tr>\n",
       "    <tr>\n",
       "      <th>141</th>\n",
       "      <td>173405.734212</td>\n",
       "      <td>457832.784820</td>\n",
       "    </tr>\n",
       "    <tr>\n",
       "      <th>142</th>\n",
       "      <td>175300.492202</td>\n",
       "      <td>455067.898518</td>\n",
       "    </tr>\n",
       "    <tr>\n",
       "      <th>143</th>\n",
       "      <td>161890.445583</td>\n",
       "      <td>466534.361232</td>\n",
       "    </tr>\n",
       "    <tr>\n",
       "      <th>144</th>\n",
       "      <td>174570.253596</td>\n",
       "      <td>457774.516612</td>\n",
       "    </tr>\n",
       "    <tr>\n",
       "      <th>145</th>\n",
       "      <td>173814.288056</td>\n",
       "      <td>458701.033199</td>\n",
       "    </tr>\n",
       "    <tr>\n",
       "      <th>146</th>\n",
       "      <td>170480.567873</td>\n",
       "      <td>460313.207516</td>\n",
       "    </tr>\n",
       "    <tr>\n",
       "      <th>147</th>\n",
       "      <td>175323.037197</td>\n",
       "      <td>457431.348893</td>\n",
       "    </tr>\n",
       "    <tr>\n",
       "      <th>148</th>\n",
       "      <td>NaN</td>\n",
       "      <td>NaN</td>\n",
       "    </tr>\n",
       "    <tr>\n",
       "      <th>149</th>\n",
       "      <td>165408.796993</td>\n",
       "      <td>464676.970997</td>\n",
       "    </tr>\n",
       "    <tr>\n",
       "      <th>150</th>\n",
       "      <td>166708.693536</td>\n",
       "      <td>460397.294028</td>\n",
       "    </tr>\n",
       "    <tr>\n",
       "      <th>151</th>\n",
       "      <td>166825.062110</td>\n",
       "      <td>460425.235856</td>\n",
       "    </tr>\n",
       "    <tr>\n",
       "      <th>152</th>\n",
       "      <td>176256.635923</td>\n",
       "      <td>456688.330294</td>\n",
       "    </tr>\n",
       "    <tr>\n",
       "      <th>153</th>\n",
       "      <td>167067.214641</td>\n",
       "      <td>461369.235098</td>\n",
       "    </tr>\n",
       "    <tr>\n",
       "      <th>154</th>\n",
       "      <td>171360.000000</td>\n",
       "      <td>462495.000000</td>\n",
       "    </tr>\n",
       "    <tr>\n",
       "      <th>155</th>\n",
       "      <td>163514.446318</td>\n",
       "      <td>465925.277841</td>\n",
       "    </tr>\n",
       "    <tr>\n",
       "      <th>156</th>\n",
       "      <td>174399.775787</td>\n",
       "      <td>459029.281923</td>\n",
       "    </tr>\n",
       "    <tr>\n",
       "      <th>157</th>\n",
       "      <td>169927.575869</td>\n",
       "      <td>459889.796175</td>\n",
       "    </tr>\n",
       "    <tr>\n",
       "      <th>158</th>\n",
       "      <td>167997.294250</td>\n",
       "      <td>468307.968265</td>\n",
       "    </tr>\n",
       "    <tr>\n",
       "      <th>159</th>\n",
       "      <td>175653.347057</td>\n",
       "      <td>456527.505652</td>\n",
       "    </tr>\n",
       "    <tr>\n",
       "      <th>160</th>\n",
       "      <td>166639.607209</td>\n",
       "      <td>460116.052637</td>\n",
       "    </tr>\n",
       "    <tr>\n",
       "      <th>161</th>\n",
       "      <td>171825.000000</td>\n",
       "      <td>460434.000000</td>\n",
       "    </tr>\n",
       "    <tr>\n",
       "      <th>162</th>\n",
       "      <td>172058.488505</td>\n",
       "      <td>461511.281449</td>\n",
       "    </tr>\n",
       "    <tr>\n",
       "      <th>163</th>\n",
       "      <td>164829.619839</td>\n",
       "      <td>465327.769810</td>\n",
       "    </tr>\n",
       "    <tr>\n",
       "      <th>164</th>\n",
       "      <td>174260.305381</td>\n",
       "      <td>459730.428566</td>\n",
       "    </tr>\n",
       "    <tr>\n",
       "      <th>165</th>\n",
       "      <td>176507.544465</td>\n",
       "      <td>456566.253025</td>\n",
       "    </tr>\n",
       "    <tr>\n",
       "      <th>166</th>\n",
       "      <td>227185.000000</td>\n",
       "      <td>470724.000000</td>\n",
       "    </tr>\n",
       "    <tr>\n",
       "      <th>167</th>\n",
       "      <td>220953.000000</td>\n",
       "      <td>460902.000000</td>\n",
       "    </tr>\n",
       "    <tr>\n",
       "      <th>168</th>\n",
       "      <td>217945.000000</td>\n",
       "      <td>464511.000000</td>\n",
       "    </tr>\n",
       "    <tr>\n",
       "      <th>169</th>\n",
       "      <td>215564.751414</td>\n",
       "      <td>461840.452566</td>\n",
       "    </tr>\n",
       "    <tr>\n",
       "      <th>170</th>\n",
       "      <td>NaN</td>\n",
       "      <td>NaN</td>\n",
       "    </tr>\n",
       "    <tr>\n",
       "      <th>171</th>\n",
       "      <td>217690.503874</td>\n",
       "      <td>466194.029532</td>\n",
       "    </tr>\n",
       "    <tr>\n",
       "      <th>172</th>\n",
       "      <td>220667.794203</td>\n",
       "      <td>460363.343580</td>\n",
       "    </tr>\n",
       "    <tr>\n",
       "      <th>173</th>\n",
       "      <td>216475.662619</td>\n",
       "      <td>467663.540139</td>\n",
       "    </tr>\n",
       "    <tr>\n",
       "      <th>174</th>\n",
       "      <td>218212.000000</td>\n",
       "      <td>459159.000000</td>\n",
       "    </tr>\n",
       "    <tr>\n",
       "      <th>175</th>\n",
       "      <td>216336.473260</td>\n",
       "      <td>467638.784627</td>\n",
       "    </tr>\n",
       "    <tr>\n",
       "      <th>176</th>\n",
       "      <td>217803.603552</td>\n",
       "      <td>468707.524824</td>\n",
       "    </tr>\n",
       "    <tr>\n",
       "      <th>177</th>\n",
       "      <td>NaN</td>\n",
       "      <td>NaN</td>\n",
       "    </tr>\n",
       "    <tr>\n",
       "      <th>178</th>\n",
       "      <td>226853.516674</td>\n",
       "      <td>461164.588969</td>\n",
       "    </tr>\n",
       "    <tr>\n",
       "      <th>179</th>\n",
       "      <td>226208.637111</td>\n",
       "      <td>468860.552146</td>\n",
       "    </tr>\n",
       "    <tr>\n",
       "      <th>180</th>\n",
       "      <td>211009.086252</td>\n",
       "      <td>460510.854983</td>\n",
       "    </tr>\n",
       "    <tr>\n",
       "      <th>181</th>\n",
       "      <td>218504.000000</td>\n",
       "      <td>468770.000000</td>\n",
       "    </tr>\n",
       "    <tr>\n",
       "      <th>182</th>\n",
       "      <td>226072.661664</td>\n",
       "      <td>461191.967142</td>\n",
       "    </tr>\n",
       "    <tr>\n",
       "      <th>183</th>\n",
       "      <td>217508.861774</td>\n",
       "      <td>467017.805248</td>\n",
       "    </tr>\n",
       "    <tr>\n",
       "      <th>184</th>\n",
       "      <td>227233.000000</td>\n",
       "      <td>470791.000000</td>\n",
       "    </tr>\n",
       "    <tr>\n",
       "      <th>185</th>\n",
       "      <td>228150.000000</td>\n",
       "      <td>467555.000000</td>\n",
       "    </tr>\n",
       "    <tr>\n",
       "      <th>186</th>\n",
       "      <td>220652.124876</td>\n",
       "      <td>460505.017372</td>\n",
       "    </tr>\n",
       "    <tr>\n",
       "      <th>187</th>\n",
       "      <td>NaN</td>\n",
       "      <td>NaN</td>\n",
       "    </tr>\n",
       "    <tr>\n",
       "      <th>188</th>\n",
       "      <td>218043.237679</td>\n",
       "      <td>459036.842539</td>\n",
       "    </tr>\n",
       "    <tr>\n",
       "      <th>189</th>\n",
       "      <td>225544.000000</td>\n",
       "      <td>474353.000000</td>\n",
       "    </tr>\n",
       "    <tr>\n",
       "      <th>190</th>\n",
       "      <td>NaN</td>\n",
       "      <td>NaN</td>\n",
       "    </tr>\n",
       "    <tr>\n",
       "      <th>191</th>\n",
       "      <td>212376.961864</td>\n",
       "      <td>460719.301940</td>\n",
       "    </tr>\n",
       "    <tr>\n",
       "      <th>192</th>\n",
       "      <td>220727.007887</td>\n",
       "      <td>460412.806743</td>\n",
       "    </tr>\n",
       "    <tr>\n",
       "      <th>193</th>\n",
       "      <td>226793.076094</td>\n",
       "      <td>461115.825968</td>\n",
       "    </tr>\n",
       "    <tr>\n",
       "      <th>194</th>\n",
       "      <td>218007.000000</td>\n",
       "      <td>471536.000000</td>\n",
       "    </tr>\n",
       "    <tr>\n",
       "      <th>195</th>\n",
       "      <td>209916.250321</td>\n",
       "      <td>460844.848418</td>\n",
       "    </tr>\n",
       "    <tr>\n",
       "      <th>196</th>\n",
       "      <td>216336.473260</td>\n",
       "      <td>467638.784627</td>\n",
       "    </tr>\n",
       "    <tr>\n",
       "      <th>197</th>\n",
       "      <td>227233.000000</td>\n",
       "      <td>470791.000000</td>\n",
       "    </tr>\n",
       "    <tr>\n",
       "      <th>198</th>\n",
       "      <td>212723.184785</td>\n",
       "      <td>460962.385147</td>\n",
       "    </tr>\n",
       "    <tr>\n",
       "      <th>199</th>\n",
       "      <td>220931.835668</td>\n",
       "      <td>460883.542729</td>\n",
       "    </tr>\n",
       "    <tr>\n",
       "      <th>200</th>\n",
       "      <td>221365.019316</td>\n",
       "      <td>461326.761557</td>\n",
       "    </tr>\n",
       "    <tr>\n",
       "      <th>201</th>\n",
       "      <td>221515.893657</td>\n",
       "      <td>461378.526544</td>\n",
       "    </tr>\n",
       "    <tr>\n",
       "      <th>202</th>\n",
       "      <td>224109.785776</td>\n",
       "      <td>461515.127695</td>\n",
       "    </tr>\n",
       "    <tr>\n",
       "      <th>203</th>\n",
       "      <td>223041.457433</td>\n",
       "      <td>461194.289843</td>\n",
       "    </tr>\n",
       "    <tr>\n",
       "      <th>204</th>\n",
       "      <td>215776.779813</td>\n",
       "      <td>468132.821840</td>\n",
       "    </tr>\n",
       "    <tr>\n",
       "      <th>205</th>\n",
       "      <td>221512.003353</td>\n",
       "      <td>461332.015198</td>\n",
       "    </tr>\n",
       "    <tr>\n",
       "      <th>206</th>\n",
       "      <td>216840.971373</td>\n",
       "      <td>469322.672861</td>\n",
       "    </tr>\n",
       "    <tr>\n",
       "      <th>207</th>\n",
       "      <td>211904.105255</td>\n",
       "      <td>488709.805503</td>\n",
       "    </tr>\n",
       "    <tr>\n",
       "      <th>208</th>\n",
       "      <td>207195.352071</td>\n",
       "      <td>488039.164895</td>\n",
       "    </tr>\n",
       "    <tr>\n",
       "      <th>209</th>\n",
       "      <td>NaN</td>\n",
       "      <td>NaN</td>\n",
       "    </tr>\n",
       "    <tr>\n",
       "      <th>210</th>\n",
       "      <td>211954.319071</td>\n",
       "      <td>488639.446668</td>\n",
       "    </tr>\n",
       "    <tr>\n",
       "      <th>211</th>\n",
       "      <td>211954.319071</td>\n",
       "      <td>488639.446668</td>\n",
       "    </tr>\n",
       "    <tr>\n",
       "      <th>212</th>\n",
       "      <td>205516.143310</td>\n",
       "      <td>488816.086180</td>\n",
       "    </tr>\n",
       "    <tr>\n",
       "      <th>213</th>\n",
       "      <td>204419.042992</td>\n",
       "      <td>489350.835081</td>\n",
       "    </tr>\n",
       "    <tr>\n",
       "      <th>214</th>\n",
       "      <td>208935.493520</td>\n",
       "      <td>486709.896998</td>\n",
       "    </tr>\n",
       "    <tr>\n",
       "      <th>215</th>\n",
       "      <td>207295.036780</td>\n",
       "      <td>488165.797671</td>\n",
       "    </tr>\n",
       "    <tr>\n",
       "      <th>216</th>\n",
       "      <td>203098.306424</td>\n",
       "      <td>489520.925273</td>\n",
       "    </tr>\n",
       "    <tr>\n",
       "      <th>217</th>\n",
       "      <td>180811.000000</td>\n",
       "      <td>443354.000000</td>\n",
       "    </tr>\n",
       "    <tr>\n",
       "      <th>218</th>\n",
       "      <td>179493.530484</td>\n",
       "      <td>441746.937931</td>\n",
       "    </tr>\n",
       "    <tr>\n",
       "      <th>219</th>\n",
       "      <td>181569.982244</td>\n",
       "      <td>442781.596434</td>\n",
       "    </tr>\n",
       "    <tr>\n",
       "      <th>220</th>\n",
       "      <td>183624.505933</td>\n",
       "      <td>442516.272487</td>\n",
       "    </tr>\n",
       "    <tr>\n",
       "      <th>221</th>\n",
       "      <td>180822.659878</td>\n",
       "      <td>442917.328507</td>\n",
       "    </tr>\n",
       "    <tr>\n",
       "      <th>222</th>\n",
       "      <td>181014.074027</td>\n",
       "      <td>442573.901990</td>\n",
       "    </tr>\n",
       "    <tr>\n",
       "      <th>223</th>\n",
       "      <td>180952.909495</td>\n",
       "      <td>443563.064494</td>\n",
       "    </tr>\n",
       "    <tr>\n",
       "      <th>224</th>\n",
       "      <td>181676.000000</td>\n",
       "      <td>446453.000000</td>\n",
       "    </tr>\n",
       "    <tr>\n",
       "      <th>225</th>\n",
       "      <td>178988.444887</td>\n",
       "      <td>443422.453875</td>\n",
       "    </tr>\n",
       "    <tr>\n",
       "      <th>226</th>\n",
       "      <td>180124.255783</td>\n",
       "      <td>444818.556915</td>\n",
       "    </tr>\n",
       "    <tr>\n",
       "      <th>227</th>\n",
       "      <td>181869.201540</td>\n",
       "      <td>441915.116652</td>\n",
       "    </tr>\n",
       "    <tr>\n",
       "      <th>228</th>\n",
       "      <td>178121.000000</td>\n",
       "      <td>444806.000000</td>\n",
       "    </tr>\n",
       "    <tr>\n",
       "      <th>229</th>\n",
       "      <td>180737.189452</td>\n",
       "      <td>442766.411714</td>\n",
       "    </tr>\n",
       "    <tr>\n",
       "      <th>230</th>\n",
       "      <td>179139.768873</td>\n",
       "      <td>442400.970077</td>\n",
       "    </tr>\n",
       "    <tr>\n",
       "      <th>231</th>\n",
       "      <td>178017.000000</td>\n",
       "      <td>444637.000000</td>\n",
       "    </tr>\n",
       "    <tr>\n",
       "      <th>232</th>\n",
       "      <td>179694.181518</td>\n",
       "      <td>445874.258698</td>\n",
       "    </tr>\n",
       "    <tr>\n",
       "      <th>233</th>\n",
       "      <td>180480.734565</td>\n",
       "      <td>442665.817559</td>\n",
       "    </tr>\n",
       "    <tr>\n",
       "      <th>234</th>\n",
       "      <td>178766.292772</td>\n",
       "      <td>444599.470847</td>\n",
       "    </tr>\n",
       "    <tr>\n",
       "      <th>235</th>\n",
       "      <td>182707.448234</td>\n",
       "      <td>446692.919178</td>\n",
       "    </tr>\n",
       "    <tr>\n",
       "      <th>236</th>\n",
       "      <td>182158.972637</td>\n",
       "      <td>440442.687278</td>\n",
       "    </tr>\n",
       "    <tr>\n",
       "      <th>237</th>\n",
       "      <td>180073.000000</td>\n",
       "      <td>442414.000000</td>\n",
       "    </tr>\n",
       "    <tr>\n",
       "      <th>238</th>\n",
       "      <td>180844.462863</td>\n",
       "      <td>443383.072380</td>\n",
       "    </tr>\n",
       "    <tr>\n",
       "      <th>239</th>\n",
       "      <td>183536.266454</td>\n",
       "      <td>442034.591014</td>\n",
       "    </tr>\n",
       "    <tr>\n",
       "      <th>240</th>\n",
       "      <td>179037.117773</td>\n",
       "      <td>444554.090879</td>\n",
       "    </tr>\n",
       "    <tr>\n",
       "      <th>241</th>\n",
       "      <td>178504.051429</td>\n",
       "      <td>444903.472253</td>\n",
       "    </tr>\n",
       "    <tr>\n",
       "      <th>242</th>\n",
       "      <td>180948.530540</td>\n",
       "      <td>445100.048965</td>\n",
       "    </tr>\n",
       "    <tr>\n",
       "      <th>243</th>\n",
       "      <td>181174.565363</td>\n",
       "      <td>442544.254512</td>\n",
       "    </tr>\n",
       "    <tr>\n",
       "      <th>244</th>\n",
       "      <td>178522.441274</td>\n",
       "      <td>444945.754661</td>\n",
       "    </tr>\n",
       "    <tr>\n",
       "      <th>245</th>\n",
       "      <td>181473.939105</td>\n",
       "      <td>442109.928917</td>\n",
       "    </tr>\n",
       "    <tr>\n",
       "      <th>246</th>\n",
       "      <td>183436.883007</td>\n",
       "      <td>442773.329828</td>\n",
       "    </tr>\n",
       "    <tr>\n",
       "      <th>247</th>\n",
       "      <td>182964.000000</td>\n",
       "      <td>445216.000000</td>\n",
       "    </tr>\n",
       "    <tr>\n",
       "      <th>248</th>\n",
       "      <td>180344.000000</td>\n",
       "      <td>444589.000000</td>\n",
       "    </tr>\n",
       "    <tr>\n",
       "      <th>249</th>\n",
       "      <td>182709.293811</td>\n",
       "      <td>446532.295781</td>\n",
       "    </tr>\n",
       "    <tr>\n",
       "      <th>250</th>\n",
       "      <td>177957.331026</td>\n",
       "      <td>443053.487729</td>\n",
       "    </tr>\n",
       "    <tr>\n",
       "      <th>251</th>\n",
       "      <td>180920.186112</td>\n",
       "      <td>443445.971156</td>\n",
       "    </tr>\n",
       "    <tr>\n",
       "      <th>252</th>\n",
       "      <td>182648.968769</td>\n",
       "      <td>447235.875017</td>\n",
       "    </tr>\n",
       "    <tr>\n",
       "      <th>253</th>\n",
       "      <td>181869.201540</td>\n",
       "      <td>441915.116652</td>\n",
       "    </tr>\n",
       "    <tr>\n",
       "      <th>254</th>\n",
       "      <td>181053.406136</td>\n",
       "      <td>444153.737095</td>\n",
       "    </tr>\n",
       "    <tr>\n",
       "      <th>255</th>\n",
       "      <td>180790.733731</td>\n",
       "      <td>442675.194757</td>\n",
       "    </tr>\n",
       "    <tr>\n",
       "      <th>256</th>\n",
       "      <td>181150.875221</td>\n",
       "      <td>446398.116619</td>\n",
       "    </tr>\n",
       "    <tr>\n",
       "      <th>257</th>\n",
       "      <td>177715.885179</td>\n",
       "      <td>444717.054012</td>\n",
       "    </tr>\n",
       "    <tr>\n",
       "      <th>258</th>\n",
       "      <td>181632.549751</td>\n",
       "      <td>442226.312647</td>\n",
       "    </tr>\n",
       "    <tr>\n",
       "      <th>259</th>\n",
       "      <td>177965.748999</td>\n",
       "      <td>444810.505365</td>\n",
       "    </tr>\n",
       "    <tr>\n",
       "      <th>260</th>\n",
       "      <td>178936.000000</td>\n",
       "      <td>444135.000000</td>\n",
       "    </tr>\n",
       "    <tr>\n",
       "      <th>261</th>\n",
       "      <td>180132.698061</td>\n",
       "      <td>444778.404724</td>\n",
       "    </tr>\n",
       "    <tr>\n",
       "      <th>262</th>\n",
       "      <td>180009.767079</td>\n",
       "      <td>445604.402837</td>\n",
       "    </tr>\n",
       "    <tr>\n",
       "      <th>263</th>\n",
       "      <td>178434.715994</td>\n",
       "      <td>442398.198238</td>\n",
       "    </tr>\n",
       "    <tr>\n",
       "      <th>264</th>\n",
       "      <td>180796.803308</td>\n",
       "      <td>443095.254194</td>\n",
       "    </tr>\n",
       "    <tr>\n",
       "      <th>265</th>\n",
       "      <td>181320.059857</td>\n",
       "      <td>446432.432462</td>\n",
       "    </tr>\n",
       "    <tr>\n",
       "      <th>266</th>\n",
       "      <td>181144.425532</td>\n",
       "      <td>444515.890421</td>\n",
       "    </tr>\n",
       "    <tr>\n",
       "      <th>267</th>\n",
       "      <td>182644.228346</td>\n",
       "      <td>447285.311711</td>\n",
       "    </tr>\n",
       "    <tr>\n",
       "      <th>268</th>\n",
       "      <td>179542.714495</td>\n",
       "      <td>445600.706221</td>\n",
       "    </tr>\n",
       "    <tr>\n",
       "      <th>269</th>\n",
       "      <td>179365.188971</td>\n",
       "      <td>442367.129851</td>\n",
       "    </tr>\n",
       "    <tr>\n",
       "      <th>270</th>\n",
       "      <td>180136.000000</td>\n",
       "      <td>443812.000000</td>\n",
       "    </tr>\n",
       "    <tr>\n",
       "      <th>271</th>\n",
       "      <td>180112.728829</td>\n",
       "      <td>445964.102347</td>\n",
       "    </tr>\n",
       "    <tr>\n",
       "      <th>272</th>\n",
       "      <td>182662.000000</td>\n",
       "      <td>446403.000000</td>\n",
       "    </tr>\n",
       "    <tr>\n",
       "      <th>273</th>\n",
       "      <td>178156.560270</td>\n",
       "      <td>444798.494036</td>\n",
       "    </tr>\n",
       "    <tr>\n",
       "      <th>274</th>\n",
       "      <td>180973.000000</td>\n",
       "      <td>443981.000000</td>\n",
       "    </tr>\n",
       "    <tr>\n",
       "      <th>275</th>\n",
       "      <td>180782.254687</td>\n",
       "      <td>443328.576203</td>\n",
       "    </tr>\n",
       "    <tr>\n",
       "      <th>276</th>\n",
       "      <td>178766.292772</td>\n",
       "      <td>444599.470847</td>\n",
       "    </tr>\n",
       "    <tr>\n",
       "      <th>277</th>\n",
       "      <td>180955.577109</td>\n",
       "      <td>445072.207859</td>\n",
       "    </tr>\n",
       "    <tr>\n",
       "      <th>278</th>\n",
       "      <td>179572.165000</td>\n",
       "      <td>444434.015000</td>\n",
       "    </tr>\n",
       "    <tr>\n",
       "      <th>279</th>\n",
       "      <td>180890.000000</td>\n",
       "      <td>443651.000000</td>\n",
       "    </tr>\n",
       "    <tr>\n",
       "      <th>280</th>\n",
       "      <td>180799.000000</td>\n",
       "      <td>442365.000000</td>\n",
       "    </tr>\n",
       "    <tr>\n",
       "      <th>281</th>\n",
       "      <td>182191.423237</td>\n",
       "      <td>446219.555050</td>\n",
       "    </tr>\n",
       "    <tr>\n",
       "      <th>282</th>\n",
       "      <td>180629.670905</td>\n",
       "      <td>444574.657748</td>\n",
       "    </tr>\n",
       "    <tr>\n",
       "      <th>283</th>\n",
       "      <td>182824.797312</td>\n",
       "      <td>445480.168556</td>\n",
       "    </tr>\n",
       "    <tr>\n",
       "      <th>284</th>\n",
       "      <td>179627.111125</td>\n",
       "      <td>446196.428233</td>\n",
       "    </tr>\n",
       "    <tr>\n",
       "      <th>285</th>\n",
       "      <td>180922.912649</td>\n",
       "      <td>446336.020351</td>\n",
       "    </tr>\n",
       "    <tr>\n",
       "      <th>286</th>\n",
       "      <td>179809.276007</td>\n",
       "      <td>442340.728592</td>\n",
       "    </tr>\n",
       "    <tr>\n",
       "      <th>287</th>\n",
       "      <td>211269.219079</td>\n",
       "      <td>429474.847983</td>\n",
       "    </tr>\n",
       "    <tr>\n",
       "      <th>288</th>\n",
       "      <td>211295.288709</td>\n",
       "      <td>436367.591449</td>\n",
       "    </tr>\n",
       "    <tr>\n",
       "      <th>289</th>\n",
       "      <td>212590.000000</td>\n",
       "      <td>441303.000000</td>\n",
       "    </tr>\n",
       "    <tr>\n",
       "      <th>290</th>\n",
       "      <td>211473.012005</td>\n",
       "      <td>437639.122893</td>\n",
       "    </tr>\n",
       "    <tr>\n",
       "      <th>291</th>\n",
       "      <td>NaN</td>\n",
       "      <td>NaN</td>\n",
       "    </tr>\n",
       "    <tr>\n",
       "      <th>292</th>\n",
       "      <td>NaN</td>\n",
       "      <td>NaN</td>\n",
       "    </tr>\n",
       "    <tr>\n",
       "      <th>293</th>\n",
       "      <td>210700.754935</td>\n",
       "      <td>431789.637415</td>\n",
       "    </tr>\n",
       "    <tr>\n",
       "      <th>294</th>\n",
       "      <td>209468.677545</td>\n",
       "      <td>429517.658834</td>\n",
       "    </tr>\n",
       "    <tr>\n",
       "      <th>295</th>\n",
       "      <td>211162.564998</td>\n",
       "      <td>435133.751763</td>\n",
       "    </tr>\n",
       "    <tr>\n",
       "      <th>296</th>\n",
       "      <td>214318.566423</td>\n",
       "      <td>438127.583113</td>\n",
       "    </tr>\n",
       "    <tr>\n",
       "      <th>297</th>\n",
       "      <td>211158.287507</td>\n",
       "      <td>434251.310564</td>\n",
       "    </tr>\n",
       "    <tr>\n",
       "      <th>298</th>\n",
       "      <td>NaN</td>\n",
       "      <td>NaN</td>\n",
       "    </tr>\n",
       "    <tr>\n",
       "      <th>299</th>\n",
       "      <td>208654.910956</td>\n",
       "      <td>428191.631589</td>\n",
       "    </tr>\n",
       "    <tr>\n",
       "      <th>300</th>\n",
       "      <td>209347.110374</td>\n",
       "      <td>429108.052264</td>\n",
       "    </tr>\n",
       "    <tr>\n",
       "      <th>301</th>\n",
       "      <td>211425.537823</td>\n",
       "      <td>434474.106083</td>\n",
       "    </tr>\n",
       "    <tr>\n",
       "      <th>302</th>\n",
       "      <td>210937.260615</td>\n",
       "      <td>427534.279932</td>\n",
       "    </tr>\n",
       "    <tr>\n",
       "      <th>303</th>\n",
       "      <td>211093.185000</td>\n",
       "      <td>432142.415000</td>\n",
       "    </tr>\n",
       "    <tr>\n",
       "      <th>304</th>\n",
       "      <td>211127.000000</td>\n",
       "      <td>433739.000000</td>\n",
       "    </tr>\n",
       "    <tr>\n",
       "      <th>305</th>\n",
       "      <td>210629.740000</td>\n",
       "      <td>434896.985000</td>\n",
       "    </tr>\n",
       "    <tr>\n",
       "      <th>306</th>\n",
       "      <td>210204.853355</td>\n",
       "      <td>430741.529701</td>\n",
       "    </tr>\n",
       "    <tr>\n",
       "      <th>307</th>\n",
       "      <td>210550.916561</td>\n",
       "      <td>431521.714879</td>\n",
       "    </tr>\n",
       "    <tr>\n",
       "      <th>308</th>\n",
       "      <td>210716.258279</td>\n",
       "      <td>431661.638117</td>\n",
       "    </tr>\n",
       "    <tr>\n",
       "      <th>309</th>\n",
       "      <td>211374.669579</td>\n",
       "      <td>434537.462307</td>\n",
       "    </tr>\n",
       "    <tr>\n",
       "      <th>310</th>\n",
       "      <td>209632.610966</td>\n",
       "      <td>427611.356701</td>\n",
       "    </tr>\n",
       "    <tr>\n",
       "      <th>311</th>\n",
       "      <td>209893.194445</td>\n",
       "      <td>432815.237681</td>\n",
       "    </tr>\n",
       "    <tr>\n",
       "      <th>312</th>\n",
       "      <td>210585.183552</td>\n",
       "      <td>431337.304453</td>\n",
       "    </tr>\n",
       "    <tr>\n",
       "      <th>313</th>\n",
       "      <td>211213.409099</td>\n",
       "      <td>437914.298870</td>\n",
       "    </tr>\n",
       "    <tr>\n",
       "      <th>314</th>\n",
       "      <td>212249.075475</td>\n",
       "      <td>438077.523150</td>\n",
       "    </tr>\n",
       "    <tr>\n",
       "      <th>315</th>\n",
       "      <td>211320.004131</td>\n",
       "      <td>436629.452243</td>\n",
       "    </tr>\n",
       "    <tr>\n",
       "      <th>316</th>\n",
       "      <td>214018.311648</td>\n",
       "      <td>438064.646958</td>\n",
       "    </tr>\n",
       "    <tr>\n",
       "      <th>317</th>\n",
       "      <td>211349.355094</td>\n",
       "      <td>436361.715031</td>\n",
       "    </tr>\n",
       "    <tr>\n",
       "      <th>318</th>\n",
       "      <td>214270.883664</td>\n",
       "      <td>438973.093667</td>\n",
       "    </tr>\n",
       "    <tr>\n",
       "      <th>319</th>\n",
       "      <td>213840.809961</td>\n",
       "      <td>433625.496950</td>\n",
       "    </tr>\n",
       "    <tr>\n",
       "      <th>320</th>\n",
       "      <td>211282.845631</td>\n",
       "      <td>436931.591096</td>\n",
       "    </tr>\n",
       "    <tr>\n",
       "      <th>321</th>\n",
       "      <td>211371.072652</td>\n",
       "      <td>436944.361232</td>\n",
       "    </tr>\n",
       "    <tr>\n",
       "      <th>322</th>\n",
       "      <td>210878.910141</td>\n",
       "      <td>431830.690591</td>\n",
       "    </tr>\n",
       "    <tr>\n",
       "      <th>323</th>\n",
       "      <td>211346.403996</td>\n",
       "      <td>437531.330042</td>\n",
       "    </tr>\n",
       "    <tr>\n",
       "      <th>324</th>\n",
       "      <td>212889.780143</td>\n",
       "      <td>437694.304941</td>\n",
       "    </tr>\n",
       "    <tr>\n",
       "      <th>325</th>\n",
       "      <td>212784.939153</td>\n",
       "      <td>438568.031029</td>\n",
       "    </tr>\n",
       "    <tr>\n",
       "      <th>326</th>\n",
       "      <td>NaN</td>\n",
       "      <td>NaN</td>\n",
       "    </tr>\n",
       "    <tr>\n",
       "      <th>327</th>\n",
       "      <td>NaN</td>\n",
       "      <td>NaN</td>\n",
       "    </tr>\n",
       "    <tr>\n",
       "      <th>328</th>\n",
       "      <td>212591.000000</td>\n",
       "      <td>441190.000000</td>\n",
       "    </tr>\n",
       "    <tr>\n",
       "      <th>329</th>\n",
       "      <td>NaN</td>\n",
       "      <td>NaN</td>\n",
       "    </tr>\n",
       "    <tr>\n",
       "      <th>330</th>\n",
       "      <td>NaN</td>\n",
       "      <td>NaN</td>\n",
       "    </tr>\n",
       "    <tr>\n",
       "      <th>331</th>\n",
       "      <td>NaN</td>\n",
       "      <td>NaN</td>\n",
       "    </tr>\n",
       "    <tr>\n",
       "      <th>332</th>\n",
       "      <td>211313.708010</td>\n",
       "      <td>436554.780756</td>\n",
       "    </tr>\n",
       "    <tr>\n",
       "      <th>333</th>\n",
       "      <td>209347.535349</td>\n",
       "      <td>429078.538734</td>\n",
       "    </tr>\n",
       "    <tr>\n",
       "      <th>334</th>\n",
       "      <td>209795.685593</td>\n",
       "      <td>430535.016089</td>\n",
       "    </tr>\n",
       "    <tr>\n",
       "      <th>335</th>\n",
       "      <td>213294.687398</td>\n",
       "      <td>434868.005925</td>\n",
       "    </tr>\n",
       "    <tr>\n",
       "      <th>336</th>\n",
       "      <td>212335.783645</td>\n",
       "      <td>437960.963724</td>\n",
       "    </tr>\n",
       "    <tr>\n",
       "      <th>337</th>\n",
       "      <td>211018.695500</td>\n",
       "      <td>434244.944456</td>\n",
       "    </tr>\n",
       "    <tr>\n",
       "      <th>338</th>\n",
       "      <td>212102.924236</td>\n",
       "      <td>430225.135622</td>\n",
       "    </tr>\n",
       "    <tr>\n",
       "      <th>339</th>\n",
       "      <td>212600.452361</td>\n",
       "      <td>437477.489675</td>\n",
       "    </tr>\n",
       "    <tr>\n",
       "      <th>340</th>\n",
       "      <td>210265.695086</td>\n",
       "      <td>426121.809503</td>\n",
       "    </tr>\n",
       "    <tr>\n",
       "      <th>341</th>\n",
       "      <td>212681.476909</td>\n",
       "      <td>437541.504893</td>\n",
       "    </tr>\n",
       "    <tr>\n",
       "      <th>342</th>\n",
       "      <td>202374.979308</td>\n",
       "      <td>419557.793961</td>\n",
       "    </tr>\n",
       "    <tr>\n",
       "      <th>343</th>\n",
       "      <td>202356.000000</td>\n",
       "      <td>419428.000000</td>\n",
       "    </tr>\n",
       "    <tr>\n",
       "      <th>344</th>\n",
       "      <td>199610.829818</td>\n",
       "      <td>421112.520850</td>\n",
       "    </tr>\n",
       "    <tr>\n",
       "      <th>345</th>\n",
       "      <td>200348.788320</td>\n",
       "      <td>422438.390459</td>\n",
       "    </tr>\n",
       "    <tr>\n",
       "      <th>346</th>\n",
       "      <td>205289.160314</td>\n",
       "      <td>418886.436415</td>\n",
       "    </tr>\n",
       "    <tr>\n",
       "      <th>347</th>\n",
       "      <td>202274.000000</td>\n",
       "      <td>417854.000000</td>\n",
       "    </tr>\n",
       "    <tr>\n",
       "      <th>348</th>\n",
       "      <td>204211.350762</td>\n",
       "      <td>419108.941434</td>\n",
       "    </tr>\n",
       "    <tr>\n",
       "      <th>349</th>\n",
       "      <td>202363.000000</td>\n",
       "      <td>421097.000000</td>\n",
       "    </tr>\n",
       "    <tr>\n",
       "      <th>350</th>\n",
       "      <td>206620.000000</td>\n",
       "      <td>417024.000000</td>\n",
       "    </tr>\n",
       "    <tr>\n",
       "      <th>351</th>\n",
       "      <td>NaN</td>\n",
       "      <td>NaN</td>\n",
       "    </tr>\n",
       "    <tr>\n",
       "      <th>352</th>\n",
       "      <td>195858.214517</td>\n",
       "      <td>419228.504806</td>\n",
       "    </tr>\n",
       "    <tr>\n",
       "      <th>353</th>\n",
       "      <td>200901.111532</td>\n",
       "      <td>420638.106147</td>\n",
       "    </tr>\n",
       "    <tr>\n",
       "      <th>354</th>\n",
       "      <td>202352.590859</td>\n",
       "      <td>419308.998913</td>\n",
       "    </tr>\n",
       "    <tr>\n",
       "      <th>355</th>\n",
       "      <td>202842.167470</td>\n",
       "      <td>418315.892733</td>\n",
       "    </tr>\n",
       "    <tr>\n",
       "      <th>356</th>\n",
       "      <td>200192.348276</td>\n",
       "      <td>419576.142545</td>\n",
       "    </tr>\n",
       "    <tr>\n",
       "      <th>357</th>\n",
       "      <td>200595.907009</td>\n",
       "      <td>422245.119974</td>\n",
       "    </tr>\n",
       "    <tr>\n",
       "      <th>358</th>\n",
       "      <td>196610.789802</td>\n",
       "      <td>417359.380787</td>\n",
       "    </tr>\n",
       "    <tr>\n",
       "      <th>359</th>\n",
       "      <td>202469.817225</td>\n",
       "      <td>418425.680714</td>\n",
       "    </tr>\n",
       "    <tr>\n",
       "      <th>360</th>\n",
       "      <td>204911.000000</td>\n",
       "      <td>415907.000000</td>\n",
       "    </tr>\n",
       "    <tr>\n",
       "      <th>361</th>\n",
       "      <td>206556.351819</td>\n",
       "      <td>417113.766621</td>\n",
       "    </tr>\n",
       "    <tr>\n",
       "      <th>362</th>\n",
       "      <td>198484.815444</td>\n",
       "      <td>416603.543406</td>\n",
       "    </tr>\n",
       "    <tr>\n",
       "      <th>363</th>\n",
       "      <td>194870.404046</td>\n",
       "      <td>419056.941621</td>\n",
       "    </tr>\n",
       "    <tr>\n",
       "      <th>364</th>\n",
       "      <td>203998.068992</td>\n",
       "      <td>419175.787006</td>\n",
       "    </tr>\n",
       "    <tr>\n",
       "      <th>365</th>\n",
       "      <td>200683.517761</td>\n",
       "      <td>421112.633235</td>\n",
       "    </tr>\n",
       "    <tr>\n",
       "      <th>366</th>\n",
       "      <td>195844.366786</td>\n",
       "      <td>419278.018018</td>\n",
       "    </tr>\n",
       "    <tr>\n",
       "      <th>367</th>\n",
       "      <td>202574.876779</td>\n",
       "      <td>419833.567962</td>\n",
       "    </tr>\n",
       "    <tr>\n",
       "      <th>368</th>\n",
       "      <td>197818.640705</td>\n",
       "      <td>416589.809523</td>\n",
       "    </tr>\n",
       "    <tr>\n",
       "      <th>369</th>\n",
       "      <td>201719.928186</td>\n",
       "      <td>416871.431176</td>\n",
       "    </tr>\n",
       "    <tr>\n",
       "      <th>370</th>\n",
       "      <td>201596.328916</td>\n",
       "      <td>419214.819771</td>\n",
       "    </tr>\n",
       "    <tr>\n",
       "      <th>371</th>\n",
       "      <td>200025.175050</td>\n",
       "      <td>418778.435748</td>\n",
       "    </tr>\n",
       "    <tr>\n",
       "      <th>372</th>\n",
       "      <td>200041.542129</td>\n",
       "      <td>421291.421616</td>\n",
       "    </tr>\n",
       "    <tr>\n",
       "      <th>373</th>\n",
       "      <td>195760.524291</td>\n",
       "      <td>419192.640739</td>\n",
       "    </tr>\n",
       "    <tr>\n",
       "      <th>374</th>\n",
       "      <td>205643.000000</td>\n",
       "      <td>417655.000000</td>\n",
       "    </tr>\n",
       "    <tr>\n",
       "      <th>375</th>\n",
       "      <td>201846.315793</td>\n",
       "      <td>417401.030648</td>\n",
       "    </tr>\n",
       "    <tr>\n",
       "      <th>376</th>\n",
       "      <td>206343.756953</td>\n",
       "      <td>416825.453697</td>\n",
       "    </tr>\n",
       "    <tr>\n",
       "      <th>377</th>\n",
       "      <td>201953.835511</td>\n",
       "      <td>417553.807055</td>\n",
       "    </tr>\n",
       "    <tr>\n",
       "      <th>378</th>\n",
       "      <td>195878.000000</td>\n",
       "      <td>419138.000000</td>\n",
       "    </tr>\n",
       "    <tr>\n",
       "      <th>379</th>\n",
       "      <td>199280.580590</td>\n",
       "      <td>422430.496119</td>\n",
       "    </tr>\n",
       "    <tr>\n",
       "      <th>380</th>\n",
       "      <td>200645.322832</td>\n",
       "      <td>422052.008280</td>\n",
       "    </tr>\n",
       "    <tr>\n",
       "      <th>381</th>\n",
       "      <td>202507.300051</td>\n",
       "      <td>419151.796336</td>\n",
       "    </tr>\n",
       "    <tr>\n",
       "      <th>382</th>\n",
       "      <td>206728.841889</td>\n",
       "      <td>416758.301448</td>\n",
       "    </tr>\n",
       "    <tr>\n",
       "      <th>383</th>\n",
       "      <td>199524.963492</td>\n",
       "      <td>421620.627877</td>\n",
       "    </tr>\n",
       "    <tr>\n",
       "      <th>384</th>\n",
       "      <td>204160.000000</td>\n",
       "      <td>419582.000000</td>\n",
       "    </tr>\n",
       "    <tr>\n",
       "      <th>385</th>\n",
       "      <td>199111.913469</td>\n",
       "      <td>423174.201094</td>\n",
       "    </tr>\n",
       "    <tr>\n",
       "      <th>386</th>\n",
       "      <td>202946.073921</td>\n",
       "      <td>416380.474998</td>\n",
       "    </tr>\n",
       "    <tr>\n",
       "      <th>387</th>\n",
       "      <td>207076.302447</td>\n",
       "      <td>418369.755992</td>\n",
       "    </tr>\n",
       "    <tr>\n",
       "      <th>388</th>\n",
       "      <td>200062.030583</td>\n",
       "      <td>422501.984644</td>\n",
       "    </tr>\n",
       "    <tr>\n",
       "      <th>389</th>\n",
       "      <td>200753.413122</td>\n",
       "      <td>421226.832816</td>\n",
       "    </tr>\n",
       "    <tr>\n",
       "      <th>390</th>\n",
       "      <td>205316.000000</td>\n",
       "      <td>415111.000000</td>\n",
       "    </tr>\n",
       "    <tr>\n",
       "      <th>391</th>\n",
       "      <td>202139.993634</td>\n",
       "      <td>417977.864950</td>\n",
       "    </tr>\n",
       "    <tr>\n",
       "      <th>392</th>\n",
       "      <td>202428.000000</td>\n",
       "      <td>418872.000000</td>\n",
       "    </tr>\n",
       "    <tr>\n",
       "      <th>393</th>\n",
       "      <td>207112.000000</td>\n",
       "      <td>418317.000000</td>\n",
       "    </tr>\n",
       "    <tr>\n",
       "      <th>394</th>\n",
       "      <td>204656.000000</td>\n",
       "      <td>416041.000000</td>\n",
       "    </tr>\n",
       "    <tr>\n",
       "      <th>395</th>\n",
       "      <td>202973.131830</td>\n",
       "      <td>419577.756048</td>\n",
       "    </tr>\n",
       "    <tr>\n",
       "      <th>396</th>\n",
       "      <td>NaN</td>\n",
       "      <td>NaN</td>\n",
       "    </tr>\n",
       "    <tr>\n",
       "      <th>397</th>\n",
       "      <td>197990.000000</td>\n",
       "      <td>415495.000000</td>\n",
       "    </tr>\n",
       "    <tr>\n",
       "      <th>398</th>\n",
       "      <td>197990.000000</td>\n",
       "      <td>415495.000000</td>\n",
       "    </tr>\n",
       "    <tr>\n",
       "      <th>399</th>\n",
       "      <td>201387.000000</td>\n",
       "      <td>419677.000000</td>\n",
       "    </tr>\n",
       "    <tr>\n",
       "      <th>400</th>\n",
       "      <td>201313.000000</td>\n",
       "      <td>418915.000000</td>\n",
       "    </tr>\n",
       "    <tr>\n",
       "      <th>401</th>\n",
       "      <td>202207.000000</td>\n",
       "      <td>418169.000000</td>\n",
       "    </tr>\n",
       "    <tr>\n",
       "      <th>402</th>\n",
       "      <td>203688.000000</td>\n",
       "      <td>419165.000000</td>\n",
       "    </tr>\n",
       "    <tr>\n",
       "      <th>403</th>\n",
       "      <td>202879.000000</td>\n",
       "      <td>419637.000000</td>\n",
       "    </tr>\n",
       "    <tr>\n",
       "      <th>404</th>\n",
       "      <td>204226.768491</td>\n",
       "      <td>419022.232874</td>\n",
       "    </tr>\n",
       "    <tr>\n",
       "      <th>405</th>\n",
       "      <td>202312.000000</td>\n",
       "      <td>418489.000000</td>\n",
       "    </tr>\n",
       "    <tr>\n",
       "      <th>406</th>\n",
       "      <td>195983.497227</td>\n",
       "      <td>419066.088944</td>\n",
       "    </tr>\n",
       "    <tr>\n",
       "      <th>407</th>\n",
       "      <td>203601.995230</td>\n",
       "      <td>419339.931809</td>\n",
       "    </tr>\n",
       "    <tr>\n",
       "      <th>408</th>\n",
       "      <td>203925.000000</td>\n",
       "      <td>419138.000000</td>\n",
       "    </tr>\n",
       "    <tr>\n",
       "      <th>409</th>\n",
       "      <td>202644.319257</td>\n",
       "      <td>418371.533252</td>\n",
       "    </tr>\n",
       "    <tr>\n",
       "      <th>410</th>\n",
       "      <td>201332.000000</td>\n",
       "      <td>419060.000000</td>\n",
       "    </tr>\n",
       "    <tr>\n",
       "      <th>411</th>\n",
       "      <td>204302.792908</td>\n",
       "      <td>419730.487743</td>\n",
       "    </tr>\n",
       "    <tr>\n",
       "      <th>412</th>\n",
       "      <td>202340.297303</td>\n",
       "      <td>418645.211770</td>\n",
       "    </tr>\n",
       "    <tr>\n",
       "      <th>413</th>\n",
       "      <td>200021.358122</td>\n",
       "      <td>423018.676774</td>\n",
       "    </tr>\n",
       "    <tr>\n",
       "      <th>414</th>\n",
       "      <td>202587.083906</td>\n",
       "      <td>419123.384901</td>\n",
       "    </tr>\n",
       "    <tr>\n",
       "      <th>415</th>\n",
       "      <td>200557.000000</td>\n",
       "      <td>419555.000000</td>\n",
       "    </tr>\n",
       "    <tr>\n",
       "      <th>416</th>\n",
       "      <td>182852.761194</td>\n",
       "      <td>431581.548379</td>\n",
       "    </tr>\n",
       "    <tr>\n",
       "      <th>417</th>\n",
       "      <td>NaN</td>\n",
       "      <td>NaN</td>\n",
       "    </tr>\n",
       "    <tr>\n",
       "      <th>418</th>\n",
       "      <td>180958.000000</td>\n",
       "      <td>437558.000000</td>\n",
       "    </tr>\n",
       "    <tr>\n",
       "      <th>419</th>\n",
       "      <td>174676.932901</td>\n",
       "      <td>427814.339691</td>\n",
       "    </tr>\n",
       "    <tr>\n",
       "      <th>420</th>\n",
       "      <td>175802.000000</td>\n",
       "      <td>429445.000000</td>\n",
       "    </tr>\n",
       "    <tr>\n",
       "      <th>421</th>\n",
       "      <td>177590.000000</td>\n",
       "      <td>426009.000000</td>\n",
       "    </tr>\n",
       "    <tr>\n",
       "      <th>422</th>\n",
       "      <td>NaN</td>\n",
       "      <td>NaN</td>\n",
       "    </tr>\n",
       "    <tr>\n",
       "      <th>423</th>\n",
       "      <td>182195.538353</td>\n",
       "      <td>438084.701611</td>\n",
       "    </tr>\n",
       "    <tr>\n",
       "      <th>424</th>\n",
       "      <td>176417.689595</td>\n",
       "      <td>427000.138155</td>\n",
       "    </tr>\n",
       "    <tr>\n",
       "      <th>425</th>\n",
       "      <td>181298.000000</td>\n",
       "      <td>437803.000000</td>\n",
       "    </tr>\n",
       "    <tr>\n",
       "      <th>426</th>\n",
       "      <td>NaN</td>\n",
       "      <td>NaN</td>\n",
       "    </tr>\n",
       "    <tr>\n",
       "      <th>427</th>\n",
       "      <td>NaN</td>\n",
       "      <td>NaN</td>\n",
       "    </tr>\n",
       "    <tr>\n",
       "      <th>428</th>\n",
       "      <td>181414.401984</td>\n",
       "      <td>437998.763760</td>\n",
       "    </tr>\n",
       "    <tr>\n",
       "      <th>429</th>\n",
       "      <td>181498.496062</td>\n",
       "      <td>438335.225717</td>\n",
       "    </tr>\n",
       "    <tr>\n",
       "      <th>430</th>\n",
       "      <td>181596.577677</td>\n",
       "      <td>437913.268308</td>\n",
       "    </tr>\n",
       "    <tr>\n",
       "      <th>431</th>\n",
       "      <td>176742.000000</td>\n",
       "      <td>426966.000000</td>\n",
       "    </tr>\n",
       "    <tr>\n",
       "      <th>432</th>\n",
       "      <td>180847.962471</td>\n",
       "      <td>437719.827754</td>\n",
       "    </tr>\n",
       "    <tr>\n",
       "      <th>433</th>\n",
       "      <td>175875.000000</td>\n",
       "      <td>429487.000000</td>\n",
       "    </tr>\n",
       "    <tr>\n",
       "      <th>434</th>\n",
       "      <td>176485.197367</td>\n",
       "      <td>427084.541050</td>\n",
       "    </tr>\n",
       "    <tr>\n",
       "      <th>435</th>\n",
       "      <td>177050.000000</td>\n",
       "      <td>432263.000000</td>\n",
       "    </tr>\n",
       "    <tr>\n",
       "      <th>436</th>\n",
       "      <td>181477.928220</td>\n",
       "      <td>437808.805965</td>\n",
       "    </tr>\n",
       "    <tr>\n",
       "      <th>437</th>\n",
       "      <td>176644.513029</td>\n",
       "      <td>427587.809327</td>\n",
       "    </tr>\n",
       "    <tr>\n",
       "      <th>438</th>\n",
       "      <td>181292.479382</td>\n",
       "      <td>438065.241734</td>\n",
       "    </tr>\n",
       "    <tr>\n",
       "      <th>439</th>\n",
       "      <td>183176.000000</td>\n",
       "      <td>429643.000000</td>\n",
       "    </tr>\n",
       "    <tr>\n",
       "      <th>440</th>\n",
       "      <td>175831.000000</td>\n",
       "      <td>426092.000000</td>\n",
       "    </tr>\n",
       "    <tr>\n",
       "      <th>441</th>\n",
       "      <td>175553.000000</td>\n",
       "      <td>427998.000000</td>\n",
       "    </tr>\n",
       "    <tr>\n",
       "      <th>442</th>\n",
       "      <td>180987.058057</td>\n",
       "      <td>437980.290456</td>\n",
       "    </tr>\n",
       "    <tr>\n",
       "      <th>443</th>\n",
       "      <td>180895.991021</td>\n",
       "      <td>426822.693428</td>\n",
       "    </tr>\n",
       "    <tr>\n",
       "      <th>444</th>\n",
       "      <td>181218.000000</td>\n",
       "      <td>437366.000000</td>\n",
       "    </tr>\n",
       "    <tr>\n",
       "      <th>445</th>\n",
       "      <td>176450.000000</td>\n",
       "      <td>432035.000000</td>\n",
       "    </tr>\n",
       "    <tr>\n",
       "      <th>446</th>\n",
       "      <td>180908.228585</td>\n",
       "      <td>426991.219427</td>\n",
       "    </tr>\n",
       "    <tr>\n",
       "      <th>447</th>\n",
       "      <td>176031.000000</td>\n",
       "      <td>425937.000000</td>\n",
       "    </tr>\n",
       "    <tr>\n",
       "      <th>448</th>\n",
       "      <td>175848.325385</td>\n",
       "      <td>426130.430501</td>\n",
       "    </tr>\n",
       "    <tr>\n",
       "      <th>449</th>\n",
       "      <td>181268.875221</td>\n",
       "      <td>430651.776552</td>\n",
       "    </tr>\n",
       "    <tr>\n",
       "      <th>450</th>\n",
       "      <td>182859.869116</td>\n",
       "      <td>430012.303496</td>\n",
       "    </tr>\n",
       "    <tr>\n",
       "      <th>451</th>\n",
       "      <td>187618.585000</td>\n",
       "      <td>422180.700000</td>\n",
       "    </tr>\n",
       "    <tr>\n",
       "      <th>452</th>\n",
       "      <td>185276.000000</td>\n",
       "      <td>424125.000000</td>\n",
       "    </tr>\n",
       "    <tr>\n",
       "      <th>453</th>\n",
       "      <td>184436.090447</td>\n",
       "      <td>424158.825282</td>\n",
       "    </tr>\n",
       "    <tr>\n",
       "      <th>454</th>\n",
       "      <td>185403.460477</td>\n",
       "      <td>424004.760892</td>\n",
       "    </tr>\n",
       "    <tr>\n",
       "      <th>455</th>\n",
       "      <td>188790.160812</td>\n",
       "      <td>423859.289934</td>\n",
       "    </tr>\n",
       "    <tr>\n",
       "      <th>456</th>\n",
       "      <td>187842.000000</td>\n",
       "      <td>422271.000000</td>\n",
       "    </tr>\n",
       "    <tr>\n",
       "      <th>457</th>\n",
       "      <td>182929.268504</td>\n",
       "      <td>425703.197140</td>\n",
       "    </tr>\n",
       "    <tr>\n",
       "      <th>458</th>\n",
       "      <td>182880.808061</td>\n",
       "      <td>425797.494189</td>\n",
       "    </tr>\n",
       "    <tr>\n",
       "      <th>459</th>\n",
       "      <td>183038.329861</td>\n",
       "      <td>426085.523168</td>\n",
       "    </tr>\n",
       "    <tr>\n",
       "      <th>460</th>\n",
       "      <td>186448.126290</td>\n",
       "      <td>422858.055731</td>\n",
       "    </tr>\n",
       "    <tr>\n",
       "      <th>461</th>\n",
       "      <td>186906.031934</td>\n",
       "      <td>425998.269498</td>\n",
       "    </tr>\n",
       "    <tr>\n",
       "      <th>462</th>\n",
       "      <td>184541.480231</td>\n",
       "      <td>424099.902384</td>\n",
       "    </tr>\n",
       "    <tr>\n",
       "      <th>463</th>\n",
       "      <td>183310.679887</td>\n",
       "      <td>425672.571527</td>\n",
       "    </tr>\n",
       "    <tr>\n",
       "      <th>464</th>\n",
       "      <td>186810.000000</td>\n",
       "      <td>423011.000000</td>\n",
       "    </tr>\n",
       "    <tr>\n",
       "      <th>465</th>\n",
       "      <td>187007.384933</td>\n",
       "      <td>420594.065094</td>\n",
       "    </tr>\n",
       "    <tr>\n",
       "      <th>466</th>\n",
       "      <td>184794.753783</td>\n",
       "      <td>423438.458688</td>\n",
       "    </tr>\n",
       "    <tr>\n",
       "      <th>467</th>\n",
       "      <td>186863.300593</td>\n",
       "      <td>421497.086566</td>\n",
       "    </tr>\n",
       "    <tr>\n",
       "      <th>468</th>\n",
       "      <td>182411.979747</td>\n",
       "      <td>425098.896646</td>\n",
       "    </tr>\n",
       "    <tr>\n",
       "      <th>469</th>\n",
       "      <td>186107.000000</td>\n",
       "      <td>419936.000000</td>\n",
       "    </tr>\n",
       "    <tr>\n",
       "      <th>470</th>\n",
       "      <td>184713.194765</td>\n",
       "      <td>423087.544112</td>\n",
       "    </tr>\n",
       "    <tr>\n",
       "      <th>471</th>\n",
       "      <td>187779.000000</td>\n",
       "      <td>420973.000000</td>\n",
       "    </tr>\n",
       "    <tr>\n",
       "      <th>472</th>\n",
       "      <td>183300.288778</td>\n",
       "      <td>422060.836656</td>\n",
       "    </tr>\n",
       "    <tr>\n",
       "      <th>473</th>\n",
       "      <td>185037.467042</td>\n",
       "      <td>424053.624779</td>\n",
       "    </tr>\n",
       "    <tr>\n",
       "      <th>474</th>\n",
       "      <td>187655.978922</td>\n",
       "      <td>422236.102574</td>\n",
       "    </tr>\n",
       "    <tr>\n",
       "      <th>475</th>\n",
       "      <td>183264.752382</td>\n",
       "      <td>422289.893968</td>\n",
       "    </tr>\n",
       "    <tr>\n",
       "      <th>476</th>\n",
       "      <td>185032.000000</td>\n",
       "      <td>425425.000000</td>\n",
       "    </tr>\n",
       "    <tr>\n",
       "      <th>477</th>\n",
       "      <td>183272.535308</td>\n",
       "      <td>425656.228183</td>\n",
       "    </tr>\n",
       "    <tr>\n",
       "      <th>478</th>\n",
       "      <td>185127.258781</td>\n",
       "      <td>424047.913703</td>\n",
       "    </tr>\n",
       "    <tr>\n",
       "      <th>479</th>\n",
       "      <td>186311.421273</td>\n",
       "      <td>421900.649645</td>\n",
       "    </tr>\n",
       "    <tr>\n",
       "      <th>480</th>\n",
       "      <td>186835.000000</td>\n",
       "      <td>422973.000000</td>\n",
       "    </tr>\n",
       "    <tr>\n",
       "      <th>481</th>\n",
       "      <td>185544.047777</td>\n",
       "      <td>423981.697177</td>\n",
       "    </tr>\n",
       "    <tr>\n",
       "      <th>482</th>\n",
       "      <td>184835.616808</td>\n",
       "      <td>424029.305281</td>\n",
       "    </tr>\n",
       "    <tr>\n",
       "      <th>483</th>\n",
       "      <td>185094.720698</td>\n",
       "      <td>423639.954559</td>\n",
       "    </tr>\n",
       "    <tr>\n",
       "      <th>484</th>\n",
       "      <td>185832.956403</td>\n",
       "      <td>424076.386919</td>\n",
       "    </tr>\n",
       "    <tr>\n",
       "      <th>485</th>\n",
       "      <td>187247.943750</td>\n",
       "      <td>422882.918346</td>\n",
       "    </tr>\n",
       "    <tr>\n",
       "      <th>486</th>\n",
       "      <td>183379.619850</td>\n",
       "      <td>422143.413284</td>\n",
       "    </tr>\n",
       "    <tr>\n",
       "      <th>487</th>\n",
       "      <td>186258.391133</td>\n",
       "      <td>425905.159196</td>\n",
       "    </tr>\n",
       "    <tr>\n",
       "      <th>488</th>\n",
       "      <td>188540.832155</td>\n",
       "      <td>421424.534910</td>\n",
       "    </tr>\n",
       "    <tr>\n",
       "      <th>489</th>\n",
       "      <td>184795.691175</td>\n",
       "      <td>424336.224295</td>\n",
       "    </tr>\n",
       "    <tr>\n",
       "      <th>490</th>\n",
       "      <td>187793.308017</td>\n",
       "      <td>420732.841262</td>\n",
       "    </tr>\n",
       "    <tr>\n",
       "      <th>491</th>\n",
       "      <td>183760.272039</td>\n",
       "      <td>426671.427346</td>\n",
       "    </tr>\n",
       "    <tr>\n",
       "      <th>492</th>\n",
       "      <td>183379.619850</td>\n",
       "      <td>422143.413284</td>\n",
       "    </tr>\n",
       "    <tr>\n",
       "      <th>493</th>\n",
       "      <td>185051.460574</td>\n",
       "      <td>423944.669147</td>\n",
       "    </tr>\n",
       "    <tr>\n",
       "      <th>494</th>\n",
       "      <td>183372.493822</td>\n",
       "      <td>422042.507944</td>\n",
       "    </tr>\n",
       "    <tr>\n",
       "      <th>495</th>\n",
       "      <td>183074.561837</td>\n",
       "      <td>422385.334405</td>\n",
       "    </tr>\n",
       "    <tr>\n",
       "      <th>496</th>\n",
       "      <td>184930.742377</td>\n",
       "      <td>423232.014471</td>\n",
       "    </tr>\n",
       "    <tr>\n",
       "      <th>497</th>\n",
       "      <td>186493.443851</td>\n",
       "      <td>422800.614800</td>\n",
       "    </tr>\n",
       "    <tr>\n",
       "      <th>498</th>\n",
       "      <td>186173.235763</td>\n",
       "      <td>425010.121160</td>\n",
       "    </tr>\n",
       "    <tr>\n",
       "      <th>499</th>\n",
       "      <td>187847.000000</td>\n",
       "      <td>420655.000000</td>\n",
       "    </tr>\n",
       "    <tr>\n",
       "      <th>500</th>\n",
       "      <td>186227.000000</td>\n",
       "      <td>425951.000000</td>\n",
       "    </tr>\n",
       "    <tr>\n",
       "      <th>501</th>\n",
       "      <td>181941.567030</td>\n",
       "      <td>423458.285743</td>\n",
       "    </tr>\n",
       "    <tr>\n",
       "      <th>502</th>\n",
       "      <td>185750.479003</td>\n",
       "      <td>425435.119268</td>\n",
       "    </tr>\n",
       "    <tr>\n",
       "      <th>503</th>\n",
       "      <td>184967.000000</td>\n",
       "      <td>423989.000000</td>\n",
       "    </tr>\n",
       "    <tr>\n",
       "      <th>504</th>\n",
       "      <td>185054.000000</td>\n",
       "      <td>424146.000000</td>\n",
       "    </tr>\n",
       "    <tr>\n",
       "      <th>505</th>\n",
       "      <td>181962.000000</td>\n",
       "      <td>423567.000000</td>\n",
       "    </tr>\n",
       "    <tr>\n",
       "      <th>506</th>\n",
       "      <td>183166.000000</td>\n",
       "      <td>426097.000000</td>\n",
       "    </tr>\n",
       "    <tr>\n",
       "      <th>507</th>\n",
       "      <td>184774.065084</td>\n",
       "      <td>423138.145650</td>\n",
       "    </tr>\n",
       "    <tr>\n",
       "      <th>508</th>\n",
       "      <td>184655.783470</td>\n",
       "      <td>423382.735894</td>\n",
       "    </tr>\n",
       "    <tr>\n",
       "      <th>509</th>\n",
       "      <td>185079.000000</td>\n",
       "      <td>423038.000000</td>\n",
       "    </tr>\n",
       "    <tr>\n",
       "      <th>510</th>\n",
       "      <td>184655.161447</td>\n",
       "      <td>423519.906889</td>\n",
       "    </tr>\n",
       "    <tr>\n",
       "      <th>511</th>\n",
       "      <td>184621.554255</td>\n",
       "      <td>422922.275824</td>\n",
       "    </tr>\n",
       "    <tr>\n",
       "      <th>512</th>\n",
       "      <td>NaN</td>\n",
       "      <td>NaN</td>\n",
       "    </tr>\n",
       "    <tr>\n",
       "      <th>513</th>\n",
       "      <td>223168.000000</td>\n",
       "      <td>403994.000000</td>\n",
       "    </tr>\n",
       "    <tr>\n",
       "      <th>514</th>\n",
       "      <td>242118.000000</td>\n",
       "      <td>395053.000000</td>\n",
       "    </tr>\n",
       "    <tr>\n",
       "      <th>515</th>\n",
       "      <td>215162.144634</td>\n",
       "      <td>388730.857212</td>\n",
       "    </tr>\n",
       "    <tr>\n",
       "      <th>516</th>\n",
       "      <td>223875.000000</td>\n",
       "      <td>390584.000000</td>\n",
       "    </tr>\n",
       "    <tr>\n",
       "      <th>517</th>\n",
       "      <td>NaN</td>\n",
       "      <td>NaN</td>\n",
       "    </tr>\n",
       "    <tr>\n",
       "      <th>518</th>\n",
       "      <td>223684.000000</td>\n",
       "      <td>389343.000000</td>\n",
       "    </tr>\n",
       "    <tr>\n",
       "      <th>519</th>\n",
       "      <td>223642.000000</td>\n",
       "      <td>389301.000000</td>\n",
       "    </tr>\n",
       "    <tr>\n",
       "      <th>520</th>\n",
       "      <td>224055.000000</td>\n",
       "      <td>389444.000000</td>\n",
       "    </tr>\n",
       "    <tr>\n",
       "      <th>521</th>\n",
       "      <td>223959.426499</td>\n",
       "      <td>389842.865215</td>\n",
       "    </tr>\n",
       "    <tr>\n",
       "      <th>522</th>\n",
       "      <td>232019.000000</td>\n",
       "      <td>390815.000000</td>\n",
       "    </tr>\n",
       "    <tr>\n",
       "      <th>523</th>\n",
       "      <td>223389.000000</td>\n",
       "      <td>403064.000000</td>\n",
       "    </tr>\n",
       "    <tr>\n",
       "      <th>524</th>\n",
       "      <td>234488.000000</td>\n",
       "      <td>395981.000000</td>\n",
       "    </tr>\n",
       "    <tr>\n",
       "      <th>525</th>\n",
       "      <td>212604.629108</td>\n",
       "      <td>388101.264785</td>\n",
       "    </tr>\n",
       "    <tr>\n",
       "      <th>526</th>\n",
       "      <td>195772.174772</td>\n",
       "      <td>432241.538236</td>\n",
       "    </tr>\n",
       "    <tr>\n",
       "      <th>527</th>\n",
       "      <td>193349.101393</td>\n",
       "      <td>432314.432036</td>\n",
       "    </tr>\n",
       "    <tr>\n",
       "      <th>528</th>\n",
       "      <td>196812.000000</td>\n",
       "      <td>432653.000000</td>\n",
       "    </tr>\n",
       "    <tr>\n",
       "      <th>529</th>\n",
       "      <td>197558.995962</td>\n",
       "      <td>432653.446589</td>\n",
       "    </tr>\n",
       "    <tr>\n",
       "      <th>530</th>\n",
       "      <td>196140.247373</td>\n",
       "      <td>430338.423623</td>\n",
       "    </tr>\n",
       "    <tr>\n",
       "      <th>531</th>\n",
       "      <td>193958.409881</td>\n",
       "      <td>431422.396612</td>\n",
       "    </tr>\n",
       "    <tr>\n",
       "      <th>532</th>\n",
       "      <td>192517.366426</td>\n",
       "      <td>433605.463370</td>\n",
       "    </tr>\n",
       "    <tr>\n",
       "      <th>533</th>\n",
       "      <td>192916.144565</td>\n",
       "      <td>432971.776344</td>\n",
       "    </tr>\n",
       "    <tr>\n",
       "      <th>534</th>\n",
       "      <td>192933.974406</td>\n",
       "      <td>433188.903755</td>\n",
       "    </tr>\n",
       "    <tr>\n",
       "      <th>535</th>\n",
       "      <td>195909.000000</td>\n",
       "      <td>432013.000000</td>\n",
       "    </tr>\n",
       "    <tr>\n",
       "      <th>536</th>\n",
       "      <td>197405.461146</td>\n",
       "      <td>432648.108382</td>\n",
       "    </tr>\n",
       "    <tr>\n",
       "      <th>537</th>\n",
       "      <td>192778.783438</td>\n",
       "      <td>433177.863816</td>\n",
       "    </tr>\n",
       "    <tr>\n",
       "      <th>538</th>\n",
       "      <td>194109.886696</td>\n",
       "      <td>431353.459094</td>\n",
       "    </tr>\n",
       "    <tr>\n",
       "      <th>539</th>\n",
       "      <td>196127.000000</td>\n",
       "      <td>433535.000000</td>\n",
       "    </tr>\n",
       "    <tr>\n",
       "      <th>540</th>\n",
       "      <td>192703.041056</td>\n",
       "      <td>432987.188848</td>\n",
       "    </tr>\n",
       "    <tr>\n",
       "      <th>541</th>\n",
       "      <td>192726.060750</td>\n",
       "      <td>433263.098318</td>\n",
       "    </tr>\n",
       "    <tr>\n",
       "      <th>542</th>\n",
       "      <td>196260.423172</td>\n",
       "      <td>429867.612215</td>\n",
       "    </tr>\n",
       "    <tr>\n",
       "      <th>543</th>\n",
       "      <td>193394.842752</td>\n",
       "      <td>432474.797854</td>\n",
       "    </tr>\n",
       "    <tr>\n",
       "      <th>544</th>\n",
       "      <td>193417.434955</td>\n",
       "      <td>432473.462039</td>\n",
       "    </tr>\n",
       "    <tr>\n",
       "      <th>545</th>\n",
       "      <td>196219.000000</td>\n",
       "      <td>430083.000000</td>\n",
       "    </tr>\n",
       "    <tr>\n",
       "      <th>546</th>\n",
       "      <td>193630.222235</td>\n",
       "      <td>432270.503823</td>\n",
       "    </tr>\n",
       "    <tr>\n",
       "      <th>547</th>\n",
       "      <td>197575.000000</td>\n",
       "      <td>433528.000000</td>\n",
       "    </tr>\n",
       "    <tr>\n",
       "      <th>548</th>\n",
       "      <td>194212.428078</td>\n",
       "      <td>430679.674489</td>\n",
       "    </tr>\n",
       "    <tr>\n",
       "      <th>549</th>\n",
       "      <td>197818.111876</td>\n",
       "      <td>433137.578437</td>\n",
       "    </tr>\n",
       "    <tr>\n",
       "      <th>550</th>\n",
       "      <td>195463.147915</td>\n",
       "      <td>432081.400084</td>\n",
       "    </tr>\n",
       "    <tr>\n",
       "      <th>551</th>\n",
       "      <td>195305.000000</td>\n",
       "      <td>433223.000000</td>\n",
       "    </tr>\n",
       "    <tr>\n",
       "      <th>552</th>\n",
       "      <td>195766.722253</td>\n",
       "      <td>432025.374361</td>\n",
       "    </tr>\n",
       "    <tr>\n",
       "      <th>553</th>\n",
       "      <td>194375.355266</td>\n",
       "      <td>432710.017001</td>\n",
       "    </tr>\n",
       "    <tr>\n",
       "      <th>554</th>\n",
       "      <td>196573.000000</td>\n",
       "      <td>432266.000000</td>\n",
       "    </tr>\n",
       "    <tr>\n",
       "      <th>555</th>\n",
       "      <td>193395.119610</td>\n",
       "      <td>432264.551522</td>\n",
       "    </tr>\n",
       "    <tr>\n",
       "      <th>556</th>\n",
       "      <td>193226.191772</td>\n",
       "      <td>432371.930336</td>\n",
       "    </tr>\n",
       "    <tr>\n",
       "      <th>557</th>\n",
       "      <td>204053.228326</td>\n",
       "      <td>479993.701275</td>\n",
       "    </tr>\n",
       "    <tr>\n",
       "      <th>558</th>\n",
       "      <td>NaN</td>\n",
       "      <td>NaN</td>\n",
       "    </tr>\n",
       "    <tr>\n",
       "      <th>559</th>\n",
       "      <td>204200.334410</td>\n",
       "      <td>480021.458853</td>\n",
       "    </tr>\n",
       "    <tr>\n",
       "      <th>560</th>\n",
       "      <td>194473.043948</td>\n",
       "      <td>474413.002200</td>\n",
       "    </tr>\n",
       "    <tr>\n",
       "      <th>561</th>\n",
       "      <td>NaN</td>\n",
       "      <td>NaN</td>\n",
       "    </tr>\n",
       "    <tr>\n",
       "      <th>562</th>\n",
       "      <td>194704.899633</td>\n",
       "      <td>474922.041492</td>\n",
       "    </tr>\n",
       "    <tr>\n",
       "      <th>563</th>\n",
       "      <td>198506.841814</td>\n",
       "      <td>470970.561962</td>\n",
       "    </tr>\n",
       "    <tr>\n",
       "      <th>564</th>\n",
       "      <td>196819.000000</td>\n",
       "      <td>467839.000000</td>\n",
       "    </tr>\n",
       "    <tr>\n",
       "      <th>565</th>\n",
       "      <td>198383.736955</td>\n",
       "      <td>470996.373816</td>\n",
       "    </tr>\n",
       "    <tr>\n",
       "      <th>566</th>\n",
       "      <td>194485.523636</td>\n",
       "      <td>474439.620568</td>\n",
       "    </tr>\n",
       "    <tr>\n",
       "      <th>567</th>\n",
       "      <td>196893.591476</td>\n",
       "      <td>490447.959502</td>\n",
       "    </tr>\n",
       "    <tr>\n",
       "      <th>568</th>\n",
       "      <td>NaN</td>\n",
       "      <td>NaN</td>\n",
       "    </tr>\n",
       "    <tr>\n",
       "      <th>569</th>\n",
       "      <td>NaN</td>\n",
       "      <td>NaN</td>\n",
       "    </tr>\n",
       "    <tr>\n",
       "      <th>570</th>\n",
       "      <td>NaN</td>\n",
       "      <td>NaN</td>\n",
       "    </tr>\n",
       "    <tr>\n",
       "      <th>571</th>\n",
       "      <td>199035.976490</td>\n",
       "      <td>479352.379588</td>\n",
       "    </tr>\n",
       "    <tr>\n",
       "      <th>572</th>\n",
       "      <td>199535.390365</td>\n",
       "      <td>478639.253058</td>\n",
       "    </tr>\n",
       "    <tr>\n",
       "      <th>573</th>\n",
       "      <td>NaN</td>\n",
       "      <td>NaN</td>\n",
       "    </tr>\n",
       "    <tr>\n",
       "      <th>574</th>\n",
       "      <td>207438.712046</td>\n",
       "      <td>477561.381833</td>\n",
       "    </tr>\n",
       "    <tr>\n",
       "      <th>575</th>\n",
       "      <td>194446.611954</td>\n",
       "      <td>474280.613126</td>\n",
       "    </tr>\n",
       "    <tr>\n",
       "      <th>576</th>\n",
       "      <td>206581.801144</td>\n",
       "      <td>482536.583763</td>\n",
       "    </tr>\n",
       "    <tr>\n",
       "      <th>577</th>\n",
       "      <td>245741.000000</td>\n",
       "      <td>443287.000000</td>\n",
       "    </tr>\n",
       "    <tr>\n",
       "      <th>578</th>\n",
       "      <td>237016.849379</td>\n",
       "      <td>443981.623688</td>\n",
       "    </tr>\n",
       "    <tr>\n",
       "      <th>579</th>\n",
       "      <td>254727.000000</td>\n",
       "      <td>449286.000000</td>\n",
       "    </tr>\n",
       "    <tr>\n",
       "      <th>580</th>\n",
       "      <td>251759.000000</td>\n",
       "      <td>439628.000000</td>\n",
       "    </tr>\n",
       "    <tr>\n",
       "      <th>581</th>\n",
       "      <td>228158.000000</td>\n",
       "      <td>449160.000000</td>\n",
       "    </tr>\n",
       "    <tr>\n",
       "      <th>582</th>\n",
       "      <td>244441.154432</td>\n",
       "      <td>443648.849743</td>\n",
       "    </tr>\n",
       "    <tr>\n",
       "      <th>583</th>\n",
       "      <td>244642.000000</td>\n",
       "      <td>443215.000000</td>\n",
       "    </tr>\n",
       "    <tr>\n",
       "      <th>584</th>\n",
       "      <td>243771.968827</td>\n",
       "      <td>443212.714338</td>\n",
       "    </tr>\n",
       "    <tr>\n",
       "      <th>585</th>\n",
       "      <td>252044.975866</td>\n",
       "      <td>442385.408779</td>\n",
       "    </tr>\n",
       "    <tr>\n",
       "      <th>586</th>\n",
       "      <td>237344.000000</td>\n",
       "      <td>445539.000000</td>\n",
       "    </tr>\n",
       "    <tr>\n",
       "      <th>587</th>\n",
       "      <td>268881.646296</td>\n",
       "      <td>450750.771783</td>\n",
       "    </tr>\n",
       "    <tr>\n",
       "      <th>588</th>\n",
       "      <td>259356.396876</td>\n",
       "      <td>425292.552632</td>\n",
       "    </tr>\n",
       "    <tr>\n",
       "      <th>589</th>\n",
       "      <td>259260.632137</td>\n",
       "      <td>425352.685186</td>\n",
       "    </tr>\n",
       "    <tr>\n",
       "      <th>590</th>\n",
       "      <td>261539.383041</td>\n",
       "      <td>418481.739374</td>\n",
       "    </tr>\n",
       "    <tr>\n",
       "      <th>591</th>\n",
       "      <td>249835.962845</td>\n",
       "      <td>409346.887869</td>\n",
       "    </tr>\n",
       "    <tr>\n",
       "      <th>592</th>\n",
       "      <td>262244.596982</td>\n",
       "      <td>420998.864153</td>\n",
       "    </tr>\n",
       "    <tr>\n",
       "      <th>593</th>\n",
       "      <td>255347.857554</td>\n",
       "      <td>422343.303045</td>\n",
       "    </tr>\n",
       "    <tr>\n",
       "      <th>594</th>\n",
       "      <td>247400.254812</td>\n",
       "      <td>415963.854817</td>\n",
       "    </tr>\n",
       "    <tr>\n",
       "      <th>595</th>\n",
       "      <td>250342.071538</td>\n",
       "      <td>408974.304271</td>\n",
       "    </tr>\n",
       "    <tr>\n",
       "      <th>596</th>\n",
       "      <td>250342.071538</td>\n",
       "      <td>408974.304271</td>\n",
       "    </tr>\n",
       "    <tr>\n",
       "      <th>597</th>\n",
       "      <td>NaN</td>\n",
       "      <td>NaN</td>\n",
       "    </tr>\n",
       "    <tr>\n",
       "      <th>598</th>\n",
       "      <td>256310.120230</td>\n",
       "      <td>422212.722671</td>\n",
       "    </tr>\n",
       "    <tr>\n",
       "      <th>599</th>\n",
       "      <td>205990.830819</td>\n",
       "      <td>501638.489386</td>\n",
       "    </tr>\n",
       "    <tr>\n",
       "      <th>600</th>\n",
       "      <td>206500.454560</td>\n",
       "      <td>405282.772792</td>\n",
       "    </tr>\n",
       "    <tr>\n",
       "      <th>601</th>\n",
       "      <td>205393.675539</td>\n",
       "      <td>409919.329675</td>\n",
       "    </tr>\n",
       "    <tr>\n",
       "      <th>602</th>\n",
       "      <td>206422.039169</td>\n",
       "      <td>404629.908650</td>\n",
       "    </tr>\n",
       "    <tr>\n",
       "      <th>603</th>\n",
       "      <td>204390.363830</td>\n",
       "      <td>408135.452029</td>\n",
       "    </tr>\n",
       "    <tr>\n",
       "      <th>604</th>\n",
       "      <td>203668.201390</td>\n",
       "      <td>409352.915769</td>\n",
       "    </tr>\n",
       "    <tr>\n",
       "      <th>605</th>\n",
       "      <td>205647.234261</td>\n",
       "      <td>407516.829454</td>\n",
       "    </tr>\n",
       "    <tr>\n",
       "      <th>606</th>\n",
       "      <td>205312.716759</td>\n",
       "      <td>407787.885189</td>\n",
       "    </tr>\n",
       "    <tr>\n",
       "      <th>607</th>\n",
       "      <td>203824.605519</td>\n",
       "      <td>407071.042813</td>\n",
       "    </tr>\n",
       "    <tr>\n",
       "      <th>608</th>\n",
       "      <td>205684.719366</td>\n",
       "      <td>405811.225437</td>\n",
       "    </tr>\n",
       "    <tr>\n",
       "      <th>609</th>\n",
       "      <td>205903.051804</td>\n",
       "      <td>402872.082227</td>\n",
       "    </tr>\n",
       "    <tr>\n",
       "      <th>610</th>\n",
       "      <td>203819.243652</td>\n",
       "      <td>407128.581698</td>\n",
       "    </tr>\n",
       "    <tr>\n",
       "      <th>611</th>\n",
       "      <td>206617.352508</td>\n",
       "      <td>404379.946502</td>\n",
       "    </tr>\n",
       "    <tr>\n",
       "      <th>612</th>\n",
       "      <td>206092.876571</td>\n",
       "      <td>405000.343914</td>\n",
       "    </tr>\n",
       "    <tr>\n",
       "      <th>613</th>\n",
       "      <td>205620.013677</td>\n",
       "      <td>407646.209154</td>\n",
       "    </tr>\n",
       "    <tr>\n",
       "      <th>614</th>\n",
       "      <td>206130.091432</td>\n",
       "      <td>404985.163902</td>\n",
       "    </tr>\n",
       "    <tr>\n",
       "      <th>615</th>\n",
       "      <td>206303.010386</td>\n",
       "      <td>404921.804947</td>\n",
       "    </tr>\n",
       "    <tr>\n",
       "      <th>616</th>\n",
       "      <td>206077.230126</td>\n",
       "      <td>406149.082927</td>\n",
       "    </tr>\n",
       "    <tr>\n",
       "      <th>617</th>\n",
       "      <td>203668.201390</td>\n",
       "      <td>409352.915769</td>\n",
       "    </tr>\n",
       "    <tr>\n",
       "      <th>618</th>\n",
       "      <td>207457.231897</td>\n",
       "      <td>423870.021604</td>\n",
       "    </tr>\n",
       "    <tr>\n",
       "      <th>619</th>\n",
       "      <td>218691.003959</td>\n",
       "      <td>414433.378516</td>\n",
       "    </tr>\n",
       "    <tr>\n",
       "      <th>620</th>\n",
       "      <td>218882.289743</td>\n",
       "      <td>413085.192079</td>\n",
       "    </tr>\n",
       "    <tr>\n",
       "      <th>621</th>\n",
       "      <td>205764.127149</td>\n",
       "      <td>422120.561266</td>\n",
       "    </tr>\n",
       "    <tr>\n",
       "      <th>622</th>\n",
       "      <td>218959.718975</td>\n",
       "      <td>415382.055557</td>\n",
       "    </tr>\n",
       "    <tr>\n",
       "      <th>623</th>\n",
       "      <td>208559.794102</td>\n",
       "      <td>420526.756604</td>\n",
       "    </tr>\n",
       "    <tr>\n",
       "      <th>624</th>\n",
       "      <td>209821.361938</td>\n",
       "      <td>419082.050314</td>\n",
       "    </tr>\n",
       "    <tr>\n",
       "      <th>625</th>\n",
       "      <td>209834.520522</td>\n",
       "      <td>419847.827939</td>\n",
       "    </tr>\n",
       "    <tr>\n",
       "      <th>626</th>\n",
       "      <td>213801.512589</td>\n",
       "      <td>416468.698217</td>\n",
       "    </tr>\n",
       "    <tr>\n",
       "      <th>627</th>\n",
       "      <td>213551.037239</td>\n",
       "      <td>419536.014279</td>\n",
       "    </tr>\n",
       "    <tr>\n",
       "      <th>628</th>\n",
       "      <td>206040.234437</td>\n",
       "      <td>421761.364192</td>\n",
       "    </tr>\n",
       "    <tr>\n",
       "      <th>629</th>\n",
       "      <td>210696.021462</td>\n",
       "      <td>421283.214082</td>\n",
       "    </tr>\n",
       "    <tr>\n",
       "      <th>630</th>\n",
       "      <td>211101.141543</td>\n",
       "      <td>424530.241031</td>\n",
       "    </tr>\n",
       "    <tr>\n",
       "      <th>631</th>\n",
       "      <td>206395.802501</td>\n",
       "      <td>419551.030465</td>\n",
       "    </tr>\n",
       "    <tr>\n",
       "      <th>632</th>\n",
       "      <td>NaN</td>\n",
       "      <td>NaN</td>\n",
       "    </tr>\n",
       "    <tr>\n",
       "      <th>633</th>\n",
       "      <td>213300.056355</td>\n",
       "      <td>418222.938300</td>\n",
       "    </tr>\n",
       "    <tr>\n",
       "      <th>634</th>\n",
       "      <td>213504.986529</td>\n",
       "      <td>419430.089474</td>\n",
       "    </tr>\n",
       "    <tr>\n",
       "      <th>635</th>\n",
       "      <td>213383.977794</td>\n",
       "      <td>419575.341178</td>\n",
       "    </tr>\n",
       "    <tr>\n",
       "      <th>636</th>\n",
       "      <td>217557.347661</td>\n",
       "      <td>414809.940463</td>\n",
       "    </tr>\n",
       "    <tr>\n",
       "      <th>637</th>\n",
       "      <td>205815.000000</td>\n",
       "      <td>422109.000000</td>\n",
       "    </tr>\n",
       "    <tr>\n",
       "      <th>638</th>\n",
       "      <td>218465.556587</td>\n",
       "      <td>414510.665760</td>\n",
       "    </tr>\n",
       "    <tr>\n",
       "      <th>639</th>\n",
       "      <td>211234.918979</td>\n",
       "      <td>425476.376705</td>\n",
       "    </tr>\n",
       "    <tr>\n",
       "      <th>640</th>\n",
       "      <td>217774.903307</td>\n",
       "      <td>414848.291965</td>\n",
       "    </tr>\n",
       "    <tr>\n",
       "      <th>641</th>\n",
       "      <td>206435.314316</td>\n",
       "      <td>419483.517500</td>\n",
       "    </tr>\n",
       "    <tr>\n",
       "      <th>642</th>\n",
       "      <td>213801.512589</td>\n",
       "      <td>416468.698217</td>\n",
       "    </tr>\n",
       "    <tr>\n",
       "      <th>643</th>\n",
       "      <td>236678.703352</td>\n",
       "      <td>404164.308041</td>\n",
       "    </tr>\n",
       "    <tr>\n",
       "      <th>644</th>\n",
       "      <td>232362.671145</td>\n",
       "      <td>402316.142716</td>\n",
       "    </tr>\n",
       "    <tr>\n",
       "      <th>645</th>\n",
       "      <td>209623.042281</td>\n",
       "      <td>425319.935702</td>\n",
       "    </tr>\n",
       "    <tr>\n",
       "      <th>646</th>\n",
       "      <td>NaN</td>\n",
       "      <td>NaN</td>\n",
       "    </tr>\n",
       "    <tr>\n",
       "      <th>647</th>\n",
       "      <td>213467.613017</td>\n",
       "      <td>419392.421360</td>\n",
       "    </tr>\n",
       "    <tr>\n",
       "      <th>648</th>\n",
       "      <td>NaN</td>\n",
       "      <td>NaN</td>\n",
       "    </tr>\n",
       "    <tr>\n",
       "      <th>649</th>\n",
       "      <td>209580.932766</td>\n",
       "      <td>421640.620024</td>\n",
       "    </tr>\n",
       "    <tr>\n",
       "      <th>650</th>\n",
       "      <td>NaN</td>\n",
       "      <td>NaN</td>\n",
       "    </tr>\n",
       "    <tr>\n",
       "      <th>651</th>\n",
       "      <td>219054.812243</td>\n",
       "      <td>414646.396157</td>\n",
       "    </tr>\n",
       "    <tr>\n",
       "      <th>652</th>\n",
       "      <td>209837.040688</td>\n",
       "      <td>416943.748950</td>\n",
       "    </tr>\n",
       "    <tr>\n",
       "      <th>653</th>\n",
       "      <td>221286.895040</td>\n",
       "      <td>413890.876984</td>\n",
       "    </tr>\n",
       "    <tr>\n",
       "      <th>654</th>\n",
       "      <td>218337.034774</td>\n",
       "      <td>416720.388302</td>\n",
       "    </tr>\n",
       "    <tr>\n",
       "      <th>655</th>\n",
       "      <td>212259.329790</td>\n",
       "      <td>419160.361252</td>\n",
       "    </tr>\n",
       "    <tr>\n",
       "      <th>656</th>\n",
       "      <td>216604.940793</td>\n",
       "      <td>414455.202838</td>\n",
       "    </tr>\n",
       "    <tr>\n",
       "      <th>657</th>\n",
       "      <td>213801.512589</td>\n",
       "      <td>416468.698217</td>\n",
       "    </tr>\n",
       "    <tr>\n",
       "      <th>658</th>\n",
       "      <td>NaN</td>\n",
       "      <td>NaN</td>\n",
       "    </tr>\n",
       "    <tr>\n",
       "      <th>659</th>\n",
       "      <td>218020.239570</td>\n",
       "      <td>414833.312947</td>\n",
       "    </tr>\n",
       "    <tr>\n",
       "      <th>660</th>\n",
       "      <td>209894.419009</td>\n",
       "      <td>421358.596423</td>\n",
       "    </tr>\n",
       "    <tr>\n",
       "      <th>661</th>\n",
       "      <td>208426.958515</td>\n",
       "      <td>424466.641178</td>\n",
       "    </tr>\n",
       "    <tr>\n",
       "      <th>662</th>\n",
       "      <td>206274.945017</td>\n",
       "      <td>419425.291751</td>\n",
       "    </tr>\n",
       "    <tr>\n",
       "      <th>663</th>\n",
       "      <td>207609.819953</td>\n",
       "      <td>423748.306787</td>\n",
       "    </tr>\n",
       "    <tr>\n",
       "      <th>664</th>\n",
       "      <td>206267.514896</td>\n",
       "      <td>419545.712920</td>\n",
       "    </tr>\n",
       "    <tr>\n",
       "      <th>665</th>\n",
       "      <td>206433.718453</td>\n",
       "      <td>419211.031771</td>\n",
       "    </tr>\n",
       "    <tr>\n",
       "      <th>666</th>\n",
       "      <td>217219.572731</td>\n",
       "      <td>414831.300475</td>\n",
       "    </tr>\n",
       "    <tr>\n",
       "      <th>667</th>\n",
       "      <td>214196.065010</td>\n",
       "      <td>419964.911669</td>\n",
       "    </tr>\n",
       "    <tr>\n",
       "      <th>668</th>\n",
       "      <td>209503.120869</td>\n",
       "      <td>416989.463578</td>\n",
       "    </tr>\n",
       "    <tr>\n",
       "      <th>669</th>\n",
       "      <td>218640.061505</td>\n",
       "      <td>414802.572384</td>\n",
       "    </tr>\n",
       "    <tr>\n",
       "      <th>670</th>\n",
       "      <td>213403.547348</td>\n",
       "      <td>416505.842866</td>\n",
       "    </tr>\n",
       "    <tr>\n",
       "      <th>671</th>\n",
       "      <td>206395.476008</td>\n",
       "      <td>419243.532500</td>\n",
       "    </tr>\n",
       "    <tr>\n",
       "      <th>672</th>\n",
       "      <td>197616.309579</td>\n",
       "      <td>427865.493117</td>\n",
       "    </tr>\n",
       "    <tr>\n",
       "      <th>673</th>\n",
       "      <td>195418.768560</td>\n",
       "      <td>424391.907107</td>\n",
       "    </tr>\n",
       "    <tr>\n",
       "      <th>674</th>\n",
       "      <td>198631.105307</td>\n",
       "      <td>432594.744523</td>\n",
       "    </tr>\n",
       "    <tr>\n",
       "      <th>675</th>\n",
       "      <td>197876.638173</td>\n",
       "      <td>427589.962117</td>\n",
       "    </tr>\n",
       "    <tr>\n",
       "      <th>676</th>\n",
       "      <td>197005.577675</td>\n",
       "      <td>428322.482147</td>\n",
       "    </tr>\n",
       "    <tr>\n",
       "      <th>677</th>\n",
       "      <td>198277.057979</td>\n",
       "      <td>427322.386794</td>\n",
       "    </tr>\n",
       "    <tr>\n",
       "      <th>678</th>\n",
       "      <td>NaN</td>\n",
       "      <td>NaN</td>\n",
       "    </tr>\n",
       "    <tr>\n",
       "      <th>679</th>\n",
       "      <td>196662.400552</td>\n",
       "      <td>428679.299442</td>\n",
       "    </tr>\n",
       "    <tr>\n",
       "      <th>680</th>\n",
       "      <td>206779.405225</td>\n",
       "      <td>472877.607767</td>\n",
       "    </tr>\n",
       "    <tr>\n",
       "      <th>681</th>\n",
       "      <td>203675.622807</td>\n",
       "      <td>470961.739302</td>\n",
       "    </tr>\n",
       "    <tr>\n",
       "      <th>682</th>\n",
       "      <td>208213.102260</td>\n",
       "      <td>471522.872153</td>\n",
       "    </tr>\n",
       "    <tr>\n",
       "      <th>683</th>\n",
       "      <td>204151.131006</td>\n",
       "      <td>467979.354481</td>\n",
       "    </tr>\n",
       "    <tr>\n",
       "      <th>684</th>\n",
       "      <td>207742.564855</td>\n",
       "      <td>469963.262259</td>\n",
       "    </tr>\n",
       "    <tr>\n",
       "      <th>685</th>\n",
       "      <td>NaN</td>\n",
       "      <td>NaN</td>\n",
       "    </tr>\n",
       "    <tr>\n",
       "      <th>686</th>\n",
       "      <td>203828.348601</td>\n",
       "      <td>470619.109109</td>\n",
       "    </tr>\n",
       "    <tr>\n",
       "      <th>687</th>\n",
       "      <td>203789.375479</td>\n",
       "      <td>472443.364001</td>\n",
       "    </tr>\n",
       "    <tr>\n",
       "      <th>688</th>\n",
       "      <td>204216.075275</td>\n",
       "      <td>470124.229148</td>\n",
       "    </tr>\n",
       "    <tr>\n",
       "      <th>689</th>\n",
       "      <td>206197.885372</td>\n",
       "      <td>472410.306015</td>\n",
       "    </tr>\n",
       "    <tr>\n",
       "      <th>690</th>\n",
       "      <td>203505.827265</td>\n",
       "      <td>470610.592769</td>\n",
       "    </tr>\n",
       "    <tr>\n",
       "      <th>691</th>\n",
       "      <td>206171.039178</td>\n",
       "      <td>472280.021473</td>\n",
       "    </tr>\n",
       "    <tr>\n",
       "      <th>692</th>\n",
       "      <td>208436.880903</td>\n",
       "      <td>471310.707482</td>\n",
       "    </tr>\n",
       "    <tr>\n",
       "      <th>693</th>\n",
       "      <td>204112.385803</td>\n",
       "      <td>470126.308249</td>\n",
       "    </tr>\n",
       "    <tr>\n",
       "      <th>694</th>\n",
       "      <td>208203.000000</td>\n",
       "      <td>471548.000000</td>\n",
       "    </tr>\n",
       "    <tr>\n",
       "      <th>695</th>\n",
       "      <td>206106.660652</td>\n",
       "      <td>471823.734938</td>\n",
       "    </tr>\n",
       "    <tr>\n",
       "      <th>696</th>\n",
       "      <td>207518.451623</td>\n",
       "      <td>471192.380676</td>\n",
       "    </tr>\n",
       "    <tr>\n",
       "      <th>697</th>\n",
       "      <td>205392.890484</td>\n",
       "      <td>471445.366022</td>\n",
       "    </tr>\n",
       "    <tr>\n",
       "      <th>698</th>\n",
       "      <td>203963.932614</td>\n",
       "      <td>471666.959142</td>\n",
       "    </tr>\n",
       "    <tr>\n",
       "      <th>699</th>\n",
       "      <td>204361.057549</td>\n",
       "      <td>472003.773773</td>\n",
       "    </tr>\n",
       "    <tr>\n",
       "      <th>700</th>\n",
       "      <td>208269.549777</td>\n",
       "      <td>471496.726329</td>\n",
       "    </tr>\n",
       "    <tr>\n",
       "      <th>701</th>\n",
       "      <td>204619.776128</td>\n",
       "      <td>471327.842377</td>\n",
       "    </tr>\n",
       "    <tr>\n",
       "      <th>702</th>\n",
       "      <td>201913.020181</td>\n",
       "      <td>472770.854690</td>\n",
       "    </tr>\n",
       "    <tr>\n",
       "      <th>703</th>\n",
       "      <td>208436.880903</td>\n",
       "      <td>471310.707482</td>\n",
       "    </tr>\n",
       "    <tr>\n",
       "      <th>704</th>\n",
       "      <td>206171.039178</td>\n",
       "      <td>472280.021473</td>\n",
       "    </tr>\n",
       "    <tr>\n",
       "      <th>705</th>\n",
       "      <td>203377.935049</td>\n",
       "      <td>470605.229114</td>\n",
       "    </tr>\n",
       "    <tr>\n",
       "      <th>706</th>\n",
       "      <td>203936.923256</td>\n",
       "      <td>471530.923552</td>\n",
       "    </tr>\n",
       "    <tr>\n",
       "      <th>707</th>\n",
       "      <td>204507.651299</td>\n",
       "      <td>470668.916074</td>\n",
       "    </tr>\n",
       "    <tr>\n",
       "      <th>708</th>\n",
       "      <td>203863.769924</td>\n",
       "      <td>471905.939187</td>\n",
       "    </tr>\n",
       "    <tr>\n",
       "      <th>709</th>\n",
       "      <td>203920.130444</td>\n",
       "      <td>471950.155518</td>\n",
       "    </tr>\n",
       "    <tr>\n",
       "      <th>710</th>\n",
       "      <td>206298.328386</td>\n",
       "      <td>472000.059836</td>\n",
       "    </tr>\n",
       "    <tr>\n",
       "      <th>711</th>\n",
       "      <td>206171.039178</td>\n",
       "      <td>472280.021473</td>\n",
       "    </tr>\n",
       "    <tr>\n",
       "      <th>712</th>\n",
       "      <td>203863.769924</td>\n",
       "      <td>471905.939187</td>\n",
       "    </tr>\n",
       "    <tr>\n",
       "      <th>713</th>\n",
       "      <td>204500.549671</td>\n",
       "      <td>472325.103682</td>\n",
       "    </tr>\n",
       "    <tr>\n",
       "      <th>714</th>\n",
       "      <td>201819.773688</td>\n",
       "      <td>472596.289078</td>\n",
       "    </tr>\n",
       "    <tr>\n",
       "      <th>715</th>\n",
       "      <td>204137.048953</td>\n",
       "      <td>469936.062378</td>\n",
       "    </tr>\n",
       "    <tr>\n",
       "      <th>716</th>\n",
       "      <td>208326.422008</td>\n",
       "      <td>471381.777903</td>\n",
       "    </tr>\n",
       "    <tr>\n",
       "      <th>717</th>\n",
       "      <td>203752.299307</td>\n",
       "      <td>469619.448389</td>\n",
       "    </tr>\n",
       "    <tr>\n",
       "      <th>718</th>\n",
       "      <td>238318.654753</td>\n",
       "      <td>420173.481338</td>\n",
       "    </tr>\n",
       "    <tr>\n",
       "      <th>719</th>\n",
       "      <td>239866.839779</td>\n",
       "      <td>419182.867004</td>\n",
       "    </tr>\n",
       "    <tr>\n",
       "      <th>720</th>\n",
       "      <td>234404.894092</td>\n",
       "      <td>416056.027293</td>\n",
       "    </tr>\n",
       "    <tr>\n",
       "      <th>721</th>\n",
       "      <td>242893.920265</td>\n",
       "      <td>424899.918000</td>\n",
       "    </tr>\n",
       "    <tr>\n",
       "      <th>722</th>\n",
       "      <td>255826.108943</td>\n",
       "      <td>402149.637278</td>\n",
       "    </tr>\n",
       "    <tr>\n",
       "      <th>723</th>\n",
       "      <td>233474.391713</td>\n",
       "      <td>409564.173242</td>\n",
       "    </tr>\n",
       "    <tr>\n",
       "      <th>724</th>\n",
       "      <td>239314.554699</td>\n",
       "      <td>419842.498934</td>\n",
       "    </tr>\n",
       "    <tr>\n",
       "      <th>725</th>\n",
       "      <td>237330.467934</td>\n",
       "      <td>415974.334180</td>\n",
       "    </tr>\n",
       "    <tr>\n",
       "      <th>726</th>\n",
       "      <td>237330.467934</td>\n",
       "      <td>415974.334180</td>\n",
       "    </tr>\n",
       "    <tr>\n",
       "      <th>727</th>\n",
       "      <td>254402.744249</td>\n",
       "      <td>402049.766308</td>\n",
       "    </tr>\n",
       "    <tr>\n",
       "      <th>728</th>\n",
       "      <td>239758.618399</td>\n",
       "      <td>419297.442226</td>\n",
       "    </tr>\n",
       "    <tr>\n",
       "      <th>729</th>\n",
       "      <td>238324.495117</td>\n",
       "      <td>420071.437771</td>\n",
       "    </tr>\n",
       "    <tr>\n",
       "      <th>730</th>\n",
       "      <td>239271.029232</td>\n",
       "      <td>420038.926119</td>\n",
       "    </tr>\n",
       "    <tr>\n",
       "      <th>731</th>\n",
       "      <td>233548.391427</td>\n",
       "      <td>420230.498987</td>\n",
       "    </tr>\n",
       "    <tr>\n",
       "      <th>732</th>\n",
       "      <td>180530.312494</td>\n",
       "      <td>472524.156379</td>\n",
       "    </tr>\n",
       "    <tr>\n",
       "      <th>733</th>\n",
       "      <td>186690.734441</td>\n",
       "      <td>475199.885523</td>\n",
       "    </tr>\n",
       "    <tr>\n",
       "      <th>734</th>\n",
       "      <td>176678.000000</td>\n",
       "      <td>469622.000000</td>\n",
       "    </tr>\n",
       "    <tr>\n",
       "      <th>735</th>\n",
       "      <td>180716.042471</td>\n",
       "      <td>472473.436975</td>\n",
       "    </tr>\n",
       "    <tr>\n",
       "      <th>736</th>\n",
       "      <td>179436.236488</td>\n",
       "      <td>473245.145106</td>\n",
       "    </tr>\n",
       "    <tr>\n",
       "      <th>737</th>\n",
       "      <td>189387.531398</td>\n",
       "      <td>493279.949622</td>\n",
       "    </tr>\n",
       "    <tr>\n",
       "      <th>738</th>\n",
       "      <td>180656.661296</td>\n",
       "      <td>484619.970578</td>\n",
       "    </tr>\n",
       "    <tr>\n",
       "      <th>739</th>\n",
       "      <td>180860.844170</td>\n",
       "      <td>483540.922454</td>\n",
       "    </tr>\n",
       "    <tr>\n",
       "      <th>740</th>\n",
       "      <td>180080.453984</td>\n",
       "      <td>472781.271425</td>\n",
       "    </tr>\n",
       "    <tr>\n",
       "      <th>741</th>\n",
       "      <td>174354.615360</td>\n",
       "      <td>476306.805212</td>\n",
       "    </tr>\n",
       "    <tr>\n",
       "      <th>742</th>\n",
       "      <td>178969.267758</td>\n",
       "      <td>469628.383363</td>\n",
       "    </tr>\n",
       "    <tr>\n",
       "      <th>743</th>\n",
       "      <td>179105.025388</td>\n",
       "      <td>469670.991209</td>\n",
       "    </tr>\n",
       "    <tr>\n",
       "      <th>744</th>\n",
       "      <td>178654.760243</td>\n",
       "      <td>467065.374230</td>\n",
       "    </tr>\n",
       "    <tr>\n",
       "      <th>745</th>\n",
       "      <td>179060.792539</td>\n",
       "      <td>469563.514043</td>\n",
       "    </tr>\n",
       "    <tr>\n",
       "      <th>746</th>\n",
       "      <td>181154.634345</td>\n",
       "      <td>484168.872519</td>\n",
       "    </tr>\n",
       "    <tr>\n",
       "      <th>747</th>\n",
       "      <td>178969.267758</td>\n",
       "      <td>469628.383363</td>\n",
       "    </tr>\n",
       "    <tr>\n",
       "      <th>748</th>\n",
       "      <td>180258.460458</td>\n",
       "      <td>473250.342349</td>\n",
       "    </tr>\n",
       "    <tr>\n",
       "      <th>749</th>\n",
       "      <td>178789.285831</td>\n",
       "      <td>468219.267968</td>\n",
       "    </tr>\n",
       "    <tr>\n",
       "      <th>750</th>\n",
       "      <td>175895.679405</td>\n",
       "      <td>474576.463091</td>\n",
       "    </tr>\n",
       "    <tr>\n",
       "      <th>751</th>\n",
       "      <td>182726.863345</td>\n",
       "      <td>485983.032451</td>\n",
       "    </tr>\n",
       "    <tr>\n",
       "      <th>752</th>\n",
       "      <td>188706.422860</td>\n",
       "      <td>482972.281612</td>\n",
       "    </tr>\n",
       "    <tr>\n",
       "      <th>753</th>\n",
       "      <td>NaN</td>\n",
       "      <td>NaN</td>\n",
       "    </tr>\n",
       "    <tr>\n",
       "      <th>754</th>\n",
       "      <td>NaN</td>\n",
       "      <td>NaN</td>\n",
       "    </tr>\n",
       "    <tr>\n",
       "      <th>755</th>\n",
       "      <td>178785.750136</td>\n",
       "      <td>468173.178078</td>\n",
       "    </tr>\n",
       "    <tr>\n",
       "      <th>756</th>\n",
       "      <td>178941.187198</td>\n",
       "      <td>469151.542210</td>\n",
       "    </tr>\n",
       "    <tr>\n",
       "      <th>757</th>\n",
       "      <td>189418.801885</td>\n",
       "      <td>485470.192420</td>\n",
       "    </tr>\n",
       "    <tr>\n",
       "      <th>758</th>\n",
       "      <td>176648.742550</td>\n",
       "      <td>469588.400880</td>\n",
       "    </tr>\n",
       "    <tr>\n",
       "      <th>759</th>\n",
       "      <td>172315.683179</td>\n",
       "      <td>477947.119620</td>\n",
       "    </tr>\n",
       "    <tr>\n",
       "      <th>760</th>\n",
       "      <td>172336.842012</td>\n",
       "      <td>477866.762717</td>\n",
       "    </tr>\n",
       "    <tr>\n",
       "      <th>761</th>\n",
       "      <td>177222.767632</td>\n",
       "      <td>472521.910379</td>\n",
       "    </tr>\n",
       "    <tr>\n",
       "      <th>762</th>\n",
       "      <td>178901.538525</td>\n",
       "      <td>469317.379396</td>\n",
       "    </tr>\n",
       "    <tr>\n",
       "      <th>763</th>\n",
       "      <td>176525.990122</td>\n",
       "      <td>469676.064803</td>\n",
       "    </tr>\n",
       "    <tr>\n",
       "      <th>764</th>\n",
       "      <td>180449.172307</td>\n",
       "      <td>468449.788962</td>\n",
       "    </tr>\n",
       "    <tr>\n",
       "      <th>765</th>\n",
       "      <td>180080.245529</td>\n",
       "      <td>472857.162114</td>\n",
       "    </tr>\n",
       "    <tr>\n",
       "      <th>766</th>\n",
       "      <td>174450.361886</td>\n",
       "      <td>469192.593645</td>\n",
       "    </tr>\n",
       "    <tr>\n",
       "      <th>767</th>\n",
       "      <td>177437.662520</td>\n",
       "      <td>467771.910454</td>\n",
       "    </tr>\n",
       "    <tr>\n",
       "      <th>768</th>\n",
       "      <td>179814.207224</td>\n",
       "      <td>472677.320170</td>\n",
       "    </tr>\n",
       "    <tr>\n",
       "      <th>769</th>\n",
       "      <td>175349.870473</td>\n",
       "      <td>474640.294230</td>\n",
       "    </tr>\n",
       "    <tr>\n",
       "      <th>770</th>\n",
       "      <td>179349.516188</td>\n",
       "      <td>472107.243860</td>\n",
       "    </tr>\n",
       "    <tr>\n",
       "      <th>771</th>\n",
       "      <td>181360.159247</td>\n",
       "      <td>474531.325200</td>\n",
       "    </tr>\n",
       "    <tr>\n",
       "      <th>772</th>\n",
       "      <td>181481.735698</td>\n",
       "      <td>482839.234221</td>\n",
       "    </tr>\n",
       "    <tr>\n",
       "      <th>773</th>\n",
       "      <td>208612.888973</td>\n",
       "      <td>394666.592903</td>\n",
       "    </tr>\n",
       "    <tr>\n",
       "      <th>774</th>\n",
       "      <td>210176.777396</td>\n",
       "      <td>388594.941237</td>\n",
       "    </tr>\n",
       "    <tr>\n",
       "      <th>775</th>\n",
       "      <td>205620.437670</td>\n",
       "      <td>396425.500711</td>\n",
       "    </tr>\n",
       "    <tr>\n",
       "      <th>776</th>\n",
       "      <td>206303.888344</td>\n",
       "      <td>398519.139387</td>\n",
       "    </tr>\n",
       "    <tr>\n",
       "      <th>777</th>\n",
       "      <td>193839.004853</td>\n",
       "      <td>387391.999010</td>\n",
       "    </tr>\n",
       "    <tr>\n",
       "      <th>778</th>\n",
       "      <td>205477.292590</td>\n",
       "      <td>397556.726064</td>\n",
       "    </tr>\n",
       "    <tr>\n",
       "      <th>779</th>\n",
       "      <td>193491.022224</td>\n",
       "      <td>386957.435301</td>\n",
       "    </tr>\n",
       "    <tr>\n",
       "      <th>780</th>\n",
       "      <td>210139.748022</td>\n",
       "      <td>388891.177114</td>\n",
       "    </tr>\n",
       "    <tr>\n",
       "      <th>781</th>\n",
       "      <td>208384.874728</td>\n",
       "      <td>388006.270431</td>\n",
       "    </tr>\n",
       "    <tr>\n",
       "      <th>782</th>\n",
       "      <td>NaN</td>\n",
       "      <td>NaN</td>\n",
       "    </tr>\n",
       "    <tr>\n",
       "      <th>783</th>\n",
       "      <td>204999.521114</td>\n",
       "      <td>394061.034148</td>\n",
       "    </tr>\n",
       "    <tr>\n",
       "      <th>784</th>\n",
       "      <td>207851.080498</td>\n",
       "      <td>387947.419476</td>\n",
       "    </tr>\n",
       "    <tr>\n",
       "      <th>785</th>\n",
       "      <td>204113.022193</td>\n",
       "      <td>390388.353544</td>\n",
       "    </tr>\n",
       "    <tr>\n",
       "      <th>786</th>\n",
       "      <td>206531.000000</td>\n",
       "      <td>389650.000000</td>\n",
       "    </tr>\n",
       "    <tr>\n",
       "      <th>787</th>\n",
       "      <td>209833.234975</td>\n",
       "      <td>387820.334404</td>\n",
       "    </tr>\n",
       "    <tr>\n",
       "      <th>788</th>\n",
       "      <td>205634.785036</td>\n",
       "      <td>398519.179289</td>\n",
       "    </tr>\n",
       "    <tr>\n",
       "      <th>789</th>\n",
       "      <td>195516.000000</td>\n",
       "      <td>388449.000000</td>\n",
       "    </tr>\n",
       "    <tr>\n",
       "      <th>790</th>\n",
       "      <td>196258.979135</td>\n",
       "      <td>389092.766143</td>\n",
       "    </tr>\n",
       "    <tr>\n",
       "      <th>791</th>\n",
       "      <td>210658.814017</td>\n",
       "      <td>387673.399902</td>\n",
       "    </tr>\n",
       "    <tr>\n",
       "      <th>792</th>\n",
       "      <td>209381.442674</td>\n",
       "      <td>387646.071544</td>\n",
       "    </tr>\n",
       "    <tr>\n",
       "      <th>793</th>\n",
       "      <td>204973.832926</td>\n",
       "      <td>396042.351250</td>\n",
       "    </tr>\n",
       "    <tr>\n",
       "      <th>794</th>\n",
       "      <td>NaN</td>\n",
       "      <td>NaN</td>\n",
       "    </tr>\n",
       "    <tr>\n",
       "      <th>795</th>\n",
       "      <td>210109.777897</td>\n",
       "      <td>387632.108078</td>\n",
       "    </tr>\n",
       "    <tr>\n",
       "      <th>796</th>\n",
       "      <td>210129.033167</td>\n",
       "      <td>388987.006632</td>\n",
       "    </tr>\n",
       "    <tr>\n",
       "      <th>797</th>\n",
       "      <td>NaN</td>\n",
       "      <td>NaN</td>\n",
       "    </tr>\n",
       "    <tr>\n",
       "      <th>798</th>\n",
       "      <td>210041.453519</td>\n",
       "      <td>388587.585427</td>\n",
       "    </tr>\n",
       "    <tr>\n",
       "      <th>799</th>\n",
       "      <td>209892.577195</td>\n",
       "      <td>388077.848725</td>\n",
       "    </tr>\n",
       "    <tr>\n",
       "      <th>800</th>\n",
       "      <td>192449.827017</td>\n",
       "      <td>390891.495937</td>\n",
       "    </tr>\n",
       "    <tr>\n",
       "      <th>801</th>\n",
       "      <td>208575.617433</td>\n",
       "      <td>387899.027118</td>\n",
       "    </tr>\n",
       "    <tr>\n",
       "      <th>802</th>\n",
       "      <td>217933.684679</td>\n",
       "      <td>488406.346678</td>\n",
       "    </tr>\n",
       "    <tr>\n",
       "      <th>803</th>\n",
       "      <td>217358.029401</td>\n",
       "      <td>489073.146281</td>\n",
       "    </tr>\n",
       "    <tr>\n",
       "      <th>804</th>\n",
       "      <td>227290.758467</td>\n",
       "      <td>490741.427889</td>\n",
       "    </tr>\n",
       "    <tr>\n",
       "      <th>805</th>\n",
       "      <td>212299.917882</td>\n",
       "      <td>480881.893845</td>\n",
       "    </tr>\n",
       "    <tr>\n",
       "      <th>806</th>\n",
       "      <td>212952.818008</td>\n",
       "      <td>480548.964458</td>\n",
       "    </tr>\n",
       "    <tr>\n",
       "      <th>807</th>\n",
       "      <td>213709.581086</td>\n",
       "      <td>474346.934508</td>\n",
       "    </tr>\n",
       "    <tr>\n",
       "      <th>808</th>\n",
       "      <td>221831.876221</td>\n",
       "      <td>476921.559944</td>\n",
       "    </tr>\n",
       "    <tr>\n",
       "      <th>809</th>\n",
       "      <td>216410.442105</td>\n",
       "      <td>490809.762858</td>\n",
       "    </tr>\n",
       "    <tr>\n",
       "      <th>810</th>\n",
       "      <td>219811.731491</td>\n",
       "      <td>492483.354150</td>\n",
       "    </tr>\n",
       "    <tr>\n",
       "      <th>811</th>\n",
       "      <td>227047.312554</td>\n",
       "      <td>490045.261178</td>\n",
       "    </tr>\n",
       "    <tr>\n",
       "      <th>812</th>\n",
       "      <td>217622.004233</td>\n",
       "      <td>451211.068299</td>\n",
       "    </tr>\n",
       "    <tr>\n",
       "      <th>813</th>\n",
       "      <td>NaN</td>\n",
       "      <td>NaN</td>\n",
       "    </tr>\n",
       "    <tr>\n",
       "      <th>814</th>\n",
       "      <td>218436.268743</td>\n",
       "      <td>448307.121707</td>\n",
       "    </tr>\n",
       "    <tr>\n",
       "      <th>815</th>\n",
       "      <td>218257.548968</td>\n",
       "      <td>448298.684620</td>\n",
       "    </tr>\n",
       "    <tr>\n",
       "      <th>816</th>\n",
       "      <td>NaN</td>\n",
       "      <td>NaN</td>\n",
       "    </tr>\n",
       "    <tr>\n",
       "      <th>817</th>\n",
       "      <td>217411.043466</td>\n",
       "      <td>451563.892509</td>\n",
       "    </tr>\n",
       "    <tr>\n",
       "      <th>818</th>\n",
       "      <td>NaN</td>\n",
       "      <td>NaN</td>\n",
       "    </tr>\n",
       "    <tr>\n",
       "      <th>819</th>\n",
       "      <td>NaN</td>\n",
       "      <td>NaN</td>\n",
       "    </tr>\n",
       "    <tr>\n",
       "      <th>820</th>\n",
       "      <td>216761.941801</td>\n",
       "      <td>451297.294003</td>\n",
       "    </tr>\n",
       "    <tr>\n",
       "      <th>821</th>\n",
       "      <td>216984.005356</td>\n",
       "      <td>451047.219851</td>\n",
       "    </tr>\n",
       "    <tr>\n",
       "      <th>822</th>\n",
       "      <td>NaN</td>\n",
       "      <td>NaN</td>\n",
       "    </tr>\n",
       "    <tr>\n",
       "      <th>823</th>\n",
       "      <td>218375.838218</td>\n",
       "      <td>448809.412661</td>\n",
       "    </tr>\n",
       "    <tr>\n",
       "      <th>824</th>\n",
       "      <td>217445.744843</td>\n",
       "      <td>448625.610287</td>\n",
       "    </tr>\n",
       "    <tr>\n",
       "      <th>825</th>\n",
       "      <td>218146.328791</td>\n",
       "      <td>448715.147115</td>\n",
       "    </tr>\n",
       "    <tr>\n",
       "      <th>826</th>\n",
       "      <td>220051.697460</td>\n",
       "      <td>445553.645134</td>\n",
       "    </tr>\n",
       "    <tr>\n",
       "      <th>827</th>\n",
       "      <td>218015.634995</td>\n",
       "      <td>448487.440965</td>\n",
       "    </tr>\n",
       "    <tr>\n",
       "      <th>828</th>\n",
       "      <td>181841.665575</td>\n",
       "      <td>401413.988181</td>\n",
       "    </tr>\n",
       "    <tr>\n",
       "      <th>829</th>\n",
       "      <td>195405.074160</td>\n",
       "      <td>413177.638762</td>\n",
       "    </tr>\n",
       "    <tr>\n",
       "      <th>830</th>\n",
       "      <td>NaN</td>\n",
       "      <td>NaN</td>\n",
       "    </tr>\n",
       "    <tr>\n",
       "      <th>831</th>\n",
       "      <td>203153.456259</td>\n",
       "      <td>411683.613907</td>\n",
       "    </tr>\n",
       "    <tr>\n",
       "      <th>832</th>\n",
       "      <td>209754.000000</td>\n",
       "      <td>411762.000000</td>\n",
       "    </tr>\n",
       "    <tr>\n",
       "      <th>833</th>\n",
       "      <td>206460.274038</td>\n",
       "      <td>410252.351111</td>\n",
       "    </tr>\n",
       "    <tr>\n",
       "      <th>834</th>\n",
       "      <td>NaN</td>\n",
       "      <td>NaN</td>\n",
       "    </tr>\n",
       "    <tr>\n",
       "      <th>835</th>\n",
       "      <td>208609.496428</td>\n",
       "      <td>410699.575579</td>\n",
       "    </tr>\n",
       "    <tr>\n",
       "      <th>836</th>\n",
       "      <td>205499.000000</td>\n",
       "      <td>411856.000000</td>\n",
       "    </tr>\n",
       "    <tr>\n",
       "      <th>837</th>\n",
       "      <td>205153.119397</td>\n",
       "      <td>412822.995562</td>\n",
       "    </tr>\n",
       "    <tr>\n",
       "      <th>838</th>\n",
       "      <td>210936.516258</td>\n",
       "      <td>408917.716563</td>\n",
       "    </tr>\n",
       "    <tr>\n",
       "      <th>839</th>\n",
       "      <td>206357.927753</td>\n",
       "      <td>411495.085421</td>\n",
       "    </tr>\n",
       "    <tr>\n",
       "      <th>840</th>\n",
       "      <td>180711.451797</td>\n",
       "      <td>411095.776401</td>\n",
       "    </tr>\n",
       "    <tr>\n",
       "      <th>841</th>\n",
       "      <td>203653.839340</td>\n",
       "      <td>412527.345816</td>\n",
       "    </tr>\n",
       "    <tr>\n",
       "      <th>842</th>\n",
       "      <td>NaN</td>\n",
       "      <td>NaN</td>\n",
       "    </tr>\n",
       "    <tr>\n",
       "      <th>843</th>\n",
       "      <td>202893.721053</td>\n",
       "      <td>411863.656170</td>\n",
       "    </tr>\n",
       "    <tr>\n",
       "      <th>844</th>\n",
       "      <td>206351.000000</td>\n",
       "      <td>411448.000000</td>\n",
       "    </tr>\n",
       "    <tr>\n",
       "      <th>845</th>\n",
       "      <td>NaN</td>\n",
       "      <td>NaN</td>\n",
       "    </tr>\n",
       "    <tr>\n",
       "      <th>846</th>\n",
       "      <td>192172.569947</td>\n",
       "      <td>401434.559054</td>\n",
       "    </tr>\n",
       "    <tr>\n",
       "      <th>847</th>\n",
       "      <td>188726.832029</td>\n",
       "      <td>401444.141884</td>\n",
       "    </tr>\n",
       "    <tr>\n",
       "      <th>848</th>\n",
       "      <td>196089.651822</td>\n",
       "      <td>398680.716741</td>\n",
       "    </tr>\n",
       "    <tr>\n",
       "      <th>849</th>\n",
       "      <td>169849.787525</td>\n",
       "      <td>407968.237060</td>\n",
       "    </tr>\n",
       "    <tr>\n",
       "      <th>850</th>\n",
       "      <td>203756.781864</td>\n",
       "      <td>412566.291076</td>\n",
       "    </tr>\n",
       "    <tr>\n",
       "      <th>851</th>\n",
       "      <td>200668.094479</td>\n",
       "      <td>412002.943341</td>\n",
       "    </tr>\n",
       "    <tr>\n",
       "      <th>852</th>\n",
       "      <td>192021.935432</td>\n",
       "      <td>401449.210279</td>\n",
       "    </tr>\n",
       "    <tr>\n",
       "      <th>853</th>\n",
       "      <td>192009.858321</td>\n",
       "      <td>403288.532956</td>\n",
       "    </tr>\n",
       "    <tr>\n",
       "      <th>854</th>\n",
       "      <td>181968.158459</td>\n",
       "      <td>393435.044662</td>\n",
       "    </tr>\n",
       "    <tr>\n",
       "      <th>855</th>\n",
       "      <td>206894.690660</td>\n",
       "      <td>412755.867175</td>\n",
       "    </tr>\n",
       "    <tr>\n",
       "      <th>856</th>\n",
       "      <td>180603.130562</td>\n",
       "      <td>411414.554343</td>\n",
       "    </tr>\n",
       "    <tr>\n",
       "      <th>857</th>\n",
       "      <td>203228.550855</td>\n",
       "      <td>412453.472434</td>\n",
       "    </tr>\n",
       "    <tr>\n",
       "      <th>858</th>\n",
       "      <td>205579.549461</td>\n",
       "      <td>412205.806739</td>\n",
       "    </tr>\n",
       "    <tr>\n",
       "      <th>859</th>\n",
       "      <td>210969.342913</td>\n",
       "      <td>408985.606434</td>\n",
       "    </tr>\n",
       "    <tr>\n",
       "      <th>860</th>\n",
       "      <td>207031.190216</td>\n",
       "      <td>412755.476382</td>\n",
       "    </tr>\n",
       "    <tr>\n",
       "      <th>861</th>\n",
       "      <td>NaN</td>\n",
       "      <td>NaN</td>\n",
       "    </tr>\n",
       "    <tr>\n",
       "      <th>862</th>\n",
       "      <td>NaN</td>\n",
       "      <td>NaN</td>\n",
       "    </tr>\n",
       "    <tr>\n",
       "      <th>863</th>\n",
       "      <td>NaN</td>\n",
       "      <td>NaN</td>\n",
       "    </tr>\n",
       "    <tr>\n",
       "      <th>864</th>\n",
       "      <td>192012.658169</td>\n",
       "      <td>401627.876324</td>\n",
       "    </tr>\n",
       "    <tr>\n",
       "      <th>865</th>\n",
       "      <td>193670.000000</td>\n",
       "      <td>416393.000000</td>\n",
       "    </tr>\n",
       "    <tr>\n",
       "      <th>866</th>\n",
       "      <td>203321.788220</td>\n",
       "      <td>412673.977618</td>\n",
       "    </tr>\n",
       "  </tbody>\n",
       "</table>\n",
       "</div>"
      ],
      "text/plain": [
       "              X좌표값           Y좌표값\n",
       "0    235567.393608  476288.241369\n",
       "1    226637.772425  482136.636251\n",
       "2    246280.626039  471760.135363\n",
       "3    230939.074151  487282.184524\n",
       "4    245936.683546  465597.775884\n",
       "5    245936.683546  465597.775884\n",
       "6    236548.369056  470609.126516\n",
       "7    234131.986405  462435.481120\n",
       "8    185401.820034  457828.523341\n",
       "9    177584.406373  463908.611753\n",
       "10   184918.581571  458331.270776\n",
       "11   187099.498978  467673.962890\n",
       "12   188978.929412  460603.564479\n",
       "13   190848.733197  468501.181070\n",
       "14   180831.553615  462376.333512\n",
       "15   181645.332559  460377.762336\n",
       "16   180964.807342  460286.950892\n",
       "17   185821.105136  462373.729435\n",
       "18   181571.824672  467736.668806\n",
       "19   185097.000000  458696.000000\n",
       "20   182925.000000  463830.000000\n",
       "21   182925.000000  463830.000000\n",
       "22   182399.731012  462783.592736\n",
       "23   180337.931432  463424.391194\n",
       "24   178407.000000  466341.000000\n",
       "25   184828.924720  458367.087618\n",
       "26   180106.648434  464751.777914\n",
       "27   185598.119755  461675.606251\n",
       "28             NaN            NaN\n",
       "29             NaN            NaN\n",
       "30   179034.127143  465539.511744\n",
       "31   176934.000000  466062.000000\n",
       "32   178721.933568  463235.331647\n",
       "33   183904.411564  457711.459282\n",
       "34   185212.000000  459057.000000\n",
       "35   188816.104729  460987.264412\n",
       "36   180411.090858  461078.730007\n",
       "37   180263.797565  461302.073464\n",
       "38   181436.837912  462478.431600\n",
       "39   178947.014184  463157.053722\n",
       "40   180315.938752  466522.389901\n",
       "41   185406.060146  461552.437998\n",
       "42   188816.104729  460987.264412\n",
       "43   181020.876492  460231.202088\n",
       "44   185227.474593  466463.866220\n",
       "45   185021.779886  459990.458660\n",
       "46   180597.587644  464407.466890\n",
       "47   180456.380545  464648.311062\n",
       "48   180159.813475  461339.112684\n",
       "49   187995.059840  468970.988775\n",
       "50   180527.147001  464407.842061\n",
       "51   185400.000000  457901.000000\n",
       "52   184404.779947  458209.199522\n",
       "53   180731.148172  460645.088503\n",
       "54   177925.649989  463563.560316\n",
       "55   177541.856714  463796.649469\n",
       "56   183019.134341  463895.951926\n",
       "57   177714.776920  463793.080977\n",
       "58             NaN            NaN\n",
       "59   180908.362506  460286.346938\n",
       "60   181144.841327  463644.897004\n",
       "61   181058.839660  460195.973514\n",
       "62   180539.609006  460835.850681\n",
       "63   179253.059460  462400.381636\n",
       "64   177518.296042  466429.646273\n",
       "65   179415.194723  462371.641552\n",
       "66   180578.974779  464483.751988\n",
       "67             NaN            NaN\n",
       "68   182125.526786  463814.613244\n",
       "69   179443.811344  461950.576063\n",
       "70   182525.537334  462213.288154\n",
       "71   180616.776917  464481.764844\n",
       "72   179750.585513  462332.123077\n",
       "73   178747.080217  463221.556765\n",
       "74   181518.294815  460347.420520\n",
       "75   180616.776917  464481.764844\n",
       "76   179633.315549  462306.038543\n",
       "77   184983.790262  458829.949981\n",
       "78   186045.736284  457462.909086\n",
       "79   178627.168030  463154.187308\n",
       "80   199182.982380  436115.366546\n",
       "81             NaN            NaN\n",
       "82   188049.392014  441552.685246\n",
       "83   188257.298588  441509.566838\n",
       "84   189489.952346  438456.260629\n",
       "85   188582.482844  441255.961126\n",
       "86   189281.585643  436877.821297\n",
       "87   188447.475794  441332.678665\n",
       "88   189489.952346  438456.260629\n",
       "89   189743.000000  438442.000000\n",
       "90   186868.216435  441373.497311\n",
       "91             NaN            NaN\n",
       "92   187190.992630  442554.972984\n",
       "93   214407.685521  430298.572228\n",
       "94   222615.000000  434174.000000\n",
       "95   219832.481817  434399.323565\n",
       "96   222966.376547  434212.615122\n",
       "97   225436.751900  435211.373814\n",
       "98   225436.751900  435211.373814\n",
       "99   227470.225280  429523.219087\n",
       "100  222966.098121  434349.257902\n",
       "101  229720.068750  424848.515015\n",
       "102  229266.736259  423998.780027\n",
       "103  212615.126711  455027.605602\n",
       "104  211773.189810  455866.013570\n",
       "105  210408.000000  456465.000000\n",
       "106  212640.806782  455006.350387\n",
       "107  211665.749877  455226.134646\n",
       "108  212620.537277  455100.723389\n",
       "109  212223.900950  455305.290946\n",
       "110  212117.612552  456344.486298\n",
       "111  212247.473639  455884.948018\n",
       "112  211942.087991  455214.178161\n",
       "113  212315.958272  455871.852755\n",
       "114  211737.544819  455974.704801\n",
       "115  211514.534294  455348.360135\n",
       "116  211413.864689  455194.299439\n",
       "117  211626.577524  455439.113117\n",
       "118  212870.429257  454794.726364\n",
       "119  194722.081426  427175.880144\n",
       "120  194972.233046  427624.022337\n",
       "121  193366.480747  429183.572277\n",
       "122  194179.862184  426044.235290\n",
       "123  195225.889347  428342.265719\n",
       "124  193830.584165  429069.220918\n",
       "125  194132.153840  428466.708579\n",
       "126  194048.876802  428598.071689\n",
       "127  194048.876802  428598.071689\n",
       "128  193678.702974  429272.847721\n",
       "129  195183.703613  428772.639773\n",
       "130  195453.352938  426854.675922\n",
       "131  195265.287882  428515.923530\n",
       "132  175023.331034  457434.644580\n",
       "133  166979.003898  460200.559820\n",
       "134            NaN            NaN\n",
       "135  174379.633265  458168.309392\n",
       "136  164662.259354  465307.240637\n",
       "137  175651.041933  456499.273679\n",
       "138            NaN            NaN\n",
       "139  166979.003898  460200.559820\n",
       "140  166677.313332  460125.311668\n",
       "141  173405.734212  457832.784820\n",
       "142  175300.492202  455067.898518\n",
       "143  161890.445583  466534.361232\n",
       "144  174570.253596  457774.516612\n",
       "145  173814.288056  458701.033199\n",
       "146  170480.567873  460313.207516\n",
       "147  175323.037197  457431.348893\n",
       "148            NaN            NaN\n",
       "149  165408.796993  464676.970997\n",
       "150  166708.693536  460397.294028\n",
       "151  166825.062110  460425.235856\n",
       "152  176256.635923  456688.330294\n",
       "153  167067.214641  461369.235098\n",
       "154  171360.000000  462495.000000\n",
       "155  163514.446318  465925.277841\n",
       "156  174399.775787  459029.281923\n",
       "157  169927.575869  459889.796175\n",
       "158  167997.294250  468307.968265\n",
       "159  175653.347057  456527.505652\n",
       "160  166639.607209  460116.052637\n",
       "161  171825.000000  460434.000000\n",
       "162  172058.488505  461511.281449\n",
       "163  164829.619839  465327.769810\n",
       "164  174260.305381  459730.428566\n",
       "165  176507.544465  456566.253025\n",
       "166  227185.000000  470724.000000\n",
       "167  220953.000000  460902.000000\n",
       "168  217945.000000  464511.000000\n",
       "169  215564.751414  461840.452566\n",
       "170            NaN            NaN\n",
       "171  217690.503874  466194.029532\n",
       "172  220667.794203  460363.343580\n",
       "173  216475.662619  467663.540139\n",
       "174  218212.000000  459159.000000\n",
       "175  216336.473260  467638.784627\n",
       "176  217803.603552  468707.524824\n",
       "177            NaN            NaN\n",
       "178  226853.516674  461164.588969\n",
       "179  226208.637111  468860.552146\n",
       "180  211009.086252  460510.854983\n",
       "181  218504.000000  468770.000000\n",
       "182  226072.661664  461191.967142\n",
       "183  217508.861774  467017.805248\n",
       "184  227233.000000  470791.000000\n",
       "185  228150.000000  467555.000000\n",
       "186  220652.124876  460505.017372\n",
       "187            NaN            NaN\n",
       "188  218043.237679  459036.842539\n",
       "189  225544.000000  474353.000000\n",
       "190            NaN            NaN\n",
       "191  212376.961864  460719.301940\n",
       "192  220727.007887  460412.806743\n",
       "193  226793.076094  461115.825968\n",
       "194  218007.000000  471536.000000\n",
       "195  209916.250321  460844.848418\n",
       "196  216336.473260  467638.784627\n",
       "197  227233.000000  470791.000000\n",
       "198  212723.184785  460962.385147\n",
       "199  220931.835668  460883.542729\n",
       "200  221365.019316  461326.761557\n",
       "201  221515.893657  461378.526544\n",
       "202  224109.785776  461515.127695\n",
       "203  223041.457433  461194.289843\n",
       "204  215776.779813  468132.821840\n",
       "205  221512.003353  461332.015198\n",
       "206  216840.971373  469322.672861\n",
       "207  211904.105255  488709.805503\n",
       "208  207195.352071  488039.164895\n",
       "209            NaN            NaN\n",
       "210  211954.319071  488639.446668\n",
       "211  211954.319071  488639.446668\n",
       "212  205516.143310  488816.086180\n",
       "213  204419.042992  489350.835081\n",
       "214  208935.493520  486709.896998\n",
       "215  207295.036780  488165.797671\n",
       "216  203098.306424  489520.925273\n",
       "217  180811.000000  443354.000000\n",
       "218  179493.530484  441746.937931\n",
       "219  181569.982244  442781.596434\n",
       "220  183624.505933  442516.272487\n",
       "221  180822.659878  442917.328507\n",
       "222  181014.074027  442573.901990\n",
       "223  180952.909495  443563.064494\n",
       "224  181676.000000  446453.000000\n",
       "225  178988.444887  443422.453875\n",
       "226  180124.255783  444818.556915\n",
       "227  181869.201540  441915.116652\n",
       "228  178121.000000  444806.000000\n",
       "229  180737.189452  442766.411714\n",
       "230  179139.768873  442400.970077\n",
       "231  178017.000000  444637.000000\n",
       "232  179694.181518  445874.258698\n",
       "233  180480.734565  442665.817559\n",
       "234  178766.292772  444599.470847\n",
       "235  182707.448234  446692.919178\n",
       "236  182158.972637  440442.687278\n",
       "237  180073.000000  442414.000000\n",
       "238  180844.462863  443383.072380\n",
       "239  183536.266454  442034.591014\n",
       "240  179037.117773  444554.090879\n",
       "241  178504.051429  444903.472253\n",
       "242  180948.530540  445100.048965\n",
       "243  181174.565363  442544.254512\n",
       "244  178522.441274  444945.754661\n",
       "245  181473.939105  442109.928917\n",
       "246  183436.883007  442773.329828\n",
       "247  182964.000000  445216.000000\n",
       "248  180344.000000  444589.000000\n",
       "249  182709.293811  446532.295781\n",
       "250  177957.331026  443053.487729\n",
       "251  180920.186112  443445.971156\n",
       "252  182648.968769  447235.875017\n",
       "253  181869.201540  441915.116652\n",
       "254  181053.406136  444153.737095\n",
       "255  180790.733731  442675.194757\n",
       "256  181150.875221  446398.116619\n",
       "257  177715.885179  444717.054012\n",
       "258  181632.549751  442226.312647\n",
       "259  177965.748999  444810.505365\n",
       "260  178936.000000  444135.000000\n",
       "261  180132.698061  444778.404724\n",
       "262  180009.767079  445604.402837\n",
       "263  178434.715994  442398.198238\n",
       "264  180796.803308  443095.254194\n",
       "265  181320.059857  446432.432462\n",
       "266  181144.425532  444515.890421\n",
       "267  182644.228346  447285.311711\n",
       "268  179542.714495  445600.706221\n",
       "269  179365.188971  442367.129851\n",
       "270  180136.000000  443812.000000\n",
       "271  180112.728829  445964.102347\n",
       "272  182662.000000  446403.000000\n",
       "273  178156.560270  444798.494036\n",
       "274  180973.000000  443981.000000\n",
       "275  180782.254687  443328.576203\n",
       "276  178766.292772  444599.470847\n",
       "277  180955.577109  445072.207859\n",
       "278  179572.165000  444434.015000\n",
       "279  180890.000000  443651.000000\n",
       "280  180799.000000  442365.000000\n",
       "281  182191.423237  446219.555050\n",
       "282  180629.670905  444574.657748\n",
       "283  182824.797312  445480.168556\n",
       "284  179627.111125  446196.428233\n",
       "285  180922.912649  446336.020351\n",
       "286  179809.276007  442340.728592\n",
       "287  211269.219079  429474.847983\n",
       "288  211295.288709  436367.591449\n",
       "289  212590.000000  441303.000000\n",
       "290  211473.012005  437639.122893\n",
       "291            NaN            NaN\n",
       "292            NaN            NaN\n",
       "293  210700.754935  431789.637415\n",
       "294  209468.677545  429517.658834\n",
       "295  211162.564998  435133.751763\n",
       "296  214318.566423  438127.583113\n",
       "297  211158.287507  434251.310564\n",
       "298            NaN            NaN\n",
       "299  208654.910956  428191.631589\n",
       "300  209347.110374  429108.052264\n",
       "301  211425.537823  434474.106083\n",
       "302  210937.260615  427534.279932\n",
       "303  211093.185000  432142.415000\n",
       "304  211127.000000  433739.000000\n",
       "305  210629.740000  434896.985000\n",
       "306  210204.853355  430741.529701\n",
       "307  210550.916561  431521.714879\n",
       "308  210716.258279  431661.638117\n",
       "309  211374.669579  434537.462307\n",
       "310  209632.610966  427611.356701\n",
       "311  209893.194445  432815.237681\n",
       "312  210585.183552  431337.304453\n",
       "313  211213.409099  437914.298870\n",
       "314  212249.075475  438077.523150\n",
       "315  211320.004131  436629.452243\n",
       "316  214018.311648  438064.646958\n",
       "317  211349.355094  436361.715031\n",
       "318  214270.883664  438973.093667\n",
       "319  213840.809961  433625.496950\n",
       "320  211282.845631  436931.591096\n",
       "321  211371.072652  436944.361232\n",
       "322  210878.910141  431830.690591\n",
       "323  211346.403996  437531.330042\n",
       "324  212889.780143  437694.304941\n",
       "325  212784.939153  438568.031029\n",
       "326            NaN            NaN\n",
       "327            NaN            NaN\n",
       "328  212591.000000  441190.000000\n",
       "329            NaN            NaN\n",
       "330            NaN            NaN\n",
       "331            NaN            NaN\n",
       "332  211313.708010  436554.780756\n",
       "333  209347.535349  429078.538734\n",
       "334  209795.685593  430535.016089\n",
       "335  213294.687398  434868.005925\n",
       "336  212335.783645  437960.963724\n",
       "337  211018.695500  434244.944456\n",
       "338  212102.924236  430225.135622\n",
       "339  212600.452361  437477.489675\n",
       "340  210265.695086  426121.809503\n",
       "341  212681.476909  437541.504893\n",
       "342  202374.979308  419557.793961\n",
       "343  202356.000000  419428.000000\n",
       "344  199610.829818  421112.520850\n",
       "345  200348.788320  422438.390459\n",
       "346  205289.160314  418886.436415\n",
       "347  202274.000000  417854.000000\n",
       "348  204211.350762  419108.941434\n",
       "349  202363.000000  421097.000000\n",
       "350  206620.000000  417024.000000\n",
       "351            NaN            NaN\n",
       "352  195858.214517  419228.504806\n",
       "353  200901.111532  420638.106147\n",
       "354  202352.590859  419308.998913\n",
       "355  202842.167470  418315.892733\n",
       "356  200192.348276  419576.142545\n",
       "357  200595.907009  422245.119974\n",
       "358  196610.789802  417359.380787\n",
       "359  202469.817225  418425.680714\n",
       "360  204911.000000  415907.000000\n",
       "361  206556.351819  417113.766621\n",
       "362  198484.815444  416603.543406\n",
       "363  194870.404046  419056.941621\n",
       "364  203998.068992  419175.787006\n",
       "365  200683.517761  421112.633235\n",
       "366  195844.366786  419278.018018\n",
       "367  202574.876779  419833.567962\n",
       "368  197818.640705  416589.809523\n",
       "369  201719.928186  416871.431176\n",
       "370  201596.328916  419214.819771\n",
       "371  200025.175050  418778.435748\n",
       "372  200041.542129  421291.421616\n",
       "373  195760.524291  419192.640739\n",
       "374  205643.000000  417655.000000\n",
       "375  201846.315793  417401.030648\n",
       "376  206343.756953  416825.453697\n",
       "377  201953.835511  417553.807055\n",
       "378  195878.000000  419138.000000\n",
       "379  199280.580590  422430.496119\n",
       "380  200645.322832  422052.008280\n",
       "381  202507.300051  419151.796336\n",
       "382  206728.841889  416758.301448\n",
       "383  199524.963492  421620.627877\n",
       "384  204160.000000  419582.000000\n",
       "385  199111.913469  423174.201094\n",
       "386  202946.073921  416380.474998\n",
       "387  207076.302447  418369.755992\n",
       "388  200062.030583  422501.984644\n",
       "389  200753.413122  421226.832816\n",
       "390  205316.000000  415111.000000\n",
       "391  202139.993634  417977.864950\n",
       "392  202428.000000  418872.000000\n",
       "393  207112.000000  418317.000000\n",
       "394  204656.000000  416041.000000\n",
       "395  202973.131830  419577.756048\n",
       "396            NaN            NaN\n",
       "397  197990.000000  415495.000000\n",
       "398  197990.000000  415495.000000\n",
       "399  201387.000000  419677.000000\n",
       "400  201313.000000  418915.000000\n",
       "401  202207.000000  418169.000000\n",
       "402  203688.000000  419165.000000\n",
       "403  202879.000000  419637.000000\n",
       "404  204226.768491  419022.232874\n",
       "405  202312.000000  418489.000000\n",
       "406  195983.497227  419066.088944\n",
       "407  203601.995230  419339.931809\n",
       "408  203925.000000  419138.000000\n",
       "409  202644.319257  418371.533252\n",
       "410  201332.000000  419060.000000\n",
       "411  204302.792908  419730.487743\n",
       "412  202340.297303  418645.211770\n",
       "413  200021.358122  423018.676774\n",
       "414  202587.083906  419123.384901\n",
       "415  200557.000000  419555.000000\n",
       "416  182852.761194  431581.548379\n",
       "417            NaN            NaN\n",
       "418  180958.000000  437558.000000\n",
       "419  174676.932901  427814.339691\n",
       "420  175802.000000  429445.000000\n",
       "421  177590.000000  426009.000000\n",
       "422            NaN            NaN\n",
       "423  182195.538353  438084.701611\n",
       "424  176417.689595  427000.138155\n",
       "425  181298.000000  437803.000000\n",
       "426            NaN            NaN\n",
       "427            NaN            NaN\n",
       "428  181414.401984  437998.763760\n",
       "429  181498.496062  438335.225717\n",
       "430  181596.577677  437913.268308\n",
       "431  176742.000000  426966.000000\n",
       "432  180847.962471  437719.827754\n",
       "433  175875.000000  429487.000000\n",
       "434  176485.197367  427084.541050\n",
       "435  177050.000000  432263.000000\n",
       "436  181477.928220  437808.805965\n",
       "437  176644.513029  427587.809327\n",
       "438  181292.479382  438065.241734\n",
       "439  183176.000000  429643.000000\n",
       "440  175831.000000  426092.000000\n",
       "441  175553.000000  427998.000000\n",
       "442  180987.058057  437980.290456\n",
       "443  180895.991021  426822.693428\n",
       "444  181218.000000  437366.000000\n",
       "445  176450.000000  432035.000000\n",
       "446  180908.228585  426991.219427\n",
       "447  176031.000000  425937.000000\n",
       "448  175848.325385  426130.430501\n",
       "449  181268.875221  430651.776552\n",
       "450  182859.869116  430012.303496\n",
       "451  187618.585000  422180.700000\n",
       "452  185276.000000  424125.000000\n",
       "453  184436.090447  424158.825282\n",
       "454  185403.460477  424004.760892\n",
       "455  188790.160812  423859.289934\n",
       "456  187842.000000  422271.000000\n",
       "457  182929.268504  425703.197140\n",
       "458  182880.808061  425797.494189\n",
       "459  183038.329861  426085.523168\n",
       "460  186448.126290  422858.055731\n",
       "461  186906.031934  425998.269498\n",
       "462  184541.480231  424099.902384\n",
       "463  183310.679887  425672.571527\n",
       "464  186810.000000  423011.000000\n",
       "465  187007.384933  420594.065094\n",
       "466  184794.753783  423438.458688\n",
       "467  186863.300593  421497.086566\n",
       "468  182411.979747  425098.896646\n",
       "469  186107.000000  419936.000000\n",
       "470  184713.194765  423087.544112\n",
       "471  187779.000000  420973.000000\n",
       "472  183300.288778  422060.836656\n",
       "473  185037.467042  424053.624779\n",
       "474  187655.978922  422236.102574\n",
       "475  183264.752382  422289.893968\n",
       "476  185032.000000  425425.000000\n",
       "477  183272.535308  425656.228183\n",
       "478  185127.258781  424047.913703\n",
       "479  186311.421273  421900.649645\n",
       "480  186835.000000  422973.000000\n",
       "481  185544.047777  423981.697177\n",
       "482  184835.616808  424029.305281\n",
       "483  185094.720698  423639.954559\n",
       "484  185832.956403  424076.386919\n",
       "485  187247.943750  422882.918346\n",
       "486  183379.619850  422143.413284\n",
       "487  186258.391133  425905.159196\n",
       "488  188540.832155  421424.534910\n",
       "489  184795.691175  424336.224295\n",
       "490  187793.308017  420732.841262\n",
       "491  183760.272039  426671.427346\n",
       "492  183379.619850  422143.413284\n",
       "493  185051.460574  423944.669147\n",
       "494  183372.493822  422042.507944\n",
       "495  183074.561837  422385.334405\n",
       "496  184930.742377  423232.014471\n",
       "497  186493.443851  422800.614800\n",
       "498  186173.235763  425010.121160\n",
       "499  187847.000000  420655.000000\n",
       "500  186227.000000  425951.000000\n",
       "501  181941.567030  423458.285743\n",
       "502  185750.479003  425435.119268\n",
       "503  184967.000000  423989.000000\n",
       "504  185054.000000  424146.000000\n",
       "505  181962.000000  423567.000000\n",
       "506  183166.000000  426097.000000\n",
       "507  184774.065084  423138.145650\n",
       "508  184655.783470  423382.735894\n",
       "509  185079.000000  423038.000000\n",
       "510  184655.161447  423519.906889\n",
       "511  184621.554255  422922.275824\n",
       "512            NaN            NaN\n",
       "513  223168.000000  403994.000000\n",
       "514  242118.000000  395053.000000\n",
       "515  215162.144634  388730.857212\n",
       "516  223875.000000  390584.000000\n",
       "517            NaN            NaN\n",
       "518  223684.000000  389343.000000\n",
       "519  223642.000000  389301.000000\n",
       "520  224055.000000  389444.000000\n",
       "521  223959.426499  389842.865215\n",
       "522  232019.000000  390815.000000\n",
       "523  223389.000000  403064.000000\n",
       "524  234488.000000  395981.000000\n",
       "525  212604.629108  388101.264785\n",
       "526  195772.174772  432241.538236\n",
       "527  193349.101393  432314.432036\n",
       "528  196812.000000  432653.000000\n",
       "529  197558.995962  432653.446589\n",
       "530  196140.247373  430338.423623\n",
       "531  193958.409881  431422.396612\n",
       "532  192517.366426  433605.463370\n",
       "533  192916.144565  432971.776344\n",
       "534  192933.974406  433188.903755\n",
       "535  195909.000000  432013.000000\n",
       "536  197405.461146  432648.108382\n",
       "537  192778.783438  433177.863816\n",
       "538  194109.886696  431353.459094\n",
       "539  196127.000000  433535.000000\n",
       "540  192703.041056  432987.188848\n",
       "541  192726.060750  433263.098318\n",
       "542  196260.423172  429867.612215\n",
       "543  193394.842752  432474.797854\n",
       "544  193417.434955  432473.462039\n",
       "545  196219.000000  430083.000000\n",
       "546  193630.222235  432270.503823\n",
       "547  197575.000000  433528.000000\n",
       "548  194212.428078  430679.674489\n",
       "549  197818.111876  433137.578437\n",
       "550  195463.147915  432081.400084\n",
       "551  195305.000000  433223.000000\n",
       "552  195766.722253  432025.374361\n",
       "553  194375.355266  432710.017001\n",
       "554  196573.000000  432266.000000\n",
       "555  193395.119610  432264.551522\n",
       "556  193226.191772  432371.930336\n",
       "557  204053.228326  479993.701275\n",
       "558            NaN            NaN\n",
       "559  204200.334410  480021.458853\n",
       "560  194473.043948  474413.002200\n",
       "561            NaN            NaN\n",
       "562  194704.899633  474922.041492\n",
       "563  198506.841814  470970.561962\n",
       "564  196819.000000  467839.000000\n",
       "565  198383.736955  470996.373816\n",
       "566  194485.523636  474439.620568\n",
       "567  196893.591476  490447.959502\n",
       "568            NaN            NaN\n",
       "569            NaN            NaN\n",
       "570            NaN            NaN\n",
       "571  199035.976490  479352.379588\n",
       "572  199535.390365  478639.253058\n",
       "573            NaN            NaN\n",
       "574  207438.712046  477561.381833\n",
       "575  194446.611954  474280.613126\n",
       "576  206581.801144  482536.583763\n",
       "577  245741.000000  443287.000000\n",
       "578  237016.849379  443981.623688\n",
       "579  254727.000000  449286.000000\n",
       "580  251759.000000  439628.000000\n",
       "581  228158.000000  449160.000000\n",
       "582  244441.154432  443648.849743\n",
       "583  244642.000000  443215.000000\n",
       "584  243771.968827  443212.714338\n",
       "585  252044.975866  442385.408779\n",
       "586  237344.000000  445539.000000\n",
       "587  268881.646296  450750.771783\n",
       "588  259356.396876  425292.552632\n",
       "589  259260.632137  425352.685186\n",
       "590  261539.383041  418481.739374\n",
       "591  249835.962845  409346.887869\n",
       "592  262244.596982  420998.864153\n",
       "593  255347.857554  422343.303045\n",
       "594  247400.254812  415963.854817\n",
       "595  250342.071538  408974.304271\n",
       "596  250342.071538  408974.304271\n",
       "597            NaN            NaN\n",
       "598  256310.120230  422212.722671\n",
       "599  205990.830819  501638.489386\n",
       "600  206500.454560  405282.772792\n",
       "601  205393.675539  409919.329675\n",
       "602  206422.039169  404629.908650\n",
       "603  204390.363830  408135.452029\n",
       "604  203668.201390  409352.915769\n",
       "605  205647.234261  407516.829454\n",
       "606  205312.716759  407787.885189\n",
       "607  203824.605519  407071.042813\n",
       "608  205684.719366  405811.225437\n",
       "609  205903.051804  402872.082227\n",
       "610  203819.243652  407128.581698\n",
       "611  206617.352508  404379.946502\n",
       "612  206092.876571  405000.343914\n",
       "613  205620.013677  407646.209154\n",
       "614  206130.091432  404985.163902\n",
       "615  206303.010386  404921.804947\n",
       "616  206077.230126  406149.082927\n",
       "617  203668.201390  409352.915769\n",
       "618  207457.231897  423870.021604\n",
       "619  218691.003959  414433.378516\n",
       "620  218882.289743  413085.192079\n",
       "621  205764.127149  422120.561266\n",
       "622  218959.718975  415382.055557\n",
       "623  208559.794102  420526.756604\n",
       "624  209821.361938  419082.050314\n",
       "625  209834.520522  419847.827939\n",
       "626  213801.512589  416468.698217\n",
       "627  213551.037239  419536.014279\n",
       "628  206040.234437  421761.364192\n",
       "629  210696.021462  421283.214082\n",
       "630  211101.141543  424530.241031\n",
       "631  206395.802501  419551.030465\n",
       "632            NaN            NaN\n",
       "633  213300.056355  418222.938300\n",
       "634  213504.986529  419430.089474\n",
       "635  213383.977794  419575.341178\n",
       "636  217557.347661  414809.940463\n",
       "637  205815.000000  422109.000000\n",
       "638  218465.556587  414510.665760\n",
       "639  211234.918979  425476.376705\n",
       "640  217774.903307  414848.291965\n",
       "641  206435.314316  419483.517500\n",
       "642  213801.512589  416468.698217\n",
       "643  236678.703352  404164.308041\n",
       "644  232362.671145  402316.142716\n",
       "645  209623.042281  425319.935702\n",
       "646            NaN            NaN\n",
       "647  213467.613017  419392.421360\n",
       "648            NaN            NaN\n",
       "649  209580.932766  421640.620024\n",
       "650            NaN            NaN\n",
       "651  219054.812243  414646.396157\n",
       "652  209837.040688  416943.748950\n",
       "653  221286.895040  413890.876984\n",
       "654  218337.034774  416720.388302\n",
       "655  212259.329790  419160.361252\n",
       "656  216604.940793  414455.202838\n",
       "657  213801.512589  416468.698217\n",
       "658            NaN            NaN\n",
       "659  218020.239570  414833.312947\n",
       "660  209894.419009  421358.596423\n",
       "661  208426.958515  424466.641178\n",
       "662  206274.945017  419425.291751\n",
       "663  207609.819953  423748.306787\n",
       "664  206267.514896  419545.712920\n",
       "665  206433.718453  419211.031771\n",
       "666  217219.572731  414831.300475\n",
       "667  214196.065010  419964.911669\n",
       "668  209503.120869  416989.463578\n",
       "669  218640.061505  414802.572384\n",
       "670  213403.547348  416505.842866\n",
       "671  206395.476008  419243.532500\n",
       "672  197616.309579  427865.493117\n",
       "673  195418.768560  424391.907107\n",
       "674  198631.105307  432594.744523\n",
       "675  197876.638173  427589.962117\n",
       "676  197005.577675  428322.482147\n",
       "677  198277.057979  427322.386794\n",
       "678            NaN            NaN\n",
       "679  196662.400552  428679.299442\n",
       "680  206779.405225  472877.607767\n",
       "681  203675.622807  470961.739302\n",
       "682  208213.102260  471522.872153\n",
       "683  204151.131006  467979.354481\n",
       "684  207742.564855  469963.262259\n",
       "685            NaN            NaN\n",
       "686  203828.348601  470619.109109\n",
       "687  203789.375479  472443.364001\n",
       "688  204216.075275  470124.229148\n",
       "689  206197.885372  472410.306015\n",
       "690  203505.827265  470610.592769\n",
       "691  206171.039178  472280.021473\n",
       "692  208436.880903  471310.707482\n",
       "693  204112.385803  470126.308249\n",
       "694  208203.000000  471548.000000\n",
       "695  206106.660652  471823.734938\n",
       "696  207518.451623  471192.380676\n",
       "697  205392.890484  471445.366022\n",
       "698  203963.932614  471666.959142\n",
       "699  204361.057549  472003.773773\n",
       "700  208269.549777  471496.726329\n",
       "701  204619.776128  471327.842377\n",
       "702  201913.020181  472770.854690\n",
       "703  208436.880903  471310.707482\n",
       "704  206171.039178  472280.021473\n",
       "705  203377.935049  470605.229114\n",
       "706  203936.923256  471530.923552\n",
       "707  204507.651299  470668.916074\n",
       "708  203863.769924  471905.939187\n",
       "709  203920.130444  471950.155518\n",
       "710  206298.328386  472000.059836\n",
       "711  206171.039178  472280.021473\n",
       "712  203863.769924  471905.939187\n",
       "713  204500.549671  472325.103682\n",
       "714  201819.773688  472596.289078\n",
       "715  204137.048953  469936.062378\n",
       "716  208326.422008  471381.777903\n",
       "717  203752.299307  469619.448389\n",
       "718  238318.654753  420173.481338\n",
       "719  239866.839779  419182.867004\n",
       "720  234404.894092  416056.027293\n",
       "721  242893.920265  424899.918000\n",
       "722  255826.108943  402149.637278\n",
       "723  233474.391713  409564.173242\n",
       "724  239314.554699  419842.498934\n",
       "725  237330.467934  415974.334180\n",
       "726  237330.467934  415974.334180\n",
       "727  254402.744249  402049.766308\n",
       "728  239758.618399  419297.442226\n",
       "729  238324.495117  420071.437771\n",
       "730  239271.029232  420038.926119\n",
       "731  233548.391427  420230.498987\n",
       "732  180530.312494  472524.156379\n",
       "733  186690.734441  475199.885523\n",
       "734  176678.000000  469622.000000\n",
       "735  180716.042471  472473.436975\n",
       "736  179436.236488  473245.145106\n",
       "737  189387.531398  493279.949622\n",
       "738  180656.661296  484619.970578\n",
       "739  180860.844170  483540.922454\n",
       "740  180080.453984  472781.271425\n",
       "741  174354.615360  476306.805212\n",
       "742  178969.267758  469628.383363\n",
       "743  179105.025388  469670.991209\n",
       "744  178654.760243  467065.374230\n",
       "745  179060.792539  469563.514043\n",
       "746  181154.634345  484168.872519\n",
       "747  178969.267758  469628.383363\n",
       "748  180258.460458  473250.342349\n",
       "749  178789.285831  468219.267968\n",
       "750  175895.679405  474576.463091\n",
       "751  182726.863345  485983.032451\n",
       "752  188706.422860  482972.281612\n",
       "753            NaN            NaN\n",
       "754            NaN            NaN\n",
       "755  178785.750136  468173.178078\n",
       "756  178941.187198  469151.542210\n",
       "757  189418.801885  485470.192420\n",
       "758  176648.742550  469588.400880\n",
       "759  172315.683179  477947.119620\n",
       "760  172336.842012  477866.762717\n",
       "761  177222.767632  472521.910379\n",
       "762  178901.538525  469317.379396\n",
       "763  176525.990122  469676.064803\n",
       "764  180449.172307  468449.788962\n",
       "765  180080.245529  472857.162114\n",
       "766  174450.361886  469192.593645\n",
       "767  177437.662520  467771.910454\n",
       "768  179814.207224  472677.320170\n",
       "769  175349.870473  474640.294230\n",
       "770  179349.516188  472107.243860\n",
       "771  181360.159247  474531.325200\n",
       "772  181481.735698  482839.234221\n",
       "773  208612.888973  394666.592903\n",
       "774  210176.777396  388594.941237\n",
       "775  205620.437670  396425.500711\n",
       "776  206303.888344  398519.139387\n",
       "777  193839.004853  387391.999010\n",
       "778  205477.292590  397556.726064\n",
       "779  193491.022224  386957.435301\n",
       "780  210139.748022  388891.177114\n",
       "781  208384.874728  388006.270431\n",
       "782            NaN            NaN\n",
       "783  204999.521114  394061.034148\n",
       "784  207851.080498  387947.419476\n",
       "785  204113.022193  390388.353544\n",
       "786  206531.000000  389650.000000\n",
       "787  209833.234975  387820.334404\n",
       "788  205634.785036  398519.179289\n",
       "789  195516.000000  388449.000000\n",
       "790  196258.979135  389092.766143\n",
       "791  210658.814017  387673.399902\n",
       "792  209381.442674  387646.071544\n",
       "793  204973.832926  396042.351250\n",
       "794            NaN            NaN\n",
       "795  210109.777897  387632.108078\n",
       "796  210129.033167  388987.006632\n",
       "797            NaN            NaN\n",
       "798  210041.453519  388587.585427\n",
       "799  209892.577195  388077.848725\n",
       "800  192449.827017  390891.495937\n",
       "801  208575.617433  387899.027118\n",
       "802  217933.684679  488406.346678\n",
       "803  217358.029401  489073.146281\n",
       "804  227290.758467  490741.427889\n",
       "805  212299.917882  480881.893845\n",
       "806  212952.818008  480548.964458\n",
       "807  213709.581086  474346.934508\n",
       "808  221831.876221  476921.559944\n",
       "809  216410.442105  490809.762858\n",
       "810  219811.731491  492483.354150\n",
       "811  227047.312554  490045.261178\n",
       "812  217622.004233  451211.068299\n",
       "813            NaN            NaN\n",
       "814  218436.268743  448307.121707\n",
       "815  218257.548968  448298.684620\n",
       "816            NaN            NaN\n",
       "817  217411.043466  451563.892509\n",
       "818            NaN            NaN\n",
       "819            NaN            NaN\n",
       "820  216761.941801  451297.294003\n",
       "821  216984.005356  451047.219851\n",
       "822            NaN            NaN\n",
       "823  218375.838218  448809.412661\n",
       "824  217445.744843  448625.610287\n",
       "825  218146.328791  448715.147115\n",
       "826  220051.697460  445553.645134\n",
       "827  218015.634995  448487.440965\n",
       "828  181841.665575  401413.988181\n",
       "829  195405.074160  413177.638762\n",
       "830            NaN            NaN\n",
       "831  203153.456259  411683.613907\n",
       "832  209754.000000  411762.000000\n",
       "833  206460.274038  410252.351111\n",
       "834            NaN            NaN\n",
       "835  208609.496428  410699.575579\n",
       "836  205499.000000  411856.000000\n",
       "837  205153.119397  412822.995562\n",
       "838  210936.516258  408917.716563\n",
       "839  206357.927753  411495.085421\n",
       "840  180711.451797  411095.776401\n",
       "841  203653.839340  412527.345816\n",
       "842            NaN            NaN\n",
       "843  202893.721053  411863.656170\n",
       "844  206351.000000  411448.000000\n",
       "845            NaN            NaN\n",
       "846  192172.569947  401434.559054\n",
       "847  188726.832029  401444.141884\n",
       "848  196089.651822  398680.716741\n",
       "849  169849.787525  407968.237060\n",
       "850  203756.781864  412566.291076\n",
       "851  200668.094479  412002.943341\n",
       "852  192021.935432  401449.210279\n",
       "853  192009.858321  403288.532956\n",
       "854  181968.158459  393435.044662\n",
       "855  206894.690660  412755.867175\n",
       "856  180603.130562  411414.554343\n",
       "857  203228.550855  412453.472434\n",
       "858  205579.549461  412205.806739\n",
       "859  210969.342913  408985.606434\n",
       "860  207031.190216  412755.476382\n",
       "861            NaN            NaN\n",
       "862            NaN            NaN\n",
       "863            NaN            NaN\n",
       "864  192012.658169  401627.876324\n",
       "865  193670.000000  416393.000000\n",
       "866  203321.788220  412673.977618"
      ]
     },
     "metadata": {},
     "output_type": "display_data"
    }
   ],
   "source": [
    "# 카카오API를 사용하여 주소->좌표 변환\n",
    "import requests, json\n",
    "API = '5447c5684f667dab614751e443d87ad2'\n",
    "def get_location(address):\n",
    "    url = 'https://dapi.kakao.com/v2/local/search/address.json?query=' + address\n",
    "    headers = {\"Authorization\": \"KakaoAK 5447c5684f667dab614751e443d87ad2\"}\n",
    "    api_json = json.loads(str(requests.get(url,headers=headers).text))\n",
    "    address = api_json['documents'][0]['address']\n",
    "    crdx= {\"lat\": str(address['y'])}\n",
    "    crdy= {\"lng\": str(address['x'])}\n",
    "    address_name = address['address_name']\n",
    "\n",
    "    return crdx\n",
    "    return crdy\n",
    "\n",
    "# 경위도 for문 시험용 \n",
    "pd.set_option('display.max_rows', None)\n",
    "pd.set_option('display.max_columns', None)\n",
    "df = pd.read_csv('C:/Users/김동혁/hyeok python/project file/medicback.csv', encoding = 'cp949')\n",
    "df_drop_sample = df[['시군명','사업장명','소재지시설전화번호','위도','경도','소재지도로명주소','영업상태명','X좌표값','Y좌표값']] \n",
    "df_ddrop_sample = df_drop_sample[df_drop_sample['영업상태명'].str.contains('영업')]\n",
    "df_fn = df_ddrop_sample.reset_index(drop=True)\n",
    "address_fix = df_fn[['X좌표값','Y좌표값']]\n",
    "#nan_datax= df_fn['위도'].isnull() \n",
    "#nan_datay= df_fn['경도'].isnull() \n",
    "display(address_fix)"
   ]
  },
  {
   "cell_type": "code",
   "execution_count": null,
   "id": "1d1f0cf0-1485-46fa-8742-b0d8079e4fd8",
   "metadata": {},
   "outputs": [],
   "source": [
    "#백업용    \n",
    "\n",
    "import requests\n",
    "import pandas as pd\n",
    "\n",
    "\n",
    "\n",
    "\n",
    "\n",
    "\n",
    "# 카카오API를 사용하여 주소->좌표 변환\n",
    "#카카오 API를 돌려보니 위도랑 경도가 서로 바뀌어서 나와서 코드로 다시 돌려줌. \n",
    "import requests, json\n",
    "API = '5447c5684f667dab614751e443d87ad2'\n",
    "def get_location(NM):\n",
    "    try:\n",
    "        url = 'https://dapi.kakao.com/v2/local/search/keyword.json?query={}'.format(NM)\n",
    "        headers = {\n",
    "            \"Authorization\": \"KakaoAK 5447c5684f667dab614751e443d87ad2\"\n",
    "        }\n",
    "        places = requests.get(url, headers = headers).json()['documents']\n",
    "        place_dropx = places[0]['y']\n",
    "        place_dropy = places[0]['x']\n",
    "        return place_dropx, place_dropy\n",
    "    except: \n",
    "        pass\n",
    "        \n",
    "#places의 타입은 리스트임  \n",
    "\n",
    "pd.set_option('display.max_rows', None)\n",
    "pd.set_option('display.max_columns', None)\n",
    "df = pd.read_csv('C:/Users/김동혁/hyeok python/project file/medicback.csv', encoding = 'cp949')\n",
    "df_drop_sample = df[['시군명','사업장명','소재지시설전화번호','위도','경도','소재지도로명주소','영업상태명']] \n",
    "df_ddrop_sample = df_drop_sample[df_drop_sample['영업상태명'].str.contains('영업')]\n",
    "df_fn = df_ddrop_sample.reset_index(drop=True)\n",
    "address_fix = df_fn[['위도','경도','사업장명']]\n",
    "address_api = address_fix[['사업장명']]\n",
    "address_fix1 = address_fix.copy()\n",
    "for item in range(len(address_fix)): \n",
    "    get_location((address_api['사업장명'][item]))\n",
    "    address_fix1['위도'] = place_dropx\n",
    "    address_fix1['경도'] = place_dropy\n",
    "display(address_api)"
   ]
  },
  {
   "cell_type": "code",
   "execution_count": 20,
   "id": "6d10ea86-8250-48b9-819e-be0b7e927c14",
   "metadata": {},
   "outputs": [
    {
     "name": "stdout",
     "output_type": "stream",
     "text": [
      "60\n"
     ]
    }
   ],
   "source": [
    "A = ['37.788635945919445',\n",
    "'37.8411750641129',\n",
    "'37.7473174659906',\n",
    "'37.8849401687725',\n",
    "'37.691139516030645',\n",
    "'37.69116475236103',\n",
    "'37.7371239176072',\n",
    "'37.66364541576377',\n",
    "'37.6226935916378',\n",
    "'37.67725130417357',\n",
    "'37.6272051556246',\n",
    "'37.7114939273297',\n",
    "'37.64773280467251',\n",
    "'37.7193493604704',\n",
    "'37.6632797887114',\n",
    "'37.6455549955723',\n",
    "'37.64479123883855',\n",
    "'36.5813388106208',\n",
    "'37.711932271788',\n",
    "'37.63045170414854',\n",
    "'37.67651570387323',\n",
    "'37.6765501751964',\n",
    "'37.667232946571',\n",
    "'37.67291236829969,',\n",
    "'37.6990995323219',\n",
    "'37.6275280356065',\n",
    "'37.68504305881709',\n",
    "'37.657398666637086',\n",
    "'37.6706534240647',\n",
    "'37.6339281815459',\n",
    "'37.6919639251515',\n",
    "'37.6970058753141',\n",
    "'37.67125249263253',\n",
    "'37.6215622648483',\n",
    "'37.6336972118044',\n",
    "'37.65126824768468',\n",
    "'37.6518758221244',\n",
    "'37.288485872444305',\n",
    "'37.657078444316',\n",
    "'37.6705693525593',\n",
    "'37.70046036148527',\n",
    "'37.65620921617289',\n",
    "'37.65116898864379',\n",
    "'37.7004126027876',\n",
    "'37.1633602507517',\n",
    "'37.68403610337961',\n",
    "'37.65413325427682',\n",
    "'37.7230999226411',\n",
    "'37.6820538331719',\n",
    "'37.622963394534835',\n",
    "'37.7563544165017',\n",
    "'37.6482091296455',\n",
    "'37.67427511448869',\n",
    "'37.6762933528809',\n",
    "'37.6745479071252',\n",
    "'37.6762851606348',\n",
    "'37.6818939502614',\n",
    "'37.6447577039508',\n",
    "'37.6749847966236',\n",
    "'37.6438742099368']\n",
    "print(len(A))"
   ]
  },
  {
   "cell_type": "code",
   "execution_count": 1,
   "id": "cce72acf-8173-4a34-80ad-2e05e9502045",
   "metadata": {},
   "outputs": [
    {
     "data": {
      "text/html": [
       "<div>\n",
       "<style scoped>\n",
       "    .dataframe tbody tr th:only-of-type {\n",
       "        vertical-align: middle;\n",
       "    }\n",
       "\n",
       "    .dataframe tbody tr th {\n",
       "        vertical-align: top;\n",
       "    }\n",
       "\n",
       "    .dataframe thead th {\n",
       "        text-align: right;\n",
       "    }\n",
       "</style>\n",
       "<table border=\"1\" class=\"dataframe\">\n",
       "  <thead>\n",
       "    <tr style=\"text-align: right;\">\n",
       "      <th></th>\n",
       "      <th>사업장명</th>\n",
       "    </tr>\n",
       "  </thead>\n",
       "  <tbody>\n",
       "    <tr>\n",
       "      <th>0</th>\n",
       "      <td>가평산속요양병원</td>\n",
       "    </tr>\n",
       "    <tr>\n",
       "      <th>1</th>\n",
       "      <td>가평푸른숲요양병원</td>\n",
       "    </tr>\n",
       "    <tr>\n",
       "      <th>2</th>\n",
       "      <td>강변요양병원</td>\n",
       "    </tr>\n",
       "    <tr>\n",
       "      <th>3</th>\n",
       "      <td>노체리안드리자애병원</td>\n",
       "    </tr>\n",
       "    <tr>\n",
       "      <th>4</th>\n",
       "      <td>에이치제이매그놀리아국제병원</td>\n",
       "    </tr>\n",
       "    <tr>\n",
       "      <th>5</th>\n",
       "      <td>에이치제이매그놀리아국제한방병원</td>\n",
       "    </tr>\n",
       "    <tr>\n",
       "      <th>6</th>\n",
       "      <td>청평우리병원</td>\n",
       "    </tr>\n",
       "    <tr>\n",
       "      <th>7</th>\n",
       "      <td>청평활명요양병원</td>\n",
       "    </tr>\n",
       "    <tr>\n",
       "      <th>8</th>\n",
       "      <td>강북성심요양병원</td>\n",
       "    </tr>\n",
       "    <tr>\n",
       "      <th>9</th>\n",
       "      <td>건누리병원</td>\n",
       "    </tr>\n",
       "    <tr>\n",
       "      <th>10</th>\n",
       "      <td>고양센트럴요양병원</td>\n",
       "    </tr>\n",
       "    <tr>\n",
       "      <th>11</th>\n",
       "      <td>고양정신병원</td>\n",
       "    </tr>\n",
       "    <tr>\n",
       "      <th>12</th>\n",
       "      <td>고양휴메디병원</td>\n",
       "    </tr>\n",
       "    <tr>\n",
       "      <th>13</th>\n",
       "      <td>국군고양병원</td>\n",
       "    </tr>\n",
       "    <tr>\n",
       "      <th>14</th>\n",
       "      <td>국립암센터</td>\n",
       "    </tr>\n",
       "    <tr>\n",
       "      <th>15</th>\n",
       "      <td>국민건강보험공단일산병원</td>\n",
       "    </tr>\n",
       "    <tr>\n",
       "      <th>16</th>\n",
       "      <td>그레이스병원</td>\n",
       "    </tr>\n",
       "    <tr>\n",
       "      <th>17</th>\n",
       "      <td>늘푸른병원</td>\n",
       "    </tr>\n",
       "    <tr>\n",
       "      <th>18</th>\n",
       "      <td>다스람요양병원</td>\n",
       "    </tr>\n",
       "    <tr>\n",
       "      <th>19</th>\n",
       "      <td>더하다한방병원</td>\n",
       "    </tr>\n",
       "    <tr>\n",
       "      <th>20</th>\n",
       "      <td>동국대학교일산불교병원</td>\n",
       "    </tr>\n",
       "    <tr>\n",
       "      <th>21</th>\n",
       "      <td>동국대학교일산불교한방병원</td>\n",
       "    </tr>\n",
       "    <tr>\n",
       "      <th>22</th>\n",
       "      <td>동국마음요양병원</td>\n",
       "    </tr>\n",
       "    <tr>\n",
       "      <th>23</th>\n",
       "      <td>동원요양병원</td>\n",
       "    </tr>\n",
       "    <tr>\n",
       "      <th>24</th>\n",
       "      <td>든든한병원</td>\n",
       "    </tr>\n",
       "    <tr>\n",
       "      <th>25</th>\n",
       "      <td>라엘마음병원</td>\n",
       "    </tr>\n",
       "    <tr>\n",
       "      <th>26</th>\n",
       "      <td>로하스일산요양병원</td>\n",
       "    </tr>\n",
       "    <tr>\n",
       "      <th>27</th>\n",
       "      <td>로하스클로버요양병원</td>\n",
       "    </tr>\n",
       "    <tr>\n",
       "      <th>28</th>\n",
       "      <td>리빙웰치과병원</td>\n",
       "    </tr>\n",
       "    <tr>\n",
       "      <th>29</th>\n",
       "      <td>린치과병원</td>\n",
       "    </tr>\n",
       "    <tr>\n",
       "      <th>30</th>\n",
       "      <td>메디누리요양병원</td>\n",
       "    </tr>\n",
       "    <tr>\n",
       "      <th>31</th>\n",
       "      <td>무지개요양병원</td>\n",
       "    </tr>\n",
       "    <tr>\n",
       "      <th>32</th>\n",
       "      <td>사과나무치과병원</td>\n",
       "    </tr>\n",
       "    <tr>\n",
       "      <th>33</th>\n",
       "      <td>새찬요양병원</td>\n",
       "    </tr>\n",
       "    <tr>\n",
       "      <th>34</th>\n",
       "      <td>서울메이치과병원</td>\n",
       "    </tr>\n",
       "    <tr>\n",
       "      <th>35</th>\n",
       "      <td>서울척탑병원</td>\n",
       "    </tr>\n",
       "    <tr>\n",
       "      <th>36</th>\n",
       "      <td>연세마두병원</td>\n",
       "    </tr>\n",
       "    <tr>\n",
       "      <th>37</th>\n",
       "      <td>연세서울병원</td>\n",
       "    </tr>\n",
       "    <tr>\n",
       "      <th>38</th>\n",
       "      <td>연세플라워치과병원</td>\n",
       "    </tr>\n",
       "    <tr>\n",
       "      <th>39</th>\n",
       "      <td>연세항맥병원</td>\n",
       "    </tr>\n",
       "    <tr>\n",
       "      <th>40</th>\n",
       "      <td>우노힐일산요양병원</td>\n",
       "    </tr>\n",
       "    <tr>\n",
       "      <th>41</th>\n",
       "      <td>원당연세병원</td>\n",
       "    </tr>\n",
       "    <tr>\n",
       "      <th>42</th>\n",
       "      <td>원흥아이제일병원</td>\n",
       "    </tr>\n",
       "    <tr>\n",
       "      <th>43</th>\n",
       "      <td>의료법인 세경의료재단 새빛안과병원</td>\n",
       "    </tr>\n",
       "    <tr>\n",
       "      <th>44</th>\n",
       "      <td>의료법인두영의료재단 정안요양병원</td>\n",
       "    </tr>\n",
       "    <tr>\n",
       "      <th>45</th>\n",
       "      <td>의료법인명지의료재단명지병원</td>\n",
       "    </tr>\n",
       "    <tr>\n",
       "      <th>46</th>\n",
       "      <td>의료법인사과나무의료재단 중산사과나무치과병원</td>\n",
       "    </tr>\n",
       "    <tr>\n",
       "      <th>47</th>\n",
       "      <td>의료법인상록의료재단화정병원</td>\n",
       "    </tr>\n",
       "    <tr>\n",
       "      <th>48</th>\n",
       "      <td>의료법인성광의료재단일산차병원</td>\n",
       "    </tr>\n",
       "    <tr>\n",
       "      <th>49</th>\n",
       "      <td>의료법인에덴재단행복한요양병원</td>\n",
       "    </tr>\n",
       "    <tr>\n",
       "      <th>50</th>\n",
       "      <td>의료법인일산복음병원</td>\n",
       "    </tr>\n",
       "    <tr>\n",
       "      <th>51</th>\n",
       "      <td>의료법인자인의료재단자인메디병원</td>\n",
       "    </tr>\n",
       "    <tr>\n",
       "      <th>52</th>\n",
       "      <td>의료법인한영의료재단삼성요양병원</td>\n",
       "    </tr>\n",
       "    <tr>\n",
       "      <th>53</th>\n",
       "      <td>이푸른요양병원</td>\n",
       "    </tr>\n",
       "    <tr>\n",
       "      <th>54</th>\n",
       "      <td>인제대학교일산백병원</td>\n",
       "    </tr>\n",
       "    <tr>\n",
       "      <th>55</th>\n",
       "      <td>일산365한방병원</td>\n",
       "    </tr>\n",
       "    <tr>\n",
       "      <th>56</th>\n",
       "      <td>일산리더스요양병원</td>\n",
       "    </tr>\n",
       "    <tr>\n",
       "      <th>57</th>\n",
       "      <td>일산메디안요양병원</td>\n",
       "    </tr>\n",
       "    <tr>\n",
       "      <th>58</th>\n",
       "      <td>일산복음미래병원</td>\n",
       "    </tr>\n",
       "    <tr>\n",
       "      <th>59</th>\n",
       "      <td>일산사랑요양병원</td>\n",
       "    </tr>\n",
       "    <tr>\n",
       "      <th>60</th>\n",
       "      <td>일산아르고요양병원</td>\n",
       "    </tr>\n",
       "    <tr>\n",
       "      <th>61</th>\n",
       "      <td>일산이십일세기병원</td>\n",
       "    </tr>\n",
       "    <tr>\n",
       "      <th>62</th>\n",
       "      <td>일산자생한방병원</td>\n",
       "    </tr>\n",
       "    <tr>\n",
       "      <th>63</th>\n",
       "      <td>일산자애병원</td>\n",
       "    </tr>\n",
       "    <tr>\n",
       "      <th>64</th>\n",
       "      <td>일산중심재활병원</td>\n",
       "    </tr>\n",
       "    <tr>\n",
       "      <th>65</th>\n",
       "      <td>일산참사랑요양병원</td>\n",
       "    </tr>\n",
       "    <tr>\n",
       "      <th>66</th>\n",
       "      <td>일산하이병원</td>\n",
       "    </tr>\n",
       "    <tr>\n",
       "      <th>67</th>\n",
       "      <td>일산한울요양병원</td>\n",
       "    </tr>\n",
       "    <tr>\n",
       "      <th>68</th>\n",
       "      <td>일산현대요양병원</td>\n",
       "    </tr>\n",
       "    <tr>\n",
       "      <th>69</th>\n",
       "      <td>일산호수요양병원</td>\n",
       "    </tr>\n",
       "    <tr>\n",
       "      <th>70</th>\n",
       "      <td>자향요양병원</td>\n",
       "    </tr>\n",
       "    <tr>\n",
       "      <th>71</th>\n",
       "      <td>제이요양병원</td>\n",
       "    </tr>\n",
       "    <tr>\n",
       "      <th>72</th>\n",
       "      <td>차연한방병원</td>\n",
       "    </tr>\n",
       "    <tr>\n",
       "      <th>73</th>\n",
       "      <td>척사랑병원</td>\n",
       "    </tr>\n",
       "    <tr>\n",
       "      <th>74</th>\n",
       "      <td>카프성모병원</td>\n",
       "    </tr>\n",
       "    <tr>\n",
       "      <th>75</th>\n",
       "      <td>해븐리병원</td>\n",
       "    </tr>\n",
       "    <tr>\n",
       "      <th>76</th>\n",
       "      <td>허유재병원</td>\n",
       "    </tr>\n",
       "    <tr>\n",
       "      <th>77</th>\n",
       "      <td>활기찬병원</td>\n",
       "    </tr>\n",
       "    <tr>\n",
       "      <th>78</th>\n",
       "      <td>효그린요양병원</td>\n",
       "    </tr>\n",
       "    <tr>\n",
       "      <th>79</th>\n",
       "      <td>효림요양병원</td>\n",
       "    </tr>\n",
       "    <tr>\n",
       "      <th>80</th>\n",
       "      <td>과천 연세 치과병원</td>\n",
       "    </tr>\n",
       "    <tr>\n",
       "      <th>81</th>\n",
       "      <td>광명21세기병원</td>\n",
       "    </tr>\n",
       "    <tr>\n",
       "      <th>82</th>\n",
       "      <td>광명기대찬병원</td>\n",
       "    </tr>\n",
       "    <tr>\n",
       "      <th>83</th>\n",
       "      <td>광명면력한방병원</td>\n",
       "    </tr>\n",
       "    <tr>\n",
       "      <th>84</th>\n",
       "      <td>광명새움병원</td>\n",
       "    </tr>\n",
       "    <tr>\n",
       "      <th>85</th>\n",
       "      <td>광명성애병원</td>\n",
       "    </tr>\n",
       "    <tr>\n",
       "      <th>86</th>\n",
       "      <td>광명효요양병원</td>\n",
       "    </tr>\n",
       "    <tr>\n",
       "      <th>87</th>\n",
       "      <td>로하스광명요양병원</td>\n",
       "    </tr>\n",
       "    <tr>\n",
       "      <th>88</th>\n",
       "      <td>서울대효요양병원</td>\n",
       "    </tr>\n",
       "    <tr>\n",
       "      <th>89</th>\n",
       "      <td>아이원병원</td>\n",
       "    </tr>\n",
       "    <tr>\n",
       "      <th>90</th>\n",
       "      <td>예지원요양병원</td>\n",
       "    </tr>\n",
       "    <tr>\n",
       "      <th>91</th>\n",
       "      <td>중앙대학교광명병원</td>\n",
       "    </tr>\n",
       "    <tr>\n",
       "      <th>92</th>\n",
       "      <td>탑요양병원</td>\n",
       "    </tr>\n",
       "    <tr>\n",
       "      <th>93</th>\n",
       "      <td>강남제일요양병원</td>\n",
       "    </tr>\n",
       "    <tr>\n",
       "      <th>94</th>\n",
       "      <td>더플러스병원</td>\n",
       "    </tr>\n",
       "    <tr>\n",
       "      <th>95</th>\n",
       "      <td>선한빛요양병원</td>\n",
       "    </tr>\n",
       "    <tr>\n",
       "      <th>96</th>\n",
       "      <td>스마일디자인치과병원</td>\n",
       "    </tr>\n",
       "    <tr>\n",
       "      <th>97</th>\n",
       "      <td>에스알씨(SRC)노인전문병원</td>\n",
       "    </tr>\n",
       "    <tr>\n",
       "      <th>98</th>\n",
       "      <td>에스알씨(SRC)재활병원</td>\n",
       "    </tr>\n",
       "    <tr>\n",
       "      <th>99</th>\n",
       "      <td>위더스요양병원</td>\n",
       "    </tr>\n",
       "    <tr>\n",
       "      <th>100</th>\n",
       "      <td>참조은병원</td>\n",
       "    </tr>\n",
       "    <tr>\n",
       "      <th>101</th>\n",
       "      <td>한사랑요양병원</td>\n",
       "    </tr>\n",
       "    <tr>\n",
       "      <th>102</th>\n",
       "      <td>효천요양병원</td>\n",
       "    </tr>\n",
       "    <tr>\n",
       "      <th>103</th>\n",
       "      <td>구리한빛요양병원</td>\n",
       "    </tr>\n",
       "    <tr>\n",
       "      <th>104</th>\n",
       "      <td>구리효요양병원</td>\n",
       "    </tr>\n",
       "    <tr>\n",
       "      <th>105</th>\n",
       "      <td>국군구리병원</td>\n",
       "    </tr>\n",
       "    <tr>\n",
       "      <th>106</th>\n",
       "      <td>굿병원</td>\n",
       "    </tr>\n",
       "    <tr>\n",
       "      <th>107</th>\n",
       "      <td>리체한방병원</td>\n",
       "    </tr>\n",
       "    <tr>\n",
       "      <th>108</th>\n",
       "      <td>서울라이즈요양병원</td>\n",
       "    </tr>\n",
       "    <tr>\n",
       "      <th>109</th>\n",
       "      <td>연세마음병원</td>\n",
       "    </tr>\n",
       "    <tr>\n",
       "      <th>110</th>\n",
       "      <td>오케이참병원</td>\n",
       "    </tr>\n",
       "    <tr>\n",
       "      <th>111</th>\n",
       "      <td>윤서병원</td>\n",
       "    </tr>\n",
       "    <tr>\n",
       "      <th>112</th>\n",
       "      <td>율치한방병원</td>\n",
       "    </tr>\n",
       "    <tr>\n",
       "      <th>113</th>\n",
       "      <td>의료법인기상의료재단카이저병원</td>\n",
       "    </tr>\n",
       "    <tr>\n",
       "      <th>114</th>\n",
       "      <td>재단법인원진녹색병원</td>\n",
       "    </tr>\n",
       "    <tr>\n",
       "      <th>115</th>\n",
       "      <td>좋은아침병원</td>\n",
       "    </tr>\n",
       "    <tr>\n",
       "      <th>116</th>\n",
       "      <td>투재암요양병원</td>\n",
       "    </tr>\n",
       "    <tr>\n",
       "      <th>117</th>\n",
       "      <td>한양대학교구리병원</td>\n",
       "    </tr>\n",
       "    <tr>\n",
       "      <th>118</th>\n",
       "      <td>행복한외과병원</td>\n",
       "    </tr>\n",
       "    <tr>\n",
       "      <th>119</th>\n",
       "      <td>군포성모병원</td>\n",
       "    </tr>\n",
       "    <tr>\n",
       "      <th>120</th>\n",
       "      <td>군포참요양병원</td>\n",
       "    </tr>\n",
       "    <tr>\n",
       "      <th>121</th>\n",
       "      <td>남천병원</td>\n",
       "    </tr>\n",
       "    <tr>\n",
       "      <th>122</th>\n",
       "      <td>미라클요양병원</td>\n",
       "    </tr>\n",
       "    <tr>\n",
       "      <th>123</th>\n",
       "      <td>사랑애요양병원</td>\n",
       "    </tr>\n",
       "    <tr>\n",
       "      <th>124</th>\n",
       "      <td>산본제일병원</td>\n",
       "    </tr>\n",
       "    <tr>\n",
       "      <th>125</th>\n",
       "      <td>삼경요양병원</td>\n",
       "    </tr>\n",
       "    <tr>\n",
       "      <th>126</th>\n",
       "      <td>원광대학교 산본병원</td>\n",
       "    </tr>\n",
       "    <tr>\n",
       "      <th>127</th>\n",
       "      <td>원광대학교치과대학산본치과병원</td>\n",
       "    </tr>\n",
       "    <tr>\n",
       "      <th>128</th>\n",
       "      <td>윈치과병원</td>\n",
       "    </tr>\n",
       "    <tr>\n",
       "      <th>129</th>\n",
       "      <td>의료법인 두현의료재단 그로스요양병원</td>\n",
       "    </tr>\n",
       "    <tr>\n",
       "      <th>130</th>\n",
       "      <td>의료법인 희망나눔의료재단 휴성심요양병원</td>\n",
       "    </tr>\n",
       "    <tr>\n",
       "      <th>131</th>\n",
       "      <td>효산의료재단 지샘병원</td>\n",
       "    </tr>\n",
       "    <tr>\n",
       "      <th>132</th>\n",
       "      <td>가자연세병원</td>\n",
       "    </tr>\n",
       "    <tr>\n",
       "      <th>133</th>\n",
       "      <td>김포경희25병원</td>\n",
       "    </tr>\n",
       "    <tr>\n",
       "      <th>134</th>\n",
       "      <td>김포다올요양병원</td>\n",
       "    </tr>\n",
       "    <tr>\n",
       "      <th>135</th>\n",
       "      <td>김포다은병원</td>\n",
       "    </tr>\n",
       "    <tr>\n",
       "      <th>136</th>\n",
       "      <td>김포다조은병원</td>\n",
       "    </tr>\n",
       "    <tr>\n",
       "      <th>137</th>\n",
       "      <td>김포보배한방병원</td>\n",
       "    </tr>\n",
       "    <tr>\n",
       "      <th>138</th>\n",
       "      <td>김포봄한방병원</td>\n",
       "    </tr>\n",
       "    <tr>\n",
       "      <th>139</th>\n",
       "      <td>김포아이제일병원</td>\n",
       "    </tr>\n",
       "    <tr>\n",
       "      <th>140</th>\n",
       "      <td>김포에이치(H)병원</td>\n",
       "    </tr>\n",
       "    <tr>\n",
       "      <th>141</th>\n",
       "      <td>김포예사랑병원</td>\n",
       "    </tr>\n",
       "    <tr>\n",
       "      <th>142</th>\n",
       "      <td>김포요양병원</td>\n",
       "    </tr>\n",
       "    <tr>\n",
       "      <th>143</th>\n",
       "      <td>김포한누리병원</td>\n",
       "    </tr>\n",
       "    <tr>\n",
       "      <th>144</th>\n",
       "      <td>나리여성병원</td>\n",
       "    </tr>\n",
       "    <tr>\n",
       "      <th>145</th>\n",
       "      <td>마디척병원</td>\n",
       "    </tr>\n",
       "    <tr>\n",
       "      <th>146</th>\n",
       "      <td>새빛한방병원</td>\n",
       "    </tr>\n",
       "    <tr>\n",
       "      <th>147</th>\n",
       "      <td>서울여성병원</td>\n",
       "    </tr>\n",
       "    <tr>\n",
       "      <th>148</th>\n",
       "      <td>세인트힐요양병원</td>\n",
       "    </tr>\n",
       "    <tr>\n",
       "      <th>149</th>\n",
       "      <td>아너스힐병원</td>\n",
       "    </tr>\n",
       "    <tr>\n",
       "      <th>150</th>\n",
       "      <td>연세더바른병원</td>\n",
       "    </tr>\n",
       "    <tr>\n",
       "      <th>151</th>\n",
       "      <td>연세유병원</td>\n",
       "    </tr>\n",
       "    <tr>\n",
       "      <th>152</th>\n",
       "      <td>연세하나병원</td>\n",
       "    </tr>\n",
       "    <tr>\n",
       "      <th>153</th>\n",
       "      <td>유앤제이병원</td>\n",
       "    </tr>\n",
       "    <tr>\n",
       "      <th>154</th>\n",
       "      <td>의료법인동행의료재단보리수요양병원</td>\n",
       "    </tr>\n",
       "    <tr>\n",
       "      <th>155</th>\n",
       "      <td>의료법인보성의료재단휘담메디김포한방병원</td>\n",
       "    </tr>\n",
       "    <tr>\n",
       "      <th>156</th>\n",
       "      <td>의료법인우리의료재단김포우리병원</td>\n",
       "    </tr>\n",
       "    <tr>\n",
       "      <th>157</th>\n",
       "      <td>의료법인인봉의료재단뉴고려병원</td>\n",
       "    </tr>\n",
       "    <tr>\n",
       "      <th>158</th>\n",
       "      <td>의료법인휘담메디의료재단하성한방병원</td>\n",
       "    </tr>\n",
       "    <tr>\n",
       "      <th>159</th>\n",
       "      <td>정근한방병원</td>\n",
       "    </tr>\n",
       "    <tr>\n",
       "      <th>160</th>\n",
       "      <td>춘의생한방병원</td>\n",
       "    </tr>\n",
       "    <tr>\n",
       "      <th>161</th>\n",
       "      <td>한강아이제일병원</td>\n",
       "    </tr>\n",
       "    <tr>\n",
       "      <th>162</th>\n",
       "      <td>한강연세병원</td>\n",
       "    </tr>\n",
       "    <tr>\n",
       "      <th>163</th>\n",
       "      <td>한강요양병원</td>\n",
       "    </tr>\n",
       "    <tr>\n",
       "      <th>164</th>\n",
       "      <td>한별정신건강병원</td>\n",
       "    </tr>\n",
       "    <tr>\n",
       "      <th>165</th>\n",
       "      <td>히즈메디병원</td>\n",
       "    </tr>\n",
       "    <tr>\n",
       "      <th>166</th>\n",
       "      <td>경기도립노인전문남양주병원</td>\n",
       "    </tr>\n",
       "    <tr>\n",
       "      <th>167</th>\n",
       "      <td>국민병원</td>\n",
       "    </tr>\n",
       "    <tr>\n",
       "      <th>168</th>\n",
       "      <td>남양주 한양병원</td>\n",
       "    </tr>\n",
       "    <tr>\n",
       "      <th>169</th>\n",
       "      <td>남양주21세기병원</td>\n",
       "    </tr>\n",
       "    <tr>\n",
       "      <th>170</th>\n",
       "      <td>남양주경희한방병원</td>\n",
       "    </tr>\n",
       "    <tr>\n",
       "      <th>171</th>\n",
       "      <td>남양주나눔병원</td>\n",
       "    </tr>\n",
       "    <tr>\n",
       "      <th>172</th>\n",
       "      <td>남양주나무요양병원</td>\n",
       "    </tr>\n",
       "    <tr>\n",
       "      <th>173</th>\n",
       "      <td>남양주백병원</td>\n",
       "    </tr>\n",
       "    <tr>\n",
       "      <th>174</th>\n",
       "      <td>남양주정드림노인전문병원</td>\n",
       "    </tr>\n",
       "    <tr>\n",
       "      <th>175</th>\n",
       "      <td>누네안과병원</td>\n",
       "    </tr>\n",
       "    <tr>\n",
       "      <th>176</th>\n",
       "      <td>다산의료소비자생활협동조합정석소아청소년과병원</td>\n",
       "    </tr>\n",
       "    <tr>\n",
       "      <th>177</th>\n",
       "      <td>다산하나한방병원</td>\n",
       "    </tr>\n",
       "    <tr>\n",
       "      <th>178</th>\n",
       "      <td>마석기독요양병원</td>\n",
       "    </tr>\n",
       "    <tr>\n",
       "      <th>179</th>\n",
       "      <td>매그너스요양병원</td>\n",
       "    </tr>\n",
       "    <tr>\n",
       "      <th>180</th>\n",
       "      <td>별내요양병원</td>\n",
       "    </tr>\n",
       "    <tr>\n",
       "      <th>181</th>\n",
       "      <td>비오람요양병원</td>\n",
       "    </tr>\n",
       "    <tr>\n",
       "      <th>182</th>\n",
       "      <td>삼성바른병원</td>\n",
       "    </tr>\n",
       "    <tr>\n",
       "      <th>183</th>\n",
       "      <td>새봄요양병원</td>\n",
       "    </tr>\n",
       "    <tr>\n",
       "      <th>184</th>\n",
       "      <td>서울특별시축령정신병원</td>\n",
       "    </tr>\n",
       "    <tr>\n",
       "      <th>185</th>\n",
       "      <td>수동연세요양병원</td>\n",
       "    </tr>\n",
       "    <tr>\n",
       "      <th>186</th>\n",
       "      <td>실버힐스병원</td>\n",
       "    </tr>\n",
       "    <tr>\n",
       "      <th>187</th>\n",
       "      <td>아이맘어린이병원</td>\n",
       "    </tr>\n",
       "    <tr>\n",
       "      <th>188</th>\n",
       "      <td>양병원</td>\n",
       "    </tr>\n",
       "    <tr>\n",
       "      <th>189</th>\n",
       "      <td>에덴요양병원</td>\n",
       "    </tr>\n",
       "    <tr>\n",
       "      <th>190</th>\n",
       "      <td>에이스병원</td>\n",
       "    </tr>\n",
       "    <tr>\n",
       "      <th>191</th>\n",
       "      <td>엘병원</td>\n",
       "    </tr>\n",
       "    <tr>\n",
       "      <th>192</th>\n",
       "      <td>온세병원</td>\n",
       "    </tr>\n",
       "    <tr>\n",
       "      <th>193</th>\n",
       "      <td>원병원</td>\n",
       "    </tr>\n",
       "    <tr>\n",
       "      <th>194</th>\n",
       "      <td>의료법인다원의료재단 진접제일요양병원</td>\n",
       "    </tr>\n",
       "    <tr>\n",
       "      <th>195</th>\n",
       "      <td>의료법인혜수의료재단베리굿병원</td>\n",
       "    </tr>\n",
       "    <tr>\n",
       "      <th>196</th>\n",
       "      <td>진접 한양병원</td>\n",
       "    </tr>\n",
       "    <tr>\n",
       "      <th>197</th>\n",
       "      <td>축령복음병원</td>\n",
       "    </tr>\n",
       "    <tr>\n",
       "      <th>198</th>\n",
       "      <td>퇴계원 서울요양병원</td>\n",
       "    </tr>\n",
       "    <tr>\n",
       "      <th>199</th>\n",
       "      <td>필립요양병원</td>\n",
       "    </tr>\n",
       "    <tr>\n",
       "      <th>200</th>\n",
       "      <td>하나소아청소년과병원</td>\n",
       "    </tr>\n",
       "    <tr>\n",
       "      <th>201</th>\n",
       "      <td>한가온한방병원</td>\n",
       "    </tr>\n",
       "    <tr>\n",
       "      <th>202</th>\n",
       "      <td>한누리요양병원</td>\n",
       "    </tr>\n",
       "    <tr>\n",
       "      <th>203</th>\n",
       "      <td>햇살요양병원</td>\n",
       "    </tr>\n",
       "    <tr>\n",
       "      <th>204</th>\n",
       "      <td>현대병원</td>\n",
       "    </tr>\n",
       "    <tr>\n",
       "      <th>205</th>\n",
       "      <td>호평요양병원</td>\n",
       "    </tr>\n",
       "    <tr>\n",
       "      <th>206</th>\n",
       "      <td>휴메디병원</td>\n",
       "    </tr>\n",
       "    <tr>\n",
       "      <th>207</th>\n",
       "      <td>경기도립노인전문동두천병원</td>\n",
       "    </tr>\n",
       "    <tr>\n",
       "      <th>208</th>\n",
       "      <td>동두천제일요양병원</td>\n",
       "    </tr>\n",
       "    <tr>\n",
       "      <th>209</th>\n",
       "      <td>동두천중앙성모병원</td>\n",
       "    </tr>\n",
       "    <tr>\n",
       "      <th>210</th>\n",
       "      <td>동원노인전문병원</td>\n",
       "    </tr>\n",
       "    <tr>\n",
       "      <th>211</th>\n",
       "      <td>동원병원</td>\n",
       "    </tr>\n",
       "    <tr>\n",
       "      <th>212</th>\n",
       "      <td>로젠요양병원</td>\n",
       "    </tr>\n",
       "    <tr>\n",
       "      <th>213</th>\n",
       "      <td>로하스요양병원</td>\n",
       "    </tr>\n",
       "    <tr>\n",
       "      <th>214</th>\n",
       "      <td>서울요양병원</td>\n",
       "    </tr>\n",
       "    <tr>\n",
       "      <th>215</th>\n",
       "      <td>성지요양병원</td>\n",
       "    </tr>\n",
       "    <tr>\n",
       "      <th>216</th>\n",
       "      <td>우리들요양병원</td>\n",
       "    </tr>\n",
       "    <tr>\n",
       "      <th>217</th>\n",
       "      <td>(재)대성재단 대성제일요양병원</td>\n",
       "    </tr>\n",
       "    <tr>\n",
       "      <th>218</th>\n",
       "      <td>가은병원</td>\n",
       "    </tr>\n",
       "    <tr>\n",
       "      <th>219</th>\n",
       "      <td>가톨릭대학교부천성모병원</td>\n",
       "    </tr>\n",
       "    <tr>\n",
       "      <th>220</th>\n",
       "      <td>건주병원</td>\n",
       "    </tr>\n",
       "    <tr>\n",
       "      <th>221</th>\n",
       "      <td>경기요양병원</td>\n",
       "    </tr>\n",
       "    <tr>\n",
       "      <th>222</th>\n",
       "      <td>고려수재활요양병원</td>\n",
       "    </tr>\n",
       "    <tr>\n",
       "      <th>223</th>\n",
       "      <td>고운여성병원</td>\n",
       "    </tr>\n",
       "    <tr>\n",
       "      <th>224</th>\n",
       "      <td>다솜요양병원</td>\n",
       "    </tr>\n",
       "    <tr>\n",
       "      <th>225</th>\n",
       "      <td>다온요양병원</td>\n",
       "    </tr>\n",
       "    <tr>\n",
       "      <th>226</th>\n",
       "      <td>더블유진병원</td>\n",
       "    </tr>\n",
       "    <tr>\n",
       "      <th>227</th>\n",
       "      <td>더편한소사요양병원</td>\n",
       "    </tr>\n",
       "    <tr>\n",
       "      <th>228</th>\n",
       "      <td>도담한방병원</td>\n",
       "    </tr>\n",
       "    <tr>\n",
       "      <th>229</th>\n",
       "      <td>디딤병원</td>\n",
       "    </tr>\n",
       "    <tr>\n",
       "      <th>230</th>\n",
       "      <td>루카스병원</td>\n",
       "    </tr>\n",
       "    <tr>\n",
       "      <th>231</th>\n",
       "      <td>메르덴치과병원</td>\n",
       "    </tr>\n",
       "    <tr>\n",
       "      <th>232</th>\n",
       "      <td>메이플요양병원</td>\n",
       "    </tr>\n",
       "    <tr>\n",
       "      <th>233</th>\n",
       "      <td>바오로요양병원</td>\n",
       "    </tr>\n",
       "    <tr>\n",
       "      <th>234</th>\n",
       "      <td>백구당찬한방병원</td>\n",
       "    </tr>\n",
       "    <tr>\n",
       "      <th>235</th>\n",
       "      <td>보성요양병원</td>\n",
       "    </tr>\n",
       "    <tr>\n",
       "      <th>236</th>\n",
       "      <td>본새울병원</td>\n",
       "    </tr>\n",
       "    <tr>\n",
       "      <th>237</th>\n",
       "      <td>부천21세기병원</td>\n",
       "    </tr>\n",
       "    <tr>\n",
       "      <th>238</th>\n",
       "      <td>부천대성병원</td>\n",
       "    </tr>\n",
       "    <tr>\n",
       "      <th>239</th>\n",
       "      <td>부천면력한방병원</td>\n",
       "    </tr>\n",
       "    <tr>\n",
       "      <th>240</th>\n",
       "      <td>부천미소요양병원</td>\n",
       "    </tr>\n",
       "    <tr>\n",
       "      <th>241</th>\n",
       "      <td>부천바른솔한방병원</td>\n",
       "    </tr>\n",
       "    <tr>\n",
       "      <th>242</th>\n",
       "      <td>부천사랑병원</td>\n",
       "    </tr>\n",
       "    <tr>\n",
       "      <th>243</th>\n",
       "      <td>부천삼성요양병원</td>\n",
       "    </tr>\n",
       "    <tr>\n",
       "      <th>244</th>\n",
       "      <td>부천서울어린이병원</td>\n",
       "    </tr>\n",
       "    <tr>\n",
       "      <th>245</th>\n",
       "      <td>부천세종병원</td>\n",
       "    </tr>\n",
       "    <tr>\n",
       "      <th>246</th>\n",
       "      <td>부천수림한방병원</td>\n",
       "    </tr>\n",
       "    <tr>\n",
       "      <th>247</th>\n",
       "      <td>부천시립노인전문병원</td>\n",
       "    </tr>\n",
       "    <tr>\n",
       "      <th>248</th>\n",
       "      <td>부천요양병원</td>\n",
       "    </tr>\n",
       "    <tr>\n",
       "      <th>249</th>\n",
       "      <td>부천우리병원</td>\n",
       "    </tr>\n",
       "    <tr>\n",
       "      <th>250</th>\n",
       "      <td>부천자생한방병원</td>\n",
       "    </tr>\n",
       "    <tr>\n",
       "      <th>251</th>\n",
       "      <td>부천제일요양병원</td>\n",
       "    </tr>\n",
       "    <tr>\n",
       "      <th>252</th>\n",
       "      <td>부천중앙병원</td>\n",
       "    </tr>\n",
       "    <tr>\n",
       "      <th>253</th>\n",
       "      <td>부천한방병원</td>\n",
       "    </tr>\n",
       "    <tr>\n",
       "      <th>254</th>\n",
       "      <td>부천한병원</td>\n",
       "    </tr>\n",
       "    <tr>\n",
       "      <th>255</th>\n",
       "      <td>사과나무치과병원</td>\n",
       "    </tr>\n",
       "    <tr>\n",
       "      <th>256</th>\n",
       "      <td>사단법인누가참빛병원</td>\n",
       "    </tr>\n",
       "    <tr>\n",
       "      <th>257</th>\n",
       "      <td>상동서울한방병원</td>\n",
       "    </tr>\n",
       "    <tr>\n",
       "      <th>258</th>\n",
       "      <td>생생병원</td>\n",
       "    </tr>\n",
       "    <tr>\n",
       "      <th>259</th>\n",
       "      <td>서울여성병원</td>\n",
       "    </tr>\n",
       "    <tr>\n",
       "      <th>260</th>\n",
       "      <td>순천향대학교부속부천병원</td>\n",
       "    </tr>\n",
       "    <tr>\n",
       "      <th>261</th>\n",
       "      <td>스마튼병원</td>\n",
       "    </tr>\n",
       "    <tr>\n",
       "      <th>262</th>\n",
       "      <td>약대한방병원</td>\n",
       "    </tr>\n",
       "    <tr>\n",
       "      <th>263</th>\n",
       "      <td>엘드림병원</td>\n",
       "    </tr>\n",
       "    <tr>\n",
       "      <th>264</th>\n",
       "      <td>연세본사랑병원</td>\n",
       "    </tr>\n",
       "    <tr>\n",
       "      <th>265</th>\n",
       "      <td>연세제일병원</td>\n",
       "    </tr>\n",
       "    <tr>\n",
       "      <th>266</th>\n",
       "      <td>예손병원</td>\n",
       "    </tr>\n",
       "    <tr>\n",
       "      <th>267</th>\n",
       "      <td>오정본병원</td>\n",
       "    </tr>\n",
       "    <tr>\n",
       "      <th>268</th>\n",
       "      <td>의료법인대인의료재단 다니엘종합병원</td>\n",
       "    </tr>\n",
       "    <tr>\n",
       "      <th>269</th>\n",
       "      <td>의료법인운천의료재단메디홀스요양병원</td>\n",
       "    </tr>\n",
       "    <tr>\n",
       "      <th>270</th>\n",
       "      <td>의료법인의향의료재단그린한방병원</td>\n",
       "    </tr>\n",
       "    <tr>\n",
       "      <th>271</th>\n",
       "      <td>이룸병원</td>\n",
       "    </tr>\n",
       "    <tr>\n",
       "      <th>272</th>\n",
       "      <td>이안치과병원</td>\n",
       "    </tr>\n",
       "    <tr>\n",
       "      <th>273</th>\n",
       "      <td>인본병원</td>\n",
       "    </tr>\n",
       "    <tr>\n",
       "      <th>274</th>\n",
       "      <td>일로한방병원</td>\n",
       "    </tr>\n",
       "    <tr>\n",
       "      <th>275</th>\n",
       "      <td>재단법인대성재단디에스병원</td>\n",
       "    </tr>\n",
       "    <tr>\n",
       "      <th>276</th>\n",
       "      <td>진병원</td>\n",
       "    </tr>\n",
       "    <tr>\n",
       "      <th>277</th>\n",
       "      <td>차오름한방병원</td>\n",
       "    </tr>\n",
       "    <tr>\n",
       "      <th>278</th>\n",
       "      <td>초앤유여성병원</td>\n",
       "    </tr>\n",
       "    <tr>\n",
       "      <th>279</th>\n",
       "      <td>큰사랑요양병원</td>\n",
       "    </tr>\n",
       "    <tr>\n",
       "      <th>280</th>\n",
       "      <td>평강치과병원</td>\n",
       "    </tr>\n",
       "    <tr>\n",
       "      <th>281</th>\n",
       "      <td>프라임요양병원</td>\n",
       "    </tr>\n",
       "    <tr>\n",
       "      <th>282</th>\n",
       "      <td>하이병원</td>\n",
       "    </tr>\n",
       "    <tr>\n",
       "      <th>283</th>\n",
       "      <td>한우리요양병원</td>\n",
       "    </tr>\n",
       "    <tr>\n",
       "      <th>284</th>\n",
       "      <td>한중한방병원</td>\n",
       "    </tr>\n",
       "    <tr>\n",
       "      <th>285</th>\n",
       "      <td>현병원</td>\n",
       "    </tr>\n",
       "    <tr>\n",
       "      <th>286</th>\n",
       "      <td>휴앤유병원</td>\n",
       "    </tr>\n",
       "    <tr>\n",
       "      <th>287</th>\n",
       "      <td>(학교법인)동국대학교 한의과대학 분당한방병원</td>\n",
       "    </tr>\n",
       "    <tr>\n",
       "      <th>288</th>\n",
       "      <td>경희다원한방병원</td>\n",
       "    </tr>\n",
       "    <tr>\n",
       "      <th>289</th>\n",
       "      <td>경희위례한방병원</td>\n",
       "    </tr>\n",
       "    <tr>\n",
       "      <th>290</th>\n",
       "      <td>곽여성병원</td>\n",
       "    </tr>\n",
       "    <tr>\n",
       "      <th>291</th>\n",
       "      <td>국군수도병원</td>\n",
       "    </tr>\n",
       "    <tr>\n",
       "      <th>292</th>\n",
       "      <td>국군수도치과병원</td>\n",
       "    </tr>\n",
       "    <tr>\n",
       "      <th>293</th>\n",
       "      <td>대진의료재단 분당제생병원</td>\n",
       "    </tr>\n",
       "    <tr>\n",
       "      <th>294</th>\n",
       "      <td>드라마치과병원</td>\n",
       "    </tr>\n",
       "    <tr>\n",
       "      <th>295</th>\n",
       "      <td>라온힐요양병원</td>\n",
       "    </tr>\n",
       "    <tr>\n",
       "      <th>296</th>\n",
       "      <td>바른마디병원</td>\n",
       "    </tr>\n",
       "    <tr>\n",
       "      <th>297</th>\n",
       "      <td>바른세상병원</td>\n",
       "    </tr>\n",
       "    <tr>\n",
       "      <th>298</th>\n",
       "      <td>밸런스치과병원</td>\n",
       "    </tr>\n",
       "    <tr>\n",
       "      <th>299</th>\n",
       "      <td>보바스기념병원</td>\n",
       "    </tr>\n",
       "    <tr>\n",
       "      <th>300</th>\n",
       "      <td>분당러스크재활병원</td>\n",
       "    </tr>\n",
       "    <tr>\n",
       "      <th>301</th>\n",
       "      <td>분당베스트병원</td>\n",
       "    </tr>\n",
       "    <tr>\n",
       "      <th>302</th>\n",
       "      <td>분당서울대학교병원</td>\n",
       "    </tr>\n",
       "    <tr>\n",
       "      <th>303</th>\n",
       "      <td>분당센트럴요양병원</td>\n",
       "    </tr>\n",
       "    <tr>\n",
       "      <th>304</th>\n",
       "      <td>분당수요양병원</td>\n",
       "    </tr>\n",
       "    <tr>\n",
       "      <th>305</th>\n",
       "      <td>분당연세요양병원</td>\n",
       "    </tr>\n",
       "    <tr>\n",
       "      <th>306</th>\n",
       "      <td>분당예치과병원</td>\n",
       "    </tr>\n",
       "    <tr>\n",
       "      <th>307</th>\n",
       "      <td>분당자생한방병원</td>\n",
       "    </tr>\n",
       "    <tr>\n",
       "      <th>308</th>\n",
       "      <td>분당제일여성병원</td>\n",
       "    </tr>\n",
       "    <tr>\n",
       "      <th>309</th>\n",
       "      <td>분당척병원</td>\n",
       "    </tr>\n",
       "    <tr>\n",
       "      <th>310</th>\n",
       "      <td>분당포레스트한방병원</td>\n",
       "    </tr>\n",
       "    <tr>\n",
       "      <th>311</th>\n",
       "      <td>사랑의병원</td>\n",
       "    </tr>\n",
       "    <tr>\n",
       "      <th>312</th>\n",
       "      <td>서울나우병원</td>\n",
       "    </tr>\n",
       "    <tr>\n",
       "      <th>313</th>\n",
       "      <td>성남사랑의병원</td>\n",
       "    </tr>\n",
       "    <tr>\n",
       "      <th>314</th>\n",
       "      <td>성남시의료원</td>\n",
       "    </tr>\n",
       "    <tr>\n",
       "      <th>315</th>\n",
       "      <td>성남예치과병원</td>\n",
       "    </tr>\n",
       "    <tr>\n",
       "      <th>316</th>\n",
       "      <td>성남요양병원</td>\n",
       "    </tr>\n",
       "    <tr>\n",
       "      <th>317</th>\n",
       "      <td>성남제일한방병원</td>\n",
       "    </tr>\n",
       "    <tr>\n",
       "      <th>318</th>\n",
       "      <td>성남중앙병원</td>\n",
       "    </tr>\n",
       "    <tr>\n",
       "      <th>319</th>\n",
       "      <td>성모요양병원</td>\n",
       "    </tr>\n",
       "    <tr>\n",
       "      <th>320</th>\n",
       "      <td>성모윌병원</td>\n",
       "    </tr>\n",
       "    <tr>\n",
       "      <th>321</th>\n",
       "      <td>성신한방병원</td>\n",
       "    </tr>\n",
       "    <tr>\n",
       "      <th>322</th>\n",
       "      <td>송병재한방병원</td>\n",
       "    </tr>\n",
       "    <tr>\n",
       "      <th>323</th>\n",
       "      <td>순천의료재단 성남정병원</td>\n",
       "    </tr>\n",
       "    <tr>\n",
       "      <th>324</th>\n",
       "      <td>연세스타병원</td>\n",
       "    </tr>\n",
       "    <tr>\n",
       "      <th>325</th>\n",
       "      <td>우리효사랑요양병원</td>\n",
       "    </tr>\n",
       "    <tr>\n",
       "      <th>326</th>\n",
       "      <td>위례바이오요양병원</td>\n",
       "    </tr>\n",
       "    <tr>\n",
       "      <th>327</th>\n",
       "      <td>위례서울닥터스요양병원</td>\n",
       "    </tr>\n",
       "    <tr>\n",
       "      <th>328</th>\n",
       "      <td>위례서울치과병원</td>\n",
       "    </tr>\n",
       "    <tr>\n",
       "      <th>329</th>\n",
       "      <td>위례센트럴요양병원</td>\n",
       "    </tr>\n",
       "    <tr>\n",
       "      <th>330</th>\n",
       "      <td>위례스마트요양병원</td>\n",
       "    </tr>\n",
       "    <tr>\n",
       "      <th>331</th>\n",
       "      <td>위례재활의학과병원</td>\n",
       "    </tr>\n",
       "    <tr>\n",
       "      <th>332</th>\n",
       "      <td>으뜸병원</td>\n",
       "    </tr>\n",
       "    <tr>\n",
       "      <th>333</th>\n",
       "      <td>의료법인 본플러스재단 분당병원</td>\n",
       "    </tr>\n",
       "    <tr>\n",
       "      <th>334</th>\n",
       "      <td>의료법인 신창의료재단 분당에이치병원</td>\n",
       "    </tr>\n",
       "    <tr>\n",
       "      <th>335</th>\n",
       "      <td>좋은이웃요양병원</td>\n",
       "    </tr>\n",
       "    <tr>\n",
       "      <th>336</th>\n",
       "      <td>지우병원</td>\n",
       "    </tr>\n",
       "    <tr>\n",
       "      <th>337</th>\n",
       "      <td>차의과학대학교분당차병원</td>\n",
       "    </tr>\n",
       "    <tr>\n",
       "      <th>338</th>\n",
       "      <td>카리스요양병원</td>\n",
       "    </tr>\n",
       "    <tr>\n",
       "      <th>339</th>\n",
       "      <td>파티마 요양병원</td>\n",
       "    </tr>\n",
       "    <tr>\n",
       "      <th>340</th>\n",
       "      <td>형치과병원</td>\n",
       "    </tr>\n",
       "    <tr>\n",
       "      <th>341</th>\n",
       "      <td>휴엔병원</td>\n",
       "    </tr>\n",
       "    <tr>\n",
       "      <th>342</th>\n",
       "      <td>가톨릭대학교 성빈센트병원</td>\n",
       "    </tr>\n",
       "    <tr>\n",
       "      <th>343</th>\n",
       "      <td>강남여성병원</td>\n",
       "    </tr>\n",
       "    <tr>\n",
       "      <th>344</th>\n",
       "      <td>경기도의료원 수원병원</td>\n",
       "    </tr>\n",
       "    <tr>\n",
       "      <th>345</th>\n",
       "      <td>경희수원한방병원</td>\n",
       "    </tr>\n",
       "    <tr>\n",
       "      <th>346</th>\n",
       "      <td>광교365리움치과병원</td>\n",
       "    </tr>\n",
       "    <tr>\n",
       "      <th>347</th>\n",
       "      <td>김찬병원</td>\n",
       "    </tr>\n",
       "    <tr>\n",
       "      <th>348</th>\n",
       "      <td>나누리수원병원</td>\n",
       "    </tr>\n",
       "    <tr>\n",
       "      <th>349</th>\n",
       "      <td>다인병원</td>\n",
       "    </tr>\n",
       "    <tr>\n",
       "      <th>350</th>\n",
       "      <td>더웰병원</td>\n",
       "    </tr>\n",
       "    <tr>\n",
       "      <th>351</th>\n",
       "      <td>동서요양병원</td>\n",
       "    </tr>\n",
       "    <tr>\n",
       "      <th>352</th>\n",
       "      <td>리더스도준한방병원</td>\n",
       "    </tr>\n",
       "    <tr>\n",
       "      <th>353</th>\n",
       "      <td>메디움수원요양병원</td>\n",
       "    </tr>\n",
       "    <tr>\n",
       "      <th>354</th>\n",
       "      <td>메이저요양병원</td>\n",
       "    </tr>\n",
       "    <tr>\n",
       "      <th>355</th>\n",
       "      <td>모아치과병원</td>\n",
       "    </tr>\n",
       "    <tr>\n",
       "      <th>356</th>\n",
       "      <td>미래한방병원</td>\n",
       "    </tr>\n",
       "    <tr>\n",
       "      <th>357</th>\n",
       "      <td>바로본병원</td>\n",
       "    </tr>\n",
       "    <tr>\n",
       "      <th>358</th>\n",
       "      <td>반듯한방병원</td>\n",
       "    </tr>\n",
       "    <tr>\n",
       "      <th>359</th>\n",
       "      <td>백성병원</td>\n",
       "    </tr>\n",
       "    <tr>\n",
       "      <th>360</th>\n",
       "      <td>버팀병원</td>\n",
       "    </tr>\n",
       "    <tr>\n",
       "      <th>361</th>\n",
       "      <td>베데스다병원</td>\n",
       "    </tr>\n",
       "    <tr>\n",
       "      <th>362</th>\n",
       "      <td>삼성큰병원</td>\n",
       "    </tr>\n",
       "    <tr>\n",
       "      <th>363</th>\n",
       "      <td>서울삼성호매실요양병원</td>\n",
       "    </tr>\n",
       "    <tr>\n",
       "      <th>364</th>\n",
       "      <td>서울성모안과병원</td>\n",
       "    </tr>\n",
       "    <tr>\n",
       "      <th>365</th>\n",
       "      <td>성모척관병원</td>\n",
       "    </tr>\n",
       "    <tr>\n",
       "      <th>366</th>\n",
       "      <td>세인트마리여성병원</td>\n",
       "    </tr>\n",
       "    <tr>\n",
       "      <th>367</th>\n",
       "      <td>수병원</td>\n",
       "    </tr>\n",
       "    <tr>\n",
       "      <th>368</th>\n",
       "      <td>수여성병원</td>\n",
       "    </tr>\n",
       "    <tr>\n",
       "      <th>369</th>\n",
       "      <td>수원다나음한방병원</td>\n",
       "    </tr>\n",
       "    <tr>\n",
       "      <th>370</th>\n",
       "      <td>수원모커리한방병원</td>\n",
       "    </tr>\n",
       "    <tr>\n",
       "      <th>371</th>\n",
       "      <td>수원브이아이피요양병원</td>\n",
       "    </tr>\n",
       "    <tr>\n",
       "      <th>372</th>\n",
       "      <td>수원삼성요양병원</td>\n",
       "    </tr>\n",
       "    <tr>\n",
       "      <th>373</th>\n",
       "      <td>수원센트럴요양병원</td>\n",
       "    </tr>\n",
       "    <tr>\n",
       "      <th>374</th>\n",
       "      <td>수원요양병원</td>\n",
       "    </tr>\n",
       "    <tr>\n",
       "      <th>375</th>\n",
       "      <td>수원우노병원</td>\n",
       "    </tr>\n",
       "    <tr>\n",
       "      <th>376</th>\n",
       "      <td>수원자생한방병원</td>\n",
       "    </tr>\n",
       "    <tr>\n",
       "      <th>377</th>\n",
       "      <td>수원중앙병원</td>\n",
       "    </tr>\n",
       "    <tr>\n",
       "      <th>378</th>\n",
       "      <td>수원하나요양병원</td>\n",
       "    </tr>\n",
       "    <tr>\n",
       "      <th>379</th>\n",
       "      <td>수원행복한요양병원</td>\n",
       "    </tr>\n",
       "    <tr>\n",
       "      <th>380</th>\n",
       "      <td>수원효요양병원</td>\n",
       "    </tr>\n",
       "    <tr>\n",
       "      <th>381</th>\n",
       "      <td>쉬즈메디병원</td>\n",
       "    </tr>\n",
       "    <tr>\n",
       "      <th>382</th>\n",
       "      <td>시온여성병원</td>\n",
       "    </tr>\n",
       "    <tr>\n",
       "      <th>383</th>\n",
       "      <td>아주다남병원</td>\n",
       "    </tr>\n",
       "    <tr>\n",
       "      <th>384</th>\n",
       "      <td>아주대학교병원</td>\n",
       "    </tr>\n",
       "    <tr>\n",
       "      <th>385</th>\n",
       "      <td>아주편한병원</td>\n",
       "    </tr>\n",
       "    <tr>\n",
       "      <th>386</th>\n",
       "      <td>에덴메디여성병원</td>\n",
       "    </tr>\n",
       "    <tr>\n",
       "      <th>387</th>\n",
       "      <td>연세모아요양병원</td>\n",
       "    </tr>\n",
       "    <tr>\n",
       "      <th>388</th>\n",
       "      <td>연세수요양병원</td>\n",
       "    </tr>\n",
       "    <tr>\n",
       "      <th>389</th>\n",
       "      <td>연세엘림요양병원</td>\n",
       "    </tr>\n",
       "    <tr>\n",
       "      <th>390</th>\n",
       "      <td>영통효요양병원</td>\n",
       "    </tr>\n",
       "    <tr>\n",
       "      <th>391</th>\n",
       "      <td>우리병원</td>\n",
       "    </tr>\n",
       "    <tr>\n",
       "      <th>392</th>\n",
       "      <td>위더스요양병원</td>\n",
       "    </tr>\n",
       "    <tr>\n",
       "      <th>393</th>\n",
       "      <td>윈산부인과병원</td>\n",
       "    </tr>\n",
       "    <tr>\n",
       "      <th>394</th>\n",
       "      <td>윤강병원</td>\n",
       "    </tr>\n",
       "    <tr>\n",
       "      <th>395</th>\n",
       "      <td>의료법인 녹산의료재단동수원병원</td>\n",
       "    </tr>\n",
       "    <tr>\n",
       "      <th>396</th>\n",
       "      <td>의료법인 명인의료재단 화홍병원</td>\n",
       "    </tr>\n",
       "    <tr>\n",
       "      <th>397</th>\n",
       "      <td>의료법인 사랑나무의료재단 서수원병원</td>\n",
       "    </tr>\n",
       "    <tr>\n",
       "      <th>398</th>\n",
       "      <td>의료법인 사랑나무의료재단 서수원요양병원</td>\n",
       "    </tr>\n",
       "    <tr>\n",
       "      <th>399</th>\n",
       "      <td>의료법인 송설의료재단 수원백병원</td>\n",
       "    </tr>\n",
       "    <tr>\n",
       "      <th>400</th>\n",
       "      <td>의료법인 장산의료재단이춘택병원</td>\n",
       "    </tr>\n",
       "    <tr>\n",
       "      <th>401</th>\n",
       "      <td>의료법인 토마스의료재단 윌스기념병원</td>\n",
       "    </tr>\n",
       "    <tr>\n",
       "      <th>402</th>\n",
       "      <td>의료법인 한성재단 S서울병원</td>\n",
       "    </tr>\n",
       "    <tr>\n",
       "      <th>403</th>\n",
       "      <td>의료법인녹산의료재단동수원한방병원</td>\n",
       "    </tr>\n",
       "    <tr>\n",
       "      <th>404</th>\n",
       "      <td>이안한방병원</td>\n",
       "    </tr>\n",
       "    <tr>\n",
       "      <th>405</th>\n",
       "      <td>정답병원</td>\n",
       "    </tr>\n",
       "    <tr>\n",
       "      <th>406</th>\n",
       "      <td>제이에스병원</td>\n",
       "    </tr>\n",
       "    <tr>\n",
       "      <th>407</th>\n",
       "      <td>참결한방병원</td>\n",
       "    </tr>\n",
       "    <tr>\n",
       "      <th>408</th>\n",
       "      <td>초이스병원</td>\n",
       "    </tr>\n",
       "    <tr>\n",
       "      <th>409</th>\n",
       "      <td>태온한방병원</td>\n",
       "    </tr>\n",
       "    <tr>\n",
       "      <th>410</th>\n",
       "      <td>하나병원</td>\n",
       "    </tr>\n",
       "    <tr>\n",
       "      <th>411</th>\n",
       "      <td>학교법인 대우학원 아주대학교요양병원</td>\n",
       "    </tr>\n",
       "    <tr>\n",
       "      <th>412</th>\n",
       "      <td>한독병원</td>\n",
       "    </tr>\n",
       "    <tr>\n",
       "      <th>413</th>\n",
       "      <td>한빛현요양병원</td>\n",
       "    </tr>\n",
       "    <tr>\n",
       "      <th>414</th>\n",
       "      <td>해성병원</td>\n",
       "    </tr>\n",
       "    <tr>\n",
       "      <th>415</th>\n",
       "      <td>효정요양병원</td>\n",
       "    </tr>\n",
       "    <tr>\n",
       "      <th>416</th>\n",
       "      <td>경기도립노인전문시흥병원</td>\n",
       "    </tr>\n",
       "    <tr>\n",
       "      <th>417</th>\n",
       "      <td>경희도담한방병원</td>\n",
       "    </tr>\n",
       "    <tr>\n",
       "      <th>418</th>\n",
       "      <td>다온한방병원</td>\n",
       "    </tr>\n",
       "    <tr>\n",
       "      <th>419</th>\n",
       "      <td>대원한방병원</td>\n",
       "    </tr>\n",
       "    <tr>\n",
       "      <th>420</th>\n",
       "      <td>배곧한방병원</td>\n",
       "    </tr>\n",
       "    <tr>\n",
       "      <th>421</th>\n",
       "      <td>베드로요양병원</td>\n",
       "    </tr>\n",
       "    <tr>\n",
       "      <th>422</th>\n",
       "      <td>베스트한방병원</td>\n",
       "    </tr>\n",
       "    <tr>\n",
       "      <th>423</th>\n",
       "      <td>세안한방병원</td>\n",
       "    </tr>\n",
       "    <tr>\n",
       "      <th>424</th>\n",
       "      <td>시화한방병원</td>\n",
       "    </tr>\n",
       "    <tr>\n",
       "      <th>425</th>\n",
       "      <td>시흥더봄요양병원</td>\n",
       "    </tr>\n",
       "    <tr>\n",
       "      <th>426</th>\n",
       "      <td>시흥미소한방병원</td>\n",
       "    </tr>\n",
       "    <tr>\n",
       "      <th>427</th>\n",
       "      <td>시흥서울대효요양병원</td>\n",
       "    </tr>\n",
       "    <tr>\n",
       "      <th>428</th>\n",
       "      <td>시흥솔병원</td>\n",
       "    </tr>\n",
       "    <tr>\n",
       "      <th>429</th>\n",
       "      <td>시흥은계한방병원</td>\n",
       "    </tr>\n",
       "    <tr>\n",
       "      <th>430</th>\n",
       "      <td>시흥자인한방병원</td>\n",
       "    </tr>\n",
       "    <tr>\n",
       "      <th>431</th>\n",
       "      <td>시흥한방병원</td>\n",
       "    </tr>\n",
       "    <tr>\n",
       "      <th>432</th>\n",
       "      <td>신천제일요양병원</td>\n",
       "    </tr>\n",
       "    <tr>\n",
       "      <th>433</th>\n",
       "      <td>에스한방병원</td>\n",
       "    </tr>\n",
       "    <tr>\n",
       "      <th>434</th>\n",
       "      <td>예치과병원</td>\n",
       "    </tr>\n",
       "    <tr>\n",
       "      <th>435</th>\n",
       "      <td>월곶한방병원</td>\n",
       "    </tr>\n",
       "    <tr>\n",
       "      <th>436</th>\n",
       "      <td>의료법인 나누리의료재단 효성한방병원</td>\n",
       "    </tr>\n",
       "    <tr>\n",
       "      <th>437</th>\n",
       "      <td>의료법인 남촌의료재단 시화병원</td>\n",
       "    </tr>\n",
       "    <tr>\n",
       "      <th>438</th>\n",
       "      <td>의료법인 녹향의료재단 신천연합병원</td>\n",
       "    </tr>\n",
       "    <tr>\n",
       "      <th>439</th>\n",
       "      <td>의료법인 능곡의료재단 능곡요양병원</td>\n",
       "    </tr>\n",
       "    <tr>\n",
       "      <th>440</th>\n",
       "      <td>의료법인 석경의료재단 센트럴병원</td>\n",
       "    </tr>\n",
       "    <tr>\n",
       "      <th>441</th>\n",
       "      <td>의료법인 소애의료재단 한울노인요양병원</td>\n",
       "    </tr>\n",
       "    <tr>\n",
       "      <th>442</th>\n",
       "      <td>의료법인 에스앤케이의료재단 시흥에스앤케이요양병원</td>\n",
       "    </tr>\n",
       "    <tr>\n",
       "      <th>443</th>\n",
       "      <td>의료법인 영명의료재단 혜민한방병원</td>\n",
       "    </tr>\n",
       "    <tr>\n",
       "      <th>444</th>\n",
       "      <td>의료법인 자운의료재단 강남요양병원</td>\n",
       "    </tr>\n",
       "    <tr>\n",
       "      <th>445</th>\n",
       "      <td>의료법인 정심의료재단 한마음요양병원</td>\n",
       "    </tr>\n",
       "    <tr>\n",
       "      <th>446</th>\n",
       "      <td>의료법인 참사랑 의료재단 시흥 참사랑 요양병원</td>\n",
       "    </tr>\n",
       "    <tr>\n",
       "      <th>447</th>\n",
       "      <td>의료법인 풍진의료재단 스마트허브병원</td>\n",
       "    </tr>\n",
       "    <tr>\n",
       "      <th>448</th>\n",
       "      <td>의료법인석경의료재단 센트럴요양병원</td>\n",
       "    </tr>\n",
       "    <tr>\n",
       "      <th>449</th>\n",
       "      <td>장현한방병원</td>\n",
       "    </tr>\n",
       "    <tr>\n",
       "      <th>450</th>\n",
       "      <td>흥케이병원</td>\n",
       "    </tr>\n",
       "    <tr>\n",
       "      <th>451</th>\n",
       "      <td>(의)대선의료재단으뜸요양병원</td>\n",
       "    </tr>\n",
       "    <tr>\n",
       "      <th>452</th>\n",
       "      <td>고든병원</td>\n",
       "    </tr>\n",
       "    <tr>\n",
       "      <th>453</th>\n",
       "      <td>고려대학교의과대학부속안산병원</td>\n",
       "    </tr>\n",
       "    <tr>\n",
       "      <th>454</th>\n",
       "      <td>궁치과병원</td>\n",
       "    </tr>\n",
       "    <tr>\n",
       "      <th>455</th>\n",
       "      <td>근로복지공단안산병원</td>\n",
       "    </tr>\n",
       "    <tr>\n",
       "      <th>456</th>\n",
       "      <td>기둥병원</td>\n",
       "    </tr>\n",
       "    <tr>\n",
       "      <th>457</th>\n",
       "      <td>늘푸른한방병원</td>\n",
       "    </tr>\n",
       "    <tr>\n",
       "      <th>458</th>\n",
       "      <td>대아의료재단한도병원</td>\n",
       "    </tr>\n",
       "    <tr>\n",
       "      <th>459</th>\n",
       "      <td>더드림의료소비자생활협동조합미래요양병원</td>\n",
       "    </tr>\n",
       "    <tr>\n",
       "      <th>460</th>\n",
       "      <td>동산한방병원</td>\n",
       "    </tr>\n",
       "    <tr>\n",
       "      <th>461</th>\n",
       "      <td>동안산병원</td>\n",
       "    </tr>\n",
       "    <tr>\n",
       "      <th>462</th>\n",
       "      <td>동의한방병원</td>\n",
       "    </tr>\n",
       "    <tr>\n",
       "      <th>463</th>\n",
       "      <td>두손병원</td>\n",
       "    </tr>\n",
       "    <tr>\n",
       "      <th>464</th>\n",
       "      <td>마루한방병원</td>\n",
       "    </tr>\n",
       "    <tr>\n",
       "      <th>465</th>\n",
       "      <td>바른한방병원</td>\n",
       "    </tr>\n",
       "    <tr>\n",
       "      <th>466</th>\n",
       "      <td>박진영병원</td>\n",
       "    </tr>\n",
       "    <tr>\n",
       "      <th>467</th>\n",
       "      <td>백비한방병원</td>\n",
       "    </tr>\n",
       "    <tr>\n",
       "      <th>468</th>\n",
       "      <td>백운한방병원</td>\n",
       "    </tr>\n",
       "    <tr>\n",
       "      <th>469</th>\n",
       "      <td>베스트힐스요양병원</td>\n",
       "    </tr>\n",
       "    <tr>\n",
       "      <th>470</th>\n",
       "      <td>서연의료소비자생활협동조합 성심한방병원</td>\n",
       "    </tr>\n",
       "    <tr>\n",
       "      <th>471</th>\n",
       "      <td>서연의료소비자생활협동조합본원한방병원</td>\n",
       "    </tr>\n",
       "    <tr>\n",
       "      <th>472</th>\n",
       "      <td>성은병원</td>\n",
       "    </tr>\n",
       "    <tr>\n",
       "      <th>473</th>\n",
       "      <td>세창의료재단우성여성병원</td>\n",
       "    </tr>\n",
       "    <tr>\n",
       "      <th>474</th>\n",
       "      <td>세화병원</td>\n",
       "    </tr>\n",
       "    <tr>\n",
       "      <th>475</th>\n",
       "      <td>아너스요양병원</td>\n",
       "    </tr>\n",
       "    <tr>\n",
       "      <th>476</th>\n",
       "      <td>안산21세기병원</td>\n",
       "    </tr>\n",
       "    <tr>\n",
       "      <th>477</th>\n",
       "      <td>안산나래요양병원</td>\n",
       "    </tr>\n",
       "    <tr>\n",
       "      <th>478</th>\n",
       "      <td>안산수한방병원</td>\n",
       "    </tr>\n",
       "    <tr>\n",
       "      <th>479</th>\n",
       "      <td>안산시립노인전문병원</td>\n",
       "    </tr>\n",
       "    <tr>\n",
       "      <th>480</th>\n",
       "      <td>안산연세병원</td>\n",
       "    </tr>\n",
       "    <tr>\n",
       "      <th>481</th>\n",
       "      <td>안산예치과병원</td>\n",
       "    </tr>\n",
       "    <tr>\n",
       "      <th>482</th>\n",
       "      <td>안산자생한방병원</td>\n",
       "    </tr>\n",
       "    <tr>\n",
       "      <th>483</th>\n",
       "      <td>안산조은요양병원</td>\n",
       "    </tr>\n",
       "    <tr>\n",
       "      <th>484</th>\n",
       "      <td>안산중앙요양병원</td>\n",
       "    </tr>\n",
       "    <tr>\n",
       "      <th>485</th>\n",
       "      <td>안산튼튼병원</td>\n",
       "    </tr>\n",
       "    <tr>\n",
       "      <th>486</th>\n",
       "      <td>안산효요양병원</td>\n",
       "    </tr>\n",
       "    <tr>\n",
       "      <th>487</th>\n",
       "      <td>안성훈한방병원</td>\n",
       "    </tr>\n",
       "    <tr>\n",
       "      <th>488</th>\n",
       "      <td>약산애한방병원</td>\n",
       "    </tr>\n",
       "    <tr>\n",
       "      <th>489</th>\n",
       "      <td>에이스병원</td>\n",
       "    </tr>\n",
       "    <tr>\n",
       "      <th>490</th>\n",
       "      <td>연세서울병원</td>\n",
       "    </tr>\n",
       "    <tr>\n",
       "      <th>491</th>\n",
       "      <td>온누리병원</td>\n",
       "    </tr>\n",
       "    <tr>\n",
       "      <th>492</th>\n",
       "      <td>우리요양병원</td>\n",
       "    </tr>\n",
       "    <tr>\n",
       "      <th>493</th>\n",
       "      <td>우성요양병원</td>\n",
       "    </tr>\n",
       "    <tr>\n",
       "      <th>494</th>\n",
       "      <td>의료법인 플러스의료재단 단원병원</td>\n",
       "    </tr>\n",
       "    <tr>\n",
       "      <th>495</th>\n",
       "      <td>의료법인 효송의료재단 서안산노인전문병원</td>\n",
       "    </tr>\n",
       "    <tr>\n",
       "      <th>496</th>\n",
       "      <td>의료법인더존의료재단 경희요양병원</td>\n",
       "    </tr>\n",
       "    <tr>\n",
       "      <th>497</th>\n",
       "      <td>의료법인서전의료재단한사랑병원</td>\n",
       "    </tr>\n",
       "    <tr>\n",
       "      <th>498</th>\n",
       "      <td>의료법인칠석의료재단사랑의병원</td>\n",
       "    </tr>\n",
       "    <tr>\n",
       "      <th>499</th>\n",
       "      <td>의료법인해인의료재단 해인요양병원</td>\n",
       "    </tr>\n",
       "    <tr>\n",
       "      <th>500</th>\n",
       "      <td>의료법인호원의료재단호원요양병원</td>\n",
       "    </tr>\n",
       "    <tr>\n",
       "      <th>501</th>\n",
       "      <td>장동욱병원</td>\n",
       "    </tr>\n",
       "    <tr>\n",
       "      <th>502</th>\n",
       "      <td>제이케이병원</td>\n",
       "    </tr>\n",
       "    <tr>\n",
       "      <th>503</th>\n",
       "      <td>치항병원</td>\n",
       "    </tr>\n",
       "    <tr>\n",
       "      <th>504</th>\n",
       "      <td>케이에스병원</td>\n",
       "    </tr>\n",
       "    <tr>\n",
       "      <th>505</th>\n",
       "      <td>탑치과병원</td>\n",
       "    </tr>\n",
       "    <tr>\n",
       "      <th>506</th>\n",
       "      <td>튼튼건강의료소비자생협누리한방병원</td>\n",
       "    </tr>\n",
       "    <tr>\n",
       "      <th>507</th>\n",
       "      <td>하눌한방병원</td>\n",
       "    </tr>\n",
       "    <tr>\n",
       "      <th>508</th>\n",
       "      <td>한국치과병원</td>\n",
       "    </tr>\n",
       "    <tr>\n",
       "      <th>509</th>\n",
       "      <td>한빛여성병원</td>\n",
       "    </tr>\n",
       "    <tr>\n",
       "      <th>510</th>\n",
       "      <td>해솔한방병원</td>\n",
       "    </tr>\n",
       "    <tr>\n",
       "      <th>511</th>\n",
       "      <td>호수요양병원</td>\n",
       "    </tr>\n",
       "    <tr>\n",
       "      <th>512</th>\n",
       "      <td>경기도의료원 안성병원</td>\n",
       "    </tr>\n",
       "    <tr>\n",
       "      <th>513</th>\n",
       "      <td>대건효도병원</td>\n",
       "    </tr>\n",
       "    <tr>\n",
       "      <th>514</th>\n",
       "      <td>동안성병원</td>\n",
       "    </tr>\n",
       "    <tr>\n",
       "      <th>515</th>\n",
       "      <td>미소플란트치과병원</td>\n",
       "    </tr>\n",
       "    <tr>\n",
       "      <th>516</th>\n",
       "      <td>성요셉병원</td>\n",
       "    </tr>\n",
       "    <tr>\n",
       "      <th>517</th>\n",
       "      <td>안성강남한방병원</td>\n",
       "    </tr>\n",
       "    <tr>\n",
       "      <th>518</th>\n",
       "      <td>안성동인병원</td>\n",
       "    </tr>\n",
       "    <tr>\n",
       "      <th>519</th>\n",
       "      <td>안성동인요양병원</td>\n",
       "    </tr>\n",
       "    <tr>\n",
       "      <th>520</th>\n",
       "      <td>안성성모병원</td>\n",
       "    </tr>\n",
       "    <tr>\n",
       "      <th>521</th>\n",
       "      <td>안성요양병원</td>\n",
       "    </tr>\n",
       "    <tr>\n",
       "      <th>522</th>\n",
       "      <td>안성현대요양병원</td>\n",
       "    </tr>\n",
       "    <tr>\n",
       "      <th>523</th>\n",
       "      <td>인선요양병원</td>\n",
       "    </tr>\n",
       "    <tr>\n",
       "      <th>524</th>\n",
       "      <td>파라밀요양병원</td>\n",
       "    </tr>\n",
       "    <tr>\n",
       "      <th>525</th>\n",
       "      <td>허리편한 병원</td>\n",
       "    </tr>\n",
       "    <tr>\n",
       "      <th>526</th>\n",
       "      <td>365매일한방병원</td>\n",
       "    </tr>\n",
       "    <tr>\n",
       "      <th>527</th>\n",
       "      <td>국제나은병원</td>\n",
       "    </tr>\n",
       "    <tr>\n",
       "      <th>528</th>\n",
       "      <td>그린재활의학과병원</td>\n",
       "    </tr>\n",
       "    <tr>\n",
       "      <th>529</th>\n",
       "      <td>대윤한방병원</td>\n",
       "    </tr>\n",
       "    <tr>\n",
       "      <th>530</th>\n",
       "      <td>라온한방병원</td>\n",
       "    </tr>\n",
       "    <tr>\n",
       "      <th>531</th>\n",
       "      <td>메디하임효병원</td>\n",
       "    </tr>\n",
       "    <tr>\n",
       "      <th>532</th>\n",
       "      <td>민정형외과병원</td>\n",
       "    </tr>\n",
       "    <tr>\n",
       "      <th>533</th>\n",
       "      <td>바른몸 한방병원</td>\n",
       "    </tr>\n",
       "    <tr>\n",
       "      <th>534</th>\n",
       "      <td>본병원</td>\n",
       "    </tr>\n",
       "    <tr>\n",
       "      <th>535</th>\n",
       "      <td>봄빛병원</td>\n",
       "    </tr>\n",
       "    <tr>\n",
       "      <th>536</th>\n",
       "      <td>서울나우병원</td>\n",
       "    </tr>\n",
       "    <tr>\n",
       "      <th>537</th>\n",
       "      <td>선진병원(요양병원)</td>\n",
       "    </tr>\n",
       "    <tr>\n",
       "      <th>538</th>\n",
       "      <td>성심힐요양병원</td>\n",
       "    </tr>\n",
       "    <tr>\n",
       "      <th>539</th>\n",
       "      <td>아벤스병원</td>\n",
       "    </tr>\n",
       "    <tr>\n",
       "      <th>540</th>\n",
       "      <td>안양서울 대효요양병원</td>\n",
       "    </tr>\n",
       "    <tr>\n",
       "      <th>541</th>\n",
       "      <td>안양요양병원</td>\n",
       "    </tr>\n",
       "    <tr>\n",
       "      <th>542</th>\n",
       "      <td>안양한방병원</td>\n",
       "    </tr>\n",
       "    <tr>\n",
       "      <th>543</th>\n",
       "      <td>원천의료재단 중화요양병원</td>\n",
       "    </tr>\n",
       "    <tr>\n",
       "      <th>544</th>\n",
       "      <td>원천의료재단 중화한방병원</td>\n",
       "    </tr>\n",
       "    <tr>\n",
       "      <th>545</th>\n",
       "      <td>의료법인 토마스의료재단 안양윌스기념병원</td>\n",
       "    </tr>\n",
       "    <tr>\n",
       "      <th>546</th>\n",
       "      <td>의료법인 해뜨는 요양병원</td>\n",
       "    </tr>\n",
       "    <tr>\n",
       "      <th>547</th>\n",
       "      <td>의료법인서원의료재단김형근예병원</td>\n",
       "    </tr>\n",
       "    <tr>\n",
       "      <th>548</th>\n",
       "      <td>인산의료재단 메트로병원</td>\n",
       "    </tr>\n",
       "    <tr>\n",
       "      <th>549</th>\n",
       "      <td>자강한방병원</td>\n",
       "    </tr>\n",
       "    <tr>\n",
       "      <th>550</th>\n",
       "      <td>평촌예치과병원</td>\n",
       "    </tr>\n",
       "    <tr>\n",
       "      <th>551</th>\n",
       "      <td>평촌우리병원</td>\n",
       "    </tr>\n",
       "    <tr>\n",
       "      <th>552</th>\n",
       "      <td>평촌중앙병원</td>\n",
       "    </tr>\n",
       "    <tr>\n",
       "      <th>553</th>\n",
       "      <td>하늘빛재활의학병원</td>\n",
       "    </tr>\n",
       "    <tr>\n",
       "      <th>554</th>\n",
       "      <td>한림대학교성심병원</td>\n",
       "    </tr>\n",
       "    <tr>\n",
       "      <th>555</th>\n",
       "      <td>효산의료재단 샘여성병원</td>\n",
       "    </tr>\n",
       "    <tr>\n",
       "      <th>556</th>\n",
       "      <td>효산의료재단 안양샘병원</td>\n",
       "    </tr>\n",
       "    <tr>\n",
       "      <th>557</th>\n",
       "      <td>경기웰니스요양병원</td>\n",
       "    </tr>\n",
       "    <tr>\n",
       "      <th>558</th>\n",
       "      <td>국군양주병원</td>\n",
       "    </tr>\n",
       "    <tr>\n",
       "      <th>559</th>\n",
       "      <td>나무정원여성병원</td>\n",
       "    </tr>\n",
       "    <tr>\n",
       "      <th>560</th>\n",
       "      <td>돌담요양병원</td>\n",
       "    </tr>\n",
       "    <tr>\n",
       "      <th>561</th>\n",
       "      <td>서울 대효 요양병원</td>\n",
       "    </tr>\n",
       "    <tr>\n",
       "      <th>562</th>\n",
       "      <td>송추요양병원</td>\n",
       "    </tr>\n",
       "    <tr>\n",
       "      <th>563</th>\n",
       "      <td>송추정신병원(성람재단)</td>\n",
       "    </tr>\n",
       "    <tr>\n",
       "      <th>564</th>\n",
       "      <td>송추효사랑요양병원</td>\n",
       "    </tr>\n",
       "    <tr>\n",
       "      <th>565</th>\n",
       "      <td>송추효요양병원</td>\n",
       "    </tr>\n",
       "    <tr>\n",
       "      <th>566</th>\n",
       "      <td>신안요양병원</td>\n",
       "    </tr>\n",
       "    <tr>\n",
       "      <th>567</th>\n",
       "      <td>실로암노인전문병원</td>\n",
       "    </tr>\n",
       "    <tr>\n",
       "      <th>568</th>\n",
       "      <td>양주가람한방병원</td>\n",
       "    </tr>\n",
       "    <tr>\n",
       "      <th>569</th>\n",
       "      <td>양주소망병원</td>\n",
       "    </tr>\n",
       "    <tr>\n",
       "      <th>570</th>\n",
       "      <td>양주예쓰병원</td>\n",
       "    </tr>\n",
       "    <tr>\n",
       "      <th>571</th>\n",
       "      <td>양주우리병원</td>\n",
       "    </tr>\n",
       "    <tr>\n",
       "      <th>572</th>\n",
       "      <td>양주큰길요양병원</td>\n",
       "    </tr>\n",
       "    <tr>\n",
       "      <th>573</th>\n",
       "      <td>양주한국병원</td>\n",
       "    </tr>\n",
       "    <tr>\n",
       "      <th>574</th>\n",
       "      <td>에스엘서울병원</td>\n",
       "    </tr>\n",
       "    <tr>\n",
       "      <th>575</th>\n",
       "      <td>연세요양병원</td>\n",
       "    </tr>\n",
       "    <tr>\n",
       "      <th>576</th>\n",
       "      <td>예쓰요양병원</td>\n",
       "    </tr>\n",
       "    <tr>\n",
       "      <th>577</th>\n",
       "      <td>국립교통재활병원</td>\n",
       "    </tr>\n",
       "    <tr>\n",
       "      <th>578</th>\n",
       "      <td>다나암요양병원</td>\n",
       "    </tr>\n",
       "    <tr>\n",
       "      <th>579</th>\n",
       "      <td>브니엘노인전문병원</td>\n",
       "    </tr>\n",
       "    <tr>\n",
       "      <th>580</th>\n",
       "      <td>생생우리누리요양병원</td>\n",
       "    </tr>\n",
       "    <tr>\n",
       "      <th>581</th>\n",
       "      <td>양수삼성요양병원</td>\n",
       "    </tr>\n",
       "    <tr>\n",
       "      <th>582</th>\n",
       "      <td>양평병원</td>\n",
       "    </tr>\n",
       "    <tr>\n",
       "      <th>583</th>\n",
       "      <td>양평엘한방병원</td>\n",
       "    </tr>\n",
       "    <tr>\n",
       "      <th>584</th>\n",
       "      <td>양평요양병원</td>\n",
       "    </tr>\n",
       "    <tr>\n",
       "      <th>585</th>\n",
       "      <td>양평효노인전문병원</td>\n",
       "    </tr>\n",
       "    <tr>\n",
       "      <th>586</th>\n",
       "      <td>한길요양병원</td>\n",
       "    </tr>\n",
       "    <tr>\n",
       "      <th>587</th>\n",
       "      <td>홍영노인전문병원</td>\n",
       "    </tr>\n",
       "    <tr>\n",
       "      <th>588</th>\n",
       "      <td>경기도립노인전문여주병원</td>\n",
       "    </tr>\n",
       "    <tr>\n",
       "      <th>589</th>\n",
       "      <td>대암의료재단시애노병원</td>\n",
       "    </tr>\n",
       "    <tr>\n",
       "      <th>590</th>\n",
       "      <td>대진요양병원</td>\n",
       "    </tr>\n",
       "    <tr>\n",
       "      <th>591</th>\n",
       "      <td>베스트요양병원</td>\n",
       "    </tr>\n",
       "    <tr>\n",
       "      <th>592</th>\n",
       "      <td>상경원인터메드요양병원</td>\n",
       "    </tr>\n",
       "    <tr>\n",
       "      <th>593</th>\n",
       "      <td>세종여주병원</td>\n",
       "    </tr>\n",
       "    <tr>\n",
       "      <th>594</th>\n",
       "      <td>여주나무요양병원</td>\n",
       "    </tr>\n",
       "    <tr>\n",
       "      <th>595</th>\n",
       "      <td>여주세민병원</td>\n",
       "    </tr>\n",
       "    <tr>\n",
       "      <th>596</th>\n",
       "      <td>여주순영병원</td>\n",
       "    </tr>\n",
       "    <tr>\n",
       "      <th>597</th>\n",
       "      <td>연세새로운병원</td>\n",
       "    </tr>\n",
       "    <tr>\n",
       "      <th>598</th>\n",
       "      <td>중앙한방병원</td>\n",
       "    </tr>\n",
       "    <tr>\n",
       "      <th>599</th>\n",
       "      <td>의료법인이정의료재단효사랑병원</td>\n",
       "    </tr>\n",
       "    <tr>\n",
       "      <th>600</th>\n",
       "      <td>버팀병원</td>\n",
       "    </tr>\n",
       "    <tr>\n",
       "      <th>601</th>\n",
       "      <td>삼성본병원</td>\n",
       "    </tr>\n",
       "    <tr>\n",
       "      <th>602</th>\n",
       "      <td>서울어린이병원</td>\n",
       "    </tr>\n",
       "    <tr>\n",
       "      <th>603</th>\n",
       "      <td>세교요양병원</td>\n",
       "    </tr>\n",
       "    <tr>\n",
       "      <th>604</th>\n",
       "      <td>세마그린요양병원</td>\n",
       "    </tr>\n",
       "    <tr>\n",
       "      <th>605</th>\n",
       "      <td>송호욱병원</td>\n",
       "    </tr>\n",
       "    <tr>\n",
       "      <th>606</th>\n",
       "      <td>스타트요양병원</td>\n",
       "    </tr>\n",
       "    <tr>\n",
       "      <th>607</th>\n",
       "      <td>오산노인전문병원</td>\n",
       "    </tr>\n",
       "    <tr>\n",
       "      <th>608</th>\n",
       "      <td>오산메디컬재활요양병원</td>\n",
       "    </tr>\n",
       "    <tr>\n",
       "      <th>609</th>\n",
       "      <td>오산세종병원</td>\n",
       "    </tr>\n",
       "    <tr>\n",
       "      <th>610</th>\n",
       "      <td>오산신경정신병원</td>\n",
       "    </tr>\n",
       "    <tr>\n",
       "      <th>611</th>\n",
       "      <td>오산한국병원</td>\n",
       "    </tr>\n",
       "    <tr>\n",
       "      <th>612</th>\n",
       "      <td>우현병원</td>\n",
       "    </tr>\n",
       "    <tr>\n",
       "      <th>613</th>\n",
       "      <td>웰봄병원</td>\n",
       "    </tr>\n",
       "    <tr>\n",
       "      <th>614</th>\n",
       "      <td>유림치과병원</td>\n",
       "    </tr>\n",
       "    <tr>\n",
       "      <th>615</th>\n",
       "      <td>이안한방병원</td>\n",
       "    </tr>\n",
       "    <tr>\n",
       "      <th>616</th>\n",
       "      <td>조은오산병원</td>\n",
       "    </tr>\n",
       "    <tr>\n",
       "      <th>617</th>\n",
       "      <td>평안한사랑병원</td>\n",
       "    </tr>\n",
       "    <tr>\n",
       "      <th>618</th>\n",
       "      <td>(의)수지의료재단수지요양병원</td>\n",
       "    </tr>\n",
       "    <tr>\n",
       "      <th>619</th>\n",
       "      <td>(의)영문의료재단 다보스병원</td>\n",
       "    </tr>\n",
       "    <tr>\n",
       "      <th>620</th>\n",
       "      <td>(의)유일재단 하나애요양병원</td>\n",
       "    </tr>\n",
       "    <tr>\n",
       "      <th>621</th>\n",
       "      <td>(의)현당의료재단 늘봄요양병원</td>\n",
       "    </tr>\n",
       "    <tr>\n",
       "      <th>622</th>\n",
       "      <td>(의)효심의료재단 용인서울병원</td>\n",
       "    </tr>\n",
       "    <tr>\n",
       "      <th>623</th>\n",
       "      <td>감인의료재단 신갈백세요양병원</td>\n",
       "    </tr>\n",
       "    <tr>\n",
       "      <th>624</th>\n",
       "      <td>강남병원</td>\n",
       "    </tr>\n",
       "    <tr>\n",
       "      <th>625</th>\n",
       "      <td>강동요양병원</td>\n",
       "    </tr>\n",
       "    <tr>\n",
       "      <th>626</th>\n",
       "      <td>경기도립노인전문용인병원</td>\n",
       "    </tr>\n",
       "    <tr>\n",
       "      <th>627</th>\n",
       "      <td>경희나로한방병원</td>\n",
       "    </tr>\n",
       "    <tr>\n",
       "      <th>628</th>\n",
       "      <td>광교참좋은요양병원</td>\n",
       "    </tr>\n",
       "    <tr>\n",
       "      <th>629</th>\n",
       "      <td>김상수병원</td>\n",
       "    </tr>\n",
       "    <tr>\n",
       "      <th>630</th>\n",
       "      <td>단국대학교 치과대학 죽전치과병원</td>\n",
       "    </tr>\n",
       "    <tr>\n",
       "      <th>631</th>\n",
       "      <td>대한통합한방병원</td>\n",
       "    </tr>\n",
       "    <tr>\n",
       "      <th>632</th>\n",
       "      <td>더원요양병원</td>\n",
       "    </tr>\n",
       "    <tr>\n",
       "      <th>633</th>\n",
       "      <td>동백성루카병원</td>\n",
       "    </tr>\n",
       "    <tr>\n",
       "      <th>634</th>\n",
       "      <td>동백요양병원</td>\n",
       "    </tr>\n",
       "    <tr>\n",
       "      <th>635</th>\n",
       "      <td>라현한방병원</td>\n",
       "    </tr>\n",
       "    <tr>\n",
       "      <th>636</th>\n",
       "      <td>로하스용인요양병원</td>\n",
       "    </tr>\n",
       "    <tr>\n",
       "      <th>637</th>\n",
       "      <td>린병원</td>\n",
       "    </tr>\n",
       "    <tr>\n",
       "      <th>638</th>\n",
       "      <td>마음심는치과병원</td>\n",
       "    </tr>\n",
       "    <tr>\n",
       "      <th>639</th>\n",
       "      <td>메디하임효요양병원</td>\n",
       "    </tr>\n",
       "    <tr>\n",
       "      <th>640</th>\n",
       "      <td>명주병원</td>\n",
       "    </tr>\n",
       "    <tr>\n",
       "      <th>641</th>\n",
       "      <td>베스트안요양병원</td>\n",
       "    </tr>\n",
       "    <tr>\n",
       "      <th>642</th>\n",
       "      <td>새로운경기도립정신병원</td>\n",
       "    </tr>\n",
       "    <tr>\n",
       "      <th>643</th>\n",
       "      <td>샘물호스피스병원</td>\n",
       "    </tr>\n",
       "    <tr>\n",
       "      <th>644</th>\n",
       "      <td>서울시립 백암정신병원</td>\n",
       "    </tr>\n",
       "    <tr>\n",
       "      <th>645</th>\n",
       "      <td>서울예스병원</td>\n",
       "    </tr>\n",
       "    <tr>\n",
       "      <th>646</th>\n",
       "      <td>에제르 요양병원</td>\n",
       "    </tr>\n",
       "    <tr>\n",
       "      <th>647</th>\n",
       "      <td>엠플러스병원</td>\n",
       "    </tr>\n",
       "    <tr>\n",
       "      <th>648</th>\n",
       "      <td>연세대학교 의과대학 용인세브란스병원</td>\n",
       "    </tr>\n",
       "    <tr>\n",
       "      <th>649</th>\n",
       "      <td>연세프라임병원</td>\n",
       "    </tr>\n",
       "    <tr>\n",
       "      <th>650</th>\n",
       "      <td>예영한방병원</td>\n",
       "    </tr>\n",
       "    <tr>\n",
       "      <th>651</th>\n",
       "      <td>온누리요양병원</td>\n",
       "    </tr>\n",
       "    <tr>\n",
       "      <th>652</th>\n",
       "      <td>용인S한방병원</td>\n",
       "    </tr>\n",
       "    <tr>\n",
       "      <th>653</th>\n",
       "      <td>용인목토요양병원</td>\n",
       "    </tr>\n",
       "    <tr>\n",
       "      <th>654</th>\n",
       "      <td>용인서울요양병원</td>\n",
       "    </tr>\n",
       "    <tr>\n",
       "      <th>655</th>\n",
       "      <td>용인연세병원</td>\n",
       "    </tr>\n",
       "    <tr>\n",
       "      <th>656</th>\n",
       "      <td>용인이안한방병원</td>\n",
       "    </tr>\n",
       "    <tr>\n",
       "      <th>657</th>\n",
       "      <td>용인정신병원</td>\n",
       "    </tr>\n",
       "    <tr>\n",
       "      <th>658</th>\n",
       "      <td>용인제일메디병원</td>\n",
       "    </tr>\n",
       "    <tr>\n",
       "      <th>659</th>\n",
       "      <td>용인한방병원</td>\n",
       "    </tr>\n",
       "    <tr>\n",
       "      <th>660</th>\n",
       "      <td>용인효요양병원</td>\n",
       "    </tr>\n",
       "    <tr>\n",
       "      <th>661</th>\n",
       "      <td>우리호병원</td>\n",
       "    </tr>\n",
       "    <tr>\n",
       "      <th>662</th>\n",
       "      <td>의료법인 상록의료재단 굿모닝한방병원</td>\n",
       "    </tr>\n",
       "    <tr>\n",
       "      <th>663</th>\n",
       "      <td>의료법인광화의료재단러스크병원</td>\n",
       "    </tr>\n",
       "    <tr>\n",
       "      <th>664</th>\n",
       "      <td>의료법인광화의료재단하워드힐병원</td>\n",
       "    </tr>\n",
       "    <tr>\n",
       "      <th>665</th>\n",
       "      <td>이음병원</td>\n",
       "    </tr>\n",
       "    <tr>\n",
       "      <th>666</th>\n",
       "      <td>조은손병원</td>\n",
       "    </tr>\n",
       "    <tr>\n",
       "      <th>667</th>\n",
       "      <td>컬럼비아치과병원</td>\n",
       "    </tr>\n",
       "    <tr>\n",
       "      <th>668</th>\n",
       "      <td>케어스힐요양병원</td>\n",
       "    </tr>\n",
       "    <tr>\n",
       "      <th>669</th>\n",
       "      <td>포브스요양병원</td>\n",
       "    </tr>\n",
       "    <tr>\n",
       "      <th>670</th>\n",
       "      <td>효자병원</td>\n",
       "    </tr>\n",
       "    <tr>\n",
       "      <th>671</th>\n",
       "      <td>흥덕우리요양병원</td>\n",
       "    </tr>\n",
       "    <tr>\n",
       "      <th>672</th>\n",
       "      <td>다사랑중앙병원</td>\n",
       "    </tr>\n",
       "    <tr>\n",
       "      <th>673</th>\n",
       "      <td>부곡치과병원</td>\n",
       "    </tr>\n",
       "    <tr>\n",
       "      <th>674</th>\n",
       "      <td>서울와이즈요양병원</td>\n",
       "    </tr>\n",
       "    <tr>\n",
       "      <th>675</th>\n",
       "      <td>아가페의료재단 시티병원</td>\n",
       "    </tr>\n",
       "    <tr>\n",
       "      <th>676</th>\n",
       "      <td>우리효요양병원</td>\n",
       "    </tr>\n",
       "    <tr>\n",
       "      <th>677</th>\n",
       "      <td>의료법인 계요의료재단 계요노인전문병원</td>\n",
       "    </tr>\n",
       "    <tr>\n",
       "      <th>678</th>\n",
       "      <td>의료법인 계요의료재단 계요병원</td>\n",
       "    </tr>\n",
       "    <tr>\n",
       "      <th>679</th>\n",
       "      <td>의료법인대성의료재단 한림예요양병원</td>\n",
       "    </tr>\n",
       "    <tr>\n",
       "      <th>680</th>\n",
       "      <td>가톨릭대학교의정부성모병원</td>\n",
       "    </tr>\n",
       "    <tr>\n",
       "      <th>681</th>\n",
       "      <td>경기도의료원의정부병원</td>\n",
       "    </tr>\n",
       "    <tr>\n",
       "      <th>682</th>\n",
       "      <td>더드림요양병원</td>\n",
       "    </tr>\n",
       "    <tr>\n",
       "      <th>683</th>\n",
       "      <td>로체스터재활병원</td>\n",
       "    </tr>\n",
       "    <tr>\n",
       "      <th>684</th>\n",
       "      <td>리하트병원</td>\n",
       "    </tr>\n",
       "    <tr>\n",
       "      <th>685</th>\n",
       "      <td>마스터플러스병원</td>\n",
       "    </tr>\n",
       "    <tr>\n",
       "      <th>686</th>\n",
       "      <td>바를정한방병원</td>\n",
       "    </tr>\n",
       "    <tr>\n",
       "      <th>687</th>\n",
       "      <td>새하늘병원</td>\n",
       "    </tr>\n",
       "    <tr>\n",
       "      <th>688</th>\n",
       "      <td>서울척병원</td>\n",
       "    </tr>\n",
       "    <tr>\n",
       "      <th>689</th>\n",
       "      <td>센텀병원</td>\n",
       "    </tr>\n",
       "    <tr>\n",
       "      <th>690</th>\n",
       "      <td>신여성병원</td>\n",
       "    </tr>\n",
       "    <tr>\n",
       "      <th>691</th>\n",
       "      <td>아이엠요양병원</td>\n",
       "    </tr>\n",
       "    <tr>\n",
       "      <th>692</th>\n",
       "      <td>연세고든병원</td>\n",
       "    </tr>\n",
       "    <tr>\n",
       "      <th>693</th>\n",
       "      <td>연세오케이병원</td>\n",
       "    </tr>\n",
       "    <tr>\n",
       "      <th>694</th>\n",
       "      <td>우리조은한방병원</td>\n",
       "    </tr>\n",
       "    <tr>\n",
       "      <th>695</th>\n",
       "      <td>우먼피아여성병원</td>\n",
       "    </tr>\n",
       "    <tr>\n",
       "      <th>696</th>\n",
       "      <td>의료법인 송화의료재단 조은요양병원</td>\n",
       "    </tr>\n",
       "    <tr>\n",
       "      <th>697</th>\n",
       "      <td>의료법인 영동의료재단 의정부백병원</td>\n",
       "    </tr>\n",
       "    <tr>\n",
       "      <th>698</th>\n",
       "      <td>의료법인성베드로병원</td>\n",
       "    </tr>\n",
       "    <tr>\n",
       "      <th>699</th>\n",
       "      <td>의정부 모커리한방병원</td>\n",
       "    </tr>\n",
       "    <tr>\n",
       "      <th>700</th>\n",
       "      <td>의정부민락요양병원</td>\n",
       "    </tr>\n",
       "    <tr>\n",
       "      <th>701</th>\n",
       "      <td>의정부연세요양병원</td>\n",
       "    </tr>\n",
       "    <tr>\n",
       "      <th>702</th>\n",
       "      <td>의정부요양병원</td>\n",
       "    </tr>\n",
       "    <tr>\n",
       "      <th>703</th>\n",
       "      <td>의정부쾌척한방병원</td>\n",
       "    </tr>\n",
       "    <tr>\n",
       "      <th>704</th>\n",
       "      <td>의정부힐링스병원</td>\n",
       "    </tr>\n",
       "    <tr>\n",
       "      <th>705</th>\n",
       "      <td>자황한방병원</td>\n",
       "    </tr>\n",
       "    <tr>\n",
       "      <th>706</th>\n",
       "      <td>중앙효요양병원</td>\n",
       "    </tr>\n",
       "    <tr>\n",
       "      <th>707</th>\n",
       "      <td>참튼튼병원</td>\n",
       "    </tr>\n",
       "    <tr>\n",
       "      <th>708</th>\n",
       "      <td>청우병원</td>\n",
       "    </tr>\n",
       "    <tr>\n",
       "      <th>709</th>\n",
       "      <td>추병원</td>\n",
       "    </tr>\n",
       "    <tr>\n",
       "      <th>710</th>\n",
       "      <td>카네이션요양병원</td>\n",
       "    </tr>\n",
       "    <tr>\n",
       "      <th>711</th>\n",
       "      <td>탑연세치과병원</td>\n",
       "    </tr>\n",
       "    <tr>\n",
       "      <th>712</th>\n",
       "      <td>튼튼어린이병원</td>\n",
       "    </tr>\n",
       "    <tr>\n",
       "      <th>713</th>\n",
       "      <td>학교법인 을지학원 의정부을지대학교병원</td>\n",
       "    </tr>\n",
       "    <tr>\n",
       "      <th>714</th>\n",
       "      <td>한도한방병원</td>\n",
       "    </tr>\n",
       "    <tr>\n",
       "      <th>715</th>\n",
       "      <td>한서중앙병원</td>\n",
       "    </tr>\n",
       "    <tr>\n",
       "      <th>716</th>\n",
       "      <td>해동한방병원</td>\n",
       "    </tr>\n",
       "    <tr>\n",
       "      <th>717</th>\n",
       "      <td>호원병원</td>\n",
       "    </tr>\n",
       "    <tr>\n",
       "      <th>718</th>\n",
       "      <td>경기도의료원 이천병원</td>\n",
       "    </tr>\n",
       "    <tr>\n",
       "      <th>719</th>\n",
       "      <td>바른병원</td>\n",
       "    </tr>\n",
       "    <tr>\n",
       "      <th>720</th>\n",
       "      <td>성안드레아병원</td>\n",
       "    </tr>\n",
       "    <tr>\n",
       "      <th>721</th>\n",
       "      <td>우리요양병원</td>\n",
       "    </tr>\n",
       "    <tr>\n",
       "      <th>722</th>\n",
       "      <td>의료법인 목민의료재단 장호원요양병원</td>\n",
       "    </tr>\n",
       "    <tr>\n",
       "      <th>723</th>\n",
       "      <td>의료법인양지의료재단양지요양병원</td>\n",
       "    </tr>\n",
       "    <tr>\n",
       "      <th>724</th>\n",
       "      <td>이천 연세스위트치과병원</td>\n",
       "    </tr>\n",
       "    <tr>\n",
       "      <th>725</th>\n",
       "      <td>이천소망병원</td>\n",
       "    </tr>\n",
       "    <tr>\n",
       "      <th>726</th>\n",
       "      <td>이천소망요양병원</td>\n",
       "    </tr>\n",
       "    <tr>\n",
       "      <th>727</th>\n",
       "      <td>이천엘리야병원</td>\n",
       "    </tr>\n",
       "    <tr>\n",
       "      <th>728</th>\n",
       "      <td>이천파티마병원</td>\n",
       "    </tr>\n",
       "    <tr>\n",
       "      <th>729</th>\n",
       "      <td>이천효요양병원</td>\n",
       "    </tr>\n",
       "    <tr>\n",
       "      <th>730</th>\n",
       "      <td>추새로병원</td>\n",
       "    </tr>\n",
       "    <tr>\n",
       "      <th>731</th>\n",
       "      <td>한국관광대학 부설 노인전문병원</td>\n",
       "    </tr>\n",
       "    <tr>\n",
       "      <th>732</th>\n",
       "      <td>경기도의료원파주병원</td>\n",
       "    </tr>\n",
       "    <tr>\n",
       "      <th>733</th>\n",
       "      <td>광탄현대병원</td>\n",
       "    </tr>\n",
       "    <tr>\n",
       "      <th>734</th>\n",
       "      <td>기대플러스병원</td>\n",
       "    </tr>\n",
       "    <tr>\n",
       "      <th>735</th>\n",
       "      <td>동서한방병원</td>\n",
       "    </tr>\n",
       "    <tr>\n",
       "      <th>736</th>\n",
       "      <td>메디인병원</td>\n",
       "    </tr>\n",
       "    <tr>\n",
       "      <th>737</th>\n",
       "      <td>메디힐요양병원</td>\n",
       "    </tr>\n",
       "    <tr>\n",
       "      <th>738</th>\n",
       "      <td>무척조은병원</td>\n",
       "    </tr>\n",
       "    <tr>\n",
       "      <th>739</th>\n",
       "      <td>문산중앙병원</td>\n",
       "    </tr>\n",
       "    <tr>\n",
       "      <th>740</th>\n",
       "      <td>미소래병원</td>\n",
       "    </tr>\n",
       "    <tr>\n",
       "      <th>741</th>\n",
       "      <td>민들레병원</td>\n",
       "    </tr>\n",
       "    <tr>\n",
       "      <th>742</th>\n",
       "      <td>뷰티앤디지털치과병원</td>\n",
       "    </tr>\n",
       "    <tr>\n",
       "      <th>743</th>\n",
       "      <td>브이아이씨365병원</td>\n",
       "    </tr>\n",
       "    <tr>\n",
       "      <th>744</th>\n",
       "      <td>서울선(SUN)치과병원</td>\n",
       "    </tr>\n",
       "    <tr>\n",
       "      <th>745</th>\n",
       "      <td>세계로요양병원</td>\n",
       "    </tr>\n",
       "    <tr>\n",
       "      <th>746</th>\n",
       "      <td>소망요양병원</td>\n",
       "    </tr>\n",
       "    <tr>\n",
       "      <th>747</th>\n",
       "      <td>스타한방병원</td>\n",
       "    </tr>\n",
       "    <tr>\n",
       "      <th>748</th>\n",
       "      <td>시민요양병원</td>\n",
       "    </tr>\n",
       "    <tr>\n",
       "      <th>749</th>\n",
       "      <td>연세나을암요양병원</td>\n",
       "    </tr>\n",
       "    <tr>\n",
       "      <th>750</th>\n",
       "      <td>연세요양병원</td>\n",
       "    </tr>\n",
       "    <tr>\n",
       "      <th>751</th>\n",
       "      <td>예담요양병원</td>\n",
       "    </tr>\n",
       "    <tr>\n",
       "      <th>752</th>\n",
       "      <td>우리애요양병원</td>\n",
       "    </tr>\n",
       "    <tr>\n",
       "      <th>753</th>\n",
       "      <td>운정서울대효요양병원</td>\n",
       "    </tr>\n",
       "    <tr>\n",
       "      <th>754</th>\n",
       "      <td>운정와이즈병원</td>\n",
       "    </tr>\n",
       "    <tr>\n",
       "      <th>755</th>\n",
       "      <td>운정한강요양병원</td>\n",
       "    </tr>\n",
       "    <tr>\n",
       "      <th>756</th>\n",
       "      <td>운정한방병원</td>\n",
       "    </tr>\n",
       "    <tr>\n",
       "      <th>757</th>\n",
       "      <td>월산암요양병원</td>\n",
       "    </tr>\n",
       "    <tr>\n",
       "      <th>758</th>\n",
       "      <td>인본병원</td>\n",
       "    </tr>\n",
       "    <tr>\n",
       "      <th>759</th>\n",
       "      <td>자성대 요양병원</td>\n",
       "    </tr>\n",
       "    <tr>\n",
       "      <th>760</th>\n",
       "      <td>자유로요양병원</td>\n",
       "    </tr>\n",
       "    <tr>\n",
       "      <th>761</th>\n",
       "      <td>조앤조숲요양병원</td>\n",
       "    </tr>\n",
       "    <tr>\n",
       "      <th>762</th>\n",
       "      <td>참나무요양병원</td>\n",
       "    </tr>\n",
       "    <tr>\n",
       "      <th>763</th>\n",
       "      <td>코키아병원</td>\n",
       "    </tr>\n",
       "    <tr>\n",
       "      <th>764</th>\n",
       "      <td>큰나무요양병원</td>\n",
       "    </tr>\n",
       "    <tr>\n",
       "      <th>765</th>\n",
       "      <td>파주드림요양병원</td>\n",
       "    </tr>\n",
       "    <tr>\n",
       "      <th>766</th>\n",
       "      <td>파주로하스요양병원</td>\n",
       "    </tr>\n",
       "    <tr>\n",
       "      <th>767</th>\n",
       "      <td>파주미래아동병원</td>\n",
       "    </tr>\n",
       "    <tr>\n",
       "      <th>768</th>\n",
       "      <td>파주삼성요양병원</td>\n",
       "    </tr>\n",
       "    <tr>\n",
       "      <th>769</th>\n",
       "      <td>파주성모요양병원</td>\n",
       "    </tr>\n",
       "    <tr>\n",
       "      <th>770</th>\n",
       "      <td>파주시티요양병원</td>\n",
       "    </tr>\n",
       "    <tr>\n",
       "      <th>771</th>\n",
       "      <td>퍼스트보람요양병원</td>\n",
       "    </tr>\n",
       "    <tr>\n",
       "      <th>772</th>\n",
       "      <td>한사랑요양병원</td>\n",
       "    </tr>\n",
       "    <tr>\n",
       "      <th>773</th>\n",
       "      <td>경기도립노인전문 평택병원</td>\n",
       "    </tr>\n",
       "    <tr>\n",
       "      <th>774</th>\n",
       "      <td>도솔한방병원</td>\n",
       "    </tr>\n",
       "    <tr>\n",
       "      <th>775</th>\n",
       "      <td>사랑한방병원</td>\n",
       "    </tr>\n",
       "    <tr>\n",
       "      <th>776</th>\n",
       "      <td>서울요양병원</td>\n",
       "    </tr>\n",
       "    <tr>\n",
       "      <th>777</th>\n",
       "      <td>서울제일병원</td>\n",
       "    </tr>\n",
       "    <tr>\n",
       "      <th>778</th>\n",
       "      <td>서울제일병원</td>\n",
       "    </tr>\n",
       "    <tr>\n",
       "      <th>779</th>\n",
       "      <td>성심중앙병원</td>\n",
       "    </tr>\n",
       "    <tr>\n",
       "      <th>780</th>\n",
       "      <td>스마일본병원</td>\n",
       "    </tr>\n",
       "    <tr>\n",
       "      <th>781</th>\n",
       "      <td>연세다움병원</td>\n",
       "    </tr>\n",
       "    <tr>\n",
       "      <th>782</th>\n",
       "      <td>연세로하스요양병원</td>\n",
       "    </tr>\n",
       "    <tr>\n",
       "      <th>783</th>\n",
       "      <td>의료법인 갈렌의료재단 박병원</td>\n",
       "    </tr>\n",
       "    <tr>\n",
       "      <th>784</th>\n",
       "      <td>의료법인 박애의료재단 박애병원</td>\n",
       "    </tr>\n",
       "    <tr>\n",
       "      <th>785</th>\n",
       "      <td>의료법인 설백의료재단 평택국제요양병원</td>\n",
       "    </tr>\n",
       "    <tr>\n",
       "      <th>786</th>\n",
       "      <td>의료법인 양진의료재단 평택성모병원</td>\n",
       "    </tr>\n",
       "    <tr>\n",
       "      <th>787</th>\n",
       "      <td>의료법인 양진의료재단 한빛성세노인전문병원</td>\n",
       "    </tr>\n",
       "    <tr>\n",
       "      <th>788</th>\n",
       "      <td>의료법인 청파의료재단 송탄중앙병원</td>\n",
       "    </tr>\n",
       "    <tr>\n",
       "      <th>789</th>\n",
       "      <td>의료법인 혜담의료재단 평택이편안요양병원</td>\n",
       "    </tr>\n",
       "    <tr>\n",
       "      <th>790</th>\n",
       "      <td>의료법인백성의료재단 안중백병원</td>\n",
       "    </tr>\n",
       "    <tr>\n",
       "      <th>791</th>\n",
       "      <td>의료법인백송의료재단 굿모닝병원</td>\n",
       "    </tr>\n",
       "    <tr>\n",
       "      <th>792</th>\n",
       "      <td>의료법인양진의료재단 성세아이들병원</td>\n",
       "    </tr>\n",
       "    <tr>\n",
       "      <th>793</th>\n",
       "      <td>의료법인자비의료재단 더나은요양병원</td>\n",
       "    </tr>\n",
       "    <tr>\n",
       "      <th>794</th>\n",
       "      <td>지제도솔한방병원</td>\n",
       "    </tr>\n",
       "    <tr>\n",
       "      <th>795</th>\n",
       "      <td>평택21세기병원</td>\n",
       "    </tr>\n",
       "    <tr>\n",
       "      <th>796</th>\n",
       "      <td>평택비전병원</td>\n",
       "    </tr>\n",
       "    <tr>\n",
       "      <th>797</th>\n",
       "      <td>평택삼성요양병원</td>\n",
       "    </tr>\n",
       "    <tr>\n",
       "      <th>798</th>\n",
       "      <td>평택우리병원</td>\n",
       "    </tr>\n",
       "    <tr>\n",
       "      <th>799</th>\n",
       "      <td>평택제니스요양병원</td>\n",
       "    </tr>\n",
       "    <tr>\n",
       "      <th>800</th>\n",
       "      <td>평택준한방병원</td>\n",
       "    </tr>\n",
       "    <tr>\n",
       "      <th>801</th>\n",
       "      <td>평택한방병원</td>\n",
       "    </tr>\n",
       "    <tr>\n",
       "      <th>802</th>\n",
       "      <td>강병원</td>\n",
       "    </tr>\n",
       "    <tr>\n",
       "      <th>803</th>\n",
       "      <td>경기도의료원포천병원</td>\n",
       "    </tr>\n",
       "    <tr>\n",
       "      <th>804</th>\n",
       "      <td>국군포천병원</td>\n",
       "    </tr>\n",
       "    <tr>\n",
       "      <th>805</th>\n",
       "      <td>의료법인 범문의료재단 진요양병원</td>\n",
       "    </tr>\n",
       "    <tr>\n",
       "      <th>806</th>\n",
       "      <td>의료법인일심의료재단우리병원</td>\n",
       "    </tr>\n",
       "    <tr>\n",
       "      <th>807</th>\n",
       "      <td>인화병원</td>\n",
       "    </tr>\n",
       "    <tr>\n",
       "      <th>808</th>\n",
       "      <td>포천새맘요양병원</td>\n",
       "    </tr>\n",
       "    <tr>\n",
       "      <th>809</th>\n",
       "      <td>포천힐링요양병원</td>\n",
       "    </tr>\n",
       "    <tr>\n",
       "      <th>810</th>\n",
       "      <td>한내 가족처럼 요양병원</td>\n",
       "    </tr>\n",
       "    <tr>\n",
       "      <th>811</th>\n",
       "      <td>화현요양병원</td>\n",
       "    </tr>\n",
       "    <tr>\n",
       "      <th>812</th>\n",
       "      <td>강동서울대효요양병원</td>\n",
       "    </tr>\n",
       "    <tr>\n",
       "      <th>813</th>\n",
       "      <td>강동스마일요양병원</td>\n",
       "    </tr>\n",
       "    <tr>\n",
       "      <th>814</th>\n",
       "      <td>금병원</td>\n",
       "    </tr>\n",
       "    <tr>\n",
       "      <th>815</th>\n",
       "      <td>더 바른병원</td>\n",
       "    </tr>\n",
       "    <tr>\n",
       "      <th>816</th>\n",
       "      <td>라이프요양병원</td>\n",
       "    </tr>\n",
       "    <tr>\n",
       "      <th>817</th>\n",
       "      <td>미사강변요양병원</td>\n",
       "    </tr>\n",
       "    <tr>\n",
       "      <th>818</th>\n",
       "      <td>미사경희한방병원</td>\n",
       "    </tr>\n",
       "    <tr>\n",
       "      <th>819</th>\n",
       "      <td>미사다나음한방병원</td>\n",
       "    </tr>\n",
       "    <tr>\n",
       "      <th>820</th>\n",
       "      <td>미사바른병원</td>\n",
       "    </tr>\n",
       "    <tr>\n",
       "      <th>821</th>\n",
       "      <td>미사튼튼병원</td>\n",
       "    </tr>\n",
       "    <tr>\n",
       "      <th>822</th>\n",
       "      <td>유나이티드병원</td>\n",
       "    </tr>\n",
       "    <tr>\n",
       "      <th>823</th>\n",
       "      <td>청봉병원</td>\n",
       "    </tr>\n",
       "    <tr>\n",
       "      <th>824</th>\n",
       "      <td>하남S병원</td>\n",
       "    </tr>\n",
       "    <tr>\n",
       "      <th>825</th>\n",
       "      <td>하남샬롬요양병원</td>\n",
       "    </tr>\n",
       "    <tr>\n",
       "      <th>826</th>\n",
       "      <td>하남요양병원</td>\n",
       "    </tr>\n",
       "    <tr>\n",
       "      <th>827</th>\n",
       "      <td>햇살병원</td>\n",
       "    </tr>\n",
       "    <tr>\n",
       "      <th>828</th>\n",
       "      <td>근로복지공단 경기요양병원</td>\n",
       "    </tr>\n",
       "    <tr>\n",
       "      <th>829</th>\n",
       "      <td>나이스병원</td>\n",
       "    </tr>\n",
       "    <tr>\n",
       "      <th>830</th>\n",
       "      <td>남양한방병원</td>\n",
       "    </tr>\n",
       "    <tr>\n",
       "      <th>831</th>\n",
       "      <td>더퍼스트요양병원</td>\n",
       "    </tr>\n",
       "    <tr>\n",
       "      <th>832</th>\n",
       "      <td>동탄2튼튼한방병원</td>\n",
       "    </tr>\n",
       "    <tr>\n",
       "      <th>833</th>\n",
       "      <td>동탄더하다한방병원</td>\n",
       "    </tr>\n",
       "    <tr>\n",
       "      <th>834</th>\n",
       "      <td>동탄성모병원</td>\n",
       "    </tr>\n",
       "    <tr>\n",
       "      <th>835</th>\n",
       "      <td>동탄센트럴치과병원</td>\n",
       "    </tr>\n",
       "    <tr>\n",
       "      <th>836</th>\n",
       "      <td>동탄시티병원</td>\n",
       "    </tr>\n",
       "    <tr>\n",
       "      <th>837</th>\n",
       "      <td>메타메디병원</td>\n",
       "    </tr>\n",
       "    <tr>\n",
       "      <th>838</th>\n",
       "      <td>바르다임병원</td>\n",
       "    </tr>\n",
       "    <tr>\n",
       "      <th>839</th>\n",
       "      <td>베스트아이들병원</td>\n",
       "    </tr>\n",
       "    <tr>\n",
       "      <th>840</th>\n",
       "      <td>사회복지법인 상록원 상록요양병원</td>\n",
       "    </tr>\n",
       "    <tr>\n",
       "      <th>841</th>\n",
       "      <td>삼성우리요양병원</td>\n",
       "    </tr>\n",
       "    <tr>\n",
       "      <th>842</th>\n",
       "      <td>새봄병원</td>\n",
       "    </tr>\n",
       "    <tr>\n",
       "      <th>843</th>\n",
       "      <td>새샘병원</td>\n",
       "    </tr>\n",
       "    <tr>\n",
       "      <th>844</th>\n",
       "      <td>센트럴아동병원</td>\n",
       "    </tr>\n",
       "    <tr>\n",
       "      <th>845</th>\n",
       "      <td>송산한방병원</td>\n",
       "    </tr>\n",
       "    <tr>\n",
       "      <th>846</th>\n",
       "      <td>수앤수병원</td>\n",
       "    </tr>\n",
       "    <tr>\n",
       "      <th>847</th>\n",
       "      <td>연세나은요양병원</td>\n",
       "    </tr>\n",
       "    <tr>\n",
       "      <th>848</th>\n",
       "      <td>의료법인 승민의료재단 화성초록병원</td>\n",
       "    </tr>\n",
       "    <tr>\n",
       "      <th>849</th>\n",
       "      <td>의료법인 시몬의료재단 우리가병원</td>\n",
       "    </tr>\n",
       "    <tr>\n",
       "      <th>850</th>\n",
       "      <td>의료법인 아주효성의료재단 효성요양병원</td>\n",
       "    </tr>\n",
       "    <tr>\n",
       "      <th>851</th>\n",
       "      <td>의료법인 원광의료재단 원광종합병원</td>\n",
       "    </tr>\n",
       "    <tr>\n",
       "      <th>852</th>\n",
       "      <td>의료법인 은혜와감사의료재단 향남스마트병원</td>\n",
       "    </tr>\n",
       "    <tr>\n",
       "      <th>853</th>\n",
       "      <td>의료법인 은혜와감사의료재단 화성중앙종합병원</td>\n",
       "    </tr>\n",
       "    <tr>\n",
       "      <th>854</th>\n",
       "      <td>의료법인 일선의료재단 화성현대요양병원</td>\n",
       "    </tr>\n",
       "    <tr>\n",
       "      <th>855</th>\n",
       "      <td>의료법인상운의료재단 동탄제일병원</td>\n",
       "    </tr>\n",
       "    <tr>\n",
       "      <th>856</th>\n",
       "      <td>의료법인정도의료재단 화성미소요양병원</td>\n",
       "    </tr>\n",
       "    <tr>\n",
       "      <th>857</th>\n",
       "      <td>제일요양병원</td>\n",
       "    </tr>\n",
       "    <tr>\n",
       "      <th>858</th>\n",
       "      <td>튼튼한방병원</td>\n",
       "    </tr>\n",
       "    <tr>\n",
       "      <th>859</th>\n",
       "      <td>한독한방병원</td>\n",
       "    </tr>\n",
       "    <tr>\n",
       "      <th>860</th>\n",
       "      <td>한림대학교동탄성심병원</td>\n",
       "    </tr>\n",
       "    <tr>\n",
       "      <th>861</th>\n",
       "      <td>한송한방병원</td>\n",
       "    </tr>\n",
       "    <tr>\n",
       "      <th>862</th>\n",
       "      <td>화성디에스병원</td>\n",
       "    </tr>\n",
       "    <tr>\n",
       "      <th>863</th>\n",
       "      <td>화성유일병원</td>\n",
       "    </tr>\n",
       "    <tr>\n",
       "      <th>864</th>\n",
       "      <td>화성한방병원</td>\n",
       "    </tr>\n",
       "    <tr>\n",
       "      <th>865</th>\n",
       "      <td>화성해인요양병원</td>\n",
       "    </tr>\n",
       "    <tr>\n",
       "      <th>866</th>\n",
       "      <td>희망찬병원</td>\n",
       "    </tr>\n",
       "  </tbody>\n",
       "</table>\n",
       "</div>"
      ],
      "text/plain": [
       "                           사업장명\n",
       "0                      가평산속요양병원\n",
       "1                     가평푸른숲요양병원\n",
       "2                        강변요양병원\n",
       "3                    노체리안드리자애병원\n",
       "4                에이치제이매그놀리아국제병원\n",
       "5              에이치제이매그놀리아국제한방병원\n",
       "6                        청평우리병원\n",
       "7                      청평활명요양병원\n",
       "8                      강북성심요양병원\n",
       "9                         건누리병원\n",
       "10                    고양센트럴요양병원\n",
       "11                       고양정신병원\n",
       "12                      고양휴메디병원\n",
       "13                       국군고양병원\n",
       "14                        국립암센터\n",
       "15                 국민건강보험공단일산병원\n",
       "16                       그레이스병원\n",
       "17                        늘푸른병원\n",
       "18                      다스람요양병원\n",
       "19                      더하다한방병원\n",
       "20                  동국대학교일산불교병원\n",
       "21                동국대학교일산불교한방병원\n",
       "22                     동국마음요양병원\n",
       "23                       동원요양병원\n",
       "24                        든든한병원\n",
       "25                       라엘마음병원\n",
       "26                    로하스일산요양병원\n",
       "27                   로하스클로버요양병원\n",
       "28                      리빙웰치과병원\n",
       "29                        린치과병원\n",
       "30                     메디누리요양병원\n",
       "31                      무지개요양병원\n",
       "32                     사과나무치과병원\n",
       "33                       새찬요양병원\n",
       "34                     서울메이치과병원\n",
       "35                       서울척탑병원\n",
       "36                       연세마두병원\n",
       "37                       연세서울병원\n",
       "38                    연세플라워치과병원\n",
       "39                       연세항맥병원\n",
       "40                    우노힐일산요양병원\n",
       "41                       원당연세병원\n",
       "42                     원흥아이제일병원\n",
       "43           의료법인 세경의료재단 새빛안과병원\n",
       "44            의료법인두영의료재단 정안요양병원\n",
       "45               의료법인명지의료재단명지병원\n",
       "46      의료법인사과나무의료재단 중산사과나무치과병원\n",
       "47               의료법인상록의료재단화정병원\n",
       "48              의료법인성광의료재단일산차병원\n",
       "49              의료법인에덴재단행복한요양병원\n",
       "50                   의료법인일산복음병원\n",
       "51             의료법인자인의료재단자인메디병원\n",
       "52             의료법인한영의료재단삼성요양병원\n",
       "53                      이푸른요양병원\n",
       "54                   인제대학교일산백병원\n",
       "55                    일산365한방병원\n",
       "56                    일산리더스요양병원\n",
       "57                    일산메디안요양병원\n",
       "58                     일산복음미래병원\n",
       "59                     일산사랑요양병원\n",
       "60                    일산아르고요양병원\n",
       "61                    일산이십일세기병원\n",
       "62                     일산자생한방병원\n",
       "63                       일산자애병원\n",
       "64                     일산중심재활병원\n",
       "65                    일산참사랑요양병원\n",
       "66                       일산하이병원\n",
       "67                     일산한울요양병원\n",
       "68                     일산현대요양병원\n",
       "69                     일산호수요양병원\n",
       "70                       자향요양병원\n",
       "71                       제이요양병원\n",
       "72                       차연한방병원\n",
       "73                        척사랑병원\n",
       "74                       카프성모병원\n",
       "75                        해븐리병원\n",
       "76                        허유재병원\n",
       "77                        활기찬병원\n",
       "78                      효그린요양병원\n",
       "79                       효림요양병원\n",
       "80                   과천 연세 치과병원\n",
       "81                     광명21세기병원\n",
       "82                      광명기대찬병원\n",
       "83                     광명면력한방병원\n",
       "84                       광명새움병원\n",
       "85                       광명성애병원\n",
       "86                      광명효요양병원\n",
       "87                    로하스광명요양병원\n",
       "88                     서울대효요양병원\n",
       "89                        아이원병원\n",
       "90                      예지원요양병원\n",
       "91                    중앙대학교광명병원\n",
       "92                        탑요양병원\n",
       "93                     강남제일요양병원\n",
       "94                       더플러스병원\n",
       "95                      선한빛요양병원\n",
       "96                   스마일디자인치과병원\n",
       "97              에스알씨(SRC)노인전문병원\n",
       "98                에스알씨(SRC)재활병원\n",
       "99                      위더스요양병원\n",
       "100                       참조은병원\n",
       "101                     한사랑요양병원\n",
       "102                      효천요양병원\n",
       "103                    구리한빛요양병원\n",
       "104                     구리효요양병원\n",
       "105                      국군구리병원\n",
       "106                         굿병원\n",
       "107                      리체한방병원\n",
       "108                   서울라이즈요양병원\n",
       "109                      연세마음병원\n",
       "110                      오케이참병원\n",
       "111                        윤서병원\n",
       "112                      율치한방병원\n",
       "113             의료법인기상의료재단카이저병원\n",
       "114                  재단법인원진녹색병원\n",
       "115                      좋은아침병원\n",
       "116                     투재암요양병원\n",
       "117                   한양대학교구리병원\n",
       "118                     행복한외과병원\n",
       "119                      군포성모병원\n",
       "120                     군포참요양병원\n",
       "121                        남천병원\n",
       "122                     미라클요양병원\n",
       "123                     사랑애요양병원\n",
       "124                      산본제일병원\n",
       "125                      삼경요양병원\n",
       "126                  원광대학교 산본병원\n",
       "127             원광대학교치과대학산본치과병원\n",
       "128                       윈치과병원\n",
       "129         의료법인 두현의료재단 그로스요양병원\n",
       "130       의료법인 희망나눔의료재단 휴성심요양병원\n",
       "131                 효산의료재단 지샘병원\n",
       "132                      가자연세병원\n",
       "133                    김포경희25병원\n",
       "134                    김포다올요양병원\n",
       "135                      김포다은병원\n",
       "136                     김포다조은병원\n",
       "137                    김포보배한방병원\n",
       "138                     김포봄한방병원\n",
       "139                    김포아이제일병원\n",
       "140                  김포에이치(H)병원\n",
       "141                     김포예사랑병원\n",
       "142                      김포요양병원\n",
       "143                     김포한누리병원\n",
       "144                      나리여성병원\n",
       "145                       마디척병원\n",
       "146                      새빛한방병원\n",
       "147                      서울여성병원\n",
       "148                    세인트힐요양병원\n",
       "149                      아너스힐병원\n",
       "150                     연세더바른병원\n",
       "151                       연세유병원\n",
       "152                      연세하나병원\n",
       "153                      유앤제이병원\n",
       "154           의료법인동행의료재단보리수요양병원\n",
       "155        의료법인보성의료재단휘담메디김포한방병원\n",
       "156            의료법인우리의료재단김포우리병원\n",
       "157             의료법인인봉의료재단뉴고려병원\n",
       "158          의료법인휘담메디의료재단하성한방병원\n",
       "159                      정근한방병원\n",
       "160                     춘의생한방병원\n",
       "161                    한강아이제일병원\n",
       "162                      한강연세병원\n",
       "163                      한강요양병원\n",
       "164                    한별정신건강병원\n",
       "165                      히즈메디병원\n",
       "166               경기도립노인전문남양주병원\n",
       "167                        국민병원\n",
       "168                    남양주 한양병원\n",
       "169                   남양주21세기병원\n",
       "170                   남양주경희한방병원\n",
       "171                     남양주나눔병원\n",
       "172                   남양주나무요양병원\n",
       "173                      남양주백병원\n",
       "174                남양주정드림노인전문병원\n",
       "175                      누네안과병원\n",
       "176     다산의료소비자생활협동조합정석소아청소년과병원\n",
       "177                    다산하나한방병원\n",
       "178                    마석기독요양병원\n",
       "179                    매그너스요양병원\n",
       "180                      별내요양병원\n",
       "181                     비오람요양병원\n",
       "182                      삼성바른병원\n",
       "183                      새봄요양병원\n",
       "184                 서울특별시축령정신병원\n",
       "185                    수동연세요양병원\n",
       "186                      실버힐스병원\n",
       "187                    아이맘어린이병원\n",
       "188                         양병원\n",
       "189                      에덴요양병원\n",
       "190                       에이스병원\n",
       "191                         엘병원\n",
       "192                        온세병원\n",
       "193                         원병원\n",
       "194         의료법인다원의료재단 진접제일요양병원\n",
       "195             의료법인혜수의료재단베리굿병원\n",
       "196                     진접 한양병원\n",
       "197                      축령복음병원\n",
       "198                  퇴계원 서울요양병원\n",
       "199                      필립요양병원\n",
       "200                  하나소아청소년과병원\n",
       "201                     한가온한방병원\n",
       "202                     한누리요양병원\n",
       "203                      햇살요양병원\n",
       "204                        현대병원\n",
       "205                      호평요양병원\n",
       "206                       휴메디병원\n",
       "207               경기도립노인전문동두천병원\n",
       "208                   동두천제일요양병원\n",
       "209                   동두천중앙성모병원\n",
       "210                    동원노인전문병원\n",
       "211                        동원병원\n",
       "212                      로젠요양병원\n",
       "213                     로하스요양병원\n",
       "214                      서울요양병원\n",
       "215                      성지요양병원\n",
       "216                     우리들요양병원\n",
       "217            (재)대성재단 대성제일요양병원\n",
       "218                        가은병원\n",
       "219                가톨릭대학교부천성모병원\n",
       "220                        건주병원\n",
       "221                      경기요양병원\n",
       "222                   고려수재활요양병원\n",
       "223                      고운여성병원\n",
       "224                      다솜요양병원\n",
       "225                      다온요양병원\n",
       "226                      더블유진병원\n",
       "227                   더편한소사요양병원\n",
       "228                      도담한방병원\n",
       "229                        디딤병원\n",
       "230                       루카스병원\n",
       "231                     메르덴치과병원\n",
       "232                     메이플요양병원\n",
       "233                     바오로요양병원\n",
       "234                    백구당찬한방병원\n",
       "235                      보성요양병원\n",
       "236                       본새울병원\n",
       "237                    부천21세기병원\n",
       "238                      부천대성병원\n",
       "239                    부천면력한방병원\n",
       "240                    부천미소요양병원\n",
       "241                   부천바른솔한방병원\n",
       "242                      부천사랑병원\n",
       "243                    부천삼성요양병원\n",
       "244                   부천서울어린이병원\n",
       "245                      부천세종병원\n",
       "246                    부천수림한방병원\n",
       "247                  부천시립노인전문병원\n",
       "248                      부천요양병원\n",
       "249                      부천우리병원\n",
       "250                    부천자생한방병원\n",
       "251                    부천제일요양병원\n",
       "252                      부천중앙병원\n",
       "253                      부천한방병원\n",
       "254                       부천한병원\n",
       "255                    사과나무치과병원\n",
       "256                  사단법인누가참빛병원\n",
       "257                    상동서울한방병원\n",
       "258                        생생병원\n",
       "259                      서울여성병원\n",
       "260                순천향대학교부속부천병원\n",
       "261                       스마튼병원\n",
       "262                      약대한방병원\n",
       "263                       엘드림병원\n",
       "264                     연세본사랑병원\n",
       "265                      연세제일병원\n",
       "266                        예손병원\n",
       "267                       오정본병원\n",
       "268          의료법인대인의료재단 다니엘종합병원\n",
       "269          의료법인운천의료재단메디홀스요양병원\n",
       "270            의료법인의향의료재단그린한방병원\n",
       "271                        이룸병원\n",
       "272                      이안치과병원\n",
       "273                        인본병원\n",
       "274                      일로한방병원\n",
       "275               재단법인대성재단디에스병원\n",
       "276                         진병원\n",
       "277                     차오름한방병원\n",
       "278                     초앤유여성병원\n",
       "279                     큰사랑요양병원\n",
       "280                      평강치과병원\n",
       "281                     프라임요양병원\n",
       "282                        하이병원\n",
       "283                     한우리요양병원\n",
       "284                      한중한방병원\n",
       "285                         현병원\n",
       "286                       휴앤유병원\n",
       "287    (학교법인)동국대학교 한의과대학 분당한방병원\n",
       "288                    경희다원한방병원\n",
       "289                    경희위례한방병원\n",
       "290                       곽여성병원\n",
       "291                      국군수도병원\n",
       "292                    국군수도치과병원\n",
       "293               대진의료재단 분당제생병원\n",
       "294                     드라마치과병원\n",
       "295                     라온힐요양병원\n",
       "296                      바른마디병원\n",
       "297                      바른세상병원\n",
       "298                     밸런스치과병원\n",
       "299                     보바스기념병원\n",
       "300                   분당러스크재활병원\n",
       "301                     분당베스트병원\n",
       "302                   분당서울대학교병원\n",
       "303                   분당센트럴요양병원\n",
       "304                     분당수요양병원\n",
       "305                    분당연세요양병원\n",
       "306                     분당예치과병원\n",
       "307                    분당자생한방병원\n",
       "308                    분당제일여성병원\n",
       "309                       분당척병원\n",
       "310                  분당포레스트한방병원\n",
       "311                       사랑의병원\n",
       "312                      서울나우병원\n",
       "313                     성남사랑의병원\n",
       "314                      성남시의료원\n",
       "315                     성남예치과병원\n",
       "316                      성남요양병원\n",
       "317                    성남제일한방병원\n",
       "318                      성남중앙병원\n",
       "319                      성모요양병원\n",
       "320                       성모윌병원\n",
       "321                      성신한방병원\n",
       "322                     송병재한방병원\n",
       "323                순천의료재단 성남정병원\n",
       "324                      연세스타병원\n",
       "325                   우리효사랑요양병원\n",
       "326                   위례바이오요양병원\n",
       "327                 위례서울닥터스요양병원\n",
       "328                    위례서울치과병원\n",
       "329                   위례센트럴요양병원\n",
       "330                   위례스마트요양병원\n",
       "331                   위례재활의학과병원\n",
       "332                        으뜸병원\n",
       "333            의료법인 본플러스재단 분당병원\n",
       "334         의료법인 신창의료재단 분당에이치병원\n",
       "335                    좋은이웃요양병원\n",
       "336                        지우병원\n",
       "337                차의과학대학교분당차병원\n",
       "338                     카리스요양병원\n",
       "339                    파티마 요양병원\n",
       "340                       형치과병원\n",
       "341                        휴엔병원\n",
       "342               가톨릭대학교 성빈센트병원\n",
       "343                      강남여성병원\n",
       "344                 경기도의료원 수원병원\n",
       "345                    경희수원한방병원\n",
       "346                 광교365리움치과병원\n",
       "347                        김찬병원\n",
       "348                     나누리수원병원\n",
       "349                        다인병원\n",
       "350                        더웰병원\n",
       "351                      동서요양병원\n",
       "352                   리더스도준한방병원\n",
       "353                   메디움수원요양병원\n",
       "354                     메이저요양병원\n",
       "355                      모아치과병원\n",
       "356                      미래한방병원\n",
       "357                       바로본병원\n",
       "358                      반듯한방병원\n",
       "359                        백성병원\n",
       "360                        버팀병원\n",
       "361                      베데스다병원\n",
       "362                       삼성큰병원\n",
       "363                 서울삼성호매실요양병원\n",
       "364                    서울성모안과병원\n",
       "365                      성모척관병원\n",
       "366                   세인트마리여성병원\n",
       "367                         수병원\n",
       "368                       수여성병원\n",
       "369                   수원다나음한방병원\n",
       "370                   수원모커리한방병원\n",
       "371                 수원브이아이피요양병원\n",
       "372                    수원삼성요양병원\n",
       "373                   수원센트럴요양병원\n",
       "374                      수원요양병원\n",
       "375                      수원우노병원\n",
       "376                    수원자생한방병원\n",
       "377                      수원중앙병원\n",
       "378                    수원하나요양병원\n",
       "379                   수원행복한요양병원\n",
       "380                     수원효요양병원\n",
       "381                      쉬즈메디병원\n",
       "382                      시온여성병원\n",
       "383                      아주다남병원\n",
       "384                     아주대학교병원\n",
       "385                      아주편한병원\n",
       "386                    에덴메디여성병원\n",
       "387                    연세모아요양병원\n",
       "388                     연세수요양병원\n",
       "389                    연세엘림요양병원\n",
       "390                     영통효요양병원\n",
       "391                        우리병원\n",
       "392                     위더스요양병원\n",
       "393                     윈산부인과병원\n",
       "394                        윤강병원\n",
       "395            의료법인 녹산의료재단동수원병원\n",
       "396            의료법인 명인의료재단 화홍병원\n",
       "397         의료법인 사랑나무의료재단 서수원병원\n",
       "398       의료법인 사랑나무의료재단 서수원요양병원\n",
       "399           의료법인 송설의료재단 수원백병원\n",
       "400            의료법인 장산의료재단이춘택병원\n",
       "401         의료법인 토마스의료재단 윌스기념병원\n",
       "402             의료법인 한성재단 S서울병원\n",
       "403           의료법인녹산의료재단동수원한방병원\n",
       "404                      이안한방병원\n",
       "405                        정답병원\n",
       "406                      제이에스병원\n",
       "407                      참결한방병원\n",
       "408                       초이스병원\n",
       "409                      태온한방병원\n",
       "410                        하나병원\n",
       "411         학교법인 대우학원 아주대학교요양병원\n",
       "412                        한독병원\n",
       "413                     한빛현요양병원\n",
       "414                        해성병원\n",
       "415                      효정요양병원\n",
       "416                경기도립노인전문시흥병원\n",
       "417                    경희도담한방병원\n",
       "418                      다온한방병원\n",
       "419                      대원한방병원\n",
       "420                      배곧한방병원\n",
       "421                     베드로요양병원\n",
       "422                     베스트한방병원\n",
       "423                      세안한방병원\n",
       "424                      시화한방병원\n",
       "425                    시흥더봄요양병원\n",
       "426                    시흥미소한방병원\n",
       "427                  시흥서울대효요양병원\n",
       "428                       시흥솔병원\n",
       "429                    시흥은계한방병원\n",
       "430                    시흥자인한방병원\n",
       "431                      시흥한방병원\n",
       "432                    신천제일요양병원\n",
       "433                      에스한방병원\n",
       "434                       예치과병원\n",
       "435                      월곶한방병원\n",
       "436         의료법인 나누리의료재단 효성한방병원\n",
       "437            의료법인 남촌의료재단 시화병원\n",
       "438          의료법인 녹향의료재단 신천연합병원\n",
       "439          의료법인 능곡의료재단 능곡요양병원\n",
       "440           의료법인 석경의료재단 센트럴병원\n",
       "441        의료법인 소애의료재단 한울노인요양병원\n",
       "442  의료법인 에스앤케이의료재단 시흥에스앤케이요양병원\n",
       "443          의료법인 영명의료재단 혜민한방병원\n",
       "444          의료법인 자운의료재단 강남요양병원\n",
       "445         의료법인 정심의료재단 한마음요양병원\n",
       "446   의료법인 참사랑 의료재단 시흥 참사랑 요양병원\n",
       "447         의료법인 풍진의료재단 스마트허브병원\n",
       "448          의료법인석경의료재단 센트럴요양병원\n",
       "449                      장현한방병원\n",
       "450                       흥케이병원\n",
       "451             (의)대선의료재단으뜸요양병원\n",
       "452                        고든병원\n",
       "453             고려대학교의과대학부속안산병원\n",
       "454                       궁치과병원\n",
       "455                  근로복지공단안산병원\n",
       "456                        기둥병원\n",
       "457                     늘푸른한방병원\n",
       "458                  대아의료재단한도병원\n",
       "459        더드림의료소비자생활협동조합미래요양병원\n",
       "460                      동산한방병원\n",
       "461                       동안산병원\n",
       "462                      동의한방병원\n",
       "463                        두손병원\n",
       "464                      마루한방병원\n",
       "465                      바른한방병원\n",
       "466                       박진영병원\n",
       "467                      백비한방병원\n",
       "468                      백운한방병원\n",
       "469                   베스트힐스요양병원\n",
       "470        서연의료소비자생활협동조합 성심한방병원\n",
       "471         서연의료소비자생활협동조합본원한방병원\n",
       "472                        성은병원\n",
       "473                세창의료재단우성여성병원\n",
       "474                        세화병원\n",
       "475                     아너스요양병원\n",
       "476                    안산21세기병원\n",
       "477                    안산나래요양병원\n",
       "478                     안산수한방병원\n",
       "479                  안산시립노인전문병원\n",
       "480                      안산연세병원\n",
       "481                     안산예치과병원\n",
       "482                    안산자생한방병원\n",
       "483                    안산조은요양병원\n",
       "484                    안산중앙요양병원\n",
       "485                      안산튼튼병원\n",
       "486                     안산효요양병원\n",
       "487                     안성훈한방병원\n",
       "488                     약산애한방병원\n",
       "489                       에이스병원\n",
       "490                      연세서울병원\n",
       "491                       온누리병원\n",
       "492                      우리요양병원\n",
       "493                      우성요양병원\n",
       "494           의료법인 플러스의료재단 단원병원\n",
       "495       의료법인 효송의료재단 서안산노인전문병원\n",
       "496           의료법인더존의료재단 경희요양병원\n",
       "497             의료법인서전의료재단한사랑병원\n",
       "498             의료법인칠석의료재단사랑의병원\n",
       "499           의료법인해인의료재단 해인요양병원\n",
       "500            의료법인호원의료재단호원요양병원\n",
       "501                       장동욱병원\n",
       "502                      제이케이병원\n",
       "503                        치항병원\n",
       "504                      케이에스병원\n",
       "505                       탑치과병원\n",
       "506           튼튼건강의료소비자생협누리한방병원\n",
       "507                      하눌한방병원\n",
       "508                      한국치과병원\n",
       "509                      한빛여성병원\n",
       "510                      해솔한방병원\n",
       "511                      호수요양병원\n",
       "512                 경기도의료원 안성병원\n",
       "513                      대건효도병원\n",
       "514                       동안성병원\n",
       "515                   미소플란트치과병원\n",
       "516                       성요셉병원\n",
       "517                    안성강남한방병원\n",
       "518                      안성동인병원\n",
       "519                    안성동인요양병원\n",
       "520                      안성성모병원\n",
       "521                      안성요양병원\n",
       "522                    안성현대요양병원\n",
       "523                      인선요양병원\n",
       "524                     파라밀요양병원\n",
       "525                     허리편한 병원\n",
       "526                   365매일한방병원\n",
       "527                      국제나은병원\n",
       "528                   그린재활의학과병원\n",
       "529                      대윤한방병원\n",
       "530                      라온한방병원\n",
       "531                     메디하임효병원\n",
       "532                     민정형외과병원\n",
       "533                    바른몸 한방병원\n",
       "534                         본병원\n",
       "535                        봄빛병원\n",
       "536                      서울나우병원\n",
       "537                  선진병원(요양병원)\n",
       "538                     성심힐요양병원\n",
       "539                       아벤스병원\n",
       "540                 안양서울 대효요양병원\n",
       "541                      안양요양병원\n",
       "542                      안양한방병원\n",
       "543               원천의료재단 중화요양병원\n",
       "544               원천의료재단 중화한방병원\n",
       "545       의료법인 토마스의료재단 안양윌스기념병원\n",
       "546               의료법인 해뜨는 요양병원\n",
       "547            의료법인서원의료재단김형근예병원\n",
       "548                인산의료재단 메트로병원\n",
       "549                      자강한방병원\n",
       "550                     평촌예치과병원\n",
       "551                      평촌우리병원\n",
       "552                      평촌중앙병원\n",
       "553                   하늘빛재활의학병원\n",
       "554                   한림대학교성심병원\n",
       "555                효산의료재단 샘여성병원\n",
       "556                효산의료재단 안양샘병원\n",
       "557                   경기웰니스요양병원\n",
       "558                      국군양주병원\n",
       "559                    나무정원여성병원\n",
       "560                      돌담요양병원\n",
       "561                  서울 대효 요양병원\n",
       "562                      송추요양병원\n",
       "563                송추정신병원(성람재단)\n",
       "564                   송추효사랑요양병원\n",
       "565                     송추효요양병원\n",
       "566                      신안요양병원\n",
       "567                   실로암노인전문병원\n",
       "568                    양주가람한방병원\n",
       "569                      양주소망병원\n",
       "570                      양주예쓰병원\n",
       "571                      양주우리병원\n",
       "572                    양주큰길요양병원\n",
       "573                      양주한국병원\n",
       "574                     에스엘서울병원\n",
       "575                      연세요양병원\n",
       "576                      예쓰요양병원\n",
       "577                    국립교통재활병원\n",
       "578                     다나암요양병원\n",
       "579                   브니엘노인전문병원\n",
       "580                  생생우리누리요양병원\n",
       "581                    양수삼성요양병원\n",
       "582                        양평병원\n",
       "583                     양평엘한방병원\n",
       "584                      양평요양병원\n",
       "585                   양평효노인전문병원\n",
       "586                      한길요양병원\n",
       "587                    홍영노인전문병원\n",
       "588                경기도립노인전문여주병원\n",
       "589                 대암의료재단시애노병원\n",
       "590                      대진요양병원\n",
       "591                     베스트요양병원\n",
       "592                 상경원인터메드요양병원\n",
       "593                      세종여주병원\n",
       "594                    여주나무요양병원\n",
       "595                      여주세민병원\n",
       "596                      여주순영병원\n",
       "597                     연세새로운병원\n",
       "598                      중앙한방병원\n",
       "599             의료법인이정의료재단효사랑병원\n",
       "600                        버팀병원\n",
       "601                       삼성본병원\n",
       "602                     서울어린이병원\n",
       "603                      세교요양병원\n",
       "604                    세마그린요양병원\n",
       "605                       송호욱병원\n",
       "606                     스타트요양병원\n",
       "607                    오산노인전문병원\n",
       "608                 오산메디컬재활요양병원\n",
       "609                      오산세종병원\n",
       "610                    오산신경정신병원\n",
       "611                      오산한국병원\n",
       "612                        우현병원\n",
       "613                        웰봄병원\n",
       "614                      유림치과병원\n",
       "615                      이안한방병원\n",
       "616                      조은오산병원\n",
       "617                     평안한사랑병원\n",
       "618             (의)수지의료재단수지요양병원\n",
       "619             (의)영문의료재단 다보스병원\n",
       "620             (의)유일재단 하나애요양병원\n",
       "621            (의)현당의료재단 늘봄요양병원\n",
       "622            (의)효심의료재단 용인서울병원\n",
       "623             감인의료재단 신갈백세요양병원\n",
       "624                        강남병원\n",
       "625                      강동요양병원\n",
       "626                경기도립노인전문용인병원\n",
       "627                    경희나로한방병원\n",
       "628                   광교참좋은요양병원\n",
       "629                       김상수병원\n",
       "630           단국대학교 치과대학 죽전치과병원\n",
       "631                    대한통합한방병원\n",
       "632                      더원요양병원\n",
       "633                     동백성루카병원\n",
       "634                      동백요양병원\n",
       "635                      라현한방병원\n",
       "636                   로하스용인요양병원\n",
       "637                         린병원\n",
       "638                    마음심는치과병원\n",
       "639                   메디하임효요양병원\n",
       "640                        명주병원\n",
       "641                    베스트안요양병원\n",
       "642                 새로운경기도립정신병원\n",
       "643                    샘물호스피스병원\n",
       "644                 서울시립 백암정신병원\n",
       "645                      서울예스병원\n",
       "646                    에제르 요양병원\n",
       "647                      엠플러스병원\n",
       "648         연세대학교 의과대학 용인세브란스병원\n",
       "649                     연세프라임병원\n",
       "650                      예영한방병원\n",
       "651                     온누리요양병원\n",
       "652                     용인S한방병원\n",
       "653                    용인목토요양병원\n",
       "654                    용인서울요양병원\n",
       "655                      용인연세병원\n",
       "656                    용인이안한방병원\n",
       "657                      용인정신병원\n",
       "658                    용인제일메디병원\n",
       "659                      용인한방병원\n",
       "660                     용인효요양병원\n",
       "661                       우리호병원\n",
       "662         의료법인 상록의료재단 굿모닝한방병원\n",
       "663             의료법인광화의료재단러스크병원\n",
       "664            의료법인광화의료재단하워드힐병원\n",
       "665                        이음병원\n",
       "666                       조은손병원\n",
       "667                    컬럼비아치과병원\n",
       "668                    케어스힐요양병원\n",
       "669                     포브스요양병원\n",
       "670                        효자병원\n",
       "671                    흥덕우리요양병원\n",
       "672                     다사랑중앙병원\n",
       "673                      부곡치과병원\n",
       "674                   서울와이즈요양병원\n",
       "675                아가페의료재단 시티병원\n",
       "676                     우리효요양병원\n",
       "677        의료법인 계요의료재단 계요노인전문병원\n",
       "678            의료법인 계요의료재단 계요병원\n",
       "679          의료법인대성의료재단 한림예요양병원\n",
       "680               가톨릭대학교의정부성모병원\n",
       "681                 경기도의료원의정부병원\n",
       "682                     더드림요양병원\n",
       "683                    로체스터재활병원\n",
       "684                       리하트병원\n",
       "685                    마스터플러스병원\n",
       "686                     바를정한방병원\n",
       "687                       새하늘병원\n",
       "688                       서울척병원\n",
       "689                        센텀병원\n",
       "690                       신여성병원\n",
       "691                     아이엠요양병원\n",
       "692                      연세고든병원\n",
       "693                     연세오케이병원\n",
       "694                    우리조은한방병원\n",
       "695                    우먼피아여성병원\n",
       "696          의료법인 송화의료재단 조은요양병원\n",
       "697          의료법인 영동의료재단 의정부백병원\n",
       "698                  의료법인성베드로병원\n",
       "699                 의정부 모커리한방병원\n",
       "700                   의정부민락요양병원\n",
       "701                   의정부연세요양병원\n",
       "702                     의정부요양병원\n",
       "703                   의정부쾌척한방병원\n",
       "704                    의정부힐링스병원\n",
       "705                      자황한방병원\n",
       "706                     중앙효요양병원\n",
       "707                       참튼튼병원\n",
       "708                        청우병원\n",
       "709                         추병원\n",
       "710                    카네이션요양병원\n",
       "711                     탑연세치과병원\n",
       "712                     튼튼어린이병원\n",
       "713        학교법인 을지학원 의정부을지대학교병원\n",
       "714                      한도한방병원\n",
       "715                      한서중앙병원\n",
       "716                      해동한방병원\n",
       "717                        호원병원\n",
       "718                 경기도의료원 이천병원\n",
       "719                        바른병원\n",
       "720                     성안드레아병원\n",
       "721                      우리요양병원\n",
       "722         의료법인 목민의료재단 장호원요양병원\n",
       "723            의료법인양지의료재단양지요양병원\n",
       "724                이천 연세스위트치과병원\n",
       "725                      이천소망병원\n",
       "726                    이천소망요양병원\n",
       "727                     이천엘리야병원\n",
       "728                     이천파티마병원\n",
       "729                     이천효요양병원\n",
       "730                       추새로병원\n",
       "731            한국관광대학 부설 노인전문병원\n",
       "732                  경기도의료원파주병원\n",
       "733                      광탄현대병원\n",
       "734                     기대플러스병원\n",
       "735                      동서한방병원\n",
       "736                       메디인병원\n",
       "737                     메디힐요양병원\n",
       "738                      무척조은병원\n",
       "739                      문산중앙병원\n",
       "740                       미소래병원\n",
       "741                       민들레병원\n",
       "742                  뷰티앤디지털치과병원\n",
       "743                  브이아이씨365병원\n",
       "744                서울선(SUN)치과병원\n",
       "745                     세계로요양병원\n",
       "746                      소망요양병원\n",
       "747                      스타한방병원\n",
       "748                      시민요양병원\n",
       "749                   연세나을암요양병원\n",
       "750                      연세요양병원\n",
       "751                      예담요양병원\n",
       "752                     우리애요양병원\n",
       "753                  운정서울대효요양병원\n",
       "754                     운정와이즈병원\n",
       "755                    운정한강요양병원\n",
       "756                      운정한방병원\n",
       "757                     월산암요양병원\n",
       "758                        인본병원\n",
       "759                    자성대 요양병원\n",
       "760                     자유로요양병원\n",
       "761                    조앤조숲요양병원\n",
       "762                     참나무요양병원\n",
       "763                       코키아병원\n",
       "764                     큰나무요양병원\n",
       "765                    파주드림요양병원\n",
       "766                   파주로하스요양병원\n",
       "767                    파주미래아동병원\n",
       "768                    파주삼성요양병원\n",
       "769                    파주성모요양병원\n",
       "770                    파주시티요양병원\n",
       "771                   퍼스트보람요양병원\n",
       "772                     한사랑요양병원\n",
       "773               경기도립노인전문 평택병원\n",
       "774                      도솔한방병원\n",
       "775                      사랑한방병원\n",
       "776                      서울요양병원\n",
       "777                      서울제일병원\n",
       "778                      서울제일병원\n",
       "779                      성심중앙병원\n",
       "780                      스마일본병원\n",
       "781                      연세다움병원\n",
       "782                   연세로하스요양병원\n",
       "783             의료법인 갈렌의료재단 박병원\n",
       "784            의료법인 박애의료재단 박애병원\n",
       "785        의료법인 설백의료재단 평택국제요양병원\n",
       "786          의료법인 양진의료재단 평택성모병원\n",
       "787      의료법인 양진의료재단 한빛성세노인전문병원\n",
       "788          의료법인 청파의료재단 송탄중앙병원\n",
       "789       의료법인 혜담의료재단 평택이편안요양병원\n",
       "790            의료법인백성의료재단 안중백병원\n",
       "791            의료법인백송의료재단 굿모닝병원\n",
       "792          의료법인양진의료재단 성세아이들병원\n",
       "793          의료법인자비의료재단 더나은요양병원\n",
       "794                    지제도솔한방병원\n",
       "795                    평택21세기병원\n",
       "796                      평택비전병원\n",
       "797                    평택삼성요양병원\n",
       "798                      평택우리병원\n",
       "799                   평택제니스요양병원\n",
       "800                     평택준한방병원\n",
       "801                      평택한방병원\n",
       "802                         강병원\n",
       "803                  경기도의료원포천병원\n",
       "804                      국군포천병원\n",
       "805           의료법인 범문의료재단 진요양병원\n",
       "806              의료법인일심의료재단우리병원\n",
       "807                        인화병원\n",
       "808                    포천새맘요양병원\n",
       "809                    포천힐링요양병원\n",
       "810                한내 가족처럼 요양병원\n",
       "811                      화현요양병원\n",
       "812                  강동서울대효요양병원\n",
       "813                   강동스마일요양병원\n",
       "814                         금병원\n",
       "815                      더 바른병원\n",
       "816                     라이프요양병원\n",
       "817                    미사강변요양병원\n",
       "818                    미사경희한방병원\n",
       "819                   미사다나음한방병원\n",
       "820                      미사바른병원\n",
       "821                      미사튼튼병원\n",
       "822                     유나이티드병원\n",
       "823                        청봉병원\n",
       "824                       하남S병원\n",
       "825                    하남샬롬요양병원\n",
       "826                      하남요양병원\n",
       "827                        햇살병원\n",
       "828               근로복지공단 경기요양병원\n",
       "829                       나이스병원\n",
       "830                      남양한방병원\n",
       "831                    더퍼스트요양병원\n",
       "832                   동탄2튼튼한방병원\n",
       "833                   동탄더하다한방병원\n",
       "834                      동탄성모병원\n",
       "835                   동탄센트럴치과병원\n",
       "836                      동탄시티병원\n",
       "837                      메타메디병원\n",
       "838                      바르다임병원\n",
       "839                    베스트아이들병원\n",
       "840           사회복지법인 상록원 상록요양병원\n",
       "841                    삼성우리요양병원\n",
       "842                        새봄병원\n",
       "843                        새샘병원\n",
       "844                     센트럴아동병원\n",
       "845                      송산한방병원\n",
       "846                       수앤수병원\n",
       "847                    연세나은요양병원\n",
       "848          의료법인 승민의료재단 화성초록병원\n",
       "849           의료법인 시몬의료재단 우리가병원\n",
       "850        의료법인 아주효성의료재단 효성요양병원\n",
       "851          의료법인 원광의료재단 원광종합병원\n",
       "852      의료법인 은혜와감사의료재단 향남스마트병원\n",
       "853     의료법인 은혜와감사의료재단 화성중앙종합병원\n",
       "854        의료법인 일선의료재단 화성현대요양병원\n",
       "855           의료법인상운의료재단 동탄제일병원\n",
       "856         의료법인정도의료재단 화성미소요양병원\n",
       "857                      제일요양병원\n",
       "858                      튼튼한방병원\n",
       "859                      한독한방병원\n",
       "860                 한림대학교동탄성심병원\n",
       "861                      한송한방병원\n",
       "862                     화성디에스병원\n",
       "863                      화성유일병원\n",
       "864                      화성한방병원\n",
       "865                    화성해인요양병원\n",
       "866                       희망찬병원"
      ]
     },
     "metadata": {},
     "output_type": "display_data"
    }
   ],
   "source": [
    "#백업용    \n",
    "\n",
    "import requests\n",
    "import pandas as pd\n",
    "from time import sleep\n",
    "\n",
    "\n",
    "#의료법인 세경의료재단 새빛안과병원\n",
    "\n",
    "\n",
    "# 카카오API를 사용하여 주소->좌표 변환\n",
    "#카카오 API를 돌려보니 위도랑 경도가 서로 바뀌어서 나와서 코드로 다시 돌려줌. \n",
    "import requests, json\n",
    "API = 'API 코드'\n",
    "def get_location(NM):\n",
    "    url = 'https://dapi.kakao.com/v2/local/search/keyword.json?query={}'.format(NM)\n",
    "    headers = {\n",
    "        \"Authorization\": \"KakaoAK API\"\n",
    "    }\n",
    "    places = requests.get(url, headers = headers).json()['documents']\n",
    "    place_dropx = places[0]['y']\n",
    "    place_dropy = places[0]['x']\n",
    "    display(place_dropx)\n",
    "    return place_dropx, place_dropy\n",
    "   \n",
    "    \n",
    "#places의 타입은 리스트임  \n",
    "\n",
    "pd.set_option('display.max_rows', None)\n",
    "pd.set_option('display.max_columns', None)\n",
    "df = pd.read_csv('C:/Users/김동혁/hyeok python/project file/medicback.csv', encoding = 'cp949')\n",
    "df_drop_sample = df[['시군명','사업장명','소재지시설전화번호','위도','경도','소재지도로명주소','영업상태명']] \n",
    "df_ddrop_sample = df_drop_sample[df_drop_sample['영업상태명'].str.contains('영업')]\n",
    "df_fn = df_ddrop_sample.reset_index(drop=True)\n",
    "address_fix = df_fn[['위도','경도','사업장명']]\n",
    "address_api = address_fix[['사업장명']]\n",
    "display(address_api)\n",
    "#for item in range(len(address_api)): \n",
    "    #get_location((address_api['사업장명'][item]))\n",
    "\n",
    "\n"
   ]
  },
  {
   "cell_type": "code",
   "execution_count": null,
   "id": "ed5ae6eb-b280-4bcb-9a01-7d173000c022",
   "metadata": {},
   "outputs": [],
   "source": [
    "#백업용    \n",
    "\n",
    "import requests\n",
    "import pandas as pd\n",
    "from time import sleep\n",
    "global place_dropx\n",
    "global place_dopry\n",
    "\n",
    " #place_dropx = places[0]['y']\n",
    "  #  place_dropy = places[0]['x']\n",
    "   # if place_dropx == None:\n",
    "    #    place_dropx = 2\n",
    "     #   place_dropy = 2\n",
    "      #  return place_dropx, place_dropy\n",
    "    #else:\n",
    "     #   place_dropx = places[0]['y']\n",
    "      #  place_dropy = places[0]['x']\n",
    "       # return place_dropx, place_dropy\n",
    "\n",
    "\n",
    "\n",
    "# 카카오API를 사용하여 주소->좌표 변환\n",
    "#카카오 API를 돌려보니 위도랑 경도가 서로 바뀌어서 나와서 코드로 다시 돌려줌. \n",
    "import requests, json\n",
    "API = '5447c5684f667dab614751e443d87ad2'\n",
    "def get_location(NM):\n",
    "    global place_dropx\n",
    "    global place_dropy\n",
    "    try:\n",
    "        url = 'https://dapi.kakao.com/v2/local/search/keyword.json?query={}'.format(NM)\n",
    "        headers = {\n",
    "            \"Authorization\": \"KakaoAK 5447c5684f667dab614751e443d87ad2\"\n",
    "        }\n",
    "        places = requests.get(url, headers = headers).json()['documents']\n",
    "        place_dropx = places[0]['y']\n",
    "        place_dropy = places[0]['x']\n",
    "        return place_dropx, place_dropy\n",
    "    except:\n",
    "        return place_dropx, place_dropy\n",
    "        pass\n",
    "        return place_dropx, place_dropy\n",
    "#places의 타입은 리스트임  \n",
    "global place_dropx\n",
    "global place_dropy\n",
    "pd.set_option('display.max_rows', None)\n",
    "pd.set_option('display.max_columns', None)\n",
    "df = pd.read_csv('C:/Users/김동혁/hyeok python/project file/medicback.csv', encoding = 'cp949')\n",
    "df_drop_sample = df[['시군명','사업장명','소재지시설전화번호','위도','경도','소재지도로명주소','영업상태명']] \n",
    "df_ddrop_sample = df_drop_sample[df_drop_sample['영업상태명'].str.contains('영업')]\n",
    "df_fn = df_ddrop_sample.reset_index(drop=True)\n",
    "address_fix = df_fn[['위도','경도','사업장명']]\n",
    "address_api = address_fix[['사업장명']]\n",
    "\n",
    "for item in range(len(address_api)): \n",
    "    get_location((address_api['사업장명'][item]))\n",
    "display(place_dropx,place_dropy)"
   ]
  },
  {
   "cell_type": "code",
   "execution_count": 9,
   "id": "cbd2e995-8f7d-452f-87f5-e5b162a608e2",
   "metadata": {},
   "outputs": [
    {
     "data": {
      "text/plain": [
       "'37.788635945919445'"
      ]
     },
     "metadata": {},
     "output_type": "display_data"
    },
    {
     "data": {
      "text/plain": [
       "'127.40443604391017'"
      ]
     },
     "metadata": {},
     "output_type": "display_data"
    },
    {
     "data": {
      "text/plain": [
       "'37.8411750641129'"
      ]
     },
     "metadata": {},
     "output_type": "display_data"
    },
    {
     "data": {
      "text/plain": [
       "'127.30407062975'"
      ]
     },
     "metadata": {},
     "output_type": "display_data"
    },
    {
     "data": {
      "text/plain": [
       "'37.7473174659906'"
      ]
     },
     "metadata": {},
     "output_type": "display_data"
    },
    {
     "data": {
      "text/plain": [
       "'127.525994213545'"
      ]
     },
     "metadata": {},
     "output_type": "display_data"
    },
    {
     "data": {
      "text/plain": [
       "'37.8849401687725'"
      ]
     },
     "metadata": {},
     "output_type": "display_data"
    },
    {
     "data": {
      "text/plain": [
       "'127.351698562824'"
      ]
     },
     "metadata": {},
     "output_type": "display_data"
    },
    {
     "data": {
      "text/plain": [
       "'37.691139516030645'"
      ]
     },
     "metadata": {},
     "output_type": "display_data"
    },
    {
     "data": {
      "text/plain": [
       "'127.52137494892459'"
      ]
     },
     "metadata": {},
     "output_type": "display_data"
    },
    {
     "data": {
      "text/plain": [
       "'37.69116475236103'"
      ]
     },
     "metadata": {},
     "output_type": "display_data"
    },
    {
     "data": {
      "text/plain": [
       "'127.52137285805374'"
      ]
     },
     "metadata": {},
     "output_type": "display_data"
    },
    {
     "data": {
      "text/plain": [
       "'37.7371239176072'"
      ]
     },
     "metadata": {},
     "output_type": "display_data"
    },
    {
     "data": {
      "text/plain": [
       "'127.415468745851'"
      ]
     },
     "metadata": {},
     "output_type": "display_data"
    },
    {
     "data": {
      "text/plain": [
       "'37.66364541576377'"
      ]
     },
     "metadata": {},
     "output_type": "display_data"
    },
    {
     "data": {
      "text/plain": [
       "'127.38766310892991'"
      ]
     },
     "metadata": {},
     "output_type": "display_data"
    },
    {
     "data": {
      "text/plain": [
       "'37.6226935916378'"
      ]
     },
     "metadata": {},
     "output_type": "display_data"
    },
    {
     "data": {
      "text/plain": [
       "'126.835433811544'"
      ]
     },
     "metadata": {},
     "output_type": "display_data"
    },
    {
     "data": {
      "text/plain": [
       "'37.67725130417357'"
      ]
     },
     "metadata": {},
     "output_type": "display_data"
    },
    {
     "data": {
      "text/plain": [
       "'126.74672643040681'"
      ]
     },
     "metadata": {},
     "output_type": "display_data"
    },
    {
     "data": {
      "text/plain": [
       "'37.6272051556246'"
      ]
     },
     "metadata": {},
     "output_type": "display_data"
    },
    {
     "data": {
      "text/plain": [
       "'126.829945550148'"
      ]
     },
     "metadata": {},
     "output_type": "display_data"
    },
    {
     "data": {
      "text/plain": [
       "'37.7114939273297'"
      ]
     },
     "metadata": {},
     "output_type": "display_data"
    },
    {
     "data": {
      "text/plain": [
       "'126.854453844636'"
      ]
     },
     "metadata": {},
     "output_type": "display_data"
    },
    {
     "data": {
      "text/plain": [
       "'37.64773280467251'"
      ]
     },
     "metadata": {},
     "output_type": "display_data"
    },
    {
     "data": {
      "text/plain": [
       "'126.87589936263151'"
      ]
     },
     "metadata": {},
     "output_type": "display_data"
    },
    {
     "data": {
      "text/plain": [
       "'37.7193493604704'"
      ]
     },
     "metadata": {},
     "output_type": "display_data"
    },
    {
     "data": {
      "text/plain": [
       "'126.898101475548'"
      ]
     },
     "metadata": {},
     "output_type": "display_data"
    },
    {
     "data": {
      "text/plain": [
       "'37.6632797887114'"
      ]
     },
     "metadata": {},
     "output_type": "display_data"
    },
    {
     "data": {
      "text/plain": [
       "'126.783336304037'"
      ]
     },
     "metadata": {},
     "output_type": "display_data"
    },
    {
     "data": {
      "text/plain": [
       "'37.6455549955723'"
      ]
     },
     "metadata": {},
     "output_type": "display_data"
    },
    {
     "data": {
      "text/plain": [
       "'126.792982867548'"
      ]
     },
     "metadata": {},
     "output_type": "display_data"
    },
    {
     "data": {
      "text/plain": [
       "'37.64479123883855'"
      ]
     },
     "metadata": {},
     "output_type": "display_data"
    },
    {
     "data": {
      "text/plain": [
       "'126.78507604859905'"
      ]
     },
     "metadata": {},
     "output_type": "display_data"
    },
    {
     "data": {
      "text/plain": [
       "'36.5813388106208'"
      ]
     },
     "metadata": {},
     "output_type": "display_data"
    },
    {
     "data": {
      "text/plain": [
       "'128.19417827183'"
      ]
     },
     "metadata": {},
     "output_type": "display_data"
    },
    {
     "data": {
      "text/plain": [
       "'37.711932271788'"
      ]
     },
     "metadata": {},
     "output_type": "display_data"
    },
    {
     "data": {
      "text/plain": [
       "'126.79121059335'"
      ]
     },
     "metadata": {},
     "output_type": "display_data"
    },
    {
     "data": {
      "text/plain": [
       "'37.63045170414854'"
      ]
     },
     "metadata": {},
     "output_type": "display_data"
    },
    {
     "data": {
      "text/plain": [
       "'126.83204075729941'"
      ]
     },
     "metadata": {},
     "output_type": "display_data"
    },
    {
     "data": {
      "text/plain": [
       "'37.67651570387323'"
      ]
     },
     "metadata": {},
     "output_type": "display_data"
    },
    {
     "data": {
      "text/plain": [
       "'126.80644301516296'"
      ]
     },
     "metadata": {},
     "output_type": "display_data"
    },
    {
     "data": {
      "text/plain": [
       "'37.6765501751964'"
      ]
     },
     "metadata": {},
     "output_type": "display_data"
    },
    {
     "data": {
      "text/plain": [
       "'126.806585755292'"
      ]
     },
     "metadata": {},
     "output_type": "display_data"
    },
    {
     "data": {
      "text/plain": [
       "'37.667232946571'"
      ]
     },
     "metadata": {},
     "output_type": "display_data"
    },
    {
     "data": {
      "text/plain": [
       "'126.801577519836'"
      ]
     },
     "metadata": {},
     "output_type": "display_data"
    },
    {
     "data": {
      "text/plain": [
       "'37.67291236829969'"
      ]
     },
     "metadata": {},
     "output_type": "display_data"
    },
    {
     "data": {
      "text/plain": [
       "'126.77812134405409'"
      ]
     },
     "metadata": {},
     "output_type": "display_data"
    },
    {
     "data": {
      "text/plain": [
       "'37.6990995323219'"
      ]
     },
     "metadata": {},
     "output_type": "display_data"
    },
    {
     "data": {
      "text/plain": [
       "'126.755927512124'"
      ]
     },
     "metadata": {},
     "output_type": "display_data"
    },
    {
     "data": {
      "text/plain": [
       "'37.6275280356065'"
      ]
     },
     "metadata": {},
     "output_type": "display_data"
    },
    {
     "data": {
      "text/plain": [
       "'126.828925272636'"
      ]
     },
     "metadata": {},
     "output_type": "display_data"
    },
    {
     "data": {
      "text/plain": [
       "'37.68504305881709'"
      ]
     },
     "metadata": {},
     "output_type": "display_data"
    },
    {
     "data": {
      "text/plain": [
       "'126.77523283049642'"
      ]
     },
     "metadata": {},
     "output_type": "display_data"
    },
    {
     "data": {
      "text/plain": [
       "'37.657398666637086'"
      ]
     },
     "metadata": {},
     "output_type": "display_data"
    },
    {
     "data": {
      "text/plain": [
       "'126.83744247325718'"
      ]
     },
     "metadata": {},
     "output_type": "display_data"
    },
    {
     "data": {
      "text/plain": [
       "'37.6706534240647'"
      ]
     },
     "metadata": {},
     "output_type": "display_data"
    },
    {
     "data": {
      "text/plain": [
       "'126.75918991152'"
      ]
     },
     "metadata": {},
     "output_type": "display_data"
    },
    {
     "data": {
      "text/plain": [
       "'37.6339281815459'"
      ]
     },
     "metadata": {},
     "output_type": "display_data"
    },
    {
     "data": {
      "text/plain": [
       "'126.831113000582'"
      ]
     },
     "metadata": {},
     "output_type": "display_data"
    },
    {
     "data": {
      "text/plain": [
       "'37.6919639251515'"
      ]
     },
     "metadata": {},
     "output_type": "display_data"
    },
    {
     "data": {
      "text/plain": [
       "'126.763048506094'"
      ]
     },
     "metadata": {},
     "output_type": "display_data"
    },
    {
     "data": {
      "text/plain": [
       "'37.6970058753141'"
      ]
     },
     "metadata": {},
     "output_type": "display_data"
    },
    {
     "data": {
      "text/plain": [
       "'126.739189249237'"
      ]
     },
     "metadata": {},
     "output_type": "display_data"
    },
    {
     "data": {
      "text/plain": [
       "'37.67125249263253'"
      ]
     },
     "metadata": {},
     "output_type": "display_data"
    },
    {
     "data": {
      "text/plain": [
       "'126.75959149721344'"
      ]
     },
     "metadata": {},
     "output_type": "display_data"
    },
    {
     "data": {
      "text/plain": [
       "'37.6215622648483'"
      ]
     },
     "metadata": {},
     "output_type": "display_data"
    },
    {
     "data": {
      "text/plain": [
       "'126.818445299098'"
      ]
     },
     "metadata": {},
     "output_type": "display_data"
    },
    {
     "data": {
      "text/plain": [
       "'37.6336972118044'"
      ]
     },
     "metadata": {},
     "output_type": "display_data"
    },
    {
     "data": {
      "text/plain": [
       "'126.833424676051'"
      ]
     },
     "metadata": {},
     "output_type": "display_data"
    },
    {
     "data": {
      "text/plain": [
       "'37.65126824768468'"
      ]
     },
     "metadata": {},
     "output_type": "display_data"
    },
    {
     "data": {
      "text/plain": [
       "'126.87418576914962'"
      ]
     },
     "metadata": {},
     "output_type": "display_data"
    },
    {
     "data": {
      "text/plain": [
       "'37.6518758221244'"
      ]
     },
     "metadata": {},
     "output_type": "display_data"
    },
    {
     "data": {
      "text/plain": [
       "'126.77882760223'"
      ]
     },
     "metadata": {},
     "output_type": "display_data"
    },
    {
     "data": {
      "text/plain": [
       "'37.288485872444305'"
      ]
     },
     "metadata": {},
     "output_type": "display_data"
    },
    {
     "data": {
      "text/plain": [
       "'126.8631350671943'"
      ]
     },
     "metadata": {},
     "output_type": "display_data"
    },
    {
     "data": {
      "text/plain": [
       "'37.657078444316'"
      ]
     },
     "metadata": {},
     "output_type": "display_data"
    },
    {
     "data": {
      "text/plain": [
       "'126.774260949047'"
      ]
     },
     "metadata": {},
     "output_type": "display_data"
    },
    {
     "data": {
      "text/plain": [
       "'37.6705693525593'"
      ]
     },
     "metadata": {},
     "output_type": "display_data"
    },
    {
     "data": {
      "text/plain": [
       "'126.762159892988'"
      ]
     },
     "metadata": {},
     "output_type": "display_data"
    },
    {
     "data": {
      "text/plain": [
       "'37.70046036148527'"
      ]
     },
     "metadata": {},
     "output_type": "display_data"
    },
    {
     "data": {
      "text/plain": [
       "'126.77895094439377'"
      ]
     },
     "metadata": {},
     "output_type": "display_data"
    },
    {
     "data": {
      "text/plain": [
       "'37.65620921617289'"
      ]
     },
     "metadata": {},
     "output_type": "display_data"
    },
    {
     "data": {
      "text/plain": [
       "'126.83538139993954'"
      ]
     },
     "metadata": {},
     "output_type": "display_data"
    },
    {
     "data": {
      "text/plain": [
       "'37.65116898864379'"
      ]
     },
     "metadata": {},
     "output_type": "display_data"
    },
    {
     "data": {
      "text/plain": [
       "'126.87404428861446'"
      ]
     },
     "metadata": {},
     "output_type": "display_data"
    },
    {
     "data": {
      "text/plain": [
       "'37.65116898864379'"
      ]
     },
     "metadata": {},
     "output_type": "display_data"
    },
    {
     "data": {
      "text/plain": [
       "'126.87404428861446'"
      ]
     },
     "metadata": {},
     "output_type": "display_data"
    },
    {
     "data": {
      "text/plain": [
       "'37.7004126027876'"
      ]
     },
     "metadata": {},
     "output_type": "display_data"
    },
    {
     "data": {
      "text/plain": [
       "'126.833180256251'"
      ]
     },
     "metadata": {},
     "output_type": "display_data"
    },
    {
     "data": {
      "text/plain": [
       "'37.1633602507517'"
      ]
     },
     "metadata": {},
     "output_type": "display_data"
    },
    {
     "data": {
      "text/plain": [
       "'128.23397654237'"
      ]
     },
     "metadata": {},
     "output_type": "display_data"
    },
    {
     "data": {
      "text/plain": [
       "'37.1633602507517'"
      ]
     },
     "metadata": {},
     "output_type": "display_data"
    },
    {
     "data": {
      "text/plain": [
       "'128.23397654237'"
      ]
     },
     "metadata": {},
     "output_type": "display_data"
    },
    {
     "data": {
      "text/plain": [
       "'37.68403610337961'"
      ]
     },
     "metadata": {},
     "output_type": "display_data"
    },
    {
     "data": {
      "text/plain": [
       "'126.77922643058336'"
      ]
     },
     "metadata": {},
     "output_type": "display_data"
    },
    {
     "data": {
      "text/plain": [
       "'37.65413325427682'"
      ]
     },
     "metadata": {},
     "output_type": "display_data"
    },
    {
     "data": {
      "text/plain": [
       "'126.77573852802718'"
      ]
     },
     "metadata": {},
     "output_type": "display_data"
    },
    {
     "data": {
      "text/plain": [
       "'37.7230999226411'"
      ]
     },
     "metadata": {},
     "output_type": "display_data"
    },
    {
     "data": {
      "text/plain": [
       "'126.864771222482'"
      ]
     },
     "metadata": {},
     "output_type": "display_data"
    },
    {
     "data": {
      "text/plain": [
       "'37.6820538331719'"
      ]
     },
     "metadata": {},
     "output_type": "display_data"
    },
    {
     "data": {
      "text/plain": [
       "'126.780125623431'"
      ]
     },
     "metadata": {},
     "output_type": "display_data"
    },
    {
     "data": {
      "text/plain": [
       "'37.622963394534835'"
      ]
     },
     "metadata": {},
     "output_type": "display_data"
    },
    {
     "data": {
      "text/plain": [
       "'126.83572660036613'"
      ]
     },
     "metadata": {},
     "output_type": "display_data"
    },
    {
     "data": {
      "text/plain": [
       "'37.7563544165017'"
      ]
     },
     "metadata": {},
     "output_type": "display_data"
    },
    {
     "data": {
      "text/plain": [
       "'126.772175757075'"
      ]
     },
     "metadata": {},
     "output_type": "display_data"
    },
    {
     "data": {
      "text/plain": [
       "'37.6482091296455'"
      ]
     },
     "metadata": {},
     "output_type": "display_data"
    },
    {
     "data": {
      "text/plain": [
       "'126.78189341467'"
      ]
     },
     "metadata": {},
     "output_type": "display_data"
    },
    {
     "data": {
      "text/plain": [
       "'37.67427511448869'"
      ]
     },
     "metadata": {},
     "output_type": "display_data"
    },
    {
     "data": {
      "text/plain": [
       "'126.75040692716065'"
      ]
     },
     "metadata": {},
     "output_type": "display_data"
    },
    {
     "data": {
      "text/plain": [
       "'37.6762933528809'"
      ]
     },
     "metadata": {},
     "output_type": "display_data"
    },
    {
     "data": {
      "text/plain": [
       "'126.746208247433'"
      ]
     },
     "metadata": {},
     "output_type": "display_data"
    },
    {
     "data": {
      "text/plain": [
       "'37.6745479071252'"
      ]
     },
     "metadata": {},
     "output_type": "display_data"
    },
    {
     "data": {
      "text/plain": [
       "'126.807506851759'"
      ]
     },
     "metadata": {},
     "output_type": "display_data"
    },
    {
     "data": {
      "text/plain": [
       "'37.6762851606348'"
      ]
     },
     "metadata": {},
     "output_type": "display_data"
    },
    {
     "data": {
      "text/plain": [
       "'126.748271361239'"
      ]
     },
     "metadata": {},
     "output_type": "display_data"
    },
    {
     "data": {
      "text/plain": [
       "'37.6818939502614'"
      ]
     },
     "metadata": {},
     "output_type": "display_data"
    },
    {
     "data": {
      "text/plain": [
       "'126.780389102076'"
      ]
     },
     "metadata": {},
     "output_type": "display_data"
    },
    {
     "data": {
      "text/plain": [
       "'37.6447577039508'"
      ]
     },
     "metadata": {},
     "output_type": "display_data"
    },
    {
     "data": {
      "text/plain": [
       "'126.784473343912'"
      ]
     },
     "metadata": {},
     "output_type": "display_data"
    },
    {
     "data": {
      "text/plain": [
       "'37.6447577039508'"
      ]
     },
     "metadata": {},
     "output_type": "display_data"
    },
    {
     "data": {
      "text/plain": [
       "'126.784473343912'"
      ]
     },
     "metadata": {},
     "output_type": "display_data"
    },
    {
     "data": {
      "text/plain": [
       "'37.6447577039508'"
      ]
     },
     "metadata": {},
     "output_type": "display_data"
    },
    {
     "data": {
      "text/plain": [
       "'126.784473343912'"
      ]
     },
     "metadata": {},
     "output_type": "display_data"
    },
    {
     "data": {
      "text/plain": [
       "'37.64938672084043'"
      ]
     },
     "metadata": {},
     "output_type": "display_data"
    },
    {
     "data": {
      "text/plain": [
       "'126.78044066514875'"
      ]
     },
     "metadata": {},
     "output_type": "display_data"
    },
    {
     "data": {
      "text/plain": [
       "'37.6637577319763'"
      ]
     },
     "metadata": {},
     "output_type": "display_data"
    },
    {
     "data": {
      "text/plain": [
       "'126.76564975131'"
      ]
     },
     "metadata": {},
     "output_type": "display_data"
    },
    {
     "data": {
      "text/plain": [
       "'37.6999833884845'"
      ]
     },
     "metadata": {},
     "output_type": "display_data"
    },
    {
     "data": {
      "text/plain": [
       "'126.746113899347'"
      ]
     },
     "metadata": {},
     "output_type": "display_data"
    },
    {
     "data": {
      "text/plain": [
       "'37.6635018850866'"
      ]
     },
     "metadata": {},
     "output_type": "display_data"
    },
    {
     "data": {
      "text/plain": [
       "'126.76748661452'"
      ]
     },
     "metadata": {},
     "output_type": "display_data"
    },
    {
     "data": {
      "text/plain": [
       "'37.68255208151828'"
      ]
     },
     "metadata": {},
     "output_type": "display_data"
    },
    {
     "data": {
      "text/plain": [
       "'126.7806138937793'"
      ]
     },
     "metadata": {},
     "output_type": "display_data"
    },
    {
     "data": {
      "text/plain": [
       "'37.6853064442946'"
      ]
     },
     "metadata": {},
     "output_type": "display_data"
    },
    {
     "data": {
      "text/plain": [
       "'126.777290837751'"
      ]
     },
     "metadata": {},
     "output_type": "display_data"
    },
    {
     "data": {
      "text/plain": [
       "'37.6765646181297'"
      ]
     },
     "metadata": {},
     "output_type": "display_data"
    },
    {
     "data": {
      "text/plain": [
       "'126.798002333121'"
      ]
     },
     "metadata": {},
     "output_type": "display_data"
    },
    {
     "data": {
      "text/plain": [
       "'37.6597043517635'"
      ]
     },
     "metadata": {},
     "output_type": "display_data"
    },
    {
     "data": {
      "text/plain": [
       "'126.767992582654'"
      ]
     },
     "metadata": {},
     "output_type": "display_data"
    },
    {
     "data": {
      "text/plain": [
       "'37.6617613983628'"
      ]
     },
     "metadata": {},
     "output_type": "display_data"
    },
    {
     "data": {
      "text/plain": [
       "'126.80325129975'"
      ]
     },
     "metadata": {},
     "output_type": "display_data"
    },
    {
     "data": {
      "text/plain": [
       "'37.6824663130422'"
      ]
     },
     "metadata": {},
     "output_type": "display_data"
    },
    {
     "data": {
      "text/plain": [
       "'126.781004124879'"
      ]
     },
     "metadata": {},
     "output_type": "display_data"
    },
    {
     "data": {
      "text/plain": [
       "'37.6630621216844'"
      ]
     },
     "metadata": {},
     "output_type": "display_data"
    },
    {
     "data": {
      "text/plain": [
       "'126.771128348302'"
      ]
     },
     "metadata": {},
     "output_type": "display_data"
    },
    {
     "data": {
      "text/plain": [
       "'37.6712314511629'"
      ]
     },
     "metadata": {},
     "output_type": "display_data"
    },
    {
     "data": {
      "text/plain": [
       "'126.759877203836'"
      ]
     },
     "metadata": {},
     "output_type": "display_data"
    },
    {
     "data": {
      "text/plain": [
       "'37.6712314511629'"
      ]
     },
     "metadata": {},
     "output_type": "display_data"
    },
    {
     "data": {
      "text/plain": [
       "'126.759877203836'"
      ]
     },
     "metadata": {},
     "output_type": "display_data"
    },
    {
     "data": {
      "text/plain": [
       "'37.6712314511629'"
      ]
     },
     "metadata": {},
     "output_type": "display_data"
    },
    {
     "data": {
      "text/plain": [
       "'126.759877203836'"
      ]
     },
     "metadata": {},
     "output_type": "display_data"
    },
    {
     "data": {
      "text/plain": [
       "'37.6712314511629'"
      ]
     },
     "metadata": {},
     "output_type": "display_data"
    },
    {
     "data": {
      "text/plain": [
       "'126.759877203836'"
      ]
     },
     "metadata": {},
     "output_type": "display_data"
    },
    {
     "data": {
      "text/plain": [
       "'37.6712314511629'"
      ]
     },
     "metadata": {},
     "output_type": "display_data"
    },
    {
     "data": {
      "text/plain": [
       "'126.759877203836'"
      ]
     },
     "metadata": {},
     "output_type": "display_data"
    },
    {
     "data": {
      "text/plain": [
       "'37.619503225862'"
      ]
     },
     "metadata": {},
     "output_type": "display_data"
    },
    {
     "data": {
      "text/plain": [
       "'126.842721856766'"
      ]
     },
     "metadata": {},
     "output_type": "display_data"
    },
    {
     "data": {
      "text/plain": [
       "'37.5686441558171'"
      ]
     },
     "metadata": {},
     "output_type": "display_data"
    },
    {
     "data": {
      "text/plain": [
       "'127.050959632246'"
      ]
     },
     "metadata": {},
     "output_type": "display_data"
    },
    {
     "data": {
      "text/plain": [
       "'37.5686441558171'"
      ]
     },
     "metadata": {},
     "output_type": "display_data"
    },
    {
     "data": {
      "text/plain": [
       "'127.050959632246'"
      ]
     },
     "metadata": {},
     "output_type": "display_data"
    },
    {
     "data": {
      "text/plain": [
       "'37.5686441558171'"
      ]
     },
     "metadata": {},
     "output_type": "display_data"
    },
    {
     "data": {
      "text/plain": [
       "'127.050959632246'"
      ]
     },
     "metadata": {},
     "output_type": "display_data"
    },
    {
     "data": {
      "text/plain": [
       "'37.5686441558171'"
      ]
     },
     "metadata": {},
     "output_type": "display_data"
    },
    {
     "data": {
      "text/plain": [
       "'127.050959632246'"
      ]
     },
     "metadata": {},
     "output_type": "display_data"
    },
    {
     "data": {
      "text/plain": [
       "'37.5686441558171'"
      ]
     },
     "metadata": {},
     "output_type": "display_data"
    },
    {
     "data": {
      "text/plain": [
       "'127.050959632246'"
      ]
     },
     "metadata": {},
     "output_type": "display_data"
    },
    {
     "data": {
      "text/plain": [
       "'37.5686441558171'"
      ]
     },
     "metadata": {},
     "output_type": "display_data"
    },
    {
     "data": {
      "text/plain": [
       "'127.050959632246'"
      ]
     },
     "metadata": {},
     "output_type": "display_data"
    },
    {
     "data": {
      "text/plain": [
       "'37.47347856519616'"
      ]
     },
     "metadata": {},
     "output_type": "display_data"
    },
    {
     "data": {
      "text/plain": [
       "'126.87191025301993'"
      ]
     },
     "metadata": {},
     "output_type": "display_data"
    },
    {
     "data": {
      "text/plain": [
       "'37.4339655570456'"
      ]
     },
     "metadata": {},
     "output_type": "display_data"
    },
    {
     "data": {
      "text/plain": [
       "'126.879624789276'"
      ]
     },
     "metadata": {},
     "output_type": "display_data"
    },
    {
     "data": {
      "text/plain": [
       "'37.47417146631517'"
      ]
     },
     "metadata": {},
     "output_type": "display_data"
    },
    {
     "data": {
      "text/plain": [
       "'126.87028114163311'"
      ]
     },
     "metadata": {},
     "output_type": "display_data"
    },
    {
     "data": {
      "text/plain": [
       "'37.79364865291751'"
      ]
     },
     "metadata": {},
     "output_type": "display_data"
    },
    {
     "data": {
      "text/plain": [
       "'127.07805580572985'"
      ]
     },
     "metadata": {},
     "output_type": "display_data"
    },
    {
     "data": {
      "text/plain": [
       "'37.4478609289679'"
      ]
     },
     "metadata": {},
     "output_type": "display_data"
    },
    {
     "data": {
      "text/plain": [
       "'126.884977333113'"
      ]
     },
     "metadata": {},
     "output_type": "display_data"
    },
    {
     "data": {
      "text/plain": [
       "'37.4744730337452'"
      ]
     },
     "metadata": {},
     "output_type": "display_data"
    },
    {
     "data": {
      "text/plain": [
       "'126.852391420623'"
      ]
     },
     "metadata": {},
     "output_type": "display_data"
    },
    {
     "data": {
      "text/plain": [
       "'37.424294013200985'"
      ]
     },
     "metadata": {},
     "output_type": "display_data"
    },
    {
     "data": {
      "text/plain": [
       "'126.88595222083433'"
      ]
     },
     "metadata": {},
     "output_type": "display_data"
    },
    {
     "data": {
      "text/plain": [
       "'37.48502285406731'"
      ]
     },
     "metadata": {},
     "output_type": "display_data"
    },
    {
     "data": {
      "text/plain": [
       "'126.85597071881071'"
      ]
     },
     "metadata": {},
     "output_type": "display_data"
    },
    {
     "data": {
      "text/plain": [
       "'37.3745512248872'"
      ]
     },
     "metadata": {},
     "output_type": "display_data"
    },
    {
     "data": {
      "text/plain": [
       "'127.163327064093'"
      ]
     },
     "metadata": {},
     "output_type": "display_data"
    },
    {
     "data": {
      "text/plain": [
       "'37.4095154723111'"
      ]
     },
     "metadata": {},
     "output_type": "display_data"
    },
    {
     "data": {
      "text/plain": [
       "'127.256205338251'"
      ]
     },
     "metadata": {},
     "output_type": "display_data"
    },
    {
     "data": {
      "text/plain": [
       "'37.4117960794265'"
      ]
     },
     "metadata": {},
     "output_type": "display_data"
    },
    {
     "data": {
      "text/plain": [
       "'127.224684652384'"
      ]
     },
     "metadata": {},
     "output_type": "display_data"
    },
    {
     "data": {
      "text/plain": [
       "'37.4097409928156'"
      ]
     },
     "metadata": {},
     "output_type": "display_data"
    },
    {
     "data": {
      "text/plain": [
       "'127.260209178267'"
      ]
     },
     "metadata": {},
     "output_type": "display_data"
    },
    {
     "data": {
      "text/plain": [
       "'37.41948186877093'"
      ]
     },
     "metadata": {},
     "output_type": "display_data"
    },
    {
     "data": {
      "text/plain": [
       "'127.28707505872585'"
      ]
     },
     "metadata": {},
     "output_type": "display_data"
    },
    {
     "data": {
      "text/plain": [
       "'37.41948186877093'"
      ]
     },
     "metadata": {},
     "output_type": "display_data"
    },
    {
     "data": {
      "text/plain": [
       "'127.28707505872585'"
      ]
     },
     "metadata": {},
     "output_type": "display_data"
    },
    {
     "data": {
      "text/plain": [
       "'37.2717590926359'"
      ]
     },
     "metadata": {},
     "output_type": "display_data"
    },
    {
     "data": {
      "text/plain": [
       "'127.028028988878'"
      ]
     },
     "metadata": {},
     "output_type": "display_data"
    },
    {
     "data": {
      "text/plain": [
       "'37.4109537479923'"
      ]
     },
     "metadata": {},
     "output_type": "display_data"
    },
    {
     "data": {
      "text/plain": [
       "'127.26021563215863'"
      ]
     },
     "metadata": {},
     "output_type": "display_data"
    },
    {
     "data": {
      "text/plain": [
       "'36.808376416301'"
      ]
     },
     "metadata": {},
     "output_type": "display_data"
    },
    {
     "data": {
      "text/plain": [
       "'127.148104035816'"
      ]
     },
     "metadata": {},
     "output_type": "display_data"
    },
    {
     "data": {
      "text/plain": [
       "'37.3174076585074'"
      ]
     },
     "metadata": {},
     "output_type": "display_data"
    },
    {
     "data": {
      "text/plain": [
       "'127.330896361791'"
      ]
     },
     "metadata": {},
     "output_type": "display_data"
    },
    {
     "data": {
      "text/plain": [
       "'37.597587077422766'"
      ]
     },
     "metadata": {},
     "output_type": "display_data"
    },
    {
     "data": {
      "text/plain": [
       "'127.14353031776142'"
      ]
     },
     "metadata": {},
     "output_type": "display_data"
    },
    {
     "data": {
      "text/plain": [
       "'37.60508718740873'"
      ]
     },
     "metadata": {},
     "output_type": "display_data"
    },
    {
     "data": {
      "text/plain": [
       "'127.13410886757244'"
      ]
     },
     "metadata": {},
     "output_type": "display_data"
    },
    {
     "data": {
      "text/plain": [
       "'37.61001479336413'"
      ]
     },
     "metadata": {},
     "output_type": "display_data"
    },
    {
     "data": {
      "text/plain": [
       "'127.11977951546736'"
      ]
     },
     "metadata": {},
     "output_type": "display_data"
    },
    {
     "data": {
      "text/plain": [
       "'37.5972910623184'"
      ]
     },
     "metadata": {},
     "output_type": "display_data"
    },
    {
     "data": {
      "text/plain": [
       "'127.143932871498'"
      ]
     },
     "metadata": {},
     "output_type": "display_data"
    },
    {
     "data": {
      "text/plain": [
       "'37.5993682015484'"
      ]
     },
     "metadata": {},
     "output_type": "display_data"
    },
    {
     "data": {
      "text/plain": [
       "'127.132872215121'"
      ]
     },
     "metadata": {},
     "output_type": "display_data"
    },
    {
     "data": {
      "text/plain": [
       "'37.59810223881715'"
      ]
     },
     "metadata": {},
     "output_type": "display_data"
    },
    {
     "data": {
      "text/plain": [
       "'127.14369889934257'"
      ]
     },
     "metadata": {},
     "output_type": "display_data"
    },
    {
     "data": {
      "text/plain": [
       "'37.4440297111684'"
      ]
     },
     "metadata": {},
     "output_type": "display_data"
    },
    {
     "data": {
      "text/plain": [
       "'127.155983462591'"
      ]
     },
     "metadata": {},
     "output_type": "display_data"
    },
    {
     "data": {
      "text/plain": [
       "'37.6094578630871'"
      ]
     },
     "metadata": {},
     "output_type": "display_data"
    },
    {
     "data": {
      "text/plain": [
       "'127.138035340277'"
      ]
     },
     "metadata": {},
     "output_type": "display_data"
    },
    {
     "data": {
      "text/plain": [
       "'37.605211528369324'"
      ]
     },
     "metadata": {},
     "output_type": "display_data"
    },
    {
     "data": {
      "text/plain": [
       "'127.13954502488122'"
      ]
     },
     "metadata": {},
     "output_type": "display_data"
    },
    {
     "data": {
      "text/plain": [
       "'37.5991384895828'"
      ]
     },
     "metadata": {},
     "output_type": "display_data"
    },
    {
     "data": {
      "text/plain": [
       "'127.136000611899'"
      ]
     },
     "metadata": {},
     "output_type": "display_data"
    },
    {
     "data": {
      "text/plain": [
       "'37.604979163855795'"
      ]
     },
     "metadata": {},
     "output_type": "display_data"
    },
    {
     "data": {
      "text/plain": [
       "'127.1402286103682'"
      ]
     },
     "metadata": {},
     "output_type": "display_data"
    },
    {
     "data": {
      "text/plain": [
       "'37.605999002206005'"
      ]
     },
     "metadata": {},
     "output_type": "display_data"
    },
    {
     "data": {
      "text/plain": [
       "'127.13409691459066'"
      ]
     },
     "metadata": {},
     "output_type": "display_data"
    },
    {
     "data": {
      "text/plain": [
       "'37.600450418240214'"
      ]
     },
     "metadata": {},
     "output_type": "display_data"
    },
    {
     "data": {
      "text/plain": [
       "'127.13114720815322'"
      ]
     },
     "metadata": {},
     "output_type": "display_data"
    },
    {
     "data": {
      "text/plain": [
       "'37.5990514201377'"
      ]
     },
     "metadata": {},
     "output_type": "display_data"
    },
    {
     "data": {
      "text/plain": [
       "'127.130116539715'"
      ]
     },
     "metadata": {},
     "output_type": "display_data"
    },
    {
     "data": {
      "text/plain": [
       "'37.601304981616565'"
      ]
     },
     "metadata": {},
     "output_type": "display_data"
    },
    {
     "data": {
      "text/plain": [
       "'127.13238078892415'"
      ]
     },
     "metadata": {},
     "output_type": "display_data"
    },
    {
     "data": {
      "text/plain": [
       "'37.5954423349226'"
      ]
     },
     "metadata": {},
     "output_type": "display_data"
    },
    {
     "data": {
      "text/plain": [
       "'127.146773743844'"
      ]
     },
     "metadata": {},
     "output_type": "display_data"
    },
    {
     "data": {
      "text/plain": [
       "'37.34655447258828'"
      ]
     },
     "metadata": {},
     "output_type": "display_data"
    },
    {
     "data": {
      "text/plain": [
       "'126.94124556476153'"
      ]
     },
     "metadata": {},
     "output_type": "display_data"
    },
    {
     "data": {
      "text/plain": [
       "'37.3505969417237'"
      ]
     },
     "metadata": {},
     "output_type": "display_data"
    },
    {
     "data": {
      "text/plain": [
       "'126.944036954914'"
      ]
     },
     "metadata": {},
     "output_type": "display_data"
    },
    {
     "data": {
      "text/plain": [
       "'37.3646971250652'"
      ]
     },
     "metadata": {},
     "output_type": "display_data"
    },
    {
     "data": {
      "text/plain": [
       "'126.925996296504'"
      ]
     },
     "metadata": {},
     "output_type": "display_data"
    },
    {
     "data": {
      "text/plain": [
       "'37.3363416610722'"
      ]
     },
     "metadata": {},
     "output_type": "display_data"
    },
    {
     "data": {
      "text/plain": [
       "'126.935051626174'"
      ]
     },
     "metadata": {},
     "output_type": "display_data"
    },
    {
     "data": {
      "text/plain": [
       "'37.35706859384792'"
      ]
     },
     "metadata": {},
     "output_type": "display_data"
    },
    {
     "data": {
      "text/plain": [
       "'126.94700640158707'"
      ]
     },
     "metadata": {},
     "output_type": "display_data"
    },
    {
     "data": {
      "text/plain": [
       "'37.3636622304335'"
      ]
     },
     "metadata": {},
     "output_type": "display_data"
    },
    {
     "data": {
      "text/plain": [
       "'126.931108730886'"
      ]
     },
     "metadata": {},
     "output_type": "display_data"
    },
    {
     "data": {
      "text/plain": [
       "'37.3582291907936'"
      ]
     },
     "metadata": {},
     "output_type": "display_data"
    },
    {
     "data": {
      "text/plain": [
       "'126.93455417397902'"
      ]
     },
     "metadata": {},
     "output_type": "display_data"
    },
    {
     "data": {
      "text/plain": [
       "'37.359414414057255'"
      ]
     },
     "metadata": {},
     "output_type": "display_data"
    },
    {
     "data": {
      "text/plain": [
       "'126.93360496697154'"
      ]
     },
     "metadata": {},
     "output_type": "display_data"
    },
    {
     "data": {
      "text/plain": [
       "'37.359414419125606'"
      ]
     },
     "metadata": {},
     "output_type": "display_data"
    },
    {
     "data": {
      "text/plain": [
       "'126.93361399723231'"
      ]
     },
     "metadata": {},
     "output_type": "display_data"
    },
    {
     "data": {
      "text/plain": [
       "'37.36543264612864'"
      ]
     },
     "metadata": {},
     "output_type": "display_data"
    },
    {
     "data": {
      "text/plain": [
       "'126.92940815803364'"
      ]
     },
     "metadata": {},
     "output_type": "display_data"
    },
    {
     "data": {
      "text/plain": [
       "'37.36543264612864'"
      ]
     },
     "metadata": {},
     "output_type": "display_data"
    },
    {
     "data": {
      "text/plain": [
       "'126.92940815803364'"
      ]
     },
     "metadata": {},
     "output_type": "display_data"
    },
    {
     "data": {
      "text/plain": [
       "'37.34375716677222'"
      ]
     },
     "metadata": {},
     "output_type": "display_data"
    },
    {
     "data": {
      "text/plain": [
       "'126.94950872157469'"
      ]
     },
     "metadata": {},
     "output_type": "display_data"
    },
    {
     "data": {
      "text/plain": [
       "'37.3586609072766'"
      ]
     },
     "metadata": {},
     "output_type": "display_data"
    },
    {
     "data": {
      "text/plain": [
       "'126.947448889428'"
      ]
     },
     "metadata": {},
     "output_type": "display_data"
    },
    {
     "data": {
      "text/plain": [
       "'37.5689608717901'"
      ]
     },
     "metadata": {},
     "output_type": "display_data"
    },
    {
     "data": {
      "text/plain": [
       "'126.916607869656'"
      ]
     },
     "metadata": {},
     "output_type": "display_data"
    },
    {
     "data": {
      "text/plain": [
       "'37.64355532838883'"
      ]
     },
     "metadata": {},
     "output_type": "display_data"
    },
    {
     "data": {
      "text/plain": [
       "'126.62655248085652'"
      ]
     },
     "metadata": {},
     "output_type": "display_data"
    },
    {
     "data": {
      "text/plain": [
       "'37.64106555348073'"
      ]
     },
     "metadata": {},
     "output_type": "display_data"
    },
    {
     "data": {
      "text/plain": [
       "'126.61910964111107'"
      ]
     },
     "metadata": {},
     "output_type": "display_data"
    },
    {
     "data": {
      "text/plain": [
       "'37.62269648931044'"
      ]
     },
     "metadata": {},
     "output_type": "display_data"
    },
    {
     "data": {
      "text/plain": [
       "'126.71197538672186'"
      ]
     },
     "metadata": {},
     "output_type": "display_data"
    },
    {
     "data": {
      "text/plain": [
       "'37.68957806671'"
      ]
     },
     "metadata": {},
     "output_type": "display_data"
    },
    {
     "data": {
      "text/plain": [
       "'126.60017045636494'"
      ]
     },
     "metadata": {},
     "output_type": "display_data"
    },
    {
     "data": {
      "text/plain": [
       "'37.6104799846628'"
      ]
     },
     "metadata": {},
     "output_type": "display_data"
    },
    {
     "data": {
      "text/plain": [
       "'126.725180628302'"
      ]
     },
     "metadata": {},
     "output_type": "display_data"
    },
    {
     "data": {
      "text/plain": [
       "'37.6453414947716'"
      ]
     },
     "metadata": {},
     "output_type": "display_data"
    },
    {
     "data": {
      "text/plain": [
       "'126.623568044453'"
      ]
     },
     "metadata": {},
     "output_type": "display_data"
    },
    {
     "data": {
      "text/plain": [
       "'37.6435564230142'"
      ]
     },
     "metadata": {},
     "output_type": "display_data"
    },
    {
     "data": {
      "text/plain": [
       "'126.626613660768'"
      ]
     },
     "metadata": {},
     "output_type": "display_data"
    },
    {
     "data": {
      "text/plain": [
       "'37.64288974268125'"
      ]
     },
     "metadata": {},
     "output_type": "display_data"
    },
    {
     "data": {
      "text/plain": [
       "'126.62322690431408'"
      ]
     },
     "metadata": {},
     "output_type": "display_data"
    },
    {
     "data": {
      "text/plain": [
       "'37.6226919100411'"
      ]
     },
     "metadata": {},
     "output_type": "display_data"
    },
    {
     "data": {
      "text/plain": [
       "'126.699304481059'"
      ]
     },
     "metadata": {},
     "output_type": "display_data"
    },
    {
     "data": {
      "text/plain": [
       "'37.59767281033179'"
      ]
     },
     "metadata": {},
     "output_type": "display_data"
    },
    {
     "data": {
      "text/plain": [
       "'126.72111044427952'"
      ]
     },
     "metadata": {},
     "output_type": "display_data"
    },
    {
     "data": {
      "text/plain": [
       "'37.70049935878815'"
      ]
     },
     "metadata": {},
     "output_type": "display_data"
    },
    {
     "data": {
      "text/plain": [
       "'126.5686498526423'"
      ]
     },
     "metadata": {},
     "output_type": "display_data"
    },
    {
     "data": {
      "text/plain": [
       "'37.62184641297194'"
      ]
     },
     "metadata": {},
     "output_type": "display_data"
    },
    {
     "data": {
      "text/plain": [
       "'126.71290071328536'"
      ]
     },
     "metadata": {},
     "output_type": "display_data"
    },
    {
     "data": {
      "text/plain": [
       "'37.63020758468601'"
      ]
     },
     "metadata": {},
     "output_type": "display_data"
    },
    {
     "data": {
      "text/plain": [
       "'126.7041636367125'"
      ]
     },
     "metadata": {},
     "output_type": "display_data"
    },
    {
     "data": {
      "text/plain": [
       "'37.6447169806441'"
      ]
     },
     "metadata": {},
     "output_type": "display_data"
    },
    {
     "data": {
      "text/plain": [
       "'126.666333673543'"
      ]
     },
     "metadata": {},
     "output_type": "display_data"
    },
    {
     "data": {
      "text/plain": [
       "'37.506329530977'"
      ]
     },
     "metadata": {},
     "output_type": "display_data"
    },
    {
     "data": {
      "text/plain": [
       "'127.031973134565'"
      ]
     },
     "metadata": {},
     "output_type": "display_data"
    },
    {
     "data": {
      "text/plain": [
       "'37.60290449384826'"
      ]
     },
     "metadata": {},
     "output_type": "display_data"
    },
    {
     "data": {
      "text/plain": [
       "'126.76890292108425'"
      ]
     },
     "metadata": {},
     "output_type": "display_data"
    },
    {
     "data": {
      "text/plain": [
       "'37.68391337961601'"
      ]
     },
     "metadata": {},
     "output_type": "display_data"
    },
    {
     "data": {
      "text/plain": [
       "'126.60841207802991'"
      ]
     },
     "metadata": {},
     "output_type": "display_data"
    },
    {
     "data": {
      "text/plain": [
       "'37.6453306831989'"
      ]
     },
     "metadata": {},
     "output_type": "display_data"
    },
    {
     "data": {
      "text/plain": [
       "'126.623568099015'"
      ]
     },
     "metadata": {},
     "output_type": "display_data"
    },
    {
     "data": {
      "text/plain": [
       "'37.64554395115494'"
      ]
     },
     "metadata": {},
     "output_type": "display_data"
    },
    {
     "data": {
      "text/plain": [
       "'126.62489953999693'"
      ]
     },
     "metadata": {},
     "output_type": "display_data"
    },
    {
     "data": {
      "text/plain": [
       "'37.612246839224085'"
      ]
     },
     "metadata": {},
     "output_type": "display_data"
    },
    {
     "data": {
      "text/plain": [
       "'126.7318473498021'"
      ]
     },
     "metadata": {},
     "output_type": "display_data"
    },
    {
     "data": {
      "text/plain": [
       "'37.6540900878197'"
      ]
     },
     "metadata": {},
     "output_type": "display_data"
    },
    {
     "data": {
      "text/plain": [
       "'126.627571756098'"
      ]
     },
     "metadata": {},
     "output_type": "display_data"
    },
    {
     "data": {
      "text/plain": [
       "'37.664291802112004'"
      ]
     },
     "metadata": {},
     "output_type": "display_data"
    },
    {
     "data": {
      "text/plain": [
       "'126.67608833580529'"
      ]
     },
     "metadata": {},
     "output_type": "display_data"
    },
    {
     "data": {
      "text/plain": [
       "'37.6949208412042'"
      ]
     },
     "metadata": {},
     "output_type": "display_data"
    },
    {
     "data": {
      "text/plain": [
       "'126.587102574701'"
      ]
     },
     "metadata": {},
     "output_type": "display_data"
    },
    {
     "data": {
      "text/plain": [
       "'37.6323330628346'"
      ]
     },
     "metadata": {},
     "output_type": "display_data"
    },
    {
     "data": {
      "text/plain": [
       "'126.71072826641878'"
      ]
     },
     "metadata": {},
     "output_type": "display_data"
    },
    {
     "data": {
      "text/plain": [
       "'37.641074039828965'"
      ]
     },
     "metadata": {},
     "output_type": "display_data"
    },
    {
     "data": {
      "text/plain": [
       "'126.66023842391462'"
      ]
     },
     "metadata": {},
     "output_type": "display_data"
    },
    {
     "data": {
      "text/plain": [
       "'37.641074039828965'"
      ]
     },
     "metadata": {},
     "output_type": "display_data"
    },
    {
     "data": {
      "text/plain": [
       "'126.66023842391462'"
      ]
     },
     "metadata": {},
     "output_type": "display_data"
    },
    {
     "data": {
      "text/plain": [
       "'37.6107646623167'"
      ]
     },
     "metadata": {},
     "output_type": "display_data"
    },
    {
     "data": {
      "text/plain": [
       "'126.725165989959'"
      ]
     },
     "metadata": {},
     "output_type": "display_data"
    },
    {
     "data": {
      "text/plain": [
       "'37.6427981907035'"
      ]
     },
     "metadata": {},
     "output_type": "display_data"
    },
    {
     "data": {
      "text/plain": [
       "'126.62277188015'"
      ]
     },
     "metadata": {},
     "output_type": "display_data"
    },
    {
     "data": {
      "text/plain": [
       "'37.6457460415585'"
      ]
     },
     "metadata": {},
     "output_type": "display_data"
    },
    {
     "data": {
      "text/plain": [
       "'126.681376605399'"
      ]
     },
     "metadata": {},
     "output_type": "display_data"
    },
    {
     "data": {
      "text/plain": [
       "'37.6555666885187'"
      ]
     },
     "metadata": {},
     "output_type": "display_data"
    },
    {
     "data": {
      "text/plain": [
       "'126.684045371732'"
      ]
     },
     "metadata": {},
     "output_type": "display_data"
    },
    {
     "data": {
      "text/plain": [
       "'37.68963499324121'"
      ]
     },
     "metadata": {},
     "output_type": "display_data"
    },
    {
     "data": {
      "text/plain": [
       "'126.60208394210862'"
      ]
     },
     "metadata": {},
     "output_type": "display_data"
    },
    {
     "data": {
      "text/plain": [
       "'37.6643145035061'"
      ]
     },
     "metadata": {},
     "output_type": "display_data"
    },
    {
     "data": {
      "text/plain": [
       "'127.042311506737'"
      ]
     },
     "metadata": {},
     "output_type": "display_data"
    },
    {
     "data": {
      "text/plain": [
       "'37.6112181029529'"
      ]
     },
     "metadata": {},
     "output_type": "display_data"
    },
    {
     "data": {
      "text/plain": [
       "'126.73472212118'"
      ]
     },
     "metadata": {},
     "output_type": "display_data"
    },
    {
     "data": {
      "text/plain": [
       "'37.7377242539578'"
      ]
     },
     "metadata": {},
     "output_type": "display_data"
    },
    {
     "data": {
      "text/plain": [
       "'127.307903644477'"
      ]
     },
     "metadata": {},
     "output_type": "display_data"
    },
    {
     "data": {
      "text/plain": [
       "'37.6501701897587'"
      ]
     },
     "metadata": {},
     "output_type": "display_data"
    },
    {
     "data": {
      "text/plain": [
       "'127.238328022153'"
      ]
     },
     "metadata": {},
     "output_type": "display_data"
    },
    {
     "data": {
      "text/plain": [
       "'37.682359241634'"
      ]
     },
     "metadata": {},
     "output_type": "display_data"
    },
    {
     "data": {
      "text/plain": [
       "'127.204357781822'"
      ]
     },
     "metadata": {},
     "output_type": "display_data"
    },
    {
     "data": {
      "text/plain": [
       "'37.65874708038338'"
      ]
     },
     "metadata": {},
     "output_type": "display_data"
    },
    {
     "data": {
      "text/plain": [
       "'127.17719361717211'"
      ]
     },
     "metadata": {},
     "output_type": "display_data"
    },
    {
     "data": {
      "text/plain": [
       "'37.6248059714511'"
      ]
     },
     "metadata": {},
     "output_type": "display_data"
    },
    {
     "data": {
      "text/plain": [
       "'127.150728234559'"
      ]
     },
     "metadata": {},
     "output_type": "display_data"
    },
    {
     "data": {
      "text/plain": [
       "'37.69813240975364'"
      ]
     },
     "metadata": {},
     "output_type": "display_data"
    },
    {
     "data": {
      "text/plain": [
       "'127.20160147776208'"
      ]
     },
     "metadata": {},
     "output_type": "display_data"
    },
    {
     "data": {
      "text/plain": [
       "'37.6456105105674'"
      ]
     },
     "metadata": {},
     "output_type": "display_data"
    },
    {
     "data": {
      "text/plain": [
       "'127.23509092280054'"
      ]
     },
     "metadata": {},
     "output_type": "display_data"
    },
    {
     "data": {
      "text/plain": [
       "'37.7112903262088'"
      ]
     },
     "metadata": {},
     "output_type": "display_data"
    },
    {
     "data": {
      "text/plain": [
       "'127.187620804142'"
      ]
     },
     "metadata": {},
     "output_type": "display_data"
    },
    {
     "data": {
      "text/plain": [
       "'37.63457018253865'"
      ]
     },
     "metadata": {},
     "output_type": "display_data"
    },
    {
     "data": {
      "text/plain": [
       "'127.20703197128323'"
      ]
     },
     "metadata": {},
     "output_type": "display_data"
    },
    {
     "data": {
      "text/plain": [
       "'35.86394503450448'"
      ]
     },
     "metadata": {},
     "output_type": "display_data"
    },
    {
     "data": {
      "text/plain": [
       "'128.60254147715867'"
      ]
     },
     "metadata": {},
     "output_type": "display_data"
    },
    {
     "data": {
      "text/plain": [
       "'37.72064984382282'"
      ]
     },
     "metadata": {},
     "output_type": "display_data"
    },
    {
     "data": {
      "text/plain": [
       "'127.2027252699032'"
      ]
     },
     "metadata": {},
     "output_type": "display_data"
    },
    {
     "data": {
      "text/plain": [
       "'37.6253933087138'"
      ]
     },
     "metadata": {},
     "output_type": "display_data"
    },
    {
     "data": {
      "text/plain": [
       "'127.150810981565'"
      ]
     },
     "metadata": {},
     "output_type": "display_data"
    },
    {
     "data": {
      "text/plain": [
       "'37.6523803956235'"
      ]
     },
     "metadata": {},
     "output_type": "display_data"
    },
    {
     "data": {
      "text/plain": [
       "'127.305166673982'"
      ]
     },
     "metadata": {},
     "output_type": "display_data"
    },
    {
     "data": {
      "text/plain": [
       "'37.721464613546445'"
      ]
     },
     "metadata": {},
     "output_type": "display_data"
    },
    {
     "data": {
      "text/plain": [
       "'127.29768251791802'"
      ]
     },
     "metadata": {},
     "output_type": "display_data"
    },
    {
     "data": {
      "text/plain": [
       "'37.64692126842994'"
      ]
     },
     "metadata": {},
     "output_type": "display_data"
    },
    {
     "data": {
      "text/plain": [
       "'127.12556780984724'"
      ]
     },
     "metadata": {},
     "output_type": "display_data"
    },
    {
     "data": {
      "text/plain": [
       "'37.7211765361374'"
      ]
     },
     "metadata": {},
     "output_type": "display_data"
    },
    {
     "data": {
      "text/plain": [
       "'127.210648295804'"
      ]
     },
     "metadata": {},
     "output_type": "display_data"
    },
    {
     "data": {
      "text/plain": [
       "'37.6527201850705'"
      ]
     },
     "metadata": {},
     "output_type": "display_data"
    },
    {
     "data": {
      "text/plain": [
       "'127.296283743596'"
      ]
     },
     "metadata": {},
     "output_type": "display_data"
    },
    {
     "data": {
      "text/plain": [
       "'37.70543972544011'"
      ]
     },
     "metadata": {},
     "output_type": "display_data"
    },
    {
     "data": {
      "text/plain": [
       "'127.19934191147593'"
      ]
     },
     "metadata": {},
     "output_type": "display_data"
    },
    {
     "data": {
      "text/plain": [
       "'37.739835818734726'"
      ]
     },
     "metadata": {},
     "output_type": "display_data"
    },
    {
     "data": {
      "text/plain": [
       "'127.31076460052377'"
      ]
     },
     "metadata": {},
     "output_type": "display_data"
    },
    {
     "data": {
      "text/plain": [
       "'37.7099462589444'"
      ]
     },
     "metadata": {},
     "output_type": "display_data"
    },
    {
     "data": {
      "text/plain": [
       "'127.319837085807'"
      ]
     },
     "metadata": {},
     "output_type": "display_data"
    },
    {
     "data": {
      "text/plain": [
       "'37.6467066211428'"
      ]
     },
     "metadata": {},
     "output_type": "display_data"
    },
    {
     "data": {
      "text/plain": [
       "'127.234831495'"
      ]
     },
     "metadata": {},
     "output_type": "display_data"
    },
    {
     "data": {
      "text/plain": [
       "'37.622720080612865'"
      ]
     },
     "metadata": {},
     "output_type": "display_data"
    },
    {
     "data": {
      "text/plain": [
       "'127.15291249909423'"
      ]
     },
     "metadata": {},
     "output_type": "display_data"
    },
    {
     "data": {
      "text/plain": [
       "'37.633524608818'"
      ]
     },
     "metadata": {},
     "output_type": "display_data"
    },
    {
     "data": {
      "text/plain": [
       "'127.205216406867'"
      ]
     },
     "metadata": {},
     "output_type": "display_data"
    },
    {
     "data": {
      "text/plain": [
       "'37.7706574140481'"
      ]
     },
     "metadata": {},
     "output_type": "display_data"
    },
    {
     "data": {
      "text/plain": [
       "'127.290424927969'"
      ]
     },
     "metadata": {},
     "output_type": "display_data"
    },
    {
     "data": {
      "text/plain": [
       "'37.6255907242959'"
      ]
     },
     "metadata": {},
     "output_type": "display_data"
    },
    {
     "data": {
      "text/plain": [
       "'127.151436683365'"
      ]
     },
     "metadata": {},
     "output_type": "display_data"
    },
    {
     "data": {
      "text/plain": [
       "'37.6487318764514'"
      ]
     },
     "metadata": {},
     "output_type": "display_data"
    },
    {
     "data": {
      "text/plain": [
       "'127.141042844633'"
      ]
     },
     "metadata": {},
     "output_type": "display_data"
    },
    {
     "data": {
      "text/plain": [
       "'37.6458472651146'"
      ]
     },
     "metadata": {},
     "output_type": "display_data"
    },
    {
     "data": {
      "text/plain": [
       "'127.235644622435'"
      ]
     },
     "metadata": {},
     "output_type": "display_data"
    },
    {
     "data": {
      "text/plain": [
       "'37.6519247053559'"
      ]
     },
     "metadata": {},
     "output_type": "display_data"
    },
    {
     "data": {
      "text/plain": [
       "'127.304389705895'"
      ]
     },
     "metadata": {},
     "output_type": "display_data"
    },
    {
     "data": {
      "text/plain": [
       "'37.6519247053559'"
      ]
     },
     "metadata": {},
     "output_type": "display_data"
    },
    {
     "data": {
      "text/plain": [
       "'127.304389705895'"
      ]
     },
     "metadata": {},
     "output_type": "display_data"
    },
    {
     "data": {
      "text/plain": [
       "'37.6500106376114'"
      ]
     },
     "metadata": {},
     "output_type": "display_data"
    },
    {
     "data": {
      "text/plain": [
       "'127.113203366819'"
      ]
     },
     "metadata": {},
     "output_type": "display_data"
    },
    {
     "data": {
      "text/plain": [
       "'37.7112457696894'"
      ]
     },
     "metadata": {},
     "output_type": "display_data"
    },
    {
     "data": {
      "text/plain": [
       "'127.186173583629'"
      ]
     },
     "metadata": {},
     "output_type": "display_data"
    },
    {
     "data": {
      "text/plain": [
       "'37.739835818734726'"
      ]
     },
     "metadata": {},
     "output_type": "display_data"
    },
    {
     "data": {
      "text/plain": [
       "'127.31076460052377'"
      ]
     },
     "metadata": {},
     "output_type": "display_data"
    },
    {
     "data": {
      "text/plain": [
       "'37.6509453401903'"
      ]
     },
     "metadata": {},
     "output_type": "display_data"
    },
    {
     "data": {
      "text/plain": [
       "'127.144965568266'"
      ]
     },
     "metadata": {},
     "output_type": "display_data"
    },
    {
     "data": {
      "text/plain": [
       "'37.6500916085016'"
      ]
     },
     "metadata": {},
     "output_type": "display_data"
    },
    {
     "data": {
      "text/plain": [
       "'127.237978755986'"
      ]
     },
     "metadata": {},
     "output_type": "display_data"
    },
    {
     "data": {
      "text/plain": [
       "'37.6540747425706'"
      ]
     },
     "metadata": {},
     "output_type": "display_data"
    },
    {
     "data": {
      "text/plain": [
       "'127.242891537459'"
      ]
     },
     "metadata": {},
     "output_type": "display_data"
    },
    {
     "data": {
      "text/plain": [
       "'37.7651625694054'"
      ]
     },
     "metadata": {},
     "output_type": "display_data"
    },
    {
     "data": {
      "text/plain": [
       "'128.877863203328'"
      ]
     },
     "metadata": {},
     "output_type": "display_data"
    },
    {
     "data": {
      "text/plain": [
       "'37.655764546831094'"
      ]
     },
     "metadata": {},
     "output_type": "display_data"
    },
    {
     "data": {
      "text/plain": [
       "'127.27393680062035'"
      ]
     },
     "metadata": {},
     "output_type": "display_data"
    },
    {
     "data": {
      "text/plain": [
       "'37.57398862104899'"
      ]
     },
     "metadata": {},
     "output_type": "display_data"
    },
    {
     "data": {
      "text/plain": [
       "'127.07215117884235'"
      ]
     },
     "metadata": {},
     "output_type": "display_data"
    },
    {
     "data": {
      "text/plain": [
       "'37.715454066306'"
      ]
     },
     "metadata": {},
     "output_type": "display_data"
    },
    {
     "data": {
      "text/plain": [
       "'127.179882711862'"
      ]
     },
     "metadata": {},
     "output_type": "display_data"
    },
    {
     "data": {
      "text/plain": [
       "'37.6541794130836'"
      ]
     },
     "metadata": {},
     "output_type": "display_data"
    },
    {
     "data": {
      "text/plain": [
       "'127.244559989642'"
      ]
     },
     "metadata": {},
     "output_type": "display_data"
    },
    {
     "data": {
      "text/plain": [
       "'37.725828847066'"
      ]
     },
     "metadata": {},
     "output_type": "display_data"
    },
    {
     "data": {
      "text/plain": [
       "'127.191822694977'"
      ]
     },
     "metadata": {},
     "output_type": "display_data"
    },
    {
     "data": {
      "text/plain": [
       "'37.9009335414462'"
      ]
     },
     "metadata": {},
     "output_type": "display_data"
    },
    {
     "data": {
      "text/plain": [
       "'127.136112918523'"
      ]
     },
     "metadata": {},
     "output_type": "display_data"
    },
    {
     "data": {
      "text/plain": [
       "'37.89500632414485'"
      ]
     },
     "metadata": {},
     "output_type": "display_data"
    },
    {
     "data": {
      "text/plain": [
       "'127.0826921662946'"
      ]
     },
     "metadata": {},
     "output_type": "display_data"
    },
    {
     "data": {
      "text/plain": [
       "'37.9088813086553'"
      ]
     },
     "metadata": {},
     "output_type": "display_data"
    },
    {
     "data": {
      "text/plain": [
       "'127.054004371279'"
      ]
     },
     "metadata": {},
     "output_type": "display_data"
    },
    {
     "data": {
      "text/plain": [
       "'37.90030401447456'"
      ]
     },
     "metadata": {},
     "output_type": "display_data"
    },
    {
     "data": {
      "text/plain": [
       "'127.13668935153636'"
      ]
     },
     "metadata": {},
     "output_type": "display_data"
    },
    {
     "data": {
      "text/plain": [
       "'37.9002164124785'"
      ]
     },
     "metadata": {},
     "output_type": "display_data"
    },
    {
     "data": {
      "text/plain": [
       "'127.136093405941'"
      ]
     },
     "metadata": {},
     "output_type": "display_data"
    },
    {
     "data": {
      "text/plain": [
       "'37.8993270859384'"
      ]
     },
     "metadata": {},
     "output_type": "display_data"
    },
    {
     "data": {
      "text/plain": [
       "'127.062520180591'"
      ]
     },
     "metadata": {},
     "output_type": "display_data"
    },
    {
     "data": {
      "text/plain": [
       "'36.767403819647825'"
      ]
     },
     "metadata": {},
     "output_type": "display_data"
    },
    {
     "data": {
      "text/plain": [
       "'127.16510812120411'"
      ]
     },
     "metadata": {},
     "output_type": "display_data"
    },
    {
     "data": {
      "text/plain": [
       "'37.8799259785788'"
      ]
     },
     "metadata": {},
     "output_type": "display_data"
    },
    {
     "data": {
      "text/plain": [
       "'127.101505544054'"
      ]
     },
     "metadata": {},
     "output_type": "display_data"
    },
    {
     "data": {
      "text/plain": [
       "'37.89582539738'"
      ]
     },
     "metadata": {},
     "output_type": "display_data"
    },
    {
     "data": {
      "text/plain": [
       "'127.083804994745'"
      ]
     },
     "metadata": {},
     "output_type": "display_data"
    },
    {
     "data": {
      "text/plain": [
       "'37.908155631214306'"
      ]
     },
     "metadata": {},
     "output_type": "display_data"
    },
    {
     "data": {
      "text/plain": [
       "'127.03630692895283'"
      ]
     },
     "metadata": {},
     "output_type": "display_data"
    },
    {
     "data": {
      "text/plain": [
       "'37.908155631214306'"
      ]
     },
     "metadata": {},
     "output_type": "display_data"
    },
    {
     "data": {
      "text/plain": [
       "'127.03630692895283'"
      ]
     },
     "metadata": {},
     "output_type": "display_data"
    },
    {
     "data": {
      "text/plain": [
       "'37.47744583001319'"
      ]
     },
     "metadata": {},
     "output_type": "display_data"
    },
    {
     "data": {
      "text/plain": [
       "'126.76885793805118'"
      ]
     },
     "metadata": {},
     "output_type": "display_data"
    },
    {
     "data": {
      "text/plain": [
       "'37.48698975764142'"
      ]
     },
     "metadata": {},
     "output_type": "display_data"
    },
    {
     "data": {
      "text/plain": [
       "'126.79239906437387'"
      ]
     },
     "metadata": {},
     "output_type": "display_data"
    },
    {
     "data": {
      "text/plain": [
       "'37.48473962873772'"
      ]
     },
     "metadata": {},
     "output_type": "display_data"
    },
    {
     "data": {
      "text/plain": [
       "'126.81556129792622'"
      ]
     },
     "metadata": {},
     "output_type": "display_data"
    },
    {
     "data": {
      "text/plain": [
       "'37.4882359959369'"
      ]
     },
     "metadata": {},
     "output_type": "display_data"
    },
    {
     "data": {
      "text/plain": [
       "'126.783937853793'"
      ]
     },
     "metadata": {},
     "output_type": "display_data"
    },
    {
     "data": {
      "text/plain": [
       "'37.4851730177424'"
      ]
     },
     "metadata": {},
     "output_type": "display_data"
    },
    {
     "data": {
      "text/plain": [
       "'126.786162789334'"
      ]
     },
     "metadata": {},
     "output_type": "display_data"
    },
    {
     "data": {
      "text/plain": [
       "'37.494063345270106'"
      ]
     },
     "metadata": {},
     "output_type": "display_data"
    },
    {
     "data": {
      "text/plain": [
       "'126.7852248854367'"
      ]
     },
     "metadata": {},
     "output_type": "display_data"
    },
    {
     "data": {
      "text/plain": [
       "'36.343562195811'"
      ]
     },
     "metadata": {},
     "output_type": "display_data"
    },
    {
     "data": {
      "text/plain": [
       "'127.442569284861'"
      ]
     },
     "metadata": {},
     "output_type": "display_data"
    },
    {
     "data": {
      "text/plain": [
       "'37.49273009245491'"
      ]
     },
     "metadata": {},
     "output_type": "display_data"
    },
    {
     "data": {
      "text/plain": [
       "'126.76319084811948'"
      ]
     },
     "metadata": {},
     "output_type": "display_data"
    },
    {
     "data": {
      "text/plain": [
       "'37.505369142578'"
      ]
     },
     "metadata": {},
     "output_type": "display_data"
    },
    {
     "data": {
      "text/plain": [
       "'126.776003328967'"
      ]
     },
     "metadata": {},
     "output_type": "display_data"
    },
    {
     "data": {
      "text/plain": [
       "'37.4793156607129'"
      ]
     },
     "metadata": {},
     "output_type": "display_data"
    },
    {
     "data": {
      "text/plain": [
       "'126.795893445832'"
      ]
     },
     "metadata": {},
     "output_type": "display_data"
    },
    {
     "data": {
      "text/plain": [
       "'37.5050932555761'"
      ]
     },
     "metadata": {},
     "output_type": "display_data"
    },
    {
     "data": {
      "text/plain": [
       "'126.753733081244'"
      ]
     },
     "metadata": {},
     "output_type": "display_data"
    },
    {
     "data": {
      "text/plain": [
       "'37.48688814636956'"
      ]
     },
     "metadata": {},
     "output_type": "display_data"
    },
    {
     "data": {
      "text/plain": [
       "'126.78298516650234'"
      ]
     },
     "metadata": {},
     "output_type": "display_data"
    },
    {
     "data": {
      "text/plain": [
       "'37.48360450887008'"
      ]
     },
     "metadata": {},
     "output_type": "display_data"
    },
    {
     "data": {
      "text/plain": [
       "'126.76489753261279'"
      ]
     },
     "metadata": {},
     "output_type": "display_data"
    },
    {
     "data": {
      "text/plain": [
       "'37.50373954408127'"
      ]
     },
     "metadata": {},
     "output_type": "display_data"
    },
    {
     "data": {
      "text/plain": [
       "'126.75224693583245'"
      ]
     },
     "metadata": {},
     "output_type": "display_data"
    },
    {
     "data": {
      "text/plain": [
       "'37.51488604398802'"
      ]
     },
     "metadata": {},
     "output_type": "display_data"
    },
    {
     "data": {
      "text/plain": [
       "'126.77109976719329'"
      ]
     },
     "metadata": {},
     "output_type": "display_data"
    },
    {
     "data": {
      "text/plain": [
       "'37.48597026257601'"
      ]
     },
     "metadata": {},
     "output_type": "display_data"
    },
    {
     "data": {
      "text/plain": [
       "'126.78019164367255'"
      ]
     },
     "metadata": {},
     "output_type": "display_data"
    },
    {
     "data": {
      "text/plain": [
       "'37.5033712418379'"
      ]
     },
     "metadata": {},
     "output_type": "display_data"
    },
    {
     "data": {
      "text/plain": [
       "'126.760651069682'"
      ]
     },
     "metadata": {},
     "output_type": "display_data"
    },
    {
     "data": {
      "text/plain": [
       "'37.5223235840882'"
      ]
     },
     "metadata": {},
     "output_type": "display_data"
    },
    {
     "data": {
      "text/plain": [
       "'126.805124839162'"
      ]
     },
     "metadata": {},
     "output_type": "display_data"
    },
    {
     "data": {
      "text/plain": [
       "'37.46599699004925'"
      ]
     },
     "metadata": {},
     "output_type": "display_data"
    },
    {
     "data": {
      "text/plain": [
       "'126.79907212119844'"
      ]
     },
     "metadata": {},
     "output_type": "display_data"
    },
    {
     "data": {
      "text/plain": [
       "'37.48357530387247'"
      ]
     },
     "metadata": {},
     "output_type": "display_data"
    },
    {
     "data": {
      "text/plain": [
       "'126.77535723232579'"
      ]
     },
     "metadata": {},
     "output_type": "display_data"
    },
    {
     "data": {
      "text/plain": [
       "'37.492550469062635'"
      ]
     },
     "metadata": {},
     "output_type": "display_data"
    },
    {
     "data": {
      "text/plain": [
       "'126.78418776750951'"
      ]
     },
     "metadata": {},
     "output_type": "display_data"
    },
    {
     "data": {
      "text/plain": [
       "'37.48036203649038'"
      ]
     },
     "metadata": {},
     "output_type": "display_data"
    },
    {
     "data": {
      "text/plain": [
       "'126.81466757922445'"
      ]
     },
     "metadata": {},
     "output_type": "display_data"
    },
    {
     "data": {
      "text/plain": [
       "'37.5029629483976'"
      ]
     },
     "metadata": {},
     "output_type": "display_data"
    },
    {
     "data": {
      "text/plain": [
       "'126.763714954141'"
      ]
     },
     "metadata": {},
     "output_type": "display_data"
    },
    {
     "data": {
      "text/plain": [
       "'37.5061087355327'"
      ]
     },
     "metadata": {},
     "output_type": "display_data"
    },
    {
     "data": {
      "text/plain": [
       "'126.757678016489'"
      ]
     },
     "metadata": {},
     "output_type": "display_data"
    },
    {
     "data": {
      "text/plain": [
       "'37.49020216571812'"
      ]
     },
     "metadata": {},
     "output_type": "display_data"
    },
    {
     "data": {
      "text/plain": [
       "'126.78354095240802'"
      ]
     },
     "metadata": {},
     "output_type": "display_data"
    },
    {
     "data": {
      "text/plain": [
       "'37.484920369140156'"
      ]
     },
     "metadata": {},
     "output_type": "display_data"
    },
    {
     "data": {
      "text/plain": [
       "'126.7879590083494'"
      ]
     },
     "metadata": {},
     "output_type": "display_data"
    },
    {
     "data": {
      "text/plain": [
       "'37.506555538149'"
      ]
     },
     "metadata": {},
     "output_type": "display_data"
    },
    {
     "data": {
      "text/plain": [
       "'126.758071288643'"
      ]
     },
     "metadata": {},
     "output_type": "display_data"
    },
    {
     "data": {
      "text/plain": [
       "'37.4809546201903'"
      ]
     },
     "metadata": {},
     "output_type": "display_data"
    },
    {
     "data": {
      "text/plain": [
       "'126.791267065636'"
      ]
     },
     "metadata": {},
     "output_type": "display_data"
    },
    {
     "data": {
      "text/plain": [
       "'37.48711207482507'"
      ]
     },
     "metadata": {},
     "output_type": "display_data"
    },
    {
     "data": {
      "text/plain": [
       "'126.8138978586999'"
      ]
     },
     "metadata": {},
     "output_type": "display_data"
    },
    {
     "data": {
      "text/plain": [
       "'37.5091889775173'"
      ]
     },
     "metadata": {},
     "output_type": "display_data"
    },
    {
     "data": {
      "text/plain": [
       "'126.808556613848'"
      ]
     },
     "metadata": {},
     "output_type": "display_data"
    },
    {
     "data": {
      "text/plain": [
       "'37.5031538754076'"
      ]
     },
     "metadata": {},
     "output_type": "display_data"
    },
    {
     "data": {
      "text/plain": [
       "'126.778552303925'"
      ]
     },
     "metadata": {},
     "output_type": "display_data"
    },
    {
     "data": {
      "text/plain": [
       "'37.5208676913969'"
      ]
     },
     "metadata": {},
     "output_type": "display_data"
    },
    {
     "data": {
      "text/plain": [
       "'126.805201023105'"
      ]
     },
     "metadata": {},
     "output_type": "display_data"
    },
    {
     "data": {
      "text/plain": [
       "'37.4894733687728'"
      ]
     },
     "metadata": {},
     "output_type": "display_data"
    },
    {
     "data": {
      "text/plain": [
       "'126.751545514741'"
      ]
     },
     "metadata": {},
     "output_type": "display_data"
    },
    {
     "data": {
      "text/plain": [
       "'37.4930457842982'"
      ]
     },
     "metadata": {},
     "output_type": "display_data"
    },
    {
     "data": {
      "text/plain": [
       "'126.785045742176'"
      ]
     },
     "metadata": {},
     "output_type": "display_data"
    },
    {
     "data": {
      "text/plain": [
       "'37.5272419137576'"
      ]
     },
     "metadata": {},
     "output_type": "display_data"
    },
    {
     "data": {
      "text/plain": [
       "'126.804437787205'"
      ]
     },
     "metadata": {},
     "output_type": "display_data"
    },
    {
     "data": {
      "text/plain": [
       "'37.4894733687728'"
      ]
     },
     "metadata": {},
     "output_type": "display_data"
    },
    {
     "data": {
      "text/plain": [
       "'126.751545514741'"
      ]
     },
     "metadata": {},
     "output_type": "display_data"
    },
    {
     "data": {
      "text/plain": [
       "'37.4993950723521'"
      ]
     },
     "metadata": {},
     "output_type": "display_data"
    },
    {
     "data": {
      "text/plain": [
       "'126.786484122919'"
      ]
     },
     "metadata": {},
     "output_type": "display_data"
    },
    {
     "data": {
      "text/plain": [
       "'37.67125249263253'"
      ]
     },
     "metadata": {},
     "output_type": "display_data"
    },
    {
     "data": {
      "text/plain": [
       "'126.75959149721344'"
      ]
     },
     "metadata": {},
     "output_type": "display_data"
    },
    {
     "data": {
      "text/plain": [
       "'37.67125249263253'"
      ]
     },
     "metadata": {},
     "output_type": "display_data"
    },
    {
     "data": {
      "text/plain": [
       "'126.75959149721344'"
      ]
     },
     "metadata": {},
     "output_type": "display_data"
    },
    {
     "data": {
      "text/plain": [
       "'37.5041470447842'"
      ]
     },
     "metadata": {},
     "output_type": "display_data"
    },
    {
     "data": {
      "text/plain": [
       "'126.74894998357253'"
      ]
     },
     "metadata": {},
     "output_type": "display_data"
    },
    {
     "data": {
      "text/plain": [
       "'37.4819887238291'"
      ]
     },
     "metadata": {},
     "output_type": "display_data"
    },
    {
     "data": {
      "text/plain": [
       "'126.793172680185'"
      ]
     },
     "metadata": {},
     "output_type": "display_data"
    },
    {
     "data": {
      "text/plain": [
       "'37.506329530977'"
      ]
     },
     "metadata": {},
     "output_type": "display_data"
    },
    {
     "data": {
      "text/plain": [
       "'127.031973134565'"
      ]
     },
     "metadata": {},
     "output_type": "display_data"
    },
    {
     "data": {
      "text/plain": [
       "'37.49877002726885'"
      ]
     },
     "metadata": {},
     "output_type": "display_data"
    },
    {
     "data": {
      "text/plain": [
       "'126.76299083578725'"
      ]
     },
     "metadata": {},
     "output_type": "display_data"
    },
    {
     "data": {
      "text/plain": [
       "'37.50500345729462'"
      ]
     },
     "metadata": {},
     "output_type": "display_data"
    },
    {
     "data": {
      "text/plain": [
       "'126.77606775582998'"
      ]
     },
     "metadata": {},
     "output_type": "display_data"
    },
    {
     "data": {
      "text/plain": [
       "'37.5124252281245'"
      ]
     },
     "metadata": {},
     "output_type": "display_data"
    },
    {
     "data": {
      "text/plain": [
       "'126.774756151056'"
      ]
     },
     "metadata": {},
     "output_type": "display_data"
    },
    {
     "data": {
      "text/plain": [
       "'37.4836170107057'"
      ]
     },
     "metadata": {},
     "output_type": "display_data"
    },
    {
     "data": {
      "text/plain": [
       "'126.756829198911'"
      ]
     },
     "metadata": {},
     "output_type": "display_data"
    },
    {
     "data": {
      "text/plain": [
       "'37.4898536646609'"
      ]
     },
     "metadata": {},
     "output_type": "display_data"
    },
    {
     "data": {
      "text/plain": [
       "'126.7836437247508'"
      ]
     },
     "metadata": {},
     "output_type": "display_data"
    },
    {
     "data": {
      "text/plain": [
       "'37.520051335366674'"
      ]
     },
     "metadata": {},
     "output_type": "display_data"
    },
    {
     "data": {
      "text/plain": [
       "'126.78942181717599'"
      ]
     },
     "metadata": {},
     "output_type": "display_data"
    },
    {
     "data": {
      "text/plain": [
       "'37.502553896768'"
      ]
     },
     "metadata": {},
     "output_type": "display_data"
    },
    {
     "data": {
      "text/plain": [
       "'126.787429635098'"
      ]
     },
     "metadata": {},
     "output_type": "display_data"
    },
    {
     "data": {
      "text/plain": [
       "'37.5276176743247'"
      ]
     },
     "metadata": {},
     "output_type": "display_data"
    },
    {
     "data": {
      "text/plain": [
       "'126.804463957718'"
      ]
     },
     "metadata": {},
     "output_type": "display_data"
    },
    {
     "data": {
      "text/plain": [
       "'37.51231594980692'"
      ]
     },
     "metadata": {},
     "output_type": "display_data"
    },
    {
     "data": {
      "text/plain": [
       "'126.76948564816074'"
      ]
     },
     "metadata": {},
     "output_type": "display_data"
    },
    {
     "data": {
      "text/plain": [
       "'37.48349956801356'"
      ]
     },
     "metadata": {},
     "output_type": "display_data"
    },
    {
     "data": {
      "text/plain": [
       "'126.76741467720338'"
      ]
     },
     "metadata": {},
     "output_type": "display_data"
    },
    {
     "data": {
      "text/plain": [
       "'37.48349956801356'"
      ]
     },
     "metadata": {},
     "output_type": "display_data"
    },
    {
     "data": {
      "text/plain": [
       "'126.76741467720338'"
      ]
     },
     "metadata": {},
     "output_type": "display_data"
    },
    {
     "data": {
      "text/plain": [
       "'37.5157917626915'"
      ]
     },
     "metadata": {},
     "output_type": "display_data"
    },
    {
     "data": {
      "text/plain": [
       "'126.775908837075'"
      ]
     },
     "metadata": {},
     "output_type": "display_data"
    },
    {
     "data": {
      "text/plain": [
       "'37.5196556514868'"
      ]
     },
     "metadata": {},
     "output_type": "display_data"
    },
    {
     "data": {
      "text/plain": [
       "'126.804539033689'"
      ]
     },
     "metadata": {},
     "output_type": "display_data"
    },
    {
     "data": {
      "text/plain": [
       "'37.728455056630004'"
      ]
     },
     "metadata": {},
     "output_type": "display_data"
    },
    {
     "data": {
      "text/plain": [
       "'126.73589825463316'"
      ]
     },
     "metadata": {},
     "output_type": "display_data"
    },
    {
     "data": {
      "text/plain": [
       "'37.4977676888112'"
      ]
     },
     "metadata": {},
     "output_type": "display_data"
    },
    {
     "data": {
      "text/plain": [
       "'126.785396345248'"
      ]
     },
     "metadata": {},
     "output_type": "display_data"
    },
    {
     "data": {
      "text/plain": [
       "'37.4916961290578'"
      ]
     },
     "metadata": {},
     "output_type": "display_data"
    },
    {
     "data": {
      "text/plain": [
       "'126.78359317964353'"
      ]
     },
     "metadata": {},
     "output_type": "display_data"
    },
    {
     "data": {
      "text/plain": [
       "'37.503371241837854'"
      ]
     },
     "metadata": {},
     "output_type": "display_data"
    },
    {
     "data": {
      "text/plain": [
       "'126.76065106968178'"
      ]
     },
     "metadata": {},
     "output_type": "display_data"
    },
    {
     "data": {
      "text/plain": [
       "'37.5076859186573'"
      ]
     },
     "metadata": {},
     "output_type": "display_data"
    },
    {
     "data": {
      "text/plain": [
       "'126.785383789448'"
      ]
     },
     "metadata": {},
     "output_type": "display_data"
    },
    {
     "data": {
      "text/plain": [
       "'37.5018936932495'"
      ]
     },
     "metadata": {},
     "output_type": "display_data"
    },
    {
     "data": {
      "text/plain": [
       "'126.769766496306'"
      ]
     },
     "metadata": {},
     "output_type": "display_data"
    },
    {
     "data": {
      "text/plain": [
       "'35.2363296824513'"
      ]
     },
     "metadata": {},
     "output_type": "display_data"
    },
    {
     "data": {
      "text/plain": [
       "'128.546897557365'"
      ]
     },
     "metadata": {},
     "output_type": "display_data"
    },
    {
     "data": {
      "text/plain": [
       "'37.4833268494895'"
      ]
     },
     "metadata": {},
     "output_type": "display_data"
    },
    {
     "data": {
      "text/plain": [
       "'126.783685159459'"
      ]
     },
     "metadata": {},
     "output_type": "display_data"
    },
    {
     "data": {
      "text/plain": [
       "'37.51811887588163'"
      ]
     },
     "metadata": {},
     "output_type": "display_data"
    },
    {
     "data": {
      "text/plain": [
       "'126.7993645558783'"
      ]
     },
     "metadata": {},
     "output_type": "display_data"
    },
    {
     "data": {
      "text/plain": [
       "'37.50314179937249'"
      ]
     },
     "metadata": {},
     "output_type": "display_data"
    },
    {
     "data": {
      "text/plain": [
       "'126.7817461181741'"
      ]
     },
     "metadata": {},
     "output_type": "display_data"
    },
    {
     "data": {
      "text/plain": [
       "'37.5113876955531'"
      ]
     },
     "metadata": {},
     "output_type": "display_data"
    },
    {
     "data": {
      "text/plain": [
       "'126.806510554531'"
      ]
     },
     "metadata": {},
     "output_type": "display_data"
    },
    {
     "data": {
      "text/plain": [
       "'37.5177545453865'"
      ]
     },
     "metadata": {},
     "output_type": "display_data"
    },
    {
     "data": {
      "text/plain": [
       "'126.770486965128'"
      ]
     },
     "metadata": {},
     "output_type": "display_data"
    },
    {
     "data": {
      "text/plain": [
       "'37.51904139876152'"
      ]
     },
     "metadata": {},
     "output_type": "display_data"
    },
    {
     "data": {
      "text/plain": [
       "'126.7849689314432'"
      ]
     },
     "metadata": {},
     "output_type": "display_data"
    },
    {
     "data": {
      "text/plain": [
       "'37.48295294493557'"
      ]
     },
     "metadata": {},
     "output_type": "display_data"
    },
    {
     "data": {
      "text/plain": [
       "'126.77251430009535'"
      ]
     },
     "metadata": {},
     "output_type": "display_data"
    },
    {
     "data": {
      "text/plain": [
       "'37.3672712174878'"
      ]
     },
     "metadata": {},
     "output_type": "display_data"
    },
    {
     "data": {
      "text/plain": [
       "'127.127984612339'"
      ]
     },
     "metadata": {},
     "output_type": "display_data"
    },
    {
     "data": {
      "text/plain": [
       "'37.429258297389'"
      ]
     },
     "metadata": {},
     "output_type": "display_data"
    },
    {
     "data": {
      "text/plain": [
       "'127.128415455708'"
      ]
     },
     "metadata": {},
     "output_type": "display_data"
    },
    {
     "data": {
      "text/plain": [
       "'37.4734699328863'"
      ]
     },
     "metadata": {},
     "output_type": "display_data"
    },
    {
     "data": {
      "text/plain": [
       "'127.142700256568'"
      ]
     },
     "metadata": {},
     "output_type": "display_data"
    },
    {
     "data": {
      "text/plain": [
       "'37.44074851185208'"
      ]
     },
     "metadata": {},
     "output_type": "display_data"
    },
    {
     "data": {
      "text/plain": [
       "'127.13045892386845'"
      ]
     },
     "metadata": {},
     "output_type": "display_data"
    },
    {
     "data": {
      "text/plain": [
       "'37.39237156191363'"
      ]
     },
     "metadata": {},
     "output_type": "display_data"
    },
    {
     "data": {
      "text/plain": [
       "'127.14907472877495'"
      ]
     },
     "metadata": {},
     "output_type": "display_data"
    },
    {
     "data": {
      "text/plain": [
       "'37.39237156191363'"
      ]
     },
     "metadata": {},
     "output_type": "display_data"
    },
    {
     "data": {
      "text/plain": [
       "'127.14907472877495'"
      ]
     },
     "metadata": {},
     "output_type": "display_data"
    },
    {
     "data": {
      "text/plain": [
       "'37.3881744685617'"
      ]
     },
     "metadata": {},
     "output_type": "display_data"
    },
    {
     "data": {
      "text/plain": [
       "'127.121638950154'"
      ]
     },
     "metadata": {},
     "output_type": "display_data"
    },
    {
     "data": {
      "text/plain": [
       "'37.3677779297013'"
      ]
     },
     "metadata": {},
     "output_type": "display_data"
    },
    {
     "data": {
      "text/plain": [
       "'127.107756570547'"
      ]
     },
     "metadata": {},
     "output_type": "display_data"
    },
    {
     "data": {
      "text/plain": [
       "'37.4182558232201'"
      ]
     },
     "metadata": {},
     "output_type": "display_data"
    },
    {
     "data": {
      "text/plain": [
       "'127.126888564093'"
      ]
     },
     "metadata": {},
     "output_type": "display_data"
    },
    {
     "data": {
      "text/plain": [
       "'37.4452678538749'"
      ]
     },
     "metadata": {},
     "output_type": "display_data"
    },
    {
     "data": {
      "text/plain": [
       "'127.162558524447'"
      ]
     },
     "metadata": {},
     "output_type": "display_data"
    },
    {
     "data": {
      "text/plain": [
       "'37.4103052975779'"
      ]
     },
     "metadata": {},
     "output_type": "display_data"
    },
    {
     "data": {
      "text/plain": [
       "'127.126829971128'"
      ]
     },
     "metadata": {},
     "output_type": "display_data"
    },
    {
     "data": {
      "text/plain": [
       "'37.394202719954514'"
      ]
     },
     "metadata": {},
     "output_type": "display_data"
    },
    {
     "data": {
      "text/plain": [
       "'127.1121049410439'"
      ]
     },
     "metadata": {},
     "output_type": "display_data"
    },
    {
     "data": {
      "text/plain": [
       "'37.35610413456303'"
      ]
     },
     "metadata": {},
     "output_type": "display_data"
    },
    {
     "data": {
      "text/plain": [
       "'127.09856327843687'"
      ]
     },
     "metadata": {},
     "output_type": "display_data"
    },
    {
     "data": {
      "text/plain": [
       "'37.36397870548507'"
      ]
     },
     "metadata": {},
     "output_type": "display_data"
    },
    {
     "data": {
      "text/plain": [
       "'127.10631523888489'"
      ]
     },
     "metadata": {},
     "output_type": "display_data"
    },
    {
     "data": {
      "text/plain": [
       "'37.4121941678129'"
      ]
     },
     "metadata": {},
     "output_type": "display_data"
    },
    {
     "data": {
      "text/plain": [
       "'127.129842341125'"
      ]
     },
     "metadata": {},
     "output_type": "display_data"
    },
    {
     "data": {
      "text/plain": [
       "'37.35199666389841'"
      ]
     },
     "metadata": {},
     "output_type": "display_data"
    },
    {
     "data": {
      "text/plain": [
       "'127.12321712781916'"
      ]
     },
     "metadata": {},
     "output_type": "display_data"
    },
    {
     "data": {
      "text/plain": [
       "'37.3912225728659'"
      ]
     },
     "metadata": {},
     "output_type": "display_data"
    },
    {
     "data": {
      "text/plain": [
       "'127.125993782273'"
      ]
     },
     "metadata": {},
     "output_type": "display_data"
    },
    {
     "data": {
      "text/plain": [
       "'37.405801230419925'"
      ]
     },
     "metadata": {},
     "output_type": "display_data"
    },
    {
     "data": {
      "text/plain": [
       "'127.12645642769218'"
      ]
     },
     "metadata": {},
     "output_type": "display_data"
    },
    {
     "data": {
      "text/plain": [
       "'37.4160131089942'"
      ]
     },
     "metadata": {},
     "output_type": "display_data"
    },
    {
     "data": {
      "text/plain": [
       "'127.120947437291'"
      ]
     },
     "metadata": {},
     "output_type": "display_data"
    },
    {
     "data": {
      "text/plain": [
       "'37.3788238926683'"
      ]
     },
     "metadata": {},
     "output_type": "display_data"
    },
    {
     "data": {
      "text/plain": [
       "'127.116014609604'"
      ]
     },
     "metadata": {},
     "output_type": "display_data"
    },
    {
     "data": {
      "text/plain": [
       "'37.3857182260062'"
      ]
     },
     "metadata": {},
     "output_type": "display_data"
    },
    {
     "data": {
      "text/plain": [
       "'127.119927666655'"
      ]
     },
     "metadata": {},
     "output_type": "display_data"
    },
    {
     "data": {
      "text/plain": [
       "'37.3869129039723'"
      ]
     },
     "metadata": {},
     "output_type": "display_data"
    },
    {
     "data": {
      "text/plain": [
       "'127.121767898642'"
      ]
     },
     "metadata": {},
     "output_type": "display_data"
    },
    {
     "data": {
      "text/plain": [
       "'37.412825523467'"
      ]
     },
     "metadata": {},
     "output_type": "display_data"
    },
    {
     "data": {
      "text/plain": [
       "'127.129256047436'"
      ]
     },
     "metadata": {},
     "output_type": "display_data"
    },
    {
     "data": {
      "text/plain": [
       "'37.3504973104266'"
      ]
     },
     "metadata": {},
     "output_type": "display_data"
    },
    {
     "data": {
      "text/plain": [
       "'127.109520776428'"
      ]
     },
     "metadata": {},
     "output_type": "display_data"
    },
    {
     "data": {
      "text/plain": [
       "'37.32700327255056'"
      ]
     },
     "metadata": {},
     "output_type": "display_data"
    },
    {
     "data": {
      "text/plain": [
       "'126.84485113162008'"
      ]
     },
     "metadata": {},
     "output_type": "display_data"
    },
    {
     "data": {
      "text/plain": [
       "'37.38418252834754'"
      ]
     },
     "metadata": {},
     "output_type": "display_data"
    },
    {
     "data": {
      "text/plain": [
       "'127.12027638766509'"
      ]
     },
     "metadata": {},
     "output_type": "display_data"
    },
    {
     "data": {
      "text/plain": [
       "'37.4432096736039'"
      ]
     },
     "metadata": {},
     "output_type": "display_data"
    },
    {
     "data": {
      "text/plain": [
       "'127.127531872575'"
      ]
     },
     "metadata": {},
     "output_type": "display_data"
    },
    {
     "data": {
      "text/plain": [
       "'37.4450531524635'"
      ]
     },
     "metadata": {},
     "output_type": "display_data"
    },
    {
     "data": {
      "text/plain": [
       "'127.138727193654'"
      ]
     },
     "metadata": {},
     "output_type": "display_data"
    },
    {
     "data": {
      "text/plain": [
       "'37.431698812582574'"
      ]
     },
     "metadata": {},
     "output_type": "display_data"
    },
    {
     "data": {
      "text/plain": [
       "'127.12872581869314'"
      ]
     },
     "metadata": {},
     "output_type": "display_data"
    },
    {
     "data": {
      "text/plain": [
       "'37.4446236913761'"
      ]
     },
     "metadata": {},
     "output_type": "display_data"
    },
    {
     "data": {
      "text/plain": [
       "'127.159203109641'"
      ]
     },
     "metadata": {},
     "output_type": "display_data"
    },
    {
     "data": {
      "text/plain": [
       "'37.4294297502603'"
      ]
     },
     "metadata": {},
     "output_type": "display_data"
    },
    {
     "data": {
      "text/plain": [
       "'127.129004391579'"
      ]
     },
     "metadata": {},
     "output_type": "display_data"
    },
    {
     "data": {
      "text/plain": [
       "'37.4528154919668'"
      ]
     },
     "metadata": {},
     "output_type": "display_data"
    },
    {
     "data": {
      "text/plain": [
       "'127.162009765133'"
      ]
     },
     "metadata": {},
     "output_type": "display_data"
    },
    {
     "data": {
      "text/plain": [
       "'35.228097988527416'"
      ]
     },
     "metadata": {},
     "output_type": "display_data"
    },
    {
     "data": {
      "text/plain": [
       "'128.8980360138146'"
      ]
     },
     "metadata": {},
     "output_type": "display_data"
    },
    {
     "data": {
      "text/plain": [
       "'37.4344473895028'"
      ]
     },
     "metadata": {},
     "output_type": "display_data"
    },
    {
     "data": {
      "text/plain": [
       "'127.128285341805'"
      ]
     },
     "metadata": {},
     "output_type": "display_data"
    },
    {
     "data": {
      "text/plain": [
       "'37.43448331942922'"
      ]
     },
     "metadata": {},
     "output_type": "display_data"
    },
    {
     "data": {
      "text/plain": [
       "'127.12921418830948'"
      ]
     },
     "metadata": {},
     "output_type": "display_data"
    },
    {
     "data": {
      "text/plain": [
       "'37.3882441961832'"
      ]
     },
     "metadata": {},
     "output_type": "display_data"
    },
    {
     "data": {
      "text/plain": [
       "'127.123906526025'"
      ]
     },
     "metadata": {},
     "output_type": "display_data"
    },
    {
     "data": {
      "text/plain": [
       "'37.43985356194735'"
      ]
     },
     "metadata": {},
     "output_type": "display_data"
    },
    {
     "data": {
      "text/plain": [
       "'127.12903810315647'"
      ]
     },
     "metadata": {},
     "output_type": "display_data"
    },
    {
     "data": {
      "text/plain": [
       "'37.441306443942864'"
      ]
     },
     "metadata": {},
     "output_type": "display_data"
    },
    {
     "data": {
      "text/plain": [
       "'127.1464382543572'"
      ]
     },
     "metadata": {},
     "output_type": "display_data"
    },
    {
     "data": {
      "text/plain": [
       "'37.4490310680489'"
      ]
     },
     "metadata": {},
     "output_type": "display_data"
    },
    {
     "data": {
      "text/plain": [
       "'127.145519825069'"
      ]
     },
     "metadata": {},
     "output_type": "display_data"
    },
    {
     "data": {
      "text/plain": [
       "'37.4623146356708'"
      ]
     },
     "metadata": {},
     "output_type": "display_data"
    },
    {
     "data": {
      "text/plain": [
       "'127.143352729172'"
      ]
     },
     "metadata": {},
     "output_type": "display_data"
    },
    {
     "data": {
      "text/plain": [
       "'37.464674136493585'"
      ]
     },
     "metadata": {},
     "output_type": "display_data"
    },
    {
     "data": {
      "text/plain": [
       "'127.14131353769898'"
      ]
     },
     "metadata": {},
     "output_type": "display_data"
    },
    {
     "data": {
      "text/plain": [
       "'37.472709192937586'"
      ]
     },
     "metadata": {},
     "output_type": "display_data"
    },
    {
     "data": {
      "text/plain": [
       "'127.14293847288258'"
      ]
     },
     "metadata": {},
     "output_type": "display_data"
    },
    {
     "data": {
      "text/plain": [
       "'37.4622434545835'"
      ]
     },
     "metadata": {},
     "output_type": "display_data"
    },
    {
     "data": {
      "text/plain": [
       "'127.143353723605'"
      ]
     },
     "metadata": {},
     "output_type": "display_data"
    },
    {
     "data": {
      "text/plain": [
       "'37.4625475943936'"
      ]
     },
     "metadata": {},
     "output_type": "display_data"
    },
    {
     "data": {
      "text/plain": [
       "'127.142941733445'"
      ]
     },
     "metadata": {},
     "output_type": "display_data"
    },
    {
     "data": {
      "text/plain": [
       "'37.46569940679808'"
      ]
     },
     "metadata": {},
     "output_type": "display_data"
    },
    {
     "data": {
      "text/plain": [
       "'127.13678717125138'"
      ]
     },
     "metadata": {},
     "output_type": "display_data"
    },
    {
     "data": {
      "text/plain": [
       "'35.870037402966226'"
      ]
     },
     "metadata": {},
     "output_type": "display_data"
    },
    {
     "data": {
      "text/plain": [
       "'128.58933636935143'"
      ]
     },
     "metadata": {},
     "output_type": "display_data"
    },
    {
     "data": {
      "text/plain": [
       "'37.363714706064485'"
      ]
     },
     "metadata": {},
     "output_type": "display_data"
    },
    {
     "data": {
      "text/plain": [
       "'127.10631373758349'"
      ]
     },
     "metadata": {},
     "output_type": "display_data"
    },
    {
     "data": {
      "text/plain": [
       "'37.37636677002696'"
      ]
     },
     "metadata": {},
     "output_type": "display_data"
    },
    {
     "data": {
      "text/plain": [
       "'127.11039725416153'"
      ]
     },
     "metadata": {},
     "output_type": "display_data"
    },
    {
     "data": {
      "text/plain": [
       "'37.415838038058205'"
      ]
     },
     "metadata": {},
     "output_type": "display_data"
    },
    {
     "data": {
      "text/plain": [
       "'127.15095913194193'"
      ]
     },
     "metadata": {},
     "output_type": "display_data"
    },
    {
     "data": {
      "text/plain": [
       "'37.4437143280432'"
      ]
     },
     "metadata": {},
     "output_type": "display_data"
    },
    {
     "data": {
      "text/plain": [
       "'127.140184743344'"
      ]
     },
     "metadata": {},
     "output_type": "display_data"
    },
    {
     "data": {
      "text/plain": [
       "'37.41028152014102'"
      ]
     },
     "metadata": {},
     "output_type": "display_data"
    },
    {
     "data": {
      "text/plain": [
       "'127.12546995836504'"
      ]
     },
     "metadata": {},
     "output_type": "display_data"
    },
    {
     "data": {
      "text/plain": [
       "'37.3740183076087'"
      ]
     },
     "metadata": {},
     "output_type": "display_data"
    },
    {
     "data": {
      "text/plain": [
       "'127.137431139016'"
      ]
     },
     "metadata": {},
     "output_type": "display_data"
    },
    {
     "data": {
      "text/plain": [
       "'37.43935704990829'"
      ]
     },
     "metadata": {},
     "output_type": "display_data"
    },
    {
     "data": {
      "text/plain": [
       "'127.14316880756851'"
      ]
     },
     "metadata": {},
     "output_type": "display_data"
    },
    {
     "data": {
      "text/plain": [
       "'37.337082277594405'"
      ]
     },
     "metadata": {},
     "output_type": "display_data"
    },
    {
     "data": {
      "text/plain": [
       "'127.11664775985406'"
      ]
     },
     "metadata": {},
     "output_type": "display_data"
    },
    {
     "data": {
      "text/plain": [
       "'37.4399217873478'"
      ]
     },
     "metadata": {},
     "output_type": "display_data"
    },
    {
     "data": {
      "text/plain": [
       "'127.144073875905'"
      ]
     },
     "metadata": {},
     "output_type": "display_data"
    },
    {
     "data": {
      "text/plain": [
       "'37.278073710670476'"
      ]
     },
     "metadata": {},
     "output_type": "display_data"
    },
    {
     "data": {
      "text/plain": [
       "'127.02749009768354'"
      ]
     },
     "metadata": {},
     "output_type": "display_data"
    },
    {
     "data": {
      "text/plain": [
       "'37.506329530977'"
      ]
     },
     "metadata": {},
     "output_type": "display_data"
    },
    {
     "data": {
      "text/plain": [
       "'127.031973134565'"
      ]
     },
     "metadata": {},
     "output_type": "display_data"
    },
    {
     "data": {
      "text/plain": [
       "'37.2918591392537'"
      ]
     },
     "metadata": {},
     "output_type": "display_data"
    },
    {
     "data": {
      "text/plain": [
       "'126.996377592179'"
      ]
     },
     "metadata": {},
     "output_type": "display_data"
    },
    {
     "data": {
      "text/plain": [
       "'37.3039402037726'"
      ]
     },
     "metadata": {},
     "output_type": "display_data"
    },
    {
     "data": {
      "text/plain": [
       "'127.00474191726'"
      ]
     },
     "metadata": {},
     "output_type": "display_data"
    },
    {
     "data": {
      "text/plain": [
       "'37.27139174009503'"
      ]
     },
     "metadata": {},
     "output_type": "display_data"
    },
    {
     "data": {
      "text/plain": [
       "'127.05911539623202'"
      ]
     },
     "metadata": {},
     "output_type": "display_data"
    },
    {
     "data": {
      "text/plain": [
       "'37.26269858141598'"
      ]
     },
     "metadata": {},
     "output_type": "display_data"
    },
    {
     "data": {
      "text/plain": [
       "'127.02644848455463'"
      ]
     },
     "metadata": {},
     "output_type": "display_data"
    },
    {
     "data": {
      "text/plain": [
       "'37.2739294988603'"
      ]
     },
     "metadata": {},
     "output_type": "display_data"
    },
    {
     "data": {
      "text/plain": [
       "'127.048234695932'"
      ]
     },
     "metadata": {},
     "output_type": "display_data"
    },
    {
     "data": {
      "text/plain": [
       "'37.2918560179578'"
      ]
     },
     "metadata": {},
     "output_type": "display_data"
    },
    {
     "data": {
      "text/plain": [
       "'127.027422934015'"
      ]
     },
     "metadata": {},
     "output_type": "display_data"
    },
    {
     "data": {
      "text/plain": [
       "'37.25482403079852'"
      ]
     },
     "metadata": {},
     "output_type": "display_data"
    },
    {
     "data": {
      "text/plain": [
       "'127.07541107854671'"
      ]
     },
     "metadata": {},
     "output_type": "display_data"
    },
    {
     "data": {
      "text/plain": [
       "'37.6068933437531'"
      ]
     },
     "metadata": {},
     "output_type": "display_data"
    },
    {
     "data": {
      "text/plain": [
       "'127.028924371435'"
      ]
     },
     "metadata": {},
     "output_type": "display_data"
    },
    {
     "data": {
      "text/plain": [
       "'37.2750008547886'"
      ]
     },
     "metadata": {},
     "output_type": "display_data"
    },
    {
     "data": {
      "text/plain": [
       "'126.954078294978'"
      ]
     },
     "metadata": {},
     "output_type": "display_data"
    },
    {
     "data": {
      "text/plain": [
       "'37.2876238048964'"
      ]
     },
     "metadata": {},
     "output_type": "display_data"
    },
    {
     "data": {
      "text/plain": [
       "'127.01098840702'"
      ]
     },
     "metadata": {},
     "output_type": "display_data"
    },
    {
     "data": {
      "text/plain": [
       "'37.2756913940647'"
      ]
     },
     "metadata": {},
     "output_type": "display_data"
    },
    {
     "data": {
      "text/plain": [
       "'127.027344907277'"
      ]
     },
     "metadata": {},
     "output_type": "display_data"
    },
    {
     "data": {
      "text/plain": [
       "'34.75695519186433'"
      ]
     },
     "metadata": {},
     "output_type": "display_data"
    },
    {
     "data": {
      "text/plain": [
       "'127.65697495318886'"
      ]
     },
     "metadata": {},
     "output_type": "display_data"
    },
    {
     "data": {
      "text/plain": [
       "'37.2781381314176'"
      ]
     },
     "metadata": {},
     "output_type": "display_data"
    },
    {
     "data": {
      "text/plain": [
       "'127.003148171408'"
      ]
     },
     "metadata": {},
     "output_type": "display_data"
    },
    {
     "data": {
      "text/plain": [
       "'35.868476472414'"
      ]
     },
     "metadata": {},
     "output_type": "display_data"
    },
    {
     "data": {
      "text/plain": [
       "'128.61515204881'"
      ]
     },
     "metadata": {},
     "output_type": "display_data"
    },
    {
     "data": {
      "text/plain": [
       "'37.2579759571372'"
      ]
     },
     "metadata": {},
     "output_type": "display_data"
    },
    {
     "data": {
      "text/plain": [
       "'126.962569068179'"
      ]
     },
     "metadata": {},
     "output_type": "display_data"
    },
    {
     "data": {
      "text/plain": [
       "'37.2676754380741'"
      ]
     },
     "metadata": {},
     "output_type": "display_data"
    },
    {
     "data": {
      "text/plain": [
       "'127.028595691092'"
      ]
     },
     "metadata": {},
     "output_type": "display_data"
    },
    {
     "data": {
      "text/plain": [
       "'37.1493406229813'"
      ]
     },
     "metadata": {},
     "output_type": "display_data"
    },
    {
     "data": {
      "text/plain": [
       "'127.074018463946'"
      ]
     },
     "metadata": {},
     "output_type": "display_data"
    },
    {
     "data": {
      "text/plain": [
       "'35.3532573720065'"
      ]
     },
     "metadata": {},
     "output_type": "display_data"
    },
    {
     "data": {
      "text/plain": [
       "'129.043618501967'"
      ]
     },
     "metadata": {},
     "output_type": "display_data"
    },
    {
     "data": {
      "text/plain": [
       "'37.2513472721356'"
      ]
     },
     "metadata": {},
     "output_type": "display_data"
    },
    {
     "data": {
      "text/plain": [
       "'126.983723676866'"
      ]
     },
     "metadata": {},
     "output_type": "display_data"
    },
    {
     "data": {
      "text/plain": [
       "'37.2734534351344'"
      ]
     },
     "metadata": {},
     "output_type": "display_data"
    },
    {
     "data": {
      "text/plain": [
       "'126.942953079072'"
      ]
     },
     "metadata": {},
     "output_type": "display_data"
    },
    {
     "data": {
      "text/plain": [
       "'37.27450260270054'"
      ]
     },
     "metadata": {},
     "output_type": "display_data"
    },
    {
     "data": {
      "text/plain": [
       "'127.04586164412092'"
      ]
     },
     "metadata": {},
     "output_type": "display_data"
    },
    {
     "data": {
      "text/plain": [
       "'37.29193908443796'"
      ]
     },
     "metadata": {},
     "output_type": "display_data"
    },
    {
     "data": {
      "text/plain": [
       "'127.0084639475228'"
      ]
     },
     "metadata": {},
     "output_type": "display_data"
    },
    {
     "data": {
      "text/plain": [
       "'37.2754513188001'"
      ]
     },
     "metadata": {},
     "output_type": "display_data"
    },
    {
     "data": {
      "text/plain": [
       "'126.95393369772'"
      ]
     },
     "metadata": {},
     "output_type": "display_data"
    },
    {
     "data": {
      "text/plain": [
       "'37.2803401473826'"
      ]
     },
     "metadata": {},
     "output_type": "display_data"
    },
    {
     "data": {
      "text/plain": [
       "'127.029881436843'"
      ]
     },
     "metadata": {},
     "output_type": "display_data"
    },
    {
     "data": {
      "text/plain": [
       "'37.25123519397203'"
      ]
     },
     "metadata": {},
     "output_type": "display_data"
    },
    {
     "data": {
      "text/plain": [
       "'126.97631708327978'"
      ]
     },
     "metadata": {},
     "output_type": "display_data"
    },
    {
     "data": {
      "text/plain": [
       "'37.25377408014018'"
      ]
     },
     "metadata": {},
     "output_type": "display_data"
    },
    {
     "data": {
      "text/plain": [
       "'127.02019951975501'"
      ]
     },
     "metadata": {},
     "output_type": "display_data"
    },
    {
     "data": {
      "text/plain": [
       "'37.2749902489488'"
      ]
     },
     "metadata": {},
     "output_type": "display_data"
    },
    {
     "data": {
      "text/plain": [
       "'127.018793530011'"
      ]
     },
     "metadata": {},
     "output_type": "display_data"
    },
    {
     "data": {
      "text/plain": [
       "'37.2709803021557'"
      ]
     },
     "metadata": {},
     "output_type": "display_data"
    },
    {
     "data": {
      "text/plain": [
       "'127.001077853486'"
      ]
     },
     "metadata": {},
     "output_type": "display_data"
    },
    {
     "data": {
      "text/plain": [
       "'37.2935098894704'"
      ]
     },
     "metadata": {},
     "output_type": "display_data"
    },
    {
     "data": {
      "text/plain": [
       "'127.001236066537'"
      ]
     },
     "metadata": {},
     "output_type": "display_data"
    },
    {
     "data": {
      "text/plain": [
       "'37.27461928278225'"
      ]
     },
     "metadata": {},
     "output_type": "display_data"
    },
    {
     "data": {
      "text/plain": [
       "'126.95297807116339'"
      ]
     },
     "metadata": {},
     "output_type": "display_data"
    },
    {
     "data": {
      "text/plain": [
       "'37.2608998138727'"
      ]
     },
     "metadata": {},
     "output_type": "display_data"
    },
    {
     "data": {
      "text/plain": [
       "'127.064662585719'"
      ]
     },
     "metadata": {},
     "output_type": "display_data"
    },
    {
     "data": {
      "text/plain": [
       "'37.2585475600456'"
      ]
     },
     "metadata": {},
     "output_type": "display_data"
    },
    {
     "data": {
      "text/plain": [
       "'127.021603126243'"
      ]
     },
     "metadata": {},
     "output_type": "display_data"
    },
    {
     "data": {
      "text/plain": [
       "'37.2534419583724'"
      ]
     },
     "metadata": {},
     "output_type": "display_data"
    },
    {
     "data": {
      "text/plain": [
       "'127.072316663791'"
      ]
     },
     "metadata": {},
     "output_type": "display_data"
    },
    {
     "data": {
      "text/plain": [
       "'37.259913309102'"
      ]
     },
     "metadata": {},
     "output_type": "display_data"
    },
    {
     "data": {
      "text/plain": [
       "'127.022839033588'"
      ]
     },
     "metadata": {},
     "output_type": "display_data"
    },
    {
     "data": {
      "text/plain": [
       "'37.2740494556964'"
      ]
     },
     "metadata": {},
     "output_type": "display_data"
    },
    {
     "data": {
      "text/plain": [
       "'126.954335944572'"
      ]
     },
     "metadata": {},
     "output_type": "display_data"
    },
    {
     "data": {
      "text/plain": [
       "'37.303893217796976'"
      ]
     },
     "metadata": {},
     "output_type": "display_data"
    },
    {
     "data": {
      "text/plain": [
       "'126.99266830566083'"
      ]
     },
     "metadata": {},
     "output_type": "display_data"
    },
    {
     "data": {
      "text/plain": [
       "'37.30040796445036'"
      ]
     },
     "metadata": {},
     "output_type": "display_data"
    },
    {
     "data": {
      "text/plain": [
       "'127.00802163138242'"
      ]
     },
     "metadata": {},
     "output_type": "display_data"
    },
    {
     "data": {
      "text/plain": [
       "'37.2743358133002'"
      ]
     },
     "metadata": {},
     "output_type": "display_data"
    },
    {
     "data": {
      "text/plain": [
       "'127.029089805243'"
      ]
     },
     "metadata": {},
     "output_type": "display_data"
    },
    {
     "data": {
      "text/plain": [
       "'37.2526787845285'"
      ]
     },
     "metadata": {},
     "output_type": "display_data"
    },
    {
     "data": {
      "text/plain": [
       "'127.0765992517'"
      ]
     },
     "metadata": {},
     "output_type": "display_data"
    },
    {
     "data": {
      "text/plain": [
       "'37.2965697308279'"
      ]
     },
     "metadata": {},
     "output_type": "display_data"
    },
    {
     "data": {
      "text/plain": [
       "'126.99542997767'"
      ]
     },
     "metadata": {},
     "output_type": "display_data"
    },
    {
     "data": {
      "text/plain": [
       "'37.2795882832803'"
      ]
     },
     "metadata": {},
     "output_type": "display_data"
    },
    {
     "data": {
      "text/plain": [
       "'127.04761136662'"
      ]
     },
     "metadata": {},
     "output_type": "display_data"
    },
    {
     "data": {
      "text/plain": [
       "'37.3104742556962'"
      ]
     },
     "metadata": {},
     "output_type": "display_data"
    },
    {
     "data": {
      "text/plain": [
       "'126.99085827241'"
      ]
     },
     "metadata": {},
     "output_type": "display_data"
    },
    {
     "data": {
      "text/plain": [
       "'37.2493432031895'"
      ]
     },
     "metadata": {},
     "output_type": "display_data"
    },
    {
     "data": {
      "text/plain": [
       "'127.033958453612'"
      ]
     },
     "metadata": {},
     "output_type": "display_data"
    },
    {
     "data": {
      "text/plain": [
       "'37.2671144559945'"
      ]
     },
     "metadata": {},
     "output_type": "display_data"
    },
    {
     "data": {
      "text/plain": [
       "'127.080568804211'"
      ]
     },
     "metadata": {},
     "output_type": "display_data"
    },
    {
     "data": {
      "text/plain": [
       "'37.3045043385479'"
      ]
     },
     "metadata": {},
     "output_type": "display_data"
    },
    {
     "data": {
      "text/plain": [
       "'127.001441535568'"
      ]
     },
     "metadata": {},
     "output_type": "display_data"
    },
    {
     "data": {
      "text/plain": [
       "'37.2929580949717'"
      ]
     },
     "metadata": {},
     "output_type": "display_data"
    },
    {
     "data": {
      "text/plain": [
       "'127.009306520582'"
      ]
     },
     "metadata": {},
     "output_type": "display_data"
    },
    {
     "data": {
      "text/plain": [
       "'37.2377882508269'"
      ]
     },
     "metadata": {},
     "output_type": "display_data"
    },
    {
     "data": {
      "text/plain": [
       "'127.060842706407'"
      ]
     },
     "metadata": {},
     "output_type": "display_data"
    },
    {
     "data": {
      "text/plain": [
       "'37.8273368339277'"
      ]
     },
     "metadata": {},
     "output_type": "display_data"
    },
    {
     "data": {
      "text/plain": [
       "'127.148004238699'"
      ]
     },
     "metadata": {},
     "output_type": "display_data"
    },
    {
     "data": {
      "text/plain": [
       "'37.2717590926359'"
      ]
     },
     "metadata": {},
     "output_type": "display_data"
    },
    {
     "data": {
      "text/plain": [
       "'127.028028988878'"
      ]
     },
     "metadata": {},
     "output_type": "display_data"
    },
    {
     "data": {
      "text/plain": [
       "'37.2666888600594'"
      ]
     },
     "metadata": {},
     "output_type": "display_data"
    },
    {
     "data": {
      "text/plain": [
       "'127.0810148002'"
      ]
     },
     "metadata": {},
     "output_type": "display_data"
    },
    {
     "data": {
      "text/plain": [
       "'37.24631210509065'"
      ]
     },
     "metadata": {},
     "output_type": "display_data"
    },
    {
     "data": {
      "text/plain": [
       "'127.05344680479193'"
      ]
     },
     "metadata": {},
     "output_type": "display_data"
    },
    {
     "data": {
      "text/plain": [
       "'37.2781548249653'"
      ]
     },
     "metadata": {},
     "output_type": "display_data"
    },
    {
     "data": {
      "text/plain": [
       "'127.034314173322'"
      ]
     },
     "metadata": {},
     "output_type": "display_data"
    },
    {
     "data": {
      "text/plain": [
       "'37.2601424748801'"
      ]
     },
     "metadata": {},
     "output_type": "display_data"
    },
    {
     "data": {
      "text/plain": [
       "'126.963891446527'"
      ]
     },
     "metadata": {},
     "output_type": "display_data"
    },
    {
     "data": {
      "text/plain": [
       "'37.241381715583344'"
      ]
     },
     "metadata": {},
     "output_type": "display_data"
    },
    {
     "data": {
      "text/plain": [
       "'126.97812678086044'"
      ]
     },
     "metadata": {},
     "output_type": "display_data"
    },
    {
     "data": {
      "text/plain": [
       "'37.241381715583344'"
      ]
     },
     "metadata": {},
     "output_type": "display_data"
    },
    {
     "data": {
      "text/plain": [
       "'126.97812678086044'"
      ]
     },
     "metadata": {},
     "output_type": "display_data"
    },
    {
     "data": {
      "text/plain": [
       "'37.27900384554839'"
      ]
     },
     "metadata": {},
     "output_type": "display_data"
    },
    {
     "data": {
      "text/plain": [
       "'127.01634316576146'"
      ]
     },
     "metadata": {},
     "output_type": "display_data"
    },
    {
     "data": {
      "text/plain": [
       "'37.27201727317596'"
      ]
     },
     "metadata": {},
     "output_type": "display_data"
    },
    {
     "data": {
      "text/plain": [
       "'127.01564036461296'"
      ]
     },
     "metadata": {},
     "output_type": "display_data"
    },
    {
     "data": {
      "text/plain": [
       "'37.2650126858975'"
      ]
     },
     "metadata": {},
     "output_type": "display_data"
    },
    {
     "data": {
      "text/plain": [
       "'127.025406473972'"
      ]
     },
     "metadata": {},
     "output_type": "display_data"
    },
    {
     "data": {
      "text/plain": [
       "'37.27457346776808'"
      ]
     },
     "metadata": {},
     "output_type": "display_data"
    },
    {
     "data": {
      "text/plain": [
       "'127.04185337021917'"
      ]
     },
     "metadata": {},
     "output_type": "display_data"
    },
    {
     "data": {
      "text/plain": [
       "'37.2786308866122'"
      ]
     },
     "metadata": {},
     "output_type": "display_data"
    },
    {
     "data": {
      "text/plain": [
       "'127.033218385697'"
      ]
     },
     "metadata": {},
     "output_type": "display_data"
    },
    {
     "data": {
      "text/plain": [
       "'37.2731572119189'"
      ]
     },
     "metadata": {},
     "output_type": "display_data"
    },
    {
     "data": {
      "text/plain": [
       "'127.048467594518'"
      ]
     },
     "metadata": {},
     "output_type": "display_data"
    },
    {
     "data": {
      "text/plain": [
       "'37.2681804514139'"
      ]
     },
     "metadata": {},
     "output_type": "display_data"
    },
    {
     "data": {
      "text/plain": [
       "'127.026755932584'"
      ]
     },
     "metadata": {},
     "output_type": "display_data"
    },
    {
     "data": {
      "text/plain": [
       "'37.27354531957155'"
      ]
     },
     "metadata": {},
     "output_type": "display_data"
    },
    {
     "data": {
      "text/plain": [
       "'126.95550884902303'"
      ]
     },
     "metadata": {},
     "output_type": "display_data"
    },
    {
     "data": {
      "text/plain": [
       "'37.2760080808009'"
      ]
     },
     "metadata": {},
     "output_type": "display_data"
    },
    {
     "data": {
      "text/plain": [
       "'127.041407659916'"
      ]
     },
     "metadata": {},
     "output_type": "display_data"
    },
    {
     "data": {
      "text/plain": [
       "'37.2739812219268'"
      ]
     },
     "metadata": {},
     "output_type": "display_data"
    },
    {
     "data": {
      "text/plain": [
       "'127.045023590546'"
      ]
     },
     "metadata": {},
     "output_type": "display_data"
    },
    {
     "data": {
      "text/plain": [
       "'37.5893485751997'"
      ]
     },
     "metadata": {},
     "output_type": "display_data"
    },
    {
     "data": {
      "text/plain": [
       "'127.08832429209'"
      ]
     },
     "metadata": {},
     "output_type": "display_data"
    },
    {
     "data": {
      "text/plain": [
       "'36.6235173874628'"
      ]
     },
     "metadata": {},
     "output_type": "display_data"
    },
    {
     "data": {
      "text/plain": [
       "'127.430918940237'"
      ]
     },
     "metadata": {},
     "output_type": "display_data"
    },
    {
     "data": {
      "text/plain": [
       "'37.27925155900331'"
      ]
     },
     "metadata": {},
     "output_type": "display_data"
    },
    {
     "data": {
      "text/plain": [
       "'127.04916834948963'"
      ]
     },
     "metadata": {},
     "output_type": "display_data"
    },
    {
     "data": {
      "text/plain": [
       "'37.2696039928923'"
      ]
     },
     "metadata": {},
     "output_type": "display_data"
    },
    {
     "data": {
      "text/plain": [
       "'127.027211922548'"
      ]
     },
     "metadata": {},
     "output_type": "display_data"
    },
    {
     "data": {
      "text/plain": [
       "'37.3063370538152'"
      ]
     },
     "metadata": {},
     "output_type": "display_data"
    },
    {
     "data": {
      "text/plain": [
       "'127.000320349012'"
      ]
     },
     "metadata": {},
     "output_type": "display_data"
    },
    {
     "data": {
      "text/plain": [
       "'35.8551156620577'"
      ]
     },
     "metadata": {},
     "output_type": "display_data"
    },
    {
     "data": {
      "text/plain": [
       "'128.502840626901'"
      ]
     },
     "metadata": {},
     "output_type": "display_data"
    },
    {
     "data": {
      "text/plain": [
       "'35.1498697301984'"
      ]
     },
     "metadata": {},
     "output_type": "display_data"
    },
    {
     "data": {
      "text/plain": [
       "'126.672582498007'"
      ]
     },
     "metadata": {},
     "output_type": "display_data"
    },
    {
     "data": {
      "text/plain": [
       "'37.386242501283405'"
      ]
     },
     "metadata": {},
     "output_type": "display_data"
    },
    {
     "data": {
      "text/plain": [
       "'126.80709231818379'"
      ]
     },
     "metadata": {},
     "output_type": "display_data"
    },
    {
     "data": {
      "text/plain": [
       "'37.3669070055913'"
      ]
     },
     "metadata": {},
     "output_type": "display_data"
    },
    {
     "data": {
      "text/plain": [
       "'126.725674134671'"
      ]
     },
     "metadata": {},
     "output_type": "display_data"
    },
    {
     "data": {
      "text/plain": [
       "'37.4397681858322'"
      ]
     },
     "metadata": {},
     "output_type": "display_data"
    },
    {
     "data": {
      "text/plain": [
       "'126.785541744001'"
      ]
     },
     "metadata": {},
     "output_type": "display_data"
    },
    {
     "data": {
      "text/plain": [
       "'37.35163504048078'"
      ]
     },
     "metadata": {},
     "output_type": "display_data"
    },
    {
     "data": {
      "text/plain": [
       "'126.7155457864083'"
      ]
     },
     "metadata": {},
     "output_type": "display_data"
    },
    {
     "data": {
      "text/plain": [
       "'37.3666090010753'"
      ]
     },
     "metadata": {},
     "output_type": "display_data"
    },
    {
     "data": {
      "text/plain": [
       "'126.727725279709'"
      ]
     },
     "metadata": {},
     "output_type": "display_data"
    },
    {
     "data": {
      "text/plain": [
       "'37.4566290941903'"
      ]
     },
     "metadata": {},
     "output_type": "display_data"
    },
    {
     "data": {
      "text/plain": [
       "'126.635849970342'"
      ]
     },
     "metadata": {},
     "output_type": "display_data"
    },
    {
     "data": {
      "text/plain": [
       "'35.1331229674466'"
      ]
     },
     "metadata": {},
     "output_type": "display_data"
    },
    {
     "data": {
      "text/plain": [
       "'126.859644667838'"
      ]
     },
     "metadata": {},
     "output_type": "display_data"
    },
    {
     "data": {
      "text/plain": [
       "'37.4447412062661'"
      ]
     },
     "metadata": {},
     "output_type": "display_data"
    },
    {
     "data": {
      "text/plain": [
       "'126.799590042303'"
      ]
     },
     "metadata": {},
     "output_type": "display_data"
    },
    {
     "data": {
      "text/plain": [
       "'37.3447621473889'"
      ]
     },
     "metadata": {},
     "output_type": "display_data"
    },
    {
     "data": {
      "text/plain": [
       "'126.73460263025'"
      ]
     },
     "metadata": {},
     "output_type": "display_data"
    },
    {
     "data": {
      "text/plain": [
       "'37.4422293783623'"
      ]
     },
     "metadata": {},
     "output_type": "display_data"
    },
    {
     "data": {
      "text/plain": [
       "'126.78934064128'"
      ]
     },
     "metadata": {},
     "output_type": "display_data"
    },
    {
     "data": {
      "text/plain": [
       "'37.439768185832236'"
      ]
     },
     "metadata": {},
     "output_type": "display_data"
    },
    {
     "data": {
      "text/plain": [
       "'126.78554174400057'"
      ]
     },
     "metadata": {},
     "output_type": "display_data"
    },
    {
     "data": {
      "text/plain": [
       "'37.36892703863887'"
      ]
     },
     "metadata": {},
     "output_type": "display_data"
    },
    {
     "data": {
      "text/plain": [
       "'126.80900841760733'"
      ]
     },
     "metadata": {},
     "output_type": "display_data"
    },
    {
     "data": {
      "text/plain": [
       "'37.4440338210056'"
      ]
     },
     "metadata": {},
     "output_type": "display_data"
    },
    {
     "data": {
      "text/plain": [
       "'126.790700684406'"
      ]
     },
     "metadata": {},
     "output_type": "display_data"
    },
    {
     "data": {
      "text/plain": [
       "'37.44699805783482'"
      ]
     },
     "metadata": {},
     "output_type": "display_data"
    },
    {
     "data": {
      "text/plain": [
       "'126.79166656952997'"
      ]
     },
     "metadata": {},
     "output_type": "display_data"
    },
    {
     "data": {
      "text/plain": [
       "'37.4431833996858'"
      ]
     },
     "metadata": {},
     "output_type": "display_data"
    },
    {
     "data": {
      "text/plain": [
       "'126.792823005605'"
      ]
     },
     "metadata": {},
     "output_type": "display_data"
    },
    {
     "data": {
      "text/plain": [
       "'37.3444747790252'"
      ]
     },
     "metadata": {},
     "output_type": "display_data"
    },
    {
     "data": {
      "text/plain": [
       "'126.738269193154'"
      ]
     },
     "metadata": {},
     "output_type": "display_data"
    },
    {
     "data": {
      "text/plain": [
       "'37.4414347325543'"
      ]
     },
     "metadata": {},
     "output_type": "display_data"
    },
    {
     "data": {
      "text/plain": [
       "'126.784370815358'"
      ]
     },
     "metadata": {},
     "output_type": "display_data"
    },
    {
     "data": {
      "text/plain": [
       "'37.3671760024253'"
      ]
     },
     "metadata": {},
     "output_type": "display_data"
    },
    {
     "data": {
      "text/plain": [
       "'126.728228976331'"
      ]
     },
     "metadata": {},
     "output_type": "display_data"
    },
    {
     "data": {
      "text/plain": [
       "'37.65522364453547'"
      ]
     },
     "metadata": {},
     "output_type": "display_data"
    },
    {
     "data": {
      "text/plain": [
       "'127.06249172753803'"
      ]
     },
     "metadata": {},
     "output_type": "display_data"
    },
    {
     "data": {
      "text/plain": [
       "'37.3921285039465'"
      ]
     },
     "metadata": {},
     "output_type": "display_data"
    },
    {
     "data": {
      "text/plain": [
       "'126.741720655857'"
      ]
     },
     "metadata": {},
     "output_type": "display_data"
    },
    {
     "data": {
      "text/plain": [
       "'37.3921285039465'"
      ]
     },
     "metadata": {},
     "output_type": "display_data"
    },
    {
     "data": {
      "text/plain": [
       "'126.741720655857'"
      ]
     },
     "metadata": {},
     "output_type": "display_data"
    },
    {
     "data": {
      "text/plain": [
       "'37.34995724985967'"
      ]
     },
     "metadata": {},
     "output_type": "display_data"
    },
    {
     "data": {
      "text/plain": [
       "'126.73692514040629'"
      ]
     },
     "metadata": {},
     "output_type": "display_data"
    },
    {
     "data": {
      "text/plain": [
       "'37.44454686128452'"
      ]
     },
     "metadata": {},
     "output_type": "display_data"
    },
    {
     "data": {
      "text/plain": [
       "'126.78938386656175'"
      ]
     },
     "metadata": {},
     "output_type": "display_data"
    },
    {
     "data": {
      "text/plain": [
       "'37.36863155544646'"
      ]
     },
     "metadata": {},
     "output_type": "display_data"
    },
    {
     "data": {
      "text/plain": [
       "'126.8107228668594'"
      ]
     },
     "metadata": {},
     "output_type": "display_data"
    },
    {
     "data": {
      "text/plain": [
       "'37.336843293652'"
      ]
     },
     "metadata": {},
     "output_type": "display_data"
    },
    {
     "data": {
      "text/plain": [
       "'126.727981713314'"
      ]
     },
     "metadata": {},
     "output_type": "display_data"
    },
    {
     "data": {
      "text/plain": [
       "'37.336843293652'"
      ]
     },
     "metadata": {},
     "output_type": "display_data"
    },
    {
     "data": {
      "text/plain": [
       "'126.727981713314'"
      ]
     },
     "metadata": {},
     "output_type": "display_data"
    },
    {
     "data": {
      "text/plain": [
       "'37.4437693773828'"
      ]
     },
     "metadata": {},
     "output_type": "display_data"
    },
    {
     "data": {
      "text/plain": [
       "'126.785923580923'"
      ]
     },
     "metadata": {},
     "output_type": "display_data"
    },
    {
     "data": {
      "text/plain": [
       "'37.4437693773828'"
      ]
     },
     "metadata": {},
     "output_type": "display_data"
    },
    {
     "data": {
      "text/plain": [
       "'126.785923580923'"
      ]
     },
     "metadata": {},
     "output_type": "display_data"
    },
    {
     "data": {
      "text/plain": [
       "'37.4381156066267'"
      ]
     },
     "metadata": {},
     "output_type": "display_data"
    },
    {
     "data": {
      "text/plain": [
       "'126.788475322089'"
      ]
     },
     "metadata": {},
     "output_type": "display_data"
    },
    {
     "data": {
      "text/plain": [
       "'37.3899978333514'"
      ]
     },
     "metadata": {},
     "output_type": "display_data"
    },
    {
     "data": {
      "text/plain": [
       "'126.734908493662'"
      ]
     },
     "metadata": {},
     "output_type": "display_data"
    },
    {
     "data": {
      "text/plain": [
       "'37.344785615573'"
      ]
     },
     "metadata": {},
     "output_type": "display_data"
    },
    {
     "data": {
      "text/plain": [
       "'126.78523885365'"
      ]
     },
     "metadata": {},
     "output_type": "display_data"
    },
    {
     "data": {
      "text/plain": [
       "'37.3355156080071'"
      ]
     },
     "metadata": {},
     "output_type": "display_data"
    },
    {
     "data": {
      "text/plain": [
       "'126.730532221722'"
      ]
     },
     "metadata": {},
     "output_type": "display_data"
    },
    {
     "data": {
      "text/plain": [
       "'37.336591912599495'"
      ]
     },
     "metadata": {},
     "output_type": "display_data"
    },
    {
     "data": {
      "text/plain": [
       "'126.72837644482509'"
      ]
     },
     "metadata": {},
     "output_type": "display_data"
    },
    {
     "data": {
      "text/plain": [
       "'37.37760797930501'"
      ]
     },
     "metadata": {},
     "output_type": "display_data"
    },
    {
     "data": {
      "text/plain": [
       "'126.7891342486163'"
      ]
     },
     "metadata": {},
     "output_type": "display_data"
    },
    {
     "data": {
      "text/plain": [
       "'37.3698658688839'"
      ]
     },
     "metadata": {},
     "output_type": "display_data"
    },
    {
     "data": {
      "text/plain": [
       "'126.80787258365848'"
      ]
     },
     "metadata": {},
     "output_type": "display_data"
    },
    {
     "data": {
      "text/plain": [
       "'37.30153418046103'"
      ]
     },
     "metadata": {},
     "output_type": "display_data"
    },
    {
     "data": {
      "text/plain": [
       "'126.86115336207473'"
      ]
     },
     "metadata": {},
     "output_type": "display_data"
    },
    {
     "data": {
      "text/plain": [
       "'37.3188308657935'"
      ]
     },
     "metadata": {},
     "output_type": "display_data"
    },
    {
     "data": {
      "text/plain": [
       "'126.83483281501957'"
      ]
     },
     "metadata": {},
     "output_type": "display_data"
    },
    {
     "data": {
      "text/plain": [
       "'37.3186777099995'"
      ]
     },
     "metadata": {},
     "output_type": "display_data"
    },
    {
     "data": {
      "text/plain": [
       "'126.824821747045'"
      ]
     },
     "metadata": {},
     "output_type": "display_data"
    },
    {
     "data": {
      "text/plain": [
       "'37.3179334227018'"
      ]
     },
     "metadata": {},
     "output_type": "display_data"
    },
    {
     "data": {
      "text/plain": [
       "'126.836118626563'"
      ]
     },
     "metadata": {},
     "output_type": "display_data"
    },
    {
     "data": {
      "text/plain": [
       "'37.3168697766451'"
      ]
     },
     "metadata": {},
     "output_type": "display_data"
    },
    {
     "data": {
      "text/plain": [
       "'126.874026637308'"
      ]
     },
     "metadata": {},
     "output_type": "display_data"
    },
    {
     "data": {
      "text/plain": [
       "'37.3022760743559'"
      ]
     },
     "metadata": {},
     "output_type": "display_data"
    },
    {
     "data": {
      "text/plain": [
       "'126.863773302751'"
      ]
     },
     "metadata": {},
     "output_type": "display_data"
    },
    {
     "data": {
      "text/plain": [
       "'37.333156685565044'"
      ]
     },
     "metadata": {},
     "output_type": "display_data"
    },
    {
     "data": {
      "text/plain": [
       "'126.8081669645128'"
      ]
     },
     "metadata": {},
     "output_type": "display_data"
    },
    {
     "data": {
      "text/plain": [
       "'37.3340370210461'"
      ]
     },
     "metadata": {},
     "output_type": "display_data"
    },
    {
     "data": {
      "text/plain": [
       "'126.80762986346'"
      ]
     },
     "metadata": {},
     "output_type": "display_data"
    },
    {
     "data": {
      "text/plain": [
       "'37.336625833649755'"
      ]
     },
     "metadata": {},
     "output_type": "display_data"
    },
    {
     "data": {
      "text/plain": [
       "'126.8093949132006'"
      ]
     },
     "metadata": {},
     "output_type": "display_data"
    },
    {
     "data": {
      "text/plain": [
       "'37.3076305521042'"
      ]
     },
     "metadata": {},
     "output_type": "display_data"
    },
    {
     "data": {
      "text/plain": [
       "'126.847930925465'"
      ]
     },
     "metadata": {},
     "output_type": "display_data"
    },
    {
     "data": {
      "text/plain": [
       "'37.3359258220795'"
      ]
     },
     "metadata": {},
     "output_type": "display_data"
    },
    {
     "data": {
      "text/plain": [
       "'126.853037601797'"
      ]
     },
     "metadata": {},
     "output_type": "display_data"
    },
    {
     "data": {
      "text/plain": [
       "'37.31863402883691'"
      ]
     },
     "metadata": {},
     "output_type": "display_data"
    },
    {
     "data": {
      "text/plain": [
       "'126.82636293112714'"
      ]
     },
     "metadata": {},
     "output_type": "display_data"
    },
    {
     "data": {
      "text/plain": [
       "'37.33285258409903'"
      ]
     },
     "metadata": {},
     "output_type": "display_data"
    },
    {
     "data": {
      "text/plain": [
       "'126.81237886745633'"
      ]
     },
     "metadata": {},
     "output_type": "display_data"
    },
    {
     "data": {
      "text/plain": [
       "'37.3090411020286'"
      ]
     },
     "metadata": {},
     "output_type": "display_data"
    },
    {
     "data": {
      "text/plain": [
       "'126.851822040247'"
      ]
     },
     "metadata": {},
     "output_type": "display_data"
    },
    {
     "data": {
      "text/plain": [
       "'36.7933677014858'"
      ]
     },
     "metadata": {},
     "output_type": "display_data"
    },
    {
     "data": {
      "text/plain": [
       "'127.122583281368'"
      ]
     },
     "metadata": {},
     "output_type": "display_data"
    },
    {
     "data": {
      "text/plain": [
       "'37.3128023007534'"
      ]
     },
     "metadata": {},
     "output_type": "display_data"
    },
    {
     "data": {
      "text/plain": [
       "'126.829293571604'"
      ]
     },
     "metadata": {},
     "output_type": "display_data"
    },
    {
     "data": {
      "text/plain": [
       "'37.2953463529886'"
      ]
     },
     "metadata": {},
     "output_type": "display_data"
    },
    {
     "data": {
      "text/plain": [
       "'126.852615826722'"
      ]
     },
     "metadata": {},
     "output_type": "display_data"
    },
    {
     "data": {
      "text/plain": [
       "'37.3277391136704'"
      ]
     },
     "metadata": {},
     "output_type": "display_data"
    },
    {
     "data": {
      "text/plain": [
       "'126.802342875081'"
      ]
     },
     "metadata": {},
     "output_type": "display_data"
    },
    {
     "data": {
      "text/plain": [
       "'37.2812936795802'"
      ]
     },
     "metadata": {},
     "output_type": "display_data"
    },
    {
     "data": {
      "text/plain": [
       "'126.844104935742'"
      ]
     },
     "metadata": {},
     "output_type": "display_data"
    },
    {
     "data": {
      "text/plain": [
       "'37.3096509128984'"
      ]
     },
     "metadata": {},
     "output_type": "display_data"
    },
    {
     "data": {
      "text/plain": [
       "'126.828344120756'"
      ]
     },
     "metadata": {},
     "output_type": "display_data"
    },
    {
     "data": {
      "text/plain": [
       "'37.2906698263964'"
      ]
     },
     "metadata": {},
     "output_type": "display_data"
    },
    {
     "data": {
      "text/plain": [
       "'126.862995780725'"
      ]
     },
     "metadata": {},
     "output_type": "display_data"
    },
    {
     "data": {
      "text/plain": [
       "'37.30033709313805'"
      ]
     },
     "metadata": {},
     "output_type": "display_data"
    },
    {
     "data": {
      "text/plain": [
       "'126.8124303417876'"
      ]
     },
     "metadata": {},
     "output_type": "display_data"
    },
    {
     "data": {
      "text/plain": [
       "'37.3184574251424'"
      ]
     },
     "metadata": {},
     "output_type": "display_data"
    },
    {
     "data": {
      "text/plain": [
       "'126.831979363845'"
      ]
     },
     "metadata": {},
     "output_type": "display_data"
    },
    {
     "data": {
      "text/plain": [
       "'35.20591601678'"
      ]
     },
     "metadata": {},
     "output_type": "display_data"
    },
    {
     "data": {
      "text/plain": [
       "'129.071175193065'"
      ]
     },
     "metadata": {},
     "output_type": "display_data"
    },
    {
     "data": {
      "text/plain": [
       "'37.302442736107565'"
      ]
     },
     "metadata": {},
     "output_type": "display_data"
    },
    {
     "data": {
      "text/plain": [
       "'126.81238225114583'"
      ]
     },
     "metadata": {},
     "output_type": "display_data"
    },
    {
     "data": {
      "text/plain": [
       "'37.3305632472971'"
      ]
     },
     "metadata": {},
     "output_type": "display_data"
    },
    {
     "data": {
      "text/plain": [
       "'126.831668064077'"
      ]
     },
     "metadata": {},
     "output_type": "display_data"
    },
    {
     "data": {
      "text/plain": [
       "'37.332782700017'"
      ]
     },
     "metadata": {},
     "output_type": "display_data"
    },
    {
     "data": {
      "text/plain": [
       "'126.812060837208'"
      ]
     },
     "metadata": {},
     "output_type": "display_data"
    },
    {
     "data": {
      "text/plain": [
       "'37.332782700017'"
      ]
     },
     "metadata": {},
     "output_type": "display_data"
    },
    {
     "data": {
      "text/plain": [
       "'126.812060837208'"
      ]
     },
     "metadata": {},
     "output_type": "display_data"
    },
    {
     "data": {
      "text/plain": [
       "'37.2996702676591'"
      ]
     },
     "metadata": {},
     "output_type": "display_data"
    },
    {
     "data": {
      "text/plain": [
       "'126.846119773324'"
      ]
     },
     "metadata": {},
     "output_type": "display_data"
    },
    {
     "data": {
      "text/plain": [
       "'37.2996702676591'"
      ]
     },
     "metadata": {},
     "output_type": "display_data"
    },
    {
     "data": {
      "text/plain": [
       "'126.846119773324'"
      ]
     },
     "metadata": {},
     "output_type": "display_data"
    },
    {
     "data": {
      "text/plain": [
       "'37.2996702676591'"
      ]
     },
     "metadata": {},
     "output_type": "display_data"
    },
    {
     "data": {
      "text/plain": [
       "'126.846119773324'"
      ]
     },
     "metadata": {},
     "output_type": "display_data"
    },
    {
     "data": {
      "text/plain": [
       "'37.2996702676591'"
      ]
     },
     "metadata": {},
     "output_type": "display_data"
    },
    {
     "data": {
      "text/plain": [
       "'126.846119773324'"
      ]
     },
     "metadata": {},
     "output_type": "display_data"
    },
    {
     "data": {
      "text/plain": [
       "'37.3147821871341'"
      ]
     },
     "metadata": {},
     "output_type": "display_data"
    },
    {
     "data": {
      "text/plain": [
       "'126.832668925209'"
      ]
     },
     "metadata": {},
     "output_type": "display_data"
    },
    {
     "data": {
      "text/plain": [
       "'37.3185869995852'"
      ]
     },
     "metadata": {},
     "output_type": "display_data"
    },
    {
     "data": {
      "text/plain": [
       "'126.84098188227'"
      ]
     },
     "metadata": {},
     "output_type": "display_data"
    },
    {
     "data": {
      "text/plain": [
       "'37.3077063995587'"
      ]
     },
     "metadata": {},
     "output_type": "display_data"
    },
    {
     "data": {
      "text/plain": [
       "'126.856724730329'"
      ]
     },
     "metadata": {},
     "output_type": "display_data"
    },
    {
     "data": {
      "text/plain": [
       "'37.3012557558109'"
      ]
     },
     "metadata": {},
     "output_type": "display_data"
    },
    {
     "data": {
      "text/plain": [
       "'126.813321366661'"
      ]
     },
     "metadata": {},
     "output_type": "display_data"
    },
    {
     "data": {
      "text/plain": [
       "'37.3012557558109'"
      ]
     },
     "metadata": {},
     "output_type": "display_data"
    },
    {
     "data": {
      "text/plain": [
       "'126.813321366661'"
      ]
     },
     "metadata": {},
     "output_type": "display_data"
    },
    {
     "data": {
      "text/plain": [
       "'37.2947268931716'"
      ]
     },
     "metadata": {},
     "output_type": "display_data"
    },
    {
     "data": {
      "text/plain": [
       "'126.871564331019'"
      ]
     },
     "metadata": {},
     "output_type": "display_data"
    },
    {
     "data": {
      "text/plain": [
       "'37.6255907242959'"
      ]
     },
     "metadata": {},
     "output_type": "display_data"
    },
    {
     "data": {
      "text/plain": [
       "'127.151436683365'"
      ]
     },
     "metadata": {},
     "output_type": "display_data"
    },
    {
     "data": {
      "text/plain": [
       "'37.288485872444305'"
      ]
     },
     "metadata": {},
     "output_type": "display_data"
    },
    {
     "data": {
      "text/plain": [
       "'126.8631350671943'"
      ]
     },
     "metadata": {},
     "output_type": "display_data"
    },
    {
     "data": {
      "text/plain": [
       "'37.6028550971276'"
      ]
     },
     "metadata": {},
     "output_type": "display_data"
    },
    {
     "data": {
      "text/plain": [
       "'126.654299373945'"
      ]
     },
     "metadata": {},
     "output_type": "display_data"
    },
    {
     "data": {
      "text/plain": [
       "'35.3079116868163'"
      ]
     },
     "metadata": {},
     "output_type": "display_data"
    },
    {
     "data": {
      "text/plain": [
       "'128.986322713799'"
      ]
     },
     "metadata": {},
     "output_type": "display_data"
    },
    {
     "data": {
      "text/plain": [
       "'37.31733134090699'"
      ]
     },
     "metadata": {},
     "output_type": "display_data"
    },
    {
     "data": {
      "text/plain": [
       "'126.83212514578668'"
      ]
     },
     "metadata": {},
     "output_type": "display_data"
    },
    {
     "data": {
      "text/plain": [
       "'37.300167611699926'"
      ]
     },
     "metadata": {},
     "output_type": "display_data"
    },
    {
     "data": {
      "text/plain": [
       "'126.81351579835486'"
      ]
     },
     "metadata": {},
     "output_type": "display_data"
    },
    {
     "data": {
      "text/plain": [
       "'37.30317219046254'"
      ]
     },
     "metadata": {},
     "output_type": "display_data"
    },
    {
     "data": {
      "text/plain": [
       "'126.80988317861335'"
      ]
     },
     "metadata": {},
     "output_type": "display_data"
    },
    {
     "data": {
      "text/plain": [
       "'37.31077511761803'"
      ]
     },
     "metadata": {},
     "output_type": "display_data"
    },
    {
     "data": {
      "text/plain": [
       "'126.83064730816955'"
      ]
     },
     "metadata": {},
     "output_type": "display_data"
    },
    {
     "data": {
      "text/plain": [
       "'37.3071013933266'"
      ]
     },
     "metadata": {},
     "output_type": "display_data"
    },
    {
     "data": {
      "text/plain": [
       "'126.848437335031'"
      ]
     },
     "metadata": {},
     "output_type": "display_data"
    },
    {
     "data": {
      "text/plain": [
       "'37.32700327255056'"
      ]
     },
     "metadata": {},
     "output_type": "display_data"
    },
    {
     "data": {
      "text/plain": [
       "'126.84485113162008'"
      ]
     },
     "metadata": {},
     "output_type": "display_data"
    },
    {
     "data": {
      "text/plain": [
       "'37.2877476372473'"
      ]
     },
     "metadata": {},
     "output_type": "display_data"
    },
    {
     "data": {
      "text/plain": [
       "'126.863668683925'"
      ]
     },
     "metadata": {},
     "output_type": "display_data"
    },
    {
     "data": {
      "text/plain": [
       "'37.2877476372473'"
      ]
     },
     "metadata": {},
     "output_type": "display_data"
    },
    {
     "data": {
      "text/plain": [
       "'126.863668683925'"
      ]
     },
     "metadata": {},
     "output_type": "display_data"
    },
    {
     "data": {
      "text/plain": [
       "'37.31305353445281'"
      ]
     },
     "metadata": {},
     "output_type": "display_data"
    },
    {
     "data": {
      "text/plain": [
       "'126.79722032756321'"
      ]
     },
     "metadata": {},
     "output_type": "display_data"
    },
    {
     "data": {
      "text/plain": [
       "'37.3308449510524'"
      ]
     },
     "metadata": {},
     "output_type": "display_data"
    },
    {
     "data": {
      "text/plain": [
       "'126.83987734323'"
      ]
     },
     "metadata": {},
     "output_type": "display_data"
    },
    {
     "data": {
      "text/plain": [
       "'37.3176958833707'"
      ]
     },
     "metadata": {},
     "output_type": "display_data"
    },
    {
     "data": {
      "text/plain": [
       "'126.831227449524'"
      ]
     },
     "metadata": {},
     "output_type": "display_data"
    },
    {
     "data": {
      "text/plain": [
       "'35.1979619922003'"
      ]
     },
     "metadata": {},
     "output_type": "display_data"
    },
    {
     "data": {
      "text/plain": [
       "'126.833223177834'"
      ]
     },
     "metadata": {},
     "output_type": "display_data"
    },
    {
     "data": {
      "text/plain": [
       "'37.31440610836344'"
      ]
     },
     "metadata": {},
     "output_type": "display_data"
    },
    {
     "data": {
      "text/plain": [
       "'126.79729227772408'"
      ]
     },
     "metadata": {},
     "output_type": "display_data"
    },
    {
     "data": {
      "text/plain": [
       "'37.31440610836344'"
      ]
     },
     "metadata": {},
     "output_type": "display_data"
    },
    {
     "data": {
      "text/plain": [
       "'126.79729227772408'"
      ]
     },
     "metadata": {},
     "output_type": "display_data"
    },
    {
     "data": {
      "text/plain": [
       "'37.3100627694095'"
      ]
     },
     "metadata": {},
     "output_type": "display_data"
    },
    {
     "data": {
      "text/plain": [
       "'126.829024522869'"
      ]
     },
     "metadata": {},
     "output_type": "display_data"
    },
    {
     "data": {
      "text/plain": [
       "'37.3123422818836'"
      ]
     },
     "metadata": {},
     "output_type": "display_data"
    },
    {
     "data": {
      "text/plain": [
       "'126.827710790456'"
      ]
     },
     "metadata": {},
     "output_type": "display_data"
    },
    {
     "data": {
      "text/plain": [
       "'37.30909266395019'"
      ]
     },
     "metadata": {},
     "output_type": "display_data"
    },
    {
     "data": {
      "text/plain": [
       "'126.83238937497846'"
      ]
     },
     "metadata": {},
     "output_type": "display_data"
    },
    {
     "data": {
      "text/plain": [
       "'37.3135532341836'"
      ]
     },
     "metadata": {},
     "output_type": "display_data"
    },
    {
     "data": {
      "text/plain": [
       "'126.827685465022'"
      ]
     },
     "metadata": {},
     "output_type": "display_data"
    },
    {
     "data": {
      "text/plain": [
       "'37.30815011672214'"
      ]
     },
     "metadata": {},
     "output_type": "display_data"
    },
    {
     "data": {
      "text/plain": [
       "'126.8273300628646'"
      ]
     },
     "metadata": {},
     "output_type": "display_data"
    },
    {
     "data": {
      "text/plain": [
       "'37.0173381460002'"
      ]
     },
     "metadata": {},
     "output_type": "display_data"
    },
    {
     "data": {
      "text/plain": [
       "'127.2603618213583'"
      ]
     },
     "metadata": {},
     "output_type": "display_data"
    },
    {
     "data": {
      "text/plain": [
       "'37.137743760504'"
      ]
     },
     "metadata": {},
     "output_type": "display_data"
    },
    {
     "data": {
      "text/plain": [
       "'127.261408618358'"
      ]
     },
     "metadata": {},
     "output_type": "display_data"
    },
    {
     "data": {
      "text/plain": [
       "'37.0564233539694'"
      ]
     },
     "metadata": {},
     "output_type": "display_data"
    },
    {
     "data": {
      "text/plain": [
       "'127.473531524333'"
      ]
     },
     "metadata": {},
     "output_type": "display_data"
    },
    {
     "data": {
      "text/plain": [
       "'37.0000879336401'"
      ]
     },
     "metadata": {},
     "output_type": "display_data"
    },
    {
     "data": {
      "text/plain": [
       "'127.171101283024'"
      ]
     },
     "metadata": {},
     "output_type": "display_data"
    },
    {
     "data": {
      "text/plain": [
       "'37.01665531457324'"
      ]
     },
     "metadata": {},
     "output_type": "display_data"
    },
    {
     "data": {
      "text/plain": [
       "'127.2691647263953'"
      ]
     },
     "metadata": {},
     "output_type": "display_data"
    },
    {
     "data": {
      "text/plain": [
       "'37.0078271554009'"
      ]
     },
     "metadata": {},
     "output_type": "display_data"
    },
    {
     "data": {
      "text/plain": [
       "'127.258351913542'"
      ]
     },
     "metadata": {},
     "output_type": "display_data"
    },
    {
     "data": {
      "text/plain": [
       "'37.005251095922205'"
      ]
     },
     "metadata": {},
     "output_type": "display_data"
    },
    {
     "data": {
      "text/plain": [
       "'127.26684825869128'"
      ]
     },
     "metadata": {},
     "output_type": "display_data"
    },
    {
     "data": {
      "text/plain": [
       "'37.00502833190177'"
      ]
     },
     "metadata": {},
     "output_type": "display_data"
    },
    {
     "data": {
      "text/plain": [
       "'127.26653514185786'"
      ]
     },
     "metadata": {},
     "output_type": "display_data"
    },
    {
     "data": {
      "text/plain": [
       "'37.006070998896895'"
      ]
     },
     "metadata": {},
     "output_type": "display_data"
    },
    {
     "data": {
      "text/plain": [
       "'127.2708610175998'"
      ]
     },
     "metadata": {},
     "output_type": "display_data"
    },
    {
     "data": {
      "text/plain": [
       "'37.0098376682794'"
      ]
     },
     "metadata": {},
     "output_type": "display_data"
    },
    {
     "data": {
      "text/plain": [
       "'127.269999106524'"
      ]
     },
     "metadata": {},
     "output_type": "display_data"
    },
    {
     "data": {
      "text/plain": [
       "'37.01840115877607'"
      ]
     },
     "metadata": {},
     "output_type": "display_data"
    },
    {
     "data": {
      "text/plain": [
       "'127.3609715978145'"
      ]
     },
     "metadata": {},
     "output_type": "display_data"
    },
    {
     "data": {
      "text/plain": [
       "'37.129125208463975'"
      ]
     },
     "metadata": {},
     "output_type": "display_data"
    },
    {
     "data": {
      "text/plain": [
       "'127.2634068540943'"
      ]
     },
     "metadata": {},
     "output_type": "display_data"
    },
    {
     "data": {
      "text/plain": [
       "'37.064755022229726'"
      ]
     },
     "metadata": {},
     "output_type": "display_data"
    },
    {
     "data": {
      "text/plain": [
       "'127.38861513484366'"
      ]
     },
     "metadata": {},
     "output_type": "display_data"
    },
    {
     "data": {
      "text/plain": [
       "'36.99440327783722'"
      ]
     },
     "metadata": {},
     "output_type": "display_data"
    },
    {
     "data": {
      "text/plain": [
       "'127.14222144522978'"
      ]
     },
     "metadata": {},
     "output_type": "display_data"
    },
    {
     "data": {
      "text/plain": [
       "'37.5753488398992'"
      ]
     },
     "metadata": {},
     "output_type": "display_data"
    },
    {
     "data": {
      "text/plain": [
       "'127.024343274155'"
      ]
     },
     "metadata": {},
     "output_type": "display_data"
    },
    {
     "data": {
      "text/plain": [
       "'37.39294404411336'"
      ]
     },
     "metadata": {},
     "output_type": "display_data"
    },
    {
     "data": {
      "text/plain": [
       "'126.92568169810703'"
      ]
     },
     "metadata": {},
     "output_type": "display_data"
    },
    {
     "data": {
      "text/plain": [
       "'37.3961030848606'"
      ]
     },
     "metadata": {},
     "output_type": "display_data"
    },
    {
     "data": {
      "text/plain": [
       "'126.964674454035'"
      ]
     },
     "metadata": {},
     "output_type": "display_data"
    },
    {
     "data": {
      "text/plain": [
       "'37.5144044954514'"
      ]
     },
     "metadata": {},
     "output_type": "display_data"
    },
    {
     "data": {
      "text/plain": [
       "'126.917958080627'"
      ]
     },
     "metadata": {},
     "output_type": "display_data"
    },
    {
     "data": {
      "text/plain": [
       "'37.3751103667789'"
      ]
     },
     "metadata": {},
     "output_type": "display_data"
    },
    {
     "data": {
      "text/plain": [
       "'126.957187618767'"
      ]
     },
     "metadata": {},
     "output_type": "display_data"
    },
    {
     "data": {
      "text/plain": [
       "'37.3848588303534'"
      ]
     },
     "metadata": {},
     "output_type": "display_data"
    },
    {
     "data": {
      "text/plain": [
       "'126.932643073293'"
      ]
     },
     "metadata": {},
     "output_type": "display_data"
    },
    {
     "data": {
      "text/plain": [
       "'37.404443860241074'"
      ]
     },
     "metadata": {},
     "output_type": "display_data"
    },
    {
     "data": {
      "text/plain": [
       "'126.91635908809167'"
      ]
     },
     "metadata": {},
     "output_type": "display_data"
    },
    {
     "data": {
      "text/plain": [
       "'37.3151670981367'"
      ]
     },
     "metadata": {},
     "output_type": "display_data"
    },
    {
     "data": {
      "text/plain": [
       "'127.965998106716'"
      ]
     },
     "metadata": {},
     "output_type": "display_data"
    },
    {
     "data": {
      "text/plain": [
       "'35.8251652066992'"
      ]
     },
     "metadata": {},
     "output_type": "display_data"
    },
    {
     "data": {
      "text/plain": [
       "'127.115521626099'"
      ]
     },
     "metadata": {},
     "output_type": "display_data"
    },
    {
     "data": {
      "text/plain": [
       "'37.3901997149542'"
      ]
     },
     "metadata": {},
     "output_type": "display_data"
    },
    {
     "data": {
      "text/plain": [
       "'126.954504988012'"
      ]
     },
     "metadata": {},
     "output_type": "display_data"
    },
    {
     "data": {
      "text/plain": [
       "'37.38418252834754'"
      ]
     },
     "metadata": {},
     "output_type": "display_data"
    },
    {
     "data": {
      "text/plain": [
       "'127.12027638766509'"
      ]
     },
     "metadata": {},
     "output_type": "display_data"
    },
    {
     "data": {
      "text/plain": [
       "'37.400652540053414'"
      ]
     },
     "metadata": {},
     "output_type": "display_data"
    },
    {
     "data": {
      "text/plain": [
       "'126.91920261682252'"
      ]
     },
     "metadata": {},
     "output_type": "display_data"
    },
    {
     "data": {
      "text/plain": [
       "'37.38416763186501'"
      ]
     },
     "metadata": {},
     "output_type": "display_data"
    },
    {
     "data": {
      "text/plain": [
       "'126.9340404551936'"
      ]
     },
     "metadata": {},
     "output_type": "display_data"
    },
    {
     "data": {
      "text/plain": [
       "'37.40398803517565'"
      ]
     },
     "metadata": {},
     "output_type": "display_data"
    },
    {
     "data": {
      "text/plain": [
       "'126.9568662422496'"
      ]
     },
     "metadata": {},
     "output_type": "display_data"
    },
    {
     "data": {
      "text/plain": [
       "'37.39895624850421'"
      ]
     },
     "metadata": {},
     "output_type": "display_data"
    },
    {
     "data": {
      "text/plain": [
       "'126.91837321730651'"
      ]
     },
     "metadata": {},
     "output_type": "display_data"
    },
    {
     "data": {
      "text/plain": [
       "'37.4014252717884'"
      ]
     },
     "metadata": {},
     "output_type": "display_data"
    },
    {
     "data": {
      "text/plain": [
       "'126.918700327858'"
      ]
     },
     "metadata": {},
     "output_type": "display_data"
    },
    {
     "data": {
      "text/plain": [
       "'37.37085802189974'"
      ]
     },
     "metadata": {},
     "output_type": "display_data"
    },
    {
     "data": {
      "text/plain": [
       "'126.95857864965843'"
      ]
     },
     "metadata": {},
     "output_type": "display_data"
    },
    {
     "data": {
      "text/plain": [
       "'37.394358966360606'"
      ]
     },
     "metadata": {},
     "output_type": "display_data"
    },
    {
     "data": {
      "text/plain": [
       "'126.92618848927987'"
      ]
     },
     "metadata": {},
     "output_type": "display_data"
    },
    {
     "data": {
      "text/plain": [
       "'37.39444563610545'"
      ]
     },
     "metadata": {},
     "output_type": "display_data"
    },
    {
     "data": {
      "text/plain": [
       "'126.92646395549819'"
      ]
     },
     "metadata": {},
     "output_type": "display_data"
    },
    {
     "data": {
      "text/plain": [
       "'37.37275271986155'"
      ]
     },
     "metadata": {},
     "output_type": "display_data"
    },
    {
     "data": {
      "text/plain": [
       "'126.95812714363402'"
      ]
     },
     "metadata": {},
     "output_type": "display_data"
    },
    {
     "data": {
      "text/plain": [
       "'37.3925044951967'"
      ]
     },
     "metadata": {},
     "output_type": "display_data"
    },
    {
     "data": {
      "text/plain": [
       "'126.928855406321'"
      ]
     },
     "metadata": {},
     "output_type": "display_data"
    },
    {
     "data": {
      "text/plain": [
       "'37.403713574288496'"
      ]
     },
     "metadata": {},
     "output_type": "display_data"
    },
    {
     "data": {
      "text/plain": [
       "'126.97331115491635'"
      ]
     },
     "metadata": {},
     "output_type": "display_data"
    },
    {
     "data": {
      "text/plain": [
       "'37.37833795156528'"
      ]
     },
     "metadata": {},
     "output_type": "display_data"
    },
    {
     "data": {
      "text/plain": [
       "'126.93557657534052'"
      ]
     },
     "metadata": {},
     "output_type": "display_data"
    },
    {
     "data": {
      "text/plain": [
       "'37.4003335493257'"
      ]
     },
     "metadata": {},
     "output_type": "display_data"
    },
    {
     "data": {
      "text/plain": [
       "'126.976147139553'"
      ]
     },
     "metadata": {},
     "output_type": "display_data"
    },
    {
     "data": {
      "text/plain": [
       "'37.39076810304105'"
      ]
     },
     "metadata": {},
     "output_type": "display_data"
    },
    {
     "data": {
      "text/plain": [
       "'126.94966918237019'"
      ]
     },
     "metadata": {},
     "output_type": "display_data"
    },
    {
     "data": {
      "text/plain": [
       "'37.40101001615019'"
      ]
     },
     "metadata": {},
     "output_type": "display_data"
    },
    {
     "data": {
      "text/plain": [
       "'126.9475876130461'"
      ]
     },
     "metadata": {},
     "output_type": "display_data"
    },
    {
     "data": {
      "text/plain": [
       "'37.39031357900055'"
      ]
     },
     "metadata": {},
     "output_type": "display_data"
    },
    {
     "data": {
      "text/plain": [
       "'126.95305722534526'"
      ]
     },
     "metadata": {},
     "output_type": "display_data"
    },
    {
     "data": {
      "text/plain": [
       "'37.39647386675839'"
      ]
     },
     "metadata": {},
     "output_type": "display_data"
    },
    {
     "data": {
      "text/plain": [
       "'126.93747980216553'"
      ]
     },
     "metadata": {},
     "output_type": "display_data"
    },
    {
     "data": {
      "text/plain": [
       "'37.493386312156154'"
      ]
     },
     "metadata": {},
     "output_type": "display_data"
    },
    {
     "data": {
      "text/plain": [
       "'126.9087673495584'"
      ]
     },
     "metadata": {},
     "output_type": "display_data"
    },
    {
     "data": {
      "text/plain": [
       "'37.493386312156154'"
      ]
     },
     "metadata": {},
     "output_type": "display_data"
    },
    {
     "data": {
      "text/plain": [
       "'126.9087673495584'"
      ]
     },
     "metadata": {},
     "output_type": "display_data"
    },
    {
     "data": {
      "text/plain": [
       "'37.39349284399863'"
      ]
     },
     "metadata": {},
     "output_type": "display_data"
    },
    {
     "data": {
      "text/plain": [
       "'126.92438246829529'"
      ]
     },
     "metadata": {},
     "output_type": "display_data"
    },
    {
     "data": {
      "text/plain": [
       "'37.8224653307607'"
      ]
     },
     "metadata": {},
     "output_type": "display_data"
    },
    {
     "data": {
      "text/plain": [
       "'127.046635887253'"
      ]
     },
     "metadata": {},
     "output_type": "display_data"
    },
    {
     "data": {
      "text/plain": [
       "'37.85094998057397'"
      ]
     },
     "metadata": {},
     "output_type": "display_data"
    },
    {
     "data": {
      "text/plain": [
       "'127.04163393578919'"
      ]
     },
     "metadata": {},
     "output_type": "display_data"
    },
    {
     "data": {
      "text/plain": [
       "'37.822742074978756'"
      ]
     },
     "metadata": {},
     "output_type": "display_data"
    },
    {
     "data": {
      "text/plain": [
       "'127.04849423459873'"
      ]
     },
     "metadata": {},
     "output_type": "display_data"
    },
    {
     "data": {
      "text/plain": [
       "'37.77225310339109'"
      ]
     },
     "metadata": {},
     "output_type": "display_data"
    },
    {
     "data": {
      "text/plain": [
       "'126.93795926183513'"
      ]
     },
     "metadata": {},
     "output_type": "display_data"
    },
    {
     "data": {
      "text/plain": [
       "'37.77225310339109'"
      ]
     },
     "metadata": {},
     "output_type": "display_data"
    },
    {
     "data": {
      "text/plain": [
       "'126.93795926183513'"
      ]
     },
     "metadata": {},
     "output_type": "display_data"
    },
    {
     "data": {
      "text/plain": [
       "'37.77678546349604'"
      ]
     },
     "metadata": {},
     "output_type": "display_data"
    },
    {
     "data": {
      "text/plain": [
       "'126.94070241431179'"
      ]
     },
     "metadata": {},
     "output_type": "display_data"
    },
    {
     "data": {
      "text/plain": [
       "'37.7417652498122'"
      ]
     },
     "metadata": {},
     "output_type": "display_data"
    },
    {
     "data": {
      "text/plain": [
       "'126.984238632431'"
      ]
     },
     "metadata": {},
     "output_type": "display_data"
    },
    {
     "data": {
      "text/plain": [
       "'37.7417652498122'"
      ]
     },
     "metadata": {},
     "output_type": "display_data"
    },
    {
     "data": {
      "text/plain": [
       "'126.984238632431'"
      ]
     },
     "metadata": {},
     "output_type": "display_data"
    },
    {
     "data": {
      "text/plain": [
       "'37.7415091468169'"
      ]
     },
     "metadata": {},
     "output_type": "display_data"
    },
    {
     "data": {
      "text/plain": [
       "'126.982618534476'"
      ]
     },
     "metadata": {},
     "output_type": "display_data"
    },
    {
     "data": {
      "text/plain": [
       "'37.7415091468169'"
      ]
     },
     "metadata": {},
     "output_type": "display_data"
    },
    {
     "data": {
      "text/plain": [
       "'126.982618534476'"
      ]
     },
     "metadata": {},
     "output_type": "display_data"
    },
    {
     "data": {
      "text/plain": [
       "'37.9172601475776'"
      ]
     },
     "metadata": {},
     "output_type": "display_data"
    },
    {
     "data": {
      "text/plain": [
       "'126.96531373305'"
      ]
     },
     "metadata": {},
     "output_type": "display_data"
    },
    {
     "data": {
      "text/plain": [
       "'37.8185520876866'"
      ]
     },
     "metadata": {},
     "output_type": "display_data"
    },
    {
     "data": {
      "text/plain": [
       "'127.094052773424'"
      ]
     },
     "metadata": {},
     "output_type": "display_data"
    },
    {
     "data": {
      "text/plain": [
       "'37.844629241526'"
      ]
     },
     "metadata": {},
     "output_type": "display_data"
    },
    {
     "data": {
      "text/plain": [
       "'127.054084730039'"
      ]
     },
     "metadata": {},
     "output_type": "display_data"
    },
    {
     "data": {
      "text/plain": [
       "'37.83761451945068'"
      ]
     },
     "metadata": {},
     "output_type": "display_data"
    },
    {
     "data": {
      "text/plain": [
       "'127.06460606789042'"
      ]
     },
     "metadata": {},
     "output_type": "display_data"
    },
    {
     "data": {
      "text/plain": [
       "'37.8166935811178'"
      ]
     },
     "metadata": {},
     "output_type": "display_data"
    },
    {
     "name": "stderr",
     "output_type": "stream",
     "text": [
      "\n",
      "KeyboardInterrupt\n",
      "\n"
     ]
    }
   ],
   "source": [
    "#백업용    \n",
    "\n",
    "import requests\n",
    "import pandas as pd\n",
    "from time import sleep\n",
    "global place_dropx\n",
    "global place_dopry\n",
    "\n",
    " #place_dropx = places[0]['y']\n",
    "  #  place_dropy = places[0]['x']\n",
    "   # if place_dropx == None:\n",
    "    #    place_dropx = 2\n",
    "     #   place_dropy = 2\n",
    "      #  return place_dropx, place_dropy\n",
    "    #else:\n",
    "     #   place_dropx = places[0]['y']\n",
    "      #  place_dropy = places[0]['x']\n",
    "       # return place_dropx, place_dropy\n",
    "\n",
    "\n",
    "\n",
    "# 카카오API를 사용하여 주소->좌표 변환\n",
    "#카카오 API를 돌려보니 위도랑 경도가 서로 바뀌어서 나와서 코드로 다시 돌려줌. \n",
    "import requests, json\n",
    "API = '5447c5684f667dab614751e443d87ad2'\n",
    "def get_location(NM):\n",
    "    global place_dropx\n",
    "    global place_dropy\n",
    "    try:\n",
    "        url = 'https://dapi.kakao.com/v2/local/search/keyword.json?query={}'.format(NM)\n",
    "        headers = {\n",
    "            \"Authorization\": \"KakaoAK 5447c5684f667dab614751e443d87ad2\"\n",
    "        }\n",
    "        places = requests.get(url, headers = headers).json()['documents']\n",
    "        place_dropx = places[0]['y']\n",
    "        place_dropy = places[0]['x']\n",
    "        return place_dropx, place_dropy\n",
    "    except:\n",
    "        return place_dropx, place_dropy\n",
    "        pass\n",
    "        return place_dropx, place_dropy\n",
    "#places의 타입은 리스트임  \n",
    "global place_dropx\n",
    "global place_dropy\n",
    "pd.set_option('display.max_rows', None)\n",
    "pd.set_option('display.max_columns', None)\n",
    "df = pd.read_csv('C:/Users/김동혁/hyeok python/project file/medicback.csv', encoding = 'cp949')\n",
    "df_drop_sample = df[['시군명','사업장명','소재지시설전화번호','위도','경도','소재지도로명주소','영업상태명']] \n",
    "df_ddrop_sample = df_drop_sample[df_drop_sample['영업상태명'].str.contains('영업')]\n",
    "df_fn = df_ddrop_sample.reset_index(drop=True)\n",
    "address_fix = df_fn[['위도','경도','사업장명']]\n",
    "address_api = address_fix[['사업장명']]\n",
    "\n",
    "for item in range(len(address_api)): \n",
    "    get_location((address_api['사업장명'][item]))\n",
    "    display(place_dropx,place_dropy)\n",
    "    \n",
    "    \n",
    "    \n",
    "    \n",
    "의료법인 세경의료재단 새빛안과병원\n",
    "의료법인보성의료재단휘담메디김포한방병원\n",
    "코드를 제출 한 후, 취지를 생각하여 따로 해결해보아야겠다고 생각했습니다/\n",
    "\n",
    "다른 시설들의 결측값은 한, 많아야 둘셋이지만, 이 MEDICBACK파일, 즉 병원현황파일은 결측값이 수십개 이므로 이를 해결할 방법을 고민해보았습니다.\n",
    "\n",
    "그래서 \n",
    "처음에는 문자열을 잘라서 해보려고 시도함.\n",
    "도중에 보니 법인이나 재단이 띄어쓰기가 되어있는 경우도 있었지만 없는 경우도 있었음 .\n",
    "그래서 문자열을 잘라서 시도하다 마지막 심정으로 구글맵에 검색을 해보았으나 '풀네임으로 검색해도' 결과가 바로 뜨는 것을 확인함.\n",
    "그래서  두번째로 안됐던 병원도 검색해보았으나 검색결과가 뜨는 것을 확인함.\n",
    "\n",
    "ㄱ래서 구글맵스 크롤링하여 확인해보니, 결과가 잘 뜨는 것을 확인함.   \n"
   ]
  },
  {
   "cell_type": "code",
   "execution_count": 108,
   "id": "de215452-1cb3-4a3c-bda6-cee81e85093f",
   "metadata": {},
   "outputs": [
    {
     "name": "stdout",
     "output_type": "stream",
     "text": [
      "희망찬병원\n",
      "가평산속요양병원\n",
      "가평푸른숲요양병원\n",
      "강변요양병원\n",
      "노체리안드리자애병원\n",
      "에이치제이매그놀리아국제병원\n",
      "에이치제이매그놀리아국제한방병원\n",
      "청평우리병원\n",
      "청평활명요양병원\n",
      "강북성심요양병원\n",
      "건누리병원\n",
      "고양센트럴요양병원\n",
      "고양정신병원\n",
      "고양휴메디병원\n",
      "국군고양병원\n",
      "국립암센터\n",
      "국민건강보험공단일산병원\n",
      "그레이스병원\n",
      "늘푸른병원\n",
      "다스람요양병원\n",
      "더하다한방병원\n",
      "동국대학교일산불교병원\n",
      "동국대학교일산불교한방병원\n",
      "동국마음요양병원\n",
      "동원요양병원\n",
      "든든한병원\n",
      "라엘마음병원\n",
      "로하스일산요양병원\n",
      "로하스클로버요양병원\n",
      "리빙웰치과병원\n",
      "린치과병원\n",
      "메디누리요양병원\n",
      "무지개요양병원\n",
      "사과나무치과병원\n",
      "새찬요양병원\n",
      "서울메이치과병원\n",
      "서울척탑병원\n",
      "연세마두병원\n",
      "연세서울병원\n",
      "연세플라워치과병원\n",
      "연세항맥병원\n",
      "우노힐일산요양병원\n",
      "원당연세병원\n",
      "원흥아이제일병원\n",
      "의료법인\n",
      "세경의료재단\n",
      "새빛안과병원\n",
      "의료법인두영의료재단\n",
      "정안요양병원\n",
      "의료법인명지의료재단명지병원\n",
      "의료법인사과나무의료재단\n",
      "중산사과나무치과병원\n",
      "의료법인상록의료재단화정병원\n",
      "의료법인성광의료재단일산차병원\n",
      "의료법인에덴재단행복한요양병원\n",
      "의료법인일산복음병원\n",
      "의료법인자인의료재단자인메디병원\n",
      "의료법인한영의료재단삼성요양병원\n",
      "이푸른요양병원\n",
      "인제대학교일산백병원\n",
      "일산365한방병원\n",
      "일산리더스요양병원\n",
      "일산메디안요양병원\n",
      "일산복음미래병원\n",
      "일산사랑요양병원\n",
      "일산아르고요양병원\n",
      "일산이십일세기병원\n",
      "일산자생한방병원\n",
      "일산자애병원\n",
      "일산중심재활병원\n",
      "일산참사랑요양병원\n",
      "일산하이병원\n",
      "일산한울요양병원\n",
      "일산현대요양병원\n",
      "일산호수요양병원\n",
      "자향요양병원\n",
      "제이요양병원\n",
      "차연한방병원\n",
      "척사랑병원\n",
      "카프성모병원\n",
      "해븐리병원\n",
      "허유재병원\n",
      "활기찬병원\n",
      "효그린요양병원\n",
      "효림요양병원\n",
      "과천\n",
      "연세\n",
      "치과병원\n",
      "광명21세기병원\n",
      "광명기대찬병원\n",
      "광명면력한방병원\n",
      "광명새움병원\n",
      "광명성애병원\n",
      "광명효요양병원\n",
      "로하스광명요양병원\n",
      "서울대효요양병원\n",
      "아이원병원\n",
      "예지원요양병원\n",
      "중앙대학교광명병원\n",
      "탑요양병원\n",
      "강남제일요양병원\n",
      "더플러스병원\n",
      "선한빛요양병원\n",
      "스마일디자인치과병원\n",
      "에스알씨(SRC)노인전문병원\n",
      "에스알씨(SRC)재활병원\n",
      "위더스요양병원\n",
      "참조은병원\n",
      "한사랑요양병원\n",
      "효천요양병원\n",
      "구리한빛요양병원\n",
      "구리효요양병원\n",
      "국군구리병원\n",
      "굿병원\n",
      "리체한방병원\n",
      "서울라이즈요양병원\n",
      "연세마음병원\n",
      "오케이참병원\n",
      "윤서병원\n",
      "율치한방병원\n",
      "의료법인기상의료재단카이저병원\n",
      "재단법인원진녹색병원\n",
      "좋은아침병원\n",
      "투재암요양병원\n",
      "한양대학교구리병원\n",
      "행복한외과병원\n",
      "군포성모병원\n",
      "군포참요양병원\n",
      "남천병원\n",
      "미라클요양병원\n",
      "사랑애요양병원\n",
      "산본제일병원\n",
      "삼경요양병원\n",
      "원광대학교\n",
      "산본병원\n",
      "원광대학교치과대학산본치과병원\n",
      "윈치과병원\n",
      "의료법인\n",
      "두현의료재단\n",
      "그로스요양병원\n",
      "의료법인\n",
      "희망나눔의료재단\n",
      "휴성심요양병원\n",
      "효산의료재단\n",
      "지샘병원\n",
      "가자연세병원\n",
      "김포경희25병원\n",
      "김포다올요양병원\n",
      "김포다은병원\n",
      "김포다조은병원\n",
      "김포보배한방병원\n",
      "김포봄한방병원\n",
      "김포아이제일병원\n",
      "김포에이치(H)병원\n",
      "김포예사랑병원\n",
      "김포요양병원\n",
      "김포한누리병원\n",
      "나리여성병원\n",
      "마디척병원\n",
      "새빛한방병원\n",
      "서울여성병원\n",
      "세인트힐요양병원\n",
      "아너스힐병원\n",
      "연세더바른병원\n",
      "연세유병원\n",
      "연세하나병원\n",
      "유앤제이병원\n",
      "의료법인동행의료재단보리수요양병원\n",
      "의료법인보성의료재단휘담메디김포한방병원\n",
      "의료법인우리의료재단김포우리병원\n",
      "의료법인인봉의료재단뉴고려병원\n",
      "의료법인휘담메디의료재단하성한방병원\n",
      "정근한방병원\n",
      "춘의생한방병원\n",
      "한강아이제일병원\n",
      "한강연세병원\n",
      "한강요양병원\n",
      "한별정신건강병원\n",
      "히즈메디병원\n",
      "경기도립노인전문남양주병원\n",
      "국민병원\n",
      "남양주\n",
      "한양병원\n",
      "남양주21세기병원\n",
      "남양주경희한방병원\n",
      "남양주나눔병원\n",
      "남양주나무요양병원\n",
      "남양주백병원\n",
      "남양주정드림노인전문병원\n",
      "누네안과병원\n",
      "다산의료소비자생활협동조합정석소아청소년과병원\n",
      "다산하나한방병원\n",
      "마석기독요양병원\n",
      "매그너스요양병원\n",
      "별내요양병원\n",
      "비오람요양병원\n",
      "삼성바른병원\n",
      "새봄요양병원\n",
      "서울특별시축령정신병원\n",
      "수동연세요양병원\n",
      "실버힐스병원\n",
      "아이맘어린이병원\n",
      "양병원\n",
      "에덴요양병원\n",
      "에이스병원\n",
      "엘병원\n",
      "온세병원\n",
      "원병원\n",
      "의료법인다원의료재단\n",
      "진접제일요양병원\n",
      "의료법인혜수의료재단베리굿병원\n",
      "진접\n",
      "한양병원\n",
      "축령복음병원\n",
      "퇴계원\n",
      "서울요양병원\n",
      "필립요양병원\n",
      "하나소아청소년과병원\n",
      "한가온한방병원\n",
      "한누리요양병원\n",
      "햇살요양병원\n",
      "현대병원\n",
      "호평요양병원\n",
      "휴메디병원\n",
      "경기도립노인전문동두천병원\n",
      "동두천제일요양병원\n",
      "동두천중앙성모병원\n",
      "동원노인전문병원\n",
      "동원병원\n",
      "로젠요양병원\n",
      "로하스요양병원\n",
      "서울요양병원\n",
      "성지요양병원\n",
      "우리들요양병원\n",
      "(재)대성재단\n",
      "대성제일요양병원\n",
      "가은병원\n",
      "가톨릭대학교부천성모병원\n",
      "건주병원\n",
      "경기요양병원\n",
      "고려수재활요양병원\n",
      "고운여성병원\n",
      "다솜요양병원\n",
      "다온요양병원\n",
      "더블유진병원\n",
      "더편한소사요양병원\n",
      "도담한방병원\n",
      "디딤병원\n",
      "루카스병원\n",
      "메르덴치과병원\n",
      "메이플요양병원\n",
      "바오로요양병원\n",
      "백구당찬한방병원\n",
      "보성요양병원\n",
      "본새울병원\n",
      "부천21세기병원\n",
      "부천대성병원\n",
      "부천면력한방병원\n",
      "부천미소요양병원\n",
      "부천바른솔한방병원\n",
      "부천사랑병원\n",
      "부천삼성요양병원\n",
      "부천서울어린이병원\n",
      "부천세종병원\n",
      "부천수림한방병원\n",
      "부천시립노인전문병원\n",
      "부천요양병원\n",
      "부천우리병원\n",
      "부천자생한방병원\n",
      "부천제일요양병원\n",
      "부천중앙병원\n",
      "부천한방병원\n",
      "부천한병원\n",
      "사과나무치과병원\n",
      "사단법인누가참빛병원\n",
      "상동서울한방병원\n",
      "생생병원\n",
      "서울여성병원\n",
      "순천향대학교부속부천병원\n",
      "스마튼병원\n",
      "약대한방병원\n",
      "엘드림병원\n",
      "연세본사랑병원\n",
      "연세제일병원\n",
      "예손병원\n",
      "오정본병원\n",
      "의료법인대인의료재단\n",
      "다니엘종합병원\n",
      "의료법인운천의료재단메디홀스요양병원\n",
      "의료법인의향의료재단그린한방병원\n",
      "이룸병원\n",
      "이안치과병원\n",
      "인본병원\n",
      "일로한방병원\n",
      "재단법인대성재단디에스병원\n",
      "진병원\n",
      "차오름한방병원\n",
      "초앤유여성병원\n",
      "큰사랑요양병원\n",
      "평강치과병원\n",
      "프라임요양병원\n",
      "하이병원\n",
      "한우리요양병원\n",
      "한중한방병원\n",
      "현병원\n",
      "휴앤유병원\n",
      "(학교법인)동국대학교\n",
      "한의과대학\n",
      "분당한방병원\n",
      "경희다원한방병원\n",
      "경희위례한방병원\n",
      "곽여성병원\n",
      "국군수도병원\n",
      "국군수도치과병원\n",
      "대진의료재단\n",
      "분당제생병원\n",
      "드라마치과병원\n",
      "라온힐요양병원\n",
      "바른마디병원\n",
      "바른세상병원\n",
      "밸런스치과병원\n",
      "보바스기념병원\n",
      "분당러스크재활병원\n",
      "분당베스트병원\n",
      "분당서울대학교병원\n",
      "분당센트럴요양병원\n",
      "분당수요양병원\n",
      "분당연세요양병원\n",
      "분당예치과병원\n",
      "분당자생한방병원\n",
      "분당제일여성병원\n",
      "분당척병원\n",
      "분당포레스트한방병원\n",
      "사랑의병원\n",
      "서울나우병원\n",
      "성남사랑의병원\n",
      "성남시의료원\n",
      "성남예치과병원\n",
      "성남요양병원\n",
      "성남제일한방병원\n",
      "성남중앙병원\n",
      "성모요양병원\n",
      "성모윌병원\n",
      "성신한방병원\n",
      "송병재한방병원\n",
      "순천의료재단\n",
      "성남정병원\n",
      "연세스타병원\n",
      "우리효사랑요양병원\n",
      "위례바이오요양병원\n",
      "위례서울닥터스요양병원\n",
      "위례서울치과병원\n",
      "위례센트럴요양병원\n",
      "위례스마트요양병원\n",
      "위례재활의학과병원\n",
      "으뜸병원\n",
      "의료법인\n",
      "본플러스재단\n",
      "분당병원\n",
      "의료법인\n",
      "신창의료재단\n",
      "분당에이치병원\n",
      "좋은이웃요양병원\n",
      "지우병원\n",
      "차의과학대학교분당차병원\n",
      "카리스요양병원\n",
      "파티마\n",
      "요양병원\n",
      "형치과병원\n",
      "휴엔병원\n",
      "가톨릭대학교\n",
      "성빈센트병원\n",
      "강남여성병원\n",
      "경기도의료원\n",
      "수원병원\n",
      "경희수원한방병원\n",
      "광교365리움치과병원\n",
      "김찬병원\n",
      "나누리수원병원\n",
      "다인병원\n",
      "더웰병원\n",
      "동서요양병원\n",
      "리더스도준한방병원\n",
      "메디움수원요양병원\n",
      "메이저요양병원\n",
      "모아치과병원\n",
      "미래한방병원\n",
      "바로본병원\n",
      "반듯한방병원\n",
      "백성병원\n",
      "버팀병원\n",
      "베데스다병원\n",
      "삼성큰병원\n",
      "서울삼성호매실요양병원\n",
      "서울성모안과병원\n",
      "성모척관병원\n",
      "세인트마리여성병원\n",
      "수병원\n",
      "수여성병원\n",
      "수원다나음한방병원\n",
      "수원모커리한방병원\n",
      "수원브이아이피요양병원\n",
      "수원삼성요양병원\n",
      "수원센트럴요양병원\n",
      "수원요양병원\n",
      "수원우노병원\n",
      "수원자생한방병원\n",
      "수원중앙병원\n",
      "수원하나요양병원\n",
      "수원행복한요양병원\n",
      "수원효요양병원\n",
      "쉬즈메디병원\n",
      "시온여성병원\n",
      "아주다남병원\n",
      "아주대학교병원\n",
      "아주편한병원\n",
      "에덴메디여성병원\n",
      "연세모아요양병원\n",
      "연세수요양병원\n",
      "연세엘림요양병원\n",
      "영통효요양병원\n",
      "우리병원\n",
      "위더스요양병원\n",
      "윈산부인과병원\n",
      "윤강병원\n",
      "의료법인\n",
      "녹산의료재단동수원병원\n",
      "의료법인\n",
      "명인의료재단\n",
      "화홍병원\n",
      "의료법인\n",
      "사랑나무의료재단\n",
      "서수원병원\n",
      "의료법인\n",
      "사랑나무의료재단\n",
      "서수원요양병원\n",
      "의료법인\n",
      "송설의료재단\n",
      "수원백병원\n",
      "의료법인\n",
      "장산의료재단이춘택병원\n",
      "의료법인\n",
      "토마스의료재단\n",
      "윌스기념병원\n",
      "의료법인\n",
      "한성재단\n",
      "S서울병원\n",
      "의료법인녹산의료재단동수원한방병원\n",
      "이안한방병원\n",
      "정답병원\n",
      "제이에스병원\n",
      "참결한방병원\n",
      "초이스병원\n",
      "태온한방병원\n",
      "하나병원\n",
      "학교법인\n",
      "대우학원\n",
      "아주대학교요양병원\n",
      "한독병원\n",
      "한빛현요양병원\n",
      "해성병원\n",
      "효정요양병원\n",
      "경기도립노인전문시흥병원\n",
      "경희도담한방병원\n",
      "다온한방병원\n",
      "대원한방병원\n",
      "배곧한방병원\n",
      "베드로요양병원\n",
      "베스트한방병원\n",
      "세안한방병원\n",
      "시화한방병원\n",
      "시흥더봄요양병원\n",
      "시흥미소한방병원\n",
      "시흥서울대효요양병원\n",
      "시흥솔병원\n",
      "시흥은계한방병원\n",
      "시흥자인한방병원\n",
      "시흥한방병원\n",
      "신천제일요양병원\n",
      "에스한방병원\n",
      "예치과병원\n",
      "월곶한방병원\n",
      "의료법인\n",
      "나누리의료재단\n",
      "효성한방병원\n",
      "의료법인\n",
      "남촌의료재단\n",
      "시화병원\n",
      "의료법인\n",
      "녹향의료재단\n",
      "신천연합병원\n",
      "의료법인\n",
      "능곡의료재단\n",
      "능곡요양병원\n",
      "의료법인\n",
      "석경의료재단\n",
      "센트럴병원\n",
      "의료법인\n",
      "소애의료재단\n",
      "한울노인요양병원\n",
      "의료법인\n",
      "에스앤케이의료재단\n",
      "시흥에스앤케이요양병원\n",
      "의료법인\n",
      "영명의료재단\n",
      "혜민한방병원\n",
      "의료법인\n",
      "자운의료재단\n",
      "강남요양병원\n",
      "의료법인\n",
      "정심의료재단\n",
      "한마음요양병원\n",
      "의료법인\n",
      "참사랑\n",
      "의료재단\n",
      "시흥\n",
      "참사랑\n",
      "요양병원\n",
      "의료법인\n",
      "풍진의료재단\n",
      "스마트허브병원\n",
      "의료법인석경의료재단\n",
      "센트럴요양병원\n",
      "장현한방병원\n",
      "흥케이병원\n",
      "(의)대선의료재단으뜸요양병원\n",
      "고든병원\n",
      "고려대학교의과대학부속안산병원\n",
      "궁치과병원\n",
      "근로복지공단안산병원\n",
      "기둥병원\n",
      "늘푸른한방병원\n",
      "대아의료재단한도병원\n",
      "더드림의료소비자생활협동조합미래요양병원\n",
      "동산한방병원\n",
      "동안산병원\n",
      "동의한방병원\n",
      "두손병원\n",
      "마루한방병원\n",
      "바른한방병원\n",
      "박진영병원\n",
      "백비한방병원\n",
      "백운한방병원\n",
      "베스트힐스요양병원\n",
      "서연의료소비자생활협동조합\n",
      "성심한방병원\n",
      "서연의료소비자생활협동조합본원한방병원\n",
      "성은병원\n",
      "세창의료재단우성여성병원\n",
      "세화병원\n",
      "아너스요양병원\n",
      "안산21세기병원\n",
      "안산나래요양병원\n",
      "안산수한방병원\n",
      "안산시립노인전문병원\n",
      "안산연세병원\n",
      "안산예치과병원\n",
      "안산자생한방병원\n",
      "안산조은요양병원\n",
      "안산중앙요양병원\n",
      "안산튼튼병원\n",
      "안산효요양병원\n",
      "안성훈한방병원\n",
      "약산애한방병원\n",
      "에이스병원\n",
      "연세서울병원\n",
      "온누리병원\n",
      "우리요양병원\n",
      "우성요양병원\n",
      "의료법인\n",
      "플러스의료재단\n",
      "단원병원\n",
      "의료법인\n",
      "효송의료재단\n",
      "서안산노인전문병원\n",
      "의료법인더존의료재단\n",
      "경희요양병원\n",
      "의료법인서전의료재단한사랑병원\n",
      "의료법인칠석의료재단사랑의병원\n",
      "의료법인해인의료재단\n",
      "해인요양병원\n",
      "의료법인호원의료재단호원요양병원\n",
      "장동욱병원\n",
      "제이케이병원\n",
      "치항병원\n",
      "케이에스병원\n",
      "탑치과병원\n",
      "튼튼건강의료소비자생협누리한방병원\n",
      "하눌한방병원\n",
      "한국치과병원\n",
      "한빛여성병원\n",
      "해솔한방병원\n",
      "호수요양병원\n",
      "경기도의료원\n",
      "안성병원\n",
      "대건효도병원\n",
      "동안성병원\n",
      "미소플란트치과병원\n",
      "성요셉병원\n",
      "안성강남한방병원\n",
      "안성동인병원\n",
      "안성동인요양병원\n",
      "안성성모병원\n",
      "안성요양병원\n",
      "안성현대요양병원\n",
      "인선요양병원\n",
      "파라밀요양병원\n",
      "허리편한\n",
      "병원\n",
      "365매일한방병원\n",
      "국제나은병원\n",
      "그린재활의학과병원\n",
      "대윤한방병원\n",
      "라온한방병원\n",
      "메디하임효병원\n",
      "민정형외과병원\n",
      "바른몸\n",
      "한방병원\n",
      "본병원\n",
      "봄빛병원\n",
      "서울나우병원\n",
      "선진병원(요양병원)\n",
      "성심힐요양병원\n",
      "아벤스병원\n",
      "안양서울\n",
      "대효요양병원\n",
      "안양요양병원\n",
      "안양한방병원\n",
      "원천의료재단\n",
      "중화요양병원\n",
      "원천의료재단\n",
      "중화한방병원\n",
      "의료법인\n",
      "토마스의료재단\n",
      "안양윌스기념병원\n",
      "의료법인\n",
      "해뜨는\n",
      "요양병원\n",
      "의료법인서원의료재단김형근예병원\n",
      "인산의료재단\n",
      "메트로병원\n",
      "자강한방병원\n",
      "평촌예치과병원\n",
      "평촌우리병원\n",
      "평촌중앙병원\n",
      "하늘빛재활의학병원\n",
      "한림대학교성심병원\n",
      "효산의료재단\n",
      "샘여성병원\n",
      "효산의료재단\n",
      "안양샘병원\n",
      "경기웰니스요양병원\n",
      "국군양주병원\n",
      "나무정원여성병원\n",
      "돌담요양병원\n",
      "서울\n",
      "대효\n",
      "요양병원\n",
      "송추요양병원\n",
      "송추정신병원(성람재단)\n",
      "송추효사랑요양병원\n",
      "송추효요양병원\n",
      "신안요양병원\n",
      "실로암노인전문병원\n",
      "양주가람한방병원\n",
      "양주소망병원\n",
      "양주예쓰병원\n",
      "양주우리병원\n",
      "양주큰길요양병원\n",
      "양주한국병원\n",
      "에스엘서울병원\n",
      "연세요양병원\n",
      "예쓰요양병원\n",
      "국립교통재활병원\n",
      "다나암요양병원\n",
      "브니엘노인전문병원\n",
      "생생우리누리요양병원\n",
      "양수삼성요양병원\n",
      "양평병원\n",
      "양평엘한방병원\n",
      "양평요양병원\n",
      "양평효노인전문병원\n",
      "한길요양병원\n",
      "홍영노인전문병원\n",
      "경기도립노인전문여주병원\n",
      "대암의료재단시애노병원\n",
      "대진요양병원\n",
      "베스트요양병원\n",
      "상경원인터메드요양병원\n",
      "세종여주병원\n",
      "여주나무요양병원\n",
      "여주세민병원\n",
      "여주순영병원\n",
      "연세새로운병원\n",
      "중앙한방병원\n",
      "의료법인이정의료재단효사랑병원\n",
      "버팀병원\n",
      "삼성본병원\n",
      "서울어린이병원\n",
      "세교요양병원\n",
      "세마그린요양병원\n",
      "송호욱병원\n",
      "스타트요양병원\n",
      "오산노인전문병원\n",
      "오산메디컬재활요양병원\n",
      "오산세종병원\n",
      "오산신경정신병원\n",
      "오산한국병원\n",
      "우현병원\n",
      "웰봄병원\n",
      "유림치과병원\n",
      "이안한방병원\n",
      "조은오산병원\n",
      "평안한사랑병원\n",
      "(의)수지의료재단수지요양병원\n",
      "(의)영문의료재단\n",
      "다보스병원\n",
      "(의)유일재단\n",
      "하나애요양병원\n",
      "(의)현당의료재단\n",
      "늘봄요양병원\n",
      "(의)효심의료재단\n",
      "용인서울병원\n",
      "감인의료재단\n",
      "신갈백세요양병원\n",
      "강남병원\n",
      "강동요양병원\n",
      "경기도립노인전문용인병원\n",
      "경희나로한방병원\n",
      "광교참좋은요양병원\n",
      "김상수병원\n",
      "단국대학교\n",
      "치과대학\n",
      "죽전치과병원\n",
      "대한통합한방병원\n",
      "더원요양병원\n",
      "동백성루카병원\n",
      "동백요양병원\n",
      "라현한방병원\n",
      "로하스용인요양병원\n",
      "린병원\n",
      "마음심는치과병원\n",
      "메디하임효요양병원\n",
      "명주병원\n",
      "베스트안요양병원\n",
      "새로운경기도립정신병원\n",
      "샘물호스피스병원\n",
      "서울시립\n",
      "백암정신병원\n",
      "서울예스병원\n",
      "에제르\n",
      "요양병원\n",
      "엠플러스병원\n",
      "연세대학교\n",
      "의과대학\n",
      "용인세브란스병원\n",
      "연세프라임병원\n",
      "예영한방병원\n",
      "온누리요양병원\n",
      "용인S한방병원\n",
      "용인목토요양병원\n",
      "용인서울요양병원\n",
      "용인연세병원\n",
      "용인이안한방병원\n",
      "용인정신병원\n",
      "용인제일메디병원\n",
      "용인한방병원\n",
      "용인효요양병원\n",
      "우리호병원\n",
      "의료법인\n",
      "상록의료재단\n",
      "굿모닝한방병원\n",
      "의료법인광화의료재단러스크병원\n",
      "의료법인광화의료재단하워드힐병원\n",
      "이음병원\n",
      "조은손병원\n",
      "컬럼비아치과병원\n",
      "케어스힐요양병원\n",
      "포브스요양병원\n",
      "효자병원\n",
      "흥덕우리요양병원\n",
      "다사랑중앙병원\n",
      "부곡치과병원\n",
      "서울와이즈요양병원\n",
      "아가페의료재단\n",
      "시티병원\n",
      "우리효요양병원\n",
      "의료법인\n",
      "계요의료재단\n",
      "계요노인전문병원\n",
      "의료법인\n",
      "계요의료재단\n",
      "계요병원\n",
      "의료법인대성의료재단\n",
      "한림예요양병원\n",
      "가톨릭대학교의정부성모병원\n",
      "경기도의료원의정부병원\n",
      "더드림요양병원\n",
      "로체스터재활병원\n",
      "리하트병원\n",
      "마스터플러스병원\n",
      "바를정한방병원\n",
      "새하늘병원\n",
      "서울척병원\n",
      "센텀병원\n",
      "신여성병원\n",
      "아이엠요양병원\n",
      "연세고든병원\n",
      "연세오케이병원\n",
      "우리조은한방병원\n",
      "우먼피아여성병원\n",
      "의료법인\n",
      "송화의료재단\n",
      "조은요양병원\n",
      "의료법인\n",
      "영동의료재단\n",
      "의정부백병원\n",
      "의료법인성베드로병원\n",
      "의정부\n",
      "모커리한방병원\n",
      "의정부민락요양병원\n",
      "의정부연세요양병원\n",
      "의정부요양병원\n",
      "의정부쾌척한방병원\n",
      "의정부힐링스병원\n",
      "자황한방병원\n",
      "중앙효요양병원\n",
      "참튼튼병원\n",
      "청우병원\n",
      "추병원\n",
      "카네이션요양병원\n",
      "탑연세치과병원\n",
      "튼튼어린이병원\n",
      "학교법인\n",
      "을지학원\n",
      "의정부을지대학교병원\n",
      "한도한방병원\n",
      "한서중앙병원\n",
      "해동한방병원\n",
      "호원병원\n",
      "경기도의료원\n",
      "이천병원\n",
      "바른병원\n",
      "성안드레아병원\n",
      "우리요양병원\n",
      "의료법인\n",
      "목민의료재단\n",
      "장호원요양병원\n",
      "의료법인양지의료재단양지요양병원\n",
      "이천\n",
      "연세스위트치과병원\n",
      "이천소망병원\n",
      "이천소망요양병원\n",
      "이천엘리야병원\n",
      "이천파티마병원\n",
      "이천효요양병원\n",
      "추새로병원\n",
      "한국관광대학\n",
      "부설\n",
      "노인전문병원\n",
      "경기도의료원파주병원\n",
      "광탄현대병원\n",
      "기대플러스병원\n",
      "동서한방병원\n",
      "메디인병원\n",
      "메디힐요양병원\n",
      "무척조은병원\n"
     ]
    }
   ],
   "source": [
    "#백업용    \n",
    "\n",
    "import requests\n",
    "import pandas as pd\n",
    "global place_dropx\n",
    "global place_dopry\n",
    "\n",
    "# 카카오API를 사용하여 주소->좌표 변환\n",
    "#카카오 API를 돌려보니 위도랑 경도가 서로 바뀌어서 나와서 코드로 다시 돌려줌. \n",
    "import requests, json\n",
    "API = ''\n",
    "def get_location(NM):\n",
    "    global place_dropx\n",
    "    global place_dropy\n",
    "    try:\n",
    "        url = 'https://dapi.kakao.com/v2/local/search/keyword.json?query={}'.format(NM)\n",
    "        headers = {\n",
    "            \"Authorization\": \"\"\n",
    "        }\n",
    "        places = requests.get(url, headers = headers).json()['documents']\n",
    "        place_dropx = places[0]['y']\n",
    "        place_dropy = places[0]['x']\n",
    "        return place_dropx, place_dropy\n",
    "    except:\n",
    "        place_dropx = 33.3\n",
    "        place_dropy = 111.1\n",
    "        \n",
    "        \n",
    "#places의 타입은 리스트임  \n",
    "global place_dropx\n",
    "global place_dropy\n",
    "pd.set_option('display.max_rows', None)\n",
    "pd.set_option('display.max_columns', None)\n",
    "df = pd.read_csv('C:/Users/김동혁/hyeok python/project file/medicback.csv', encoding = 'cp949')\n",
    "df_drop_sample = df[['시군명','사업장명','소재지시설전화번호','위도','경도','소재지도로명주소','영업상태명']] \n",
    "df_ddrop_sample = df_drop_sample[df_drop_sample['영업상태명'].str.contains('영업')]\n",
    "df_fn = df_ddrop_sample.reset_index(drop=True)\n",
    "address_fix = df_fn[['위도','경도','사업장명']]\n",
    "address_api = address_fix[['사업장명']]\n",
    "\n",
    "\n",
    "for i in range(len(address_api)):\n",
    "    a += address_api['사업장명'][i].split(' ')\n",
    "    addro = a[i]\n",
    "    print(addro)\n",
    "\n",
    "\n",
    "\n",
    "\n",
    "#    address_api[i] = \" \".join(a[-1])\n",
    "#print(address_api)"
   ]
  },
  {
   "cell_type": "code",
   "execution_count": null,
   "id": "029a78a9-ac7d-4601-8dcc-8ffdf7d04be9",
   "metadata": {},
   "outputs": [],
   "source": [
    "A = ('37.788635945919445'\n",
    "'127.40443604391017'\n",
    "'37.8411750641129'\n",
    "'127.30407062975'\n",
    "'37.7473174659906'\n",
    "'127.525994213545'\n",
    "'37.8849401687725'\n",
    "'127.351698562824'\n",
    "'37.691139516030645'\n",
    "'127.52137494892459'\n",
    "'37.69116475236103'\n",
    "'127.52137285805374'\n",
    "'37.7371239176072'\n",
    "'127.415468745851'\n",
    "'37.66364541576377'\n",
    "'127.38766310892991'\n",
    "'37.6226935916378'\n",
    "'126.835433811544'\n",
    "'37.67725130417357'\n",
    "'126.74672643040681'\n",
    "'37.6272051556246'\n",
    "'126.829945550148'\n",
    "'37.7114939273297'\n",
    "'126.854453844636'\n",
    "'37.64773280467251'\n",
    "'126.87589936263151'\n",
    "'37.7193493604704'\n",
    "'126.898101475548'\n",
    "'37.6632797887114'\n",
    "'126.783336304037'\n",
    "'37.6455549955723'\n",
    "'126.792982867548'\n",
    "'37.64479123883855'\n",
    "'126.78507604859905'\n",
    "'36.5813388106208'\n",
    "'128.19417827183'\n",
    "'37.711932271788'\n",
    "'126.79121059335'\n",
    "'37.63045170414854'\n",
    "'126.83204075729941'\n",
    "'37.67651570387323'\n",
    "'126.80644301516296'\n",
    "'37.6765501751964'\n",
    "'126.806585755292'\n",
    "'37.667232946571'\n",
    "'126.801577519836'\n",
    "'37.67291236829969'\n",
    "'126.77812134405409'\n",
    "'37.6990995323219'\n",
    "'126.755927512124'\n",
    "'37.6275280356065'\n",
    "'126.828925272636'\n",
    "'37.68504305881709'\n",
    "'126.77523283049642'\n",
    "'37.657398666637086'\n",
    "'126.83744247325718'\n",
    "'37.6706534240647'\n",
    "'126.75918991152'\n",
    "'37.6339281815459'\n",
    "'126.831113000582'\n",
    "'37.6919639251515'\n",
    "'126.763048506094'\n",
    "'37.6970058753141'\n",
    "'126.739189249237'\n",
    "'37.67125249263253'\n",
    "'126.75959149721344'\n",
    "'37.6215622648483'\n",
    "'126.818445299098'\n",
    "'37.6336972118044'\n",
    "'126.833424676051'\n",
    "'37.65126824768468'\n",
    "'126.87418576914962'\n",
    "'37.6518758221244'\n",
    "'126.77882760223'\n",
    "'37.288485872444305'\n",
    "'126.8631350671943'\n",
    "'37.657078444316'\n",
    "'126.774260949047'\n",
    "'37.6705693525593'\n",
    "'126.762159892988'\n",
    "'37.70046036148527'\n",
    "'126.77895094439377'\n",
    "'37.65620921617289'\n",
    "'126.83538139993954'\n",
    "'37.65116898864379'\n",
    "'126.87404428861446'\n",
    "'37.65116898864379'\n",
    "'126.87404428861446'\n",
    "'37.7004126027876'\n",
    "'126.833180256251'\n",
    "'37.1633602507517'\n",
    "'128.23397654237'\n",
    "'37.1633602507517'\n",
    "'128.23397654237'\n",
    "'37.68403610337961'\n",
    "'126.77922643058336'\n",
    "'37.65413325427682'\n",
    "'126.77573852802718'\n",
    "'37.7230999226411'\n",
    "'126.864771222482'\n",
    "'37.6820538331719'\n",
    "'126.780125623431'\n",
    "'37.622963394534835'\n",
    "'126.83572660036613'\n",
    "'37.7563544165017'\n",
    "'126.772175757075'\n",
    "'37.6482091296455'\n",
    "'126.78189341467'\n",
    "'37.67427511448869'\n",
    "'126.75040692716065'\n",
    "'37.6762933528809'\n",
    "'126.746208247433'\n",
    "'37.6745479071252'\n",
    "'126.807506851759'\n",
    "'37.6762851606348'\n",
    "'126.748271361239'\n",
    "'37.6818939502614'\n",
    "'126.780389102076'\n",
    "'37.6447577039508'\n",
    "'126.784473343912'\n",
    "'37.6749847966236'\n",
    "'126.78701576545'\n",
    "'37.6438742099368'\n",
    "'126.786161907358'\n",
    "'37.64938672084043'\n",
    "'126.78044066514875'\n",
    "'37.6637577319763'\n",
    "'126.76564975131'\n",
    "'37.6999833884845'\n",
    "'126.746113899347'\n",
    "'37.6635018850866'\n",
    "'126.76748661452'\n",
    "'37.68255208151828'\n",
    "'126.7806138937793'\n",
    "'37.6853064442946'\n",
    "'126.777290837751'\n",
    "'37.6765646181297'\n",
    "'126.798002333121'\n",
    "'37.6597043517635'\n",
    "'126.767992582654'\n",
    "'37.6617613983628'\n",
    "'126.80325129975'\n",
    "'37.6824663130422'\n",
    "'126.781004124879'\n",
    "'37.6630621216844'\n",
    "'126.771128348302'\n",
    "'37.6712314511629'\n",
    "'126.759877203836'\n",
    "'37.645163282292785'\n",
    "'126.7910599653685'\n",
    "'37.6825457164109'\n",
    "'126.781067376383'\n",
    "'37.6628362811331'\n",
    "'126.769895946413'\n",
    "'37.63168770574167'\n",
    "'126.830675111954'\n",
    "'37.619503225862'\n",
    "'126.842721856766'\n",
    "'37.5686441558171'\n",
    "'127.050959632246'\n",
    "'37.4272400914739'\n",
    "'126.991576204735'\n",
    "'37.484670138877'\n",
    "'126.856364867047'\n",
    "'37.4760782710278'\n",
    "'126.865683352266'\n",
    "'37.4757060990892'\n",
    "'126.868033258102'\n",
    "'37.448299489366654'\n",
    "'126.88199880367902'\n",
    "'37.47347856519616'\n",
    "'126.87191025301993'\n",
    "'37.4339655570456'\n",
    "'126.879624789276'\n",
    "'37.47417146631517'\n",
    "'126.87028114163311'\n",
    "'37.79364865291751'\n",
    "'127.07805580572985'\n",
    "'37.4478609289679'\n",
    "'126.884977333113'\n",
    "'37.4744730337452'\n",
    "'126.852391420623'\n",
    "'37.424294013200985'\n",
    "'126.88595222083433'\n",
    "'37.48502285406731'\n",
    "'126.85597071881071'\n",
    "'37.3745512248872'\n",
    "'127.163327064093'\n",
    "'37.4095154723111'\n",
    "'127.256205338251'\n",
    "'37.4117960794265'\n",
    "'127.224684652384'\n",
    "'37.4097409928156'\n",
    "'127.260209178267'\n",
    "'37.41948186877093'\n",
    "'127.28707505872585'\n",
    "'37.41948186877093'\n",
    "'127.28707505872585'\n",
    "'37.2717590926359'\n",
    "'127.028028988878'\n",
    "'37.4109537479923'\n",
    "'127.26021563215863'\n",
    "'36.808376416301'\n",
    "'127.148104035816'\n",
    "'37.3174076585074'\n",
    "'127.330896361791'\n",
    "'37.597587077422766'\n",
    "'127.14353031776142'\n",
    "'37.60508718740873'\n",
    "'127.13410886757244'\n",
    "'37.61001479336413'\n",
    "'127.11977951546736'\n",
    "'37.5972910623184'\n",
    "'127.143932871498'\n",
    "'37.5993682015484'\n",
    "'127.132872215121'\n",
    "'37.59810223881715'\n",
    "'127.14369889934257'\n",
    "'37.4440297111684'\n",
    "'127.155983462591'\n",
    "'37.6094578630871'\n",
    "'127.138035340277'\n",
    "'37.605211528369324'\n",
    "'127.13954502488122'\n",
    "'37.5991384895828'\n",
    "'127.136000611899'\n",
    "'37.604979163855795'\n",
    "'127.1402286103682'\n",
    "'37.605999002206005'\n",
    "'127.13409691459066'\n",
    "'37.600450418240214'\n",
    "'127.13114720815322'\n",
    "'37.5990514201377'\n",
    "'127.130116539715'\n",
    "'37.601304981616565'\n",
    "'127.13238078892415'\n",
    "'37.5954423349226'\n",
    "'127.146773743844'\n",
    "'37.34655447258828'\n",
    "'126.94124556476153'\n",
    "'37.3505969417237'\n",
    "'126.944036954914'\n",
    "'37.3646971250652'\n",
    "'126.925996296504'\n",
    "'37.3363416610722'\n",
    "'126.935051626174'\n",
    "'37.35706859384792'\n",
    "'126.94700640158707'\n",
    "'37.3636622304335'\n",
    "'126.931108730886'\n",
    "'37.3582291907936'\n",
    "'126.93455417397902'\n",
    "'37.359414414057255'\n",
    "'126.93360496697154'\n",
    "'37.359414419125606'\n",
    "'126.93361399723231'\n",
    "'37.36543264612864'\n",
    "'126.92940815803364'\n",
    "'37.36543264612864'\n",
    "'126.92940815803364'\n",
    "'37.34375716677222'\n",
    "'126.94950872157469'\n",
    "'37.3586609072766'\n",
    "'126.947448889428'\n",
    "'37.5689608717901'\n",
    "'126.916607869656'\n",
    "'37.64355532838883'\n",
    "'126.62655248085652'\n",
    "'37.64106555348073'\n",
    "'126.61910964111107'\n",
    "'37.62269648931044'\n",
    "'126.71197538672186'\n",
    "'37.68957806671'\n",
    "'126.60017045636494'\n",
    "'37.6104799846628'\n",
    "'126.725180628302'\n",
    "'37.6453414947716'\n",
    "'126.623568044453'\n",
    "'37.6435564230142'\n",
    "'126.626613660768'\n",
    "'37.64288974268125'\n",
    "'126.62322690431408'\n",
    "'37.6226919100411'\n",
    "'126.699304481059'\n",
    "'37.59767281033179'\n",
    "'126.72111044427952'\n",
    "'37.70049935878815'\n",
    "'126.5686498526423'\n",
    "'37.62184641297194'\n",
    "'126.71290071328536'\n",
    "'37.63020758468601'\n",
    "'126.7041636367125'\n",
    "'37.6447169806441'\n",
    "'126.666333673543'\n",
    "'37.506329530977'\n",
    "'127.031973134565'\n",
    "'37.60290449384826'\n",
    "'126.76890292108425'\n",
    "'37.68391337961601'\n",
    "'126.60841207802991'\n",
    "'37.6453306831989'\n",
    "'126.623568099015'\n",
    "'37.64554395115494'\n",
    "'126.62489953999693'\n",
    "'37.612246839224085'\n",
    "'126.7318473498021'\n",
    "'37.6540900878197'\n",
    "'126.627571756098'\n",
    "'37.664291802112004'\n",
    "'126.67608833580529'\n",
    "'37.6949208412042'\n",
    "'126.587102574701'\n",
    "'37.6323330628346'\n",
    "'126.71072826641878'\n",
    "'37.641074039828965'\n",
    "'126.66023842391462'\n",
    "'37.641074039828965'\n",
    "'126.66023842391462'\n",
    "'37.6107646623167'\n",
    "'126.725165989959'\n",
    "'37.6427981907035'\n",
    "'126.62277188015'\n",
    "'37.6457460415585'\n",
    "'126.681376605399'\n",
    "'37.6555666885187'\n",
    "'126.684045371732'\n",
    "'37.68963499324121'\n",
    "'126.60208394210862'\n",
    "'37.6643145035061'\n",
    "'127.042311506737'\n",
    "'37.6112181029529'\n",
    "'126.73472212118'\n",
    "'37.7377242539578'\n",
    "'127.307903644477'\n",
    "'37.6501701897587'\n",
    "'127.238328022153'\n",
    "'37.682359241634'\n",
    "'127.204357781822'\n",
    "'37.65874708038338'\n",
    "'127.17719361717211'\n",
    "'37.6248059714511'\n",
    "'127.150728234559'\n",
    "'37.69813240975364'\n",
    "'127.20160147776208'\n",
    "'37.6456105105674'\n",
    "'127.23509092280054'\n",
    "'37.7112903262088'\n",
    "'127.187620804142'\n",
    "'37.63457018253865'\n",
    "'127.20703197128323'\n",
    "'35.86394503450448'\n",
    "'128.60254147715867'\n",
    "'37.72064984382282'\n",
    "'127.2027252699032'\n",
    "'37.6253933087138'\n",
    "'127.150810981565'\n",
    "'37.6523803956235'\n",
    "'127.305166673982'\n",
    "'37.721464613546445'\n",
    "'127.29768251791802'\n",
    "'37.64692126842994'\n",
    "'127.12556780984724'\n",
    "'37.7211765361374'\n",
    "'127.210648295804'\n",
    "'37.6527201850705'\n",
    "'127.296283743596'\n",
    "'37.70543972544011'\n",
    "'127.19934191147593'\n",
    "'37.739835818734726'\n",
    "'127.31076460052377'\n",
    "'37.7099462589444'\n",
    "'127.319837085807'\n",
    "'37.6467066211428'\n",
    "'127.234831495'\n",
    "'37.622720080612865'\n",
    "'127.15291249909423'\n",
    "'37.633524608818'\n",
    "'127.205216406867'\n",
    "'37.7706574140481'\n",
    "'127.290424927969'\n",
    "'37.6255907242959'\n",
    "'127.151436683365'\n",
    "'37.6487318764514'\n",
    "'127.141042844633'\n",
    "'37.6458472651146'\n",
    "'127.235644622435'\n",
    "'37.6519247053559'\n",
    "'127.304389705895'\n",
    "'37.6519247053559'\n",
    "'127.304389705895'\n",
    "'37.6500106376114'\n",
    "'127.113203366819'\n",
    "'37.7112457696894'\n",
    "'127.186173583629'\n",
    "'37.739835818734726'\n",
    "'127.31076460052377'\n",
    "'37.6509453401903'\n",
    "'127.144965568266'\n",
    "'37.6500916085016'\n",
    "'127.237978755986'\n",
    "'37.6540747425706'\n",
    "'127.242891537459'\n",
    "'37.7651625694054'\n",
    "'128.877863203328'\n",
    "'37.655764546831094'\n",
    "'127.27393680062035'\n",
    "'37.57398862104899'\n",
    "'127.07215117884235'\n",
    "'37.715454066306'\n",
    "'127.179882711862'\n",
    "'37.6541794130836'\n",
    "'127.244559989642'\n",
    "'37.725828847066'\n",
    "'127.191822694977'\n",
    "'37.9009335414462'\n",
    "'127.136112918523'\n",
    "'37.89500632414485'\n",
    "'127.0826921662946'\n",
    "'37.9088813086553'\n",
    "'127.054004371279'\n",
    "'37.90030401447456'\n",
    "'127.13668935153636'\n",
    "'37.9002164124785'\n",
    "'127.136093405941'\n",
    "'37.8993270859384'\n",
    "'127.062520180591'\n",
    "'36.767403819647825'\n",
    "'127.16510812120411'\n",
    "'37.8799259785788'\n",
    "'127.101505544054'\n",
    "'37.89582539738'\n",
    "'127.083804994745'\n",
    "'37.908155631214306'\n",
    "'127.03630692895283'\n",
    "'37.908155631214306'\n",
    "'127.03630692895283'\n",
    "'37.47744583001319'\n",
    "'126.76885793805118'\n",
    "'37.48698975764142'\n",
    "'126.79239906437387'\n",
    "'37.48473962873772'\n",
    "'126.81556129792622'\n",
    "'37.4882359959369'\n",
    "'126.783937853793'\n",
    "'37.4851730177424'\n",
    "'126.786162789334'\n",
    "'37.494063345270106'\n",
    "'126.7852248854367'\n",
    "'36.343562195811'\n",
    "'127.442569284861'\n",
    "'37.49273009245491'\n",
    "'126.76319084811948'\n",
    "'37.505369142578'\n",
    "'126.776003328967'\n",
    "'37.4793156607129'\n",
    "'126.795893445832'\n",
    "'37.5050932555761'\n",
    "'126.753733081244'\n",
    "'37.48688814636956'\n",
    "'126.78298516650234'\n",
    "'37.48360450887008'\n",
    "'126.76489753261279'\n",
    "'37.50373954408127'\n",
    "'126.75224693583245'\n",
    "'37.51488604398802'\n",
    "'126.77109976719329'\n",
    "'37.48597026257601'\n",
    "'126.78019164367255'\n",
    "'37.5033712418379'\n",
    "'126.760651069682'\n",
    "'37.5223235840882'\n",
    "'126.805124839162'\n",
    "'37.46599699004925'\n",
    "'126.79907212119844'\n",
    "'37.48357530387247'\n",
    "'126.77535723232579'\n",
    "'37.492550469062635'\n",
    "'126.78418776750951'\n",
    "'37.48036203649038'\n",
    "'126.81466757922445'\n",
    "'37.5029629483976'\n",
    "'126.763714954141'\n",
    "'37.5061087355327'\n",
    "'126.757678016489'\n",
    "'37.49020216571812'\n",
    "'126.78354095240802'\n",
    "'37.484920369140156'\n",
    "'126.7879590083494'\n",
    "'37.506555538149'\n",
    "'126.758071288643'\n",
    "'37.4809546201903'\n",
    "'126.791267065636'\n",
    "'37.48711207482507'\n",
    "'126.8138978586999'\n",
    "'37.5091889775173'\n",
    "'126.808556613848'\n",
    "'37.5031538754076'\n",
    "'126.778552303925'\n",
    "'37.5208676913969'\n",
    "'126.805201023105'\n",
    "'37.4894733687728'\n",
    "'126.751545514741'\n",
    "'37.4930457842982'\n",
    "'126.785045742176'\n",
    "'37.5272419137576'\n",
    "'126.804437787205'\n",
    "'37.4894733687728'\n",
    "'126.751545514741'\n",
    "'37.4993950723521'\n",
    "'126.786484122919'\n",
    "'37.67125249263253'\n",
    "'126.75959149721344'\n",
    "'37.67125249263253'\n",
    "'126.75959149721344'\n",
    "'37.5041470447842'\n",
    "'126.74894998357253'\n",
    "'37.4819887238291'\n",
    "'126.793172680185'\n",
    "'37.506329530977'\n",
    "'127.031973134565'\n",
    "'37.49877002726885'\n",
    "'126.76299083578725'\n",
    "'37.50500345729462'\n",
    "'126.77606775582998'\n",
    "'37.5124252281245'\n",
    "'126.774756151056'\n",
    "'37.4836170107057'\n",
    "'126.756829198911'\n",
    "'37.4898536646609'\n",
    "'126.7836437247508'\n",
    "'37.520051335366674'\n",
    "'126.78942181717599'\n",
    "'37.502553896768'\n",
    "'126.787429635098'\n",
    "'37.5276176743247'\n",
    "'126.804463957718'\n",
    "'37.51231594980692'\n",
    "'126.76948564816074'\n",
    "'37.48349956801356'\n",
    "'126.76741467720338'\n",
    "'37.48349956801356'\n",
    "'126.76741467720338'\n",
    "'37.5157917626915'\n",
    "'126.775908837075'\n",
    "'37.5196556514868'\n",
    "'126.804539033689'\n",
    "'37.728455056630004'\n",
    "'126.73589825463316'\n",
    "'37.4977676888112'\n",
    "'126.785396345248'\n",
    "'37.4916961290578'\n",
    "'126.78359317964353'\n",
    "'37.503371241837854'\n",
    "'126.76065106968178'\n",
    "'37.5076859186573'\n",
    "'126.785383789448'\n",
    "'37.5018936932495'\n",
    "'126.769766496306'\n",
    "'35.2363296824513'\n",
    "'128.546897557365'\n",
    "'37.4833268494895'\n",
    "'126.783685159459'\n",
    "'37.51811887588163'\n",
    "'126.7993645558783'\n",
    "'37.50314179937249'\n",
    "'126.7817461181741'\n",
    "'37.5113876955531'\n",
    "'126.806510554531'\n",
    "'37.5177545453865'\n",
    "'126.770486965128'\n",
    "'37.51904139876152'\n",
    "'126.7849689314432'\n",
    "'37.48295294493557'\n",
    "'126.77251430009535'\n",
    "'37.3672712174878'\n",
    "'127.127984612339'\n",
    "'37.429258297389'\n",
    "'127.128415455708'\n",
    "'37.4734699328863'\n",
    "'127.142700256568'\n",
    "'37.44074851185208'\n",
    "'127.13045892386845'\n",
    "'37.39237156191363'\n",
    "'127.14907472877495'\n",
    "'37.39237156191363'\n",
    "'127.14907472877495'\n",
    "'37.3881744685617'\n",
    "'127.121638950154'\n",
    "'37.3677779297013'\n",
    "'127.107756570547'\n",
    "'37.4182558232201'\n",
    "'127.126888564093'\n",
    "'37.4452678538749'\n",
    "'127.162558524447'\n",
    "'37.4103052975779'\n",
    "'127.126829971128'\n",
    "'37.394202719954514'\n",
    "'127.1121049410439'\n",
    "'37.35610413456303'\n",
    "'127.09856327843687'\n",
    "'37.36397870548507'\n",
    "'127.10631523888489'\n",
    "'37.4121941678129'\n",
    "'127.129842341125'\n",
    "'37.35199666389841'\n",
    "'127.12321712781916'\n",
    "'37.3912225728659'\n",
    "'127.125993782273'\n",
    "'37.405801230419925'\n",
    "'127.12645642769218'\n",
    "'37.4160131089942'\n",
    "'127.120947437291'\n",
    "'37.3788238926683'\n",
    "'127.116014609604'\n",
    "'37.3857182260062'\n",
    "'127.119927666655'\n",
    "'37.3869129039723'\n",
    "'127.121767898642'\n",
    "'37.412825523467'\n",
    "'127.129256047436'\n",
    "'37.3504973104266'\n",
    "'127.109520776428'\n",
    "'37.32700327255056'\n",
    "'126.84485113162008'\n",
    "'37.38418252834754'\n",
    "'127.12027638766509'\n",
    "'37.4432096736039'\n",
    "'127.127531872575'\n",
    "'37.4450531524635'\n",
    "'127.138727193654'\n",
    "'37.431698812582574'\n",
    "'127.12872581869314'\n",
    "'37.4446236913761'\n",
    "'127.159203109641'\n",
    "'37.4294297502603'\n",
    "'127.129004391579'\n",
    "'37.4528154919668'\n",
    "'127.162009765133'\n",
    "'35.228097988527416'\n",
    "'128.8980360138146'\n",
    "'37.4344473895028'\n",
    "'127.128285341805'\n",
    "'37.43448331942922'\n",
    "'127.12921418830948'\n",
    "'37.3882441961832'\n",
    "'127.123906526025'\n",
    "'37.43985356194735'\n",
    "'127.12903810315647'\n",
    "'37.441306443942864'\n",
    "'127.1464382543572'\n",
    "'37.4490310680489'\n",
    "'127.145519825069'\n",
    "'37.4623146356708'\n",
    "'127.143352729172'\n",
    "'37.464674136493585'\n",
    "'127.14131353769898'\n",
    "'37.472709192937586'\n",
    "'127.14293847288258'\n",
    "'37.4622434545835'\n",
    "'127.143353723605'\n",
    "'37.4625475943936'\n",
    "'127.142941733445'\n",
    "'37.46569940679808'\n",
    "'127.13678717125138'\n",
    "'35.870037402966226'\n",
    "'128.58933636935143'\n",
    "'37.363714706064485'\n",
    "'127.10631373758349'\n",
    "'37.37636677002696'\n",
    "'127.11039725416153'\n",
    "'37.415838038058205'\n",
    "'127.15095913194193'\n",
    "'37.4437143280432'\n",
    "'127.140184743344'\n",
    "'37.41028152014102'\n",
    "'127.12546995836504'\n",
    "'37.3740183076087'\n",
    "'127.137431139016'\n",
    "'37.43935704990829'\n",
    "'127.14316880756851'\n",
    "'37.337082277594405'\n",
    "'127.11664775985406'\n",
    "'37.4399217873478'\n",
    "'127.144073875905'\n",
    "'37.278073710670476'\n",
    "'127.02749009768354'\n",
    "'37.506329530977'\n",
    "'127.031973134565'\n",
    "'37.2918591392537'\n",
    "'126.996377592179'\n",
    "'37.3039402037726'\n",
    "'127.00474191726'\n",
    "'37.27139174009503'\n",
    "'127.05911539623202'\n",
    "'37.26269858141598'\n",
    "'127.02644848455463'\n",
    "'37.2739294988603'\n",
    "'127.048234695932'\n",
    "'37.2918560179578'\n",
    "'127.027422934015'\n",
    "'37.25482403079852'\n",
    "'127.07541107854671'\n",
    "'37.6068933437531'\n",
    "'127.028924371435'\n",
    "'37.2750008547886'\n",
    "'126.954078294978'\n",
    "'37.2876238048964'\n",
    "'127.01098840702'\n",
    "'37.2756913940647'\n",
    "'127.027344907277'\n",
    "'34.75695519186433'\n",
    "'127.65697495318886'\n",
    "'37.2781381314176'\n",
    "'127.003148171408'\n",
    "'35.868476472414'\n",
    "'128.61515204881'\n",
    "'37.2579759571372'\n",
    "'126.962569068179'\n",
    "'37.2676754380741'\n",
    "'127.028595691092'\n",
    "'37.1493406229813'\n",
    "'127.074018463946'\n",
    "'35.3532573720065'\n",
    "'129.043618501967'\n",
    "'37.2513472721356'\n",
    "'126.983723676866'\n",
    "'37.2734534351344'\n",
    "'126.942953079072'\n",
    "'37.27450260270054'\n",
    "'127.04586164412092'\n",
    "'37.29193908443796'\n",
    "'127.0084639475228'\n",
    "'37.2754513188001'\n",
    "'126.95393369772'\n",
    "'37.2803401473826'\n",
    "'127.029881436843'\n",
    "'37.25123519397203'\n",
    "'126.97631708327978'\n",
    "'37.25377408014018'\n",
    "'127.02019951975501'\n",
    "'37.2749902489488'\n",
    "'127.018793530011'\n",
    "'37.2709803021557'\n",
    "'127.001077853486'\n",
    "'37.2935098894704'\n",
    "'127.001236066537'\n",
    "'37.27461928278225'\n",
    "'126.95297807116339'\n",
    "'37.2608998138727'\n",
    "'127.064662585719'\n",
    "'37.2585475600456'\n",
    "'127.021603126243'\n",
    "'37.2534419583724'\n",
    "'127.072316663791'\n",
    "'37.259913309102'\n",
    "'127.022839033588'\n",
    "'37.2740494556964'\n",
    "'126.954335944572'\n",
    "'37.303893217796976'\n",
    "'126.99266830566083'\n",
    "'37.30040796445036'\n",
    "'127.00802163138242'\n",
    "'37.2743358133002'\n",
    "'127.029089805243'\n",
    "'37.2526787845285'\n",
    "'127.0765992517'\n",
    "'37.2965697308279'\n",
    "'126.99542997767'\n",
    "'37.2795882832803'\n",
    "'127.04761136662'\n",
    "'37.3104742556962'\n",
    "'126.99085827241'\n",
    "'37.2493432031895'\n",
    "'127.033958453612'\n",
    "'37.2671144559945'\n",
    "'127.080568804211'\n",
    "'37.3045043385479'\n",
    "'127.001441535568'\n",
    "'37.2929580949717'\n",
    "'127.009306520582'\n",
    "'37.2377882508269'\n",
    "'127.060842706407'\n",
    "'37.8273368339277'\n",
    "'127.148004238699'\n",
    "'37.2717590926359'\n",
    "'127.028028988878'\n",
    "'37.2666888600594'\n",
    "'127.0810148002'\n",
    "'37.24631210509065'\n",
    "'127.05344680479193'\n",
    "'37.2781548249653'\n",
    "'127.034314173322'\n",
    "'37.2601424748801'\n",
    "'126.963891446527'\n",
    "'37.241381715583344'\n",
    "'126.97812678086044'\n",
    "'37.241381715583344'\n",
    "'126.97812678086044'\n",
    "'37.27900384554839'\n",
    "'127.01634316576146'\n",
    "'37.27201727317596'\n",
    "'127.01564036461296'\n",
    "'37.2650126858975'\n",
    "'127.025406473972'\n",
    "'37.27457346776808'\n",
    "'127.04185337021917'\n",
    "'37.2786308866122'\n",
    "'127.033218385697'\n",
    "'37.2731572119189'\n",
    "'127.048467594518'\n",
    "'37.2681804514139'\n",
    "'127.026755932584'\n",
    "'37.27354531957155'\n",
    "'126.95550884902303'\n",
    "'37.2760080808009'\n",
    "'127.041407659916'\n",
    "'37.2739812219268'\n",
    "'127.045023590546'\n",
    "'37.5893485751997'\n",
    "'127.08832429209'\n",
    "'36.6235173874628'\n",
    "'127.430918940237'\n",
    "'37.27925155900331'\n",
    "'127.04916834948963'\n",
    "'37.2696039928923'\n",
    "'127.027211922548'\n",
    "'37.3063370538152'\n",
    "'127.000320349012'\n",
    "'35.8551156620577'\n",
    "'128.502840626901'\n",
    "'35.1498697301984'\n",
    "'126.672582498007'\n",
    "'37.386242501283405'\n",
    "'126.80709231818379'\n",
    "'37.3669070055913'\n",
    "'126.725674134671'\n",
    "'37.4397681858322'\n",
    "'126.785541744001'\n",
    "'37.35163504048078'\n",
    "'126.7155457864083'\n",
    "'37.3666090010753'\n",
    "'126.727725279709'\n",
    "'37.4566290941903'\n",
    "'126.635849970342'\n",
    "'35.1331229674466'\n",
    "'126.859644667838'\n",
    "'37.4447412062661'\n",
    "'126.799590042303'\n",
    "'37.3447621473889'\n",
    "'126.73460263025'\n",
    "'37.4422293783623'\n",
    "'126.78934064128'\n",
    "'37.439768185832236'\n",
    "'126.78554174400057'\n",
    "'37.36892703863887'\n",
    "'126.80900841760733'\n",
    "'37.4440338210056'\n",
    "'126.790700684406'\n",
    "'37.44699805783482'\n",
    "'126.79166656952997'\n",
    "'37.4431833996858'\n",
    "'126.792823005605'\n",
    "'37.3444747790252'\n",
    "'126.738269193154'\n",
    "'37.4414347325543'\n",
    "'126.784370815358'\n",
    "'37.3671760024253'\n",
    "'126.728228976331'\n",
    "'37.65522364453547'\n",
    "'127.06249172753803'\n",
    "'37.3921285039465'\n",
    "'126.741720655857'\n",
    "'37.3921285039465'\n",
    "'126.741720655857'\n",
    "'37.34995724985967'\n",
    "'126.73692514040629'\n",
    "'37.44454686128452'\n",
    "'126.78938386656175'\n",
    "'37.36863155544646'\n",
    "'126.8107228668594'\n",
    "'37.336843293652'\n",
    "'126.727981713314'\n",
    "'37.336843293652'\n",
    "'126.727981713314'\n",
    "'37.4437693773828'\n",
    "'126.785923580923'\n",
    "'37.4437693773828'\n",
    "'126.785923580923'\n",
    "'37.4381156066267'\n",
    "'126.788475322089'\n",
    "'37.3899978333514'\n",
    "'126.734908493662'\n",
    "'37.344785615573'\n",
    "'126.78523885365'\n",
    "'37.3355156080071'\n",
    "'126.730532221722'\n",
    "'37.336591912599495'\n",
    "'126.72837644482509'\n",
    "'37.37760797930501'\n",
    "'126.7891342486163'\n",
    "'37.3698658688839'\n",
    "'126.80787258365848'\n",
    "'37.30153418046103'\n",
    "'126.86115336207473'\n",
    "'37.3188308657935'\n",
    "'126.83483281501957'\n",
    "'37.3186777099995'\n",
    "'126.824821747045'\n",
    "'37.3179334227018'\n",
    "'126.836118626563'\n",
    "'37.3168697766451'\n",
    "'126.874026637308'\n",
    "'37.3022760743559'\n",
    "'126.863773302751'\n",
    "'37.333156685565044'\n",
    "'126.8081669645128'\n",
    "'37.3340370210461'\n",
    "'126.80762986346'\n",
    "'37.336625833649755'\n",
    "'126.8093949132006'\n",
    "'37.3076305521042'\n",
    "'126.847930925465'\n",
    "'37.3359258220795'\n",
    "'126.853037601797'\n",
    "'37.31863402883691'\n",
    "'126.82636293112714'\n",
    "'37.33285258409903'\n",
    "'126.81237886745633'\n",
    "'37.3090411020286'\n",
    "'126.851822040247'\n",
    "'36.7933677014858'\n",
    "'127.122583281368'\n",
    "'37.3128023007534'\n",
    "'126.829293571604'\n",
    "'37.2953463529886'\n",
    "'126.852615826722'\n",
    "'37.3277391136704'\n",
    "'126.802342875081'\n",
    "'37.2812936795802'\n",
    "'126.844104935742'\n",
    "'37.3096509128984'\n",
    "'126.828344120756'\n",
    "'37.2906698263964'\n",
    "'126.862995780725'\n",
    "'37.30033709313805'\n",
    "'126.8124303417876'\n",
    "'37.3184574251424'\n",
    "'126.831979363845'\n",
    "'35.20591601678'\n",
    "'129.071175193065'\n",
    "'37.302442736107565'\n",
    "'126.81238225114583'\n",
    "'37.3305632472971'\n",
    "'126.831668064077'\n",
    "'37.332782700017'\n",
    "'126.812060837208'\n",
    "'37.3183075212688'\n",
    "'126.833017611212'\n",
    "'37.2996702676591'\n",
    "'126.846119773324'\n",
    "'37.3085552043911'\n",
    "'126.85235090789'\n",
    "'37.3176471026299'\n",
    "'126.837576827348'\n",
    "'37.3181910601904'\n",
    "'126.829696550237'\n",
    "'37.3147821871341'\n",
    "'126.832668925209'\n",
    "'37.3185869995852'\n",
    "'126.84098188227'\n",
    "'37.3077063995587'\n",
    "'126.856724730329'\n",
    "'37.3012557558109'\n",
    "'126.813321366661'\n",
    "'37.3012557558109'\n",
    "'126.813321366661'\n",
    "'37.2947268931716'\n",
    "'126.871564331019'\n",
    "'37.6255907242959'\n",
    "'127.151436683365'\n",
    "'37.288485872444305'\n",
    "'126.8631350671943'\n",
    "'37.6028550971276'\n",
    "'126.654299373945'\n",
    "'35.3079116868163'\n",
    "'128.986322713799'\n",
    "'37.31733134090699'\n",
    "'126.83212514578668'\n",
    "'37.300167611699926'\n",
    "'126.81351579835486'\n",
    "'37.30317219046254'\n",
    "'126.80988317861335'\n",
    "'37.31077511761803'\n",
    "'126.83064730816955'\n",
    "'37.3071013933266'\n",
    "'126.848437335031'\n",
    "'37.32700327255056'\n",
    "'126.84485113162008'\n",
    "'37.2877476372473'\n",
    "'126.863668683925'\n",
    "'37.2877476372473'\n",
    "'126.863668683925'\n",
    "'37.31305353445281'\n",
    "'126.79722032756321'\n",
    "'37.3308449510524'\n",
    "'126.83987734323'\n",
    "'37.3176958833707'\n",
    "'126.831227449524'\n",
    "'35.1979619922003'\n",
    "'126.833223177834'\n",
    "'37.31440610836344'\n",
    "'126.79729227772408'\n",
    "'37.31440610836344'\n",
    "'126.79729227772408'\n",
    "'37.3100627694095'\n",
    "'126.829024522869'\n",
    "'37.3123422818836'\n",
    "'126.827710790456'\n",
    "'37.30909266395019'\n",
    "'126.83238937497846'\n",
    "'37.3135532341836'\n",
    "'126.827685465022'\n",
    "'37.30815011672214'\n",
    "'126.8273300628646'\n",
    "'37.0173381460002'\n",
    "'127.2603618213583'\n",
    "'37.137743760504'\n",
    "'127.261408618358'\n",
    "'37.0564233539694'\n",
    "'127.473531524333'\n",
    "'37.0000879336401'\n",
    "'127.171101283024'\n",
    "'37.01665531457324'\n",
    "'127.2691647263953'\n",
    "'37.0078271554009'\n",
    "'127.258351913542'\n",
    "'37.005251095922205'\n",
    "'127.26684825869128'\n",
    "'37.00502833190177'\n",
    "'127.26653514185786'\n",
    "'37.006070998896895'\n",
    "'127.2708610175998'\n",
    "'37.0098376682794'\n",
    "'127.269999106524'\n",
    "'37.01840115877607'\n",
    "'127.3609715978145'\n",
    "'37.129125208463975'\n",
    "'127.2634068540943'\n",
    "'37.064755022229726'\n",
    "'127.38861513484366'\n",
    "'36.99440327783722'\n",
    "'127.14222144522978'\n",
    "'37.5753488398992'\n",
    "'127.024343274155'\n",
    "'37.39294404411336'\n",
    "'126.92568169810703'\n",
    "'37.3961030848606'\n",
    "'126.964674454035'\n",
    "'37.5144044954514'\n",
    "'126.917958080627'\n",
    "'37.3751103667789'\n",
    "'126.957187618767'\n",
    "'37.3848588303534'\n",
    "'126.932643073293'\n",
    "'37.404443860241074'\n",
    "'126.91635908809167'\n",
    "'37.3151670981367'\n",
    "'127.965998106716'\n",
    "'35.8251652066992'\n",
    "'127.115521626099'\n",
    "'37.3901997149542'\n",
    "'126.954504988012'\n",
    "'37.38418252834754'\n",
    "'127.12027638766509'\n",
    "'37.400652540053414'\n",
    "'126.91920261682252'\n",
    "'37.38416763186501'\n",
    "'126.9340404551936'\n",
    "'37.40398803517565'\n",
    "'126.9568662422496'\n",
    "'37.39895624850421'\n",
    "'126.91837321730651'\n",
    "'37.4014252717884'\n",
    "'126.918700327858'\n",
    "'37.37085802189974'\n",
    "'126.95857864965843'\n",
    "'37.394358966360606'\n",
    "'126.92618848927987'\n",
    "'37.39444563610545'\n",
    "'126.92646395549819'\n",
    "'37.37275271986155'\n",
    "'126.95812714363402'\n",
    "'37.3925044951967'\n",
    "'126.928855406321'\n",
    "'37.403713574288496'\n",
    "'126.97331115491635'\n",
    "'37.37833795156528'\n",
    "'126.93557657534052'\n",
    "'37.4003335493257'\n",
    "'126.976147139553'\n",
    "'37.39076810304105'\n",
    "'126.94966918237019'\n",
    "'37.40101001615019'\n",
    "'126.9475876130461'\n",
    "'37.39031357900055'\n",
    "'126.95305722534526'\n",
    "'37.39647386675839'\n",
    "'126.93747980216553'\n",
    "'37.493386312156154'\n",
    "'126.9087673495584'\n",
    "'37.493386312156154'\n",
    "'126.9087673495584'\n",
    "'37.39349284399863'\n",
    "'126.92438246829529'\n",
    "'37.8224653307607'\n",
    "'127.046635887253'\n",
    "'37.85094998057397'\n",
    "'127.04163393578919'\n",
    "'37.822742074978756'\n",
    "'127.04849423459873'\n",
    "'37.77225310339109'\n",
    "'126.93795926183513'\n",
    "'37.45450713399655'\n",
    "'126.90128739369776'\n",
    "'37.77678546349604'\n",
    "'126.94070241431179'\n",
    "'37.7417652498122'\n",
    "'126.984238632431'\n",
    "'37.712839756751656'\n",
    "'126.9644248258584'\n",
    "'37.7415091468169'\n",
    "'126.982618534476'\n",
    "'37.772501914908'\n",
    "'126.938236002151'\n",
    "'37.9172601475776'\n",
    "'126.96531373305'\n",
    "'37.8185520876866'\n",
    "'127.094052773424'\n",
    "'37.844629241526'\n",
    "'127.054084730039'\n",
    "'37.83761451945068'\n",
    "'127.06460606789042'\n",
    "'37.8166935811178'\n",
    "'126.98981268028486'\n",
    "'37.810239472997'\n",
    "'126.995534776558'\n",
    "'37.83890345181952'\n",
    "'127.07289354340473'\n",
    "'37.800445728478714'\n",
    "'127.08551158206984'\n",
    "'37.77326906325286'\n",
    "'126.72719433047703'\n",
    "'37.83797977768975'\n",
    "'127.06392476472895'\n",
    "'37.4896285626283'\n",
    "'127.51827501573'\n",
    "'37.49757028686542'\n",
    "'127.41918604823927'\n",
    "'37.5440553186402'\n",
    "'127.620060793253'\n",
    "'37.4573094447788'\n",
    "'127.585830082638'\n",
    "'37.54420254306698'\n",
    "'127.31941960095529'\n",
    "'37.493952507982'\n",
    "'127.503468886427'\n",
    "'37.4898886283695'\n",
    "'127.505666890008'\n",
    "'37.4900711602471'\n",
    "'127.495762880101'\n",
    "'37.48208434238213'\n",
    "'127.58924344207054'\n",
    "'35.93556257422967'\n",
    "'127.162627270985'\n",
    "'37.55653607109612'\n",
    "'127.78042593899795'\n",
    "'37.324963877553294'\n",
    "'127.66952247384813'\n",
    "'37.325654665016'\n",
    "'127.668618099088'\n",
    "'37.2635015908657'\n",
    "'127.692553807227'\n",
    "'37.18173724700833'\n",
    "'127.56132356456554'\n",
    "'37.28906857841497'\n",
    "'127.70210859642553'\n",
    "'37.30146731574972'\n",
    "'127.62534755180165'\n",
    "'37.2444240712278'\n",
    "'127.534894446835'\n",
    "'37.17851750790024'\n",
    "'127.56612383038798'\n",
    "'37.17851750790024'\n",
    "'127.56612383038798'\n",
    "'37.2898713853533'\n",
    "'127.632931374961'\n",
    "'37.2975158987636'\n",
    "'127.635074031963'\n",
    "'38.01739197982682'\n",
    "'127.06902495564421'\n",
    "'37.1493406229813'\n",
    "'127.074018463946'\n",
    "'37.190938749972744'\n",
    "'127.06147748052636'\n",
    "'37.1434266975946'\n",
    "'127.072999692013'\n",
    "'37.175051254214'\n",
    "'127.050230157931'\n",
    "'37.18593011571121'\n",
    "'127.0422064567893'\n",
    "'37.1694686781345'\n",
    "'127.064377424903'\n",
    "'37.171914329675154'\n",
    "'127.06060969163673'\n",
    "'37.1657152131591'\n",
    "'127.04391896036'\n",
    "'37.1540783512948'\n",
    "'127.064859692849'\n",
    "'37.127607473035'\n",
    "'127.067222799679'\n",
    "'37.1658987595239'\n",
    "'127.044639641859'\n",
    "'37.141298742623135'\n",
    "'127.0753207494469'\n",
    "'37.14674211929554'\n",
    "'127.06929510346002'\n",
    "'37.1706257975011'\n",
    "'127.064076646826'\n",
    "'37.1466544246261'\n",
    "'127.069792544591'\n",
    "'37.2731572119189'\n",
    "'127.048467594518'\n",
    "'37.154325144529395'\n",
    "'127.06824158801005'\n",
    "'37.1859066838979'\n",
    "'127.042218831904'\n",
    "'37.316804593569536'\n",
    "'127.08484784302114'\n",
    "'37.231517810762845'\n",
    "'127.21140705727665'\n",
    "'37.231517810762845'\n",
    "'127.21140705727665'\n",
    "'37.3010711048768'\n",
    "'127.065842918685'\n",
    "'37.24031092188164'\n",
    "'127.21451621909176'\n",
    "'37.2868239348682'\n",
    "'127.097194035225'\n",
    "'37.273738207104394'\n",
    "'127.11143447835217'\n",
    "'37.2804748771128'\n",
    "'127.11186274997'\n",
    "'37.250567676842'\n",
    "'127.153523321858'\n",
    "'37.2776748376256'\n",
    "'127.154036146455'\n",
    "'37.29781301516308'\n",
    "'127.06890560749493'\n",
    "'37.293354768034945'\n",
    "'127.12146130825805'\n",
    "'37.3220969076506'\n",
    "'127.124898991753'\n",
    "'37.3220969076506'\n",
    "'127.124898991753'\n",
    "'37.28754012764584'\n",
    "'127.1087404344108'\n",
    "'37.26567838637915'\n",
    "'127.15053599086698'\n",
    "'37.276574146202876'\n",
    "'127.15304955760955'\n",
    "'37.2779942485365'\n",
    "'127.151599001078'\n",
    "'37.23500804430367'\n",
    "'127.19863523134393'\n",
    "'37.3006420885722'\n",
    "'127.06606361392'\n",
    "'37.23229427112902'\n",
    "'127.20900445587573'\n",
    "'37.3312881762434'\n",
    "'127.127581653006'\n",
    "'37.23539497495956'\n",
    "'127.20107830338767'\n",
    "'37.277229700136424'\n",
    "'127.0733925499214'\n",
    "'37.24976264148307'\n",
    "'127.1559010905462'\n",
    "'37.1386713685231'\n",
    "'127.414019241127'\n",
    "'37.1221274103042'\n",
    "'127.364814505324'\n",
    "'37.32988102167978'\n",
    "'127.10932497735875'\n",
    "'37.2410198284334'\n",
    "'127.26411355008'\n",
    "'37.2763638174482'\n",
    "'127.152651109811'\n",
    "'37.270739883574244'\n",
    "'127.14811414201141'\n",
    "'37.29675042688171'\n",
    "'127.1088551972388'\n",
    "'37.3348753549916'\n",
    "'127.108436252963'\n",
    "'37.233491799877'\n",
    "'127.215517869951'\n",
    "'37.2543773098233'\n",
    "'127.111661833163'\n",
    "'37.226875701785424'\n",
    "'127.24108196341902'\n",
    "'37.25234302443865'\n",
    "'127.20716615824037'\n",
    "'37.274282802795774'\n",
    "'127.13917880010871'\n",
    "'37.2318556708699'\n",
    "'127.187909231927'\n",
    "'37.2500051359997'\n",
    "'127.156497851485'\n",
    "'37.2749337110678'\n",
    "'127.228340831809'\n",
    "'37.3348753549916'\n",
    "'127.108436252963'\n",
    "'37.2941430531113'\n",
    "'127.11246718891013'\n",
    "'37.32229689623'\n",
    "'127.095980597847'\n",
    "'37.32229689623'\n",
    "'127.095980597847'\n",
    "'37.3153857286512'\n",
    "'127.08696712198908'\n",
    "'37.27784989388757'\n",
    "'127.07146501759361'\n",
    "'37.27482936489194'\n",
    "'127.07333497121903'\n",
    "'37.2351386097837'\n",
    "'127.194890798665'\n",
    "'37.2815608951633'\n",
    "'127.160902241359'\n",
    "'37.2547556667644'\n",
    "'127.10786140771'\n",
    "'37.2349310986337'\n",
    "'127.210829461119'\n",
    "'37.2504691425113'\n",
    "'127.151674587682'\n",
    "'37.2751206632956'\n",
    "'127.072910177502'\n",
    "'37.3528490393672'\n",
    "'126.973809992476'\n",
    "'37.3214562633835'\n",
    "'126.949063332761'\n",
    "'37.3955019716909'\n",
    "'126.985386543458'\n",
    "'37.3502799284767'\n",
    "'126.976795026433'\n",
    "'37.35681722612802'\n",
    "'126.96685667688351'\n",
    "'37.3479993214306'\n",
    "'126.981305663566'\n",
    "'37.34796496448712'\n",
    "'126.98057433156453'\n",
    "'37.36017695487738'\n",
    "'126.96312453292616'\n",
    "'37.7587076601964'\n",
    "'127.077785303959'\n",
    "'37.7411207604014'\n",
    "'127.042486795527'\n",
    "'37.746165215322'\n",
    "'127.09397016949094'\n",
    "'37.71415260790595'\n",
    "'127.0479220833495'\n",
    "'37.7321141976075'\n",
    "'127.088675103283'\n",
    "'37.723598008308294'\n",
    "'127.04432794099851'\n",
    "'37.7379766880443'\n",
    "'127.044093728735'\n",
    "'37.7546744854616'\n",
    "'127.043688313902'\n",
    "'37.60877271849653'\n",
    "'127.02928751235083'\n",
    "'37.7538863852155'\n",
    "'127.070967222344'\n",
    "'37.7379932637235'\n",
    "'127.040588112925'\n",
    "'37.752985511399736'\n",
    "'127.07081203788057'\n",
    "'37.7443181402582'\n",
    "'127.096314192968'\n",
    "'37.733390310655494'\n",
    "'127.0475442332903'\n",
    "'37.746134568866324'\n",
    "'127.09398715020149'\n",
    "'37.748881120774'\n",
    "'127.070113706968'\n",
    "'37.743189937210495'\n",
    "'127.08607990253356'\n",
    "'37.74538624547407'\n",
    "'127.06211815076777'\n",
    "'37.74748663281048'\n",
    "'127.04588304283723'\n",
    "'37.7503696173461'\n",
    "'127.050563172801'\n",
    "'37.7459268480557'\n",
    "'127.094609797993'\n",
    "'37.74450130467281'\n",
    "'127.05330492678893'\n",
    "'37.7574158220215'\n",
    "'127.022228526891'\n",
    "'37.7443145326799'\n",
    "'127.096318726705'\n",
    "'37.75310971096967'\n",
    "'127.07103456475922'\n",
    "'37.7379072707608'\n",
    "'127.039108670966'\n",
    "'35.1139181451584'\n",
    "'128.962693873039'\n",
    "'37.4821553478442'\n",
    "'126.898921941142'\n",
    "'37.74972601187578'\n",
    "'127.04464988738111'\n",
    "'37.7496933894608'\n",
    "'127.045142321188'\n",
    "'37.7504619281262'\n",
    "'127.07225296741'\n",
    "'37.75307373244295'\n",
    "'127.07093467352793'\n",
    "'37.74971701508991'\n",
    "'127.04461584140637'\n",
    "'37.7520211103936'\n",
    "'127.05051777303972'\n",
    "'37.7558590637549'\n",
    "'127.021624358416'\n",
    "'37.73189640205991'\n",
    "'127.04779058025859'\n",
    "'37.74488923581479'\n",
    "'127.09535164777154'\n",
    "'37.72902311922977'\n",
    "'127.04335448214697'\n",
    "'37.28279555484855'\n",
    "'127.43304347145099'\n",
    "'35.0976556079167'\n",
    "'129.025015507527'\n",
    "'35.0976556079167'\n",
    "'129.025015507527'\n",
    "'35.3079116868163'\n",
    "'128.986322713799'\n",
    "'37.11957172566933'\n",
    "'127.62890484776563'\n",
    "'35.8237166740496'\n",
    "'128.727247808709'\n",
    "'37.2797268046247'\n",
    "'127.44418445461'\n",
    "'37.24521740187826'\n",
    "'127.42169178504975'\n",
    "'37.24521740187826'\n",
    "'127.42169178504975'\n",
    "'37.11543116993577'\n",
    "'127.61207686168777'\n",
    "'37.2747779155428'\n",
    "'127.449071316135'\n",
    "'37.28183710739159'\n",
    "'127.43297483346531'\n",
    "'37.2814445143084'\n",
    "'127.443612703063'\n",
    "'37.2833445511275'\n",
    "'127.379122939118'\n",
    "'37.75489640637029'\n",
    "'126.77962654033324'\n",
    "'37.77919022420395'\n",
    "'126.84965126856112'\n",
    "'37.72870841761272'\n",
    "'126.73638513054811'\n",
    "'37.5646629279007'\n",
    "'126.930195133561'\n",
    "'37.76107164615066'\n",
    "'126.76653807409672'\n",
    "'37.94218544964304'\n",
    "'126.8801065561643'\n",
    "'37.863966987722'\n",
    "'126.780977248666'\n",
    "'37.8542841445919'\n",
    "'126.783228471504'\n",
    "'37.7572998613741'\n",
    "'126.774692112148'\n",
    "'37.7890122506417'\n",
    "'126.709766634971'\n",
    "'37.7288535116199'\n",
    "'126.76224812808'\n",
    "'37.7292709969294'\n",
    "'126.763760044563'\n",
    "'37.705727446392736'\n",
    "'126.75872720134039'\n",
    "'37.728291549405'\n",
    "'126.763264039167'\n",
    "'37.85983310868376'\n",
    "'126.78668951248657'\n",
    "'37.728853511619924'\n",
    "'126.76224812807988'\n",
    "'37.7616418773895'\n",
    "'126.776726239907'\n",
    "'37.7161655610496'\n",
    "'126.760226755442'\n",
    "'37.77326906325286'\n",
    "'126.72719433047703'\n",
    "'37.8766110364103'\n",
    "'126.804608948453'\n",
    "'37.8492971811711'\n",
    "'126.872449090108'\n",
    "'37.7293287479533'\n",
    "'126.762906813279'\n",
    "'37.7289998511341'\n",
    "'126.75888766508'\n",
    "'37.7157726295146'\n",
    "'126.760173581802'\n",
    "'37.728853511619924'\n",
    "'126.76224812807988'\n",
    "'37.87174829225576'\n",
    "'126.88049129277293'\n",
    "'37.728455056630004'\n",
    "'126.73589825463316'\n",
    "'37.803627336888546'\n",
    "'126.68646337145178'\n",
    "'37.8028754986281'\n",
    "'126.68697525121772'\n",
    "'37.7547395564664'\n",
    "'126.742272978543'\n",
    "'37.7260246542687'\n",
    "'126.761448399998'\n",
    "'37.729242982034464'\n",
    "'126.73450698732248'\n",
    "'37.718479920951964'\n",
    "'126.77901083453679'\n",
    "'37.7580443663697'\n",
    "'126.774853266908'\n",
    "'37.7248522196437'\n",
    "'126.710992681506'\n",
    "'37.7121696755821'\n",
    "'126.74515596556763'\n",
    "'37.7563544165017'\n",
    "'126.772175757075'\n",
    "'37.7739542411899'\n",
    "'126.721225975823'\n",
    "'37.751268980723'\n",
    "'126.766454270893'\n",
    "'37.7729175488874'\n",
    "'126.789012040774'\n",
    "'36.808376416301'\n",
    "'127.148104035816'\n",
    "'37.053766373646475'\n",
    "'127.09756043221405'\n",
    "'36.9989335606155'\n",
    "'127.115120351918'\n",
    "'37.0695300763397'\n",
    "'127.063982503607'\n",
    "'37.8799259785788'\n",
    "'127.101505544054'\n",
    "'37.0797959361704'\n",
    "'127.062367171854'\n",
    "'37.0797959361704'\n",
    "'127.062367171854'\n",
    "'36.98405080510151'\n",
    "'126.92765943243576'\n",
    "'37.001507329589'\n",
    "'127.114832130061'\n",
    "'36.993649499503'\n",
    "'127.094874037293'\n",
    "'36.993649499503'\n",
    "'127.094874037293'\n",
    "'37.04826650200841'\n",
    "'127.05700610719212'\n",
    "'36.993084506701834'\n",
    "'127.08907686990528'\n",
    "'36.993084506701834'\n",
    "'127.08907686990528'\n",
    "'37.00846981786588'\n",
    "'127.07433332418393'\n",
    "'36.99195121226299'\n",
    "'127.11119165552306'\n",
    "'37.0885425592286'\n",
    "'127.064164945525'\n",
    "'36.9974364431075'\n",
    "'126.950578928763'\n",
    "'37.003433528561295'\n",
    "'126.95865075510879'\n",
    "'36.99052916198645'\n",
    "'127.12056696258496'\n",
    "'36.9903960260624'\n",
    "'127.106179445407'\n",
    "'37.0660402603826'\n",
    "'127.056835000049'\n",
    "'37.0169037159204'\n",
    "'127.093724181624'\n",
    "'36.99027657019057'\n",
    "'127.114487239981'\n",
    "'37.0024663135349'\n",
    "'127.114590899796'\n",
    "'37.00076382981565'\n",
    "'127.11211673548243'\n",
    "'36.99887377197337'\n",
    "'127.11357891447902'\n",
    "'36.9942798244596'\n",
    "'127.111922985004'\n",
    "'37.019659241684316'\n",
    "'126.915933202435'\n",
    "'36.9926817188738'\n",
    "'127.097124008716'\n",
    "'37.8981152230203'\n",
    "'127.20468680774628'\n",
    "'37.9032633051742'\n",
    "'127.198317737577'\n",
    "'37.9032633051742'\n",
    "'127.198317737577'\n",
    "'37.8303271634677'\n",
    "'127.14060175349184'\n",
    "'37.82733683392769'\n",
    "'127.14800423869885'\n",
    "'37.7715311385034'\n",
    "'127.156573550458'\n",
    "'37.7945671471307'\n",
    "'127.24865520539'\n",
    "'37.9198009025687'\n",
    "'127.187375893673'\n",
    "'37.93483426288582'\n",
    "'127.22617971333248'\n",
    "'37.91253539829691'\n",
    "'127.30820209123648'\n",
    "'37.5622061318225'\n",
    "'127.200873587131'\n",
    "'37.5558135021548'\n",
    "'127.189466621059'\n",
    "'37.5368119698625'\n",
    "'127.209436150713'\n",
    "'37.536866901023636'\n",
    "'127.20741100744644'\n",
    "'37.5540999424755'\n",
    "'127.185981137831'\n",
    "'37.5662513272855'\n",
    "'127.197832859462'\n",
    "'37.562845316019086'\n",
    "'127.19086980432803'\n",
    "'37.5550716140053'\n",
    "'127.186870826037'\n",
    "'37.5637873932264'\n",
    "'127.190537177826'\n",
    "'37.56150478914329'\n",
    "'127.19299194911613'\n",
    "'37.484911725043794'\n",
    "'127.03505864524779'\n",
    "'37.54140105808639'\n",
    "'127.20875649687336'\n",
    "'37.53977321184313'\n",
    "'127.19814758927103'\n",
    "'37.540475780588'\n",
    "'127.206165032943'\n",
    "'37.511936025512234'\n",
    "'127.22757239120679'\n",
    "'37.5384818380413'\n",
    "'127.204629788519'\n",
    "'37.1141995304503'\n",
    "'126.796783081188'\n",
    "'37.2204621552704'\n",
    "'126.949005131548'\n",
    "'37.2097772175481'\n",
    "'126.831815076637'\n",
    "'37.207039219712'\n",
    "'127.036318677794'\n",
    "'37.2075741470812'\n",
    "'127.110799768837'\n",
    "'37.1941134807439'\n",
    "'127.07356206337'\n",
    "'37.16739763568183'\n",
    "'127.10725523863258'\n",
    "'37.1981498217563'\n",
    "'127.09775606142'\n",
    "'37.208463605938725'\n",
    "'127.06262723730362'\n",
    "'37.2172850061867'\n",
    "'127.058874857622'\n",
    "'37.182133931529165'\n",
    "'127.12346544955211'\n",
    "'37.2052755352246'\n",
    "'127.072383329045'\n",
    "'37.20159594239037'\n",
    "'126.78317833197062'\n",
    "'37.2146251012973'\n",
    "'127.04195542667'\n",
    "'37.28495242215801'\n",
    "'126.81679426956478'\n",
    "'37.2087529608309'\n",
    "'127.03345359329'\n",
    "'37.20482260798391'\n",
    "'127.07188837322964'\n",
    "'37.279967068023545'\n",
    "'126.81978771300338'\n",
    "'37.11464792413912'\n",
    "'126.91272517215312'\n",
    "'37.1148760259255'\n",
    "'126.873830982882'\n",
    "'37.0898388535602'\n",
    "'126.957015681553'\n",
    "'37.1730534251765'\n",
    "'126.661356744217'\n",
    "'37.2149779029342'\n",
    "'127.04309689601264'\n",
    "'37.2101603453952'\n",
    "'127.0080695225808'\n",
    "'37.1147620127503'\n",
    "'126.91104633079'\n",
    "'37.131352261846516'\n",
    "'126.91087386314153'\n",
    "'37.0423433095574'\n",
    "'126.798085347111'\n",
    "'37.2165455776022'\n",
    "'127.07850054329128'\n",
    "'37.2044884998481'\n",
    "'126.782298170041'\n",
    "'35.21835190736242'\n",
    "'129.1011292407102'\n",
    "'37.20892120389794'\n",
    "'127.06288333951476'\n",
    "'37.18270271902575'\n",
    "'127.12411503637854'\n",
    "'37.216643687341'\n",
    "'127.08000359922355'\n",
    "'37.1988124201185'\n",
    "'126.825639775189'\n",
    "'37.199224291829395'\n",
    "'126.82570190586243'\n",
    "'37.2177833225311'\n",
    "'126.83265357241'\n",
    "'37.116536989102954'\n",
    "'126.91088560576247'\n",
    "'37.2495324694375'\n",
    "'126.929409345442'\n",
    "'37.21318494306213'\n",
    "'127.03741442651217')\n",
    "A2X = "
   ]
  },
  {
   "cell_type": "code",
   "execution_count": 124,
   "id": "7d34a8dc-94bd-4e58-acd1-908e5a7b32a9",
   "metadata": {},
   "outputs": [
    {
     "name": "stdout",
     "output_type": "stream",
     "text": [
      "['가평산속요양병원']\n",
      "['가평푸른숲요양병원']\n",
      "['강변요양병원']\n",
      "['노체리안드리자애병원']\n",
      "['에이치제이매그놀리아국제병원']\n",
      "['에이치제이매그놀리아국제한방병원']\n",
      "['청평우리병원']\n",
      "['청평활명요양병원']\n",
      "['강북성심요양병원']\n",
      "['건누리병원']\n",
      "['고양센트럴요양병원']\n",
      "['고양정신병원']\n",
      "['고양휴메디병원']\n",
      "['국군고양병원']\n",
      "['국립암센터']\n",
      "['국민건강보험공단일산병원']\n",
      "['그레이스병원']\n",
      "['늘푸른병원']\n",
      "['다스람요양병원']\n",
      "['더하다한방병원']\n",
      "['동국대학교일산불교병원']\n",
      "['동국대학교일산불교한방병원']\n",
      "['동국마음요양병원']\n",
      "['동원요양병원']\n",
      "['든든한병원']\n",
      "['라엘마음병원']\n",
      "['로하스일산요양병원']\n",
      "['로하스클로버요양병원']\n",
      "['리빙웰치과병원']\n",
      "['린치과병원']\n",
      "['메디누리요양병원']\n",
      "['무지개요양병원']\n",
      "['사과나무치과병원']\n",
      "['새찬요양병원']\n",
      "['서울메이치과병원']\n",
      "['서울척탑병원']\n",
      "['연세마두병원']\n",
      "['연세서울병원']\n",
      "['연세플라워치과병원']\n",
      "['연세항맥병원']\n",
      "['우노힐일산요양병원']\n",
      "['원당연세병원']\n",
      "['원흥아이제일병원']\n",
      "['의료법인', '세경의료재단', '새빛안과병원']\n",
      "['의료법인두영의료재단', '정안요양병원']\n",
      "['의료법인명지의료재단명지병원']\n",
      "['의료법인사과나무의료재단', '중산사과나무치과병원']\n",
      "['의료법인상록의료재단화정병원']\n",
      "['의료법인성광의료재단일산차병원']\n",
      "['의료법인에덴재단행복한요양병원']\n",
      "['의료법인일산복음병원']\n",
      "['의료법인자인의료재단자인메디병원']\n",
      "['의료법인한영의료재단삼성요양병원']\n",
      "['이푸른요양병원']\n",
      "['인제대학교일산백병원']\n",
      "['일산365한방병원']\n",
      "['일산리더스요양병원']\n",
      "['일산메디안요양병원']\n",
      "['일산복음미래병원']\n",
      "['일산사랑요양병원']\n",
      "['일산아르고요양병원']\n",
      "['일산이십일세기병원']\n",
      "['일산자생한방병원']\n",
      "['일산자애병원']\n",
      "['일산중심재활병원']\n",
      "['일산참사랑요양병원']\n",
      "['일산하이병원']\n",
      "['일산한울요양병원']\n",
      "['일산현대요양병원']\n",
      "['일산호수요양병원']\n",
      "['자향요양병원']\n",
      "['제이요양병원']\n",
      "['차연한방병원']\n",
      "['척사랑병원']\n",
      "['카프성모병원']\n",
      "['해븐리병원']\n",
      "['허유재병원']\n",
      "['활기찬병원']\n",
      "['효그린요양병원']\n",
      "['효림요양병원']\n",
      "['과천', '연세', '치과병원']\n",
      "['광명21세기병원']\n",
      "['광명기대찬병원']\n",
      "['광명면력한방병원']\n",
      "['광명새움병원']\n",
      "['광명성애병원']\n",
      "['광명효요양병원']\n",
      "['로하스광명요양병원']\n",
      "['서울대효요양병원']\n",
      "['아이원병원']\n",
      "['예지원요양병원']\n",
      "['중앙대학교광명병원']\n",
      "['탑요양병원']\n",
      "['강남제일요양병원']\n",
      "['더플러스병원']\n",
      "['선한빛요양병원']\n",
      "['스마일디자인치과병원']\n",
      "['에스알씨(SRC)노인전문병원']\n",
      "['에스알씨(SRC)재활병원']\n",
      "['위더스요양병원']\n",
      "['참조은병원']\n",
      "['한사랑요양병원']\n",
      "['효천요양병원']\n",
      "['구리한빛요양병원']\n",
      "['구리효요양병원']\n",
      "['국군구리병원']\n",
      "['굿병원']\n",
      "['리체한방병원']\n",
      "['서울라이즈요양병원']\n",
      "['연세마음병원']\n",
      "['오케이참병원']\n",
      "['윤서병원']\n",
      "['율치한방병원']\n",
      "['의료법인기상의료재단카이저병원']\n",
      "['재단법인원진녹색병원']\n",
      "['좋은아침병원']\n",
      "['투재암요양병원']\n",
      "['한양대학교구리병원']\n",
      "['행복한외과병원']\n",
      "['군포성모병원']\n",
      "['군포참요양병원']\n",
      "['남천병원']\n",
      "['미라클요양병원']\n",
      "['사랑애요양병원']\n",
      "['산본제일병원']\n",
      "['삼경요양병원']\n",
      "['원광대학교', '산본병원']\n",
      "['원광대학교치과대학산본치과병원']\n",
      "['윈치과병원']\n",
      "['의료법인', '두현의료재단', '그로스요양병원']\n",
      "['의료법인', '희망나눔의료재단', '휴성심요양병원']\n",
      "['효산의료재단', '지샘병원']\n",
      "['가자연세병원']\n",
      "['김포경희25병원']\n",
      "['김포다올요양병원']\n",
      "['김포다은병원']\n",
      "['김포다조은병원']\n",
      "['김포보배한방병원']\n",
      "['김포봄한방병원']\n",
      "['김포아이제일병원']\n",
      "['김포에이치(H)병원']\n",
      "['김포예사랑병원']\n",
      "['김포요양병원']\n",
      "['김포한누리병원']\n",
      "['나리여성병원']\n",
      "['마디척병원']\n",
      "['새빛한방병원']\n",
      "['서울여성병원']\n",
      "['세인트힐요양병원']\n",
      "['아너스힐병원']\n",
      "['연세더바른병원']\n",
      "['연세유병원']\n",
      "['연세하나병원']\n",
      "['유앤제이병원']\n",
      "['의료법인동행의료재단보리수요양병원']\n",
      "['의료법인보성의료재단휘담메디김포한방병원']\n",
      "['의료법인우리의료재단김포우리병원']\n",
      "['의료법인인봉의료재단뉴고려병원']\n",
      "['의료법인휘담메디의료재단하성한방병원']\n",
      "['정근한방병원']\n",
      "['춘의생한방병원']\n",
      "['한강아이제일병원']\n",
      "['한강연세병원']\n",
      "['한강요양병원']\n",
      "['한별정신건강병원']\n",
      "['히즈메디병원']\n",
      "['경기도립노인전문남양주병원']\n",
      "['국민병원']\n",
      "['남양주', '한양병원']\n",
      "['남양주21세기병원']\n",
      "['남양주경희한방병원']\n",
      "['남양주나눔병원']\n",
      "['남양주나무요양병원']\n",
      "['남양주백병원']\n",
      "['남양주정드림노인전문병원']\n",
      "['누네안과병원']\n",
      "['다산의료소비자생활협동조합정석소아청소년과병원']\n",
      "['다산하나한방병원']\n",
      "['마석기독요양병원']\n",
      "['매그너스요양병원']\n",
      "['별내요양병원']\n",
      "['비오람요양병원']\n",
      "['삼성바른병원']\n",
      "['새봄요양병원']\n",
      "['서울특별시축령정신병원']\n",
      "['수동연세요양병원']\n",
      "['실버힐스병원']\n",
      "['아이맘어린이병원']\n",
      "['양병원']\n",
      "['에덴요양병원']\n",
      "['에이스병원']\n",
      "['엘병원']\n",
      "['온세병원']\n",
      "['원병원']\n",
      "['의료법인다원의료재단', '진접제일요양병원']\n",
      "['의료법인혜수의료재단베리굿병원']\n",
      "['진접', '한양병원']\n",
      "['축령복음병원']\n",
      "['퇴계원', '서울요양병원']\n",
      "['필립요양병원']\n",
      "['하나소아청소년과병원']\n",
      "['한가온한방병원']\n",
      "['한누리요양병원']\n",
      "['햇살요양병원']\n",
      "['현대병원']\n",
      "['호평요양병원']\n",
      "['휴메디병원']\n",
      "['경기도립노인전문동두천병원']\n",
      "['동두천제일요양병원']\n",
      "['동두천중앙성모병원']\n",
      "['동원노인전문병원']\n",
      "['동원병원']\n",
      "['로젠요양병원']\n",
      "['로하스요양병원']\n",
      "['서울요양병원']\n",
      "['성지요양병원']\n",
      "['우리들요양병원']\n",
      "['(재)대성재단', '대성제일요양병원']\n",
      "['가은병원']\n",
      "['가톨릭대학교부천성모병원']\n",
      "['건주병원']\n",
      "['경기요양병원']\n",
      "['고려수재활요양병원']\n",
      "['고운여성병원']\n",
      "['다솜요양병원']\n",
      "['다온요양병원']\n",
      "['더블유진병원']\n",
      "['더편한소사요양병원']\n",
      "['도담한방병원']\n",
      "['디딤병원']\n",
      "['루카스병원']\n",
      "['메르덴치과병원']\n",
      "['메이플요양병원']\n",
      "['바오로요양병원']\n",
      "['백구당찬한방병원']\n",
      "['보성요양병원']\n",
      "['본새울병원']\n",
      "['부천21세기병원']\n",
      "['부천대성병원']\n",
      "['부천면력한방병원']\n",
      "['부천미소요양병원']\n",
      "['부천바른솔한방병원']\n",
      "['부천사랑병원']\n",
      "['부천삼성요양병원']\n",
      "['부천서울어린이병원']\n",
      "['부천세종병원']\n",
      "['부천수림한방병원']\n",
      "['부천시립노인전문병원']\n",
      "['부천요양병원']\n",
      "['부천우리병원']\n",
      "['부천자생한방병원']\n",
      "['부천제일요양병원']\n",
      "['부천중앙병원']\n",
      "['부천한방병원']\n",
      "['부천한병원']\n",
      "['사과나무치과병원']\n",
      "['사단법인누가참빛병원']\n",
      "['상동서울한방병원']\n",
      "['생생병원']\n",
      "['서울여성병원']\n",
      "['순천향대학교부속부천병원']\n",
      "['스마튼병원']\n",
      "['약대한방병원']\n",
      "['엘드림병원']\n",
      "['연세본사랑병원']\n",
      "['연세제일병원']\n",
      "['예손병원']\n",
      "['오정본병원']\n",
      "['의료법인대인의료재단', '다니엘종합병원']\n",
      "['의료법인운천의료재단메디홀스요양병원']\n",
      "['의료법인의향의료재단그린한방병원']\n",
      "['이룸병원']\n",
      "['이안치과병원']\n",
      "['인본병원']\n",
      "['일로한방병원']\n",
      "['재단법인대성재단디에스병원']\n",
      "['진병원']\n",
      "['차오름한방병원']\n",
      "['초앤유여성병원']\n",
      "['큰사랑요양병원']\n",
      "['평강치과병원']\n",
      "['프라임요양병원']\n",
      "['하이병원']\n",
      "['한우리요양병원']\n",
      "['한중한방병원']\n",
      "['현병원']\n",
      "['휴앤유병원']\n",
      "['(학교법인)동국대학교', '한의과대학', '분당한방병원']\n",
      "['경희다원한방병원']\n",
      "['경희위례한방병원']\n",
      "['곽여성병원']\n",
      "['국군수도병원']\n",
      "['국군수도치과병원']\n",
      "['대진의료재단', '분당제생병원']\n",
      "['드라마치과병원']\n",
      "['라온힐요양병원']\n",
      "['바른마디병원']\n",
      "['바른세상병원']\n",
      "['밸런스치과병원']\n",
      "['보바스기념병원']\n",
      "['분당러스크재활병원']\n",
      "['분당베스트병원']\n",
      "['분당서울대학교병원']\n",
      "['분당센트럴요양병원']\n",
      "['분당수요양병원']\n",
      "['분당연세요양병원']\n",
      "['분당예치과병원']\n",
      "['분당자생한방병원']\n",
      "['분당제일여성병원']\n",
      "['분당척병원']\n",
      "['분당포레스트한방병원']\n",
      "['사랑의병원']\n",
      "['서울나우병원']\n",
      "['성남사랑의병원']\n",
      "['성남시의료원']\n",
      "['성남예치과병원']\n",
      "['성남요양병원']\n",
      "['성남제일한방병원']\n",
      "['성남중앙병원']\n",
      "['성모요양병원']\n",
      "['성모윌병원']\n",
      "['성신한방병원']\n",
      "['송병재한방병원']\n",
      "['순천의료재단', '성남정병원']\n",
      "['연세스타병원']\n",
      "['우리효사랑요양병원']\n",
      "['위례바이오요양병원']\n",
      "['위례서울닥터스요양병원']\n",
      "['위례서울치과병원']\n",
      "['위례센트럴요양병원']\n",
      "['위례스마트요양병원']\n",
      "['위례재활의학과병원']\n",
      "['으뜸병원']\n",
      "['의료법인', '본플러스재단', '분당병원']\n",
      "['의료법인', '신창의료재단', '분당에이치병원']\n",
      "['좋은이웃요양병원']\n",
      "['지우병원']\n",
      "['차의과학대학교분당차병원']\n",
      "['카리스요양병원']\n",
      "['파티마', '요양병원']\n",
      "['형치과병원']\n",
      "['휴엔병원']\n",
      "['가톨릭대학교', '성빈센트병원']\n",
      "['강남여성병원']\n",
      "['경기도의료원', '수원병원']\n",
      "['경희수원한방병원']\n",
      "['광교365리움치과병원']\n",
      "['김찬병원']\n",
      "['나누리수원병원']\n",
      "['다인병원']\n",
      "['더웰병원']\n",
      "['동서요양병원']\n",
      "['리더스도준한방병원']\n",
      "['메디움수원요양병원']\n",
      "['메이저요양병원']\n",
      "['모아치과병원']\n",
      "['미래한방병원']\n",
      "['바로본병원']\n",
      "['반듯한방병원']\n",
      "['백성병원']\n",
      "['버팀병원']\n",
      "['베데스다병원']\n",
      "['삼성큰병원']\n",
      "['서울삼성호매실요양병원']\n",
      "['서울성모안과병원']\n",
      "['성모척관병원']\n",
      "['세인트마리여성병원']\n",
      "['수병원']\n",
      "['수여성병원']\n",
      "['수원다나음한방병원']\n",
      "['수원모커리한방병원']\n",
      "['수원브이아이피요양병원']\n",
      "['수원삼성요양병원']\n",
      "['수원센트럴요양병원']\n",
      "['수원요양병원']\n",
      "['수원우노병원']\n",
      "['수원자생한방병원']\n",
      "['수원중앙병원']\n",
      "['수원하나요양병원']\n",
      "['수원행복한요양병원']\n",
      "['수원효요양병원']\n",
      "['쉬즈메디병원']\n",
      "['시온여성병원']\n",
      "['아주다남병원']\n",
      "['아주대학교병원']\n",
      "['아주편한병원']\n",
      "['에덴메디여성병원']\n",
      "['연세모아요양병원']\n",
      "['연세수요양병원']\n",
      "['연세엘림요양병원']\n",
      "['영통효요양병원']\n",
      "['우리병원']\n",
      "['위더스요양병원']\n",
      "['윈산부인과병원']\n",
      "['윤강병원']\n",
      "['의료법인', '녹산의료재단동수원병원']\n",
      "['의료법인', '명인의료재단', '화홍병원']\n",
      "['의료법인', '사랑나무의료재단', '서수원병원']\n",
      "['의료법인', '사랑나무의료재단', '서수원요양병원']\n",
      "['의료법인', '송설의료재단', '수원백병원']\n",
      "['의료법인', '장산의료재단이춘택병원']\n",
      "['의료법인', '토마스의료재단', '윌스기념병원']\n",
      "['의료법인', '한성재단', 'S서울병원']\n",
      "['의료법인녹산의료재단동수원한방병원']\n",
      "['이안한방병원']\n",
      "['정답병원']\n",
      "['제이에스병원']\n",
      "['참결한방병원']\n",
      "['초이스병원']\n",
      "['태온한방병원']\n",
      "['하나병원']\n",
      "['학교법인', '대우학원', '아주대학교요양병원']\n",
      "['한독병원']\n",
      "['한빛현요양병원']\n",
      "['해성병원']\n",
      "['효정요양병원']\n",
      "['경기도립노인전문시흥병원']\n",
      "['경희도담한방병원']\n",
      "['다온한방병원']\n",
      "['대원한방병원']\n",
      "['배곧한방병원']\n",
      "['베드로요양병원']\n",
      "['베스트한방병원']\n",
      "['세안한방병원']\n",
      "['시화한방병원']\n",
      "['시흥더봄요양병원']\n",
      "['시흥미소한방병원']\n",
      "['시흥서울대효요양병원']\n",
      "['시흥솔병원']\n",
      "['시흥은계한방병원']\n",
      "['시흥자인한방병원']\n",
      "['시흥한방병원']\n",
      "['신천제일요양병원']\n",
      "['에스한방병원']\n",
      "['예치과병원']\n",
      "['월곶한방병원']\n",
      "['의료법인', '나누리의료재단', '효성한방병원']\n",
      "['의료법인', '남촌의료재단', '시화병원']\n",
      "['의료법인', '녹향의료재단', '신천연합병원']\n",
      "['의료법인', '능곡의료재단', '능곡요양병원']\n",
      "['의료법인', '석경의료재단', '센트럴병원']\n",
      "['의료법인', '소애의료재단', '한울노인요양병원']\n",
      "['의료법인', '에스앤케이의료재단', '시흥에스앤케이요양병원']\n",
      "['의료법인', '영명의료재단', '혜민한방병원']\n",
      "['의료법인', '자운의료재단', '강남요양병원']\n",
      "['의료법인', '정심의료재단', '한마음요양병원']\n",
      "['의료법인', '참사랑', '의료재단', '시흥', '참사랑', '요양병원']\n",
      "['의료법인', '풍진의료재단', '스마트허브병원']\n",
      "['의료법인석경의료재단', '센트럴요양병원']\n",
      "['장현한방병원']\n",
      "['흥케이병원']\n",
      "['(의)대선의료재단으뜸요양병원']\n",
      "['고든병원']\n",
      "['고려대학교의과대학부속안산병원']\n",
      "['궁치과병원']\n",
      "['근로복지공단안산병원']\n",
      "['기둥병원']\n",
      "['늘푸른한방병원']\n",
      "['대아의료재단한도병원']\n",
      "['더드림의료소비자생활협동조합미래요양병원']\n",
      "['동산한방병원']\n",
      "['동안산병원']\n",
      "['동의한방병원']\n",
      "['두손병원']\n",
      "['마루한방병원']\n",
      "['바른한방병원']\n",
      "['박진영병원']\n",
      "['백비한방병원']\n",
      "['백운한방병원']\n",
      "['베스트힐스요양병원']\n",
      "['서연의료소비자생활협동조합', '성심한방병원']\n",
      "['서연의료소비자생활협동조합본원한방병원']\n",
      "['성은병원']\n",
      "['세창의료재단우성여성병원']\n",
      "['세화병원']\n",
      "['아너스요양병원']\n",
      "['안산21세기병원']\n",
      "['안산나래요양병원']\n",
      "['안산수한방병원']\n",
      "['안산시립노인전문병원']\n",
      "['안산연세병원']\n",
      "['안산예치과병원']\n",
      "['안산자생한방병원']\n",
      "['안산조은요양병원']\n",
      "['안산중앙요양병원']\n",
      "['안산튼튼병원']\n",
      "['안산효요양병원']\n",
      "['안성훈한방병원']\n",
      "['약산애한방병원']\n",
      "['에이스병원']\n",
      "['연세서울병원']\n",
      "['온누리병원']\n",
      "['우리요양병원']\n",
      "['우성요양병원']\n",
      "['의료법인', '플러스의료재단', '단원병원']\n",
      "['의료법인', '효송의료재단', '서안산노인전문병원']\n",
      "['의료법인더존의료재단', '경희요양병원']\n",
      "['의료법인서전의료재단한사랑병원']\n",
      "['의료법인칠석의료재단사랑의병원']\n",
      "['의료법인해인의료재단', '해인요양병원']\n",
      "['의료법인호원의료재단호원요양병원']\n",
      "['장동욱병원']\n",
      "['제이케이병원']\n",
      "['치항병원']\n",
      "['케이에스병원']\n",
      "['탑치과병원']\n",
      "['튼튼건강의료소비자생협누리한방병원']\n",
      "['하눌한방병원']\n",
      "['한국치과병원']\n",
      "['한빛여성병원']\n",
      "['해솔한방병원']\n",
      "['호수요양병원']\n",
      "['경기도의료원', '안성병원']\n",
      "['대건효도병원']\n",
      "['동안성병원']\n",
      "['미소플란트치과병원']\n",
      "['성요셉병원']\n",
      "['안성강남한방병원']\n",
      "['안성동인병원']\n",
      "['안성동인요양병원']\n",
      "['안성성모병원']\n",
      "['안성요양병원']\n",
      "['안성현대요양병원']\n",
      "['인선요양병원']\n",
      "['파라밀요양병원']\n",
      "['허리편한', '병원']\n",
      "['365매일한방병원']\n",
      "['국제나은병원']\n",
      "['그린재활의학과병원']\n",
      "['대윤한방병원']\n",
      "['라온한방병원']\n",
      "['메디하임효병원']\n",
      "['민정형외과병원']\n",
      "['바른몸', '한방병원']\n",
      "['본병원']\n",
      "['봄빛병원']\n",
      "['서울나우병원']\n",
      "['선진병원(요양병원)']\n",
      "['성심힐요양병원']\n",
      "['아벤스병원']\n",
      "['안양서울', '대효요양병원']\n",
      "['안양요양병원']\n",
      "['안양한방병원']\n",
      "['원천의료재단', '중화요양병원']\n",
      "['원천의료재단', '중화한방병원']\n",
      "['의료법인', '토마스의료재단', '안양윌스기념병원']\n",
      "['의료법인', '해뜨는', '요양병원']\n",
      "['의료법인서원의료재단김형근예병원']\n",
      "['인산의료재단', '메트로병원']\n",
      "['자강한방병원']\n",
      "['평촌예치과병원']\n",
      "['평촌우리병원']\n",
      "['평촌중앙병원']\n",
      "['하늘빛재활의학병원']\n",
      "['한림대학교성심병원']\n",
      "['효산의료재단', '샘여성병원']\n",
      "['효산의료재단', '안양샘병원']\n",
      "['경기웰니스요양병원']\n",
      "['국군양주병원']\n",
      "['나무정원여성병원']\n",
      "['돌담요양병원']\n",
      "['서울', '대효', '요양병원']\n",
      "['송추요양병원']\n",
      "['송추정신병원(성람재단)']\n",
      "['송추효사랑요양병원']\n",
      "['송추효요양병원']\n",
      "['신안요양병원']\n",
      "['실로암노인전문병원']\n",
      "['양주가람한방병원']\n",
      "['양주소망병원']\n",
      "['양주예쓰병원']\n",
      "['양주우리병원']\n",
      "['양주큰길요양병원']\n",
      "['양주한국병원']\n",
      "['에스엘서울병원']\n",
      "['연세요양병원']\n",
      "['예쓰요양병원']\n",
      "['국립교통재활병원']\n",
      "['다나암요양병원']\n",
      "['브니엘노인전문병원']\n",
      "['생생우리누리요양병원']\n",
      "['양수삼성요양병원']\n",
      "['양평병원']\n",
      "['양평엘한방병원']\n",
      "['양평요양병원']\n",
      "['양평효노인전문병원']\n",
      "['한길요양병원']\n",
      "['홍영노인전문병원']\n",
      "['경기도립노인전문여주병원']\n",
      "['대암의료재단시애노병원']\n",
      "['대진요양병원']\n",
      "['베스트요양병원']\n",
      "['상경원인터메드요양병원']\n",
      "['세종여주병원']\n",
      "['여주나무요양병원']\n",
      "['여주세민병원']\n",
      "['여주순영병원']\n",
      "['연세새로운병원']\n",
      "['중앙한방병원']\n",
      "['의료법인이정의료재단효사랑병원']\n",
      "['버팀병원']\n",
      "['삼성본병원']\n",
      "['서울어린이병원']\n",
      "['세교요양병원']\n",
      "['세마그린요양병원']\n",
      "['송호욱병원']\n",
      "['스타트요양병원']\n",
      "['오산노인전문병원']\n",
      "['오산메디컬재활요양병원']\n",
      "['오산세종병원']\n",
      "['오산신경정신병원']\n",
      "['오산한국병원']\n",
      "['우현병원']\n",
      "['웰봄병원']\n",
      "['유림치과병원']\n",
      "['이안한방병원']\n",
      "['조은오산병원']\n",
      "['평안한사랑병원']\n",
      "['(의)수지의료재단수지요양병원']\n",
      "['(의)영문의료재단', '다보스병원']\n",
      "['(의)유일재단', '하나애요양병원']\n",
      "['(의)현당의료재단', '늘봄요양병원']\n",
      "['(의)효심의료재단', '용인서울병원']\n",
      "['감인의료재단', '신갈백세요양병원']\n",
      "['강남병원']\n",
      "['강동요양병원']\n",
      "['경기도립노인전문용인병원']\n",
      "['경희나로한방병원']\n",
      "['광교참좋은요양병원']\n",
      "['김상수병원']\n",
      "['단국대학교', '치과대학', '죽전치과병원']\n",
      "['대한통합한방병원']\n",
      "['더원요양병원']\n",
      "['동백성루카병원']\n",
      "['동백요양병원']\n",
      "['라현한방병원']\n",
      "['로하스용인요양병원']\n",
      "['린병원']\n",
      "['마음심는치과병원']\n",
      "['메디하임효요양병원']\n",
      "['명주병원']\n",
      "['베스트안요양병원']\n",
      "['새로운경기도립정신병원']\n",
      "['샘물호스피스병원']\n",
      "['서울시립', '백암정신병원']\n",
      "['서울예스병원']\n",
      "['에제르', '요양병원']\n",
      "['엠플러스병원']\n",
      "['연세대학교', '의과대학', '용인세브란스병원']\n",
      "['연세프라임병원']\n",
      "['예영한방병원']\n",
      "['온누리요양병원']\n",
      "['용인S한방병원']\n",
      "['용인목토요양병원']\n",
      "['용인서울요양병원']\n",
      "['용인연세병원']\n",
      "['용인이안한방병원']\n",
      "['용인정신병원']\n",
      "['용인제일메디병원']\n",
      "['용인한방병원']\n",
      "['용인효요양병원']\n",
      "['우리호병원']\n",
      "['의료법인', '상록의료재단', '굿모닝한방병원']\n",
      "['의료법인광화의료재단러스크병원']\n",
      "['의료법인광화의료재단하워드힐병원']\n",
      "['이음병원']\n",
      "['조은손병원']\n",
      "['컬럼비아치과병원']\n",
      "['케어스힐요양병원']\n",
      "['포브스요양병원']\n",
      "['효자병원']\n",
      "['흥덕우리요양병원']\n",
      "['다사랑중앙병원']\n",
      "['부곡치과병원']\n",
      "['서울와이즈요양병원']\n",
      "['아가페의료재단', '시티병원']\n",
      "['우리효요양병원']\n",
      "['의료법인', '계요의료재단', '계요노인전문병원']\n",
      "['의료법인', '계요의료재단', '계요병원']\n",
      "['의료법인대성의료재단', '한림예요양병원']\n",
      "['가톨릭대학교의정부성모병원']\n",
      "['경기도의료원의정부병원']\n",
      "['더드림요양병원']\n",
      "['로체스터재활병원']\n",
      "['리하트병원']\n",
      "['마스터플러스병원']\n",
      "['바를정한방병원']\n",
      "['새하늘병원']\n",
      "['서울척병원']\n",
      "['센텀병원']\n",
      "['신여성병원']\n",
      "['아이엠요양병원']\n",
      "['연세고든병원']\n",
      "['연세오케이병원']\n",
      "['우리조은한방병원']\n",
      "['우먼피아여성병원']\n",
      "['의료법인', '송화의료재단', '조은요양병원']\n",
      "['의료법인', '영동의료재단', '의정부백병원']\n",
      "['의료법인성베드로병원']\n",
      "['의정부', '모커리한방병원']\n",
      "['의정부민락요양병원']\n",
      "['의정부연세요양병원']\n",
      "['의정부요양병원']\n",
      "['의정부쾌척한방병원']\n",
      "['의정부힐링스병원']\n",
      "['자황한방병원']\n",
      "['중앙효요양병원']\n",
      "['참튼튼병원']\n",
      "['청우병원']\n",
      "['추병원']\n",
      "['카네이션요양병원']\n",
      "['탑연세치과병원']\n",
      "['튼튼어린이병원']\n",
      "['학교법인', '을지학원', '의정부을지대학교병원']\n",
      "['한도한방병원']\n",
      "['한서중앙병원']\n",
      "['해동한방병원']\n",
      "['호원병원']\n",
      "['경기도의료원', '이천병원']\n",
      "['바른병원']\n",
      "['성안드레아병원']\n",
      "['우리요양병원']\n",
      "['의료법인', '목민의료재단', '장호원요양병원']\n",
      "['의료법인양지의료재단양지요양병원']\n",
      "['이천', '연세스위트치과병원']\n",
      "['이천소망병원']\n",
      "['이천소망요양병원']\n",
      "['이천엘리야병원']\n",
      "['이천파티마병원']\n",
      "['이천효요양병원']\n",
      "['추새로병원']\n",
      "['한국관광대학', '부설', '노인전문병원']\n",
      "['경기도의료원파주병원']\n",
      "['광탄현대병원']\n",
      "['기대플러스병원']\n",
      "['동서한방병원']\n",
      "['메디인병원']\n",
      "['메디힐요양병원']\n",
      "['무척조은병원']\n",
      "['문산중앙병원']\n",
      "['미소래병원']\n",
      "['민들레병원']\n",
      "['뷰티앤디지털치과병원']\n",
      "['브이아이씨365병원']\n",
      "['서울선(SUN)치과병원']\n",
      "['세계로요양병원']\n",
      "['소망요양병원']\n",
      "['스타한방병원']\n",
      "['시민요양병원']\n",
      "['연세나을암요양병원']\n",
      "['연세요양병원']\n",
      "['예담요양병원']\n",
      "['우리애요양병원']\n",
      "['운정서울대효요양병원']\n",
      "['운정와이즈병원']\n",
      "['운정한강요양병원']\n",
      "['운정한방병원']\n",
      "['월산암요양병원']\n",
      "['인본병원']\n",
      "['자성대', '요양병원']\n",
      "['자유로요양병원']\n",
      "['조앤조숲요양병원']\n",
      "['참나무요양병원']\n",
      "['코키아병원']\n",
      "['큰나무요양병원']\n",
      "['파주드림요양병원']\n",
      "['파주로하스요양병원']\n",
      "['파주미래아동병원']\n",
      "['파주삼성요양병원']\n",
      "['파주성모요양병원']\n",
      "['파주시티요양병원']\n",
      "['퍼스트보람요양병원']\n",
      "['한사랑요양병원']\n",
      "['경기도립노인전문', '평택병원']\n",
      "['도솔한방병원']\n",
      "['사랑한방병원']\n",
      "['서울요양병원']\n",
      "['서울제일병원']\n",
      "['서울제일병원']\n",
      "['성심중앙병원']\n",
      "['스마일본병원']\n",
      "['연세다움병원']\n",
      "['연세로하스요양병원']\n",
      "['의료법인', '갈렌의료재단', '박병원']\n",
      "['의료법인', '박애의료재단', '박애병원']\n",
      "['의료법인', '설백의료재단', '평택국제요양병원']\n",
      "['의료법인', '양진의료재단', '평택성모병원']\n",
      "['의료법인', '양진의료재단', '한빛성세노인전문병원']\n",
      "['의료법인', '청파의료재단', '송탄중앙병원']\n",
      "['의료법인', '혜담의료재단', '평택이편안요양병원']\n",
      "['의료법인백성의료재단', '안중백병원']\n",
      "['의료법인백송의료재단', '굿모닝병원']\n",
      "['의료법인양진의료재단', '성세아이들병원']\n",
      "['의료법인자비의료재단', '더나은요양병원']\n",
      "['지제도솔한방병원']\n",
      "['평택21세기병원']\n",
      "['평택비전병원']\n",
      "['평택삼성요양병원']\n",
      "['평택우리병원']\n",
      "['평택제니스요양병원']\n",
      "['평택준한방병원']\n",
      "['평택한방병원']\n",
      "['강병원']\n",
      "['경기도의료원포천병원']\n",
      "['국군포천병원']\n",
      "['의료법인', '범문의료재단', '진요양병원']\n",
      "['의료법인일심의료재단우리병원']\n",
      "['인화병원']\n",
      "['포천새맘요양병원']\n",
      "['포천힐링요양병원']\n",
      "['한내', '가족처럼', '요양병원']\n",
      "['화현요양병원']\n",
      "['강동서울대효요양병원']\n",
      "['강동스마일요양병원']\n",
      "['금병원']\n",
      "['더', '바른병원']\n",
      "['라이프요양병원']\n",
      "['미사강변요양병원']\n",
      "['미사경희한방병원']\n",
      "['미사다나음한방병원']\n",
      "['미사바른병원']\n",
      "['미사튼튼병원']\n",
      "['유나이티드병원']\n",
      "['청봉병원']\n",
      "['하남S병원']\n",
      "['하남샬롬요양병원']\n",
      "['하남요양병원']\n",
      "['햇살병원']\n",
      "['근로복지공단', '경기요양병원']\n",
      "['나이스병원']\n",
      "['남양한방병원']\n",
      "['더퍼스트요양병원']\n",
      "['동탄2튼튼한방병원']\n",
      "['동탄더하다한방병원']\n",
      "['동탄성모병원']\n",
      "['동탄센트럴치과병원']\n",
      "['동탄시티병원']\n",
      "['메타메디병원']\n",
      "['바르다임병원']\n",
      "['베스트아이들병원']\n",
      "['사회복지법인', '상록원', '상록요양병원']\n",
      "['삼성우리요양병원']\n",
      "['새봄병원']\n",
      "['새샘병원']\n",
      "['센트럴아동병원']\n",
      "['송산한방병원']\n",
      "['수앤수병원']\n",
      "['연세나은요양병원']\n",
      "['의료법인', '승민의료재단', '화성초록병원']\n",
      "['의료법인', '시몬의료재단', '우리가병원']\n",
      "['의료법인', '아주효성의료재단', '효성요양병원']\n",
      "['의료법인', '원광의료재단', '원광종합병원']\n",
      "['의료법인', '은혜와감사의료재단', '향남스마트병원']\n",
      "['의료법인', '은혜와감사의료재단', '화성중앙종합병원']\n",
      "['의료법인', '일선의료재단', '화성현대요양병원']\n",
      "['의료법인상운의료재단', '동탄제일병원']\n",
      "['의료법인정도의료재단', '화성미소요양병원']\n",
      "['제일요양병원']\n",
      "['튼튼한방병원']\n",
      "['한독한방병원']\n",
      "['한림대학교동탄성심병원']\n",
      "['한송한방병원']\n",
      "['화성디에스병원']\n",
      "['화성유일병원']\n",
      "['화성한방병원']\n",
      "['화성해인요양병원']\n",
      "['희망찬병원']\n"
     ]
    },
    {
     "data": {
      "text/plain": [
       "'37.65116898864379'"
      ]
     },
     "metadata": {},
     "output_type": "display_data"
    },
    {
     "data": {
      "text/plain": [
       "'126.87404428861446'"
      ]
     },
     "metadata": {},
     "output_type": "display_data"
    }
   ],
   "source": [
    "#accept에서 띄어쓰기 빼보기  \n",
    "\n",
    "#백업용    \n",
    "\n",
    "import requests\n",
    "import pandas as pd\n",
    "from time import sleep\n",
    "global place_dropx\n",
    "global place_dopry\n",
    "\n",
    " #place_dropx = places[0]['y']\n",
    "  #  place_dropy = places[0]['x']\n",
    "   # if place_dropx == None:\n",
    "    #    place_dropx = 2\n",
    "     #   place_dropy = 2\n",
    "      #  return place_dropx, place_dropy\n",
    "    #else:\n",
    "     #   place_dropx = places[0]['y']\n",
    "      #  place_dropy = places[0]['x']\n",
    "       # return place_dropx, place_dropy\n",
    "\n",
    "#NM의 타입은 STR\n",
    "\n",
    "#걸러야 될 글자 '법인' '재단'\n",
    "\n",
    "# 카카오API를 사용하여 주소->좌표 변환\n",
    "#카카오 API를 돌려보니 위도랑 경도가 서로 바뀌어서 나와서 코드로 다시 돌려줌. \n",
    "import requests, json\n",
    "API = '카카오API'\n",
    "def get_location(NM):\n",
    "    global place_dropx\n",
    "    global place_dropy \n",
    "    a = NM.split(' ')\n",
    "    print(a)\n",
    "\n",
    "        \n",
    "    url = 'https://dapi.kakao.com/v2/local/search/keyword.json?query={}'.format(NM)\n",
    "    headers = {\n",
    "            \"Authorization\": \"KakaoAK 코드\"\n",
    "    }\n",
    "    places = requests.get(url, headers = headers).json()['documents']\n",
    "\n",
    "\n",
    "    \n",
    "\n",
    "    \n",
    "\n",
    "#places의 타입은 리스트임  \n",
    "global place_dropx\n",
    "global place_dropy\n",
    "pd.set_option('display.max_rows', None)\n",
    "pd.set_option('display.max_columns', None)\n",
    "df = pd.read_csv('C:/Users/김동혁/hyeok python/project file/medicback.csv', encoding = 'cp949')\n",
    "df_drop_sample = df[['시군명','사업장명','소재지시설전화번호','위도','경도','소재지도로명주소','영업상태명']] \n",
    "df_ddrop_sample = df_drop_sample[df_drop_sample['영업상태명'].str.contains('영업')]\n",
    "df_fn = df_ddrop_sample.reset_index(drop=True)\n",
    "address_fix = df_fn[['위도','경도','사업장명']]\n",
    "address_api = address_fix[['사업장명']]\n",
    "\n",
    "for item in range(len(address_api)): \n",
    "    get_location((address_api['사업장명'][item]))\n",
    "display(place_dropx,place_dropy)"
   ]
  },
  {
   "cell_type": "code",
   "execution_count": 1,
   "id": "70d34b1d-20f8-446b-9f9f-e6eff5e2d87c",
   "metadata": {},
   "outputs": [
    {
     "ename": "NameError",
     "evalue": "name 'NM' is not defined",
     "output_type": "error",
     "traceback": [
      "\u001b[1;31m---------------------------------------------------------------------------\u001b[0m",
      "\u001b[1;31mNameError\u001b[0m                                 Traceback (most recent call last)",
      "Input \u001b[1;32mIn [1]\u001b[0m, in \u001b[0;36m<cell line: 1>\u001b[1;34m()\u001b[0m\n\u001b[1;32m----> 1\u001b[0m url \u001b[38;5;241m=\u001b[39m \u001b[38;5;124m'\u001b[39m\u001b[38;5;124mhttps://dapi.kakao.com/v2/local/search/keyword.json?query=\u001b[39m\u001b[38;5;132;01m{}\u001b[39;00m\u001b[38;5;124m'\u001b[39m\u001b[38;5;241m.\u001b[39mformat(\u001b[43mNM\u001b[49m)\n\u001b[0;32m      2\u001b[0m headers \u001b[38;5;241m=\u001b[39m {\n\u001b[0;32m      3\u001b[0m     \u001b[38;5;124m\"\u001b[39m\u001b[38;5;124mAuthorization\u001b[39m\u001b[38;5;124m\"\u001b[39m: \u001b[38;5;124m\"\u001b[39m\u001b[38;5;124m\"\u001b[39m\n\u001b[0;32m      4\u001b[0m }\n\u001b[0;32m      5\u001b[0m places \u001b[38;5;241m=\u001b[39m requests\u001b[38;5;241m.\u001b[39mget(url, headers \u001b[38;5;241m=\u001b[39m headers)\u001b[38;5;241m.\u001b[39mjson()[\u001b[38;5;124m'\u001b[39m\u001b[38;5;124mdocuments\u001b[39m\u001b[38;5;124m'\u001b[39m]\n",
      "\u001b[1;31mNameError\u001b[0m: name 'NM' is not defined"
     ]
    }
   ],
   "source": [
    "        url = 'https://dapi.kakao.com/v2/local/search/keyword.json?query={}'.format(NM)\n",
    "        headers = {\n",
    "            \"Authorization\": \"\"\n",
    "        }\n",
    "        places = requests.get(url, headers = headers).json()['documents']\n",
    "        place_dropx = places[0]['y']\n",
    "        place_dropy = places[0]['x']"
   ]
  },
  {
   "cell_type": "code",
   "execution_count": 28,
   "id": "bb7e2198-7b6f-4937-aa85-27d06dbd9968",
   "metadata": {},
   "outputs": [
    {
     "name": "stdin",
     "output_type": "stream",
     "text": [
      "회원가입을 하시겠습니까? ,\n",
      "네\n",
      "아니오\n",
      "입력: 네\n",
      "ID를 입력하세요 1\n",
      "Password를 입력하세요 2\n",
      "이름을 입력하세요 3\n",
      "아이디를 입력하세요 1\n",
      "비밀번호를 입력하세요 2\n"
     ]
    },
    {
     "ename": "ValueError",
     "evalue": "The truth value of a DataFrame is ambiguous. Use a.empty, a.bool(), a.item(), a.any() or a.all().",
     "output_type": "error",
     "traceback": [
      "\u001b[1;31m---------------------------------------------------------------------------\u001b[0m",
      "\u001b[1;31mValueError\u001b[0m                                Traceback (most recent call last)",
      "Input \u001b[1;32mIn [28]\u001b[0m, in \u001b[0;36m<cell line: 38>\u001b[1;34m()\u001b[0m\n\u001b[0;32m     36\u001b[0m assign_user()\n\u001b[0;32m     37\u001b[0m save_infor()\n\u001b[1;32m---> 38\u001b[0m \u001b[43mlogin_user\u001b[49m\u001b[43m(\u001b[49m\u001b[43m)\u001b[49m\n",
      "Input \u001b[1;32mIn [28]\u001b[0m, in \u001b[0;36mlogin_user\u001b[1;34m()\u001b[0m\n\u001b[0;32m     30\u001b[0m log_id \u001b[38;5;241m=\u001b[39m \u001b[38;5;28minput\u001b[39m(\u001b[38;5;124m'\u001b[39m\u001b[38;5;124m아이디를 입력하세요\u001b[39m\u001b[38;5;124m'\u001b[39m)\n\u001b[0;32m     31\u001b[0m log_pd \u001b[38;5;241m=\u001b[39m \u001b[38;5;28minput\u001b[39m(\u001b[38;5;124m'\u001b[39m\u001b[38;5;124m비밀번호를 입력하세요\u001b[39m\u001b[38;5;124m'\u001b[39m)\n\u001b[1;32m---> 32\u001b[0m \u001b[38;5;28;01mif\u001b[39;00m \u001b[43m(\u001b[49m\u001b[43muser_file\u001b[49m\u001b[43m[\u001b[49m\u001b[43muser_file\u001b[49m\u001b[43m[\u001b[49m\u001b[38;5;124;43m'\u001b[39;49m\u001b[38;5;124;43mID\u001b[39;49m\u001b[38;5;124;43m'\u001b[39;49m\u001b[43m]\u001b[49m\u001b[38;5;241;43m==\u001b[39;49m\u001b[43m \u001b[49m\u001b[43mlog_id\u001b[49m\u001b[43m]\u001b[49m\u001b[43m)\u001b[49m\u001b[43m \u001b[49m\u001b[38;5;241;43m==\u001b[39;49m\u001b[43m \u001b[49m\u001b[38;5;28;43;01mTrue\u001b[39;49;00m \u001b[38;5;129;01mand\u001b[39;00m (user_file[user_file[\u001b[38;5;124m'\u001b[39m\u001b[38;5;124mPASSWORD\u001b[39m\u001b[38;5;124m'\u001b[39m]\u001b[38;5;241m==\u001b[39mlog_pd]) \u001b[38;5;241m==\u001b[39m \u001b[38;5;28;01mTrue\u001b[39;00m :\n\u001b[0;32m     33\u001b[0m     \u001b[38;5;28mprint\u001b[39m(\u001b[38;5;124m\"\u001b[39m\u001b[38;5;124m로그인이 성공하셨습니다.\u001b[39m\u001b[38;5;124m\"\u001b[39m)\n\u001b[0;32m     34\u001b[0m \u001b[38;5;28;01melse\u001b[39;00m:\n",
      "File \u001b[1;32mC:\\python\\lib\\site-packages\\pandas\\core\\generic.py:1527\u001b[0m, in \u001b[0;36mNDFrame.__nonzero__\u001b[1;34m(self)\u001b[0m\n\u001b[0;32m   1525\u001b[0m \u001b[38;5;129m@final\u001b[39m\n\u001b[0;32m   1526\u001b[0m \u001b[38;5;28;01mdef\u001b[39;00m \u001b[38;5;21m__nonzero__\u001b[39m(\u001b[38;5;28mself\u001b[39m):\n\u001b[1;32m-> 1527\u001b[0m     \u001b[38;5;28;01mraise\u001b[39;00m \u001b[38;5;167;01mValueError\u001b[39;00m(\n\u001b[0;32m   1528\u001b[0m         \u001b[38;5;124mf\u001b[39m\u001b[38;5;124m\"\u001b[39m\u001b[38;5;124mThe truth value of a \u001b[39m\u001b[38;5;132;01m{\u001b[39;00m\u001b[38;5;28mtype\u001b[39m(\u001b[38;5;28mself\u001b[39m)\u001b[38;5;241m.\u001b[39m\u001b[38;5;18m__name__\u001b[39m\u001b[38;5;132;01m}\u001b[39;00m\u001b[38;5;124m is ambiguous. \u001b[39m\u001b[38;5;124m\"\u001b[39m\n\u001b[0;32m   1529\u001b[0m         \u001b[38;5;124m\"\u001b[39m\u001b[38;5;124mUse a.empty, a.bool(), a.item(), a.any() or a.all().\u001b[39m\u001b[38;5;124m\"\u001b[39m\n\u001b[0;32m   1530\u001b[0m     )\n",
      "\u001b[1;31mValueError\u001b[0m: The truth value of a DataFrame is ambiguous. Use a.empty, a.bool(), a.item(), a.any() or a.all()."
     ]
    }
   ],
   "source": [
    "##### import pandas as pd\n",
    "global Id\n",
    "global Password\n",
    "global Username\n",
    "def assign_user():\n",
    "    global Id\n",
    "    global Password\n",
    "    global Username\n",
    "    assign =input('회원가입을 하시겠습니까? ,\\n네\\n아니오\\n입력:')\n",
    "    if assign == '네':\n",
    "        Id=  input('ID를 입력하세요')\n",
    "        Password=  input('Password를 입력하세요')\n",
    "        Username = input('이름을 입력하세요')\n",
    "        save_infor()\n",
    "    else : \n",
    "        print('회원가입을 중단합니다')\n",
    "\n",
    "def save_infor():\n",
    "    global Id\n",
    "    global Password\n",
    "    global Username\n",
    "    global user_file\n",
    "    user_file = pd.DataFrame({'ID' : Id, 'PASSWORD' : Password}, index = [username])\n",
    "    \n",
    "def login_user():\n",
    "    global Id\n",
    "    global Password\n",
    "    global username\n",
    "    global user_file\n",
    "    log_id = input('아이디를 입력하세요')\n",
    "    log_pd = input('비밀번호를 입력하세요')\n",
    "    if (user_file[user_file['ID']== log_id]) == True and (user_file[user_file['PASSWORD']==log_pd]) == True :\n",
    "        print(\"로그인이 성공하셨습니다.\")\n",
    "    else:\n",
    "        print(\"회원정보가 일치하지 않습니다.\")\n",
    "assign_user()\n",
    "save_infor()\n",
    "login_user()\n"
   ]
  },
  {
   "cell_type": "code",
   "execution_count": null,
   "id": "050a9363-f39a-4a03-bc03-6bcd22d1a9f4",
   "metadata": {},
   "outputs": [],
   "source": []
  }
 ],
 "metadata": {
  "kernelspec": {
   "display_name": "Python 3 (ipykernel)",
   "language": "python",
   "name": "python3"
  },
  "language_info": {
   "codemirror_mode": {
    "name": "ipython",
    "version": 3
   },
   "file_extension": ".py",
   "mimetype": "text/x-python",
   "name": "python",
   "nbconvert_exporter": "python",
   "pygments_lexer": "ipython3",
   "version": "3.9.12"
  }
 },
 "nbformat": 4,
 "nbformat_minor": 5
}
